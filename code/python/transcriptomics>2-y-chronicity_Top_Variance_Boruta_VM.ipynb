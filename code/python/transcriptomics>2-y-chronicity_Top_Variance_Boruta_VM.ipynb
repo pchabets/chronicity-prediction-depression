{
 "cells": [
  {
   "cell_type": "markdown",
   "id": "imperial-teens",
   "metadata": {},
   "source": [
    "### For futher info on BorutaPy package see: <br><br>https://github.com/scikit-learn-contrib/boruta_py \n",
    "##### Articles:\n",
    "#### BorutaPy: <br> https://www.jstatsoft.org/article/view/v036i11\n",
    "#### Robustness of RF-based feature selection: <br> https://bmcbioinformatics.biomedcentral.com/articles/10.1186/1471-2105-15-8 <br>\n"
   ]
  },
  {
   "cell_type": "code",
   "execution_count": 39,
   "id": "false-disclaimer",
   "metadata": {},
   "outputs": [],
   "source": [
    "import os\n",
    "import pandas as pd\n",
    "import numpy as np\n",
    "import seaborn as sns\n",
    "import matplotlib.pyplot as plt\n"
   ]
  },
  {
   "cell_type": "code",
   "execution_count": 40,
   "id": "naked-segment",
   "metadata": {},
   "outputs": [],
   "source": [
    "os.chdir(\"/home/pchabets/Dropbox/STRESS_INDEX/\")"
   ]
  },
  {
   "cell_type": "markdown",
   "id": "intermediate-premium",
   "metadata": {},
   "source": [
    "### Load in top-variance-selected transcriptomics data"
   ]
  },
  {
   "cell_type": "code",
   "execution_count": 41,
   "id": "endangered-notion",
   "metadata": {},
   "outputs": [],
   "source": [
    "expr_train = pd.read_csv(\"scripts/VM/Python/output/transcriptomics_variance_selection_top_5000_TRAIN.csv\")\n",
    "expr_train = expr_train.iloc[:,1:]\n",
    "expr_test = pd.read_csv(\"scripts/VM/Python/output/transcriptomics_variance_selection_top_5000_TEST.csv\")\n",
    "expr_test = expr_test.iloc[:,1:]"
   ]
  },
  {
   "cell_type": "markdown",
   "id": "personal-broad",
   "metadata": {},
   "source": [
    "### Use Boruta for variabe selection"
   ]
  },
  {
   "cell_type": "markdown",
   "id": "legislative-murder",
   "metadata": {},
   "source": [
    "#### Turn labels into 0's and 1's \n",
    "non-remitted = 0, remitted = 1"
   ]
  },
  {
   "cell_type": "code",
   "execution_count": 42,
   "id": "purple-breakdown",
   "metadata": {},
   "outputs": [],
   "source": [
    "#not_remitted = 0, remitted = 1\n",
    "\n",
    "from sklearn.preprocessing import LabelEncoder\n",
    "lbl = LabelEncoder() \n",
    "expr_train['Remitted_depression'] = lbl.fit_transform(expr_train['Remitted_depression'])"
   ]
  },
  {
   "cell_type": "code",
   "execution_count": 43,
   "id": "narrow-swiss",
   "metadata": {},
   "outputs": [],
   "source": [
    "# Base Boruta feature selection only on train set - X and y are from trainset only\n",
    "X = expr_train.drop(['Remitted_depression', 'pident'], inplace=False, axis=1)\n",
    "y = expr_train['Remitted_depression']"
   ]
  },
  {
   "cell_type": "markdown",
   "id": "nuclear-delaware",
   "metadata": {},
   "source": [
    "#### initialize Boruta"
   ]
  },
  {
   "cell_type": "code",
   "execution_count": 44,
   "id": "peripheral-nurse",
   "metadata": {},
   "outputs": [],
   "source": [
    "# set max depth and percentage\n",
    "max_depth = 3\n",
    "percentage = 95"
   ]
  },
  {
   "cell_type": "code",
   "execution_count": 45,
   "id": "invalid-specific",
   "metadata": {},
   "outputs": [],
   "source": [
    "from boruta import BorutaPy\n",
    "from sklearn.ensemble import RandomForestClassifier"
   ]
  },
  {
   "cell_type": "code",
   "execution_count": 46,
   "id": "involved-corner",
   "metadata": {},
   "outputs": [],
   "source": [
    "rf = RandomForestClassifier(\n",
    "    n_jobs=14,\n",
    "    max_depth = max_depth,\n",
    "    class_weight='balanced',\n",
    "    verbose=1\n",
    ")"
   ]
  },
  {
   "cell_type": "code",
   "execution_count": 47,
   "id": "established-juice",
   "metadata": {},
   "outputs": [],
   "source": [
    "feat_selector = BorutaPy(\n",
    "    estimator = rf,\n",
    "    n_estimators='auto',\n",
    "    max_iter=1000,\n",
    "    perc=percentage,\n",
    "#     random_state=101,\n",
    "    verbose=2\n",
    ")"
   ]
  },
  {
   "cell_type": "markdown",
   "id": "closing-herald",
   "metadata": {},
   "source": [
    "#### fit Boruta"
   ]
  },
  {
   "cell_type": "code",
   "execution_count": 48,
   "id": "worst-letter",
   "metadata": {},
   "outputs": [
    {
     "name": "stderr",
     "output_type": "stream",
     "text": [
      "[Parallel(n_jobs=14)]: Using backend ThreadingBackend with 14 concurrent workers.\n",
      "[Parallel(n_jobs=14)]: Done  22 tasks      | elapsed:    0.1s\n",
      "[Parallel(n_jobs=14)]: Done 172 tasks      | elapsed:    0.3s\n",
      "[Parallel(n_jobs=14)]: Done 422 tasks      | elapsed:    0.6s\n",
      "[Parallel(n_jobs=14)]: Done 772 tasks      | elapsed:    1.1s\n",
      "[Parallel(n_jobs=14)]: Done 1222 tasks      | elapsed:    1.7s\n",
      "[Parallel(n_jobs=14)]: Done 1772 tasks      | elapsed:    2.5s\n",
      "[Parallel(n_jobs=14)]: Done 2422 tasks      | elapsed:    3.4s\n",
      "[Parallel(n_jobs=14)]: Done 3172 tasks      | elapsed:    4.5s\n",
      "[Parallel(n_jobs=14)]: Done 3333 out of 3333 | elapsed:    4.7s finished\n"
     ]
    },
    {
     "name": "stdout",
     "output_type": "stream",
     "text": [
      "Iteration: \t1 / 1000\n",
      "Confirmed: \t0\n",
      "Tentative: \t5000\n",
      "Rejected: \t0\n"
     ]
    },
    {
     "name": "stderr",
     "output_type": "stream",
     "text": [
      "[Parallel(n_jobs=14)]: Using backend ThreadingBackend with 14 concurrent workers.\n",
      "[Parallel(n_jobs=14)]: Done  22 tasks      | elapsed:    0.1s\n",
      "[Parallel(n_jobs=14)]: Done 172 tasks      | elapsed:    0.3s\n",
      "[Parallel(n_jobs=14)]: Done 422 tasks      | elapsed:    0.6s\n",
      "[Parallel(n_jobs=14)]: Done 772 tasks      | elapsed:    1.1s\n",
      "[Parallel(n_jobs=14)]: Done 1222 tasks      | elapsed:    1.8s\n",
      "[Parallel(n_jobs=14)]: Done 1772 tasks      | elapsed:    2.5s\n",
      "[Parallel(n_jobs=14)]: Done 2422 tasks      | elapsed:    3.5s\n",
      "[Parallel(n_jobs=14)]: Done 3172 tasks      | elapsed:    4.5s\n",
      "[Parallel(n_jobs=14)]: Done 3333 out of 3333 | elapsed:    4.7s finished\n"
     ]
    },
    {
     "name": "stdout",
     "output_type": "stream",
     "text": [
      "Iteration: \t2 / 1000\n",
      "Confirmed: \t0\n",
      "Tentative: \t5000\n",
      "Rejected: \t0\n"
     ]
    },
    {
     "name": "stderr",
     "output_type": "stream",
     "text": [
      "[Parallel(n_jobs=14)]: Using backend ThreadingBackend with 14 concurrent workers.\n",
      "[Parallel(n_jobs=14)]: Done  22 tasks      | elapsed:    0.1s\n",
      "[Parallel(n_jobs=14)]: Done 172 tasks      | elapsed:    0.3s\n",
      "[Parallel(n_jobs=14)]: Done 422 tasks      | elapsed:    0.6s\n",
      "[Parallel(n_jobs=14)]: Done 772 tasks      | elapsed:    1.1s\n",
      "[Parallel(n_jobs=14)]: Done 1222 tasks      | elapsed:    1.8s\n",
      "[Parallel(n_jobs=14)]: Done 1772 tasks      | elapsed:    2.5s\n",
      "[Parallel(n_jobs=14)]: Done 2422 tasks      | elapsed:    3.5s\n",
      "[Parallel(n_jobs=14)]: Done 3172 tasks      | elapsed:    4.6s\n",
      "[Parallel(n_jobs=14)]: Done 3333 out of 3333 | elapsed:    4.8s finished\n"
     ]
    },
    {
     "name": "stdout",
     "output_type": "stream",
     "text": [
      "Iteration: \t3 / 1000\n",
      "Confirmed: \t0\n",
      "Tentative: \t5000\n",
      "Rejected: \t0\n"
     ]
    },
    {
     "name": "stderr",
     "output_type": "stream",
     "text": [
      "[Parallel(n_jobs=14)]: Using backend ThreadingBackend with 14 concurrent workers.\n",
      "[Parallel(n_jobs=14)]: Done  22 tasks      | elapsed:    0.1s\n",
      "[Parallel(n_jobs=14)]: Done 172 tasks      | elapsed:    0.3s\n",
      "[Parallel(n_jobs=14)]: Done 422 tasks      | elapsed:    0.6s\n",
      "[Parallel(n_jobs=14)]: Done 772 tasks      | elapsed:    1.2s\n",
      "[Parallel(n_jobs=14)]: Done 1222 tasks      | elapsed:    1.8s\n",
      "[Parallel(n_jobs=14)]: Done 1772 tasks      | elapsed:    2.6s\n",
      "[Parallel(n_jobs=14)]: Done 2422 tasks      | elapsed:    3.5s\n",
      "[Parallel(n_jobs=14)]: Done 3172 tasks      | elapsed:    4.5s\n",
      "[Parallel(n_jobs=14)]: Done 3333 out of 3333 | elapsed:    4.8s finished\n"
     ]
    },
    {
     "name": "stdout",
     "output_type": "stream",
     "text": [
      "Iteration: \t4 / 1000\n",
      "Confirmed: \t0\n",
      "Tentative: \t5000\n",
      "Rejected: \t0\n"
     ]
    },
    {
     "name": "stderr",
     "output_type": "stream",
     "text": [
      "[Parallel(n_jobs=14)]: Using backend ThreadingBackend with 14 concurrent workers.\n",
      "[Parallel(n_jobs=14)]: Done  22 tasks      | elapsed:    0.1s\n",
      "[Parallel(n_jobs=14)]: Done 172 tasks      | elapsed:    0.3s\n",
      "[Parallel(n_jobs=14)]: Done 422 tasks      | elapsed:    0.6s\n",
      "[Parallel(n_jobs=14)]: Done 772 tasks      | elapsed:    1.1s\n",
      "[Parallel(n_jobs=14)]: Done 1222 tasks      | elapsed:    1.8s\n",
      "[Parallel(n_jobs=14)]: Done 1772 tasks      | elapsed:    2.5s\n",
      "[Parallel(n_jobs=14)]: Done 2422 tasks      | elapsed:    3.4s\n",
      "[Parallel(n_jobs=14)]: Done 3172 tasks      | elapsed:    4.5s\n",
      "[Parallel(n_jobs=14)]: Done 3333 out of 3333 | elapsed:    4.7s finished\n"
     ]
    },
    {
     "name": "stdout",
     "output_type": "stream",
     "text": [
      "Iteration: \t5 / 1000\n",
      "Confirmed: \t0\n",
      "Tentative: \t5000\n",
      "Rejected: \t0\n"
     ]
    },
    {
     "name": "stderr",
     "output_type": "stream",
     "text": [
      "[Parallel(n_jobs=14)]: Using backend ThreadingBackend with 14 concurrent workers.\n",
      "[Parallel(n_jobs=14)]: Done  22 tasks      | elapsed:    0.1s\n",
      "[Parallel(n_jobs=14)]: Done 172 tasks      | elapsed:    0.3s\n",
      "[Parallel(n_jobs=14)]: Done 422 tasks      | elapsed:    0.6s\n",
      "[Parallel(n_jobs=14)]: Done 772 tasks      | elapsed:    1.1s\n",
      "[Parallel(n_jobs=14)]: Done 1222 tasks      | elapsed:    1.7s\n",
      "[Parallel(n_jobs=14)]: Done 1772 tasks      | elapsed:    2.5s\n",
      "[Parallel(n_jobs=14)]: Done 2422 tasks      | elapsed:    3.5s\n",
      "[Parallel(n_jobs=14)]: Done 3172 tasks      | elapsed:    4.5s\n",
      "[Parallel(n_jobs=14)]: Done 3333 out of 3333 | elapsed:    4.7s finished\n"
     ]
    },
    {
     "name": "stdout",
     "output_type": "stream",
     "text": [
      "Iteration: \t6 / 1000\n",
      "Confirmed: \t0\n",
      "Tentative: \t5000\n",
      "Rejected: \t0\n"
     ]
    },
    {
     "name": "stderr",
     "output_type": "stream",
     "text": [
      "[Parallel(n_jobs=14)]: Using backend ThreadingBackend with 14 concurrent workers.\n",
      "[Parallel(n_jobs=14)]: Done  22 tasks      | elapsed:    0.1s\n",
      "[Parallel(n_jobs=14)]: Done 172 tasks      | elapsed:    0.3s\n",
      "[Parallel(n_jobs=14)]: Done 422 tasks      | elapsed:    0.6s\n",
      "[Parallel(n_jobs=14)]: Done 772 tasks      | elapsed:    1.1s\n",
      "[Parallel(n_jobs=14)]: Done 1222 tasks      | elapsed:    1.8s\n",
      "[Parallel(n_jobs=14)]: Done 1772 tasks      | elapsed:    2.5s\n",
      "[Parallel(n_jobs=14)]: Done 2422 tasks      | elapsed:    3.4s\n",
      "[Parallel(n_jobs=14)]: Done 3172 tasks      | elapsed:    4.5s\n",
      "[Parallel(n_jobs=14)]: Done 3333 out of 3333 | elapsed:    4.7s finished\n"
     ]
    },
    {
     "name": "stdout",
     "output_type": "stream",
     "text": [
      "Iteration: \t7 / 1000\n",
      "Confirmed: \t0\n",
      "Tentative: \t5000\n",
      "Rejected: \t0\n"
     ]
    },
    {
     "name": "stderr",
     "output_type": "stream",
     "text": [
      "[Parallel(n_jobs=14)]: Using backend ThreadingBackend with 14 concurrent workers.\n",
      "[Parallel(n_jobs=14)]: Done  22 tasks      | elapsed:    0.1s\n",
      "[Parallel(n_jobs=14)]: Done 172 tasks      | elapsed:    0.3s\n",
      "[Parallel(n_jobs=14)]: Done 422 tasks      | elapsed:    0.6s\n",
      "[Parallel(n_jobs=14)]: Done 772 tasks      | elapsed:    1.1s\n",
      "[Parallel(n_jobs=14)]: Done 1222 tasks      | elapsed:    1.8s\n",
      "[Parallel(n_jobs=14)]: Done 1772 tasks      | elapsed:    2.5s\n",
      "[Parallel(n_jobs=14)]: Done 2422 tasks      | elapsed:    3.4s\n",
      "[Parallel(n_jobs=14)]: Done 3172 tasks      | elapsed:    4.5s\n",
      "[Parallel(n_jobs=14)]: Done 3333 out of 3333 | elapsed:    4.7s finished\n"
     ]
    },
    {
     "name": "stdout",
     "output_type": "stream",
     "text": [
      "Iteration: \t8 / 1000\n",
      "Confirmed: \t0\n",
      "Tentative: \t441\n",
      "Rejected: \t4559\n"
     ]
    },
    {
     "name": "stderr",
     "output_type": "stream",
     "text": [
      "[Parallel(n_jobs=14)]: Using backend ThreadingBackend with 14 concurrent workers.\n",
      "[Parallel(n_jobs=14)]: Done  22 tasks      | elapsed:    0.0s\n",
      "[Parallel(n_jobs=14)]: Done 172 tasks      | elapsed:    0.2s\n",
      "[Parallel(n_jobs=14)]: Done 422 tasks      | elapsed:    0.6s\n",
      "[Parallel(n_jobs=14)]: Done 772 tasks      | elapsed:    1.0s\n",
      "[Parallel(n_jobs=14)]: Done 989 out of 989 | elapsed:    1.3s finished\n"
     ]
    },
    {
     "name": "stdout",
     "output_type": "stream",
     "text": [
      "Iteration: \t9 / 1000\n",
      "Confirmed: \t26\n",
      "Tentative: \t415\n",
      "Rejected: \t4559\n"
     ]
    },
    {
     "name": "stderr",
     "output_type": "stream",
     "text": [
      "[Parallel(n_jobs=14)]: Using backend ThreadingBackend with 14 concurrent workers.\n",
      "[Parallel(n_jobs=14)]: Done  22 tasks      | elapsed:    0.0s\n",
      "[Parallel(n_jobs=14)]: Done 172 tasks      | elapsed:    0.3s\n",
      "[Parallel(n_jobs=14)]: Done 422 tasks      | elapsed:    0.6s\n",
      "[Parallel(n_jobs=14)]: Done 772 tasks      | elapsed:    1.0s\n",
      "[Parallel(n_jobs=14)]: Done 989 out of 989 | elapsed:    1.3s finished\n"
     ]
    },
    {
     "name": "stdout",
     "output_type": "stream",
     "text": [
      "Iteration: \t10 / 1000\n",
      "Confirmed: \t26\n",
      "Tentative: \t415\n",
      "Rejected: \t4559\n"
     ]
    },
    {
     "name": "stderr",
     "output_type": "stream",
     "text": [
      "[Parallel(n_jobs=14)]: Using backend ThreadingBackend with 14 concurrent workers.\n",
      "[Parallel(n_jobs=14)]: Done  22 tasks      | elapsed:    0.0s\n",
      "[Parallel(n_jobs=14)]: Done 172 tasks      | elapsed:    0.2s\n",
      "[Parallel(n_jobs=14)]: Done 422 tasks      | elapsed:    0.6s\n",
      "[Parallel(n_jobs=14)]: Done 772 tasks      | elapsed:    1.0s\n",
      "[Parallel(n_jobs=14)]: Done 989 out of 989 | elapsed:    1.3s finished\n"
     ]
    },
    {
     "name": "stdout",
     "output_type": "stream",
     "text": [
      "Iteration: \t11 / 1000\n",
      "Confirmed: \t26\n",
      "Tentative: \t415\n",
      "Rejected: \t4559\n"
     ]
    },
    {
     "name": "stderr",
     "output_type": "stream",
     "text": [
      "[Parallel(n_jobs=14)]: Using backend ThreadingBackend with 14 concurrent workers.\n",
      "[Parallel(n_jobs=14)]: Done  22 tasks      | elapsed:    0.0s\n",
      "[Parallel(n_jobs=14)]: Done 172 tasks      | elapsed:    0.3s\n",
      "[Parallel(n_jobs=14)]: Done 422 tasks      | elapsed:    0.6s\n",
      "[Parallel(n_jobs=14)]: Done 772 tasks      | elapsed:    1.0s\n",
      "[Parallel(n_jobs=14)]: Done 989 out of 989 | elapsed:    1.3s finished\n"
     ]
    },
    {
     "name": "stdout",
     "output_type": "stream",
     "text": [
      "Iteration: \t12 / 1000\n",
      "Confirmed: \t33\n",
      "Tentative: \t250\n",
      "Rejected: \t4717\n"
     ]
    },
    {
     "name": "stderr",
     "output_type": "stream",
     "text": [
      "[Parallel(n_jobs=14)]: Using backend ThreadingBackend with 14 concurrent workers.\n",
      "[Parallel(n_jobs=14)]: Done  22 tasks      | elapsed:    0.0s\n",
      "[Parallel(n_jobs=14)]: Done 172 tasks      | elapsed:    0.2s\n",
      "[Parallel(n_jobs=14)]: Done 422 tasks      | elapsed:    0.6s\n",
      "[Parallel(n_jobs=14)]: Done 793 out of 793 | elapsed:    1.0s finished\n"
     ]
    },
    {
     "name": "stdout",
     "output_type": "stream",
     "text": [
      "Iteration: \t13 / 1000\n",
      "Confirmed: \t33\n",
      "Tentative: \t250\n",
      "Rejected: \t4717\n"
     ]
    },
    {
     "name": "stderr",
     "output_type": "stream",
     "text": [
      "[Parallel(n_jobs=14)]: Using backend ThreadingBackend with 14 concurrent workers.\n",
      "[Parallel(n_jobs=14)]: Done  22 tasks      | elapsed:    0.0s\n",
      "[Parallel(n_jobs=14)]: Done 172 tasks      | elapsed:    0.2s\n",
      "[Parallel(n_jobs=14)]: Done 422 tasks      | elapsed:    0.6s\n",
      "[Parallel(n_jobs=14)]: Done 793 out of 793 | elapsed:    1.0s finished\n"
     ]
    },
    {
     "name": "stdout",
     "output_type": "stream",
     "text": [
      "Iteration: \t14 / 1000\n",
      "Confirmed: \t33\n",
      "Tentative: \t250\n",
      "Rejected: \t4717\n"
     ]
    },
    {
     "name": "stderr",
     "output_type": "stream",
     "text": [
      "[Parallel(n_jobs=14)]: Using backend ThreadingBackend with 14 concurrent workers.\n",
      "[Parallel(n_jobs=14)]: Done  22 tasks      | elapsed:    0.0s\n",
      "[Parallel(n_jobs=14)]: Done 172 tasks      | elapsed:    0.2s\n",
      "[Parallel(n_jobs=14)]: Done 422 tasks      | elapsed:    0.6s\n",
      "[Parallel(n_jobs=14)]: Done 793 out of 793 | elapsed:    1.0s finished\n"
     ]
    },
    {
     "name": "stdout",
     "output_type": "stream",
     "text": [
      "Iteration: \t15 / 1000\n",
      "Confirmed: \t33\n",
      "Tentative: \t250\n",
      "Rejected: \t4717\n"
     ]
    },
    {
     "name": "stderr",
     "output_type": "stream",
     "text": [
      "[Parallel(n_jobs=14)]: Using backend ThreadingBackend with 14 concurrent workers.\n",
      "[Parallel(n_jobs=14)]: Done  22 tasks      | elapsed:    0.0s\n",
      "[Parallel(n_jobs=14)]: Done 172 tasks      | elapsed:    0.2s\n",
      "[Parallel(n_jobs=14)]: Done 422 tasks      | elapsed:    0.6s\n",
      "[Parallel(n_jobs=14)]: Done 793 out of 793 | elapsed:    1.0s finished\n"
     ]
    },
    {
     "name": "stdout",
     "output_type": "stream",
     "text": [
      "Iteration: \t16 / 1000\n",
      "Confirmed: \t35\n",
      "Tentative: \t200\n",
      "Rejected: \t4765\n"
     ]
    },
    {
     "name": "stderr",
     "output_type": "stream",
     "text": [
      "[Parallel(n_jobs=14)]: Using backend ThreadingBackend with 14 concurrent workers.\n",
      "[Parallel(n_jobs=14)]: Done  22 tasks      | elapsed:    0.0s\n",
      "[Parallel(n_jobs=14)]: Done 172 tasks      | elapsed:    0.2s\n",
      "[Parallel(n_jobs=14)]: Done 422 tasks      | elapsed:    0.6s\n",
      "[Parallel(n_jobs=14)]: Done 722 out of 722 | elapsed:    0.9s finished\n"
     ]
    },
    {
     "name": "stdout",
     "output_type": "stream",
     "text": [
      "Iteration: \t17 / 1000\n",
      "Confirmed: \t35\n",
      "Tentative: \t200\n",
      "Rejected: \t4765\n"
     ]
    },
    {
     "name": "stderr",
     "output_type": "stream",
     "text": [
      "[Parallel(n_jobs=14)]: Using backend ThreadingBackend with 14 concurrent workers.\n",
      "[Parallel(n_jobs=14)]: Done  22 tasks      | elapsed:    0.0s\n",
      "[Parallel(n_jobs=14)]: Done 172 tasks      | elapsed:    0.2s\n",
      "[Parallel(n_jobs=14)]: Done 422 tasks      | elapsed:    0.6s\n",
      "[Parallel(n_jobs=14)]: Done 722 out of 722 | elapsed:    0.9s finished\n"
     ]
    },
    {
     "name": "stdout",
     "output_type": "stream",
     "text": [
      "Iteration: \t18 / 1000\n",
      "Confirmed: \t35\n",
      "Tentative: \t200\n",
      "Rejected: \t4765\n"
     ]
    },
    {
     "name": "stderr",
     "output_type": "stream",
     "text": [
      "[Parallel(n_jobs=14)]: Using backend ThreadingBackend with 14 concurrent workers.\n",
      "[Parallel(n_jobs=14)]: Done  22 tasks      | elapsed:    0.0s\n",
      "[Parallel(n_jobs=14)]: Done 172 tasks      | elapsed:    0.2s\n",
      "[Parallel(n_jobs=14)]: Done 422 tasks      | elapsed:    0.6s\n",
      "[Parallel(n_jobs=14)]: Done 722 out of 722 | elapsed:    0.9s finished\n"
     ]
    },
    {
     "name": "stdout",
     "output_type": "stream",
     "text": [
      "Iteration: \t19 / 1000\n",
      "Confirmed: \t38\n",
      "Tentative: \t167\n",
      "Rejected: \t4795\n"
     ]
    },
    {
     "name": "stderr",
     "output_type": "stream",
     "text": [
      "[Parallel(n_jobs=14)]: Using backend ThreadingBackend with 14 concurrent workers.\n",
      "[Parallel(n_jobs=14)]: Done  22 tasks      | elapsed:    0.0s\n",
      "[Parallel(n_jobs=14)]: Done 172 tasks      | elapsed:    0.2s\n",
      "[Parallel(n_jobs=14)]: Done 422 tasks      | elapsed:    0.6s\n",
      "[Parallel(n_jobs=14)]: Done 674 out of 674 | elapsed:    0.9s finished\n"
     ]
    },
    {
     "name": "stdout",
     "output_type": "stream",
     "text": [
      "Iteration: \t20 / 1000\n",
      "Confirmed: \t38\n",
      "Tentative: \t167\n",
      "Rejected: \t4795\n"
     ]
    },
    {
     "name": "stderr",
     "output_type": "stream",
     "text": [
      "[Parallel(n_jobs=14)]: Using backend ThreadingBackend with 14 concurrent workers.\n",
      "[Parallel(n_jobs=14)]: Done  22 tasks      | elapsed:    0.0s\n",
      "[Parallel(n_jobs=14)]: Done 172 tasks      | elapsed:    0.2s\n",
      "[Parallel(n_jobs=14)]: Done 422 tasks      | elapsed:    0.6s\n",
      "[Parallel(n_jobs=14)]: Done 674 out of 674 | elapsed:    0.9s finished\n"
     ]
    },
    {
     "name": "stdout",
     "output_type": "stream",
     "text": [
      "Iteration: \t21 / 1000\n",
      "Confirmed: \t38\n",
      "Tentative: \t167\n",
      "Rejected: \t4795\n"
     ]
    },
    {
     "name": "stderr",
     "output_type": "stream",
     "text": [
      "[Parallel(n_jobs=14)]: Using backend ThreadingBackend with 14 concurrent workers.\n",
      "[Parallel(n_jobs=14)]: Done  22 tasks      | elapsed:    0.0s\n",
      "[Parallel(n_jobs=14)]: Done 172 tasks      | elapsed:    0.2s\n",
      "[Parallel(n_jobs=14)]: Done 422 tasks      | elapsed:    0.6s\n",
      "[Parallel(n_jobs=14)]: Done 674 out of 674 | elapsed:    0.9s finished\n"
     ]
    },
    {
     "name": "stdout",
     "output_type": "stream",
     "text": [
      "Iteration: \t22 / 1000\n",
      "Confirmed: \t39\n",
      "Tentative: \t155\n",
      "Rejected: \t4806\n"
     ]
    },
    {
     "name": "stderr",
     "output_type": "stream",
     "text": [
      "[Parallel(n_jobs=14)]: Using backend ThreadingBackend with 14 concurrent workers.\n",
      "[Parallel(n_jobs=14)]: Done  22 tasks      | elapsed:    0.0s\n",
      "[Parallel(n_jobs=14)]: Done 172 tasks      | elapsed:    0.2s\n",
      "[Parallel(n_jobs=14)]: Done 422 tasks      | elapsed:    0.5s\n",
      "[Parallel(n_jobs=14)]: Done 656 out of 656 | elapsed:    0.8s finished\n"
     ]
    },
    {
     "name": "stdout",
     "output_type": "stream",
     "text": [
      "Iteration: \t23 / 1000\n",
      "Confirmed: \t39\n",
      "Tentative: \t155\n",
      "Rejected: \t4806\n"
     ]
    },
    {
     "name": "stderr",
     "output_type": "stream",
     "text": [
      "[Parallel(n_jobs=14)]: Using backend ThreadingBackend with 14 concurrent workers.\n",
      "[Parallel(n_jobs=14)]: Done  22 tasks      | elapsed:    0.0s\n",
      "[Parallel(n_jobs=14)]: Done 172 tasks      | elapsed:    0.2s\n",
      "[Parallel(n_jobs=14)]: Done 422 tasks      | elapsed:    0.5s\n",
      "[Parallel(n_jobs=14)]: Done 656 out of 656 | elapsed:    0.8s finished\n"
     ]
    },
    {
     "name": "stdout",
     "output_type": "stream",
     "text": [
      "Iteration: \t24 / 1000\n",
      "Confirmed: \t39\n",
      "Tentative: \t155\n",
      "Rejected: \t4806\n"
     ]
    },
    {
     "name": "stderr",
     "output_type": "stream",
     "text": [
      "[Parallel(n_jobs=14)]: Using backend ThreadingBackend with 14 concurrent workers.\n",
      "[Parallel(n_jobs=14)]: Done  22 tasks      | elapsed:    0.0s\n",
      "[Parallel(n_jobs=14)]: Done 172 tasks      | elapsed:    0.2s\n",
      "[Parallel(n_jobs=14)]: Done 422 tasks      | elapsed:    0.6s\n",
      "[Parallel(n_jobs=14)]: Done 656 out of 656 | elapsed:    0.8s finished\n"
     ]
    },
    {
     "name": "stdout",
     "output_type": "stream",
     "text": [
      "Iteration: \t25 / 1000\n",
      "Confirmed: \t39\n",
      "Tentative: \t155\n",
      "Rejected: \t4806\n"
     ]
    },
    {
     "name": "stderr",
     "output_type": "stream",
     "text": [
      "[Parallel(n_jobs=14)]: Using backend ThreadingBackend with 14 concurrent workers.\n",
      "[Parallel(n_jobs=14)]: Done  22 tasks      | elapsed:    0.0s\n",
      "[Parallel(n_jobs=14)]: Done 172 tasks      | elapsed:    0.2s\n",
      "[Parallel(n_jobs=14)]: Done 422 tasks      | elapsed:    0.6s\n",
      "[Parallel(n_jobs=14)]: Done 656 out of 656 | elapsed:    0.8s finished\n"
     ]
    },
    {
     "name": "stdout",
     "output_type": "stream",
     "text": [
      "Iteration: \t26 / 1000\n",
      "Confirmed: \t42\n",
      "Tentative: \t139\n",
      "Rejected: \t4819\n"
     ]
    },
    {
     "name": "stderr",
     "output_type": "stream",
     "text": [
      "[Parallel(n_jobs=14)]: Using backend ThreadingBackend with 14 concurrent workers.\n",
      "[Parallel(n_jobs=14)]: Done  22 tasks      | elapsed:    0.0s\n",
      "[Parallel(n_jobs=14)]: Done 172 tasks      | elapsed:    0.2s\n",
      "[Parallel(n_jobs=14)]: Done 422 tasks      | elapsed:    0.6s\n",
      "[Parallel(n_jobs=14)]: Done 634 out of 634 | elapsed:    0.8s finished\n"
     ]
    },
    {
     "name": "stdout",
     "output_type": "stream",
     "text": [
      "Iteration: \t27 / 1000\n",
      "Confirmed: \t42\n",
      "Tentative: \t139\n",
      "Rejected: \t4819\n"
     ]
    },
    {
     "name": "stderr",
     "output_type": "stream",
     "text": [
      "[Parallel(n_jobs=14)]: Using backend ThreadingBackend with 14 concurrent workers.\n",
      "[Parallel(n_jobs=14)]: Done  22 tasks      | elapsed:    0.0s\n",
      "[Parallel(n_jobs=14)]: Done 172 tasks      | elapsed:    0.2s\n",
      "[Parallel(n_jobs=14)]: Done 422 tasks      | elapsed:    0.5s\n",
      "[Parallel(n_jobs=14)]: Done 634 out of 634 | elapsed:    0.8s finished\n"
     ]
    },
    {
     "name": "stdout",
     "output_type": "stream",
     "text": [
      "Iteration: \t28 / 1000\n",
      "Confirmed: \t42\n",
      "Tentative: \t139\n",
      "Rejected: \t4819\n"
     ]
    },
    {
     "name": "stderr",
     "output_type": "stream",
     "text": [
      "[Parallel(n_jobs=14)]: Using backend ThreadingBackend with 14 concurrent workers.\n",
      "[Parallel(n_jobs=14)]: Done  22 tasks      | elapsed:    0.0s\n",
      "[Parallel(n_jobs=14)]: Done 172 tasks      | elapsed:    0.2s\n",
      "[Parallel(n_jobs=14)]: Done 422 tasks      | elapsed:    0.6s\n",
      "[Parallel(n_jobs=14)]: Done 634 out of 634 | elapsed:    0.8s finished\n"
     ]
    },
    {
     "name": "stdout",
     "output_type": "stream",
     "text": [
      "Iteration: \t29 / 1000\n",
      "Confirmed: \t45\n",
      "Tentative: \t131\n",
      "Rejected: \t4824\n"
     ]
    },
    {
     "name": "stderr",
     "output_type": "stream",
     "text": [
      "[Parallel(n_jobs=14)]: Using backend ThreadingBackend with 14 concurrent workers.\n",
      "[Parallel(n_jobs=14)]: Done  22 tasks      | elapsed:    0.0s\n",
      "[Parallel(n_jobs=14)]: Done 172 tasks      | elapsed:    0.2s\n",
      "[Parallel(n_jobs=14)]: Done 422 tasks      | elapsed:    0.6s\n",
      "[Parallel(n_jobs=14)]: Done 625 out of 625 | elapsed:    0.8s finished\n"
     ]
    },
    {
     "name": "stdout",
     "output_type": "stream",
     "text": [
      "Iteration: \t30 / 1000\n",
      "Confirmed: \t45\n",
      "Tentative: \t131\n",
      "Rejected: \t4824\n"
     ]
    },
    {
     "name": "stderr",
     "output_type": "stream",
     "text": [
      "[Parallel(n_jobs=14)]: Using backend ThreadingBackend with 14 concurrent workers.\n",
      "[Parallel(n_jobs=14)]: Done  22 tasks      | elapsed:    0.0s\n",
      "[Parallel(n_jobs=14)]: Done 172 tasks      | elapsed:    0.2s\n",
      "[Parallel(n_jobs=14)]: Done 422 tasks      | elapsed:    0.6s\n",
      "[Parallel(n_jobs=14)]: Done 625 out of 625 | elapsed:    0.8s finished\n"
     ]
    },
    {
     "name": "stdout",
     "output_type": "stream",
     "text": [
      "Iteration: \t31 / 1000\n",
      "Confirmed: \t45\n",
      "Tentative: \t131\n",
      "Rejected: \t4824\n"
     ]
    },
    {
     "name": "stderr",
     "output_type": "stream",
     "text": [
      "[Parallel(n_jobs=14)]: Using backend ThreadingBackend with 14 concurrent workers.\n",
      "[Parallel(n_jobs=14)]: Done  22 tasks      | elapsed:    0.0s\n",
      "[Parallel(n_jobs=14)]: Done 172 tasks      | elapsed:    0.2s\n",
      "[Parallel(n_jobs=14)]: Done 422 tasks      | elapsed:    0.5s\n",
      "[Parallel(n_jobs=14)]: Done 625 out of 625 | elapsed:    0.8s finished\n"
     ]
    },
    {
     "name": "stdout",
     "output_type": "stream",
     "text": [
      "Iteration: \t32 / 1000\n",
      "Confirmed: \t48\n",
      "Tentative: \t119\n",
      "Rejected: \t4833\n"
     ]
    },
    {
     "name": "stderr",
     "output_type": "stream",
     "text": [
      "[Parallel(n_jobs=14)]: Using backend ThreadingBackend with 14 concurrent workers.\n",
      "[Parallel(n_jobs=14)]: Done  22 tasks      | elapsed:    0.1s\n",
      "[Parallel(n_jobs=14)]: Done 172 tasks      | elapsed:    0.2s\n",
      "[Parallel(n_jobs=14)]: Done 422 tasks      | elapsed:    0.6s\n",
      "[Parallel(n_jobs=14)]: Done 609 out of 609 | elapsed:    0.8s finished\n"
     ]
    },
    {
     "name": "stdout",
     "output_type": "stream",
     "text": [
      "Iteration: \t33 / 1000\n",
      "Confirmed: \t48\n",
      "Tentative: \t119\n",
      "Rejected: \t4833\n"
     ]
    },
    {
     "name": "stderr",
     "output_type": "stream",
     "text": [
      "[Parallel(n_jobs=14)]: Using backend ThreadingBackend with 14 concurrent workers.\n",
      "[Parallel(n_jobs=14)]: Done  22 tasks      | elapsed:    0.0s\n",
      "[Parallel(n_jobs=14)]: Done 172 tasks      | elapsed:    0.2s\n",
      "[Parallel(n_jobs=14)]: Done 422 tasks      | elapsed:    0.5s\n",
      "[Parallel(n_jobs=14)]: Done 609 out of 609 | elapsed:    0.8s finished\n"
     ]
    },
    {
     "name": "stdout",
     "output_type": "stream",
     "text": [
      "Iteration: \t34 / 1000\n",
      "Confirmed: \t48\n",
      "Tentative: \t111\n",
      "Rejected: \t4841\n"
     ]
    },
    {
     "name": "stderr",
     "output_type": "stream",
     "text": [
      "[Parallel(n_jobs=14)]: Using backend ThreadingBackend with 14 concurrent workers.\n",
      "[Parallel(n_jobs=14)]: Done  22 tasks      | elapsed:    0.0s\n",
      "[Parallel(n_jobs=14)]: Done 172 tasks      | elapsed:    0.2s\n",
      "[Parallel(n_jobs=14)]: Done 422 tasks      | elapsed:    0.6s\n",
      "[Parallel(n_jobs=14)]: Done 594 out of 594 | elapsed:    0.8s finished\n"
     ]
    },
    {
     "name": "stdout",
     "output_type": "stream",
     "text": [
      "Iteration: \t35 / 1000\n",
      "Confirmed: \t48\n",
      "Tentative: \t111\n",
      "Rejected: \t4841\n"
     ]
    },
    {
     "name": "stderr",
     "output_type": "stream",
     "text": [
      "[Parallel(n_jobs=14)]: Using backend ThreadingBackend with 14 concurrent workers.\n",
      "[Parallel(n_jobs=14)]: Done  22 tasks      | elapsed:    0.0s\n",
      "[Parallel(n_jobs=14)]: Done 172 tasks      | elapsed:    0.2s\n",
      "[Parallel(n_jobs=14)]: Done 422 tasks      | elapsed:    0.6s\n",
      "[Parallel(n_jobs=14)]: Done 594 out of 594 | elapsed:    0.8s finished\n"
     ]
    },
    {
     "name": "stdout",
     "output_type": "stream",
     "text": [
      "Iteration: \t36 / 1000\n",
      "Confirmed: \t48\n",
      "Tentative: \t111\n",
      "Rejected: \t4841\n"
     ]
    },
    {
     "name": "stderr",
     "output_type": "stream",
     "text": [
      "[Parallel(n_jobs=14)]: Using backend ThreadingBackend with 14 concurrent workers.\n",
      "[Parallel(n_jobs=14)]: Done  22 tasks      | elapsed:    0.0s\n",
      "[Parallel(n_jobs=14)]: Done 172 tasks      | elapsed:    0.2s\n",
      "[Parallel(n_jobs=14)]: Done 422 tasks      | elapsed:    0.6s\n",
      "[Parallel(n_jobs=14)]: Done 594 out of 594 | elapsed:    0.8s finished\n"
     ]
    },
    {
     "name": "stdout",
     "output_type": "stream",
     "text": [
      "Iteration: \t37 / 1000\n",
      "Confirmed: \t48\n",
      "Tentative: \t105\n",
      "Rejected: \t4847\n"
     ]
    },
    {
     "name": "stderr",
     "output_type": "stream",
     "text": [
      "[Parallel(n_jobs=14)]: Using backend ThreadingBackend with 14 concurrent workers.\n",
      "[Parallel(n_jobs=14)]: Done  22 tasks      | elapsed:    0.0s\n",
      "[Parallel(n_jobs=14)]: Done 172 tasks      | elapsed:    0.2s\n",
      "[Parallel(n_jobs=14)]: Done 422 tasks      | elapsed:    0.5s\n",
      "[Parallel(n_jobs=14)]: Done 583 out of 583 | elapsed:    0.7s finished\n"
     ]
    },
    {
     "name": "stdout",
     "output_type": "stream",
     "text": [
      "Iteration: \t38 / 1000\n",
      "Confirmed: \t48\n",
      "Tentative: \t105\n",
      "Rejected: \t4847\n"
     ]
    },
    {
     "name": "stderr",
     "output_type": "stream",
     "text": [
      "[Parallel(n_jobs=14)]: Using backend ThreadingBackend with 14 concurrent workers.\n",
      "[Parallel(n_jobs=14)]: Done  22 tasks      | elapsed:    0.0s\n",
      "[Parallel(n_jobs=14)]: Done 172 tasks      | elapsed:    0.2s\n",
      "[Parallel(n_jobs=14)]: Done 422 tasks      | elapsed:    0.5s\n",
      "[Parallel(n_jobs=14)]: Done 583 out of 583 | elapsed:    0.7s finished\n"
     ]
    },
    {
     "name": "stdout",
     "output_type": "stream",
     "text": [
      "Iteration: \t39 / 1000\n",
      "Confirmed: \t48\n",
      "Tentative: \t105\n",
      "Rejected: \t4847\n"
     ]
    },
    {
     "name": "stderr",
     "output_type": "stream",
     "text": [
      "[Parallel(n_jobs=14)]: Using backend ThreadingBackend with 14 concurrent workers.\n",
      "[Parallel(n_jobs=14)]: Done  22 tasks      | elapsed:    0.0s\n",
      "[Parallel(n_jobs=14)]: Done 172 tasks      | elapsed:    0.2s\n",
      "[Parallel(n_jobs=14)]: Done 422 tasks      | elapsed:    0.6s\n",
      "[Parallel(n_jobs=14)]: Done 583 out of 583 | elapsed:    0.7s finished\n"
     ]
    },
    {
     "name": "stdout",
     "output_type": "stream",
     "text": [
      "Iteration: \t40 / 1000\n",
      "Confirmed: \t50\n",
      "Tentative: \t103\n",
      "Rejected: \t4847\n"
     ]
    },
    {
     "name": "stderr",
     "output_type": "stream",
     "text": [
      "[Parallel(n_jobs=14)]: Using backend ThreadingBackend with 14 concurrent workers.\n",
      "[Parallel(n_jobs=14)]: Done  22 tasks      | elapsed:    0.0s\n",
      "[Parallel(n_jobs=14)]: Done 172 tasks      | elapsed:    0.2s\n",
      "[Parallel(n_jobs=14)]: Done 422 tasks      | elapsed:    0.6s\n",
      "[Parallel(n_jobs=14)]: Done 583 out of 583 | elapsed:    0.7s finished\n"
     ]
    },
    {
     "name": "stdout",
     "output_type": "stream",
     "text": [
      "Iteration: \t41 / 1000\n",
      "Confirmed: \t50\n",
      "Tentative: \t103\n",
      "Rejected: \t4847\n"
     ]
    },
    {
     "name": "stderr",
     "output_type": "stream",
     "text": [
      "[Parallel(n_jobs=14)]: Using backend ThreadingBackend with 14 concurrent workers.\n",
      "[Parallel(n_jobs=14)]: Done  22 tasks      | elapsed:    0.0s\n",
      "[Parallel(n_jobs=14)]: Done 172 tasks      | elapsed:    0.2s\n",
      "[Parallel(n_jobs=14)]: Done 422 tasks      | elapsed:    0.6s\n",
      "[Parallel(n_jobs=14)]: Done 583 out of 583 | elapsed:    0.7s finished\n"
     ]
    },
    {
     "name": "stdout",
     "output_type": "stream",
     "text": [
      "Iteration: \t42 / 1000\n",
      "Confirmed: \t50\n",
      "Tentative: \t103\n",
      "Rejected: \t4847\n"
     ]
    },
    {
     "name": "stderr",
     "output_type": "stream",
     "text": [
      "[Parallel(n_jobs=14)]: Using backend ThreadingBackend with 14 concurrent workers.\n",
      "[Parallel(n_jobs=14)]: Done  22 tasks      | elapsed:    0.0s\n",
      "[Parallel(n_jobs=14)]: Done 172 tasks      | elapsed:    0.2s\n",
      "[Parallel(n_jobs=14)]: Done 422 tasks      | elapsed:    0.6s\n",
      "[Parallel(n_jobs=14)]: Done 583 out of 583 | elapsed:    0.8s finished\n"
     ]
    },
    {
     "name": "stdout",
     "output_type": "stream",
     "text": [
      "Iteration: \t43 / 1000\n",
      "Confirmed: \t51\n",
      "Tentative: \t101\n",
      "Rejected: \t4848\n"
     ]
    },
    {
     "name": "stderr",
     "output_type": "stream",
     "text": [
      "[Parallel(n_jobs=14)]: Using backend ThreadingBackend with 14 concurrent workers.\n",
      "[Parallel(n_jobs=14)]: Done  22 tasks      | elapsed:    0.0s\n",
      "[Parallel(n_jobs=14)]: Done 172 tasks      | elapsed:    0.2s\n",
      "[Parallel(n_jobs=14)]: Done 422 tasks      | elapsed:    0.5s\n",
      "[Parallel(n_jobs=14)]: Done 581 out of 581 | elapsed:    0.7s finished\n"
     ]
    },
    {
     "name": "stdout",
     "output_type": "stream",
     "text": [
      "Iteration: \t44 / 1000\n",
      "Confirmed: \t51\n",
      "Tentative: \t101\n",
      "Rejected: \t4848\n"
     ]
    },
    {
     "name": "stderr",
     "output_type": "stream",
     "text": [
      "[Parallel(n_jobs=14)]: Using backend ThreadingBackend with 14 concurrent workers.\n",
      "[Parallel(n_jobs=14)]: Done  22 tasks      | elapsed:    0.0s\n",
      "[Parallel(n_jobs=14)]: Done 172 tasks      | elapsed:    0.2s\n",
      "[Parallel(n_jobs=14)]: Done 422 tasks      | elapsed:    0.6s\n",
      "[Parallel(n_jobs=14)]: Done 581 out of 581 | elapsed:    0.7s finished\n"
     ]
    },
    {
     "name": "stdout",
     "output_type": "stream",
     "text": [
      "Iteration: \t45 / 1000\n",
      "Confirmed: \t51\n",
      "Tentative: \t101\n",
      "Rejected: \t4848\n"
     ]
    },
    {
     "name": "stderr",
     "output_type": "stream",
     "text": [
      "[Parallel(n_jobs=14)]: Using backend ThreadingBackend with 14 concurrent workers.\n",
      "[Parallel(n_jobs=14)]: Done  22 tasks      | elapsed:    0.0s\n",
      "[Parallel(n_jobs=14)]: Done 172 tasks      | elapsed:    0.2s\n",
      "[Parallel(n_jobs=14)]: Done 422 tasks      | elapsed:    0.6s\n",
      "[Parallel(n_jobs=14)]: Done 581 out of 581 | elapsed:    0.7s finished\n"
     ]
    },
    {
     "name": "stdout",
     "output_type": "stream",
     "text": [
      "Iteration: \t46 / 1000\n",
      "Confirmed: \t53\n",
      "Tentative: \t99\n",
      "Rejected: \t4848\n"
     ]
    },
    {
     "name": "stderr",
     "output_type": "stream",
     "text": [
      "[Parallel(n_jobs=14)]: Using backend ThreadingBackend with 14 concurrent workers.\n",
      "[Parallel(n_jobs=14)]: Done  22 tasks      | elapsed:    0.0s\n",
      "[Parallel(n_jobs=14)]: Done 172 tasks      | elapsed:    0.2s\n",
      "[Parallel(n_jobs=14)]: Done 422 tasks      | elapsed:    0.6s\n",
      "[Parallel(n_jobs=14)]: Done 581 out of 581 | elapsed:    0.7s finished\n"
     ]
    },
    {
     "name": "stdout",
     "output_type": "stream",
     "text": [
      "Iteration: \t47 / 1000\n",
      "Confirmed: \t53\n",
      "Tentative: \t99\n",
      "Rejected: \t4848\n"
     ]
    },
    {
     "name": "stderr",
     "output_type": "stream",
     "text": [
      "[Parallel(n_jobs=14)]: Using backend ThreadingBackend with 14 concurrent workers.\n",
      "[Parallel(n_jobs=14)]: Done  22 tasks      | elapsed:    0.0s\n",
      "[Parallel(n_jobs=14)]: Done 172 tasks      | elapsed:    0.2s\n",
      "[Parallel(n_jobs=14)]: Done 422 tasks      | elapsed:    0.6s\n",
      "[Parallel(n_jobs=14)]: Done 581 out of 581 | elapsed:    0.7s finished\n"
     ]
    },
    {
     "name": "stdout",
     "output_type": "stream",
     "text": [
      "Iteration: \t48 / 1000\n",
      "Confirmed: \t53\n",
      "Tentative: \t99\n",
      "Rejected: \t4848\n"
     ]
    },
    {
     "name": "stderr",
     "output_type": "stream",
     "text": [
      "[Parallel(n_jobs=14)]: Using backend ThreadingBackend with 14 concurrent workers.\n",
      "[Parallel(n_jobs=14)]: Done  22 tasks      | elapsed:    0.0s\n",
      "[Parallel(n_jobs=14)]: Done 172 tasks      | elapsed:    0.2s\n",
      "[Parallel(n_jobs=14)]: Done 422 tasks      | elapsed:    0.6s\n",
      "[Parallel(n_jobs=14)]: Done 581 out of 581 | elapsed:    0.7s finished\n"
     ]
    },
    {
     "name": "stdout",
     "output_type": "stream",
     "text": [
      "Iteration: \t49 / 1000\n",
      "Confirmed: \t53\n",
      "Tentative: \t97\n",
      "Rejected: \t4850\n"
     ]
    },
    {
     "name": "stderr",
     "output_type": "stream",
     "text": [
      "[Parallel(n_jobs=14)]: Using backend ThreadingBackend with 14 concurrent workers.\n",
      "[Parallel(n_jobs=14)]: Done  22 tasks      | elapsed:    0.0s\n",
      "[Parallel(n_jobs=14)]: Done 172 tasks      | elapsed:    0.2s\n",
      "[Parallel(n_jobs=14)]: Done 422 tasks      | elapsed:    0.6s\n",
      "[Parallel(n_jobs=14)]: Done 577 out of 577 | elapsed:    0.7s finished\n"
     ]
    },
    {
     "name": "stdout",
     "output_type": "stream",
     "text": [
      "Iteration: \t50 / 1000\n",
      "Confirmed: \t53\n",
      "Tentative: \t97\n",
      "Rejected: \t4850\n"
     ]
    },
    {
     "name": "stderr",
     "output_type": "stream",
     "text": [
      "[Parallel(n_jobs=14)]: Using backend ThreadingBackend with 14 concurrent workers.\n",
      "[Parallel(n_jobs=14)]: Done  22 tasks      | elapsed:    0.0s\n",
      "[Parallel(n_jobs=14)]: Done 172 tasks      | elapsed:    0.2s\n",
      "[Parallel(n_jobs=14)]: Done 422 tasks      | elapsed:    0.5s\n",
      "[Parallel(n_jobs=14)]: Done 577 out of 577 | elapsed:    0.7s finished\n"
     ]
    },
    {
     "name": "stdout",
     "output_type": "stream",
     "text": [
      "Iteration: \t51 / 1000\n",
      "Confirmed: \t53\n",
      "Tentative: \t94\n",
      "Rejected: \t4853\n"
     ]
    },
    {
     "name": "stderr",
     "output_type": "stream",
     "text": [
      "[Parallel(n_jobs=14)]: Using backend ThreadingBackend with 14 concurrent workers.\n",
      "[Parallel(n_jobs=14)]: Done  22 tasks      | elapsed:    0.0s\n",
      "[Parallel(n_jobs=14)]: Done 172 tasks      | elapsed:    0.2s\n",
      "[Parallel(n_jobs=14)]: Done 422 tasks      | elapsed:    0.6s\n",
      "[Parallel(n_jobs=14)]: Done 571 out of 571 | elapsed:    0.7s finished\n"
     ]
    },
    {
     "name": "stdout",
     "output_type": "stream",
     "text": [
      "Iteration: \t52 / 1000\n",
      "Confirmed: \t53\n",
      "Tentative: \t94\n",
      "Rejected: \t4853\n"
     ]
    },
    {
     "name": "stderr",
     "output_type": "stream",
     "text": [
      "[Parallel(n_jobs=14)]: Using backend ThreadingBackend with 14 concurrent workers.\n",
      "[Parallel(n_jobs=14)]: Done  22 tasks      | elapsed:    0.0s\n",
      "[Parallel(n_jobs=14)]: Done 172 tasks      | elapsed:    0.2s\n",
      "[Parallel(n_jobs=14)]: Done 422 tasks      | elapsed:    0.5s\n",
      "[Parallel(n_jobs=14)]: Done 571 out of 571 | elapsed:    0.7s finished\n"
     ]
    },
    {
     "name": "stdout",
     "output_type": "stream",
     "text": [
      "Iteration: \t53 / 1000\n",
      "Confirmed: \t53\n",
      "Tentative: \t94\n",
      "Rejected: \t4853\n"
     ]
    },
    {
     "name": "stderr",
     "output_type": "stream",
     "text": [
      "[Parallel(n_jobs=14)]: Using backend ThreadingBackend with 14 concurrent workers.\n",
      "[Parallel(n_jobs=14)]: Done  22 tasks      | elapsed:    0.0s\n",
      "[Parallel(n_jobs=14)]: Done 172 tasks      | elapsed:    0.2s\n",
      "[Parallel(n_jobs=14)]: Done 422 tasks      | elapsed:    0.6s\n",
      "[Parallel(n_jobs=14)]: Done 571 out of 571 | elapsed:    0.7s finished\n"
     ]
    },
    {
     "name": "stdout",
     "output_type": "stream",
     "text": [
      "Iteration: \t54 / 1000\n",
      "Confirmed: \t54\n",
      "Tentative: \t92\n",
      "Rejected: \t4854\n"
     ]
    },
    {
     "name": "stderr",
     "output_type": "stream",
     "text": [
      "[Parallel(n_jobs=14)]: Using backend ThreadingBackend with 14 concurrent workers.\n",
      "[Parallel(n_jobs=14)]: Done  22 tasks      | elapsed:    0.0s\n",
      "[Parallel(n_jobs=14)]: Done 172 tasks      | elapsed:    0.2s\n",
      "[Parallel(n_jobs=14)]: Done 422 tasks      | elapsed:    0.5s\n",
      "[Parallel(n_jobs=14)]: Done 569 out of 569 | elapsed:    0.7s finished\n"
     ]
    },
    {
     "name": "stdout",
     "output_type": "stream",
     "text": [
      "Iteration: \t55 / 1000\n",
      "Confirmed: \t54\n",
      "Tentative: \t92\n",
      "Rejected: \t4854\n"
     ]
    },
    {
     "name": "stderr",
     "output_type": "stream",
     "text": [
      "[Parallel(n_jobs=14)]: Using backend ThreadingBackend with 14 concurrent workers.\n",
      "[Parallel(n_jobs=14)]: Done  22 tasks      | elapsed:    0.0s\n",
      "[Parallel(n_jobs=14)]: Done 172 tasks      | elapsed:    0.2s\n",
      "[Parallel(n_jobs=14)]: Done 422 tasks      | elapsed:    0.6s\n",
      "[Parallel(n_jobs=14)]: Done 569 out of 569 | elapsed:    0.7s finished\n"
     ]
    },
    {
     "name": "stdout",
     "output_type": "stream",
     "text": [
      "Iteration: \t56 / 1000\n",
      "Confirmed: \t54\n",
      "Tentative: \t92\n",
      "Rejected: \t4854\n"
     ]
    },
    {
     "name": "stderr",
     "output_type": "stream",
     "text": [
      "[Parallel(n_jobs=14)]: Using backend ThreadingBackend with 14 concurrent workers.\n",
      "[Parallel(n_jobs=14)]: Done  22 tasks      | elapsed:    0.0s\n",
      "[Parallel(n_jobs=14)]: Done 172 tasks      | elapsed:    0.2s\n",
      "[Parallel(n_jobs=14)]: Done 422 tasks      | elapsed:    0.6s\n",
      "[Parallel(n_jobs=14)]: Done 569 out of 569 | elapsed:    0.7s finished\n"
     ]
    },
    {
     "name": "stdout",
     "output_type": "stream",
     "text": [
      "Iteration: \t57 / 1000\n",
      "Confirmed: \t54\n",
      "Tentative: \t89\n",
      "Rejected: \t4857\n"
     ]
    },
    {
     "name": "stderr",
     "output_type": "stream",
     "text": [
      "[Parallel(n_jobs=14)]: Using backend ThreadingBackend with 14 concurrent workers.\n",
      "[Parallel(n_jobs=14)]: Done  22 tasks      | elapsed:    0.0s\n",
      "[Parallel(n_jobs=14)]: Done 172 tasks      | elapsed:    0.2s\n",
      "[Parallel(n_jobs=14)]: Done 422 tasks      | elapsed:    0.6s\n",
      "[Parallel(n_jobs=14)]: Done 563 out of 563 | elapsed:    0.7s finished\n"
     ]
    },
    {
     "name": "stdout",
     "output_type": "stream",
     "text": [
      "Iteration: \t58 / 1000\n",
      "Confirmed: \t54\n",
      "Tentative: \t89\n",
      "Rejected: \t4857\n"
     ]
    },
    {
     "name": "stderr",
     "output_type": "stream",
     "text": [
      "[Parallel(n_jobs=14)]: Using backend ThreadingBackend with 14 concurrent workers.\n",
      "[Parallel(n_jobs=14)]: Done  22 tasks      | elapsed:    0.0s\n",
      "[Parallel(n_jobs=14)]: Done 172 tasks      | elapsed:    0.2s\n",
      "[Parallel(n_jobs=14)]: Done 422 tasks      | elapsed:    0.6s\n",
      "[Parallel(n_jobs=14)]: Done 563 out of 563 | elapsed:    0.7s finished\n"
     ]
    },
    {
     "name": "stdout",
     "output_type": "stream",
     "text": [
      "Iteration: \t59 / 1000\n",
      "Confirmed: \t55\n",
      "Tentative: \t87\n",
      "Rejected: \t4858\n"
     ]
    },
    {
     "name": "stderr",
     "output_type": "stream",
     "text": [
      "[Parallel(n_jobs=14)]: Using backend ThreadingBackend with 14 concurrent workers.\n",
      "[Parallel(n_jobs=14)]: Done  22 tasks      | elapsed:    0.0s\n",
      "[Parallel(n_jobs=14)]: Done 172 tasks      | elapsed:    0.2s\n",
      "[Parallel(n_jobs=14)]: Done 422 tasks      | elapsed:    0.5s\n",
      "[Parallel(n_jobs=14)]: Done 561 out of 561 | elapsed:    0.7s finished\n"
     ]
    },
    {
     "name": "stdout",
     "output_type": "stream",
     "text": [
      "Iteration: \t60 / 1000\n",
      "Confirmed: \t55\n",
      "Tentative: \t87\n",
      "Rejected: \t4858\n"
     ]
    },
    {
     "name": "stderr",
     "output_type": "stream",
     "text": [
      "[Parallel(n_jobs=14)]: Using backend ThreadingBackend with 14 concurrent workers.\n",
      "[Parallel(n_jobs=14)]: Done  22 tasks      | elapsed:    0.0s\n",
      "[Parallel(n_jobs=14)]: Done 172 tasks      | elapsed:    0.2s\n",
      "[Parallel(n_jobs=14)]: Done 422 tasks      | elapsed:    0.5s\n",
      "[Parallel(n_jobs=14)]: Done 561 out of 561 | elapsed:    0.7s finished\n"
     ]
    },
    {
     "name": "stdout",
     "output_type": "stream",
     "text": [
      "Iteration: \t61 / 1000\n",
      "Confirmed: \t55\n",
      "Tentative: \t87\n",
      "Rejected: \t4858\n"
     ]
    },
    {
     "name": "stderr",
     "output_type": "stream",
     "text": [
      "[Parallel(n_jobs=14)]: Using backend ThreadingBackend with 14 concurrent workers.\n",
      "[Parallel(n_jobs=14)]: Done  22 tasks      | elapsed:    0.0s\n",
      "[Parallel(n_jobs=14)]: Done 172 tasks      | elapsed:    0.2s\n",
      "[Parallel(n_jobs=14)]: Done 422 tasks      | elapsed:    0.5s\n",
      "[Parallel(n_jobs=14)]: Done 561 out of 561 | elapsed:    0.7s finished\n"
     ]
    },
    {
     "name": "stdout",
     "output_type": "stream",
     "text": [
      "Iteration: \t62 / 1000\n",
      "Confirmed: \t56\n",
      "Tentative: \t86\n",
      "Rejected: \t4858\n"
     ]
    },
    {
     "name": "stderr",
     "output_type": "stream",
     "text": [
      "[Parallel(n_jobs=14)]: Using backend ThreadingBackend with 14 concurrent workers.\n",
      "[Parallel(n_jobs=14)]: Done  22 tasks      | elapsed:    0.0s\n",
      "[Parallel(n_jobs=14)]: Done 172 tasks      | elapsed:    0.2s\n",
      "[Parallel(n_jobs=14)]: Done 422 tasks      | elapsed:    0.5s\n",
      "[Parallel(n_jobs=14)]: Done 561 out of 561 | elapsed:    0.7s finished\n"
     ]
    },
    {
     "name": "stdout",
     "output_type": "stream",
     "text": [
      "Iteration: \t63 / 1000\n",
      "Confirmed: \t56\n",
      "Tentative: \t86\n",
      "Rejected: \t4858\n"
     ]
    },
    {
     "name": "stderr",
     "output_type": "stream",
     "text": [
      "[Parallel(n_jobs=14)]: Using backend ThreadingBackend with 14 concurrent workers.\n",
      "[Parallel(n_jobs=14)]: Done  22 tasks      | elapsed:    0.0s\n",
      "[Parallel(n_jobs=14)]: Done 172 tasks      | elapsed:    0.2s\n",
      "[Parallel(n_jobs=14)]: Done 422 tasks      | elapsed:    0.6s\n",
      "[Parallel(n_jobs=14)]: Done 561 out of 561 | elapsed:    0.7s finished\n"
     ]
    },
    {
     "name": "stdout",
     "output_type": "stream",
     "text": [
      "Iteration: \t64 / 1000\n",
      "Confirmed: \t56\n",
      "Tentative: \t85\n",
      "Rejected: \t4859\n"
     ]
    },
    {
     "name": "stderr",
     "output_type": "stream",
     "text": [
      "[Parallel(n_jobs=14)]: Using backend ThreadingBackend with 14 concurrent workers.\n",
      "[Parallel(n_jobs=14)]: Done  22 tasks      | elapsed:    0.0s\n",
      "[Parallel(n_jobs=14)]: Done 172 tasks      | elapsed:    0.2s\n",
      "[Parallel(n_jobs=14)]: Done 422 tasks      | elapsed:    0.6s\n",
      "[Parallel(n_jobs=14)]: Done 559 out of 559 | elapsed:    0.7s finished\n"
     ]
    },
    {
     "name": "stdout",
     "output_type": "stream",
     "text": [
      "Iteration: \t65 / 1000\n",
      "Confirmed: \t57\n",
      "Tentative: \t82\n",
      "Rejected: \t4861\n"
     ]
    },
    {
     "name": "stderr",
     "output_type": "stream",
     "text": [
      "[Parallel(n_jobs=14)]: Using backend ThreadingBackend with 14 concurrent workers.\n",
      "[Parallel(n_jobs=14)]: Done  22 tasks      | elapsed:    0.0s\n",
      "[Parallel(n_jobs=14)]: Done 172 tasks      | elapsed:    0.2s\n",
      "[Parallel(n_jobs=14)]: Done 422 tasks      | elapsed:    0.6s\n",
      "[Parallel(n_jobs=14)]: Done 555 out of 555 | elapsed:    0.7s finished\n"
     ]
    },
    {
     "name": "stdout",
     "output_type": "stream",
     "text": [
      "Iteration: \t66 / 1000\n",
      "Confirmed: \t57\n",
      "Tentative: \t82\n",
      "Rejected: \t4861\n"
     ]
    },
    {
     "name": "stderr",
     "output_type": "stream",
     "text": [
      "[Parallel(n_jobs=14)]: Using backend ThreadingBackend with 14 concurrent workers.\n",
      "[Parallel(n_jobs=14)]: Done  22 tasks      | elapsed:    0.0s\n",
      "[Parallel(n_jobs=14)]: Done 172 tasks      | elapsed:    0.2s\n",
      "[Parallel(n_jobs=14)]: Done 422 tasks      | elapsed:    0.6s\n",
      "[Parallel(n_jobs=14)]: Done 555 out of 555 | elapsed:    0.7s finished\n"
     ]
    },
    {
     "name": "stdout",
     "output_type": "stream",
     "text": [
      "Iteration: \t67 / 1000\n",
      "Confirmed: \t58\n",
      "Tentative: \t81\n",
      "Rejected: \t4861\n"
     ]
    },
    {
     "name": "stderr",
     "output_type": "stream",
     "text": [
      "[Parallel(n_jobs=14)]: Using backend ThreadingBackend with 14 concurrent workers.\n",
      "[Parallel(n_jobs=14)]: Done  22 tasks      | elapsed:    0.0s\n",
      "[Parallel(n_jobs=14)]: Done 172 tasks      | elapsed:    0.2s\n",
      "[Parallel(n_jobs=14)]: Done 422 tasks      | elapsed:    0.6s\n",
      "[Parallel(n_jobs=14)]: Done 555 out of 555 | elapsed:    0.7s finished\n"
     ]
    },
    {
     "name": "stdout",
     "output_type": "stream",
     "text": [
      "Iteration: \t68 / 1000\n",
      "Confirmed: \t58\n",
      "Tentative: \t80\n",
      "Rejected: \t4862\n"
     ]
    },
    {
     "name": "stderr",
     "output_type": "stream",
     "text": [
      "[Parallel(n_jobs=14)]: Using backend ThreadingBackend with 14 concurrent workers.\n",
      "[Parallel(n_jobs=14)]: Done  22 tasks      | elapsed:    0.0s\n",
      "[Parallel(n_jobs=14)]: Done 172 tasks      | elapsed:    0.2s\n",
      "[Parallel(n_jobs=14)]: Done 422 tasks      | elapsed:    0.5s\n",
      "[Parallel(n_jobs=14)]: Done 553 out of 553 | elapsed:    0.7s finished\n"
     ]
    },
    {
     "name": "stdout",
     "output_type": "stream",
     "text": [
      "Iteration: \t69 / 1000\n",
      "Confirmed: \t58\n",
      "Tentative: \t80\n",
      "Rejected: \t4862\n"
     ]
    },
    {
     "name": "stderr",
     "output_type": "stream",
     "text": [
      "[Parallel(n_jobs=14)]: Using backend ThreadingBackend with 14 concurrent workers.\n",
      "[Parallel(n_jobs=14)]: Done  22 tasks      | elapsed:    0.0s\n",
      "[Parallel(n_jobs=14)]: Done 172 tasks      | elapsed:    0.2s\n",
      "[Parallel(n_jobs=14)]: Done 422 tasks      | elapsed:    0.6s\n",
      "[Parallel(n_jobs=14)]: Done 553 out of 553 | elapsed:    0.7s finished\n"
     ]
    },
    {
     "name": "stdout",
     "output_type": "stream",
     "text": [
      "Iteration: \t70 / 1000\n",
      "Confirmed: \t59\n",
      "Tentative: \t79\n",
      "Rejected: \t4862\n"
     ]
    },
    {
     "name": "stderr",
     "output_type": "stream",
     "text": [
      "[Parallel(n_jobs=14)]: Using backend ThreadingBackend with 14 concurrent workers.\n",
      "[Parallel(n_jobs=14)]: Done  22 tasks      | elapsed:    0.0s\n",
      "[Parallel(n_jobs=14)]: Done 172 tasks      | elapsed:    0.2s\n",
      "[Parallel(n_jobs=14)]: Done 422 tasks      | elapsed:    0.6s\n",
      "[Parallel(n_jobs=14)]: Done 553 out of 553 | elapsed:    0.7s finished\n"
     ]
    },
    {
     "name": "stdout",
     "output_type": "stream",
     "text": [
      "Iteration: \t71 / 1000\n",
      "Confirmed: \t59\n",
      "Tentative: \t79\n",
      "Rejected: \t4862\n"
     ]
    },
    {
     "name": "stderr",
     "output_type": "stream",
     "text": [
      "[Parallel(n_jobs=14)]: Using backend ThreadingBackend with 14 concurrent workers.\n",
      "[Parallel(n_jobs=14)]: Done  22 tasks      | elapsed:    0.0s\n",
      "[Parallel(n_jobs=14)]: Done 172 tasks      | elapsed:    0.2s\n",
      "[Parallel(n_jobs=14)]: Done 422 tasks      | elapsed:    0.5s\n",
      "[Parallel(n_jobs=14)]: Done 553 out of 553 | elapsed:    0.7s finished\n"
     ]
    },
    {
     "name": "stdout",
     "output_type": "stream",
     "text": [
      "Iteration: \t72 / 1000\n",
      "Confirmed: \t59\n",
      "Tentative: \t79\n",
      "Rejected: \t4862\n"
     ]
    },
    {
     "name": "stderr",
     "output_type": "stream",
     "text": [
      "[Parallel(n_jobs=14)]: Using backend ThreadingBackend with 14 concurrent workers.\n",
      "[Parallel(n_jobs=14)]: Done  22 tasks      | elapsed:    0.0s\n",
      "[Parallel(n_jobs=14)]: Done 172 tasks      | elapsed:    0.2s\n",
      "[Parallel(n_jobs=14)]: Done 422 tasks      | elapsed:    0.6s\n",
      "[Parallel(n_jobs=14)]: Done 553 out of 553 | elapsed:    0.7s finished\n"
     ]
    },
    {
     "name": "stdout",
     "output_type": "stream",
     "text": [
      "Iteration: \t73 / 1000\n",
      "Confirmed: \t59\n",
      "Tentative: \t79\n",
      "Rejected: \t4862\n"
     ]
    },
    {
     "name": "stderr",
     "output_type": "stream",
     "text": [
      "[Parallel(n_jobs=14)]: Using backend ThreadingBackend with 14 concurrent workers.\n",
      "[Parallel(n_jobs=14)]: Done  22 tasks      | elapsed:    0.0s\n",
      "[Parallel(n_jobs=14)]: Done 172 tasks      | elapsed:    0.2s\n",
      "[Parallel(n_jobs=14)]: Done 422 tasks      | elapsed:    0.6s\n",
      "[Parallel(n_jobs=14)]: Done 553 out of 553 | elapsed:    0.7s finished\n"
     ]
    },
    {
     "name": "stdout",
     "output_type": "stream",
     "text": [
      "Iteration: \t74 / 1000\n",
      "Confirmed: \t59\n",
      "Tentative: \t78\n",
      "Rejected: \t4863\n"
     ]
    },
    {
     "name": "stderr",
     "output_type": "stream",
     "text": [
      "[Parallel(n_jobs=14)]: Using backend ThreadingBackend with 14 concurrent workers.\n",
      "[Parallel(n_jobs=14)]: Done  22 tasks      | elapsed:    0.0s\n",
      "[Parallel(n_jobs=14)]: Done 172 tasks      | elapsed:    0.2s\n",
      "[Parallel(n_jobs=14)]: Done 422 tasks      | elapsed:    0.5s\n",
      "[Parallel(n_jobs=14)]: Done 551 out of 551 | elapsed:    0.7s finished\n"
     ]
    },
    {
     "name": "stdout",
     "output_type": "stream",
     "text": [
      "Iteration: \t75 / 1000\n",
      "Confirmed: \t59\n",
      "Tentative: \t78\n",
      "Rejected: \t4863\n"
     ]
    },
    {
     "name": "stderr",
     "output_type": "stream",
     "text": [
      "[Parallel(n_jobs=14)]: Using backend ThreadingBackend with 14 concurrent workers.\n",
      "[Parallel(n_jobs=14)]: Done  22 tasks      | elapsed:    0.0s\n",
      "[Parallel(n_jobs=14)]: Done 172 tasks      | elapsed:    0.2s\n",
      "[Parallel(n_jobs=14)]: Done 422 tasks      | elapsed:    0.5s\n",
      "[Parallel(n_jobs=14)]: Done 551 out of 551 | elapsed:    0.7s finished\n"
     ]
    },
    {
     "name": "stdout",
     "output_type": "stream",
     "text": [
      "Iteration: \t76 / 1000\n",
      "Confirmed: \t59\n",
      "Tentative: \t78\n",
      "Rejected: \t4863\n"
     ]
    },
    {
     "name": "stderr",
     "output_type": "stream",
     "text": [
      "[Parallel(n_jobs=14)]: Using backend ThreadingBackend with 14 concurrent workers.\n",
      "[Parallel(n_jobs=14)]: Done  22 tasks      | elapsed:    0.0s\n",
      "[Parallel(n_jobs=14)]: Done 172 tasks      | elapsed:    0.2s\n",
      "[Parallel(n_jobs=14)]: Done 422 tasks      | elapsed:    0.5s\n",
      "[Parallel(n_jobs=14)]: Done 551 out of 551 | elapsed:    0.7s finished\n"
     ]
    },
    {
     "name": "stdout",
     "output_type": "stream",
     "text": [
      "Iteration: \t77 / 1000\n",
      "Confirmed: \t59\n",
      "Tentative: \t77\n",
      "Rejected: \t4864\n"
     ]
    },
    {
     "name": "stderr",
     "output_type": "stream",
     "text": [
      "[Parallel(n_jobs=14)]: Using backend ThreadingBackend with 14 concurrent workers.\n",
      "[Parallel(n_jobs=14)]: Done  22 tasks      | elapsed:    0.0s\n",
      "[Parallel(n_jobs=14)]: Done 172 tasks      | elapsed:    0.2s\n",
      "[Parallel(n_jobs=14)]: Done 422 tasks      | elapsed:    0.5s\n",
      "[Parallel(n_jobs=14)]: Done 549 out of 549 | elapsed:    0.7s finished\n"
     ]
    },
    {
     "name": "stdout",
     "output_type": "stream",
     "text": [
      "Iteration: \t78 / 1000\n",
      "Confirmed: \t59\n",
      "Tentative: \t77\n",
      "Rejected: \t4864\n"
     ]
    },
    {
     "name": "stderr",
     "output_type": "stream",
     "text": [
      "[Parallel(n_jobs=14)]: Using backend ThreadingBackend with 14 concurrent workers.\n",
      "[Parallel(n_jobs=14)]: Done  22 tasks      | elapsed:    0.0s\n",
      "[Parallel(n_jobs=14)]: Done 172 tasks      | elapsed:    0.2s\n",
      "[Parallel(n_jobs=14)]: Done 422 tasks      | elapsed:    0.5s\n",
      "[Parallel(n_jobs=14)]: Done 549 out of 549 | elapsed:    0.7s finished\n"
     ]
    },
    {
     "name": "stdout",
     "output_type": "stream",
     "text": [
      "Iteration: \t79 / 1000\n",
      "Confirmed: \t59\n",
      "Tentative: \t77\n",
      "Rejected: \t4864\n"
     ]
    },
    {
     "name": "stderr",
     "output_type": "stream",
     "text": [
      "[Parallel(n_jobs=14)]: Using backend ThreadingBackend with 14 concurrent workers.\n",
      "[Parallel(n_jobs=14)]: Done  22 tasks      | elapsed:    0.0s\n",
      "[Parallel(n_jobs=14)]: Done 172 tasks      | elapsed:    0.2s\n",
      "[Parallel(n_jobs=14)]: Done 422 tasks      | elapsed:    0.5s\n",
      "[Parallel(n_jobs=14)]: Done 549 out of 549 | elapsed:    0.7s finished\n"
     ]
    },
    {
     "name": "stdout",
     "output_type": "stream",
     "text": [
      "Iteration: \t80 / 1000\n",
      "Confirmed: \t59\n",
      "Tentative: \t77\n",
      "Rejected: \t4864\n"
     ]
    },
    {
     "name": "stderr",
     "output_type": "stream",
     "text": [
      "[Parallel(n_jobs=14)]: Using backend ThreadingBackend with 14 concurrent workers.\n",
      "[Parallel(n_jobs=14)]: Done  22 tasks      | elapsed:    0.0s\n",
      "[Parallel(n_jobs=14)]: Done 172 tasks      | elapsed:    0.2s\n",
      "[Parallel(n_jobs=14)]: Done 422 tasks      | elapsed:    0.5s\n",
      "[Parallel(n_jobs=14)]: Done 549 out of 549 | elapsed:    0.7s finished\n"
     ]
    },
    {
     "name": "stdout",
     "output_type": "stream",
     "text": [
      "Iteration: \t81 / 1000\n",
      "Confirmed: \t59\n",
      "Tentative: \t77\n",
      "Rejected: \t4864\n"
     ]
    },
    {
     "name": "stderr",
     "output_type": "stream",
     "text": [
      "[Parallel(n_jobs=14)]: Using backend ThreadingBackend with 14 concurrent workers.\n",
      "[Parallel(n_jobs=14)]: Done  22 tasks      | elapsed:    0.0s\n",
      "[Parallel(n_jobs=14)]: Done 172 tasks      | elapsed:    0.2s\n",
      "[Parallel(n_jobs=14)]: Done 422 tasks      | elapsed:    0.6s\n",
      "[Parallel(n_jobs=14)]: Done 549 out of 549 | elapsed:    0.7s finished\n"
     ]
    },
    {
     "name": "stdout",
     "output_type": "stream",
     "text": [
      "Iteration: \t82 / 1000\n",
      "Confirmed: \t59\n",
      "Tentative: \t77\n",
      "Rejected: \t4864\n"
     ]
    },
    {
     "name": "stderr",
     "output_type": "stream",
     "text": [
      "[Parallel(n_jobs=14)]: Using backend ThreadingBackend with 14 concurrent workers.\n",
      "[Parallel(n_jobs=14)]: Done  22 tasks      | elapsed:    0.0s\n",
      "[Parallel(n_jobs=14)]: Done 172 tasks      | elapsed:    0.2s\n",
      "[Parallel(n_jobs=14)]: Done 422 tasks      | elapsed:    0.6s\n",
      "[Parallel(n_jobs=14)]: Done 549 out of 549 | elapsed:    0.7s finished\n"
     ]
    },
    {
     "name": "stdout",
     "output_type": "stream",
     "text": [
      "Iteration: \t83 / 1000\n",
      "Confirmed: \t60\n",
      "Tentative: \t76\n",
      "Rejected: \t4864\n"
     ]
    },
    {
     "name": "stderr",
     "output_type": "stream",
     "text": [
      "[Parallel(n_jobs=14)]: Using backend ThreadingBackend with 14 concurrent workers.\n",
      "[Parallel(n_jobs=14)]: Done  22 tasks      | elapsed:    0.0s\n",
      "[Parallel(n_jobs=14)]: Done 172 tasks      | elapsed:    0.2s\n",
      "[Parallel(n_jobs=14)]: Done 422 tasks      | elapsed:    0.6s\n",
      "[Parallel(n_jobs=14)]: Done 549 out of 549 | elapsed:    0.7s finished\n"
     ]
    },
    {
     "name": "stdout",
     "output_type": "stream",
     "text": [
      "Iteration: \t84 / 1000\n",
      "Confirmed: \t60\n",
      "Tentative: \t76\n",
      "Rejected: \t4864\n"
     ]
    },
    {
     "name": "stderr",
     "output_type": "stream",
     "text": [
      "[Parallel(n_jobs=14)]: Using backend ThreadingBackend with 14 concurrent workers.\n",
      "[Parallel(n_jobs=14)]: Done  22 tasks      | elapsed:    0.0s\n",
      "[Parallel(n_jobs=14)]: Done 172 tasks      | elapsed:    0.2s\n",
      "[Parallel(n_jobs=14)]: Done 422 tasks      | elapsed:    0.6s\n",
      "[Parallel(n_jobs=14)]: Done 549 out of 549 | elapsed:    0.7s finished\n"
     ]
    },
    {
     "name": "stdout",
     "output_type": "stream",
     "text": [
      "Iteration: \t85 / 1000\n",
      "Confirmed: \t60\n",
      "Tentative: \t76\n",
      "Rejected: \t4864\n"
     ]
    },
    {
     "name": "stderr",
     "output_type": "stream",
     "text": [
      "[Parallel(n_jobs=14)]: Using backend ThreadingBackend with 14 concurrent workers.\n",
      "[Parallel(n_jobs=14)]: Done  22 tasks      | elapsed:    0.0s\n",
      "[Parallel(n_jobs=14)]: Done 172 tasks      | elapsed:    0.2s\n",
      "[Parallel(n_jobs=14)]: Done 422 tasks      | elapsed:    0.5s\n",
      "[Parallel(n_jobs=14)]: Done 549 out of 549 | elapsed:    0.7s finished\n"
     ]
    },
    {
     "name": "stdout",
     "output_type": "stream",
     "text": [
      "Iteration: \t86 / 1000\n",
      "Confirmed: \t60\n",
      "Tentative: \t76\n",
      "Rejected: \t4864\n"
     ]
    },
    {
     "name": "stderr",
     "output_type": "stream",
     "text": [
      "[Parallel(n_jobs=14)]: Using backend ThreadingBackend with 14 concurrent workers.\n",
      "[Parallel(n_jobs=14)]: Done  22 tasks      | elapsed:    0.0s\n",
      "[Parallel(n_jobs=14)]: Done 172 tasks      | elapsed:    0.2s\n",
      "[Parallel(n_jobs=14)]: Done 422 tasks      | elapsed:    0.5s\n",
      "[Parallel(n_jobs=14)]: Done 549 out of 549 | elapsed:    0.7s finished\n"
     ]
    },
    {
     "name": "stdout",
     "output_type": "stream",
     "text": [
      "Iteration: \t87 / 1000\n",
      "Confirmed: \t60\n",
      "Tentative: \t76\n",
      "Rejected: \t4864\n"
     ]
    },
    {
     "name": "stderr",
     "output_type": "stream",
     "text": [
      "[Parallel(n_jobs=14)]: Using backend ThreadingBackend with 14 concurrent workers.\n",
      "[Parallel(n_jobs=14)]: Done  22 tasks      | elapsed:    0.0s\n",
      "[Parallel(n_jobs=14)]: Done 172 tasks      | elapsed:    0.2s\n",
      "[Parallel(n_jobs=14)]: Done 422 tasks      | elapsed:    0.6s\n",
      "[Parallel(n_jobs=14)]: Done 549 out of 549 | elapsed:    0.7s finished\n"
     ]
    },
    {
     "name": "stdout",
     "output_type": "stream",
     "text": [
      "Iteration: \t88 / 1000\n",
      "Confirmed: \t62\n",
      "Tentative: \t73\n",
      "Rejected: \t4865\n"
     ]
    },
    {
     "name": "stderr",
     "output_type": "stream",
     "text": [
      "[Parallel(n_jobs=14)]: Using backend ThreadingBackend with 14 concurrent workers.\n",
      "[Parallel(n_jobs=14)]: Done  22 tasks      | elapsed:    0.0s\n",
      "[Parallel(n_jobs=14)]: Done 172 tasks      | elapsed:    0.2s\n",
      "[Parallel(n_jobs=14)]: Done 422 tasks      | elapsed:    0.6s\n",
      "[Parallel(n_jobs=14)]: Done 547 out of 547 | elapsed:    0.7s finished\n"
     ]
    },
    {
     "name": "stdout",
     "output_type": "stream",
     "text": [
      "Iteration: \t89 / 1000\n",
      "Confirmed: \t62\n",
      "Tentative: \t73\n",
      "Rejected: \t4865\n"
     ]
    },
    {
     "name": "stderr",
     "output_type": "stream",
     "text": [
      "[Parallel(n_jobs=14)]: Using backend ThreadingBackend with 14 concurrent workers.\n",
      "[Parallel(n_jobs=14)]: Done  22 tasks      | elapsed:    0.0s\n",
      "[Parallel(n_jobs=14)]: Done 172 tasks      | elapsed:    0.2s\n",
      "[Parallel(n_jobs=14)]: Done 422 tasks      | elapsed:    0.5s\n",
      "[Parallel(n_jobs=14)]: Done 547 out of 547 | elapsed:    0.7s finished\n"
     ]
    },
    {
     "name": "stdout",
     "output_type": "stream",
     "text": [
      "Iteration: \t90 / 1000\n",
      "Confirmed: \t62\n",
      "Tentative: \t73\n",
      "Rejected: \t4865\n"
     ]
    },
    {
     "name": "stderr",
     "output_type": "stream",
     "text": [
      "[Parallel(n_jobs=14)]: Using backend ThreadingBackend with 14 concurrent workers.\n",
      "[Parallel(n_jobs=14)]: Done  22 tasks      | elapsed:    0.0s\n",
      "[Parallel(n_jobs=14)]: Done 172 tasks      | elapsed:    0.2s\n",
      "[Parallel(n_jobs=14)]: Done 422 tasks      | elapsed:    0.6s\n",
      "[Parallel(n_jobs=14)]: Done 547 out of 547 | elapsed:    0.7s finished\n"
     ]
    },
    {
     "name": "stdout",
     "output_type": "stream",
     "text": [
      "Iteration: \t91 / 1000\n",
      "Confirmed: \t62\n",
      "Tentative: \t73\n",
      "Rejected: \t4865\n"
     ]
    },
    {
     "name": "stderr",
     "output_type": "stream",
     "text": [
      "[Parallel(n_jobs=14)]: Using backend ThreadingBackend with 14 concurrent workers.\n",
      "[Parallel(n_jobs=14)]: Done  22 tasks      | elapsed:    0.0s\n",
      "[Parallel(n_jobs=14)]: Done 172 tasks      | elapsed:    0.2s\n",
      "[Parallel(n_jobs=14)]: Done 422 tasks      | elapsed:    0.5s\n",
      "[Parallel(n_jobs=14)]: Done 547 out of 547 | elapsed:    0.7s finished\n"
     ]
    },
    {
     "name": "stdout",
     "output_type": "stream",
     "text": [
      "Iteration: \t92 / 1000\n",
      "Confirmed: \t62\n",
      "Tentative: \t73\n",
      "Rejected: \t4865\n"
     ]
    },
    {
     "name": "stderr",
     "output_type": "stream",
     "text": [
      "[Parallel(n_jobs=14)]: Using backend ThreadingBackend with 14 concurrent workers.\n",
      "[Parallel(n_jobs=14)]: Done  22 tasks      | elapsed:    0.0s\n",
      "[Parallel(n_jobs=14)]: Done 172 tasks      | elapsed:    0.2s\n",
      "[Parallel(n_jobs=14)]: Done 422 tasks      | elapsed:    0.5s\n",
      "[Parallel(n_jobs=14)]: Done 547 out of 547 | elapsed:    0.7s finished\n"
     ]
    },
    {
     "name": "stdout",
     "output_type": "stream",
     "text": [
      "Iteration: \t93 / 1000\n",
      "Confirmed: \t63\n",
      "Tentative: \t72\n",
      "Rejected: \t4865\n"
     ]
    },
    {
     "name": "stderr",
     "output_type": "stream",
     "text": [
      "[Parallel(n_jobs=14)]: Using backend ThreadingBackend with 14 concurrent workers.\n",
      "[Parallel(n_jobs=14)]: Done  22 tasks      | elapsed:    0.0s\n",
      "[Parallel(n_jobs=14)]: Done 172 tasks      | elapsed:    0.2s\n",
      "[Parallel(n_jobs=14)]: Done 422 tasks      | elapsed:    0.6s\n",
      "[Parallel(n_jobs=14)]: Done 547 out of 547 | elapsed:    0.7s finished\n"
     ]
    },
    {
     "name": "stdout",
     "output_type": "stream",
     "text": [
      "Iteration: \t94 / 1000\n",
      "Confirmed: \t63\n",
      "Tentative: \t72\n",
      "Rejected: \t4865\n"
     ]
    },
    {
     "name": "stderr",
     "output_type": "stream",
     "text": [
      "[Parallel(n_jobs=14)]: Using backend ThreadingBackend with 14 concurrent workers.\n",
      "[Parallel(n_jobs=14)]: Done  22 tasks      | elapsed:    0.0s\n",
      "[Parallel(n_jobs=14)]: Done 172 tasks      | elapsed:    0.2s\n",
      "[Parallel(n_jobs=14)]: Done 422 tasks      | elapsed:    0.5s\n",
      "[Parallel(n_jobs=14)]: Done 547 out of 547 | elapsed:    0.7s finished\n"
     ]
    },
    {
     "name": "stdout",
     "output_type": "stream",
     "text": [
      "Iteration: \t95 / 1000\n",
      "Confirmed: \t63\n",
      "Tentative: \t72\n",
      "Rejected: \t4865\n"
     ]
    },
    {
     "name": "stderr",
     "output_type": "stream",
     "text": [
      "[Parallel(n_jobs=14)]: Using backend ThreadingBackend with 14 concurrent workers.\n",
      "[Parallel(n_jobs=14)]: Done  22 tasks      | elapsed:    0.0s\n",
      "[Parallel(n_jobs=14)]: Done 172 tasks      | elapsed:    0.2s\n",
      "[Parallel(n_jobs=14)]: Done 422 tasks      | elapsed:    0.5s\n",
      "[Parallel(n_jobs=14)]: Done 547 out of 547 | elapsed:    0.7s finished\n"
     ]
    },
    {
     "name": "stdout",
     "output_type": "stream",
     "text": [
      "Iteration: \t96 / 1000\n",
      "Confirmed: \t63\n",
      "Tentative: \t72\n",
      "Rejected: \t4865\n"
     ]
    },
    {
     "name": "stderr",
     "output_type": "stream",
     "text": [
      "[Parallel(n_jobs=14)]: Using backend ThreadingBackend with 14 concurrent workers.\n",
      "[Parallel(n_jobs=14)]: Done  22 tasks      | elapsed:    0.0s\n",
      "[Parallel(n_jobs=14)]: Done 172 tasks      | elapsed:    0.2s\n",
      "[Parallel(n_jobs=14)]: Done 422 tasks      | elapsed:    0.5s\n",
      "[Parallel(n_jobs=14)]: Done 547 out of 547 | elapsed:    0.7s finished\n"
     ]
    },
    {
     "name": "stdout",
     "output_type": "stream",
     "text": [
      "Iteration: \t97 / 1000\n",
      "Confirmed: \t63\n",
      "Tentative: \t72\n",
      "Rejected: \t4865\n"
     ]
    },
    {
     "name": "stderr",
     "output_type": "stream",
     "text": [
      "[Parallel(n_jobs=14)]: Using backend ThreadingBackend with 14 concurrent workers.\n",
      "[Parallel(n_jobs=14)]: Done  22 tasks      | elapsed:    0.0s\n",
      "[Parallel(n_jobs=14)]: Done 172 tasks      | elapsed:    0.2s\n",
      "[Parallel(n_jobs=14)]: Done 422 tasks      | elapsed:    0.5s\n",
      "[Parallel(n_jobs=14)]: Done 547 out of 547 | elapsed:    0.7s finished\n"
     ]
    },
    {
     "name": "stdout",
     "output_type": "stream",
     "text": [
      "Iteration: \t98 / 1000\n",
      "Confirmed: \t63\n",
      "Tentative: \t72\n",
      "Rejected: \t4865\n"
     ]
    },
    {
     "name": "stderr",
     "output_type": "stream",
     "text": [
      "[Parallel(n_jobs=14)]: Using backend ThreadingBackend with 14 concurrent workers.\n",
      "[Parallel(n_jobs=14)]: Done  22 tasks      | elapsed:    0.0s\n",
      "[Parallel(n_jobs=14)]: Done 172 tasks      | elapsed:    0.2s\n",
      "[Parallel(n_jobs=14)]: Done 422 tasks      | elapsed:    0.5s\n",
      "[Parallel(n_jobs=14)]: Done 547 out of 547 | elapsed:    0.7s finished\n"
     ]
    },
    {
     "name": "stdout",
     "output_type": "stream",
     "text": [
      "Iteration: \t99 / 1000\n",
      "Confirmed: \t63\n",
      "Tentative: \t72\n",
      "Rejected: \t4865\n"
     ]
    },
    {
     "name": "stderr",
     "output_type": "stream",
     "text": [
      "[Parallel(n_jobs=14)]: Using backend ThreadingBackend with 14 concurrent workers.\n",
      "[Parallel(n_jobs=14)]: Done  22 tasks      | elapsed:    0.0s\n",
      "[Parallel(n_jobs=14)]: Done 172 tasks      | elapsed:    0.2s\n",
      "[Parallel(n_jobs=14)]: Done 422 tasks      | elapsed:    0.6s\n",
      "[Parallel(n_jobs=14)]: Done 547 out of 547 | elapsed:    0.7s finished\n"
     ]
    },
    {
     "name": "stdout",
     "output_type": "stream",
     "text": [
      "Iteration: \t100 / 1000\n",
      "Confirmed: \t63\n",
      "Tentative: \t70\n",
      "Rejected: \t4867\n"
     ]
    },
    {
     "name": "stderr",
     "output_type": "stream",
     "text": [
      "[Parallel(n_jobs=14)]: Using backend ThreadingBackend with 14 concurrent workers.\n",
      "[Parallel(n_jobs=14)]: Done  22 tasks      | elapsed:    0.0s\n",
      "[Parallel(n_jobs=14)]: Done 172 tasks      | elapsed:    0.2s\n",
      "[Parallel(n_jobs=14)]: Done 422 tasks      | elapsed:    0.5s\n",
      "[Parallel(n_jobs=14)]: Done 543 out of 543 | elapsed:    0.7s finished\n"
     ]
    },
    {
     "name": "stdout",
     "output_type": "stream",
     "text": [
      "Iteration: \t101 / 1000\n",
      "Confirmed: \t63\n",
      "Tentative: \t70\n",
      "Rejected: \t4867\n"
     ]
    },
    {
     "name": "stderr",
     "output_type": "stream",
     "text": [
      "[Parallel(n_jobs=14)]: Using backend ThreadingBackend with 14 concurrent workers.\n",
      "[Parallel(n_jobs=14)]: Done  22 tasks      | elapsed:    0.0s\n",
      "[Parallel(n_jobs=14)]: Done 172 tasks      | elapsed:    0.2s\n",
      "[Parallel(n_jobs=14)]: Done 422 tasks      | elapsed:    0.5s\n",
      "[Parallel(n_jobs=14)]: Done 543 out of 543 | elapsed:    0.7s finished\n"
     ]
    },
    {
     "name": "stdout",
     "output_type": "stream",
     "text": [
      "Iteration: \t102 / 1000\n",
      "Confirmed: \t63\n",
      "Tentative: \t70\n",
      "Rejected: \t4867\n"
     ]
    },
    {
     "name": "stderr",
     "output_type": "stream",
     "text": [
      "[Parallel(n_jobs=14)]: Using backend ThreadingBackend with 14 concurrent workers.\n",
      "[Parallel(n_jobs=14)]: Done  22 tasks      | elapsed:    0.0s\n",
      "[Parallel(n_jobs=14)]: Done 172 tasks      | elapsed:    0.2s\n",
      "[Parallel(n_jobs=14)]: Done 422 tasks      | elapsed:    0.5s\n",
      "[Parallel(n_jobs=14)]: Done 543 out of 543 | elapsed:    0.7s finished\n"
     ]
    },
    {
     "name": "stdout",
     "output_type": "stream",
     "text": [
      "Iteration: \t103 / 1000\n",
      "Confirmed: \t63\n",
      "Tentative: \t70\n",
      "Rejected: \t4867\n"
     ]
    },
    {
     "name": "stderr",
     "output_type": "stream",
     "text": [
      "[Parallel(n_jobs=14)]: Using backend ThreadingBackend with 14 concurrent workers.\n",
      "[Parallel(n_jobs=14)]: Done  22 tasks      | elapsed:    0.0s\n",
      "[Parallel(n_jobs=14)]: Done 172 tasks      | elapsed:    0.2s\n",
      "[Parallel(n_jobs=14)]: Done 422 tasks      | elapsed:    0.5s\n",
      "[Parallel(n_jobs=14)]: Done 543 out of 543 | elapsed:    0.7s finished\n"
     ]
    },
    {
     "name": "stdout",
     "output_type": "stream",
     "text": [
      "Iteration: \t104 / 1000\n",
      "Confirmed: \t63\n",
      "Tentative: \t70\n",
      "Rejected: \t4867\n"
     ]
    },
    {
     "name": "stderr",
     "output_type": "stream",
     "text": [
      "[Parallel(n_jobs=14)]: Using backend ThreadingBackend with 14 concurrent workers.\n",
      "[Parallel(n_jobs=14)]: Done  22 tasks      | elapsed:    0.0s\n",
      "[Parallel(n_jobs=14)]: Done 172 tasks      | elapsed:    0.2s\n",
      "[Parallel(n_jobs=14)]: Done 422 tasks      | elapsed:    0.6s\n",
      "[Parallel(n_jobs=14)]: Done 543 out of 543 | elapsed:    0.7s finished\n"
     ]
    },
    {
     "name": "stdout",
     "output_type": "stream",
     "text": [
      "Iteration: \t105 / 1000\n",
      "Confirmed: \t63\n",
      "Tentative: \t68\n",
      "Rejected: \t4869\n"
     ]
    },
    {
     "name": "stderr",
     "output_type": "stream",
     "text": [
      "[Parallel(n_jobs=14)]: Using backend ThreadingBackend with 14 concurrent workers.\n",
      "[Parallel(n_jobs=14)]: Done  22 tasks      | elapsed:    0.0s\n",
      "[Parallel(n_jobs=14)]: Done 172 tasks      | elapsed:    0.2s\n",
      "[Parallel(n_jobs=14)]: Done 422 tasks      | elapsed:    0.5s\n",
      "[Parallel(n_jobs=14)]: Done 539 out of 539 | elapsed:    0.7s finished\n"
     ]
    },
    {
     "name": "stdout",
     "output_type": "stream",
     "text": [
      "Iteration: \t106 / 1000\n",
      "Confirmed: \t63\n",
      "Tentative: \t68\n",
      "Rejected: \t4869\n"
     ]
    },
    {
     "name": "stderr",
     "output_type": "stream",
     "text": [
      "[Parallel(n_jobs=14)]: Using backend ThreadingBackend with 14 concurrent workers.\n",
      "[Parallel(n_jobs=14)]: Done  22 tasks      | elapsed:    0.0s\n",
      "[Parallel(n_jobs=14)]: Done 172 tasks      | elapsed:    0.2s\n",
      "[Parallel(n_jobs=14)]: Done 422 tasks      | elapsed:    0.5s\n",
      "[Parallel(n_jobs=14)]: Done 539 out of 539 | elapsed:    0.7s finished\n"
     ]
    },
    {
     "name": "stdout",
     "output_type": "stream",
     "text": [
      "Iteration: \t107 / 1000\n",
      "Confirmed: \t63\n",
      "Tentative: \t67\n",
      "Rejected: \t4870\n"
     ]
    },
    {
     "name": "stderr",
     "output_type": "stream",
     "text": [
      "[Parallel(n_jobs=14)]: Using backend ThreadingBackend with 14 concurrent workers.\n",
      "[Parallel(n_jobs=14)]: Done  22 tasks      | elapsed:    0.0s\n",
      "[Parallel(n_jobs=14)]: Done 172 tasks      | elapsed:    0.2s\n",
      "[Parallel(n_jobs=14)]: Done 422 tasks      | elapsed:    0.6s\n",
      "[Parallel(n_jobs=14)]: Done 537 out of 537 | elapsed:    0.7s finished\n"
     ]
    },
    {
     "name": "stdout",
     "output_type": "stream",
     "text": [
      "Iteration: \t108 / 1000\n",
      "Confirmed: \t63\n",
      "Tentative: \t67\n",
      "Rejected: \t4870\n"
     ]
    },
    {
     "name": "stderr",
     "output_type": "stream",
     "text": [
      "[Parallel(n_jobs=14)]: Using backend ThreadingBackend with 14 concurrent workers.\n",
      "[Parallel(n_jobs=14)]: Done  22 tasks      | elapsed:    0.0s\n",
      "[Parallel(n_jobs=14)]: Done 172 tasks      | elapsed:    0.2s\n",
      "[Parallel(n_jobs=14)]: Done 422 tasks      | elapsed:    0.5s\n",
      "[Parallel(n_jobs=14)]: Done 537 out of 537 | elapsed:    0.7s finished\n"
     ]
    },
    {
     "name": "stdout",
     "output_type": "stream",
     "text": [
      "Iteration: \t109 / 1000\n",
      "Confirmed: \t63\n",
      "Tentative: \t67\n",
      "Rejected: \t4870\n"
     ]
    },
    {
     "name": "stderr",
     "output_type": "stream",
     "text": [
      "[Parallel(n_jobs=14)]: Using backend ThreadingBackend with 14 concurrent workers.\n",
      "[Parallel(n_jobs=14)]: Done  22 tasks      | elapsed:    0.0s\n",
      "[Parallel(n_jobs=14)]: Done 172 tasks      | elapsed:    0.2s\n",
      "[Parallel(n_jobs=14)]: Done 422 tasks      | elapsed:    0.6s\n",
      "[Parallel(n_jobs=14)]: Done 537 out of 537 | elapsed:    0.7s finished\n"
     ]
    },
    {
     "name": "stdout",
     "output_type": "stream",
     "text": [
      "Iteration: \t110 / 1000\n",
      "Confirmed: \t64\n",
      "Tentative: \t65\n",
      "Rejected: \t4871\n"
     ]
    },
    {
     "name": "stderr",
     "output_type": "stream",
     "text": [
      "[Parallel(n_jobs=14)]: Using backend ThreadingBackend with 14 concurrent workers.\n",
      "[Parallel(n_jobs=14)]: Done  22 tasks      | elapsed:    0.0s\n",
      "[Parallel(n_jobs=14)]: Done 172 tasks      | elapsed:    0.2s\n",
      "[Parallel(n_jobs=14)]: Done 422 tasks      | elapsed:    0.6s\n",
      "[Parallel(n_jobs=14)]: Done 535 out of 535 | elapsed:    0.7s finished\n"
     ]
    },
    {
     "name": "stdout",
     "output_type": "stream",
     "text": [
      "Iteration: \t111 / 1000\n",
      "Confirmed: \t64\n",
      "Tentative: \t65\n",
      "Rejected: \t4871\n"
     ]
    },
    {
     "name": "stderr",
     "output_type": "stream",
     "text": [
      "[Parallel(n_jobs=14)]: Using backend ThreadingBackend with 14 concurrent workers.\n",
      "[Parallel(n_jobs=14)]: Done  22 tasks      | elapsed:    0.0s\n",
      "[Parallel(n_jobs=14)]: Done 172 tasks      | elapsed:    0.2s\n",
      "[Parallel(n_jobs=14)]: Done 422 tasks      | elapsed:    0.5s\n",
      "[Parallel(n_jobs=14)]: Done 535 out of 535 | elapsed:    0.7s finished\n"
     ]
    },
    {
     "name": "stdout",
     "output_type": "stream",
     "text": [
      "Iteration: \t112 / 1000\n",
      "Confirmed: \t64\n",
      "Tentative: \t65\n",
      "Rejected: \t4871\n"
     ]
    },
    {
     "name": "stderr",
     "output_type": "stream",
     "text": [
      "[Parallel(n_jobs=14)]: Using backend ThreadingBackend with 14 concurrent workers.\n",
      "[Parallel(n_jobs=14)]: Done  22 tasks      | elapsed:    0.0s\n",
      "[Parallel(n_jobs=14)]: Done 172 tasks      | elapsed:    0.2s\n",
      "[Parallel(n_jobs=14)]: Done 422 tasks      | elapsed:    0.6s\n",
      "[Parallel(n_jobs=14)]: Done 535 out of 535 | elapsed:    0.7s finished\n"
     ]
    },
    {
     "name": "stdout",
     "output_type": "stream",
     "text": [
      "Iteration: \t113 / 1000\n",
      "Confirmed: \t64\n",
      "Tentative: \t65\n",
      "Rejected: \t4871\n"
     ]
    },
    {
     "name": "stderr",
     "output_type": "stream",
     "text": [
      "[Parallel(n_jobs=14)]: Using backend ThreadingBackend with 14 concurrent workers.\n",
      "[Parallel(n_jobs=14)]: Done  22 tasks      | elapsed:    0.0s\n",
      "[Parallel(n_jobs=14)]: Done 172 tasks      | elapsed:    0.2s\n",
      "[Parallel(n_jobs=14)]: Done 422 tasks      | elapsed:    0.6s\n",
      "[Parallel(n_jobs=14)]: Done 535 out of 535 | elapsed:    0.7s finished\n"
     ]
    },
    {
     "name": "stdout",
     "output_type": "stream",
     "text": [
      "Iteration: \t114 / 1000\n",
      "Confirmed: \t64\n",
      "Tentative: \t65\n",
      "Rejected: \t4871\n"
     ]
    },
    {
     "name": "stderr",
     "output_type": "stream",
     "text": [
      "[Parallel(n_jobs=14)]: Using backend ThreadingBackend with 14 concurrent workers.\n",
      "[Parallel(n_jobs=14)]: Done  22 tasks      | elapsed:    0.0s\n",
      "[Parallel(n_jobs=14)]: Done 172 tasks      | elapsed:    0.2s\n",
      "[Parallel(n_jobs=14)]: Done 422 tasks      | elapsed:    0.6s\n",
      "[Parallel(n_jobs=14)]: Done 535 out of 535 | elapsed:    0.7s finished\n"
     ]
    },
    {
     "name": "stdout",
     "output_type": "stream",
     "text": [
      "Iteration: \t115 / 1000\n",
      "Confirmed: \t65\n",
      "Tentative: \t63\n",
      "Rejected: \t4872\n"
     ]
    },
    {
     "name": "stderr",
     "output_type": "stream",
     "text": [
      "[Parallel(n_jobs=14)]: Using backend ThreadingBackend with 14 concurrent workers.\n",
      "[Parallel(n_jobs=14)]: Done  22 tasks      | elapsed:    0.0s\n",
      "[Parallel(n_jobs=14)]: Done 172 tasks      | elapsed:    0.2s\n",
      "[Parallel(n_jobs=14)]: Done 422 tasks      | elapsed:    0.5s\n",
      "[Parallel(n_jobs=14)]: Done 533 out of 533 | elapsed:    0.7s finished\n"
     ]
    },
    {
     "name": "stdout",
     "output_type": "stream",
     "text": [
      "Iteration: \t116 / 1000\n",
      "Confirmed: \t65\n",
      "Tentative: \t63\n",
      "Rejected: \t4872\n"
     ]
    },
    {
     "name": "stderr",
     "output_type": "stream",
     "text": [
      "[Parallel(n_jobs=14)]: Using backend ThreadingBackend with 14 concurrent workers.\n",
      "[Parallel(n_jobs=14)]: Done  22 tasks      | elapsed:    0.0s\n",
      "[Parallel(n_jobs=14)]: Done 172 tasks      | elapsed:    0.2s\n",
      "[Parallel(n_jobs=14)]: Done 422 tasks      | elapsed:    0.6s\n",
      "[Parallel(n_jobs=14)]: Done 533 out of 533 | elapsed:    0.7s finished\n"
     ]
    },
    {
     "name": "stdout",
     "output_type": "stream",
     "text": [
      "Iteration: \t117 / 1000\n",
      "Confirmed: \t65\n",
      "Tentative: \t63\n",
      "Rejected: \t4872\n"
     ]
    },
    {
     "name": "stderr",
     "output_type": "stream",
     "text": [
      "[Parallel(n_jobs=14)]: Using backend ThreadingBackend with 14 concurrent workers.\n",
      "[Parallel(n_jobs=14)]: Done  22 tasks      | elapsed:    0.0s\n",
      "[Parallel(n_jobs=14)]: Done 172 tasks      | elapsed:    0.2s\n",
      "[Parallel(n_jobs=14)]: Done 422 tasks      | elapsed:    0.6s\n",
      "[Parallel(n_jobs=14)]: Done 533 out of 533 | elapsed:    0.7s finished\n"
     ]
    },
    {
     "name": "stdout",
     "output_type": "stream",
     "text": [
      "Iteration: \t118 / 1000\n",
      "Confirmed: \t65\n",
      "Tentative: \t63\n",
      "Rejected: \t4872\n"
     ]
    },
    {
     "name": "stderr",
     "output_type": "stream",
     "text": [
      "[Parallel(n_jobs=14)]: Using backend ThreadingBackend with 14 concurrent workers.\n",
      "[Parallel(n_jobs=14)]: Done  22 tasks      | elapsed:    0.0s\n",
      "[Parallel(n_jobs=14)]: Done 172 tasks      | elapsed:    0.2s\n",
      "[Parallel(n_jobs=14)]: Done 422 tasks      | elapsed:    0.6s\n",
      "[Parallel(n_jobs=14)]: Done 533 out of 533 | elapsed:    0.7s finished\n"
     ]
    },
    {
     "name": "stdout",
     "output_type": "stream",
     "text": [
      "Iteration: \t119 / 1000\n",
      "Confirmed: \t65\n",
      "Tentative: \t63\n",
      "Rejected: \t4872\n"
     ]
    },
    {
     "name": "stderr",
     "output_type": "stream",
     "text": [
      "[Parallel(n_jobs=14)]: Using backend ThreadingBackend with 14 concurrent workers.\n",
      "[Parallel(n_jobs=14)]: Done  22 tasks      | elapsed:    0.0s\n",
      "[Parallel(n_jobs=14)]: Done 172 tasks      | elapsed:    0.2s\n",
      "[Parallel(n_jobs=14)]: Done 422 tasks      | elapsed:    0.6s\n",
      "[Parallel(n_jobs=14)]: Done 533 out of 533 | elapsed:    0.7s finished\n"
     ]
    },
    {
     "name": "stdout",
     "output_type": "stream",
     "text": [
      "Iteration: \t120 / 1000\n",
      "Confirmed: \t65\n",
      "Tentative: \t63\n",
      "Rejected: \t4872\n"
     ]
    },
    {
     "name": "stderr",
     "output_type": "stream",
     "text": [
      "[Parallel(n_jobs=14)]: Using backend ThreadingBackend with 14 concurrent workers.\n",
      "[Parallel(n_jobs=14)]: Done  22 tasks      | elapsed:    0.0s\n",
      "[Parallel(n_jobs=14)]: Done 172 tasks      | elapsed:    0.2s\n",
      "[Parallel(n_jobs=14)]: Done 422 tasks      | elapsed:    0.5s\n",
      "[Parallel(n_jobs=14)]: Done 533 out of 533 | elapsed:    0.7s finished\n"
     ]
    },
    {
     "name": "stdout",
     "output_type": "stream",
     "text": [
      "Iteration: \t121 / 1000\n",
      "Confirmed: \t65\n",
      "Tentative: \t63\n",
      "Rejected: \t4872\n"
     ]
    },
    {
     "name": "stderr",
     "output_type": "stream",
     "text": [
      "[Parallel(n_jobs=14)]: Using backend ThreadingBackend with 14 concurrent workers.\n",
      "[Parallel(n_jobs=14)]: Done  22 tasks      | elapsed:    0.0s\n",
      "[Parallel(n_jobs=14)]: Done 172 tasks      | elapsed:    0.2s\n",
      "[Parallel(n_jobs=14)]: Done 422 tasks      | elapsed:    0.5s\n",
      "[Parallel(n_jobs=14)]: Done 533 out of 533 | elapsed:    0.7s finished\n"
     ]
    },
    {
     "name": "stdout",
     "output_type": "stream",
     "text": [
      "Iteration: \t122 / 1000\n",
      "Confirmed: \t65\n",
      "Tentative: \t62\n",
      "Rejected: \t4873\n"
     ]
    },
    {
     "name": "stderr",
     "output_type": "stream",
     "text": [
      "[Parallel(n_jobs=14)]: Using backend ThreadingBackend with 14 concurrent workers.\n",
      "[Parallel(n_jobs=14)]: Done  22 tasks      | elapsed:    0.0s\n",
      "[Parallel(n_jobs=14)]: Done 172 tasks      | elapsed:    0.2s\n",
      "[Parallel(n_jobs=14)]: Done 422 tasks      | elapsed:    0.5s\n",
      "[Parallel(n_jobs=14)]: Done 531 out of 531 | elapsed:    0.7s finished\n"
     ]
    },
    {
     "name": "stdout",
     "output_type": "stream",
     "text": [
      "Iteration: \t123 / 1000\n",
      "Confirmed: \t65\n",
      "Tentative: \t62\n",
      "Rejected: \t4873\n"
     ]
    },
    {
     "name": "stderr",
     "output_type": "stream",
     "text": [
      "[Parallel(n_jobs=14)]: Using backend ThreadingBackend with 14 concurrent workers.\n",
      "[Parallel(n_jobs=14)]: Done  22 tasks      | elapsed:    0.0s\n",
      "[Parallel(n_jobs=14)]: Done 172 tasks      | elapsed:    0.2s\n",
      "[Parallel(n_jobs=14)]: Done 422 tasks      | elapsed:    0.6s\n",
      "[Parallel(n_jobs=14)]: Done 531 out of 531 | elapsed:    0.7s finished\n"
     ]
    },
    {
     "name": "stdout",
     "output_type": "stream",
     "text": [
      "Iteration: \t124 / 1000\n",
      "Confirmed: \t65\n",
      "Tentative: \t62\n",
      "Rejected: \t4873\n"
     ]
    },
    {
     "name": "stderr",
     "output_type": "stream",
     "text": [
      "[Parallel(n_jobs=14)]: Using backend ThreadingBackend with 14 concurrent workers.\n",
      "[Parallel(n_jobs=14)]: Done  22 tasks      | elapsed:    0.0s\n",
      "[Parallel(n_jobs=14)]: Done 172 tasks      | elapsed:    0.2s\n",
      "[Parallel(n_jobs=14)]: Done 422 tasks      | elapsed:    0.6s\n",
      "[Parallel(n_jobs=14)]: Done 531 out of 531 | elapsed:    0.7s finished\n"
     ]
    },
    {
     "name": "stdout",
     "output_type": "stream",
     "text": [
      "Iteration: \t125 / 1000\n",
      "Confirmed: \t65\n",
      "Tentative: \t62\n",
      "Rejected: \t4873\n"
     ]
    },
    {
     "name": "stderr",
     "output_type": "stream",
     "text": [
      "[Parallel(n_jobs=14)]: Using backend ThreadingBackend with 14 concurrent workers.\n",
      "[Parallel(n_jobs=14)]: Done  22 tasks      | elapsed:    0.0s\n",
      "[Parallel(n_jobs=14)]: Done 172 tasks      | elapsed:    0.2s\n",
      "[Parallel(n_jobs=14)]: Done 422 tasks      | elapsed:    0.6s\n",
      "[Parallel(n_jobs=14)]: Done 531 out of 531 | elapsed:    0.7s finished\n"
     ]
    },
    {
     "name": "stdout",
     "output_type": "stream",
     "text": [
      "Iteration: \t126 / 1000\n",
      "Confirmed: \t65\n",
      "Tentative: \t62\n",
      "Rejected: \t4873\n"
     ]
    },
    {
     "name": "stderr",
     "output_type": "stream",
     "text": [
      "[Parallel(n_jobs=14)]: Using backend ThreadingBackend with 14 concurrent workers.\n",
      "[Parallel(n_jobs=14)]: Done  22 tasks      | elapsed:    0.0s\n",
      "[Parallel(n_jobs=14)]: Done 172 tasks      | elapsed:    0.2s\n",
      "[Parallel(n_jobs=14)]: Done 422 tasks      | elapsed:    0.5s\n",
      "[Parallel(n_jobs=14)]: Done 531 out of 531 | elapsed:    0.7s finished\n"
     ]
    },
    {
     "name": "stdout",
     "output_type": "stream",
     "text": [
      "Iteration: \t127 / 1000\n",
      "Confirmed: \t65\n",
      "Tentative: \t62\n",
      "Rejected: \t4873\n"
     ]
    },
    {
     "name": "stderr",
     "output_type": "stream",
     "text": [
      "[Parallel(n_jobs=14)]: Using backend ThreadingBackend with 14 concurrent workers.\n",
      "[Parallel(n_jobs=14)]: Done  22 tasks      | elapsed:    0.0s\n",
      "[Parallel(n_jobs=14)]: Done 172 tasks      | elapsed:    0.2s\n",
      "[Parallel(n_jobs=14)]: Done 422 tasks      | elapsed:    0.5s\n",
      "[Parallel(n_jobs=14)]: Done 531 out of 531 | elapsed:    0.7s finished\n"
     ]
    },
    {
     "name": "stdout",
     "output_type": "stream",
     "text": [
      "Iteration: \t128 / 1000\n",
      "Confirmed: \t65\n",
      "Tentative: \t62\n",
      "Rejected: \t4873\n"
     ]
    },
    {
     "name": "stderr",
     "output_type": "stream",
     "text": [
      "[Parallel(n_jobs=14)]: Using backend ThreadingBackend with 14 concurrent workers.\n",
      "[Parallel(n_jobs=14)]: Done  22 tasks      | elapsed:    0.0s\n",
      "[Parallel(n_jobs=14)]: Done 172 tasks      | elapsed:    0.2s\n",
      "[Parallel(n_jobs=14)]: Done 422 tasks      | elapsed:    0.5s\n",
      "[Parallel(n_jobs=14)]: Done 531 out of 531 | elapsed:    0.7s finished\n"
     ]
    },
    {
     "name": "stdout",
     "output_type": "stream",
     "text": [
      "Iteration: \t129 / 1000\n",
      "Confirmed: \t66\n",
      "Tentative: \t60\n",
      "Rejected: \t4874\n"
     ]
    },
    {
     "name": "stderr",
     "output_type": "stream",
     "text": [
      "[Parallel(n_jobs=14)]: Using backend ThreadingBackend with 14 concurrent workers.\n",
      "[Parallel(n_jobs=14)]: Done  22 tasks      | elapsed:    0.0s\n",
      "[Parallel(n_jobs=14)]: Done 172 tasks      | elapsed:    0.2s\n",
      "[Parallel(n_jobs=14)]: Done 422 tasks      | elapsed:    0.5s\n",
      "[Parallel(n_jobs=14)]: Done 529 out of 529 | elapsed:    0.7s finished\n"
     ]
    },
    {
     "name": "stdout",
     "output_type": "stream",
     "text": [
      "Iteration: \t130 / 1000\n",
      "Confirmed: \t66\n",
      "Tentative: \t60\n",
      "Rejected: \t4874\n"
     ]
    },
    {
     "name": "stderr",
     "output_type": "stream",
     "text": [
      "[Parallel(n_jobs=14)]: Using backend ThreadingBackend with 14 concurrent workers.\n",
      "[Parallel(n_jobs=14)]: Done  22 tasks      | elapsed:    0.0s\n",
      "[Parallel(n_jobs=14)]: Done 172 tasks      | elapsed:    0.2s\n",
      "[Parallel(n_jobs=14)]: Done 422 tasks      | elapsed:    0.6s\n",
      "[Parallel(n_jobs=14)]: Done 529 out of 529 | elapsed:    0.7s finished\n"
     ]
    },
    {
     "name": "stdout",
     "output_type": "stream",
     "text": [
      "Iteration: \t131 / 1000\n",
      "Confirmed: \t66\n",
      "Tentative: \t60\n",
      "Rejected: \t4874\n"
     ]
    },
    {
     "name": "stderr",
     "output_type": "stream",
     "text": [
      "[Parallel(n_jobs=14)]: Using backend ThreadingBackend with 14 concurrent workers.\n",
      "[Parallel(n_jobs=14)]: Done  22 tasks      | elapsed:    0.0s\n",
      "[Parallel(n_jobs=14)]: Done 172 tasks      | elapsed:    0.2s\n",
      "[Parallel(n_jobs=14)]: Done 422 tasks      | elapsed:    0.6s\n",
      "[Parallel(n_jobs=14)]: Done 529 out of 529 | elapsed:    0.7s finished\n"
     ]
    },
    {
     "name": "stdout",
     "output_type": "stream",
     "text": [
      "Iteration: \t132 / 1000\n",
      "Confirmed: \t66\n",
      "Tentative: \t60\n",
      "Rejected: \t4874\n"
     ]
    },
    {
     "name": "stderr",
     "output_type": "stream",
     "text": [
      "[Parallel(n_jobs=14)]: Using backend ThreadingBackend with 14 concurrent workers.\n",
      "[Parallel(n_jobs=14)]: Done  22 tasks      | elapsed:    0.0s\n",
      "[Parallel(n_jobs=14)]: Done 172 tasks      | elapsed:    0.2s\n",
      "[Parallel(n_jobs=14)]: Done 422 tasks      | elapsed:    0.5s\n",
      "[Parallel(n_jobs=14)]: Done 529 out of 529 | elapsed:    0.7s finished\n"
     ]
    },
    {
     "name": "stdout",
     "output_type": "stream",
     "text": [
      "Iteration: \t133 / 1000\n",
      "Confirmed: \t66\n",
      "Tentative: \t60\n",
      "Rejected: \t4874\n"
     ]
    },
    {
     "name": "stderr",
     "output_type": "stream",
     "text": [
      "[Parallel(n_jobs=14)]: Using backend ThreadingBackend with 14 concurrent workers.\n",
      "[Parallel(n_jobs=14)]: Done  22 tasks      | elapsed:    0.0s\n",
      "[Parallel(n_jobs=14)]: Done 172 tasks      | elapsed:    0.2s\n",
      "[Parallel(n_jobs=14)]: Done 422 tasks      | elapsed:    0.6s\n",
      "[Parallel(n_jobs=14)]: Done 529 out of 529 | elapsed:    0.7s finished\n"
     ]
    },
    {
     "name": "stdout",
     "output_type": "stream",
     "text": [
      "Iteration: \t134 / 1000\n",
      "Confirmed: \t66\n",
      "Tentative: \t60\n",
      "Rejected: \t4874\n"
     ]
    },
    {
     "name": "stderr",
     "output_type": "stream",
     "text": [
      "[Parallel(n_jobs=14)]: Using backend ThreadingBackend with 14 concurrent workers.\n",
      "[Parallel(n_jobs=14)]: Done  22 tasks      | elapsed:    0.0s\n",
      "[Parallel(n_jobs=14)]: Done 172 tasks      | elapsed:    0.2s\n",
      "[Parallel(n_jobs=14)]: Done 422 tasks      | elapsed:    0.6s\n",
      "[Parallel(n_jobs=14)]: Done 529 out of 529 | elapsed:    0.7s finished\n"
     ]
    },
    {
     "name": "stdout",
     "output_type": "stream",
     "text": [
      "Iteration: \t135 / 1000\n",
      "Confirmed: \t66\n",
      "Tentative: \t60\n",
      "Rejected: \t4874\n"
     ]
    },
    {
     "name": "stderr",
     "output_type": "stream",
     "text": [
      "[Parallel(n_jobs=14)]: Using backend ThreadingBackend with 14 concurrent workers.\n",
      "[Parallel(n_jobs=14)]: Done  22 tasks      | elapsed:    0.0s\n",
      "[Parallel(n_jobs=14)]: Done 172 tasks      | elapsed:    0.2s\n",
      "[Parallel(n_jobs=14)]: Done 422 tasks      | elapsed:    0.5s\n",
      "[Parallel(n_jobs=14)]: Done 529 out of 529 | elapsed:    0.7s finished\n"
     ]
    },
    {
     "name": "stdout",
     "output_type": "stream",
     "text": [
      "Iteration: \t136 / 1000\n",
      "Confirmed: \t66\n",
      "Tentative: \t60\n",
      "Rejected: \t4874\n"
     ]
    },
    {
     "name": "stderr",
     "output_type": "stream",
     "text": [
      "[Parallel(n_jobs=14)]: Using backend ThreadingBackend with 14 concurrent workers.\n",
      "[Parallel(n_jobs=14)]: Done  22 tasks      | elapsed:    0.0s\n",
      "[Parallel(n_jobs=14)]: Done 172 tasks      | elapsed:    0.2s\n",
      "[Parallel(n_jobs=14)]: Done 422 tasks      | elapsed:    0.5s\n",
      "[Parallel(n_jobs=14)]: Done 529 out of 529 | elapsed:    0.7s finished\n"
     ]
    },
    {
     "name": "stdout",
     "output_type": "stream",
     "text": [
      "Iteration: \t137 / 1000\n",
      "Confirmed: \t66\n",
      "Tentative: \t58\n",
      "Rejected: \t4876\n"
     ]
    },
    {
     "name": "stderr",
     "output_type": "stream",
     "text": [
      "[Parallel(n_jobs=14)]: Using backend ThreadingBackend with 14 concurrent workers.\n",
      "[Parallel(n_jobs=14)]: Done  22 tasks      | elapsed:    0.0s\n",
      "[Parallel(n_jobs=14)]: Done 172 tasks      | elapsed:    0.2s\n",
      "[Parallel(n_jobs=14)]: Done 422 tasks      | elapsed:    0.5s\n",
      "[Parallel(n_jobs=14)]: Done 524 out of 524 | elapsed:    0.7s finished\n"
     ]
    },
    {
     "name": "stdout",
     "output_type": "stream",
     "text": [
      "Iteration: \t138 / 1000\n",
      "Confirmed: \t66\n",
      "Tentative: \t58\n",
      "Rejected: \t4876\n"
     ]
    },
    {
     "name": "stderr",
     "output_type": "stream",
     "text": [
      "[Parallel(n_jobs=14)]: Using backend ThreadingBackend with 14 concurrent workers.\n",
      "[Parallel(n_jobs=14)]: Done  22 tasks      | elapsed:    0.0s\n",
      "[Parallel(n_jobs=14)]: Done 172 tasks      | elapsed:    0.2s\n",
      "[Parallel(n_jobs=14)]: Done 422 tasks      | elapsed:    0.5s\n",
      "[Parallel(n_jobs=14)]: Done 524 out of 524 | elapsed:    0.7s finished\n"
     ]
    },
    {
     "name": "stdout",
     "output_type": "stream",
     "text": [
      "Iteration: \t139 / 1000\n",
      "Confirmed: \t66\n",
      "Tentative: \t58\n",
      "Rejected: \t4876\n"
     ]
    },
    {
     "name": "stderr",
     "output_type": "stream",
     "text": [
      "[Parallel(n_jobs=14)]: Using backend ThreadingBackend with 14 concurrent workers.\n",
      "[Parallel(n_jobs=14)]: Done  22 tasks      | elapsed:    0.0s\n",
      "[Parallel(n_jobs=14)]: Done 172 tasks      | elapsed:    0.2s\n",
      "[Parallel(n_jobs=14)]: Done 422 tasks      | elapsed:    0.5s\n",
      "[Parallel(n_jobs=14)]: Done 524 out of 524 | elapsed:    0.7s finished\n"
     ]
    },
    {
     "name": "stdout",
     "output_type": "stream",
     "text": [
      "Iteration: \t140 / 1000\n",
      "Confirmed: \t66\n",
      "Tentative: \t58\n",
      "Rejected: \t4876\n"
     ]
    },
    {
     "name": "stderr",
     "output_type": "stream",
     "text": [
      "[Parallel(n_jobs=14)]: Using backend ThreadingBackend with 14 concurrent workers.\n",
      "[Parallel(n_jobs=14)]: Done  22 tasks      | elapsed:    0.0s\n",
      "[Parallel(n_jobs=14)]: Done 172 tasks      | elapsed:    0.2s\n",
      "[Parallel(n_jobs=14)]: Done 422 tasks      | elapsed:    0.5s\n",
      "[Parallel(n_jobs=14)]: Done 524 out of 524 | elapsed:    0.7s finished\n"
     ]
    },
    {
     "name": "stdout",
     "output_type": "stream",
     "text": [
      "Iteration: \t141 / 1000\n",
      "Confirmed: \t66\n",
      "Tentative: \t58\n",
      "Rejected: \t4876\n"
     ]
    },
    {
     "name": "stderr",
     "output_type": "stream",
     "text": [
      "[Parallel(n_jobs=14)]: Using backend ThreadingBackend with 14 concurrent workers.\n",
      "[Parallel(n_jobs=14)]: Done  22 tasks      | elapsed:    0.0s\n",
      "[Parallel(n_jobs=14)]: Done 172 tasks      | elapsed:    0.2s\n",
      "[Parallel(n_jobs=14)]: Done 422 tasks      | elapsed:    0.5s\n",
      "[Parallel(n_jobs=14)]: Done 524 out of 524 | elapsed:    0.7s finished\n"
     ]
    },
    {
     "name": "stdout",
     "output_type": "stream",
     "text": [
      "Iteration: \t142 / 1000\n",
      "Confirmed: \t66\n",
      "Tentative: \t58\n",
      "Rejected: \t4876\n"
     ]
    },
    {
     "name": "stderr",
     "output_type": "stream",
     "text": [
      "[Parallel(n_jobs=14)]: Using backend ThreadingBackend with 14 concurrent workers.\n",
      "[Parallel(n_jobs=14)]: Done  22 tasks      | elapsed:    0.0s\n",
      "[Parallel(n_jobs=14)]: Done 172 tasks      | elapsed:    0.2s\n",
      "[Parallel(n_jobs=14)]: Done 422 tasks      | elapsed:    0.5s\n",
      "[Parallel(n_jobs=14)]: Done 524 out of 524 | elapsed:    0.7s finished\n"
     ]
    },
    {
     "name": "stdout",
     "output_type": "stream",
     "text": [
      "Iteration: \t143 / 1000\n",
      "Confirmed: \t66\n",
      "Tentative: \t58\n",
      "Rejected: \t4876\n"
     ]
    },
    {
     "name": "stderr",
     "output_type": "stream",
     "text": [
      "[Parallel(n_jobs=14)]: Using backend ThreadingBackend with 14 concurrent workers.\n",
      "[Parallel(n_jobs=14)]: Done  22 tasks      | elapsed:    0.0s\n",
      "[Parallel(n_jobs=14)]: Done 172 tasks      | elapsed:    0.2s\n",
      "[Parallel(n_jobs=14)]: Done 422 tasks      | elapsed:    0.5s\n",
      "[Parallel(n_jobs=14)]: Done 524 out of 524 | elapsed:    0.7s finished\n"
     ]
    },
    {
     "name": "stdout",
     "output_type": "stream",
     "text": [
      "Iteration: \t144 / 1000\n",
      "Confirmed: \t66\n",
      "Tentative: \t58\n",
      "Rejected: \t4876\n"
     ]
    },
    {
     "name": "stderr",
     "output_type": "stream",
     "text": [
      "[Parallel(n_jobs=14)]: Using backend ThreadingBackend with 14 concurrent workers.\n",
      "[Parallel(n_jobs=14)]: Done  22 tasks      | elapsed:    0.0s\n",
      "[Parallel(n_jobs=14)]: Done 172 tasks      | elapsed:    0.2s\n",
      "[Parallel(n_jobs=14)]: Done 422 tasks      | elapsed:    0.5s\n",
      "[Parallel(n_jobs=14)]: Done 524 out of 524 | elapsed:    0.7s finished\n"
     ]
    },
    {
     "name": "stdout",
     "output_type": "stream",
     "text": [
      "Iteration: \t145 / 1000\n",
      "Confirmed: \t66\n",
      "Tentative: \t58\n",
      "Rejected: \t4876\n"
     ]
    },
    {
     "name": "stderr",
     "output_type": "stream",
     "text": [
      "[Parallel(n_jobs=14)]: Using backend ThreadingBackend with 14 concurrent workers.\n",
      "[Parallel(n_jobs=14)]: Done  22 tasks      | elapsed:    0.0s\n",
      "[Parallel(n_jobs=14)]: Done 172 tasks      | elapsed:    0.2s\n",
      "[Parallel(n_jobs=14)]: Done 422 tasks      | elapsed:    0.5s\n",
      "[Parallel(n_jobs=14)]: Done 524 out of 524 | elapsed:    0.7s finished\n"
     ]
    },
    {
     "name": "stdout",
     "output_type": "stream",
     "text": [
      "Iteration: \t146 / 1000\n",
      "Confirmed: \t66\n",
      "Tentative: \t58\n",
      "Rejected: \t4876\n"
     ]
    },
    {
     "name": "stderr",
     "output_type": "stream",
     "text": [
      "[Parallel(n_jobs=14)]: Using backend ThreadingBackend with 14 concurrent workers.\n",
      "[Parallel(n_jobs=14)]: Done  22 tasks      | elapsed:    0.0s\n",
      "[Parallel(n_jobs=14)]: Done 172 tasks      | elapsed:    0.2s\n",
      "[Parallel(n_jobs=14)]: Done 422 tasks      | elapsed:    0.6s\n",
      "[Parallel(n_jobs=14)]: Done 524 out of 524 | elapsed:    0.7s finished\n"
     ]
    },
    {
     "name": "stdout",
     "output_type": "stream",
     "text": [
      "Iteration: \t147 / 1000\n",
      "Confirmed: \t66\n",
      "Tentative: \t58\n",
      "Rejected: \t4876\n"
     ]
    },
    {
     "name": "stderr",
     "output_type": "stream",
     "text": [
      "[Parallel(n_jobs=14)]: Using backend ThreadingBackend with 14 concurrent workers.\n",
      "[Parallel(n_jobs=14)]: Done  22 tasks      | elapsed:    0.0s\n",
      "[Parallel(n_jobs=14)]: Done 172 tasks      | elapsed:    0.2s\n",
      "[Parallel(n_jobs=14)]: Done 422 tasks      | elapsed:    0.6s\n",
      "[Parallel(n_jobs=14)]: Done 524 out of 524 | elapsed:    0.7s finished\n"
     ]
    },
    {
     "name": "stdout",
     "output_type": "stream",
     "text": [
      "Iteration: \t148 / 1000\n",
      "Confirmed: \t66\n",
      "Tentative: \t58\n",
      "Rejected: \t4876\n"
     ]
    },
    {
     "name": "stderr",
     "output_type": "stream",
     "text": [
      "[Parallel(n_jobs=14)]: Using backend ThreadingBackend with 14 concurrent workers.\n",
      "[Parallel(n_jobs=14)]: Done  22 tasks      | elapsed:    0.0s\n",
      "[Parallel(n_jobs=14)]: Done 172 tasks      | elapsed:    0.2s\n",
      "[Parallel(n_jobs=14)]: Done 422 tasks      | elapsed:    0.5s\n",
      "[Parallel(n_jobs=14)]: Done 524 out of 524 | elapsed:    0.7s finished\n"
     ]
    },
    {
     "name": "stdout",
     "output_type": "stream",
     "text": [
      "Iteration: \t149 / 1000\n",
      "Confirmed: \t66\n",
      "Tentative: \t58\n",
      "Rejected: \t4876\n"
     ]
    },
    {
     "name": "stderr",
     "output_type": "stream",
     "text": [
      "[Parallel(n_jobs=14)]: Using backend ThreadingBackend with 14 concurrent workers.\n",
      "[Parallel(n_jobs=14)]: Done  22 tasks      | elapsed:    0.0s\n",
      "[Parallel(n_jobs=14)]: Done 172 tasks      | elapsed:    0.2s\n",
      "[Parallel(n_jobs=14)]: Done 422 tasks      | elapsed:    0.5s\n",
      "[Parallel(n_jobs=14)]: Done 524 out of 524 | elapsed:    0.7s finished\n"
     ]
    },
    {
     "name": "stdout",
     "output_type": "stream",
     "text": [
      "Iteration: \t150 / 1000\n",
      "Confirmed: \t66\n",
      "Tentative: \t58\n",
      "Rejected: \t4876\n"
     ]
    },
    {
     "name": "stderr",
     "output_type": "stream",
     "text": [
      "[Parallel(n_jobs=14)]: Using backend ThreadingBackend with 14 concurrent workers.\n",
      "[Parallel(n_jobs=14)]: Done  22 tasks      | elapsed:    0.0s\n",
      "[Parallel(n_jobs=14)]: Done 172 tasks      | elapsed:    0.2s\n",
      "[Parallel(n_jobs=14)]: Done 422 tasks      | elapsed:    0.6s\n",
      "[Parallel(n_jobs=14)]: Done 524 out of 524 | elapsed:    0.7s finished\n"
     ]
    },
    {
     "name": "stdout",
     "output_type": "stream",
     "text": [
      "Iteration: \t151 / 1000\n",
      "Confirmed: \t66\n",
      "Tentative: \t58\n",
      "Rejected: \t4876\n"
     ]
    },
    {
     "name": "stderr",
     "output_type": "stream",
     "text": [
      "[Parallel(n_jobs=14)]: Using backend ThreadingBackend with 14 concurrent workers.\n",
      "[Parallel(n_jobs=14)]: Done  22 tasks      | elapsed:    0.0s\n",
      "[Parallel(n_jobs=14)]: Done 172 tasks      | elapsed:    0.2s\n",
      "[Parallel(n_jobs=14)]: Done 422 tasks      | elapsed:    0.5s\n",
      "[Parallel(n_jobs=14)]: Done 524 out of 524 | elapsed:    0.7s finished\n"
     ]
    },
    {
     "name": "stdout",
     "output_type": "stream",
     "text": [
      "Iteration: \t152 / 1000\n",
      "Confirmed: \t66\n",
      "Tentative: \t58\n",
      "Rejected: \t4876\n"
     ]
    },
    {
     "name": "stderr",
     "output_type": "stream",
     "text": [
      "[Parallel(n_jobs=14)]: Using backend ThreadingBackend with 14 concurrent workers.\n",
      "[Parallel(n_jobs=14)]: Done  22 tasks      | elapsed:    0.0s\n",
      "[Parallel(n_jobs=14)]: Done 172 tasks      | elapsed:    0.2s\n",
      "[Parallel(n_jobs=14)]: Done 422 tasks      | elapsed:    0.6s\n",
      "[Parallel(n_jobs=14)]: Done 524 out of 524 | elapsed:    0.7s finished\n"
     ]
    },
    {
     "name": "stdout",
     "output_type": "stream",
     "text": [
      "Iteration: \t153 / 1000\n",
      "Confirmed: \t67\n",
      "Tentative: \t57\n",
      "Rejected: \t4876\n"
     ]
    },
    {
     "name": "stderr",
     "output_type": "stream",
     "text": [
      "[Parallel(n_jobs=14)]: Using backend ThreadingBackend with 14 concurrent workers.\n",
      "[Parallel(n_jobs=14)]: Done  22 tasks      | elapsed:    0.0s\n",
      "[Parallel(n_jobs=14)]: Done 172 tasks      | elapsed:    0.2s\n",
      "[Parallel(n_jobs=14)]: Done 422 tasks      | elapsed:    0.5s\n",
      "[Parallel(n_jobs=14)]: Done 524 out of 524 | elapsed:    0.6s finished\n"
     ]
    },
    {
     "name": "stdout",
     "output_type": "stream",
     "text": [
      "Iteration: \t154 / 1000\n",
      "Confirmed: \t67\n",
      "Tentative: \t57\n",
      "Rejected: \t4876\n"
     ]
    },
    {
     "name": "stderr",
     "output_type": "stream",
     "text": [
      "[Parallel(n_jobs=14)]: Using backend ThreadingBackend with 14 concurrent workers.\n",
      "[Parallel(n_jobs=14)]: Done  22 tasks      | elapsed:    0.0s\n",
      "[Parallel(n_jobs=14)]: Done 172 tasks      | elapsed:    0.2s\n",
      "[Parallel(n_jobs=14)]: Done 422 tasks      | elapsed:    0.5s\n",
      "[Parallel(n_jobs=14)]: Done 524 out of 524 | elapsed:    0.6s finished\n"
     ]
    },
    {
     "name": "stdout",
     "output_type": "stream",
     "text": [
      "Iteration: \t155 / 1000\n",
      "Confirmed: \t67\n",
      "Tentative: \t57\n",
      "Rejected: \t4876\n"
     ]
    },
    {
     "name": "stderr",
     "output_type": "stream",
     "text": [
      "[Parallel(n_jobs=14)]: Using backend ThreadingBackend with 14 concurrent workers.\n",
      "[Parallel(n_jobs=14)]: Done  22 tasks      | elapsed:    0.0s\n",
      "[Parallel(n_jobs=14)]: Done 172 tasks      | elapsed:    0.2s\n",
      "[Parallel(n_jobs=14)]: Done 422 tasks      | elapsed:    0.5s\n",
      "[Parallel(n_jobs=14)]: Done 524 out of 524 | elapsed:    0.6s finished\n"
     ]
    },
    {
     "name": "stdout",
     "output_type": "stream",
     "text": [
      "Iteration: \t156 / 1000\n",
      "Confirmed: \t67\n",
      "Tentative: \t57\n",
      "Rejected: \t4876\n"
     ]
    },
    {
     "name": "stderr",
     "output_type": "stream",
     "text": [
      "[Parallel(n_jobs=14)]: Using backend ThreadingBackend with 14 concurrent workers.\n",
      "[Parallel(n_jobs=14)]: Done  22 tasks      | elapsed:    0.0s\n",
      "[Parallel(n_jobs=14)]: Done 172 tasks      | elapsed:    0.2s\n",
      "[Parallel(n_jobs=14)]: Done 422 tasks      | elapsed:    0.5s\n",
      "[Parallel(n_jobs=14)]: Done 524 out of 524 | elapsed:    0.6s finished\n"
     ]
    },
    {
     "name": "stdout",
     "output_type": "stream",
     "text": [
      "Iteration: \t157 / 1000\n",
      "Confirmed: \t67\n",
      "Tentative: \t57\n",
      "Rejected: \t4876\n"
     ]
    },
    {
     "name": "stderr",
     "output_type": "stream",
     "text": [
      "[Parallel(n_jobs=14)]: Using backend ThreadingBackend with 14 concurrent workers.\n",
      "[Parallel(n_jobs=14)]: Done  22 tasks      | elapsed:    0.0s\n",
      "[Parallel(n_jobs=14)]: Done 172 tasks      | elapsed:    0.2s\n",
      "[Parallel(n_jobs=14)]: Done 422 tasks      | elapsed:    0.5s\n",
      "[Parallel(n_jobs=14)]: Done 524 out of 524 | elapsed:    0.7s finished\n"
     ]
    },
    {
     "name": "stdout",
     "output_type": "stream",
     "text": [
      "Iteration: \t158 / 1000\n",
      "Confirmed: \t68\n",
      "Tentative: \t56\n",
      "Rejected: \t4876\n"
     ]
    },
    {
     "name": "stderr",
     "output_type": "stream",
     "text": [
      "[Parallel(n_jobs=14)]: Using backend ThreadingBackend with 14 concurrent workers.\n",
      "[Parallel(n_jobs=14)]: Done  22 tasks      | elapsed:    0.0s\n",
      "[Parallel(n_jobs=14)]: Done 172 tasks      | elapsed:    0.2s\n",
      "[Parallel(n_jobs=14)]: Done 422 tasks      | elapsed:    0.6s\n",
      "[Parallel(n_jobs=14)]: Done 524 out of 524 | elapsed:    0.7s finished\n"
     ]
    },
    {
     "name": "stdout",
     "output_type": "stream",
     "text": [
      "Iteration: \t159 / 1000\n",
      "Confirmed: \t68\n",
      "Tentative: \t56\n",
      "Rejected: \t4876\n"
     ]
    },
    {
     "name": "stderr",
     "output_type": "stream",
     "text": [
      "[Parallel(n_jobs=14)]: Using backend ThreadingBackend with 14 concurrent workers.\n",
      "[Parallel(n_jobs=14)]: Done  22 tasks      | elapsed:    0.0s\n",
      "[Parallel(n_jobs=14)]: Done 172 tasks      | elapsed:    0.2s\n",
      "[Parallel(n_jobs=14)]: Done 422 tasks      | elapsed:    0.6s\n",
      "[Parallel(n_jobs=14)]: Done 524 out of 524 | elapsed:    0.7s finished\n"
     ]
    },
    {
     "name": "stdout",
     "output_type": "stream",
     "text": [
      "Iteration: \t160 / 1000\n",
      "Confirmed: \t68\n",
      "Tentative: \t56\n",
      "Rejected: \t4876\n"
     ]
    },
    {
     "name": "stderr",
     "output_type": "stream",
     "text": [
      "[Parallel(n_jobs=14)]: Using backend ThreadingBackend with 14 concurrent workers.\n",
      "[Parallel(n_jobs=14)]: Done  22 tasks      | elapsed:    0.0s\n",
      "[Parallel(n_jobs=14)]: Done 172 tasks      | elapsed:    0.2s\n",
      "[Parallel(n_jobs=14)]: Done 422 tasks      | elapsed:    0.5s\n",
      "[Parallel(n_jobs=14)]: Done 524 out of 524 | elapsed:    0.7s finished\n"
     ]
    },
    {
     "name": "stdout",
     "output_type": "stream",
     "text": [
      "Iteration: \t161 / 1000\n",
      "Confirmed: \t68\n",
      "Tentative: \t56\n",
      "Rejected: \t4876\n"
     ]
    },
    {
     "name": "stderr",
     "output_type": "stream",
     "text": [
      "[Parallel(n_jobs=14)]: Using backend ThreadingBackend with 14 concurrent workers.\n",
      "[Parallel(n_jobs=14)]: Done  22 tasks      | elapsed:    0.0s\n",
      "[Parallel(n_jobs=14)]: Done 172 tasks      | elapsed:    0.2s\n",
      "[Parallel(n_jobs=14)]: Done 422 tasks      | elapsed:    0.5s\n",
      "[Parallel(n_jobs=14)]: Done 524 out of 524 | elapsed:    0.6s finished\n"
     ]
    },
    {
     "name": "stdout",
     "output_type": "stream",
     "text": [
      "Iteration: \t162 / 1000\n",
      "Confirmed: \t68\n",
      "Tentative: \t56\n",
      "Rejected: \t4876\n"
     ]
    },
    {
     "name": "stderr",
     "output_type": "stream",
     "text": [
      "[Parallel(n_jobs=14)]: Using backend ThreadingBackend with 14 concurrent workers.\n",
      "[Parallel(n_jobs=14)]: Done  22 tasks      | elapsed:    0.0s\n",
      "[Parallel(n_jobs=14)]: Done 172 tasks      | elapsed:    0.2s\n",
      "[Parallel(n_jobs=14)]: Done 422 tasks      | elapsed:    0.5s\n",
      "[Parallel(n_jobs=14)]: Done 524 out of 524 | elapsed:    0.7s finished\n"
     ]
    },
    {
     "name": "stdout",
     "output_type": "stream",
     "text": [
      "Iteration: \t163 / 1000\n",
      "Confirmed: \t68\n",
      "Tentative: \t56\n",
      "Rejected: \t4876\n"
     ]
    },
    {
     "name": "stderr",
     "output_type": "stream",
     "text": [
      "[Parallel(n_jobs=14)]: Using backend ThreadingBackend with 14 concurrent workers.\n",
      "[Parallel(n_jobs=14)]: Done  22 tasks      | elapsed:    0.0s\n",
      "[Parallel(n_jobs=14)]: Done 172 tasks      | elapsed:    0.2s\n",
      "[Parallel(n_jobs=14)]: Done 422 tasks      | elapsed:    0.5s\n",
      "[Parallel(n_jobs=14)]: Done 524 out of 524 | elapsed:    0.6s finished\n"
     ]
    },
    {
     "name": "stdout",
     "output_type": "stream",
     "text": [
      "Iteration: \t164 / 1000\n",
      "Confirmed: \t68\n",
      "Tentative: \t56\n",
      "Rejected: \t4876\n"
     ]
    },
    {
     "name": "stderr",
     "output_type": "stream",
     "text": [
      "[Parallel(n_jobs=14)]: Using backend ThreadingBackend with 14 concurrent workers.\n",
      "[Parallel(n_jobs=14)]: Done  22 tasks      | elapsed:    0.0s\n",
      "[Parallel(n_jobs=14)]: Done 172 tasks      | elapsed:    0.2s\n",
      "[Parallel(n_jobs=14)]: Done 422 tasks      | elapsed:    0.5s\n",
      "[Parallel(n_jobs=14)]: Done 524 out of 524 | elapsed:    0.7s finished\n"
     ]
    },
    {
     "name": "stdout",
     "output_type": "stream",
     "text": [
      "Iteration: \t165 / 1000\n",
      "Confirmed: \t68\n",
      "Tentative: \t55\n",
      "Rejected: \t4877\n"
     ]
    },
    {
     "name": "stderr",
     "output_type": "stream",
     "text": [
      "[Parallel(n_jobs=14)]: Using backend ThreadingBackend with 14 concurrent workers.\n",
      "[Parallel(n_jobs=14)]: Done  22 tasks      | elapsed:    0.0s\n",
      "[Parallel(n_jobs=14)]: Done 172 tasks      | elapsed:    0.2s\n",
      "[Parallel(n_jobs=14)]: Done 422 tasks      | elapsed:    0.6s\n",
      "[Parallel(n_jobs=14)]: Done 522 out of 522 | elapsed:    0.7s finished\n"
     ]
    },
    {
     "name": "stdout",
     "output_type": "stream",
     "text": [
      "Iteration: \t166 / 1000\n",
      "Confirmed: \t68\n",
      "Tentative: \t55\n",
      "Rejected: \t4877\n"
     ]
    },
    {
     "name": "stderr",
     "output_type": "stream",
     "text": [
      "[Parallel(n_jobs=14)]: Using backend ThreadingBackend with 14 concurrent workers.\n",
      "[Parallel(n_jobs=14)]: Done  22 tasks      | elapsed:    0.0s\n",
      "[Parallel(n_jobs=14)]: Done 172 tasks      | elapsed:    0.2s\n",
      "[Parallel(n_jobs=14)]: Done 422 tasks      | elapsed:    0.6s\n",
      "[Parallel(n_jobs=14)]: Done 522 out of 522 | elapsed:    0.7s finished\n"
     ]
    },
    {
     "name": "stdout",
     "output_type": "stream",
     "text": [
      "Iteration: \t167 / 1000\n",
      "Confirmed: \t68\n",
      "Tentative: \t55\n",
      "Rejected: \t4877\n"
     ]
    },
    {
     "name": "stderr",
     "output_type": "stream",
     "text": [
      "[Parallel(n_jobs=14)]: Using backend ThreadingBackend with 14 concurrent workers.\n",
      "[Parallel(n_jobs=14)]: Done  22 tasks      | elapsed:    0.0s\n",
      "[Parallel(n_jobs=14)]: Done 172 tasks      | elapsed:    0.2s\n",
      "[Parallel(n_jobs=14)]: Done 422 tasks      | elapsed:    0.6s\n",
      "[Parallel(n_jobs=14)]: Done 522 out of 522 | elapsed:    0.7s finished\n"
     ]
    },
    {
     "name": "stdout",
     "output_type": "stream",
     "text": [
      "Iteration: \t168 / 1000\n",
      "Confirmed: \t68\n",
      "Tentative: \t54\n",
      "Rejected: \t4878\n"
     ]
    },
    {
     "name": "stderr",
     "output_type": "stream",
     "text": [
      "[Parallel(n_jobs=14)]: Using backend ThreadingBackend with 14 concurrent workers.\n",
      "[Parallel(n_jobs=14)]: Done  22 tasks      | elapsed:    0.0s\n",
      "[Parallel(n_jobs=14)]: Done 172 tasks      | elapsed:    0.2s\n",
      "[Parallel(n_jobs=14)]: Done 422 tasks      | elapsed:    0.5s\n",
      "[Parallel(n_jobs=14)]: Done 520 out of 520 | elapsed:    0.7s finished\n"
     ]
    },
    {
     "name": "stdout",
     "output_type": "stream",
     "text": [
      "Iteration: \t169 / 1000\n",
      "Confirmed: \t68\n",
      "Tentative: \t54\n",
      "Rejected: \t4878\n"
     ]
    },
    {
     "name": "stderr",
     "output_type": "stream",
     "text": [
      "[Parallel(n_jobs=14)]: Using backend ThreadingBackend with 14 concurrent workers.\n",
      "[Parallel(n_jobs=14)]: Done  22 tasks      | elapsed:    0.0s\n",
      "[Parallel(n_jobs=14)]: Done 172 tasks      | elapsed:    0.2s\n",
      "[Parallel(n_jobs=14)]: Done 422 tasks      | elapsed:    0.6s\n",
      "[Parallel(n_jobs=14)]: Done 520 out of 520 | elapsed:    0.7s finished\n"
     ]
    },
    {
     "name": "stdout",
     "output_type": "stream",
     "text": [
      "Iteration: \t170 / 1000\n",
      "Confirmed: \t68\n",
      "Tentative: \t54\n",
      "Rejected: \t4878\n"
     ]
    },
    {
     "name": "stderr",
     "output_type": "stream",
     "text": [
      "[Parallel(n_jobs=14)]: Using backend ThreadingBackend with 14 concurrent workers.\n",
      "[Parallel(n_jobs=14)]: Done  22 tasks      | elapsed:    0.0s\n",
      "[Parallel(n_jobs=14)]: Done 172 tasks      | elapsed:    0.2s\n",
      "[Parallel(n_jobs=14)]: Done 422 tasks      | elapsed:    0.6s\n",
      "[Parallel(n_jobs=14)]: Done 520 out of 520 | elapsed:    0.7s finished\n"
     ]
    },
    {
     "name": "stdout",
     "output_type": "stream",
     "text": [
      "Iteration: \t171 / 1000\n",
      "Confirmed: \t68\n",
      "Tentative: \t54\n",
      "Rejected: \t4878\n"
     ]
    },
    {
     "name": "stderr",
     "output_type": "stream",
     "text": [
      "[Parallel(n_jobs=14)]: Using backend ThreadingBackend with 14 concurrent workers.\n",
      "[Parallel(n_jobs=14)]: Done  22 tasks      | elapsed:    0.0s\n",
      "[Parallel(n_jobs=14)]: Done 172 tasks      | elapsed:    0.2s\n",
      "[Parallel(n_jobs=14)]: Done 422 tasks      | elapsed:    0.5s\n",
      "[Parallel(n_jobs=14)]: Done 520 out of 520 | elapsed:    0.7s finished\n"
     ]
    },
    {
     "name": "stdout",
     "output_type": "stream",
     "text": [
      "Iteration: \t172 / 1000\n",
      "Confirmed: \t68\n",
      "Tentative: \t54\n",
      "Rejected: \t4878\n"
     ]
    },
    {
     "name": "stderr",
     "output_type": "stream",
     "text": [
      "[Parallel(n_jobs=14)]: Using backend ThreadingBackend with 14 concurrent workers.\n",
      "[Parallel(n_jobs=14)]: Done  22 tasks      | elapsed:    0.0s\n",
      "[Parallel(n_jobs=14)]: Done 172 tasks      | elapsed:    0.2s\n",
      "[Parallel(n_jobs=14)]: Done 422 tasks      | elapsed:    0.5s\n",
      "[Parallel(n_jobs=14)]: Done 520 out of 520 | elapsed:    0.6s finished\n"
     ]
    },
    {
     "name": "stdout",
     "output_type": "stream",
     "text": [
      "Iteration: \t173 / 1000\n",
      "Confirmed: \t68\n",
      "Tentative: \t54\n",
      "Rejected: \t4878\n"
     ]
    },
    {
     "name": "stderr",
     "output_type": "stream",
     "text": [
      "[Parallel(n_jobs=14)]: Using backend ThreadingBackend with 14 concurrent workers.\n",
      "[Parallel(n_jobs=14)]: Done  22 tasks      | elapsed:    0.0s\n",
      "[Parallel(n_jobs=14)]: Done 172 tasks      | elapsed:    0.2s\n",
      "[Parallel(n_jobs=14)]: Done 422 tasks      | elapsed:    0.5s\n",
      "[Parallel(n_jobs=14)]: Done 520 out of 520 | elapsed:    0.7s finished\n"
     ]
    },
    {
     "name": "stdout",
     "output_type": "stream",
     "text": [
      "Iteration: \t174 / 1000\n",
      "Confirmed: \t68\n",
      "Tentative: \t54\n",
      "Rejected: \t4878\n"
     ]
    },
    {
     "name": "stderr",
     "output_type": "stream",
     "text": [
      "[Parallel(n_jobs=14)]: Using backend ThreadingBackend with 14 concurrent workers.\n",
      "[Parallel(n_jobs=14)]: Done  22 tasks      | elapsed:    0.0s\n",
      "[Parallel(n_jobs=14)]: Done 172 tasks      | elapsed:    0.2s\n",
      "[Parallel(n_jobs=14)]: Done 422 tasks      | elapsed:    0.5s\n",
      "[Parallel(n_jobs=14)]: Done 520 out of 520 | elapsed:    0.7s finished\n"
     ]
    },
    {
     "name": "stdout",
     "output_type": "stream",
     "text": [
      "Iteration: \t175 / 1000\n",
      "Confirmed: \t68\n",
      "Tentative: \t54\n",
      "Rejected: \t4878\n"
     ]
    },
    {
     "name": "stderr",
     "output_type": "stream",
     "text": [
      "[Parallel(n_jobs=14)]: Using backend ThreadingBackend with 14 concurrent workers.\n",
      "[Parallel(n_jobs=14)]: Done  22 tasks      | elapsed:    0.0s\n",
      "[Parallel(n_jobs=14)]: Done 172 tasks      | elapsed:    0.2s\n",
      "[Parallel(n_jobs=14)]: Done 422 tasks      | elapsed:    0.5s\n",
      "[Parallel(n_jobs=14)]: Done 520 out of 520 | elapsed:    0.7s finished\n"
     ]
    },
    {
     "name": "stdout",
     "output_type": "stream",
     "text": [
      "Iteration: \t176 / 1000\n",
      "Confirmed: \t68\n",
      "Tentative: \t54\n",
      "Rejected: \t4878\n"
     ]
    },
    {
     "name": "stderr",
     "output_type": "stream",
     "text": [
      "[Parallel(n_jobs=14)]: Using backend ThreadingBackend with 14 concurrent workers.\n",
      "[Parallel(n_jobs=14)]: Done  22 tasks      | elapsed:    0.0s\n",
      "[Parallel(n_jobs=14)]: Done 172 tasks      | elapsed:    0.2s\n",
      "[Parallel(n_jobs=14)]: Done 422 tasks      | elapsed:    0.5s\n",
      "[Parallel(n_jobs=14)]: Done 520 out of 520 | elapsed:    0.6s finished\n"
     ]
    },
    {
     "name": "stdout",
     "output_type": "stream",
     "text": [
      "Iteration: \t177 / 1000\n",
      "Confirmed: \t68\n",
      "Tentative: \t53\n",
      "Rejected: \t4879\n"
     ]
    },
    {
     "name": "stderr",
     "output_type": "stream",
     "text": [
      "[Parallel(n_jobs=14)]: Using backend ThreadingBackend with 14 concurrent workers.\n",
      "[Parallel(n_jobs=14)]: Done  22 tasks      | elapsed:    0.0s\n",
      "[Parallel(n_jobs=14)]: Done 172 tasks      | elapsed:    0.2s\n",
      "[Parallel(n_jobs=14)]: Done 422 tasks      | elapsed:    0.6s\n",
      "[Parallel(n_jobs=14)]: Done 518 out of 518 | elapsed:    0.7s finished\n"
     ]
    },
    {
     "name": "stdout",
     "output_type": "stream",
     "text": [
      "Iteration: \t178 / 1000\n",
      "Confirmed: \t68\n",
      "Tentative: \t53\n",
      "Rejected: \t4879\n"
     ]
    },
    {
     "name": "stderr",
     "output_type": "stream",
     "text": [
      "[Parallel(n_jobs=14)]: Using backend ThreadingBackend with 14 concurrent workers.\n",
      "[Parallel(n_jobs=14)]: Done  22 tasks      | elapsed:    0.0s\n",
      "[Parallel(n_jobs=14)]: Done 172 tasks      | elapsed:    0.2s\n",
      "[Parallel(n_jobs=14)]: Done 422 tasks      | elapsed:    0.5s\n",
      "[Parallel(n_jobs=14)]: Done 518 out of 518 | elapsed:    0.6s finished\n"
     ]
    },
    {
     "name": "stdout",
     "output_type": "stream",
     "text": [
      "Iteration: \t179 / 1000\n",
      "Confirmed: \t68\n",
      "Tentative: \t53\n",
      "Rejected: \t4879\n"
     ]
    },
    {
     "name": "stderr",
     "output_type": "stream",
     "text": [
      "[Parallel(n_jobs=14)]: Using backend ThreadingBackend with 14 concurrent workers.\n",
      "[Parallel(n_jobs=14)]: Done  22 tasks      | elapsed:    0.0s\n",
      "[Parallel(n_jobs=14)]: Done 172 tasks      | elapsed:    0.2s\n",
      "[Parallel(n_jobs=14)]: Done 422 tasks      | elapsed:    0.6s\n",
      "[Parallel(n_jobs=14)]: Done 518 out of 518 | elapsed:    0.7s finished\n"
     ]
    },
    {
     "name": "stdout",
     "output_type": "stream",
     "text": [
      "Iteration: \t180 / 1000\n",
      "Confirmed: \t68\n",
      "Tentative: \t53\n",
      "Rejected: \t4879\n"
     ]
    },
    {
     "name": "stderr",
     "output_type": "stream",
     "text": [
      "[Parallel(n_jobs=14)]: Using backend ThreadingBackend with 14 concurrent workers.\n",
      "[Parallel(n_jobs=14)]: Done  22 tasks      | elapsed:    0.0s\n",
      "[Parallel(n_jobs=14)]: Done 172 tasks      | elapsed:    0.2s\n",
      "[Parallel(n_jobs=14)]: Done 422 tasks      | elapsed:    0.5s\n",
      "[Parallel(n_jobs=14)]: Done 518 out of 518 | elapsed:    0.6s finished\n"
     ]
    },
    {
     "name": "stdout",
     "output_type": "stream",
     "text": [
      "Iteration: \t181 / 1000\n",
      "Confirmed: \t68\n",
      "Tentative: \t53\n",
      "Rejected: \t4879\n"
     ]
    },
    {
     "name": "stderr",
     "output_type": "stream",
     "text": [
      "[Parallel(n_jobs=14)]: Using backend ThreadingBackend with 14 concurrent workers.\n",
      "[Parallel(n_jobs=14)]: Done  22 tasks      | elapsed:    0.0s\n",
      "[Parallel(n_jobs=14)]: Done 172 tasks      | elapsed:    0.2s\n",
      "[Parallel(n_jobs=14)]: Done 422 tasks      | elapsed:    0.5s\n",
      "[Parallel(n_jobs=14)]: Done 518 out of 518 | elapsed:    0.7s finished\n"
     ]
    },
    {
     "name": "stdout",
     "output_type": "stream",
     "text": [
      "Iteration: \t182 / 1000\n",
      "Confirmed: \t69\n",
      "Tentative: \t52\n",
      "Rejected: \t4879\n"
     ]
    },
    {
     "name": "stderr",
     "output_type": "stream",
     "text": [
      "[Parallel(n_jobs=14)]: Using backend ThreadingBackend with 14 concurrent workers.\n",
      "[Parallel(n_jobs=14)]: Done  22 tasks      | elapsed:    0.0s\n",
      "[Parallel(n_jobs=14)]: Done 172 tasks      | elapsed:    0.2s\n",
      "[Parallel(n_jobs=14)]: Done 422 tasks      | elapsed:    0.6s\n",
      "[Parallel(n_jobs=14)]: Done 518 out of 518 | elapsed:    0.7s finished\n"
     ]
    },
    {
     "name": "stdout",
     "output_type": "stream",
     "text": [
      "Iteration: \t183 / 1000\n",
      "Confirmed: \t69\n",
      "Tentative: \t52\n",
      "Rejected: \t4879\n"
     ]
    },
    {
     "name": "stderr",
     "output_type": "stream",
     "text": [
      "[Parallel(n_jobs=14)]: Using backend ThreadingBackend with 14 concurrent workers.\n",
      "[Parallel(n_jobs=14)]: Done  22 tasks      | elapsed:    0.0s\n",
      "[Parallel(n_jobs=14)]: Done 172 tasks      | elapsed:    0.2s\n",
      "[Parallel(n_jobs=14)]: Done 422 tasks      | elapsed:    0.5s\n",
      "[Parallel(n_jobs=14)]: Done 518 out of 518 | elapsed:    0.6s finished\n"
     ]
    },
    {
     "name": "stdout",
     "output_type": "stream",
     "text": [
      "Iteration: \t184 / 1000\n",
      "Confirmed: \t69\n",
      "Tentative: \t51\n",
      "Rejected: \t4880\n"
     ]
    },
    {
     "name": "stderr",
     "output_type": "stream",
     "text": [
      "[Parallel(n_jobs=14)]: Using backend ThreadingBackend with 14 concurrent workers.\n",
      "[Parallel(n_jobs=14)]: Done  22 tasks      | elapsed:    0.0s\n",
      "[Parallel(n_jobs=14)]: Done 172 tasks      | elapsed:    0.2s\n",
      "[Parallel(n_jobs=14)]: Done 422 tasks      | elapsed:    0.5s\n",
      "[Parallel(n_jobs=14)]: Done 516 out of 516 | elapsed:    0.6s finished\n"
     ]
    },
    {
     "name": "stdout",
     "output_type": "stream",
     "text": [
      "Iteration: \t185 / 1000\n",
      "Confirmed: \t69\n",
      "Tentative: \t51\n",
      "Rejected: \t4880\n"
     ]
    },
    {
     "name": "stderr",
     "output_type": "stream",
     "text": [
      "[Parallel(n_jobs=14)]: Using backend ThreadingBackend with 14 concurrent workers.\n",
      "[Parallel(n_jobs=14)]: Done  22 tasks      | elapsed:    0.0s\n",
      "[Parallel(n_jobs=14)]: Done 172 tasks      | elapsed:    0.2s\n",
      "[Parallel(n_jobs=14)]: Done 422 tasks      | elapsed:    0.5s\n",
      "[Parallel(n_jobs=14)]: Done 516 out of 516 | elapsed:    0.6s finished\n"
     ]
    },
    {
     "name": "stdout",
     "output_type": "stream",
     "text": [
      "Iteration: \t186 / 1000\n",
      "Confirmed: \t69\n",
      "Tentative: \t50\n",
      "Rejected: \t4881\n"
     ]
    },
    {
     "name": "stderr",
     "output_type": "stream",
     "text": [
      "[Parallel(n_jobs=14)]: Using backend ThreadingBackend with 14 concurrent workers.\n",
      "[Parallel(n_jobs=14)]: Done  22 tasks      | elapsed:    0.0s\n",
      "[Parallel(n_jobs=14)]: Done 172 tasks      | elapsed:    0.2s\n",
      "[Parallel(n_jobs=14)]: Done 422 tasks      | elapsed:    0.5s\n",
      "[Parallel(n_jobs=14)]: Done 514 out of 514 | elapsed:    0.6s finished\n"
     ]
    },
    {
     "name": "stdout",
     "output_type": "stream",
     "text": [
      "Iteration: \t187 / 1000\n",
      "Confirmed: \t69\n",
      "Tentative: \t50\n",
      "Rejected: \t4881\n"
     ]
    },
    {
     "name": "stderr",
     "output_type": "stream",
     "text": [
      "[Parallel(n_jobs=14)]: Using backend ThreadingBackend with 14 concurrent workers.\n",
      "[Parallel(n_jobs=14)]: Done  22 tasks      | elapsed:    0.0s\n",
      "[Parallel(n_jobs=14)]: Done 172 tasks      | elapsed:    0.2s\n",
      "[Parallel(n_jobs=14)]: Done 422 tasks      | elapsed:    0.5s\n",
      "[Parallel(n_jobs=14)]: Done 514 out of 514 | elapsed:    0.6s finished\n"
     ]
    },
    {
     "name": "stdout",
     "output_type": "stream",
     "text": [
      "Iteration: \t188 / 1000\n",
      "Confirmed: \t69\n",
      "Tentative: \t50\n",
      "Rejected: \t4881\n"
     ]
    },
    {
     "name": "stderr",
     "output_type": "stream",
     "text": [
      "[Parallel(n_jobs=14)]: Using backend ThreadingBackend with 14 concurrent workers.\n",
      "[Parallel(n_jobs=14)]: Done  22 tasks      | elapsed:    0.0s\n",
      "[Parallel(n_jobs=14)]: Done 172 tasks      | elapsed:    0.2s\n",
      "[Parallel(n_jobs=14)]: Done 422 tasks      | elapsed:    0.5s\n",
      "[Parallel(n_jobs=14)]: Done 514 out of 514 | elapsed:    0.6s finished\n"
     ]
    },
    {
     "name": "stdout",
     "output_type": "stream",
     "text": [
      "Iteration: \t189 / 1000\n",
      "Confirmed: \t69\n",
      "Tentative: \t50\n",
      "Rejected: \t4881\n"
     ]
    },
    {
     "name": "stderr",
     "output_type": "stream",
     "text": [
      "[Parallel(n_jobs=14)]: Using backend ThreadingBackend with 14 concurrent workers.\n",
      "[Parallel(n_jobs=14)]: Done  22 tasks      | elapsed:    0.0s\n",
      "[Parallel(n_jobs=14)]: Done 172 tasks      | elapsed:    0.2s\n",
      "[Parallel(n_jobs=14)]: Done 422 tasks      | elapsed:    0.6s\n",
      "[Parallel(n_jobs=14)]: Done 514 out of 514 | elapsed:    0.7s finished\n"
     ]
    },
    {
     "name": "stdout",
     "output_type": "stream",
     "text": [
      "Iteration: \t190 / 1000\n",
      "Confirmed: \t69\n",
      "Tentative: \t50\n",
      "Rejected: \t4881\n"
     ]
    },
    {
     "name": "stderr",
     "output_type": "stream",
     "text": [
      "[Parallel(n_jobs=14)]: Using backend ThreadingBackend with 14 concurrent workers.\n",
      "[Parallel(n_jobs=14)]: Done  22 tasks      | elapsed:    0.0s\n",
      "[Parallel(n_jobs=14)]: Done 172 tasks      | elapsed:    0.2s\n",
      "[Parallel(n_jobs=14)]: Done 422 tasks      | elapsed:    0.6s\n",
      "[Parallel(n_jobs=14)]: Done 514 out of 514 | elapsed:    0.7s finished\n"
     ]
    },
    {
     "name": "stdout",
     "output_type": "stream",
     "text": [
      "Iteration: \t191 / 1000\n",
      "Confirmed: \t69\n",
      "Tentative: \t50\n",
      "Rejected: \t4881\n"
     ]
    },
    {
     "name": "stderr",
     "output_type": "stream",
     "text": [
      "[Parallel(n_jobs=14)]: Using backend ThreadingBackend with 14 concurrent workers.\n",
      "[Parallel(n_jobs=14)]: Done  22 tasks      | elapsed:    0.0s\n",
      "[Parallel(n_jobs=14)]: Done 172 tasks      | elapsed:    0.2s\n",
      "[Parallel(n_jobs=14)]: Done 422 tasks      | elapsed:    0.6s\n",
      "[Parallel(n_jobs=14)]: Done 514 out of 514 | elapsed:    0.7s finished\n"
     ]
    },
    {
     "name": "stdout",
     "output_type": "stream",
     "text": [
      "Iteration: \t192 / 1000\n",
      "Confirmed: \t69\n",
      "Tentative: \t50\n",
      "Rejected: \t4881\n"
     ]
    },
    {
     "name": "stderr",
     "output_type": "stream",
     "text": [
      "[Parallel(n_jobs=14)]: Using backend ThreadingBackend with 14 concurrent workers.\n",
      "[Parallel(n_jobs=14)]: Done  22 tasks      | elapsed:    0.0s\n",
      "[Parallel(n_jobs=14)]: Done 172 tasks      | elapsed:    0.2s\n",
      "[Parallel(n_jobs=14)]: Done 422 tasks      | elapsed:    0.5s\n",
      "[Parallel(n_jobs=14)]: Done 514 out of 514 | elapsed:    0.6s finished\n"
     ]
    },
    {
     "name": "stdout",
     "output_type": "stream",
     "text": [
      "Iteration: \t193 / 1000\n",
      "Confirmed: \t69\n",
      "Tentative: \t50\n",
      "Rejected: \t4881\n"
     ]
    },
    {
     "name": "stderr",
     "output_type": "stream",
     "text": [
      "[Parallel(n_jobs=14)]: Using backend ThreadingBackend with 14 concurrent workers.\n",
      "[Parallel(n_jobs=14)]: Done  22 tasks      | elapsed:    0.0s\n",
      "[Parallel(n_jobs=14)]: Done 172 tasks      | elapsed:    0.2s\n",
      "[Parallel(n_jobs=14)]: Done 422 tasks      | elapsed:    0.6s\n",
      "[Parallel(n_jobs=14)]: Done 514 out of 514 | elapsed:    0.7s finished\n"
     ]
    },
    {
     "name": "stdout",
     "output_type": "stream",
     "text": [
      "Iteration: \t194 / 1000\n",
      "Confirmed: \t69\n",
      "Tentative: \t50\n",
      "Rejected: \t4881\n"
     ]
    },
    {
     "name": "stderr",
     "output_type": "stream",
     "text": [
      "[Parallel(n_jobs=14)]: Using backend ThreadingBackend with 14 concurrent workers.\n",
      "[Parallel(n_jobs=14)]: Done  22 tasks      | elapsed:    0.0s\n",
      "[Parallel(n_jobs=14)]: Done 172 tasks      | elapsed:    0.2s\n",
      "[Parallel(n_jobs=14)]: Done 422 tasks      | elapsed:    0.5s\n",
      "[Parallel(n_jobs=14)]: Done 514 out of 514 | elapsed:    0.6s finished\n"
     ]
    },
    {
     "name": "stdout",
     "output_type": "stream",
     "text": [
      "Iteration: \t195 / 1000\n",
      "Confirmed: \t69\n",
      "Tentative: \t50\n",
      "Rejected: \t4881\n"
     ]
    },
    {
     "name": "stderr",
     "output_type": "stream",
     "text": [
      "[Parallel(n_jobs=14)]: Using backend ThreadingBackend with 14 concurrent workers.\n",
      "[Parallel(n_jobs=14)]: Done  22 tasks      | elapsed:    0.0s\n",
      "[Parallel(n_jobs=14)]: Done 172 tasks      | elapsed:    0.2s\n",
      "[Parallel(n_jobs=14)]: Done 422 tasks      | elapsed:    0.6s\n",
      "[Parallel(n_jobs=14)]: Done 514 out of 514 | elapsed:    0.7s finished\n"
     ]
    },
    {
     "name": "stdout",
     "output_type": "stream",
     "text": [
      "Iteration: \t196 / 1000\n",
      "Confirmed: \t69\n",
      "Tentative: \t50\n",
      "Rejected: \t4881\n"
     ]
    },
    {
     "name": "stderr",
     "output_type": "stream",
     "text": [
      "[Parallel(n_jobs=14)]: Using backend ThreadingBackend with 14 concurrent workers.\n",
      "[Parallel(n_jobs=14)]: Done  22 tasks      | elapsed:    0.0s\n",
      "[Parallel(n_jobs=14)]: Done 172 tasks      | elapsed:    0.2s\n",
      "[Parallel(n_jobs=14)]: Done 422 tasks      | elapsed:    0.5s\n",
      "[Parallel(n_jobs=14)]: Done 514 out of 514 | elapsed:    0.7s finished\n"
     ]
    },
    {
     "name": "stdout",
     "output_type": "stream",
     "text": [
      "Iteration: \t197 / 1000\n",
      "Confirmed: \t69\n",
      "Tentative: \t50\n",
      "Rejected: \t4881\n"
     ]
    },
    {
     "name": "stderr",
     "output_type": "stream",
     "text": [
      "[Parallel(n_jobs=14)]: Using backend ThreadingBackend with 14 concurrent workers.\n",
      "[Parallel(n_jobs=14)]: Done  22 tasks      | elapsed:    0.0s\n",
      "[Parallel(n_jobs=14)]: Done 172 tasks      | elapsed:    0.2s\n",
      "[Parallel(n_jobs=14)]: Done 422 tasks      | elapsed:    0.6s\n",
      "[Parallel(n_jobs=14)]: Done 514 out of 514 | elapsed:    0.7s finished\n"
     ]
    },
    {
     "name": "stdout",
     "output_type": "stream",
     "text": [
      "Iteration: \t198 / 1000\n",
      "Confirmed: \t69\n",
      "Tentative: \t50\n",
      "Rejected: \t4881\n"
     ]
    },
    {
     "name": "stderr",
     "output_type": "stream",
     "text": [
      "[Parallel(n_jobs=14)]: Using backend ThreadingBackend with 14 concurrent workers.\n",
      "[Parallel(n_jobs=14)]: Done  22 tasks      | elapsed:    0.0s\n",
      "[Parallel(n_jobs=14)]: Done 172 tasks      | elapsed:    0.2s\n",
      "[Parallel(n_jobs=14)]: Done 422 tasks      | elapsed:    0.5s\n",
      "[Parallel(n_jobs=14)]: Done 514 out of 514 | elapsed:    0.6s finished\n"
     ]
    },
    {
     "name": "stdout",
     "output_type": "stream",
     "text": [
      "Iteration: \t199 / 1000\n",
      "Confirmed: \t69\n",
      "Tentative: \t50\n",
      "Rejected: \t4881\n"
     ]
    },
    {
     "name": "stderr",
     "output_type": "stream",
     "text": [
      "[Parallel(n_jobs=14)]: Using backend ThreadingBackend with 14 concurrent workers.\n",
      "[Parallel(n_jobs=14)]: Done  22 tasks      | elapsed:    0.0s\n",
      "[Parallel(n_jobs=14)]: Done 172 tasks      | elapsed:    0.2s\n",
      "[Parallel(n_jobs=14)]: Done 422 tasks      | elapsed:    0.6s\n",
      "[Parallel(n_jobs=14)]: Done 514 out of 514 | elapsed:    0.7s finished\n"
     ]
    },
    {
     "name": "stdout",
     "output_type": "stream",
     "text": [
      "Iteration: \t200 / 1000\n",
      "Confirmed: \t69\n",
      "Tentative: \t50\n",
      "Rejected: \t4881\n"
     ]
    },
    {
     "name": "stderr",
     "output_type": "stream",
     "text": [
      "[Parallel(n_jobs=14)]: Using backend ThreadingBackend with 14 concurrent workers.\n",
      "[Parallel(n_jobs=14)]: Done  22 tasks      | elapsed:    0.0s\n",
      "[Parallel(n_jobs=14)]: Done 172 tasks      | elapsed:    0.2s\n",
      "[Parallel(n_jobs=14)]: Done 422 tasks      | elapsed:    0.6s\n",
      "[Parallel(n_jobs=14)]: Done 514 out of 514 | elapsed:    0.7s finished\n"
     ]
    },
    {
     "name": "stdout",
     "output_type": "stream",
     "text": [
      "Iteration: \t201 / 1000\n",
      "Confirmed: \t69\n",
      "Tentative: \t50\n",
      "Rejected: \t4881\n"
     ]
    },
    {
     "name": "stderr",
     "output_type": "stream",
     "text": [
      "[Parallel(n_jobs=14)]: Using backend ThreadingBackend with 14 concurrent workers.\n",
      "[Parallel(n_jobs=14)]: Done  22 tasks      | elapsed:    0.0s\n",
      "[Parallel(n_jobs=14)]: Done 172 tasks      | elapsed:    0.2s\n",
      "[Parallel(n_jobs=14)]: Done 422 tasks      | elapsed:    0.5s\n",
      "[Parallel(n_jobs=14)]: Done 514 out of 514 | elapsed:    0.6s finished\n"
     ]
    },
    {
     "name": "stdout",
     "output_type": "stream",
     "text": [
      "Iteration: \t202 / 1000\n",
      "Confirmed: \t69\n",
      "Tentative: \t50\n",
      "Rejected: \t4881\n"
     ]
    },
    {
     "name": "stderr",
     "output_type": "stream",
     "text": [
      "[Parallel(n_jobs=14)]: Using backend ThreadingBackend with 14 concurrent workers.\n",
      "[Parallel(n_jobs=14)]: Done  22 tasks      | elapsed:    0.0s\n",
      "[Parallel(n_jobs=14)]: Done 172 tasks      | elapsed:    0.2s\n",
      "[Parallel(n_jobs=14)]: Done 422 tasks      | elapsed:    0.6s\n",
      "[Parallel(n_jobs=14)]: Done 514 out of 514 | elapsed:    0.7s finished\n"
     ]
    },
    {
     "name": "stdout",
     "output_type": "stream",
     "text": [
      "Iteration: \t203 / 1000\n",
      "Confirmed: \t69\n",
      "Tentative: \t50\n",
      "Rejected: \t4881\n"
     ]
    },
    {
     "name": "stderr",
     "output_type": "stream",
     "text": [
      "[Parallel(n_jobs=14)]: Using backend ThreadingBackend with 14 concurrent workers.\n",
      "[Parallel(n_jobs=14)]: Done  22 tasks      | elapsed:    0.0s\n",
      "[Parallel(n_jobs=14)]: Done 172 tasks      | elapsed:    0.2s\n",
      "[Parallel(n_jobs=14)]: Done 422 tasks      | elapsed:    0.6s\n",
      "[Parallel(n_jobs=14)]: Done 514 out of 514 | elapsed:    0.7s finished\n"
     ]
    },
    {
     "name": "stdout",
     "output_type": "stream",
     "text": [
      "Iteration: \t204 / 1000\n",
      "Confirmed: \t69\n",
      "Tentative: \t50\n",
      "Rejected: \t4881\n"
     ]
    },
    {
     "name": "stderr",
     "output_type": "stream",
     "text": [
      "[Parallel(n_jobs=14)]: Using backend ThreadingBackend with 14 concurrent workers.\n",
      "[Parallel(n_jobs=14)]: Done  22 tasks      | elapsed:    0.0s\n",
      "[Parallel(n_jobs=14)]: Done 172 tasks      | elapsed:    0.2s\n",
      "[Parallel(n_jobs=14)]: Done 422 tasks      | elapsed:    0.5s\n",
      "[Parallel(n_jobs=14)]: Done 514 out of 514 | elapsed:    0.6s finished\n"
     ]
    },
    {
     "name": "stdout",
     "output_type": "stream",
     "text": [
      "Iteration: \t205 / 1000\n",
      "Confirmed: \t69\n",
      "Tentative: \t50\n",
      "Rejected: \t4881\n"
     ]
    },
    {
     "name": "stderr",
     "output_type": "stream",
     "text": [
      "[Parallel(n_jobs=14)]: Using backend ThreadingBackend with 14 concurrent workers.\n",
      "[Parallel(n_jobs=14)]: Done  22 tasks      | elapsed:    0.0s\n",
      "[Parallel(n_jobs=14)]: Done 172 tasks      | elapsed:    0.2s\n",
      "[Parallel(n_jobs=14)]: Done 422 tasks      | elapsed:    0.5s\n",
      "[Parallel(n_jobs=14)]: Done 514 out of 514 | elapsed:    0.7s finished\n"
     ]
    },
    {
     "name": "stdout",
     "output_type": "stream",
     "text": [
      "Iteration: \t206 / 1000\n",
      "Confirmed: \t69\n",
      "Tentative: \t50\n",
      "Rejected: \t4881\n"
     ]
    },
    {
     "name": "stderr",
     "output_type": "stream",
     "text": [
      "[Parallel(n_jobs=14)]: Using backend ThreadingBackend with 14 concurrent workers.\n",
      "[Parallel(n_jobs=14)]: Done  22 tasks      | elapsed:    0.0s\n",
      "[Parallel(n_jobs=14)]: Done 172 tasks      | elapsed:    0.2s\n",
      "[Parallel(n_jobs=14)]: Done 422 tasks      | elapsed:    0.6s\n",
      "[Parallel(n_jobs=14)]: Done 514 out of 514 | elapsed:    0.7s finished\n"
     ]
    },
    {
     "name": "stdout",
     "output_type": "stream",
     "text": [
      "Iteration: \t207 / 1000\n",
      "Confirmed: \t69\n",
      "Tentative: \t50\n",
      "Rejected: \t4881\n"
     ]
    },
    {
     "name": "stderr",
     "output_type": "stream",
     "text": [
      "[Parallel(n_jobs=14)]: Using backend ThreadingBackend with 14 concurrent workers.\n",
      "[Parallel(n_jobs=14)]: Done  22 tasks      | elapsed:    0.0s\n",
      "[Parallel(n_jobs=14)]: Done 172 tasks      | elapsed:    0.2s\n",
      "[Parallel(n_jobs=14)]: Done 422 tasks      | elapsed:    0.6s\n",
      "[Parallel(n_jobs=14)]: Done 514 out of 514 | elapsed:    0.7s finished\n"
     ]
    },
    {
     "name": "stdout",
     "output_type": "stream",
     "text": [
      "Iteration: \t208 / 1000\n",
      "Confirmed: \t69\n",
      "Tentative: \t50\n",
      "Rejected: \t4881\n"
     ]
    },
    {
     "name": "stderr",
     "output_type": "stream",
     "text": [
      "[Parallel(n_jobs=14)]: Using backend ThreadingBackend with 14 concurrent workers.\n",
      "[Parallel(n_jobs=14)]: Done  22 tasks      | elapsed:    0.0s\n",
      "[Parallel(n_jobs=14)]: Done 172 tasks      | elapsed:    0.2s\n",
      "[Parallel(n_jobs=14)]: Done 422 tasks      | elapsed:    0.5s\n",
      "[Parallel(n_jobs=14)]: Done 514 out of 514 | elapsed:    0.7s finished\n"
     ]
    },
    {
     "name": "stdout",
     "output_type": "stream",
     "text": [
      "Iteration: \t209 / 1000\n",
      "Confirmed: \t69\n",
      "Tentative: \t50\n",
      "Rejected: \t4881\n"
     ]
    },
    {
     "name": "stderr",
     "output_type": "stream",
     "text": [
      "[Parallel(n_jobs=14)]: Using backend ThreadingBackend with 14 concurrent workers.\n",
      "[Parallel(n_jobs=14)]: Done  22 tasks      | elapsed:    0.0s\n",
      "[Parallel(n_jobs=14)]: Done 172 tasks      | elapsed:    0.2s\n",
      "[Parallel(n_jobs=14)]: Done 422 tasks      | elapsed:    0.5s\n",
      "[Parallel(n_jobs=14)]: Done 514 out of 514 | elapsed:    0.7s finished\n"
     ]
    },
    {
     "name": "stdout",
     "output_type": "stream",
     "text": [
      "Iteration: \t210 / 1000\n",
      "Confirmed: \t69\n",
      "Tentative: \t50\n",
      "Rejected: \t4881\n"
     ]
    },
    {
     "name": "stderr",
     "output_type": "stream",
     "text": [
      "[Parallel(n_jobs=14)]: Using backend ThreadingBackend with 14 concurrent workers.\n",
      "[Parallel(n_jobs=14)]: Done  22 tasks      | elapsed:    0.0s\n",
      "[Parallel(n_jobs=14)]: Done 172 tasks      | elapsed:    0.2s\n",
      "[Parallel(n_jobs=14)]: Done 422 tasks      | elapsed:    0.6s\n",
      "[Parallel(n_jobs=14)]: Done 514 out of 514 | elapsed:    0.7s finished\n"
     ]
    },
    {
     "name": "stdout",
     "output_type": "stream",
     "text": [
      "Iteration: \t211 / 1000\n",
      "Confirmed: \t69\n",
      "Tentative: \t50\n",
      "Rejected: \t4881\n"
     ]
    },
    {
     "name": "stderr",
     "output_type": "stream",
     "text": [
      "[Parallel(n_jobs=14)]: Using backend ThreadingBackend with 14 concurrent workers.\n",
      "[Parallel(n_jobs=14)]: Done  22 tasks      | elapsed:    0.0s\n",
      "[Parallel(n_jobs=14)]: Done 172 tasks      | elapsed:    0.2s\n",
      "[Parallel(n_jobs=14)]: Done 422 tasks      | elapsed:    0.6s\n",
      "[Parallel(n_jobs=14)]: Done 514 out of 514 | elapsed:    0.7s finished\n"
     ]
    },
    {
     "name": "stdout",
     "output_type": "stream",
     "text": [
      "Iteration: \t212 / 1000\n",
      "Confirmed: \t69\n",
      "Tentative: \t50\n",
      "Rejected: \t4881\n"
     ]
    },
    {
     "name": "stderr",
     "output_type": "stream",
     "text": [
      "[Parallel(n_jobs=14)]: Using backend ThreadingBackend with 14 concurrent workers.\n",
      "[Parallel(n_jobs=14)]: Done  22 tasks      | elapsed:    0.0s\n",
      "[Parallel(n_jobs=14)]: Done 172 tasks      | elapsed:    0.2s\n",
      "[Parallel(n_jobs=14)]: Done 422 tasks      | elapsed:    0.5s\n",
      "[Parallel(n_jobs=14)]: Done 514 out of 514 | elapsed:    0.7s finished\n"
     ]
    },
    {
     "name": "stdout",
     "output_type": "stream",
     "text": [
      "Iteration: \t213 / 1000\n",
      "Confirmed: \t69\n",
      "Tentative: \t50\n",
      "Rejected: \t4881\n"
     ]
    },
    {
     "name": "stderr",
     "output_type": "stream",
     "text": [
      "[Parallel(n_jobs=14)]: Using backend ThreadingBackend with 14 concurrent workers.\n",
      "[Parallel(n_jobs=14)]: Done  22 tasks      | elapsed:    0.0s\n",
      "[Parallel(n_jobs=14)]: Done 172 tasks      | elapsed:    0.2s\n",
      "[Parallel(n_jobs=14)]: Done 422 tasks      | elapsed:    0.5s\n",
      "[Parallel(n_jobs=14)]: Done 514 out of 514 | elapsed:    0.7s finished\n"
     ]
    },
    {
     "name": "stdout",
     "output_type": "stream",
     "text": [
      "Iteration: \t214 / 1000\n",
      "Confirmed: \t69\n",
      "Tentative: \t50\n",
      "Rejected: \t4881\n"
     ]
    },
    {
     "name": "stderr",
     "output_type": "stream",
     "text": [
      "[Parallel(n_jobs=14)]: Using backend ThreadingBackend with 14 concurrent workers.\n",
      "[Parallel(n_jobs=14)]: Done  22 tasks      | elapsed:    0.0s\n",
      "[Parallel(n_jobs=14)]: Done 172 tasks      | elapsed:    0.2s\n",
      "[Parallel(n_jobs=14)]: Done 422 tasks      | elapsed:    0.5s\n",
      "[Parallel(n_jobs=14)]: Done 514 out of 514 | elapsed:    0.6s finished\n"
     ]
    },
    {
     "name": "stdout",
     "output_type": "stream",
     "text": [
      "Iteration: \t215 / 1000\n",
      "Confirmed: \t69\n",
      "Tentative: \t50\n",
      "Rejected: \t4881\n"
     ]
    },
    {
     "name": "stderr",
     "output_type": "stream",
     "text": [
      "[Parallel(n_jobs=14)]: Using backend ThreadingBackend with 14 concurrent workers.\n",
      "[Parallel(n_jobs=14)]: Done  22 tasks      | elapsed:    0.0s\n",
      "[Parallel(n_jobs=14)]: Done 172 tasks      | elapsed:    0.2s\n",
      "[Parallel(n_jobs=14)]: Done 422 tasks      | elapsed:    0.5s\n",
      "[Parallel(n_jobs=14)]: Done 514 out of 514 | elapsed:    0.6s finished\n"
     ]
    },
    {
     "name": "stdout",
     "output_type": "stream",
     "text": [
      "Iteration: \t216 / 1000\n",
      "Confirmed: \t69\n",
      "Tentative: \t50\n",
      "Rejected: \t4881\n"
     ]
    },
    {
     "name": "stderr",
     "output_type": "stream",
     "text": [
      "[Parallel(n_jobs=14)]: Using backend ThreadingBackend with 14 concurrent workers.\n",
      "[Parallel(n_jobs=14)]: Done  22 tasks      | elapsed:    0.0s\n",
      "[Parallel(n_jobs=14)]: Done 172 tasks      | elapsed:    0.2s\n",
      "[Parallel(n_jobs=14)]: Done 422 tasks      | elapsed:    0.5s\n",
      "[Parallel(n_jobs=14)]: Done 514 out of 514 | elapsed:    0.7s finished\n"
     ]
    },
    {
     "name": "stdout",
     "output_type": "stream",
     "text": [
      "Iteration: \t217 / 1000\n",
      "Confirmed: \t70\n",
      "Tentative: \t49\n",
      "Rejected: \t4881\n"
     ]
    },
    {
     "name": "stderr",
     "output_type": "stream",
     "text": [
      "[Parallel(n_jobs=14)]: Using backend ThreadingBackend with 14 concurrent workers.\n",
      "[Parallel(n_jobs=14)]: Done  22 tasks      | elapsed:    0.0s\n",
      "[Parallel(n_jobs=14)]: Done 172 tasks      | elapsed:    0.2s\n",
      "[Parallel(n_jobs=14)]: Done 422 tasks      | elapsed:    0.5s\n",
      "[Parallel(n_jobs=14)]: Done 514 out of 514 | elapsed:    0.6s finished\n"
     ]
    },
    {
     "name": "stdout",
     "output_type": "stream",
     "text": [
      "Iteration: \t218 / 1000\n",
      "Confirmed: \t70\n",
      "Tentative: \t49\n",
      "Rejected: \t4881\n"
     ]
    },
    {
     "name": "stderr",
     "output_type": "stream",
     "text": [
      "[Parallel(n_jobs=14)]: Using backend ThreadingBackend with 14 concurrent workers.\n",
      "[Parallel(n_jobs=14)]: Done  22 tasks      | elapsed:    0.0s\n",
      "[Parallel(n_jobs=14)]: Done 172 tasks      | elapsed:    0.2s\n",
      "[Parallel(n_jobs=14)]: Done 422 tasks      | elapsed:    0.5s\n",
      "[Parallel(n_jobs=14)]: Done 514 out of 514 | elapsed:    0.7s finished\n"
     ]
    },
    {
     "name": "stdout",
     "output_type": "stream",
     "text": [
      "Iteration: \t219 / 1000\n",
      "Confirmed: \t70\n",
      "Tentative: \t48\n",
      "Rejected: \t4882\n"
     ]
    },
    {
     "name": "stderr",
     "output_type": "stream",
     "text": [
      "[Parallel(n_jobs=14)]: Using backend ThreadingBackend with 14 concurrent workers.\n",
      "[Parallel(n_jobs=14)]: Done  22 tasks      | elapsed:    0.0s\n",
      "[Parallel(n_jobs=14)]: Done 172 tasks      | elapsed:    0.2s\n",
      "[Parallel(n_jobs=14)]: Done 422 tasks      | elapsed:    0.5s\n",
      "[Parallel(n_jobs=14)]: Done 512 out of 512 | elapsed:    0.6s finished\n"
     ]
    },
    {
     "name": "stdout",
     "output_type": "stream",
     "text": [
      "Iteration: \t220 / 1000\n",
      "Confirmed: \t70\n",
      "Tentative: \t48\n",
      "Rejected: \t4882\n"
     ]
    },
    {
     "name": "stderr",
     "output_type": "stream",
     "text": [
      "[Parallel(n_jobs=14)]: Using backend ThreadingBackend with 14 concurrent workers.\n",
      "[Parallel(n_jobs=14)]: Done  22 tasks      | elapsed:    0.0s\n",
      "[Parallel(n_jobs=14)]: Done 172 tasks      | elapsed:    0.2s\n",
      "[Parallel(n_jobs=14)]: Done 422 tasks      | elapsed:    0.6s\n",
      "[Parallel(n_jobs=14)]: Done 512 out of 512 | elapsed:    0.7s finished\n"
     ]
    },
    {
     "name": "stdout",
     "output_type": "stream",
     "text": [
      "Iteration: \t221 / 1000\n",
      "Confirmed: \t70\n",
      "Tentative: \t48\n",
      "Rejected: \t4882\n"
     ]
    },
    {
     "name": "stderr",
     "output_type": "stream",
     "text": [
      "[Parallel(n_jobs=14)]: Using backend ThreadingBackend with 14 concurrent workers.\n",
      "[Parallel(n_jobs=14)]: Done  22 tasks      | elapsed:    0.0s\n",
      "[Parallel(n_jobs=14)]: Done 172 tasks      | elapsed:    0.2s\n",
      "[Parallel(n_jobs=14)]: Done 422 tasks      | elapsed:    0.6s\n",
      "[Parallel(n_jobs=14)]: Done 512 out of 512 | elapsed:    0.7s finished\n"
     ]
    },
    {
     "name": "stdout",
     "output_type": "stream",
     "text": [
      "Iteration: \t222 / 1000\n",
      "Confirmed: \t70\n",
      "Tentative: \t48\n",
      "Rejected: \t4882\n"
     ]
    },
    {
     "name": "stderr",
     "output_type": "stream",
     "text": [
      "[Parallel(n_jobs=14)]: Using backend ThreadingBackend with 14 concurrent workers.\n",
      "[Parallel(n_jobs=14)]: Done  22 tasks      | elapsed:    0.0s\n",
      "[Parallel(n_jobs=14)]: Done 172 tasks      | elapsed:    0.2s\n",
      "[Parallel(n_jobs=14)]: Done 422 tasks      | elapsed:    0.5s\n",
      "[Parallel(n_jobs=14)]: Done 512 out of 512 | elapsed:    0.6s finished\n"
     ]
    },
    {
     "name": "stdout",
     "output_type": "stream",
     "text": [
      "Iteration: \t223 / 1000\n",
      "Confirmed: \t70\n",
      "Tentative: \t48\n",
      "Rejected: \t4882\n"
     ]
    },
    {
     "name": "stderr",
     "output_type": "stream",
     "text": [
      "[Parallel(n_jobs=14)]: Using backend ThreadingBackend with 14 concurrent workers.\n",
      "[Parallel(n_jobs=14)]: Done  22 tasks      | elapsed:    0.0s\n",
      "[Parallel(n_jobs=14)]: Done 172 tasks      | elapsed:    0.2s\n",
      "[Parallel(n_jobs=14)]: Done 422 tasks      | elapsed:    0.6s\n",
      "[Parallel(n_jobs=14)]: Done 512 out of 512 | elapsed:    0.7s finished\n"
     ]
    },
    {
     "name": "stdout",
     "output_type": "stream",
     "text": [
      "Iteration: \t224 / 1000\n",
      "Confirmed: \t70\n",
      "Tentative: \t48\n",
      "Rejected: \t4882\n"
     ]
    },
    {
     "name": "stderr",
     "output_type": "stream",
     "text": [
      "[Parallel(n_jobs=14)]: Using backend ThreadingBackend with 14 concurrent workers.\n",
      "[Parallel(n_jobs=14)]: Done  22 tasks      | elapsed:    0.0s\n",
      "[Parallel(n_jobs=14)]: Done 172 tasks      | elapsed:    0.2s\n",
      "[Parallel(n_jobs=14)]: Done 422 tasks      | elapsed:    0.5s\n",
      "[Parallel(n_jobs=14)]: Done 512 out of 512 | elapsed:    0.6s finished\n"
     ]
    },
    {
     "name": "stdout",
     "output_type": "stream",
     "text": [
      "Iteration: \t225 / 1000\n",
      "Confirmed: \t70\n",
      "Tentative: \t48\n",
      "Rejected: \t4882\n"
     ]
    },
    {
     "name": "stderr",
     "output_type": "stream",
     "text": [
      "[Parallel(n_jobs=14)]: Using backend ThreadingBackend with 14 concurrent workers.\n",
      "[Parallel(n_jobs=14)]: Done  22 tasks      | elapsed:    0.0s\n",
      "[Parallel(n_jobs=14)]: Done 172 tasks      | elapsed:    0.2s\n",
      "[Parallel(n_jobs=14)]: Done 422 tasks      | elapsed:    0.5s\n",
      "[Parallel(n_jobs=14)]: Done 512 out of 512 | elapsed:    0.6s finished\n"
     ]
    },
    {
     "name": "stdout",
     "output_type": "stream",
     "text": [
      "Iteration: \t226 / 1000\n",
      "Confirmed: \t71\n",
      "Tentative: \t47\n",
      "Rejected: \t4882\n"
     ]
    },
    {
     "name": "stderr",
     "output_type": "stream",
     "text": [
      "[Parallel(n_jobs=14)]: Using backend ThreadingBackend with 14 concurrent workers.\n",
      "[Parallel(n_jobs=14)]: Done  22 tasks      | elapsed:    0.0s\n",
      "[Parallel(n_jobs=14)]: Done 172 tasks      | elapsed:    0.2s\n",
      "[Parallel(n_jobs=14)]: Done 422 tasks      | elapsed:    0.5s\n",
      "[Parallel(n_jobs=14)]: Done 512 out of 512 | elapsed:    0.6s finished\n"
     ]
    },
    {
     "name": "stdout",
     "output_type": "stream",
     "text": [
      "Iteration: \t227 / 1000\n",
      "Confirmed: \t71\n",
      "Tentative: \t47\n",
      "Rejected: \t4882\n"
     ]
    },
    {
     "name": "stderr",
     "output_type": "stream",
     "text": [
      "[Parallel(n_jobs=14)]: Using backend ThreadingBackend with 14 concurrent workers.\n",
      "[Parallel(n_jobs=14)]: Done  22 tasks      | elapsed:    0.0s\n",
      "[Parallel(n_jobs=14)]: Done 172 tasks      | elapsed:    0.2s\n",
      "[Parallel(n_jobs=14)]: Done 422 tasks      | elapsed:    0.6s\n",
      "[Parallel(n_jobs=14)]: Done 512 out of 512 | elapsed:    0.7s finished\n"
     ]
    },
    {
     "name": "stdout",
     "output_type": "stream",
     "text": [
      "Iteration: \t228 / 1000\n",
      "Confirmed: \t71\n",
      "Tentative: \t47\n",
      "Rejected: \t4882\n"
     ]
    },
    {
     "name": "stderr",
     "output_type": "stream",
     "text": [
      "[Parallel(n_jobs=14)]: Using backend ThreadingBackend with 14 concurrent workers.\n",
      "[Parallel(n_jobs=14)]: Done  22 tasks      | elapsed:    0.0s\n",
      "[Parallel(n_jobs=14)]: Done 172 tasks      | elapsed:    0.2s\n",
      "[Parallel(n_jobs=14)]: Done 422 tasks      | elapsed:    0.5s\n",
      "[Parallel(n_jobs=14)]: Done 512 out of 512 | elapsed:    0.6s finished\n"
     ]
    },
    {
     "name": "stdout",
     "output_type": "stream",
     "text": [
      "Iteration: \t229 / 1000\n",
      "Confirmed: \t71\n",
      "Tentative: \t47\n",
      "Rejected: \t4882\n"
     ]
    },
    {
     "name": "stderr",
     "output_type": "stream",
     "text": [
      "[Parallel(n_jobs=14)]: Using backend ThreadingBackend with 14 concurrent workers.\n",
      "[Parallel(n_jobs=14)]: Done  22 tasks      | elapsed:    0.0s\n",
      "[Parallel(n_jobs=14)]: Done 172 tasks      | elapsed:    0.2s\n",
      "[Parallel(n_jobs=14)]: Done 422 tasks      | elapsed:    0.6s\n",
      "[Parallel(n_jobs=14)]: Done 512 out of 512 | elapsed:    0.7s finished\n"
     ]
    },
    {
     "name": "stdout",
     "output_type": "stream",
     "text": [
      "Iteration: \t230 / 1000\n",
      "Confirmed: \t71\n",
      "Tentative: \t47\n",
      "Rejected: \t4882\n"
     ]
    },
    {
     "name": "stderr",
     "output_type": "stream",
     "text": [
      "[Parallel(n_jobs=14)]: Using backend ThreadingBackend with 14 concurrent workers.\n",
      "[Parallel(n_jobs=14)]: Done  22 tasks      | elapsed:    0.0s\n",
      "[Parallel(n_jobs=14)]: Done 172 tasks      | elapsed:    0.2s\n",
      "[Parallel(n_jobs=14)]: Done 422 tasks      | elapsed:    0.5s\n",
      "[Parallel(n_jobs=14)]: Done 512 out of 512 | elapsed:    0.6s finished\n"
     ]
    },
    {
     "name": "stdout",
     "output_type": "stream",
     "text": [
      "Iteration: \t231 / 1000\n",
      "Confirmed: \t71\n",
      "Tentative: \t47\n",
      "Rejected: \t4882\n"
     ]
    },
    {
     "name": "stderr",
     "output_type": "stream",
     "text": [
      "[Parallel(n_jobs=14)]: Using backend ThreadingBackend with 14 concurrent workers.\n",
      "[Parallel(n_jobs=14)]: Done  22 tasks      | elapsed:    0.0s\n",
      "[Parallel(n_jobs=14)]: Done 172 tasks      | elapsed:    0.2s\n",
      "[Parallel(n_jobs=14)]: Done 422 tasks      | elapsed:    0.6s\n",
      "[Parallel(n_jobs=14)]: Done 512 out of 512 | elapsed:    0.7s finished\n"
     ]
    },
    {
     "name": "stdout",
     "output_type": "stream",
     "text": [
      "Iteration: \t232 / 1000\n",
      "Confirmed: \t71\n",
      "Tentative: \t47\n",
      "Rejected: \t4882\n"
     ]
    },
    {
     "name": "stderr",
     "output_type": "stream",
     "text": [
      "[Parallel(n_jobs=14)]: Using backend ThreadingBackend with 14 concurrent workers.\n",
      "[Parallel(n_jobs=14)]: Done  22 tasks      | elapsed:    0.0s\n",
      "[Parallel(n_jobs=14)]: Done 172 tasks      | elapsed:    0.2s\n",
      "[Parallel(n_jobs=14)]: Done 422 tasks      | elapsed:    0.5s\n",
      "[Parallel(n_jobs=14)]: Done 512 out of 512 | elapsed:    0.6s finished\n"
     ]
    },
    {
     "name": "stdout",
     "output_type": "stream",
     "text": [
      "Iteration: \t233 / 1000\n",
      "Confirmed: \t71\n",
      "Tentative: \t47\n",
      "Rejected: \t4882\n"
     ]
    },
    {
     "name": "stderr",
     "output_type": "stream",
     "text": [
      "[Parallel(n_jobs=14)]: Using backend ThreadingBackend with 14 concurrent workers.\n",
      "[Parallel(n_jobs=14)]: Done  22 tasks      | elapsed:    0.0s\n",
      "[Parallel(n_jobs=14)]: Done 172 tasks      | elapsed:    0.2s\n",
      "[Parallel(n_jobs=14)]: Done 422 tasks      | elapsed:    0.5s\n",
      "[Parallel(n_jobs=14)]: Done 512 out of 512 | elapsed:    0.6s finished\n"
     ]
    },
    {
     "name": "stdout",
     "output_type": "stream",
     "text": [
      "Iteration: \t234 / 1000\n",
      "Confirmed: \t71\n",
      "Tentative: \t47\n",
      "Rejected: \t4882\n"
     ]
    },
    {
     "name": "stderr",
     "output_type": "stream",
     "text": [
      "[Parallel(n_jobs=14)]: Using backend ThreadingBackend with 14 concurrent workers.\n",
      "[Parallel(n_jobs=14)]: Done  22 tasks      | elapsed:    0.0s\n",
      "[Parallel(n_jobs=14)]: Done 172 tasks      | elapsed:    0.2s\n",
      "[Parallel(n_jobs=14)]: Done 422 tasks      | elapsed:    0.6s\n",
      "[Parallel(n_jobs=14)]: Done 512 out of 512 | elapsed:    0.7s finished\n"
     ]
    },
    {
     "name": "stdout",
     "output_type": "stream",
     "text": [
      "Iteration: \t235 / 1000\n",
      "Confirmed: \t71\n",
      "Tentative: \t47\n",
      "Rejected: \t4882\n"
     ]
    },
    {
     "name": "stderr",
     "output_type": "stream",
     "text": [
      "[Parallel(n_jobs=14)]: Using backend ThreadingBackend with 14 concurrent workers.\n",
      "[Parallel(n_jobs=14)]: Done  22 tasks      | elapsed:    0.0s\n",
      "[Parallel(n_jobs=14)]: Done 172 tasks      | elapsed:    0.2s\n",
      "[Parallel(n_jobs=14)]: Done 422 tasks      | elapsed:    0.5s\n",
      "[Parallel(n_jobs=14)]: Done 512 out of 512 | elapsed:    0.6s finished\n"
     ]
    },
    {
     "name": "stdout",
     "output_type": "stream",
     "text": [
      "Iteration: \t236 / 1000\n",
      "Confirmed: \t71\n",
      "Tentative: \t47\n",
      "Rejected: \t4882\n"
     ]
    },
    {
     "name": "stderr",
     "output_type": "stream",
     "text": [
      "[Parallel(n_jobs=14)]: Using backend ThreadingBackend with 14 concurrent workers.\n",
      "[Parallel(n_jobs=14)]: Done  22 tasks      | elapsed:    0.0s\n",
      "[Parallel(n_jobs=14)]: Done 172 tasks      | elapsed:    0.2s\n",
      "[Parallel(n_jobs=14)]: Done 422 tasks      | elapsed:    0.5s\n",
      "[Parallel(n_jobs=14)]: Done 512 out of 512 | elapsed:    0.7s finished\n"
     ]
    },
    {
     "name": "stdout",
     "output_type": "stream",
     "text": [
      "Iteration: \t237 / 1000\n",
      "Confirmed: \t71\n",
      "Tentative: \t47\n",
      "Rejected: \t4882\n"
     ]
    },
    {
     "name": "stderr",
     "output_type": "stream",
     "text": [
      "[Parallel(n_jobs=14)]: Using backend ThreadingBackend with 14 concurrent workers.\n",
      "[Parallel(n_jobs=14)]: Done  22 tasks      | elapsed:    0.0s\n",
      "[Parallel(n_jobs=14)]: Done 172 tasks      | elapsed:    0.2s\n",
      "[Parallel(n_jobs=14)]: Done 422 tasks      | elapsed:    0.5s\n",
      "[Parallel(n_jobs=14)]: Done 512 out of 512 | elapsed:    0.6s finished\n"
     ]
    },
    {
     "name": "stdout",
     "output_type": "stream",
     "text": [
      "Iteration: \t238 / 1000\n",
      "Confirmed: \t71\n",
      "Tentative: \t47\n",
      "Rejected: \t4882\n"
     ]
    },
    {
     "name": "stderr",
     "output_type": "stream",
     "text": [
      "[Parallel(n_jobs=14)]: Using backend ThreadingBackend with 14 concurrent workers.\n",
      "[Parallel(n_jobs=14)]: Done  22 tasks      | elapsed:    0.0s\n",
      "[Parallel(n_jobs=14)]: Done 172 tasks      | elapsed:    0.2s\n",
      "[Parallel(n_jobs=14)]: Done 422 tasks      | elapsed:    0.6s\n",
      "[Parallel(n_jobs=14)]: Done 512 out of 512 | elapsed:    0.7s finished\n"
     ]
    },
    {
     "name": "stdout",
     "output_type": "stream",
     "text": [
      "Iteration: \t239 / 1000\n",
      "Confirmed: \t71\n",
      "Tentative: \t47\n",
      "Rejected: \t4882\n"
     ]
    },
    {
     "name": "stderr",
     "output_type": "stream",
     "text": [
      "[Parallel(n_jobs=14)]: Using backend ThreadingBackend with 14 concurrent workers.\n",
      "[Parallel(n_jobs=14)]: Done  22 tasks      | elapsed:    0.0s\n",
      "[Parallel(n_jobs=14)]: Done 172 tasks      | elapsed:    0.2s\n",
      "[Parallel(n_jobs=14)]: Done 422 tasks      | elapsed:    0.5s\n",
      "[Parallel(n_jobs=14)]: Done 512 out of 512 | elapsed:    0.6s finished\n"
     ]
    },
    {
     "name": "stdout",
     "output_type": "stream",
     "text": [
      "Iteration: \t240 / 1000\n",
      "Confirmed: \t71\n",
      "Tentative: \t47\n",
      "Rejected: \t4882\n"
     ]
    },
    {
     "name": "stderr",
     "output_type": "stream",
     "text": [
      "[Parallel(n_jobs=14)]: Using backend ThreadingBackend with 14 concurrent workers.\n",
      "[Parallel(n_jobs=14)]: Done  22 tasks      | elapsed:    0.0s\n",
      "[Parallel(n_jobs=14)]: Done 172 tasks      | elapsed:    0.2s\n",
      "[Parallel(n_jobs=14)]: Done 422 tasks      | elapsed:    0.5s\n",
      "[Parallel(n_jobs=14)]: Done 512 out of 512 | elapsed:    0.6s finished\n"
     ]
    },
    {
     "name": "stdout",
     "output_type": "stream",
     "text": [
      "Iteration: \t241 / 1000\n",
      "Confirmed: \t71\n",
      "Tentative: \t47\n",
      "Rejected: \t4882\n"
     ]
    },
    {
     "name": "stderr",
     "output_type": "stream",
     "text": [
      "[Parallel(n_jobs=14)]: Using backend ThreadingBackend with 14 concurrent workers.\n",
      "[Parallel(n_jobs=14)]: Done  22 tasks      | elapsed:    0.0s\n",
      "[Parallel(n_jobs=14)]: Done 172 tasks      | elapsed:    0.2s\n",
      "[Parallel(n_jobs=14)]: Done 422 tasks      | elapsed:    0.5s\n",
      "[Parallel(n_jobs=14)]: Done 512 out of 512 | elapsed:    0.6s finished\n"
     ]
    },
    {
     "name": "stdout",
     "output_type": "stream",
     "text": [
      "Iteration: \t242 / 1000\n",
      "Confirmed: \t71\n",
      "Tentative: \t47\n",
      "Rejected: \t4882\n"
     ]
    },
    {
     "name": "stderr",
     "output_type": "stream",
     "text": [
      "[Parallel(n_jobs=14)]: Using backend ThreadingBackend with 14 concurrent workers.\n",
      "[Parallel(n_jobs=14)]: Done  22 tasks      | elapsed:    0.0s\n",
      "[Parallel(n_jobs=14)]: Done 172 tasks      | elapsed:    0.2s\n",
      "[Parallel(n_jobs=14)]: Done 422 tasks      | elapsed:    0.5s\n",
      "[Parallel(n_jobs=14)]: Done 512 out of 512 | elapsed:    0.6s finished\n"
     ]
    },
    {
     "name": "stdout",
     "output_type": "stream",
     "text": [
      "Iteration: \t243 / 1000\n",
      "Confirmed: \t71\n",
      "Tentative: \t47\n",
      "Rejected: \t4882\n"
     ]
    },
    {
     "name": "stderr",
     "output_type": "stream",
     "text": [
      "[Parallel(n_jobs=14)]: Using backend ThreadingBackend with 14 concurrent workers.\n",
      "[Parallel(n_jobs=14)]: Done  22 tasks      | elapsed:    0.0s\n",
      "[Parallel(n_jobs=14)]: Done 172 tasks      | elapsed:    0.2s\n",
      "[Parallel(n_jobs=14)]: Done 422 tasks      | elapsed:    0.6s\n",
      "[Parallel(n_jobs=14)]: Done 512 out of 512 | elapsed:    0.7s finished\n"
     ]
    },
    {
     "name": "stdout",
     "output_type": "stream",
     "text": [
      "Iteration: \t244 / 1000\n",
      "Confirmed: \t72\n",
      "Tentative: \t46\n",
      "Rejected: \t4882\n"
     ]
    },
    {
     "name": "stderr",
     "output_type": "stream",
     "text": [
      "[Parallel(n_jobs=14)]: Using backend ThreadingBackend with 14 concurrent workers.\n",
      "[Parallel(n_jobs=14)]: Done  22 tasks      | elapsed:    0.0s\n",
      "[Parallel(n_jobs=14)]: Done 172 tasks      | elapsed:    0.2s\n",
      "[Parallel(n_jobs=14)]: Done 422 tasks      | elapsed:    0.5s\n",
      "[Parallel(n_jobs=14)]: Done 512 out of 512 | elapsed:    0.6s finished\n"
     ]
    },
    {
     "name": "stdout",
     "output_type": "stream",
     "text": [
      "Iteration: \t245 / 1000\n",
      "Confirmed: \t72\n",
      "Tentative: \t46\n",
      "Rejected: \t4882\n"
     ]
    },
    {
     "name": "stderr",
     "output_type": "stream",
     "text": [
      "[Parallel(n_jobs=14)]: Using backend ThreadingBackend with 14 concurrent workers.\n",
      "[Parallel(n_jobs=14)]: Done  22 tasks      | elapsed:    0.0s\n",
      "[Parallel(n_jobs=14)]: Done 172 tasks      | elapsed:    0.2s\n",
      "[Parallel(n_jobs=14)]: Done 422 tasks      | elapsed:    0.5s\n",
      "[Parallel(n_jobs=14)]: Done 512 out of 512 | elapsed:    0.6s finished\n"
     ]
    },
    {
     "name": "stdout",
     "output_type": "stream",
     "text": [
      "Iteration: \t246 / 1000\n",
      "Confirmed: \t72\n",
      "Tentative: \t46\n",
      "Rejected: \t4882\n"
     ]
    },
    {
     "name": "stderr",
     "output_type": "stream",
     "text": [
      "[Parallel(n_jobs=14)]: Using backend ThreadingBackend with 14 concurrent workers.\n",
      "[Parallel(n_jobs=14)]: Done  22 tasks      | elapsed:    0.0s\n",
      "[Parallel(n_jobs=14)]: Done 172 tasks      | elapsed:    0.2s\n",
      "[Parallel(n_jobs=14)]: Done 422 tasks      | elapsed:    0.5s\n",
      "[Parallel(n_jobs=14)]: Done 512 out of 512 | elapsed:    0.6s finished\n"
     ]
    },
    {
     "name": "stdout",
     "output_type": "stream",
     "text": [
      "Iteration: \t247 / 1000\n",
      "Confirmed: \t72\n",
      "Tentative: \t46\n",
      "Rejected: \t4882\n"
     ]
    },
    {
     "name": "stderr",
     "output_type": "stream",
     "text": [
      "[Parallel(n_jobs=14)]: Using backend ThreadingBackend with 14 concurrent workers.\n",
      "[Parallel(n_jobs=14)]: Done  22 tasks      | elapsed:    0.0s\n",
      "[Parallel(n_jobs=14)]: Done 172 tasks      | elapsed:    0.2s\n",
      "[Parallel(n_jobs=14)]: Done 422 tasks      | elapsed:    0.5s\n",
      "[Parallel(n_jobs=14)]: Done 512 out of 512 | elapsed:    0.6s finished\n"
     ]
    },
    {
     "name": "stdout",
     "output_type": "stream",
     "text": [
      "Iteration: \t248 / 1000\n",
      "Confirmed: \t72\n",
      "Tentative: \t46\n",
      "Rejected: \t4882\n"
     ]
    },
    {
     "name": "stderr",
     "output_type": "stream",
     "text": [
      "[Parallel(n_jobs=14)]: Using backend ThreadingBackend with 14 concurrent workers.\n",
      "[Parallel(n_jobs=14)]: Done  22 tasks      | elapsed:    0.0s\n",
      "[Parallel(n_jobs=14)]: Done 172 tasks      | elapsed:    0.2s\n",
      "[Parallel(n_jobs=14)]: Done 422 tasks      | elapsed:    0.6s\n",
      "[Parallel(n_jobs=14)]: Done 512 out of 512 | elapsed:    0.7s finished\n"
     ]
    },
    {
     "name": "stdout",
     "output_type": "stream",
     "text": [
      "Iteration: \t249 / 1000\n",
      "Confirmed: \t72\n",
      "Tentative: \t46\n",
      "Rejected: \t4882\n"
     ]
    },
    {
     "name": "stderr",
     "output_type": "stream",
     "text": [
      "[Parallel(n_jobs=14)]: Using backend ThreadingBackend with 14 concurrent workers.\n",
      "[Parallel(n_jobs=14)]: Done  22 tasks      | elapsed:    0.0s\n",
      "[Parallel(n_jobs=14)]: Done 172 tasks      | elapsed:    0.2s\n",
      "[Parallel(n_jobs=14)]: Done 422 tasks      | elapsed:    0.5s\n",
      "[Parallel(n_jobs=14)]: Done 512 out of 512 | elapsed:    0.7s finished\n"
     ]
    },
    {
     "name": "stdout",
     "output_type": "stream",
     "text": [
      "Iteration: \t250 / 1000\n",
      "Confirmed: \t72\n",
      "Tentative: \t46\n",
      "Rejected: \t4882\n"
     ]
    },
    {
     "name": "stderr",
     "output_type": "stream",
     "text": [
      "[Parallel(n_jobs=14)]: Using backend ThreadingBackend with 14 concurrent workers.\n",
      "[Parallel(n_jobs=14)]: Done  22 tasks      | elapsed:    0.0s\n",
      "[Parallel(n_jobs=14)]: Done 172 tasks      | elapsed:    0.2s\n",
      "[Parallel(n_jobs=14)]: Done 422 tasks      | elapsed:    0.5s\n",
      "[Parallel(n_jobs=14)]: Done 512 out of 512 | elapsed:    0.6s finished\n"
     ]
    },
    {
     "name": "stdout",
     "output_type": "stream",
     "text": [
      "Iteration: \t251 / 1000\n",
      "Confirmed: \t73\n",
      "Tentative: \t45\n",
      "Rejected: \t4882\n"
     ]
    },
    {
     "name": "stderr",
     "output_type": "stream",
     "text": [
      "[Parallel(n_jobs=14)]: Using backend ThreadingBackend with 14 concurrent workers.\n",
      "[Parallel(n_jobs=14)]: Done  22 tasks      | elapsed:    0.0s\n",
      "[Parallel(n_jobs=14)]: Done 172 tasks      | elapsed:    0.2s\n",
      "[Parallel(n_jobs=14)]: Done 422 tasks      | elapsed:    0.5s\n",
      "[Parallel(n_jobs=14)]: Done 512 out of 512 | elapsed:    0.6s finished\n"
     ]
    },
    {
     "name": "stdout",
     "output_type": "stream",
     "text": [
      "Iteration: \t252 / 1000\n",
      "Confirmed: \t73\n",
      "Tentative: \t45\n",
      "Rejected: \t4882\n"
     ]
    },
    {
     "name": "stderr",
     "output_type": "stream",
     "text": [
      "[Parallel(n_jobs=14)]: Using backend ThreadingBackend with 14 concurrent workers.\n",
      "[Parallel(n_jobs=14)]: Done  22 tasks      | elapsed:    0.0s\n",
      "[Parallel(n_jobs=14)]: Done 172 tasks      | elapsed:    0.2s\n",
      "[Parallel(n_jobs=14)]: Done 422 tasks      | elapsed:    0.6s\n",
      "[Parallel(n_jobs=14)]: Done 512 out of 512 | elapsed:    0.7s finished\n"
     ]
    },
    {
     "name": "stdout",
     "output_type": "stream",
     "text": [
      "Iteration: \t253 / 1000\n",
      "Confirmed: \t73\n",
      "Tentative: \t45\n",
      "Rejected: \t4882\n"
     ]
    },
    {
     "name": "stderr",
     "output_type": "stream",
     "text": [
      "[Parallel(n_jobs=14)]: Using backend ThreadingBackend with 14 concurrent workers.\n",
      "[Parallel(n_jobs=14)]: Done  22 tasks      | elapsed:    0.0s\n",
      "[Parallel(n_jobs=14)]: Done 172 tasks      | elapsed:    0.2s\n",
      "[Parallel(n_jobs=14)]: Done 422 tasks      | elapsed:    0.5s\n",
      "[Parallel(n_jobs=14)]: Done 512 out of 512 | elapsed:    0.6s finished\n"
     ]
    },
    {
     "name": "stdout",
     "output_type": "stream",
     "text": [
      "Iteration: \t254 / 1000\n",
      "Confirmed: \t73\n",
      "Tentative: \t45\n",
      "Rejected: \t4882\n"
     ]
    },
    {
     "name": "stderr",
     "output_type": "stream",
     "text": [
      "[Parallel(n_jobs=14)]: Using backend ThreadingBackend with 14 concurrent workers.\n",
      "[Parallel(n_jobs=14)]: Done  22 tasks      | elapsed:    0.0s\n",
      "[Parallel(n_jobs=14)]: Done 172 tasks      | elapsed:    0.2s\n",
      "[Parallel(n_jobs=14)]: Done 422 tasks      | elapsed:    0.6s\n",
      "[Parallel(n_jobs=14)]: Done 512 out of 512 | elapsed:    0.7s finished\n"
     ]
    },
    {
     "name": "stdout",
     "output_type": "stream",
     "text": [
      "Iteration: \t255 / 1000\n",
      "Confirmed: \t73\n",
      "Tentative: \t45\n",
      "Rejected: \t4882\n"
     ]
    },
    {
     "name": "stderr",
     "output_type": "stream",
     "text": [
      "[Parallel(n_jobs=14)]: Using backend ThreadingBackend with 14 concurrent workers.\n",
      "[Parallel(n_jobs=14)]: Done  22 tasks      | elapsed:    0.0s\n",
      "[Parallel(n_jobs=14)]: Done 172 tasks      | elapsed:    0.2s\n",
      "[Parallel(n_jobs=14)]: Done 422 tasks      | elapsed:    0.6s\n",
      "[Parallel(n_jobs=14)]: Done 512 out of 512 | elapsed:    0.7s finished\n"
     ]
    },
    {
     "name": "stdout",
     "output_type": "stream",
     "text": [
      "Iteration: \t256 / 1000\n",
      "Confirmed: \t73\n",
      "Tentative: \t45\n",
      "Rejected: \t4882\n"
     ]
    },
    {
     "name": "stderr",
     "output_type": "stream",
     "text": [
      "[Parallel(n_jobs=14)]: Using backend ThreadingBackend with 14 concurrent workers.\n",
      "[Parallel(n_jobs=14)]: Done  22 tasks      | elapsed:    0.0s\n",
      "[Parallel(n_jobs=14)]: Done 172 tasks      | elapsed:    0.2s\n",
      "[Parallel(n_jobs=14)]: Done 422 tasks      | elapsed:    0.5s\n",
      "[Parallel(n_jobs=14)]: Done 512 out of 512 | elapsed:    0.7s finished\n"
     ]
    },
    {
     "name": "stdout",
     "output_type": "stream",
     "text": [
      "Iteration: \t257 / 1000\n",
      "Confirmed: \t73\n",
      "Tentative: \t45\n",
      "Rejected: \t4882\n"
     ]
    },
    {
     "name": "stderr",
     "output_type": "stream",
     "text": [
      "[Parallel(n_jobs=14)]: Using backend ThreadingBackend with 14 concurrent workers.\n",
      "[Parallel(n_jobs=14)]: Done  22 tasks      | elapsed:    0.0s\n",
      "[Parallel(n_jobs=14)]: Done 172 tasks      | elapsed:    0.2s\n",
      "[Parallel(n_jobs=14)]: Done 422 tasks      | elapsed:    0.5s\n",
      "[Parallel(n_jobs=14)]: Done 512 out of 512 | elapsed:    0.6s finished\n"
     ]
    },
    {
     "name": "stdout",
     "output_type": "stream",
     "text": [
      "Iteration: \t258 / 1000\n",
      "Confirmed: \t74\n",
      "Tentative: \t44\n",
      "Rejected: \t4882\n"
     ]
    },
    {
     "name": "stderr",
     "output_type": "stream",
     "text": [
      "[Parallel(n_jobs=14)]: Using backend ThreadingBackend with 14 concurrent workers.\n",
      "[Parallel(n_jobs=14)]: Done  22 tasks      | elapsed:    0.0s\n",
      "[Parallel(n_jobs=14)]: Done 172 tasks      | elapsed:    0.2s\n",
      "[Parallel(n_jobs=14)]: Done 422 tasks      | elapsed:    0.5s\n",
      "[Parallel(n_jobs=14)]: Done 512 out of 512 | elapsed:    0.6s finished\n"
     ]
    },
    {
     "name": "stdout",
     "output_type": "stream",
     "text": [
      "Iteration: \t259 / 1000\n",
      "Confirmed: \t74\n",
      "Tentative: \t44\n",
      "Rejected: \t4882\n"
     ]
    },
    {
     "name": "stderr",
     "output_type": "stream",
     "text": [
      "[Parallel(n_jobs=14)]: Using backend ThreadingBackend with 14 concurrent workers.\n",
      "[Parallel(n_jobs=14)]: Done  22 tasks      | elapsed:    0.0s\n",
      "[Parallel(n_jobs=14)]: Done 172 tasks      | elapsed:    0.2s\n",
      "[Parallel(n_jobs=14)]: Done 422 tasks      | elapsed:    0.6s\n",
      "[Parallel(n_jobs=14)]: Done 512 out of 512 | elapsed:    0.7s finished\n"
     ]
    },
    {
     "name": "stdout",
     "output_type": "stream",
     "text": [
      "Iteration: \t260 / 1000\n",
      "Confirmed: \t74\n",
      "Tentative: \t44\n",
      "Rejected: \t4882\n"
     ]
    },
    {
     "name": "stderr",
     "output_type": "stream",
     "text": [
      "[Parallel(n_jobs=14)]: Using backend ThreadingBackend with 14 concurrent workers.\n",
      "[Parallel(n_jobs=14)]: Done  22 tasks      | elapsed:    0.0s\n",
      "[Parallel(n_jobs=14)]: Done 172 tasks      | elapsed:    0.2s\n",
      "[Parallel(n_jobs=14)]: Done 422 tasks      | elapsed:    0.6s\n",
      "[Parallel(n_jobs=14)]: Done 512 out of 512 | elapsed:    0.7s finished\n"
     ]
    },
    {
     "name": "stdout",
     "output_type": "stream",
     "text": [
      "Iteration: \t261 / 1000\n",
      "Confirmed: \t74\n",
      "Tentative: \t44\n",
      "Rejected: \t4882\n"
     ]
    },
    {
     "name": "stderr",
     "output_type": "stream",
     "text": [
      "[Parallel(n_jobs=14)]: Using backend ThreadingBackend with 14 concurrent workers.\n",
      "[Parallel(n_jobs=14)]: Done  22 tasks      | elapsed:    0.0s\n",
      "[Parallel(n_jobs=14)]: Done 172 tasks      | elapsed:    0.2s\n",
      "[Parallel(n_jobs=14)]: Done 422 tasks      | elapsed:    0.5s\n",
      "[Parallel(n_jobs=14)]: Done 512 out of 512 | elapsed:    0.6s finished\n"
     ]
    },
    {
     "name": "stdout",
     "output_type": "stream",
     "text": [
      "Iteration: \t262 / 1000\n",
      "Confirmed: \t74\n",
      "Tentative: \t44\n",
      "Rejected: \t4882\n"
     ]
    },
    {
     "name": "stderr",
     "output_type": "stream",
     "text": [
      "[Parallel(n_jobs=14)]: Using backend ThreadingBackend with 14 concurrent workers.\n",
      "[Parallel(n_jobs=14)]: Done  22 tasks      | elapsed:    0.0s\n",
      "[Parallel(n_jobs=14)]: Done 172 tasks      | elapsed:    0.2s\n",
      "[Parallel(n_jobs=14)]: Done 422 tasks      | elapsed:    0.6s\n",
      "[Parallel(n_jobs=14)]: Done 512 out of 512 | elapsed:    0.7s finished\n"
     ]
    },
    {
     "name": "stdout",
     "output_type": "stream",
     "text": [
      "Iteration: \t263 / 1000\n",
      "Confirmed: \t74\n",
      "Tentative: \t44\n",
      "Rejected: \t4882\n"
     ]
    },
    {
     "name": "stderr",
     "output_type": "stream",
     "text": [
      "[Parallel(n_jobs=14)]: Using backend ThreadingBackend with 14 concurrent workers.\n",
      "[Parallel(n_jobs=14)]: Done  22 tasks      | elapsed:    0.0s\n",
      "[Parallel(n_jobs=14)]: Done 172 tasks      | elapsed:    0.2s\n",
      "[Parallel(n_jobs=14)]: Done 422 tasks      | elapsed:    0.5s\n",
      "[Parallel(n_jobs=14)]: Done 512 out of 512 | elapsed:    0.6s finished\n"
     ]
    },
    {
     "name": "stdout",
     "output_type": "stream",
     "text": [
      "Iteration: \t264 / 1000\n",
      "Confirmed: \t74\n",
      "Tentative: \t44\n",
      "Rejected: \t4882\n"
     ]
    },
    {
     "name": "stderr",
     "output_type": "stream",
     "text": [
      "[Parallel(n_jobs=14)]: Using backend ThreadingBackend with 14 concurrent workers.\n",
      "[Parallel(n_jobs=14)]: Done  22 tasks      | elapsed:    0.0s\n",
      "[Parallel(n_jobs=14)]: Done 172 tasks      | elapsed:    0.2s\n",
      "[Parallel(n_jobs=14)]: Done 422 tasks      | elapsed:    0.5s\n",
      "[Parallel(n_jobs=14)]: Done 512 out of 512 | elapsed:    0.6s finished\n"
     ]
    },
    {
     "name": "stdout",
     "output_type": "stream",
     "text": [
      "Iteration: \t265 / 1000\n",
      "Confirmed: \t74\n",
      "Tentative: \t44\n",
      "Rejected: \t4882\n"
     ]
    },
    {
     "name": "stderr",
     "output_type": "stream",
     "text": [
      "[Parallel(n_jobs=14)]: Using backend ThreadingBackend with 14 concurrent workers.\n",
      "[Parallel(n_jobs=14)]: Done  22 tasks      | elapsed:    0.0s\n",
      "[Parallel(n_jobs=14)]: Done 172 tasks      | elapsed:    0.2s\n",
      "[Parallel(n_jobs=14)]: Done 422 tasks      | elapsed:    0.6s\n",
      "[Parallel(n_jobs=14)]: Done 512 out of 512 | elapsed:    0.7s finished\n"
     ]
    },
    {
     "name": "stdout",
     "output_type": "stream",
     "text": [
      "Iteration: \t266 / 1000\n",
      "Confirmed: \t74\n",
      "Tentative: \t44\n",
      "Rejected: \t4882\n"
     ]
    },
    {
     "name": "stderr",
     "output_type": "stream",
     "text": [
      "[Parallel(n_jobs=14)]: Using backend ThreadingBackend with 14 concurrent workers.\n",
      "[Parallel(n_jobs=14)]: Done  22 tasks      | elapsed:    0.0s\n",
      "[Parallel(n_jobs=14)]: Done 172 tasks      | elapsed:    0.2s\n",
      "[Parallel(n_jobs=14)]: Done 422 tasks      | elapsed:    0.6s\n",
      "[Parallel(n_jobs=14)]: Done 512 out of 512 | elapsed:    0.7s finished\n"
     ]
    },
    {
     "name": "stdout",
     "output_type": "stream",
     "text": [
      "Iteration: \t267 / 1000\n",
      "Confirmed: \t74\n",
      "Tentative: \t44\n",
      "Rejected: \t4882\n"
     ]
    },
    {
     "name": "stderr",
     "output_type": "stream",
     "text": [
      "[Parallel(n_jobs=14)]: Using backend ThreadingBackend with 14 concurrent workers.\n",
      "[Parallel(n_jobs=14)]: Done  22 tasks      | elapsed:    0.0s\n",
      "[Parallel(n_jobs=14)]: Done 172 tasks      | elapsed:    0.2s\n",
      "[Parallel(n_jobs=14)]: Done 422 tasks      | elapsed:    0.5s\n",
      "[Parallel(n_jobs=14)]: Done 512 out of 512 | elapsed:    0.6s finished\n"
     ]
    },
    {
     "name": "stdout",
     "output_type": "stream",
     "text": [
      "Iteration: \t268 / 1000\n",
      "Confirmed: \t74\n",
      "Tentative: \t44\n",
      "Rejected: \t4882\n"
     ]
    },
    {
     "name": "stderr",
     "output_type": "stream",
     "text": [
      "[Parallel(n_jobs=14)]: Using backend ThreadingBackend with 14 concurrent workers.\n",
      "[Parallel(n_jobs=14)]: Done  22 tasks      | elapsed:    0.0s\n",
      "[Parallel(n_jobs=14)]: Done 172 tasks      | elapsed:    0.2s\n",
      "[Parallel(n_jobs=14)]: Done 422 tasks      | elapsed:    0.6s\n",
      "[Parallel(n_jobs=14)]: Done 512 out of 512 | elapsed:    0.7s finished\n"
     ]
    },
    {
     "name": "stdout",
     "output_type": "stream",
     "text": [
      "Iteration: \t269 / 1000\n",
      "Confirmed: \t74\n",
      "Tentative: \t44\n",
      "Rejected: \t4882\n"
     ]
    },
    {
     "name": "stderr",
     "output_type": "stream",
     "text": [
      "[Parallel(n_jobs=14)]: Using backend ThreadingBackend with 14 concurrent workers.\n",
      "[Parallel(n_jobs=14)]: Done  22 tasks      | elapsed:    0.0s\n",
      "[Parallel(n_jobs=14)]: Done 172 tasks      | elapsed:    0.2s\n",
      "[Parallel(n_jobs=14)]: Done 422 tasks      | elapsed:    0.6s\n",
      "[Parallel(n_jobs=14)]: Done 512 out of 512 | elapsed:    0.7s finished\n"
     ]
    },
    {
     "name": "stdout",
     "output_type": "stream",
     "text": [
      "Iteration: \t270 / 1000\n",
      "Confirmed: \t74\n",
      "Tentative: \t44\n",
      "Rejected: \t4882\n"
     ]
    },
    {
     "name": "stderr",
     "output_type": "stream",
     "text": [
      "[Parallel(n_jobs=14)]: Using backend ThreadingBackend with 14 concurrent workers.\n",
      "[Parallel(n_jobs=14)]: Done  22 tasks      | elapsed:    0.0s\n",
      "[Parallel(n_jobs=14)]: Done 172 tasks      | elapsed:    0.2s\n",
      "[Parallel(n_jobs=14)]: Done 422 tasks      | elapsed:    0.5s\n",
      "[Parallel(n_jobs=14)]: Done 512 out of 512 | elapsed:    0.6s finished\n"
     ]
    },
    {
     "name": "stdout",
     "output_type": "stream",
     "text": [
      "Iteration: \t271 / 1000\n",
      "Confirmed: \t74\n",
      "Tentative: \t44\n",
      "Rejected: \t4882\n"
     ]
    },
    {
     "name": "stderr",
     "output_type": "stream",
     "text": [
      "[Parallel(n_jobs=14)]: Using backend ThreadingBackend with 14 concurrent workers.\n",
      "[Parallel(n_jobs=14)]: Done  22 tasks      | elapsed:    0.0s\n",
      "[Parallel(n_jobs=14)]: Done 172 tasks      | elapsed:    0.2s\n",
      "[Parallel(n_jobs=14)]: Done 422 tasks      | elapsed:    0.6s\n",
      "[Parallel(n_jobs=14)]: Done 512 out of 512 | elapsed:    0.7s finished\n"
     ]
    },
    {
     "name": "stdout",
     "output_type": "stream",
     "text": [
      "Iteration: \t272 / 1000\n",
      "Confirmed: \t74\n",
      "Tentative: \t44\n",
      "Rejected: \t4882\n"
     ]
    },
    {
     "name": "stderr",
     "output_type": "stream",
     "text": [
      "[Parallel(n_jobs=14)]: Using backend ThreadingBackend with 14 concurrent workers.\n",
      "[Parallel(n_jobs=14)]: Done  22 tasks      | elapsed:    0.0s\n",
      "[Parallel(n_jobs=14)]: Done 172 tasks      | elapsed:    0.2s\n",
      "[Parallel(n_jobs=14)]: Done 422 tasks      | elapsed:    0.5s\n",
      "[Parallel(n_jobs=14)]: Done 512 out of 512 | elapsed:    0.6s finished\n"
     ]
    },
    {
     "name": "stdout",
     "output_type": "stream",
     "text": [
      "Iteration: \t273 / 1000\n",
      "Confirmed: \t74\n",
      "Tentative: \t44\n",
      "Rejected: \t4882\n"
     ]
    },
    {
     "name": "stderr",
     "output_type": "stream",
     "text": [
      "[Parallel(n_jobs=14)]: Using backend ThreadingBackend with 14 concurrent workers.\n",
      "[Parallel(n_jobs=14)]: Done  22 tasks      | elapsed:    0.0s\n",
      "[Parallel(n_jobs=14)]: Done 172 tasks      | elapsed:    0.2s\n",
      "[Parallel(n_jobs=14)]: Done 422 tasks      | elapsed:    0.6s\n",
      "[Parallel(n_jobs=14)]: Done 512 out of 512 | elapsed:    0.7s finished\n"
     ]
    },
    {
     "name": "stdout",
     "output_type": "stream",
     "text": [
      "Iteration: \t274 / 1000\n",
      "Confirmed: \t74\n",
      "Tentative: \t44\n",
      "Rejected: \t4882\n"
     ]
    },
    {
     "name": "stderr",
     "output_type": "stream",
     "text": [
      "[Parallel(n_jobs=14)]: Using backend ThreadingBackend with 14 concurrent workers.\n",
      "[Parallel(n_jobs=14)]: Done  22 tasks      | elapsed:    0.0s\n",
      "[Parallel(n_jobs=14)]: Done 172 tasks      | elapsed:    0.2s\n",
      "[Parallel(n_jobs=14)]: Done 422 tasks      | elapsed:    0.6s\n",
      "[Parallel(n_jobs=14)]: Done 512 out of 512 | elapsed:    0.7s finished\n"
     ]
    },
    {
     "name": "stdout",
     "output_type": "stream",
     "text": [
      "Iteration: \t275 / 1000\n",
      "Confirmed: \t74\n",
      "Tentative: \t44\n",
      "Rejected: \t4882\n"
     ]
    },
    {
     "name": "stderr",
     "output_type": "stream",
     "text": [
      "[Parallel(n_jobs=14)]: Using backend ThreadingBackend with 14 concurrent workers.\n",
      "[Parallel(n_jobs=14)]: Done  22 tasks      | elapsed:    0.0s\n",
      "[Parallel(n_jobs=14)]: Done 172 tasks      | elapsed:    0.2s\n",
      "[Parallel(n_jobs=14)]: Done 422 tasks      | elapsed:    0.5s\n",
      "[Parallel(n_jobs=14)]: Done 512 out of 512 | elapsed:    0.6s finished\n"
     ]
    },
    {
     "name": "stdout",
     "output_type": "stream",
     "text": [
      "Iteration: \t276 / 1000\n",
      "Confirmed: \t74\n",
      "Tentative: \t44\n",
      "Rejected: \t4882\n"
     ]
    },
    {
     "name": "stderr",
     "output_type": "stream",
     "text": [
      "[Parallel(n_jobs=14)]: Using backend ThreadingBackend with 14 concurrent workers.\n",
      "[Parallel(n_jobs=14)]: Done  22 tasks      | elapsed:    0.0s\n",
      "[Parallel(n_jobs=14)]: Done 172 tasks      | elapsed:    0.2s\n",
      "[Parallel(n_jobs=14)]: Done 422 tasks      | elapsed:    0.6s\n",
      "[Parallel(n_jobs=14)]: Done 512 out of 512 | elapsed:    0.7s finished\n"
     ]
    },
    {
     "name": "stdout",
     "output_type": "stream",
     "text": [
      "Iteration: \t277 / 1000\n",
      "Confirmed: \t74\n",
      "Tentative: \t44\n",
      "Rejected: \t4882\n"
     ]
    },
    {
     "name": "stderr",
     "output_type": "stream",
     "text": [
      "[Parallel(n_jobs=14)]: Using backend ThreadingBackend with 14 concurrent workers.\n",
      "[Parallel(n_jobs=14)]: Done  22 tasks      | elapsed:    0.0s\n",
      "[Parallel(n_jobs=14)]: Done 172 tasks      | elapsed:    0.2s\n",
      "[Parallel(n_jobs=14)]: Done 422 tasks      | elapsed:    0.5s\n",
      "[Parallel(n_jobs=14)]: Done 512 out of 512 | elapsed:    0.7s finished\n"
     ]
    },
    {
     "name": "stdout",
     "output_type": "stream",
     "text": [
      "Iteration: \t278 / 1000\n",
      "Confirmed: \t74\n",
      "Tentative: \t44\n",
      "Rejected: \t4882\n"
     ]
    },
    {
     "name": "stderr",
     "output_type": "stream",
     "text": [
      "[Parallel(n_jobs=14)]: Using backend ThreadingBackend with 14 concurrent workers.\n",
      "[Parallel(n_jobs=14)]: Done  22 tasks      | elapsed:    0.0s\n",
      "[Parallel(n_jobs=14)]: Done 172 tasks      | elapsed:    0.2s\n",
      "[Parallel(n_jobs=14)]: Done 422 tasks      | elapsed:    0.6s\n",
      "[Parallel(n_jobs=14)]: Done 512 out of 512 | elapsed:    0.7s finished\n"
     ]
    },
    {
     "name": "stdout",
     "output_type": "stream",
     "text": [
      "Iteration: \t279 / 1000\n",
      "Confirmed: \t74\n",
      "Tentative: \t44\n",
      "Rejected: \t4882\n"
     ]
    },
    {
     "name": "stderr",
     "output_type": "stream",
     "text": [
      "[Parallel(n_jobs=14)]: Using backend ThreadingBackend with 14 concurrent workers.\n",
      "[Parallel(n_jobs=14)]: Done  22 tasks      | elapsed:    0.0s\n",
      "[Parallel(n_jobs=14)]: Done 172 tasks      | elapsed:    0.2s\n",
      "[Parallel(n_jobs=14)]: Done 422 tasks      | elapsed:    0.6s\n",
      "[Parallel(n_jobs=14)]: Done 512 out of 512 | elapsed:    0.7s finished\n"
     ]
    },
    {
     "name": "stdout",
     "output_type": "stream",
     "text": [
      "Iteration: \t280 / 1000\n",
      "Confirmed: \t74\n",
      "Tentative: \t44\n",
      "Rejected: \t4882\n"
     ]
    },
    {
     "name": "stderr",
     "output_type": "stream",
     "text": [
      "[Parallel(n_jobs=14)]: Using backend ThreadingBackend with 14 concurrent workers.\n",
      "[Parallel(n_jobs=14)]: Done  22 tasks      | elapsed:    0.0s\n",
      "[Parallel(n_jobs=14)]: Done 172 tasks      | elapsed:    0.2s\n",
      "[Parallel(n_jobs=14)]: Done 422 tasks      | elapsed:    0.5s\n",
      "[Parallel(n_jobs=14)]: Done 512 out of 512 | elapsed:    0.6s finished\n"
     ]
    },
    {
     "name": "stdout",
     "output_type": "stream",
     "text": [
      "Iteration: \t281 / 1000\n",
      "Confirmed: \t74\n",
      "Tentative: \t44\n",
      "Rejected: \t4882\n"
     ]
    },
    {
     "name": "stderr",
     "output_type": "stream",
     "text": [
      "[Parallel(n_jobs=14)]: Using backend ThreadingBackend with 14 concurrent workers.\n",
      "[Parallel(n_jobs=14)]: Done  22 tasks      | elapsed:    0.0s\n",
      "[Parallel(n_jobs=14)]: Done 172 tasks      | elapsed:    0.2s\n",
      "[Parallel(n_jobs=14)]: Done 422 tasks      | elapsed:    0.6s\n",
      "[Parallel(n_jobs=14)]: Done 512 out of 512 | elapsed:    0.7s finished\n"
     ]
    },
    {
     "name": "stdout",
     "output_type": "stream",
     "text": [
      "Iteration: \t282 / 1000\n",
      "Confirmed: \t74\n",
      "Tentative: \t44\n",
      "Rejected: \t4882\n"
     ]
    },
    {
     "name": "stderr",
     "output_type": "stream",
     "text": [
      "[Parallel(n_jobs=14)]: Using backend ThreadingBackend with 14 concurrent workers.\n",
      "[Parallel(n_jobs=14)]: Done  22 tasks      | elapsed:    0.0s\n",
      "[Parallel(n_jobs=14)]: Done 172 tasks      | elapsed:    0.2s\n",
      "[Parallel(n_jobs=14)]: Done 422 tasks      | elapsed:    0.6s\n",
      "[Parallel(n_jobs=14)]: Done 512 out of 512 | elapsed:    0.7s finished\n"
     ]
    },
    {
     "name": "stdout",
     "output_type": "stream",
     "text": [
      "Iteration: \t283 / 1000\n",
      "Confirmed: \t74\n",
      "Tentative: \t44\n",
      "Rejected: \t4882\n"
     ]
    },
    {
     "name": "stderr",
     "output_type": "stream",
     "text": [
      "[Parallel(n_jobs=14)]: Using backend ThreadingBackend with 14 concurrent workers.\n",
      "[Parallel(n_jobs=14)]: Done  22 tasks      | elapsed:    0.0s\n",
      "[Parallel(n_jobs=14)]: Done 172 tasks      | elapsed:    0.2s\n",
      "[Parallel(n_jobs=14)]: Done 422 tasks      | elapsed:    0.5s\n",
      "[Parallel(n_jobs=14)]: Done 512 out of 512 | elapsed:    0.6s finished\n"
     ]
    },
    {
     "name": "stdout",
     "output_type": "stream",
     "text": [
      "Iteration: \t284 / 1000\n",
      "Confirmed: \t74\n",
      "Tentative: \t44\n",
      "Rejected: \t4882\n"
     ]
    },
    {
     "name": "stderr",
     "output_type": "stream",
     "text": [
      "[Parallel(n_jobs=14)]: Using backend ThreadingBackend with 14 concurrent workers.\n",
      "[Parallel(n_jobs=14)]: Done  22 tasks      | elapsed:    0.0s\n",
      "[Parallel(n_jobs=14)]: Done 172 tasks      | elapsed:    0.2s\n",
      "[Parallel(n_jobs=14)]: Done 422 tasks      | elapsed:    0.5s\n",
      "[Parallel(n_jobs=14)]: Done 512 out of 512 | elapsed:    0.6s finished\n"
     ]
    },
    {
     "name": "stdout",
     "output_type": "stream",
     "text": [
      "Iteration: \t285 / 1000\n",
      "Confirmed: \t74\n",
      "Tentative: \t44\n",
      "Rejected: \t4882\n"
     ]
    },
    {
     "name": "stderr",
     "output_type": "stream",
     "text": [
      "[Parallel(n_jobs=14)]: Using backend ThreadingBackend with 14 concurrent workers.\n",
      "[Parallel(n_jobs=14)]: Done  22 tasks      | elapsed:    0.0s\n",
      "[Parallel(n_jobs=14)]: Done 172 tasks      | elapsed:    0.2s\n",
      "[Parallel(n_jobs=14)]: Done 422 tasks      | elapsed:    0.6s\n",
      "[Parallel(n_jobs=14)]: Done 512 out of 512 | elapsed:    0.7s finished\n"
     ]
    },
    {
     "name": "stdout",
     "output_type": "stream",
     "text": [
      "Iteration: \t286 / 1000\n",
      "Confirmed: \t74\n",
      "Tentative: \t44\n",
      "Rejected: \t4882\n"
     ]
    },
    {
     "name": "stderr",
     "output_type": "stream",
     "text": [
      "[Parallel(n_jobs=14)]: Using backend ThreadingBackend with 14 concurrent workers.\n",
      "[Parallel(n_jobs=14)]: Done  22 tasks      | elapsed:    0.0s\n",
      "[Parallel(n_jobs=14)]: Done 172 tasks      | elapsed:    0.2s\n",
      "[Parallel(n_jobs=14)]: Done 422 tasks      | elapsed:    0.6s\n",
      "[Parallel(n_jobs=14)]: Done 512 out of 512 | elapsed:    0.7s finished\n"
     ]
    },
    {
     "name": "stdout",
     "output_type": "stream",
     "text": [
      "Iteration: \t287 / 1000\n",
      "Confirmed: \t74\n",
      "Tentative: \t44\n",
      "Rejected: \t4882\n"
     ]
    },
    {
     "name": "stderr",
     "output_type": "stream",
     "text": [
      "[Parallel(n_jobs=14)]: Using backend ThreadingBackend with 14 concurrent workers.\n",
      "[Parallel(n_jobs=14)]: Done  22 tasks      | elapsed:    0.0s\n",
      "[Parallel(n_jobs=14)]: Done 172 tasks      | elapsed:    0.2s\n",
      "[Parallel(n_jobs=14)]: Done 422 tasks      | elapsed:    0.6s\n",
      "[Parallel(n_jobs=14)]: Done 512 out of 512 | elapsed:    0.7s finished\n"
     ]
    },
    {
     "name": "stdout",
     "output_type": "stream",
     "text": [
      "Iteration: \t288 / 1000\n",
      "Confirmed: \t74\n",
      "Tentative: \t43\n",
      "Rejected: \t4883\n"
     ]
    },
    {
     "name": "stderr",
     "output_type": "stream",
     "text": [
      "[Parallel(n_jobs=14)]: Using backend ThreadingBackend with 14 concurrent workers.\n",
      "[Parallel(n_jobs=14)]: Done  22 tasks      | elapsed:    0.0s\n",
      "[Parallel(n_jobs=14)]: Done 172 tasks      | elapsed:    0.2s\n",
      "[Parallel(n_jobs=14)]: Done 422 tasks      | elapsed:    0.5s\n",
      "[Parallel(n_jobs=14)]: Done 509 out of 509 | elapsed:    0.6s finished\n"
     ]
    },
    {
     "name": "stdout",
     "output_type": "stream",
     "text": [
      "Iteration: \t289 / 1000\n",
      "Confirmed: \t74\n",
      "Tentative: \t43\n",
      "Rejected: \t4883\n"
     ]
    },
    {
     "name": "stderr",
     "output_type": "stream",
     "text": [
      "[Parallel(n_jobs=14)]: Using backend ThreadingBackend with 14 concurrent workers.\n",
      "[Parallel(n_jobs=14)]: Done  22 tasks      | elapsed:    0.0s\n",
      "[Parallel(n_jobs=14)]: Done 172 tasks      | elapsed:    0.2s\n",
      "[Parallel(n_jobs=14)]: Done 422 tasks      | elapsed:    0.5s\n",
      "[Parallel(n_jobs=14)]: Done 509 out of 509 | elapsed:    0.6s finished\n"
     ]
    },
    {
     "name": "stdout",
     "output_type": "stream",
     "text": [
      "Iteration: \t290 / 1000\n",
      "Confirmed: \t74\n",
      "Tentative: \t43\n",
      "Rejected: \t4883\n"
     ]
    },
    {
     "name": "stderr",
     "output_type": "stream",
     "text": [
      "[Parallel(n_jobs=14)]: Using backend ThreadingBackend with 14 concurrent workers.\n",
      "[Parallel(n_jobs=14)]: Done  22 tasks      | elapsed:    0.0s\n",
      "[Parallel(n_jobs=14)]: Done 172 tasks      | elapsed:    0.2s\n",
      "[Parallel(n_jobs=14)]: Done 422 tasks      | elapsed:    0.6s\n",
      "[Parallel(n_jobs=14)]: Done 509 out of 509 | elapsed:    0.7s finished\n"
     ]
    },
    {
     "name": "stdout",
     "output_type": "stream",
     "text": [
      "Iteration: \t291 / 1000\n",
      "Confirmed: \t74\n",
      "Tentative: \t43\n",
      "Rejected: \t4883\n"
     ]
    },
    {
     "name": "stderr",
     "output_type": "stream",
     "text": [
      "[Parallel(n_jobs=14)]: Using backend ThreadingBackend with 14 concurrent workers.\n",
      "[Parallel(n_jobs=14)]: Done  22 tasks      | elapsed:    0.0s\n",
      "[Parallel(n_jobs=14)]: Done 172 tasks      | elapsed:    0.2s\n",
      "[Parallel(n_jobs=14)]: Done 422 tasks      | elapsed:    0.5s\n",
      "[Parallel(n_jobs=14)]: Done 509 out of 509 | elapsed:    0.6s finished\n"
     ]
    },
    {
     "name": "stdout",
     "output_type": "stream",
     "text": [
      "Iteration: \t292 / 1000\n",
      "Confirmed: \t74\n",
      "Tentative: \t43\n",
      "Rejected: \t4883\n"
     ]
    },
    {
     "name": "stderr",
     "output_type": "stream",
     "text": [
      "[Parallel(n_jobs=14)]: Using backend ThreadingBackend with 14 concurrent workers.\n",
      "[Parallel(n_jobs=14)]: Done  22 tasks      | elapsed:    0.0s\n",
      "[Parallel(n_jobs=14)]: Done 172 tasks      | elapsed:    0.2s\n",
      "[Parallel(n_jobs=14)]: Done 422 tasks      | elapsed:    0.5s\n",
      "[Parallel(n_jobs=14)]: Done 509 out of 509 | elapsed:    0.6s finished\n"
     ]
    },
    {
     "name": "stdout",
     "output_type": "stream",
     "text": [
      "Iteration: \t293 / 1000\n",
      "Confirmed: \t74\n",
      "Tentative: \t43\n",
      "Rejected: \t4883\n"
     ]
    },
    {
     "name": "stderr",
     "output_type": "stream",
     "text": [
      "[Parallel(n_jobs=14)]: Using backend ThreadingBackend with 14 concurrent workers.\n",
      "[Parallel(n_jobs=14)]: Done  22 tasks      | elapsed:    0.0s\n",
      "[Parallel(n_jobs=14)]: Done 172 tasks      | elapsed:    0.2s\n",
      "[Parallel(n_jobs=14)]: Done 422 tasks      | elapsed:    0.5s\n",
      "[Parallel(n_jobs=14)]: Done 509 out of 509 | elapsed:    0.6s finished\n"
     ]
    },
    {
     "name": "stdout",
     "output_type": "stream",
     "text": [
      "Iteration: \t294 / 1000\n",
      "Confirmed: \t74\n",
      "Tentative: \t43\n",
      "Rejected: \t4883\n"
     ]
    },
    {
     "name": "stderr",
     "output_type": "stream",
     "text": [
      "[Parallel(n_jobs=14)]: Using backend ThreadingBackend with 14 concurrent workers.\n",
      "[Parallel(n_jobs=14)]: Done  22 tasks      | elapsed:    0.0s\n",
      "[Parallel(n_jobs=14)]: Done 172 tasks      | elapsed:    0.2s\n",
      "[Parallel(n_jobs=14)]: Done 422 tasks      | elapsed:    0.5s\n",
      "[Parallel(n_jobs=14)]: Done 509 out of 509 | elapsed:    0.6s finished\n"
     ]
    },
    {
     "name": "stdout",
     "output_type": "stream",
     "text": [
      "Iteration: \t295 / 1000\n",
      "Confirmed: \t74\n",
      "Tentative: \t43\n",
      "Rejected: \t4883\n"
     ]
    },
    {
     "name": "stderr",
     "output_type": "stream",
     "text": [
      "[Parallel(n_jobs=14)]: Using backend ThreadingBackend with 14 concurrent workers.\n",
      "[Parallel(n_jobs=14)]: Done  22 tasks      | elapsed:    0.0s\n",
      "[Parallel(n_jobs=14)]: Done 172 tasks      | elapsed:    0.2s\n",
      "[Parallel(n_jobs=14)]: Done 422 tasks      | elapsed:    0.6s\n",
      "[Parallel(n_jobs=14)]: Done 509 out of 509 | elapsed:    0.7s finished\n"
     ]
    },
    {
     "name": "stdout",
     "output_type": "stream",
     "text": [
      "Iteration: \t296 / 1000\n",
      "Confirmed: \t74\n",
      "Tentative: \t43\n",
      "Rejected: \t4883\n"
     ]
    },
    {
     "name": "stderr",
     "output_type": "stream",
     "text": [
      "[Parallel(n_jobs=14)]: Using backend ThreadingBackend with 14 concurrent workers.\n",
      "[Parallel(n_jobs=14)]: Done  22 tasks      | elapsed:    0.0s\n",
      "[Parallel(n_jobs=14)]: Done 172 tasks      | elapsed:    0.2s\n",
      "[Parallel(n_jobs=14)]: Done 422 tasks      | elapsed:    0.6s\n",
      "[Parallel(n_jobs=14)]: Done 509 out of 509 | elapsed:    0.7s finished\n"
     ]
    },
    {
     "name": "stdout",
     "output_type": "stream",
     "text": [
      "Iteration: \t297 / 1000\n",
      "Confirmed: \t74\n",
      "Tentative: \t42\n",
      "Rejected: \t4884\n"
     ]
    },
    {
     "name": "stderr",
     "output_type": "stream",
     "text": [
      "[Parallel(n_jobs=14)]: Using backend ThreadingBackend with 14 concurrent workers.\n",
      "[Parallel(n_jobs=14)]: Done  22 tasks      | elapsed:    0.0s\n",
      "[Parallel(n_jobs=14)]: Done 172 tasks      | elapsed:    0.2s\n",
      "[Parallel(n_jobs=14)]: Done 422 tasks      | elapsed:    0.5s\n",
      "[Parallel(n_jobs=14)]: Done 507 out of 507 | elapsed:    0.6s finished\n"
     ]
    },
    {
     "name": "stdout",
     "output_type": "stream",
     "text": [
      "Iteration: \t298 / 1000\n",
      "Confirmed: \t74\n",
      "Tentative: \t42\n",
      "Rejected: \t4884\n"
     ]
    },
    {
     "name": "stderr",
     "output_type": "stream",
     "text": [
      "[Parallel(n_jobs=14)]: Using backend ThreadingBackend with 14 concurrent workers.\n",
      "[Parallel(n_jobs=14)]: Done  22 tasks      | elapsed:    0.0s\n",
      "[Parallel(n_jobs=14)]: Done 172 tasks      | elapsed:    0.2s\n",
      "[Parallel(n_jobs=14)]: Done 422 tasks      | elapsed:    0.5s\n",
      "[Parallel(n_jobs=14)]: Done 507 out of 507 | elapsed:    0.6s finished\n"
     ]
    },
    {
     "name": "stdout",
     "output_type": "stream",
     "text": [
      "Iteration: \t299 / 1000\n",
      "Confirmed: \t74\n",
      "Tentative: \t42\n",
      "Rejected: \t4884\n"
     ]
    },
    {
     "name": "stderr",
     "output_type": "stream",
     "text": [
      "[Parallel(n_jobs=14)]: Using backend ThreadingBackend with 14 concurrent workers.\n",
      "[Parallel(n_jobs=14)]: Done  22 tasks      | elapsed:    0.0s\n",
      "[Parallel(n_jobs=14)]: Done 172 tasks      | elapsed:    0.2s\n",
      "[Parallel(n_jobs=14)]: Done 422 tasks      | elapsed:    0.5s\n",
      "[Parallel(n_jobs=14)]: Done 507 out of 507 | elapsed:    0.6s finished\n"
     ]
    },
    {
     "name": "stdout",
     "output_type": "stream",
     "text": [
      "Iteration: \t300 / 1000\n",
      "Confirmed: \t74\n",
      "Tentative: \t42\n",
      "Rejected: \t4884\n"
     ]
    },
    {
     "name": "stderr",
     "output_type": "stream",
     "text": [
      "[Parallel(n_jobs=14)]: Using backend ThreadingBackend with 14 concurrent workers.\n",
      "[Parallel(n_jobs=14)]: Done  22 tasks      | elapsed:    0.0s\n",
      "[Parallel(n_jobs=14)]: Done 172 tasks      | elapsed:    0.2s\n",
      "[Parallel(n_jobs=14)]: Done 422 tasks      | elapsed:    0.5s\n",
      "[Parallel(n_jobs=14)]: Done 507 out of 507 | elapsed:    0.6s finished\n"
     ]
    },
    {
     "name": "stdout",
     "output_type": "stream",
     "text": [
      "Iteration: \t301 / 1000\n",
      "Confirmed: \t74\n",
      "Tentative: \t42\n",
      "Rejected: \t4884\n"
     ]
    },
    {
     "name": "stderr",
     "output_type": "stream",
     "text": [
      "[Parallel(n_jobs=14)]: Using backend ThreadingBackend with 14 concurrent workers.\n",
      "[Parallel(n_jobs=14)]: Done  22 tasks      | elapsed:    0.0s\n",
      "[Parallel(n_jobs=14)]: Done 172 tasks      | elapsed:    0.2s\n",
      "[Parallel(n_jobs=14)]: Done 422 tasks      | elapsed:    0.5s\n",
      "[Parallel(n_jobs=14)]: Done 507 out of 507 | elapsed:    0.6s finished\n"
     ]
    },
    {
     "name": "stdout",
     "output_type": "stream",
     "text": [
      "Iteration: \t302 / 1000\n",
      "Confirmed: \t74\n",
      "Tentative: \t41\n",
      "Rejected: \t4885\n"
     ]
    },
    {
     "name": "stderr",
     "output_type": "stream",
     "text": [
      "[Parallel(n_jobs=14)]: Using backend ThreadingBackend with 14 concurrent workers.\n",
      "[Parallel(n_jobs=14)]: Done  22 tasks      | elapsed:    0.0s\n",
      "[Parallel(n_jobs=14)]: Done 172 tasks      | elapsed:    0.2s\n",
      "[Parallel(n_jobs=14)]: Done 422 tasks      | elapsed:    0.5s\n",
      "[Parallel(n_jobs=14)]: Done 505 out of 505 | elapsed:    0.6s finished\n"
     ]
    },
    {
     "name": "stdout",
     "output_type": "stream",
     "text": [
      "Iteration: \t303 / 1000\n",
      "Confirmed: \t74\n",
      "Tentative: \t41\n",
      "Rejected: \t4885\n"
     ]
    },
    {
     "name": "stderr",
     "output_type": "stream",
     "text": [
      "[Parallel(n_jobs=14)]: Using backend ThreadingBackend with 14 concurrent workers.\n",
      "[Parallel(n_jobs=14)]: Done  22 tasks      | elapsed:    0.0s\n",
      "[Parallel(n_jobs=14)]: Done 172 tasks      | elapsed:    0.2s\n",
      "[Parallel(n_jobs=14)]: Done 422 tasks      | elapsed:    0.6s\n",
      "[Parallel(n_jobs=14)]: Done 505 out of 505 | elapsed:    0.6s finished\n"
     ]
    },
    {
     "name": "stdout",
     "output_type": "stream",
     "text": [
      "Iteration: \t304 / 1000\n",
      "Confirmed: \t74\n",
      "Tentative: \t41\n",
      "Rejected: \t4885\n"
     ]
    },
    {
     "name": "stderr",
     "output_type": "stream",
     "text": [
      "[Parallel(n_jobs=14)]: Using backend ThreadingBackend with 14 concurrent workers.\n",
      "[Parallel(n_jobs=14)]: Done  22 tasks      | elapsed:    0.0s\n",
      "[Parallel(n_jobs=14)]: Done 172 tasks      | elapsed:    0.2s\n",
      "[Parallel(n_jobs=14)]: Done 422 tasks      | elapsed:    0.6s\n",
      "[Parallel(n_jobs=14)]: Done 505 out of 505 | elapsed:    0.6s finished\n"
     ]
    },
    {
     "name": "stdout",
     "output_type": "stream",
     "text": [
      "Iteration: \t305 / 1000\n",
      "Confirmed: \t74\n",
      "Tentative: \t41\n",
      "Rejected: \t4885\n"
     ]
    },
    {
     "name": "stderr",
     "output_type": "stream",
     "text": [
      "[Parallel(n_jobs=14)]: Using backend ThreadingBackend with 14 concurrent workers.\n",
      "[Parallel(n_jobs=14)]: Done  22 tasks      | elapsed:    0.0s\n",
      "[Parallel(n_jobs=14)]: Done 172 tasks      | elapsed:    0.2s\n",
      "[Parallel(n_jobs=14)]: Done 422 tasks      | elapsed:    0.6s\n",
      "[Parallel(n_jobs=14)]: Done 505 out of 505 | elapsed:    0.6s finished\n"
     ]
    },
    {
     "name": "stdout",
     "output_type": "stream",
     "text": [
      "Iteration: \t306 / 1000\n",
      "Confirmed: \t74\n",
      "Tentative: \t41\n",
      "Rejected: \t4885\n"
     ]
    },
    {
     "name": "stderr",
     "output_type": "stream",
     "text": [
      "[Parallel(n_jobs=14)]: Using backend ThreadingBackend with 14 concurrent workers.\n",
      "[Parallel(n_jobs=14)]: Done  22 tasks      | elapsed:    0.0s\n",
      "[Parallel(n_jobs=14)]: Done 172 tasks      | elapsed:    0.2s\n",
      "[Parallel(n_jobs=14)]: Done 422 tasks      | elapsed:    0.6s\n",
      "[Parallel(n_jobs=14)]: Done 505 out of 505 | elapsed:    0.6s finished\n"
     ]
    },
    {
     "name": "stdout",
     "output_type": "stream",
     "text": [
      "Iteration: \t307 / 1000\n",
      "Confirmed: \t74\n",
      "Tentative: \t41\n",
      "Rejected: \t4885\n"
     ]
    },
    {
     "name": "stderr",
     "output_type": "stream",
     "text": [
      "[Parallel(n_jobs=14)]: Using backend ThreadingBackend with 14 concurrent workers.\n",
      "[Parallel(n_jobs=14)]: Done  22 tasks      | elapsed:    0.0s\n",
      "[Parallel(n_jobs=14)]: Done 172 tasks      | elapsed:    0.2s\n",
      "[Parallel(n_jobs=14)]: Done 422 tasks      | elapsed:    0.6s\n",
      "[Parallel(n_jobs=14)]: Done 505 out of 505 | elapsed:    0.6s finished\n"
     ]
    },
    {
     "name": "stdout",
     "output_type": "stream",
     "text": [
      "Iteration: \t308 / 1000\n",
      "Confirmed: \t74\n",
      "Tentative: \t41\n",
      "Rejected: \t4885\n"
     ]
    },
    {
     "name": "stderr",
     "output_type": "stream",
     "text": [
      "[Parallel(n_jobs=14)]: Using backend ThreadingBackend with 14 concurrent workers.\n",
      "[Parallel(n_jobs=14)]: Done  22 tasks      | elapsed:    0.0s\n",
      "[Parallel(n_jobs=14)]: Done 172 tasks      | elapsed:    0.2s\n",
      "[Parallel(n_jobs=14)]: Done 422 tasks      | elapsed:    0.6s\n",
      "[Parallel(n_jobs=14)]: Done 505 out of 505 | elapsed:    0.6s finished\n"
     ]
    },
    {
     "name": "stdout",
     "output_type": "stream",
     "text": [
      "Iteration: \t309 / 1000\n",
      "Confirmed: \t74\n",
      "Tentative: \t41\n",
      "Rejected: \t4885\n"
     ]
    },
    {
     "name": "stderr",
     "output_type": "stream",
     "text": [
      "[Parallel(n_jobs=14)]: Using backend ThreadingBackend with 14 concurrent workers.\n",
      "[Parallel(n_jobs=14)]: Done  22 tasks      | elapsed:    0.0s\n",
      "[Parallel(n_jobs=14)]: Done 172 tasks      | elapsed:    0.2s\n",
      "[Parallel(n_jobs=14)]: Done 422 tasks      | elapsed:    0.5s\n",
      "[Parallel(n_jobs=14)]: Done 505 out of 505 | elapsed:    0.6s finished\n"
     ]
    },
    {
     "name": "stdout",
     "output_type": "stream",
     "text": [
      "Iteration: \t310 / 1000\n",
      "Confirmed: \t74\n",
      "Tentative: \t41\n",
      "Rejected: \t4885\n"
     ]
    },
    {
     "name": "stderr",
     "output_type": "stream",
     "text": [
      "[Parallel(n_jobs=14)]: Using backend ThreadingBackend with 14 concurrent workers.\n",
      "[Parallel(n_jobs=14)]: Done  22 tasks      | elapsed:    0.0s\n",
      "[Parallel(n_jobs=14)]: Done 172 tasks      | elapsed:    0.2s\n",
      "[Parallel(n_jobs=14)]: Done 422 tasks      | elapsed:    0.5s\n",
      "[Parallel(n_jobs=14)]: Done 505 out of 505 | elapsed:    0.6s finished\n"
     ]
    },
    {
     "name": "stdout",
     "output_type": "stream",
     "text": [
      "Iteration: \t311 / 1000\n",
      "Confirmed: \t74\n",
      "Tentative: \t41\n",
      "Rejected: \t4885\n"
     ]
    },
    {
     "name": "stderr",
     "output_type": "stream",
     "text": [
      "[Parallel(n_jobs=14)]: Using backend ThreadingBackend with 14 concurrent workers.\n",
      "[Parallel(n_jobs=14)]: Done  22 tasks      | elapsed:    0.0s\n",
      "[Parallel(n_jobs=14)]: Done 172 tasks      | elapsed:    0.2s\n",
      "[Parallel(n_jobs=14)]: Done 422 tasks      | elapsed:    0.6s\n",
      "[Parallel(n_jobs=14)]: Done 505 out of 505 | elapsed:    0.6s finished\n"
     ]
    },
    {
     "name": "stdout",
     "output_type": "stream",
     "text": [
      "Iteration: \t312 / 1000\n",
      "Confirmed: \t74\n",
      "Tentative: \t41\n",
      "Rejected: \t4885\n"
     ]
    },
    {
     "name": "stderr",
     "output_type": "stream",
     "text": [
      "[Parallel(n_jobs=14)]: Using backend ThreadingBackend with 14 concurrent workers.\n",
      "[Parallel(n_jobs=14)]: Done  22 tasks      | elapsed:    0.0s\n",
      "[Parallel(n_jobs=14)]: Done 172 tasks      | elapsed:    0.2s\n",
      "[Parallel(n_jobs=14)]: Done 422 tasks      | elapsed:    0.5s\n",
      "[Parallel(n_jobs=14)]: Done 505 out of 505 | elapsed:    0.6s finished\n"
     ]
    },
    {
     "name": "stdout",
     "output_type": "stream",
     "text": [
      "Iteration: \t313 / 1000\n",
      "Confirmed: \t74\n",
      "Tentative: \t41\n",
      "Rejected: \t4885\n"
     ]
    },
    {
     "name": "stderr",
     "output_type": "stream",
     "text": [
      "[Parallel(n_jobs=14)]: Using backend ThreadingBackend with 14 concurrent workers.\n",
      "[Parallel(n_jobs=14)]: Done  22 tasks      | elapsed:    0.0s\n",
      "[Parallel(n_jobs=14)]: Done 172 tasks      | elapsed:    0.2s\n",
      "[Parallel(n_jobs=14)]: Done 422 tasks      | elapsed:    0.5s\n",
      "[Parallel(n_jobs=14)]: Done 505 out of 505 | elapsed:    0.6s finished\n"
     ]
    },
    {
     "name": "stdout",
     "output_type": "stream",
     "text": [
      "Iteration: \t314 / 1000\n",
      "Confirmed: \t74\n",
      "Tentative: \t41\n",
      "Rejected: \t4885\n"
     ]
    },
    {
     "name": "stderr",
     "output_type": "stream",
     "text": [
      "[Parallel(n_jobs=14)]: Using backend ThreadingBackend with 14 concurrent workers.\n",
      "[Parallel(n_jobs=14)]: Done  22 tasks      | elapsed:    0.0s\n",
      "[Parallel(n_jobs=14)]: Done 172 tasks      | elapsed:    0.2s\n",
      "[Parallel(n_jobs=14)]: Done 422 tasks      | elapsed:    0.6s\n",
      "[Parallel(n_jobs=14)]: Done 505 out of 505 | elapsed:    0.6s finished\n"
     ]
    },
    {
     "name": "stdout",
     "output_type": "stream",
     "text": [
      "Iteration: \t315 / 1000\n",
      "Confirmed: \t74\n",
      "Tentative: \t41\n",
      "Rejected: \t4885\n"
     ]
    },
    {
     "name": "stderr",
     "output_type": "stream",
     "text": [
      "[Parallel(n_jobs=14)]: Using backend ThreadingBackend with 14 concurrent workers.\n",
      "[Parallel(n_jobs=14)]: Done  22 tasks      | elapsed:    0.0s\n",
      "[Parallel(n_jobs=14)]: Done 172 tasks      | elapsed:    0.2s\n",
      "[Parallel(n_jobs=14)]: Done 422 tasks      | elapsed:    0.6s\n",
      "[Parallel(n_jobs=14)]: Done 505 out of 505 | elapsed:    0.6s finished\n"
     ]
    },
    {
     "name": "stdout",
     "output_type": "stream",
     "text": [
      "Iteration: \t316 / 1000\n",
      "Confirmed: \t74\n",
      "Tentative: \t41\n",
      "Rejected: \t4885\n"
     ]
    },
    {
     "name": "stderr",
     "output_type": "stream",
     "text": [
      "[Parallel(n_jobs=14)]: Using backend ThreadingBackend with 14 concurrent workers.\n",
      "[Parallel(n_jobs=14)]: Done  22 tasks      | elapsed:    0.0s\n",
      "[Parallel(n_jobs=14)]: Done 172 tasks      | elapsed:    0.2s\n",
      "[Parallel(n_jobs=14)]: Done 422 tasks      | elapsed:    0.5s\n",
      "[Parallel(n_jobs=14)]: Done 505 out of 505 | elapsed:    0.6s finished\n"
     ]
    },
    {
     "name": "stdout",
     "output_type": "stream",
     "text": [
      "Iteration: \t317 / 1000\n",
      "Confirmed: \t74\n",
      "Tentative: \t41\n",
      "Rejected: \t4885\n"
     ]
    },
    {
     "name": "stderr",
     "output_type": "stream",
     "text": [
      "[Parallel(n_jobs=14)]: Using backend ThreadingBackend with 14 concurrent workers.\n",
      "[Parallel(n_jobs=14)]: Done  22 tasks      | elapsed:    0.0s\n",
      "[Parallel(n_jobs=14)]: Done 172 tasks      | elapsed:    0.2s\n",
      "[Parallel(n_jobs=14)]: Done 422 tasks      | elapsed:    0.6s\n",
      "[Parallel(n_jobs=14)]: Done 505 out of 505 | elapsed:    0.6s finished\n"
     ]
    },
    {
     "name": "stdout",
     "output_type": "stream",
     "text": [
      "Iteration: \t318 / 1000\n",
      "Confirmed: \t74\n",
      "Tentative: \t41\n",
      "Rejected: \t4885\n"
     ]
    },
    {
     "name": "stderr",
     "output_type": "stream",
     "text": [
      "[Parallel(n_jobs=14)]: Using backend ThreadingBackend with 14 concurrent workers.\n",
      "[Parallel(n_jobs=14)]: Done  22 tasks      | elapsed:    0.0s\n",
      "[Parallel(n_jobs=14)]: Done 172 tasks      | elapsed:    0.2s\n",
      "[Parallel(n_jobs=14)]: Done 422 tasks      | elapsed:    0.6s\n",
      "[Parallel(n_jobs=14)]: Done 505 out of 505 | elapsed:    0.6s finished\n"
     ]
    },
    {
     "name": "stdout",
     "output_type": "stream",
     "text": [
      "Iteration: \t319 / 1000\n",
      "Confirmed: \t74\n",
      "Tentative: \t41\n",
      "Rejected: \t4885\n"
     ]
    },
    {
     "name": "stderr",
     "output_type": "stream",
     "text": [
      "[Parallel(n_jobs=14)]: Using backend ThreadingBackend with 14 concurrent workers.\n",
      "[Parallel(n_jobs=14)]: Done  22 tasks      | elapsed:    0.0s\n",
      "[Parallel(n_jobs=14)]: Done 172 tasks      | elapsed:    0.2s\n",
      "[Parallel(n_jobs=14)]: Done 422 tasks      | elapsed:    0.6s\n",
      "[Parallel(n_jobs=14)]: Done 505 out of 505 | elapsed:    0.6s finished\n"
     ]
    },
    {
     "name": "stdout",
     "output_type": "stream",
     "text": [
      "Iteration: \t320 / 1000\n",
      "Confirmed: \t74\n",
      "Tentative: \t41\n",
      "Rejected: \t4885\n"
     ]
    },
    {
     "name": "stderr",
     "output_type": "stream",
     "text": [
      "[Parallel(n_jobs=14)]: Using backend ThreadingBackend with 14 concurrent workers.\n",
      "[Parallel(n_jobs=14)]: Done  22 tasks      | elapsed:    0.0s\n",
      "[Parallel(n_jobs=14)]: Done 172 tasks      | elapsed:    0.2s\n",
      "[Parallel(n_jobs=14)]: Done 422 tasks      | elapsed:    0.6s\n",
      "[Parallel(n_jobs=14)]: Done 505 out of 505 | elapsed:    0.6s finished\n"
     ]
    },
    {
     "name": "stdout",
     "output_type": "stream",
     "text": [
      "Iteration: \t321 / 1000\n",
      "Confirmed: \t74\n",
      "Tentative: \t41\n",
      "Rejected: \t4885\n"
     ]
    },
    {
     "name": "stderr",
     "output_type": "stream",
     "text": [
      "[Parallel(n_jobs=14)]: Using backend ThreadingBackend with 14 concurrent workers.\n",
      "[Parallel(n_jobs=14)]: Done  22 tasks      | elapsed:    0.0s\n",
      "[Parallel(n_jobs=14)]: Done 172 tasks      | elapsed:    0.2s\n",
      "[Parallel(n_jobs=14)]: Done 422 tasks      | elapsed:    0.5s\n",
      "[Parallel(n_jobs=14)]: Done 505 out of 505 | elapsed:    0.6s finished\n"
     ]
    },
    {
     "name": "stdout",
     "output_type": "stream",
     "text": [
      "Iteration: \t322 / 1000\n",
      "Confirmed: \t74\n",
      "Tentative: \t41\n",
      "Rejected: \t4885\n"
     ]
    },
    {
     "name": "stderr",
     "output_type": "stream",
     "text": [
      "[Parallel(n_jobs=14)]: Using backend ThreadingBackend with 14 concurrent workers.\n",
      "[Parallel(n_jobs=14)]: Done  22 tasks      | elapsed:    0.0s\n",
      "[Parallel(n_jobs=14)]: Done 172 tasks      | elapsed:    0.2s\n",
      "[Parallel(n_jobs=14)]: Done 422 tasks      | elapsed:    0.5s\n",
      "[Parallel(n_jobs=14)]: Done 505 out of 505 | elapsed:    0.6s finished\n"
     ]
    },
    {
     "name": "stdout",
     "output_type": "stream",
     "text": [
      "Iteration: \t323 / 1000\n",
      "Confirmed: \t74\n",
      "Tentative: \t41\n",
      "Rejected: \t4885\n"
     ]
    },
    {
     "name": "stderr",
     "output_type": "stream",
     "text": [
      "[Parallel(n_jobs=14)]: Using backend ThreadingBackend with 14 concurrent workers.\n",
      "[Parallel(n_jobs=14)]: Done  22 tasks      | elapsed:    0.0s\n",
      "[Parallel(n_jobs=14)]: Done 172 tasks      | elapsed:    0.2s\n",
      "[Parallel(n_jobs=14)]: Done 422 tasks      | elapsed:    0.5s\n",
      "[Parallel(n_jobs=14)]: Done 505 out of 505 | elapsed:    0.6s finished\n"
     ]
    },
    {
     "name": "stdout",
     "output_type": "stream",
     "text": [
      "Iteration: \t324 / 1000\n",
      "Confirmed: \t74\n",
      "Tentative: \t40\n",
      "Rejected: \t4886\n"
     ]
    },
    {
     "name": "stderr",
     "output_type": "stream",
     "text": [
      "[Parallel(n_jobs=14)]: Using backend ThreadingBackend with 14 concurrent workers.\n",
      "[Parallel(n_jobs=14)]: Done  22 tasks      | elapsed:    0.0s\n",
      "[Parallel(n_jobs=14)]: Done 172 tasks      | elapsed:    0.2s\n",
      "[Parallel(n_jobs=14)]: Done 422 tasks      | elapsed:    0.5s\n",
      "[Parallel(n_jobs=14)]: Done 503 out of 503 | elapsed:    0.6s finished\n"
     ]
    },
    {
     "name": "stdout",
     "output_type": "stream",
     "text": [
      "Iteration: \t325 / 1000\n",
      "Confirmed: \t74\n",
      "Tentative: \t40\n",
      "Rejected: \t4886\n"
     ]
    },
    {
     "name": "stderr",
     "output_type": "stream",
     "text": [
      "[Parallel(n_jobs=14)]: Using backend ThreadingBackend with 14 concurrent workers.\n",
      "[Parallel(n_jobs=14)]: Done  22 tasks      | elapsed:    0.0s\n",
      "[Parallel(n_jobs=14)]: Done 172 tasks      | elapsed:    0.2s\n",
      "[Parallel(n_jobs=14)]: Done 422 tasks      | elapsed:    0.5s\n",
      "[Parallel(n_jobs=14)]: Done 503 out of 503 | elapsed:    0.6s finished\n"
     ]
    },
    {
     "name": "stdout",
     "output_type": "stream",
     "text": [
      "Iteration: \t326 / 1000\n",
      "Confirmed: \t74\n",
      "Tentative: \t40\n",
      "Rejected: \t4886\n"
     ]
    },
    {
     "name": "stderr",
     "output_type": "stream",
     "text": [
      "[Parallel(n_jobs=14)]: Using backend ThreadingBackend with 14 concurrent workers.\n",
      "[Parallel(n_jobs=14)]: Done  22 tasks      | elapsed:    0.0s\n",
      "[Parallel(n_jobs=14)]: Done 172 tasks      | elapsed:    0.2s\n",
      "[Parallel(n_jobs=14)]: Done 422 tasks      | elapsed:    0.6s\n",
      "[Parallel(n_jobs=14)]: Done 503 out of 503 | elapsed:    0.6s finished\n"
     ]
    },
    {
     "name": "stdout",
     "output_type": "stream",
     "text": [
      "Iteration: \t327 / 1000\n",
      "Confirmed: \t74\n",
      "Tentative: \t40\n",
      "Rejected: \t4886\n"
     ]
    },
    {
     "name": "stderr",
     "output_type": "stream",
     "text": [
      "[Parallel(n_jobs=14)]: Using backend ThreadingBackend with 14 concurrent workers.\n",
      "[Parallel(n_jobs=14)]: Done  22 tasks      | elapsed:    0.0s\n",
      "[Parallel(n_jobs=14)]: Done 172 tasks      | elapsed:    0.2s\n",
      "[Parallel(n_jobs=14)]: Done 422 tasks      | elapsed:    0.5s\n",
      "[Parallel(n_jobs=14)]: Done 503 out of 503 | elapsed:    0.6s finished\n"
     ]
    },
    {
     "name": "stdout",
     "output_type": "stream",
     "text": [
      "Iteration: \t328 / 1000\n",
      "Confirmed: \t74\n",
      "Tentative: \t40\n",
      "Rejected: \t4886\n"
     ]
    },
    {
     "name": "stderr",
     "output_type": "stream",
     "text": [
      "[Parallel(n_jobs=14)]: Using backend ThreadingBackend with 14 concurrent workers.\n",
      "[Parallel(n_jobs=14)]: Done  22 tasks      | elapsed:    0.0s\n",
      "[Parallel(n_jobs=14)]: Done 172 tasks      | elapsed:    0.2s\n",
      "[Parallel(n_jobs=14)]: Done 422 tasks      | elapsed:    0.6s\n",
      "[Parallel(n_jobs=14)]: Done 503 out of 503 | elapsed:    0.6s finished\n"
     ]
    },
    {
     "name": "stdout",
     "output_type": "stream",
     "text": [
      "Iteration: \t329 / 1000\n",
      "Confirmed: \t74\n",
      "Tentative: \t40\n",
      "Rejected: \t4886\n"
     ]
    },
    {
     "name": "stderr",
     "output_type": "stream",
     "text": [
      "[Parallel(n_jobs=14)]: Using backend ThreadingBackend with 14 concurrent workers.\n",
      "[Parallel(n_jobs=14)]: Done  22 tasks      | elapsed:    0.0s\n",
      "[Parallel(n_jobs=14)]: Done 172 tasks      | elapsed:    0.2s\n",
      "[Parallel(n_jobs=14)]: Done 422 tasks      | elapsed:    0.5s\n",
      "[Parallel(n_jobs=14)]: Done 503 out of 503 | elapsed:    0.6s finished\n"
     ]
    },
    {
     "name": "stdout",
     "output_type": "stream",
     "text": [
      "Iteration: \t330 / 1000\n",
      "Confirmed: \t74\n",
      "Tentative: \t40\n",
      "Rejected: \t4886\n"
     ]
    },
    {
     "name": "stderr",
     "output_type": "stream",
     "text": [
      "[Parallel(n_jobs=14)]: Using backend ThreadingBackend with 14 concurrent workers.\n",
      "[Parallel(n_jobs=14)]: Done  22 tasks      | elapsed:    0.0s\n",
      "[Parallel(n_jobs=14)]: Done 172 tasks      | elapsed:    0.2s\n",
      "[Parallel(n_jobs=14)]: Done 422 tasks      | elapsed:    0.6s\n",
      "[Parallel(n_jobs=14)]: Done 503 out of 503 | elapsed:    0.6s finished\n"
     ]
    },
    {
     "name": "stdout",
     "output_type": "stream",
     "text": [
      "Iteration: \t331 / 1000\n",
      "Confirmed: \t74\n",
      "Tentative: \t40\n",
      "Rejected: \t4886\n"
     ]
    },
    {
     "name": "stderr",
     "output_type": "stream",
     "text": [
      "[Parallel(n_jobs=14)]: Using backend ThreadingBackend with 14 concurrent workers.\n",
      "[Parallel(n_jobs=14)]: Done  22 tasks      | elapsed:    0.0s\n",
      "[Parallel(n_jobs=14)]: Done 172 tasks      | elapsed:    0.2s\n",
      "[Parallel(n_jobs=14)]: Done 422 tasks      | elapsed:    0.5s\n",
      "[Parallel(n_jobs=14)]: Done 503 out of 503 | elapsed:    0.6s finished\n"
     ]
    },
    {
     "name": "stdout",
     "output_type": "stream",
     "text": [
      "Iteration: \t332 / 1000\n",
      "Confirmed: \t74\n",
      "Tentative: \t40\n",
      "Rejected: \t4886\n"
     ]
    },
    {
     "name": "stderr",
     "output_type": "stream",
     "text": [
      "[Parallel(n_jobs=14)]: Using backend ThreadingBackend with 14 concurrent workers.\n",
      "[Parallel(n_jobs=14)]: Done  22 tasks      | elapsed:    0.0s\n",
      "[Parallel(n_jobs=14)]: Done 172 tasks      | elapsed:    0.2s\n",
      "[Parallel(n_jobs=14)]: Done 422 tasks      | elapsed:    0.6s\n",
      "[Parallel(n_jobs=14)]: Done 503 out of 503 | elapsed:    0.6s finished\n"
     ]
    },
    {
     "name": "stdout",
     "output_type": "stream",
     "text": [
      "Iteration: \t333 / 1000\n",
      "Confirmed: \t74\n",
      "Tentative: \t40\n",
      "Rejected: \t4886\n"
     ]
    },
    {
     "name": "stderr",
     "output_type": "stream",
     "text": [
      "[Parallel(n_jobs=14)]: Using backend ThreadingBackend with 14 concurrent workers.\n",
      "[Parallel(n_jobs=14)]: Done  22 tasks      | elapsed:    0.0s\n",
      "[Parallel(n_jobs=14)]: Done 172 tasks      | elapsed:    0.2s\n",
      "[Parallel(n_jobs=14)]: Done 422 tasks      | elapsed:    0.6s\n",
      "[Parallel(n_jobs=14)]: Done 503 out of 503 | elapsed:    0.6s finished\n"
     ]
    },
    {
     "name": "stdout",
     "output_type": "stream",
     "text": [
      "Iteration: \t334 / 1000\n",
      "Confirmed: \t74\n",
      "Tentative: \t40\n",
      "Rejected: \t4886\n"
     ]
    },
    {
     "name": "stderr",
     "output_type": "stream",
     "text": [
      "[Parallel(n_jobs=14)]: Using backend ThreadingBackend with 14 concurrent workers.\n",
      "[Parallel(n_jobs=14)]: Done  22 tasks      | elapsed:    0.0s\n",
      "[Parallel(n_jobs=14)]: Done 172 tasks      | elapsed:    0.2s\n",
      "[Parallel(n_jobs=14)]: Done 422 tasks      | elapsed:    0.6s\n",
      "[Parallel(n_jobs=14)]: Done 503 out of 503 | elapsed:    0.6s finished\n"
     ]
    },
    {
     "name": "stdout",
     "output_type": "stream",
     "text": [
      "Iteration: \t335 / 1000\n",
      "Confirmed: \t74\n",
      "Tentative: \t40\n",
      "Rejected: \t4886\n"
     ]
    },
    {
     "name": "stderr",
     "output_type": "stream",
     "text": [
      "[Parallel(n_jobs=14)]: Using backend ThreadingBackend with 14 concurrent workers.\n",
      "[Parallel(n_jobs=14)]: Done  22 tasks      | elapsed:    0.0s\n",
      "[Parallel(n_jobs=14)]: Done 172 tasks      | elapsed:    0.2s\n",
      "[Parallel(n_jobs=14)]: Done 422 tasks      | elapsed:    0.5s\n",
      "[Parallel(n_jobs=14)]: Done 503 out of 503 | elapsed:    0.6s finished\n"
     ]
    },
    {
     "name": "stdout",
     "output_type": "stream",
     "text": [
      "Iteration: \t336 / 1000\n",
      "Confirmed: \t74\n",
      "Tentative: \t40\n",
      "Rejected: \t4886\n"
     ]
    },
    {
     "name": "stderr",
     "output_type": "stream",
     "text": [
      "[Parallel(n_jobs=14)]: Using backend ThreadingBackend with 14 concurrent workers.\n",
      "[Parallel(n_jobs=14)]: Done  22 tasks      | elapsed:    0.0s\n",
      "[Parallel(n_jobs=14)]: Done 172 tasks      | elapsed:    0.2s\n",
      "[Parallel(n_jobs=14)]: Done 422 tasks      | elapsed:    0.6s\n",
      "[Parallel(n_jobs=14)]: Done 503 out of 503 | elapsed:    0.6s finished\n"
     ]
    },
    {
     "name": "stdout",
     "output_type": "stream",
     "text": [
      "Iteration: \t337 / 1000\n",
      "Confirmed: \t74\n",
      "Tentative: \t40\n",
      "Rejected: \t4886\n"
     ]
    },
    {
     "name": "stderr",
     "output_type": "stream",
     "text": [
      "[Parallel(n_jobs=14)]: Using backend ThreadingBackend with 14 concurrent workers.\n",
      "[Parallel(n_jobs=14)]: Done  22 tasks      | elapsed:    0.0s\n",
      "[Parallel(n_jobs=14)]: Done 172 tasks      | elapsed:    0.2s\n",
      "[Parallel(n_jobs=14)]: Done 422 tasks      | elapsed:    0.5s\n",
      "[Parallel(n_jobs=14)]: Done 503 out of 503 | elapsed:    0.6s finished\n"
     ]
    },
    {
     "name": "stdout",
     "output_type": "stream",
     "text": [
      "Iteration: \t338 / 1000\n",
      "Confirmed: \t74\n",
      "Tentative: \t40\n",
      "Rejected: \t4886\n"
     ]
    },
    {
     "name": "stderr",
     "output_type": "stream",
     "text": [
      "[Parallel(n_jobs=14)]: Using backend ThreadingBackend with 14 concurrent workers.\n",
      "[Parallel(n_jobs=14)]: Done  22 tasks      | elapsed:    0.0s\n",
      "[Parallel(n_jobs=14)]: Done 172 tasks      | elapsed:    0.2s\n",
      "[Parallel(n_jobs=14)]: Done 422 tasks      | elapsed:    0.5s\n",
      "[Parallel(n_jobs=14)]: Done 503 out of 503 | elapsed:    0.6s finished\n"
     ]
    },
    {
     "name": "stdout",
     "output_type": "stream",
     "text": [
      "Iteration: \t339 / 1000\n",
      "Confirmed: \t74\n",
      "Tentative: \t40\n",
      "Rejected: \t4886\n"
     ]
    },
    {
     "name": "stderr",
     "output_type": "stream",
     "text": [
      "[Parallel(n_jobs=14)]: Using backend ThreadingBackend with 14 concurrent workers.\n",
      "[Parallel(n_jobs=14)]: Done  22 tasks      | elapsed:    0.0s\n",
      "[Parallel(n_jobs=14)]: Done 172 tasks      | elapsed:    0.2s\n",
      "[Parallel(n_jobs=14)]: Done 422 tasks      | elapsed:    0.6s\n",
      "[Parallel(n_jobs=14)]: Done 503 out of 503 | elapsed:    0.6s finished\n"
     ]
    },
    {
     "name": "stdout",
     "output_type": "stream",
     "text": [
      "Iteration: \t340 / 1000\n",
      "Confirmed: \t74\n",
      "Tentative: \t40\n",
      "Rejected: \t4886\n"
     ]
    },
    {
     "name": "stderr",
     "output_type": "stream",
     "text": [
      "[Parallel(n_jobs=14)]: Using backend ThreadingBackend with 14 concurrent workers.\n",
      "[Parallel(n_jobs=14)]: Done  22 tasks      | elapsed:    0.0s\n",
      "[Parallel(n_jobs=14)]: Done 172 tasks      | elapsed:    0.2s\n",
      "[Parallel(n_jobs=14)]: Done 422 tasks      | elapsed:    0.5s\n",
      "[Parallel(n_jobs=14)]: Done 503 out of 503 | elapsed:    0.6s finished\n"
     ]
    },
    {
     "name": "stdout",
     "output_type": "stream",
     "text": [
      "Iteration: \t341 / 1000\n",
      "Confirmed: \t74\n",
      "Tentative: \t40\n",
      "Rejected: \t4886\n"
     ]
    },
    {
     "name": "stderr",
     "output_type": "stream",
     "text": [
      "[Parallel(n_jobs=14)]: Using backend ThreadingBackend with 14 concurrent workers.\n",
      "[Parallel(n_jobs=14)]: Done  22 tasks      | elapsed:    0.0s\n",
      "[Parallel(n_jobs=14)]: Done 172 tasks      | elapsed:    0.2s\n",
      "[Parallel(n_jobs=14)]: Done 422 tasks      | elapsed:    0.6s\n",
      "[Parallel(n_jobs=14)]: Done 503 out of 503 | elapsed:    0.6s finished\n"
     ]
    },
    {
     "name": "stdout",
     "output_type": "stream",
     "text": [
      "Iteration: \t342 / 1000\n",
      "Confirmed: \t74\n",
      "Tentative: \t40\n",
      "Rejected: \t4886\n"
     ]
    },
    {
     "name": "stderr",
     "output_type": "stream",
     "text": [
      "[Parallel(n_jobs=14)]: Using backend ThreadingBackend with 14 concurrent workers.\n",
      "[Parallel(n_jobs=14)]: Done  22 tasks      | elapsed:    0.0s\n",
      "[Parallel(n_jobs=14)]: Done 172 tasks      | elapsed:    0.2s\n",
      "[Parallel(n_jobs=14)]: Done 422 tasks      | elapsed:    0.6s\n",
      "[Parallel(n_jobs=14)]: Done 503 out of 503 | elapsed:    0.6s finished\n"
     ]
    },
    {
     "name": "stdout",
     "output_type": "stream",
     "text": [
      "Iteration: \t343 / 1000\n",
      "Confirmed: \t74\n",
      "Tentative: \t40\n",
      "Rejected: \t4886\n"
     ]
    },
    {
     "name": "stderr",
     "output_type": "stream",
     "text": [
      "[Parallel(n_jobs=14)]: Using backend ThreadingBackend with 14 concurrent workers.\n",
      "[Parallel(n_jobs=14)]: Done  22 tasks      | elapsed:    0.0s\n",
      "[Parallel(n_jobs=14)]: Done 172 tasks      | elapsed:    0.2s\n",
      "[Parallel(n_jobs=14)]: Done 422 tasks      | elapsed:    0.5s\n",
      "[Parallel(n_jobs=14)]: Done 503 out of 503 | elapsed:    0.6s finished\n"
     ]
    },
    {
     "name": "stdout",
     "output_type": "stream",
     "text": [
      "Iteration: \t344 / 1000\n",
      "Confirmed: \t74\n",
      "Tentative: \t40\n",
      "Rejected: \t4886\n"
     ]
    },
    {
     "name": "stderr",
     "output_type": "stream",
     "text": [
      "[Parallel(n_jobs=14)]: Using backend ThreadingBackend with 14 concurrent workers.\n",
      "[Parallel(n_jobs=14)]: Done  22 tasks      | elapsed:    0.0s\n",
      "[Parallel(n_jobs=14)]: Done 172 tasks      | elapsed:    0.2s\n",
      "[Parallel(n_jobs=14)]: Done 422 tasks      | elapsed:    0.5s\n",
      "[Parallel(n_jobs=14)]: Done 503 out of 503 | elapsed:    0.6s finished\n"
     ]
    },
    {
     "name": "stdout",
     "output_type": "stream",
     "text": [
      "Iteration: \t345 / 1000\n",
      "Confirmed: \t74\n",
      "Tentative: \t40\n",
      "Rejected: \t4886\n"
     ]
    },
    {
     "name": "stderr",
     "output_type": "stream",
     "text": [
      "[Parallel(n_jobs=14)]: Using backend ThreadingBackend with 14 concurrent workers.\n",
      "[Parallel(n_jobs=14)]: Done  22 tasks      | elapsed:    0.0s\n",
      "[Parallel(n_jobs=14)]: Done 172 tasks      | elapsed:    0.2s\n",
      "[Parallel(n_jobs=14)]: Done 422 tasks      | elapsed:    0.5s\n",
      "[Parallel(n_jobs=14)]: Done 503 out of 503 | elapsed:    0.6s finished\n"
     ]
    },
    {
     "name": "stdout",
     "output_type": "stream",
     "text": [
      "Iteration: \t346 / 1000\n",
      "Confirmed: \t74\n",
      "Tentative: \t40\n",
      "Rejected: \t4886\n"
     ]
    },
    {
     "name": "stderr",
     "output_type": "stream",
     "text": [
      "[Parallel(n_jobs=14)]: Using backend ThreadingBackend with 14 concurrent workers.\n",
      "[Parallel(n_jobs=14)]: Done  22 tasks      | elapsed:    0.0s\n",
      "[Parallel(n_jobs=14)]: Done 172 tasks      | elapsed:    0.2s\n",
      "[Parallel(n_jobs=14)]: Done 422 tasks      | elapsed:    0.6s\n",
      "[Parallel(n_jobs=14)]: Done 503 out of 503 | elapsed:    0.6s finished\n"
     ]
    },
    {
     "name": "stdout",
     "output_type": "stream",
     "text": [
      "Iteration: \t347 / 1000\n",
      "Confirmed: \t74\n",
      "Tentative: \t40\n",
      "Rejected: \t4886\n"
     ]
    },
    {
     "name": "stderr",
     "output_type": "stream",
     "text": [
      "[Parallel(n_jobs=14)]: Using backend ThreadingBackend with 14 concurrent workers.\n",
      "[Parallel(n_jobs=14)]: Done  22 tasks      | elapsed:    0.0s\n",
      "[Parallel(n_jobs=14)]: Done 172 tasks      | elapsed:    0.2s\n",
      "[Parallel(n_jobs=14)]: Done 422 tasks      | elapsed:    0.6s\n",
      "[Parallel(n_jobs=14)]: Done 503 out of 503 | elapsed:    0.6s finished\n"
     ]
    },
    {
     "name": "stdout",
     "output_type": "stream",
     "text": [
      "Iteration: \t348 / 1000\n",
      "Confirmed: \t74\n",
      "Tentative: \t40\n",
      "Rejected: \t4886\n"
     ]
    },
    {
     "name": "stderr",
     "output_type": "stream",
     "text": [
      "[Parallel(n_jobs=14)]: Using backend ThreadingBackend with 14 concurrent workers.\n",
      "[Parallel(n_jobs=14)]: Done  22 tasks      | elapsed:    0.0s\n",
      "[Parallel(n_jobs=14)]: Done 172 tasks      | elapsed:    0.2s\n",
      "[Parallel(n_jobs=14)]: Done 422 tasks      | elapsed:    0.6s\n",
      "[Parallel(n_jobs=14)]: Done 503 out of 503 | elapsed:    0.6s finished\n"
     ]
    },
    {
     "name": "stdout",
     "output_type": "stream",
     "text": [
      "Iteration: \t349 / 1000\n",
      "Confirmed: \t74\n",
      "Tentative: \t40\n",
      "Rejected: \t4886\n"
     ]
    },
    {
     "name": "stderr",
     "output_type": "stream",
     "text": [
      "[Parallel(n_jobs=14)]: Using backend ThreadingBackend with 14 concurrent workers.\n",
      "[Parallel(n_jobs=14)]: Done  22 tasks      | elapsed:    0.0s\n",
      "[Parallel(n_jobs=14)]: Done 172 tasks      | elapsed:    0.2s\n",
      "[Parallel(n_jobs=14)]: Done 422 tasks      | elapsed:    0.6s\n",
      "[Parallel(n_jobs=14)]: Done 503 out of 503 | elapsed:    0.6s finished\n"
     ]
    },
    {
     "name": "stdout",
     "output_type": "stream",
     "text": [
      "Iteration: \t350 / 1000\n",
      "Confirmed: \t74\n",
      "Tentative: \t40\n",
      "Rejected: \t4886\n"
     ]
    },
    {
     "name": "stderr",
     "output_type": "stream",
     "text": [
      "[Parallel(n_jobs=14)]: Using backend ThreadingBackend with 14 concurrent workers.\n",
      "[Parallel(n_jobs=14)]: Done  22 tasks      | elapsed:    0.0s\n",
      "[Parallel(n_jobs=14)]: Done 172 tasks      | elapsed:    0.2s\n",
      "[Parallel(n_jobs=14)]: Done 422 tasks      | elapsed:    0.5s\n",
      "[Parallel(n_jobs=14)]: Done 503 out of 503 | elapsed:    0.6s finished\n"
     ]
    },
    {
     "name": "stdout",
     "output_type": "stream",
     "text": [
      "Iteration: \t351 / 1000\n",
      "Confirmed: \t74\n",
      "Tentative: \t40\n",
      "Rejected: \t4886\n"
     ]
    },
    {
     "name": "stderr",
     "output_type": "stream",
     "text": [
      "[Parallel(n_jobs=14)]: Using backend ThreadingBackend with 14 concurrent workers.\n",
      "[Parallel(n_jobs=14)]: Done  22 tasks      | elapsed:    0.0s\n",
      "[Parallel(n_jobs=14)]: Done 172 tasks      | elapsed:    0.2s\n",
      "[Parallel(n_jobs=14)]: Done 422 tasks      | elapsed:    0.6s\n",
      "[Parallel(n_jobs=14)]: Done 503 out of 503 | elapsed:    0.6s finished\n"
     ]
    },
    {
     "name": "stdout",
     "output_type": "stream",
     "text": [
      "Iteration: \t352 / 1000\n",
      "Confirmed: \t74\n",
      "Tentative: \t40\n",
      "Rejected: \t4886\n"
     ]
    },
    {
     "name": "stderr",
     "output_type": "stream",
     "text": [
      "[Parallel(n_jobs=14)]: Using backend ThreadingBackend with 14 concurrent workers.\n",
      "[Parallel(n_jobs=14)]: Done  22 tasks      | elapsed:    0.0s\n",
      "[Parallel(n_jobs=14)]: Done 172 tasks      | elapsed:    0.2s\n",
      "[Parallel(n_jobs=14)]: Done 422 tasks      | elapsed:    0.6s\n",
      "[Parallel(n_jobs=14)]: Done 503 out of 503 | elapsed:    0.6s finished\n"
     ]
    },
    {
     "name": "stdout",
     "output_type": "stream",
     "text": [
      "Iteration: \t353 / 1000\n",
      "Confirmed: \t74\n",
      "Tentative: \t40\n",
      "Rejected: \t4886\n"
     ]
    },
    {
     "name": "stderr",
     "output_type": "stream",
     "text": [
      "[Parallel(n_jobs=14)]: Using backend ThreadingBackend with 14 concurrent workers.\n",
      "[Parallel(n_jobs=14)]: Done  22 tasks      | elapsed:    0.0s\n",
      "[Parallel(n_jobs=14)]: Done 172 tasks      | elapsed:    0.2s\n",
      "[Parallel(n_jobs=14)]: Done 422 tasks      | elapsed:    0.5s\n",
      "[Parallel(n_jobs=14)]: Done 503 out of 503 | elapsed:    0.6s finished\n"
     ]
    },
    {
     "name": "stdout",
     "output_type": "stream",
     "text": [
      "Iteration: \t354 / 1000\n",
      "Confirmed: \t74\n",
      "Tentative: \t40\n",
      "Rejected: \t4886\n"
     ]
    },
    {
     "name": "stderr",
     "output_type": "stream",
     "text": [
      "[Parallel(n_jobs=14)]: Using backend ThreadingBackend with 14 concurrent workers.\n",
      "[Parallel(n_jobs=14)]: Done  22 tasks      | elapsed:    0.0s\n",
      "[Parallel(n_jobs=14)]: Done 172 tasks      | elapsed:    0.2s\n",
      "[Parallel(n_jobs=14)]: Done 422 tasks      | elapsed:    0.6s\n",
      "[Parallel(n_jobs=14)]: Done 503 out of 503 | elapsed:    0.7s finished\n"
     ]
    },
    {
     "name": "stdout",
     "output_type": "stream",
     "text": [
      "Iteration: \t355 / 1000\n",
      "Confirmed: \t74\n",
      "Tentative: \t40\n",
      "Rejected: \t4886\n"
     ]
    },
    {
     "name": "stderr",
     "output_type": "stream",
     "text": [
      "[Parallel(n_jobs=14)]: Using backend ThreadingBackend with 14 concurrent workers.\n",
      "[Parallel(n_jobs=14)]: Done  22 tasks      | elapsed:    0.0s\n",
      "[Parallel(n_jobs=14)]: Done 172 tasks      | elapsed:    0.2s\n",
      "[Parallel(n_jobs=14)]: Done 422 tasks      | elapsed:    0.6s\n",
      "[Parallel(n_jobs=14)]: Done 503 out of 503 | elapsed:    0.6s finished\n"
     ]
    },
    {
     "name": "stdout",
     "output_type": "stream",
     "text": [
      "Iteration: \t356 / 1000\n",
      "Confirmed: \t74\n",
      "Tentative: \t40\n",
      "Rejected: \t4886\n"
     ]
    },
    {
     "name": "stderr",
     "output_type": "stream",
     "text": [
      "[Parallel(n_jobs=14)]: Using backend ThreadingBackend with 14 concurrent workers.\n",
      "[Parallel(n_jobs=14)]: Done  22 tasks      | elapsed:    0.0s\n",
      "[Parallel(n_jobs=14)]: Done 172 tasks      | elapsed:    0.2s\n",
      "[Parallel(n_jobs=14)]: Done 422 tasks      | elapsed:    0.6s\n",
      "[Parallel(n_jobs=14)]: Done 503 out of 503 | elapsed:    0.6s finished\n"
     ]
    },
    {
     "name": "stdout",
     "output_type": "stream",
     "text": [
      "Iteration: \t357 / 1000\n",
      "Confirmed: \t74\n",
      "Tentative: \t40\n",
      "Rejected: \t4886\n"
     ]
    },
    {
     "name": "stderr",
     "output_type": "stream",
     "text": [
      "[Parallel(n_jobs=14)]: Using backend ThreadingBackend with 14 concurrent workers.\n",
      "[Parallel(n_jobs=14)]: Done  22 tasks      | elapsed:    0.0s\n",
      "[Parallel(n_jobs=14)]: Done 172 tasks      | elapsed:    0.2s\n",
      "[Parallel(n_jobs=14)]: Done 422 tasks      | elapsed:    0.5s\n",
      "[Parallel(n_jobs=14)]: Done 503 out of 503 | elapsed:    0.6s finished\n"
     ]
    },
    {
     "name": "stdout",
     "output_type": "stream",
     "text": [
      "Iteration: \t358 / 1000\n",
      "Confirmed: \t74\n",
      "Tentative: \t40\n",
      "Rejected: \t4886\n"
     ]
    },
    {
     "name": "stderr",
     "output_type": "stream",
     "text": [
      "[Parallel(n_jobs=14)]: Using backend ThreadingBackend with 14 concurrent workers.\n",
      "[Parallel(n_jobs=14)]: Done  22 tasks      | elapsed:    0.0s\n",
      "[Parallel(n_jobs=14)]: Done 172 tasks      | elapsed:    0.2s\n",
      "[Parallel(n_jobs=14)]: Done 422 tasks      | elapsed:    0.5s\n",
      "[Parallel(n_jobs=14)]: Done 503 out of 503 | elapsed:    0.6s finished\n"
     ]
    },
    {
     "name": "stdout",
     "output_type": "stream",
     "text": [
      "Iteration: \t359 / 1000\n",
      "Confirmed: \t74\n",
      "Tentative: \t40\n",
      "Rejected: \t4886\n"
     ]
    },
    {
     "name": "stderr",
     "output_type": "stream",
     "text": [
      "[Parallel(n_jobs=14)]: Using backend ThreadingBackend with 14 concurrent workers.\n",
      "[Parallel(n_jobs=14)]: Done  22 tasks      | elapsed:    0.0s\n",
      "[Parallel(n_jobs=14)]: Done 172 tasks      | elapsed:    0.2s\n",
      "[Parallel(n_jobs=14)]: Done 422 tasks      | elapsed:    0.6s\n",
      "[Parallel(n_jobs=14)]: Done 503 out of 503 | elapsed:    0.6s finished\n"
     ]
    },
    {
     "name": "stdout",
     "output_type": "stream",
     "text": [
      "Iteration: \t360 / 1000\n",
      "Confirmed: \t74\n",
      "Tentative: \t40\n",
      "Rejected: \t4886\n"
     ]
    },
    {
     "name": "stderr",
     "output_type": "stream",
     "text": [
      "[Parallel(n_jobs=14)]: Using backend ThreadingBackend with 14 concurrent workers.\n",
      "[Parallel(n_jobs=14)]: Done  22 tasks      | elapsed:    0.0s\n",
      "[Parallel(n_jobs=14)]: Done 172 tasks      | elapsed:    0.2s\n",
      "[Parallel(n_jobs=14)]: Done 422 tasks      | elapsed:    0.6s\n",
      "[Parallel(n_jobs=14)]: Done 503 out of 503 | elapsed:    0.6s finished\n"
     ]
    },
    {
     "name": "stdout",
     "output_type": "stream",
     "text": [
      "Iteration: \t361 / 1000\n",
      "Confirmed: \t74\n",
      "Tentative: \t40\n",
      "Rejected: \t4886\n"
     ]
    },
    {
     "name": "stderr",
     "output_type": "stream",
     "text": [
      "[Parallel(n_jobs=14)]: Using backend ThreadingBackend with 14 concurrent workers.\n",
      "[Parallel(n_jobs=14)]: Done  22 tasks      | elapsed:    0.0s\n",
      "[Parallel(n_jobs=14)]: Done 172 tasks      | elapsed:    0.2s\n",
      "[Parallel(n_jobs=14)]: Done 422 tasks      | elapsed:    0.6s\n",
      "[Parallel(n_jobs=14)]: Done 503 out of 503 | elapsed:    0.6s finished\n"
     ]
    },
    {
     "name": "stdout",
     "output_type": "stream",
     "text": [
      "Iteration: \t362 / 1000\n",
      "Confirmed: \t74\n",
      "Tentative: \t40\n",
      "Rejected: \t4886\n"
     ]
    },
    {
     "name": "stderr",
     "output_type": "stream",
     "text": [
      "[Parallel(n_jobs=14)]: Using backend ThreadingBackend with 14 concurrent workers.\n",
      "[Parallel(n_jobs=14)]: Done  22 tasks      | elapsed:    0.0s\n",
      "[Parallel(n_jobs=14)]: Done 172 tasks      | elapsed:    0.2s\n",
      "[Parallel(n_jobs=14)]: Done 422 tasks      | elapsed:    0.5s\n",
      "[Parallel(n_jobs=14)]: Done 503 out of 503 | elapsed:    0.6s finished\n"
     ]
    },
    {
     "name": "stdout",
     "output_type": "stream",
     "text": [
      "Iteration: \t363 / 1000\n",
      "Confirmed: \t74\n",
      "Tentative: \t40\n",
      "Rejected: \t4886\n"
     ]
    },
    {
     "name": "stderr",
     "output_type": "stream",
     "text": [
      "[Parallel(n_jobs=14)]: Using backend ThreadingBackend with 14 concurrent workers.\n",
      "[Parallel(n_jobs=14)]: Done  22 tasks      | elapsed:    0.0s\n",
      "[Parallel(n_jobs=14)]: Done 172 tasks      | elapsed:    0.2s\n",
      "[Parallel(n_jobs=14)]: Done 422 tasks      | elapsed:    0.5s\n",
      "[Parallel(n_jobs=14)]: Done 503 out of 503 | elapsed:    0.6s finished\n"
     ]
    },
    {
     "name": "stdout",
     "output_type": "stream",
     "text": [
      "Iteration: \t364 / 1000\n",
      "Confirmed: \t74\n",
      "Tentative: \t40\n",
      "Rejected: \t4886\n"
     ]
    },
    {
     "name": "stderr",
     "output_type": "stream",
     "text": [
      "[Parallel(n_jobs=14)]: Using backend ThreadingBackend with 14 concurrent workers.\n",
      "[Parallel(n_jobs=14)]: Done  22 tasks      | elapsed:    0.0s\n",
      "[Parallel(n_jobs=14)]: Done 172 tasks      | elapsed:    0.2s\n",
      "[Parallel(n_jobs=14)]: Done 422 tasks      | elapsed:    0.5s\n",
      "[Parallel(n_jobs=14)]: Done 503 out of 503 | elapsed:    0.6s finished\n"
     ]
    },
    {
     "name": "stdout",
     "output_type": "stream",
     "text": [
      "Iteration: \t365 / 1000\n",
      "Confirmed: \t74\n",
      "Tentative: \t40\n",
      "Rejected: \t4886\n"
     ]
    },
    {
     "name": "stderr",
     "output_type": "stream",
     "text": [
      "[Parallel(n_jobs=14)]: Using backend ThreadingBackend with 14 concurrent workers.\n",
      "[Parallel(n_jobs=14)]: Done  22 tasks      | elapsed:    0.0s\n",
      "[Parallel(n_jobs=14)]: Done 172 tasks      | elapsed:    0.2s\n",
      "[Parallel(n_jobs=14)]: Done 422 tasks      | elapsed:    0.6s\n",
      "[Parallel(n_jobs=14)]: Done 503 out of 503 | elapsed:    0.6s finished\n"
     ]
    },
    {
     "name": "stdout",
     "output_type": "stream",
     "text": [
      "Iteration: \t366 / 1000\n",
      "Confirmed: \t74\n",
      "Tentative: \t40\n",
      "Rejected: \t4886\n"
     ]
    },
    {
     "name": "stderr",
     "output_type": "stream",
     "text": [
      "[Parallel(n_jobs=14)]: Using backend ThreadingBackend with 14 concurrent workers.\n",
      "[Parallel(n_jobs=14)]: Done  22 tasks      | elapsed:    0.0s\n",
      "[Parallel(n_jobs=14)]: Done 172 tasks      | elapsed:    0.2s\n",
      "[Parallel(n_jobs=14)]: Done 422 tasks      | elapsed:    0.5s\n",
      "[Parallel(n_jobs=14)]: Done 503 out of 503 | elapsed:    0.6s finished\n"
     ]
    },
    {
     "name": "stdout",
     "output_type": "stream",
     "text": [
      "Iteration: \t367 / 1000\n",
      "Confirmed: \t74\n",
      "Tentative: \t40\n",
      "Rejected: \t4886\n"
     ]
    },
    {
     "name": "stderr",
     "output_type": "stream",
     "text": [
      "[Parallel(n_jobs=14)]: Using backend ThreadingBackend with 14 concurrent workers.\n",
      "[Parallel(n_jobs=14)]: Done  22 tasks      | elapsed:    0.0s\n",
      "[Parallel(n_jobs=14)]: Done 172 tasks      | elapsed:    0.2s\n",
      "[Parallel(n_jobs=14)]: Done 422 tasks      | elapsed:    0.5s\n",
      "[Parallel(n_jobs=14)]: Done 503 out of 503 | elapsed:    0.6s finished\n"
     ]
    },
    {
     "name": "stdout",
     "output_type": "stream",
     "text": [
      "Iteration: \t368 / 1000\n",
      "Confirmed: \t74\n",
      "Tentative: \t40\n",
      "Rejected: \t4886\n"
     ]
    },
    {
     "name": "stderr",
     "output_type": "stream",
     "text": [
      "[Parallel(n_jobs=14)]: Using backend ThreadingBackend with 14 concurrent workers.\n",
      "[Parallel(n_jobs=14)]: Done  22 tasks      | elapsed:    0.0s\n",
      "[Parallel(n_jobs=14)]: Done 172 tasks      | elapsed:    0.2s\n",
      "[Parallel(n_jobs=14)]: Done 422 tasks      | elapsed:    0.5s\n",
      "[Parallel(n_jobs=14)]: Done 503 out of 503 | elapsed:    0.6s finished\n"
     ]
    },
    {
     "name": "stdout",
     "output_type": "stream",
     "text": [
      "Iteration: \t369 / 1000\n",
      "Confirmed: \t74\n",
      "Tentative: \t39\n",
      "Rejected: \t4887\n"
     ]
    },
    {
     "name": "stderr",
     "output_type": "stream",
     "text": [
      "[Parallel(n_jobs=14)]: Using backend ThreadingBackend with 14 concurrent workers.\n",
      "[Parallel(n_jobs=14)]: Done  22 tasks      | elapsed:    0.0s\n",
      "[Parallel(n_jobs=14)]: Done 172 tasks      | elapsed:    0.2s\n",
      "[Parallel(n_jobs=14)]: Done 422 tasks      | elapsed:    0.6s\n",
      "[Parallel(n_jobs=14)]: Done 501 out of 501 | elapsed:    0.6s finished\n"
     ]
    },
    {
     "name": "stdout",
     "output_type": "stream",
     "text": [
      "Iteration: \t370 / 1000\n",
      "Confirmed: \t74\n",
      "Tentative: \t39\n",
      "Rejected: \t4887\n"
     ]
    },
    {
     "name": "stderr",
     "output_type": "stream",
     "text": [
      "[Parallel(n_jobs=14)]: Using backend ThreadingBackend with 14 concurrent workers.\n",
      "[Parallel(n_jobs=14)]: Done  22 tasks      | elapsed:    0.0s\n",
      "[Parallel(n_jobs=14)]: Done 172 tasks      | elapsed:    0.2s\n",
      "[Parallel(n_jobs=14)]: Done 422 tasks      | elapsed:    0.6s\n",
      "[Parallel(n_jobs=14)]: Done 501 out of 501 | elapsed:    0.6s finished\n"
     ]
    },
    {
     "name": "stdout",
     "output_type": "stream",
     "text": [
      "Iteration: \t371 / 1000\n",
      "Confirmed: \t75\n",
      "Tentative: \t37\n",
      "Rejected: \t4888\n"
     ]
    },
    {
     "name": "stderr",
     "output_type": "stream",
     "text": [
      "[Parallel(n_jobs=14)]: Using backend ThreadingBackend with 14 concurrent workers.\n",
      "[Parallel(n_jobs=14)]: Done  22 tasks      | elapsed:    0.0s\n",
      "[Parallel(n_jobs=14)]: Done 172 tasks      | elapsed:    0.2s\n",
      "[Parallel(n_jobs=14)]: Done 422 tasks      | elapsed:    0.5s\n",
      "[Parallel(n_jobs=14)]: Done 498 out of 498 | elapsed:    0.6s finished\n"
     ]
    },
    {
     "name": "stdout",
     "output_type": "stream",
     "text": [
      "Iteration: \t372 / 1000\n",
      "Confirmed: \t75\n",
      "Tentative: \t37\n",
      "Rejected: \t4888\n"
     ]
    },
    {
     "name": "stderr",
     "output_type": "stream",
     "text": [
      "[Parallel(n_jobs=14)]: Using backend ThreadingBackend with 14 concurrent workers.\n",
      "[Parallel(n_jobs=14)]: Done  22 tasks      | elapsed:    0.0s\n",
      "[Parallel(n_jobs=14)]: Done 172 tasks      | elapsed:    0.2s\n",
      "[Parallel(n_jobs=14)]: Done 422 tasks      | elapsed:    0.5s\n",
      "[Parallel(n_jobs=14)]: Done 498 out of 498 | elapsed:    0.6s finished\n"
     ]
    },
    {
     "name": "stdout",
     "output_type": "stream",
     "text": [
      "Iteration: \t373 / 1000\n",
      "Confirmed: \t75\n",
      "Tentative: \t37\n",
      "Rejected: \t4888\n"
     ]
    },
    {
     "name": "stderr",
     "output_type": "stream",
     "text": [
      "[Parallel(n_jobs=14)]: Using backend ThreadingBackend with 14 concurrent workers.\n",
      "[Parallel(n_jobs=14)]: Done  22 tasks      | elapsed:    0.0s\n",
      "[Parallel(n_jobs=14)]: Done 172 tasks      | elapsed:    0.2s\n",
      "[Parallel(n_jobs=14)]: Done 422 tasks      | elapsed:    0.6s\n",
      "[Parallel(n_jobs=14)]: Done 498 out of 498 | elapsed:    0.6s finished\n"
     ]
    },
    {
     "name": "stdout",
     "output_type": "stream",
     "text": [
      "Iteration: \t374 / 1000\n",
      "Confirmed: \t75\n",
      "Tentative: \t37\n",
      "Rejected: \t4888\n"
     ]
    },
    {
     "name": "stderr",
     "output_type": "stream",
     "text": [
      "[Parallel(n_jobs=14)]: Using backend ThreadingBackend with 14 concurrent workers.\n",
      "[Parallel(n_jobs=14)]: Done  22 tasks      | elapsed:    0.0s\n",
      "[Parallel(n_jobs=14)]: Done 172 tasks      | elapsed:    0.2s\n",
      "[Parallel(n_jobs=14)]: Done 422 tasks      | elapsed:    0.5s\n",
      "[Parallel(n_jobs=14)]: Done 498 out of 498 | elapsed:    0.6s finished\n"
     ]
    },
    {
     "name": "stdout",
     "output_type": "stream",
     "text": [
      "Iteration: \t375 / 1000\n",
      "Confirmed: \t75\n",
      "Tentative: \t37\n",
      "Rejected: \t4888\n"
     ]
    },
    {
     "name": "stderr",
     "output_type": "stream",
     "text": [
      "[Parallel(n_jobs=14)]: Using backend ThreadingBackend with 14 concurrent workers.\n",
      "[Parallel(n_jobs=14)]: Done  22 tasks      | elapsed:    0.0s\n",
      "[Parallel(n_jobs=14)]: Done 172 tasks      | elapsed:    0.2s\n",
      "[Parallel(n_jobs=14)]: Done 422 tasks      | elapsed:    0.6s\n",
      "[Parallel(n_jobs=14)]: Done 498 out of 498 | elapsed:    0.6s finished\n"
     ]
    },
    {
     "name": "stdout",
     "output_type": "stream",
     "text": [
      "Iteration: \t376 / 1000\n",
      "Confirmed: \t75\n",
      "Tentative: \t36\n",
      "Rejected: \t4889\n"
     ]
    },
    {
     "name": "stderr",
     "output_type": "stream",
     "text": [
      "[Parallel(n_jobs=14)]: Using backend ThreadingBackend with 14 concurrent workers.\n",
      "[Parallel(n_jobs=14)]: Done  22 tasks      | elapsed:    0.0s\n",
      "[Parallel(n_jobs=14)]: Done 172 tasks      | elapsed:    0.2s\n",
      "[Parallel(n_jobs=14)]: Done 422 tasks      | elapsed:    0.5s\n",
      "[Parallel(n_jobs=14)]: Done 496 out of 496 | elapsed:    0.6s finished\n"
     ]
    },
    {
     "name": "stdout",
     "output_type": "stream",
     "text": [
      "Iteration: \t377 / 1000\n",
      "Confirmed: \t75\n",
      "Tentative: \t36\n",
      "Rejected: \t4889\n"
     ]
    },
    {
     "name": "stderr",
     "output_type": "stream",
     "text": [
      "[Parallel(n_jobs=14)]: Using backend ThreadingBackend with 14 concurrent workers.\n",
      "[Parallel(n_jobs=14)]: Done  22 tasks      | elapsed:    0.0s\n",
      "[Parallel(n_jobs=14)]: Done 172 tasks      | elapsed:    0.2s\n",
      "[Parallel(n_jobs=14)]: Done 422 tasks      | elapsed:    0.5s\n",
      "[Parallel(n_jobs=14)]: Done 496 out of 496 | elapsed:    0.6s finished\n"
     ]
    },
    {
     "name": "stdout",
     "output_type": "stream",
     "text": [
      "Iteration: \t378 / 1000\n",
      "Confirmed: \t75\n",
      "Tentative: \t36\n",
      "Rejected: \t4889\n"
     ]
    },
    {
     "name": "stderr",
     "output_type": "stream",
     "text": [
      "[Parallel(n_jobs=14)]: Using backend ThreadingBackend with 14 concurrent workers.\n",
      "[Parallel(n_jobs=14)]: Done  22 tasks      | elapsed:    0.0s\n",
      "[Parallel(n_jobs=14)]: Done 172 tasks      | elapsed:    0.2s\n",
      "[Parallel(n_jobs=14)]: Done 422 tasks      | elapsed:    0.5s\n",
      "[Parallel(n_jobs=14)]: Done 496 out of 496 | elapsed:    0.6s finished\n"
     ]
    },
    {
     "name": "stdout",
     "output_type": "stream",
     "text": [
      "Iteration: \t379 / 1000\n",
      "Confirmed: \t75\n",
      "Tentative: \t36\n",
      "Rejected: \t4889\n"
     ]
    },
    {
     "name": "stderr",
     "output_type": "stream",
     "text": [
      "[Parallel(n_jobs=14)]: Using backend ThreadingBackend with 14 concurrent workers.\n",
      "[Parallel(n_jobs=14)]: Done  22 tasks      | elapsed:    0.0s\n",
      "[Parallel(n_jobs=14)]: Done 172 tasks      | elapsed:    0.2s\n",
      "[Parallel(n_jobs=14)]: Done 422 tasks      | elapsed:    0.5s\n",
      "[Parallel(n_jobs=14)]: Done 496 out of 496 | elapsed:    0.6s finished\n"
     ]
    },
    {
     "name": "stdout",
     "output_type": "stream",
     "text": [
      "Iteration: \t380 / 1000\n",
      "Confirmed: \t75\n",
      "Tentative: \t36\n",
      "Rejected: \t4889\n"
     ]
    },
    {
     "name": "stderr",
     "output_type": "stream",
     "text": [
      "[Parallel(n_jobs=14)]: Using backend ThreadingBackend with 14 concurrent workers.\n",
      "[Parallel(n_jobs=14)]: Done  22 tasks      | elapsed:    0.0s\n",
      "[Parallel(n_jobs=14)]: Done 172 tasks      | elapsed:    0.2s\n",
      "[Parallel(n_jobs=14)]: Done 422 tasks      | elapsed:    0.5s\n",
      "[Parallel(n_jobs=14)]: Done 496 out of 496 | elapsed:    0.6s finished\n"
     ]
    },
    {
     "name": "stdout",
     "output_type": "stream",
     "text": [
      "Iteration: \t381 / 1000\n",
      "Confirmed: \t75\n",
      "Tentative: \t36\n",
      "Rejected: \t4889\n"
     ]
    },
    {
     "name": "stderr",
     "output_type": "stream",
     "text": [
      "[Parallel(n_jobs=14)]: Using backend ThreadingBackend with 14 concurrent workers.\n",
      "[Parallel(n_jobs=14)]: Done  22 tasks      | elapsed:    0.0s\n",
      "[Parallel(n_jobs=14)]: Done 172 tasks      | elapsed:    0.2s\n",
      "[Parallel(n_jobs=14)]: Done 422 tasks      | elapsed:    0.5s\n",
      "[Parallel(n_jobs=14)]: Done 496 out of 496 | elapsed:    0.6s finished\n"
     ]
    },
    {
     "name": "stdout",
     "output_type": "stream",
     "text": [
      "Iteration: \t382 / 1000\n",
      "Confirmed: \t75\n",
      "Tentative: \t36\n",
      "Rejected: \t4889\n"
     ]
    },
    {
     "name": "stderr",
     "output_type": "stream",
     "text": [
      "[Parallel(n_jobs=14)]: Using backend ThreadingBackend with 14 concurrent workers.\n",
      "[Parallel(n_jobs=14)]: Done  22 tasks      | elapsed:    0.0s\n",
      "[Parallel(n_jobs=14)]: Done 172 tasks      | elapsed:    0.2s\n",
      "[Parallel(n_jobs=14)]: Done 422 tasks      | elapsed:    0.5s\n",
      "[Parallel(n_jobs=14)]: Done 496 out of 496 | elapsed:    0.6s finished\n"
     ]
    },
    {
     "name": "stdout",
     "output_type": "stream",
     "text": [
      "Iteration: \t383 / 1000\n",
      "Confirmed: \t75\n",
      "Tentative: \t36\n",
      "Rejected: \t4889\n"
     ]
    },
    {
     "name": "stderr",
     "output_type": "stream",
     "text": [
      "[Parallel(n_jobs=14)]: Using backend ThreadingBackend with 14 concurrent workers.\n",
      "[Parallel(n_jobs=14)]: Done  22 tasks      | elapsed:    0.0s\n",
      "[Parallel(n_jobs=14)]: Done 172 tasks      | elapsed:    0.2s\n",
      "[Parallel(n_jobs=14)]: Done 422 tasks      | elapsed:    0.5s\n",
      "[Parallel(n_jobs=14)]: Done 496 out of 496 | elapsed:    0.6s finished\n"
     ]
    },
    {
     "name": "stdout",
     "output_type": "stream",
     "text": [
      "Iteration: \t384 / 1000\n",
      "Confirmed: \t75\n",
      "Tentative: \t36\n",
      "Rejected: \t4889\n"
     ]
    },
    {
     "name": "stderr",
     "output_type": "stream",
     "text": [
      "[Parallel(n_jobs=14)]: Using backend ThreadingBackend with 14 concurrent workers.\n",
      "[Parallel(n_jobs=14)]: Done  22 tasks      | elapsed:    0.0s\n",
      "[Parallel(n_jobs=14)]: Done 172 tasks      | elapsed:    0.2s\n",
      "[Parallel(n_jobs=14)]: Done 422 tasks      | elapsed:    0.5s\n",
      "[Parallel(n_jobs=14)]: Done 496 out of 496 | elapsed:    0.6s finished\n"
     ]
    },
    {
     "name": "stdout",
     "output_type": "stream",
     "text": [
      "Iteration: \t385 / 1000\n",
      "Confirmed: \t75\n",
      "Tentative: \t36\n",
      "Rejected: \t4889\n"
     ]
    },
    {
     "name": "stderr",
     "output_type": "stream",
     "text": [
      "[Parallel(n_jobs=14)]: Using backend ThreadingBackend with 14 concurrent workers.\n",
      "[Parallel(n_jobs=14)]: Done  22 tasks      | elapsed:    0.0s\n",
      "[Parallel(n_jobs=14)]: Done 172 tasks      | elapsed:    0.2s\n",
      "[Parallel(n_jobs=14)]: Done 422 tasks      | elapsed:    0.5s\n",
      "[Parallel(n_jobs=14)]: Done 496 out of 496 | elapsed:    0.6s finished\n"
     ]
    },
    {
     "name": "stdout",
     "output_type": "stream",
     "text": [
      "Iteration: \t386 / 1000\n",
      "Confirmed: \t75\n",
      "Tentative: \t36\n",
      "Rejected: \t4889\n"
     ]
    },
    {
     "name": "stderr",
     "output_type": "stream",
     "text": [
      "[Parallel(n_jobs=14)]: Using backend ThreadingBackend with 14 concurrent workers.\n",
      "[Parallel(n_jobs=14)]: Done  22 tasks      | elapsed:    0.0s\n",
      "[Parallel(n_jobs=14)]: Done 172 tasks      | elapsed:    0.2s\n",
      "[Parallel(n_jobs=14)]: Done 422 tasks      | elapsed:    0.6s\n",
      "[Parallel(n_jobs=14)]: Done 496 out of 496 | elapsed:    0.6s finished\n"
     ]
    },
    {
     "name": "stdout",
     "output_type": "stream",
     "text": [
      "Iteration: \t387 / 1000\n",
      "Confirmed: \t76\n",
      "Tentative: \t35\n",
      "Rejected: \t4889\n"
     ]
    },
    {
     "name": "stderr",
     "output_type": "stream",
     "text": [
      "[Parallel(n_jobs=14)]: Using backend ThreadingBackend with 14 concurrent workers.\n",
      "[Parallel(n_jobs=14)]: Done  22 tasks      | elapsed:    0.0s\n",
      "[Parallel(n_jobs=14)]: Done 172 tasks      | elapsed:    0.2s\n",
      "[Parallel(n_jobs=14)]: Done 422 tasks      | elapsed:    0.5s\n",
      "[Parallel(n_jobs=14)]: Done 496 out of 496 | elapsed:    0.6s finished\n"
     ]
    },
    {
     "name": "stdout",
     "output_type": "stream",
     "text": [
      "Iteration: \t388 / 1000\n",
      "Confirmed: \t76\n",
      "Tentative: \t35\n",
      "Rejected: \t4889\n"
     ]
    },
    {
     "name": "stderr",
     "output_type": "stream",
     "text": [
      "[Parallel(n_jobs=14)]: Using backend ThreadingBackend with 14 concurrent workers.\n",
      "[Parallel(n_jobs=14)]: Done  22 tasks      | elapsed:    0.0s\n",
      "[Parallel(n_jobs=14)]: Done 172 tasks      | elapsed:    0.2s\n",
      "[Parallel(n_jobs=14)]: Done 422 tasks      | elapsed:    0.6s\n",
      "[Parallel(n_jobs=14)]: Done 496 out of 496 | elapsed:    0.6s finished\n"
     ]
    },
    {
     "name": "stdout",
     "output_type": "stream",
     "text": [
      "Iteration: \t389 / 1000\n",
      "Confirmed: \t77\n",
      "Tentative: \t34\n",
      "Rejected: \t4889\n"
     ]
    },
    {
     "name": "stderr",
     "output_type": "stream",
     "text": [
      "[Parallel(n_jobs=14)]: Using backend ThreadingBackend with 14 concurrent workers.\n",
      "[Parallel(n_jobs=14)]: Done  22 tasks      | elapsed:    0.0s\n",
      "[Parallel(n_jobs=14)]: Done 172 tasks      | elapsed:    0.2s\n",
      "[Parallel(n_jobs=14)]: Done 422 tasks      | elapsed:    0.5s\n",
      "[Parallel(n_jobs=14)]: Done 496 out of 496 | elapsed:    0.6s finished\n"
     ]
    },
    {
     "name": "stdout",
     "output_type": "stream",
     "text": [
      "Iteration: \t390 / 1000\n",
      "Confirmed: \t77\n",
      "Tentative: \t34\n",
      "Rejected: \t4889\n"
     ]
    },
    {
     "name": "stderr",
     "output_type": "stream",
     "text": [
      "[Parallel(n_jobs=14)]: Using backend ThreadingBackend with 14 concurrent workers.\n",
      "[Parallel(n_jobs=14)]: Done  22 tasks      | elapsed:    0.0s\n",
      "[Parallel(n_jobs=14)]: Done 172 tasks      | elapsed:    0.2s\n",
      "[Parallel(n_jobs=14)]: Done 422 tasks      | elapsed:    0.5s\n",
      "[Parallel(n_jobs=14)]: Done 496 out of 496 | elapsed:    0.6s finished\n"
     ]
    },
    {
     "name": "stdout",
     "output_type": "stream",
     "text": [
      "Iteration: \t391 / 1000\n",
      "Confirmed: \t77\n",
      "Tentative: \t34\n",
      "Rejected: \t4889\n"
     ]
    },
    {
     "name": "stderr",
     "output_type": "stream",
     "text": [
      "[Parallel(n_jobs=14)]: Using backend ThreadingBackend with 14 concurrent workers.\n",
      "[Parallel(n_jobs=14)]: Done  22 tasks      | elapsed:    0.0s\n",
      "[Parallel(n_jobs=14)]: Done 172 tasks      | elapsed:    0.2s\n",
      "[Parallel(n_jobs=14)]: Done 422 tasks      | elapsed:    0.5s\n",
      "[Parallel(n_jobs=14)]: Done 496 out of 496 | elapsed:    0.6s finished\n"
     ]
    },
    {
     "name": "stdout",
     "output_type": "stream",
     "text": [
      "Iteration: \t392 / 1000\n",
      "Confirmed: \t77\n",
      "Tentative: \t34\n",
      "Rejected: \t4889\n"
     ]
    },
    {
     "name": "stderr",
     "output_type": "stream",
     "text": [
      "[Parallel(n_jobs=14)]: Using backend ThreadingBackend with 14 concurrent workers.\n",
      "[Parallel(n_jobs=14)]: Done  22 tasks      | elapsed:    0.0s\n",
      "[Parallel(n_jobs=14)]: Done 172 tasks      | elapsed:    0.2s\n",
      "[Parallel(n_jobs=14)]: Done 422 tasks      | elapsed:    0.5s\n",
      "[Parallel(n_jobs=14)]: Done 496 out of 496 | elapsed:    0.6s finished\n"
     ]
    },
    {
     "name": "stdout",
     "output_type": "stream",
     "text": [
      "Iteration: \t393 / 1000\n",
      "Confirmed: \t77\n",
      "Tentative: \t34\n",
      "Rejected: \t4889\n"
     ]
    },
    {
     "name": "stderr",
     "output_type": "stream",
     "text": [
      "[Parallel(n_jobs=14)]: Using backend ThreadingBackend with 14 concurrent workers.\n",
      "[Parallel(n_jobs=14)]: Done  22 tasks      | elapsed:    0.0s\n",
      "[Parallel(n_jobs=14)]: Done 172 tasks      | elapsed:    0.2s\n",
      "[Parallel(n_jobs=14)]: Done 422 tasks      | elapsed:    0.6s\n",
      "[Parallel(n_jobs=14)]: Done 496 out of 496 | elapsed:    0.6s finished\n"
     ]
    },
    {
     "name": "stdout",
     "output_type": "stream",
     "text": [
      "Iteration: \t394 / 1000\n",
      "Confirmed: \t77\n",
      "Tentative: \t34\n",
      "Rejected: \t4889\n"
     ]
    },
    {
     "name": "stderr",
     "output_type": "stream",
     "text": [
      "[Parallel(n_jobs=14)]: Using backend ThreadingBackend with 14 concurrent workers.\n",
      "[Parallel(n_jobs=14)]: Done  22 tasks      | elapsed:    0.0s\n",
      "[Parallel(n_jobs=14)]: Done 172 tasks      | elapsed:    0.2s\n",
      "[Parallel(n_jobs=14)]: Done 422 tasks      | elapsed:    0.5s\n",
      "[Parallel(n_jobs=14)]: Done 496 out of 496 | elapsed:    0.6s finished\n"
     ]
    },
    {
     "name": "stdout",
     "output_type": "stream",
     "text": [
      "Iteration: \t395 / 1000\n",
      "Confirmed: \t77\n",
      "Tentative: \t34\n",
      "Rejected: \t4889\n"
     ]
    },
    {
     "name": "stderr",
     "output_type": "stream",
     "text": [
      "[Parallel(n_jobs=14)]: Using backend ThreadingBackend with 14 concurrent workers.\n",
      "[Parallel(n_jobs=14)]: Done  22 tasks      | elapsed:    0.0s\n",
      "[Parallel(n_jobs=14)]: Done 172 tasks      | elapsed:    0.2s\n",
      "[Parallel(n_jobs=14)]: Done 422 tasks      | elapsed:    0.5s\n",
      "[Parallel(n_jobs=14)]: Done 496 out of 496 | elapsed:    0.6s finished\n"
     ]
    },
    {
     "name": "stdout",
     "output_type": "stream",
     "text": [
      "Iteration: \t396 / 1000\n",
      "Confirmed: \t78\n",
      "Tentative: \t33\n",
      "Rejected: \t4889\n"
     ]
    },
    {
     "name": "stderr",
     "output_type": "stream",
     "text": [
      "[Parallel(n_jobs=14)]: Using backend ThreadingBackend with 14 concurrent workers.\n",
      "[Parallel(n_jobs=14)]: Done  22 tasks      | elapsed:    0.0s\n",
      "[Parallel(n_jobs=14)]: Done 172 tasks      | elapsed:    0.2s\n",
      "[Parallel(n_jobs=14)]: Done 422 tasks      | elapsed:    0.5s\n",
      "[Parallel(n_jobs=14)]: Done 496 out of 496 | elapsed:    0.6s finished\n"
     ]
    },
    {
     "name": "stdout",
     "output_type": "stream",
     "text": [
      "Iteration: \t397 / 1000\n",
      "Confirmed: \t78\n",
      "Tentative: \t33\n",
      "Rejected: \t4889\n"
     ]
    },
    {
     "name": "stderr",
     "output_type": "stream",
     "text": [
      "[Parallel(n_jobs=14)]: Using backend ThreadingBackend with 14 concurrent workers.\n",
      "[Parallel(n_jobs=14)]: Done  22 tasks      | elapsed:    0.0s\n",
      "[Parallel(n_jobs=14)]: Done 172 tasks      | elapsed:    0.2s\n",
      "[Parallel(n_jobs=14)]: Done 422 tasks      | elapsed:    0.6s\n",
      "[Parallel(n_jobs=14)]: Done 496 out of 496 | elapsed:    0.6s finished\n"
     ]
    },
    {
     "name": "stdout",
     "output_type": "stream",
     "text": [
      "Iteration: \t398 / 1000\n",
      "Confirmed: \t78\n",
      "Tentative: \t33\n",
      "Rejected: \t4889\n"
     ]
    },
    {
     "name": "stderr",
     "output_type": "stream",
     "text": [
      "[Parallel(n_jobs=14)]: Using backend ThreadingBackend with 14 concurrent workers.\n",
      "[Parallel(n_jobs=14)]: Done  22 tasks      | elapsed:    0.0s\n",
      "[Parallel(n_jobs=14)]: Done 172 tasks      | elapsed:    0.2s\n",
      "[Parallel(n_jobs=14)]: Done 422 tasks      | elapsed:    0.6s\n",
      "[Parallel(n_jobs=14)]: Done 496 out of 496 | elapsed:    0.6s finished\n"
     ]
    },
    {
     "name": "stdout",
     "output_type": "stream",
     "text": [
      "Iteration: \t399 / 1000\n",
      "Confirmed: \t78\n",
      "Tentative: \t33\n",
      "Rejected: \t4889\n"
     ]
    },
    {
     "name": "stderr",
     "output_type": "stream",
     "text": [
      "[Parallel(n_jobs=14)]: Using backend ThreadingBackend with 14 concurrent workers.\n",
      "[Parallel(n_jobs=14)]: Done  22 tasks      | elapsed:    0.0s\n",
      "[Parallel(n_jobs=14)]: Done 172 tasks      | elapsed:    0.2s\n",
      "[Parallel(n_jobs=14)]: Done 422 tasks      | elapsed:    0.5s\n",
      "[Parallel(n_jobs=14)]: Done 496 out of 496 | elapsed:    0.6s finished\n"
     ]
    },
    {
     "name": "stdout",
     "output_type": "stream",
     "text": [
      "Iteration: \t400 / 1000\n",
      "Confirmed: \t78\n",
      "Tentative: \t33\n",
      "Rejected: \t4889\n"
     ]
    },
    {
     "name": "stderr",
     "output_type": "stream",
     "text": [
      "[Parallel(n_jobs=14)]: Using backend ThreadingBackend with 14 concurrent workers.\n",
      "[Parallel(n_jobs=14)]: Done  22 tasks      | elapsed:    0.0s\n",
      "[Parallel(n_jobs=14)]: Done 172 tasks      | elapsed:    0.2s\n",
      "[Parallel(n_jobs=14)]: Done 422 tasks      | elapsed:    0.6s\n",
      "[Parallel(n_jobs=14)]: Done 496 out of 496 | elapsed:    0.6s finished\n"
     ]
    },
    {
     "name": "stdout",
     "output_type": "stream",
     "text": [
      "Iteration: \t401 / 1000\n",
      "Confirmed: \t78\n",
      "Tentative: \t33\n",
      "Rejected: \t4889\n"
     ]
    },
    {
     "name": "stderr",
     "output_type": "stream",
     "text": [
      "[Parallel(n_jobs=14)]: Using backend ThreadingBackend with 14 concurrent workers.\n",
      "[Parallel(n_jobs=14)]: Done  22 tasks      | elapsed:    0.0s\n",
      "[Parallel(n_jobs=14)]: Done 172 tasks      | elapsed:    0.2s\n",
      "[Parallel(n_jobs=14)]: Done 422 tasks      | elapsed:    0.6s\n",
      "[Parallel(n_jobs=14)]: Done 496 out of 496 | elapsed:    0.6s finished\n"
     ]
    },
    {
     "name": "stdout",
     "output_type": "stream",
     "text": [
      "Iteration: \t402 / 1000\n",
      "Confirmed: \t78\n",
      "Tentative: \t33\n",
      "Rejected: \t4889\n"
     ]
    },
    {
     "name": "stderr",
     "output_type": "stream",
     "text": [
      "[Parallel(n_jobs=14)]: Using backend ThreadingBackend with 14 concurrent workers.\n",
      "[Parallel(n_jobs=14)]: Done  22 tasks      | elapsed:    0.0s\n",
      "[Parallel(n_jobs=14)]: Done 172 tasks      | elapsed:    0.2s\n",
      "[Parallel(n_jobs=14)]: Done 422 tasks      | elapsed:    0.5s\n",
      "[Parallel(n_jobs=14)]: Done 496 out of 496 | elapsed:    0.6s finished\n"
     ]
    },
    {
     "name": "stdout",
     "output_type": "stream",
     "text": [
      "Iteration: \t403 / 1000\n",
      "Confirmed: \t78\n",
      "Tentative: \t32\n",
      "Rejected: \t4890\n"
     ]
    },
    {
     "name": "stderr",
     "output_type": "stream",
     "text": [
      "[Parallel(n_jobs=14)]: Using backend ThreadingBackend with 14 concurrent workers.\n",
      "[Parallel(n_jobs=14)]: Done  22 tasks      | elapsed:    0.0s\n",
      "[Parallel(n_jobs=14)]: Done 172 tasks      | elapsed:    0.2s\n",
      "[Parallel(n_jobs=14)]: Done 422 tasks      | elapsed:    0.6s\n",
      "[Parallel(n_jobs=14)]: Done 494 out of 494 | elapsed:    0.6s finished\n"
     ]
    },
    {
     "name": "stdout",
     "output_type": "stream",
     "text": [
      "Iteration: \t404 / 1000\n",
      "Confirmed: \t78\n",
      "Tentative: \t32\n",
      "Rejected: \t4890\n"
     ]
    },
    {
     "name": "stderr",
     "output_type": "stream",
     "text": [
      "[Parallel(n_jobs=14)]: Using backend ThreadingBackend with 14 concurrent workers.\n",
      "[Parallel(n_jobs=14)]: Done  22 tasks      | elapsed:    0.0s\n",
      "[Parallel(n_jobs=14)]: Done 172 tasks      | elapsed:    0.2s\n",
      "[Parallel(n_jobs=14)]: Done 422 tasks      | elapsed:    0.6s\n",
      "[Parallel(n_jobs=14)]: Done 494 out of 494 | elapsed:    0.6s finished\n"
     ]
    },
    {
     "name": "stdout",
     "output_type": "stream",
     "text": [
      "Iteration: \t405 / 1000\n",
      "Confirmed: \t78\n",
      "Tentative: \t32\n",
      "Rejected: \t4890\n"
     ]
    },
    {
     "name": "stderr",
     "output_type": "stream",
     "text": [
      "[Parallel(n_jobs=14)]: Using backend ThreadingBackend with 14 concurrent workers.\n",
      "[Parallel(n_jobs=14)]: Done  22 tasks      | elapsed:    0.0s\n",
      "[Parallel(n_jobs=14)]: Done 172 tasks      | elapsed:    0.2s\n",
      "[Parallel(n_jobs=14)]: Done 422 tasks      | elapsed:    0.5s\n",
      "[Parallel(n_jobs=14)]: Done 494 out of 494 | elapsed:    0.6s finished\n"
     ]
    },
    {
     "name": "stdout",
     "output_type": "stream",
     "text": [
      "Iteration: \t406 / 1000\n",
      "Confirmed: \t78\n",
      "Tentative: \t32\n",
      "Rejected: \t4890\n"
     ]
    },
    {
     "name": "stderr",
     "output_type": "stream",
     "text": [
      "[Parallel(n_jobs=14)]: Using backend ThreadingBackend with 14 concurrent workers.\n",
      "[Parallel(n_jobs=14)]: Done  22 tasks      | elapsed:    0.0s\n",
      "[Parallel(n_jobs=14)]: Done 172 tasks      | elapsed:    0.2s\n",
      "[Parallel(n_jobs=14)]: Done 422 tasks      | elapsed:    0.5s\n",
      "[Parallel(n_jobs=14)]: Done 494 out of 494 | elapsed:    0.6s finished\n"
     ]
    },
    {
     "name": "stdout",
     "output_type": "stream",
     "text": [
      "Iteration: \t407 / 1000\n",
      "Confirmed: \t79\n",
      "Tentative: \t31\n",
      "Rejected: \t4890\n"
     ]
    },
    {
     "name": "stderr",
     "output_type": "stream",
     "text": [
      "[Parallel(n_jobs=14)]: Using backend ThreadingBackend with 14 concurrent workers.\n",
      "[Parallel(n_jobs=14)]: Done  22 tasks      | elapsed:    0.0s\n",
      "[Parallel(n_jobs=14)]: Done 172 tasks      | elapsed:    0.2s\n",
      "[Parallel(n_jobs=14)]: Done 422 tasks      | elapsed:    0.6s\n",
      "[Parallel(n_jobs=14)]: Done 494 out of 494 | elapsed:    0.6s finished\n"
     ]
    },
    {
     "name": "stdout",
     "output_type": "stream",
     "text": [
      "Iteration: \t408 / 1000\n",
      "Confirmed: \t79\n",
      "Tentative: \t31\n",
      "Rejected: \t4890\n"
     ]
    },
    {
     "name": "stderr",
     "output_type": "stream",
     "text": [
      "[Parallel(n_jobs=14)]: Using backend ThreadingBackend with 14 concurrent workers.\n",
      "[Parallel(n_jobs=14)]: Done  22 tasks      | elapsed:    0.0s\n",
      "[Parallel(n_jobs=14)]: Done 172 tasks      | elapsed:    0.2s\n",
      "[Parallel(n_jobs=14)]: Done 422 tasks      | elapsed:    0.5s\n",
      "[Parallel(n_jobs=14)]: Done 494 out of 494 | elapsed:    0.6s finished\n"
     ]
    },
    {
     "name": "stdout",
     "output_type": "stream",
     "text": [
      "Iteration: \t409 / 1000\n",
      "Confirmed: \t79\n",
      "Tentative: \t31\n",
      "Rejected: \t4890\n"
     ]
    },
    {
     "name": "stderr",
     "output_type": "stream",
     "text": [
      "[Parallel(n_jobs=14)]: Using backend ThreadingBackend with 14 concurrent workers.\n",
      "[Parallel(n_jobs=14)]: Done  22 tasks      | elapsed:    0.0s\n",
      "[Parallel(n_jobs=14)]: Done 172 tasks      | elapsed:    0.2s\n",
      "[Parallel(n_jobs=14)]: Done 422 tasks      | elapsed:    0.5s\n",
      "[Parallel(n_jobs=14)]: Done 494 out of 494 | elapsed:    0.6s finished\n"
     ]
    },
    {
     "name": "stdout",
     "output_type": "stream",
     "text": [
      "Iteration: \t410 / 1000\n",
      "Confirmed: \t79\n",
      "Tentative: \t31\n",
      "Rejected: \t4890\n"
     ]
    },
    {
     "name": "stderr",
     "output_type": "stream",
     "text": [
      "[Parallel(n_jobs=14)]: Using backend ThreadingBackend with 14 concurrent workers.\n",
      "[Parallel(n_jobs=14)]: Done  22 tasks      | elapsed:    0.0s\n",
      "[Parallel(n_jobs=14)]: Done 172 tasks      | elapsed:    0.2s\n",
      "[Parallel(n_jobs=14)]: Done 422 tasks      | elapsed:    0.5s\n",
      "[Parallel(n_jobs=14)]: Done 494 out of 494 | elapsed:    0.6s finished\n"
     ]
    },
    {
     "name": "stdout",
     "output_type": "stream",
     "text": [
      "Iteration: \t411 / 1000\n",
      "Confirmed: \t79\n",
      "Tentative: \t31\n",
      "Rejected: \t4890\n"
     ]
    },
    {
     "name": "stderr",
     "output_type": "stream",
     "text": [
      "[Parallel(n_jobs=14)]: Using backend ThreadingBackend with 14 concurrent workers.\n",
      "[Parallel(n_jobs=14)]: Done  22 tasks      | elapsed:    0.0s\n",
      "[Parallel(n_jobs=14)]: Done 172 tasks      | elapsed:    0.2s\n",
      "[Parallel(n_jobs=14)]: Done 422 tasks      | elapsed:    0.6s\n",
      "[Parallel(n_jobs=14)]: Done 494 out of 494 | elapsed:    0.6s finished\n"
     ]
    },
    {
     "name": "stdout",
     "output_type": "stream",
     "text": [
      "Iteration: \t412 / 1000\n",
      "Confirmed: \t79\n",
      "Tentative: \t31\n",
      "Rejected: \t4890\n"
     ]
    },
    {
     "name": "stderr",
     "output_type": "stream",
     "text": [
      "[Parallel(n_jobs=14)]: Using backend ThreadingBackend with 14 concurrent workers.\n",
      "[Parallel(n_jobs=14)]: Done  22 tasks      | elapsed:    0.0s\n",
      "[Parallel(n_jobs=14)]: Done 172 tasks      | elapsed:    0.2s\n",
      "[Parallel(n_jobs=14)]: Done 422 tasks      | elapsed:    0.5s\n",
      "[Parallel(n_jobs=14)]: Done 494 out of 494 | elapsed:    0.6s finished\n"
     ]
    },
    {
     "name": "stdout",
     "output_type": "stream",
     "text": [
      "Iteration: \t413 / 1000\n",
      "Confirmed: \t79\n",
      "Tentative: \t31\n",
      "Rejected: \t4890\n"
     ]
    },
    {
     "name": "stderr",
     "output_type": "stream",
     "text": [
      "[Parallel(n_jobs=14)]: Using backend ThreadingBackend with 14 concurrent workers.\n",
      "[Parallel(n_jobs=14)]: Done  22 tasks      | elapsed:    0.0s\n",
      "[Parallel(n_jobs=14)]: Done 172 tasks      | elapsed:    0.2s\n",
      "[Parallel(n_jobs=14)]: Done 422 tasks      | elapsed:    0.5s\n",
      "[Parallel(n_jobs=14)]: Done 494 out of 494 | elapsed:    0.6s finished\n"
     ]
    },
    {
     "name": "stdout",
     "output_type": "stream",
     "text": [
      "Iteration: \t414 / 1000\n",
      "Confirmed: \t79\n",
      "Tentative: \t31\n",
      "Rejected: \t4890\n"
     ]
    },
    {
     "name": "stderr",
     "output_type": "stream",
     "text": [
      "[Parallel(n_jobs=14)]: Using backend ThreadingBackend with 14 concurrent workers.\n",
      "[Parallel(n_jobs=14)]: Done  22 tasks      | elapsed:    0.0s\n",
      "[Parallel(n_jobs=14)]: Done 172 tasks      | elapsed:    0.2s\n",
      "[Parallel(n_jobs=14)]: Done 422 tasks      | elapsed:    0.5s\n",
      "[Parallel(n_jobs=14)]: Done 494 out of 494 | elapsed:    0.6s finished\n"
     ]
    },
    {
     "name": "stdout",
     "output_type": "stream",
     "text": [
      "Iteration: \t415 / 1000\n",
      "Confirmed: \t79\n",
      "Tentative: \t31\n",
      "Rejected: \t4890\n"
     ]
    },
    {
     "name": "stderr",
     "output_type": "stream",
     "text": [
      "[Parallel(n_jobs=14)]: Using backend ThreadingBackend with 14 concurrent workers.\n",
      "[Parallel(n_jobs=14)]: Done  22 tasks      | elapsed:    0.0s\n",
      "[Parallel(n_jobs=14)]: Done 172 tasks      | elapsed:    0.2s\n",
      "[Parallel(n_jobs=14)]: Done 422 tasks      | elapsed:    0.5s\n",
      "[Parallel(n_jobs=14)]: Done 494 out of 494 | elapsed:    0.6s finished\n"
     ]
    },
    {
     "name": "stdout",
     "output_type": "stream",
     "text": [
      "Iteration: \t416 / 1000\n",
      "Confirmed: \t79\n",
      "Tentative: \t31\n",
      "Rejected: \t4890\n"
     ]
    },
    {
     "name": "stderr",
     "output_type": "stream",
     "text": [
      "[Parallel(n_jobs=14)]: Using backend ThreadingBackend with 14 concurrent workers.\n",
      "[Parallel(n_jobs=14)]: Done  22 tasks      | elapsed:    0.0s\n",
      "[Parallel(n_jobs=14)]: Done 172 tasks      | elapsed:    0.2s\n",
      "[Parallel(n_jobs=14)]: Done 422 tasks      | elapsed:    0.5s\n",
      "[Parallel(n_jobs=14)]: Done 494 out of 494 | elapsed:    0.6s finished\n"
     ]
    },
    {
     "name": "stdout",
     "output_type": "stream",
     "text": [
      "Iteration: \t417 / 1000\n",
      "Confirmed: \t79\n",
      "Tentative: \t31\n",
      "Rejected: \t4890\n"
     ]
    },
    {
     "name": "stderr",
     "output_type": "stream",
     "text": [
      "[Parallel(n_jobs=14)]: Using backend ThreadingBackend with 14 concurrent workers.\n",
      "[Parallel(n_jobs=14)]: Done  22 tasks      | elapsed:    0.0s\n",
      "[Parallel(n_jobs=14)]: Done 172 tasks      | elapsed:    0.2s\n",
      "[Parallel(n_jobs=14)]: Done 422 tasks      | elapsed:    0.6s\n",
      "[Parallel(n_jobs=14)]: Done 494 out of 494 | elapsed:    0.6s finished\n"
     ]
    },
    {
     "name": "stdout",
     "output_type": "stream",
     "text": [
      "Iteration: \t418 / 1000\n",
      "Confirmed: \t79\n",
      "Tentative: \t31\n",
      "Rejected: \t4890\n"
     ]
    },
    {
     "name": "stderr",
     "output_type": "stream",
     "text": [
      "[Parallel(n_jobs=14)]: Using backend ThreadingBackend with 14 concurrent workers.\n",
      "[Parallel(n_jobs=14)]: Done  22 tasks      | elapsed:    0.0s\n",
      "[Parallel(n_jobs=14)]: Done 172 tasks      | elapsed:    0.2s\n",
      "[Parallel(n_jobs=14)]: Done 422 tasks      | elapsed:    0.5s\n",
      "[Parallel(n_jobs=14)]: Done 494 out of 494 | elapsed:    0.6s finished\n"
     ]
    },
    {
     "name": "stdout",
     "output_type": "stream",
     "text": [
      "Iteration: \t419 / 1000\n",
      "Confirmed: \t79\n",
      "Tentative: \t31\n",
      "Rejected: \t4890\n"
     ]
    },
    {
     "name": "stderr",
     "output_type": "stream",
     "text": [
      "[Parallel(n_jobs=14)]: Using backend ThreadingBackend with 14 concurrent workers.\n",
      "[Parallel(n_jobs=14)]: Done  22 tasks      | elapsed:    0.0s\n",
      "[Parallel(n_jobs=14)]: Done 172 tasks      | elapsed:    0.2s\n",
      "[Parallel(n_jobs=14)]: Done 422 tasks      | elapsed:    0.5s\n",
      "[Parallel(n_jobs=14)]: Done 494 out of 494 | elapsed:    0.6s finished\n"
     ]
    },
    {
     "name": "stdout",
     "output_type": "stream",
     "text": [
      "Iteration: \t420 / 1000\n",
      "Confirmed: \t79\n",
      "Tentative: \t31\n",
      "Rejected: \t4890\n"
     ]
    },
    {
     "name": "stderr",
     "output_type": "stream",
     "text": [
      "[Parallel(n_jobs=14)]: Using backend ThreadingBackend with 14 concurrent workers.\n",
      "[Parallel(n_jobs=14)]: Done  22 tasks      | elapsed:    0.0s\n",
      "[Parallel(n_jobs=14)]: Done 172 tasks      | elapsed:    0.2s\n",
      "[Parallel(n_jobs=14)]: Done 422 tasks      | elapsed:    0.5s\n",
      "[Parallel(n_jobs=14)]: Done 494 out of 494 | elapsed:    0.6s finished\n"
     ]
    },
    {
     "name": "stdout",
     "output_type": "stream",
     "text": [
      "Iteration: \t421 / 1000\n",
      "Confirmed: \t79\n",
      "Tentative: \t31\n",
      "Rejected: \t4890\n"
     ]
    },
    {
     "name": "stderr",
     "output_type": "stream",
     "text": [
      "[Parallel(n_jobs=14)]: Using backend ThreadingBackend with 14 concurrent workers.\n",
      "[Parallel(n_jobs=14)]: Done  22 tasks      | elapsed:    0.0s\n",
      "[Parallel(n_jobs=14)]: Done 172 tasks      | elapsed:    0.2s\n",
      "[Parallel(n_jobs=14)]: Done 422 tasks      | elapsed:    0.5s\n",
      "[Parallel(n_jobs=14)]: Done 494 out of 494 | elapsed:    0.6s finished\n"
     ]
    },
    {
     "name": "stdout",
     "output_type": "stream",
     "text": [
      "Iteration: \t422 / 1000\n",
      "Confirmed: \t79\n",
      "Tentative: \t31\n",
      "Rejected: \t4890\n"
     ]
    },
    {
     "name": "stderr",
     "output_type": "stream",
     "text": [
      "[Parallel(n_jobs=14)]: Using backend ThreadingBackend with 14 concurrent workers.\n",
      "[Parallel(n_jobs=14)]: Done  22 tasks      | elapsed:    0.0s\n",
      "[Parallel(n_jobs=14)]: Done 172 tasks      | elapsed:    0.2s\n",
      "[Parallel(n_jobs=14)]: Done 422 tasks      | elapsed:    0.5s\n",
      "[Parallel(n_jobs=14)]: Done 494 out of 494 | elapsed:    0.6s finished\n"
     ]
    },
    {
     "name": "stdout",
     "output_type": "stream",
     "text": [
      "Iteration: \t423 / 1000\n",
      "Confirmed: \t79\n",
      "Tentative: \t31\n",
      "Rejected: \t4890\n"
     ]
    },
    {
     "name": "stderr",
     "output_type": "stream",
     "text": [
      "[Parallel(n_jobs=14)]: Using backend ThreadingBackend with 14 concurrent workers.\n",
      "[Parallel(n_jobs=14)]: Done  22 tasks      | elapsed:    0.0s\n",
      "[Parallel(n_jobs=14)]: Done 172 tasks      | elapsed:    0.2s\n",
      "[Parallel(n_jobs=14)]: Done 422 tasks      | elapsed:    0.5s\n",
      "[Parallel(n_jobs=14)]: Done 494 out of 494 | elapsed:    0.6s finished\n"
     ]
    },
    {
     "name": "stdout",
     "output_type": "stream",
     "text": [
      "Iteration: \t424 / 1000\n",
      "Confirmed: \t79\n",
      "Tentative: \t31\n",
      "Rejected: \t4890\n"
     ]
    },
    {
     "name": "stderr",
     "output_type": "stream",
     "text": [
      "[Parallel(n_jobs=14)]: Using backend ThreadingBackend with 14 concurrent workers.\n",
      "[Parallel(n_jobs=14)]: Done  22 tasks      | elapsed:    0.0s\n",
      "[Parallel(n_jobs=14)]: Done 172 tasks      | elapsed:    0.2s\n",
      "[Parallel(n_jobs=14)]: Done 422 tasks      | elapsed:    0.6s\n",
      "[Parallel(n_jobs=14)]: Done 494 out of 494 | elapsed:    0.6s finished\n"
     ]
    },
    {
     "name": "stdout",
     "output_type": "stream",
     "text": [
      "Iteration: \t425 / 1000\n",
      "Confirmed: \t79\n",
      "Tentative: \t31\n",
      "Rejected: \t4890\n"
     ]
    },
    {
     "name": "stderr",
     "output_type": "stream",
     "text": [
      "[Parallel(n_jobs=14)]: Using backend ThreadingBackend with 14 concurrent workers.\n",
      "[Parallel(n_jobs=14)]: Done  22 tasks      | elapsed:    0.0s\n",
      "[Parallel(n_jobs=14)]: Done 172 tasks      | elapsed:    0.2s\n",
      "[Parallel(n_jobs=14)]: Done 422 tasks      | elapsed:    0.5s\n",
      "[Parallel(n_jobs=14)]: Done 494 out of 494 | elapsed:    0.6s finished\n"
     ]
    },
    {
     "name": "stdout",
     "output_type": "stream",
     "text": [
      "Iteration: \t426 / 1000\n",
      "Confirmed: \t79\n",
      "Tentative: \t31\n",
      "Rejected: \t4890\n"
     ]
    },
    {
     "name": "stderr",
     "output_type": "stream",
     "text": [
      "[Parallel(n_jobs=14)]: Using backend ThreadingBackend with 14 concurrent workers.\n",
      "[Parallel(n_jobs=14)]: Done  22 tasks      | elapsed:    0.0s\n",
      "[Parallel(n_jobs=14)]: Done 172 tasks      | elapsed:    0.2s\n",
      "[Parallel(n_jobs=14)]: Done 422 tasks      | elapsed:    0.5s\n",
      "[Parallel(n_jobs=14)]: Done 494 out of 494 | elapsed:    0.6s finished\n"
     ]
    },
    {
     "name": "stdout",
     "output_type": "stream",
     "text": [
      "Iteration: \t427 / 1000\n",
      "Confirmed: \t79\n",
      "Tentative: \t31\n",
      "Rejected: \t4890\n"
     ]
    },
    {
     "name": "stderr",
     "output_type": "stream",
     "text": [
      "[Parallel(n_jobs=14)]: Using backend ThreadingBackend with 14 concurrent workers.\n",
      "[Parallel(n_jobs=14)]: Done  22 tasks      | elapsed:    0.0s\n",
      "[Parallel(n_jobs=14)]: Done 172 tasks      | elapsed:    0.2s\n",
      "[Parallel(n_jobs=14)]: Done 422 tasks      | elapsed:    0.5s\n",
      "[Parallel(n_jobs=14)]: Done 494 out of 494 | elapsed:    0.6s finished\n"
     ]
    },
    {
     "name": "stdout",
     "output_type": "stream",
     "text": [
      "Iteration: \t428 / 1000\n",
      "Confirmed: \t79\n",
      "Tentative: \t31\n",
      "Rejected: \t4890\n"
     ]
    },
    {
     "name": "stderr",
     "output_type": "stream",
     "text": [
      "[Parallel(n_jobs=14)]: Using backend ThreadingBackend with 14 concurrent workers.\n",
      "[Parallel(n_jobs=14)]: Done  22 tasks      | elapsed:    0.0s\n",
      "[Parallel(n_jobs=14)]: Done 172 tasks      | elapsed:    0.2s\n",
      "[Parallel(n_jobs=14)]: Done 422 tasks      | elapsed:    0.5s\n",
      "[Parallel(n_jobs=14)]: Done 494 out of 494 | elapsed:    0.6s finished\n"
     ]
    },
    {
     "name": "stdout",
     "output_type": "stream",
     "text": [
      "Iteration: \t429 / 1000\n",
      "Confirmed: \t79\n",
      "Tentative: \t31\n",
      "Rejected: \t4890\n"
     ]
    },
    {
     "name": "stderr",
     "output_type": "stream",
     "text": [
      "[Parallel(n_jobs=14)]: Using backend ThreadingBackend with 14 concurrent workers.\n",
      "[Parallel(n_jobs=14)]: Done  22 tasks      | elapsed:    0.0s\n",
      "[Parallel(n_jobs=14)]: Done 172 tasks      | elapsed:    0.2s\n",
      "[Parallel(n_jobs=14)]: Done 422 tasks      | elapsed:    0.5s\n",
      "[Parallel(n_jobs=14)]: Done 494 out of 494 | elapsed:    0.6s finished\n"
     ]
    },
    {
     "name": "stdout",
     "output_type": "stream",
     "text": [
      "Iteration: \t430 / 1000\n",
      "Confirmed: \t79\n",
      "Tentative: \t31\n",
      "Rejected: \t4890\n"
     ]
    },
    {
     "name": "stderr",
     "output_type": "stream",
     "text": [
      "[Parallel(n_jobs=14)]: Using backend ThreadingBackend with 14 concurrent workers.\n",
      "[Parallel(n_jobs=14)]: Done  22 tasks      | elapsed:    0.0s\n",
      "[Parallel(n_jobs=14)]: Done 172 tasks      | elapsed:    0.2s\n",
      "[Parallel(n_jobs=14)]: Done 422 tasks      | elapsed:    0.6s\n",
      "[Parallel(n_jobs=14)]: Done 494 out of 494 | elapsed:    0.6s finished\n"
     ]
    },
    {
     "name": "stdout",
     "output_type": "stream",
     "text": [
      "Iteration: \t431 / 1000\n",
      "Confirmed: \t79\n",
      "Tentative: \t31\n",
      "Rejected: \t4890\n"
     ]
    },
    {
     "name": "stderr",
     "output_type": "stream",
     "text": [
      "[Parallel(n_jobs=14)]: Using backend ThreadingBackend with 14 concurrent workers.\n",
      "[Parallel(n_jobs=14)]: Done  22 tasks      | elapsed:    0.0s\n",
      "[Parallel(n_jobs=14)]: Done 172 tasks      | elapsed:    0.2s\n",
      "[Parallel(n_jobs=14)]: Done 422 tasks      | elapsed:    0.6s\n",
      "[Parallel(n_jobs=14)]: Done 494 out of 494 | elapsed:    0.6s finished\n"
     ]
    },
    {
     "name": "stdout",
     "output_type": "stream",
     "text": [
      "Iteration: \t432 / 1000\n",
      "Confirmed: \t79\n",
      "Tentative: \t31\n",
      "Rejected: \t4890\n"
     ]
    },
    {
     "name": "stderr",
     "output_type": "stream",
     "text": [
      "[Parallel(n_jobs=14)]: Using backend ThreadingBackend with 14 concurrent workers.\n",
      "[Parallel(n_jobs=14)]: Done  22 tasks      | elapsed:    0.0s\n",
      "[Parallel(n_jobs=14)]: Done 172 tasks      | elapsed:    0.2s\n",
      "[Parallel(n_jobs=14)]: Done 422 tasks      | elapsed:    0.5s\n",
      "[Parallel(n_jobs=14)]: Done 494 out of 494 | elapsed:    0.6s finished\n"
     ]
    },
    {
     "name": "stdout",
     "output_type": "stream",
     "text": [
      "Iteration: \t433 / 1000\n",
      "Confirmed: \t79\n",
      "Tentative: \t31\n",
      "Rejected: \t4890\n"
     ]
    },
    {
     "name": "stderr",
     "output_type": "stream",
     "text": [
      "[Parallel(n_jobs=14)]: Using backend ThreadingBackend with 14 concurrent workers.\n",
      "[Parallel(n_jobs=14)]: Done  22 tasks      | elapsed:    0.0s\n",
      "[Parallel(n_jobs=14)]: Done 172 tasks      | elapsed:    0.2s\n",
      "[Parallel(n_jobs=14)]: Done 422 tasks      | elapsed:    0.5s\n",
      "[Parallel(n_jobs=14)]: Done 494 out of 494 | elapsed:    0.6s finished\n"
     ]
    },
    {
     "name": "stdout",
     "output_type": "stream",
     "text": [
      "Iteration: \t434 / 1000\n",
      "Confirmed: \t79\n",
      "Tentative: \t31\n",
      "Rejected: \t4890\n"
     ]
    },
    {
     "name": "stderr",
     "output_type": "stream",
     "text": [
      "[Parallel(n_jobs=14)]: Using backend ThreadingBackend with 14 concurrent workers.\n",
      "[Parallel(n_jobs=14)]: Done  22 tasks      | elapsed:    0.0s\n",
      "[Parallel(n_jobs=14)]: Done 172 tasks      | elapsed:    0.2s\n",
      "[Parallel(n_jobs=14)]: Done 422 tasks      | elapsed:    0.6s\n",
      "[Parallel(n_jobs=14)]: Done 494 out of 494 | elapsed:    0.6s finished\n"
     ]
    },
    {
     "name": "stdout",
     "output_type": "stream",
     "text": [
      "Iteration: \t435 / 1000\n",
      "Confirmed: \t79\n",
      "Tentative: \t31\n",
      "Rejected: \t4890\n"
     ]
    },
    {
     "name": "stderr",
     "output_type": "stream",
     "text": [
      "[Parallel(n_jobs=14)]: Using backend ThreadingBackend with 14 concurrent workers.\n",
      "[Parallel(n_jobs=14)]: Done  22 tasks      | elapsed:    0.0s\n",
      "[Parallel(n_jobs=14)]: Done 172 tasks      | elapsed:    0.2s\n",
      "[Parallel(n_jobs=14)]: Done 422 tasks      | elapsed:    0.5s\n",
      "[Parallel(n_jobs=14)]: Done 494 out of 494 | elapsed:    0.6s finished\n"
     ]
    },
    {
     "name": "stdout",
     "output_type": "stream",
     "text": [
      "Iteration: \t436 / 1000\n",
      "Confirmed: \t79\n",
      "Tentative: \t31\n",
      "Rejected: \t4890\n"
     ]
    },
    {
     "name": "stderr",
     "output_type": "stream",
     "text": [
      "[Parallel(n_jobs=14)]: Using backend ThreadingBackend with 14 concurrent workers.\n",
      "[Parallel(n_jobs=14)]: Done  22 tasks      | elapsed:    0.0s\n",
      "[Parallel(n_jobs=14)]: Done 172 tasks      | elapsed:    0.2s\n",
      "[Parallel(n_jobs=14)]: Done 422 tasks      | elapsed:    0.5s\n",
      "[Parallel(n_jobs=14)]: Done 494 out of 494 | elapsed:    0.6s finished\n"
     ]
    },
    {
     "name": "stdout",
     "output_type": "stream",
     "text": [
      "Iteration: \t437 / 1000\n",
      "Confirmed: \t79\n",
      "Tentative: \t31\n",
      "Rejected: \t4890\n"
     ]
    },
    {
     "name": "stderr",
     "output_type": "stream",
     "text": [
      "[Parallel(n_jobs=14)]: Using backend ThreadingBackend with 14 concurrent workers.\n",
      "[Parallel(n_jobs=14)]: Done  22 tasks      | elapsed:    0.0s\n",
      "[Parallel(n_jobs=14)]: Done 172 tasks      | elapsed:    0.2s\n",
      "[Parallel(n_jobs=14)]: Done 422 tasks      | elapsed:    0.6s\n",
      "[Parallel(n_jobs=14)]: Done 494 out of 494 | elapsed:    0.6s finished\n"
     ]
    },
    {
     "name": "stdout",
     "output_type": "stream",
     "text": [
      "Iteration: \t438 / 1000\n",
      "Confirmed: \t79\n",
      "Tentative: \t31\n",
      "Rejected: \t4890\n"
     ]
    },
    {
     "name": "stderr",
     "output_type": "stream",
     "text": [
      "[Parallel(n_jobs=14)]: Using backend ThreadingBackend with 14 concurrent workers.\n",
      "[Parallel(n_jobs=14)]: Done  22 tasks      | elapsed:    0.0s\n",
      "[Parallel(n_jobs=14)]: Done 172 tasks      | elapsed:    0.2s\n",
      "[Parallel(n_jobs=14)]: Done 422 tasks      | elapsed:    0.6s\n",
      "[Parallel(n_jobs=14)]: Done 494 out of 494 | elapsed:    0.6s finished\n"
     ]
    },
    {
     "name": "stdout",
     "output_type": "stream",
     "text": [
      "Iteration: \t439 / 1000\n",
      "Confirmed: \t79\n",
      "Tentative: \t31\n",
      "Rejected: \t4890\n"
     ]
    },
    {
     "name": "stderr",
     "output_type": "stream",
     "text": [
      "[Parallel(n_jobs=14)]: Using backend ThreadingBackend with 14 concurrent workers.\n",
      "[Parallel(n_jobs=14)]: Done  22 tasks      | elapsed:    0.0s\n",
      "[Parallel(n_jobs=14)]: Done 172 tasks      | elapsed:    0.2s\n",
      "[Parallel(n_jobs=14)]: Done 422 tasks      | elapsed:    0.6s\n",
      "[Parallel(n_jobs=14)]: Done 494 out of 494 | elapsed:    0.6s finished\n"
     ]
    },
    {
     "name": "stdout",
     "output_type": "stream",
     "text": [
      "Iteration: \t440 / 1000\n",
      "Confirmed: \t79\n",
      "Tentative: \t31\n",
      "Rejected: \t4890\n"
     ]
    },
    {
     "name": "stderr",
     "output_type": "stream",
     "text": [
      "[Parallel(n_jobs=14)]: Using backend ThreadingBackend with 14 concurrent workers.\n",
      "[Parallel(n_jobs=14)]: Done  22 tasks      | elapsed:    0.0s\n",
      "[Parallel(n_jobs=14)]: Done 172 tasks      | elapsed:    0.2s\n",
      "[Parallel(n_jobs=14)]: Done 422 tasks      | elapsed:    0.6s\n",
      "[Parallel(n_jobs=14)]: Done 494 out of 494 | elapsed:    0.6s finished\n"
     ]
    },
    {
     "name": "stdout",
     "output_type": "stream",
     "text": [
      "Iteration: \t441 / 1000\n",
      "Confirmed: \t79\n",
      "Tentative: \t31\n",
      "Rejected: \t4890\n"
     ]
    },
    {
     "name": "stderr",
     "output_type": "stream",
     "text": [
      "[Parallel(n_jobs=14)]: Using backend ThreadingBackend with 14 concurrent workers.\n",
      "[Parallel(n_jobs=14)]: Done  22 tasks      | elapsed:    0.0s\n",
      "[Parallel(n_jobs=14)]: Done 172 tasks      | elapsed:    0.2s\n",
      "[Parallel(n_jobs=14)]: Done 422 tasks      | elapsed:    0.6s\n",
      "[Parallel(n_jobs=14)]: Done 494 out of 494 | elapsed:    0.6s finished\n"
     ]
    },
    {
     "name": "stdout",
     "output_type": "stream",
     "text": [
      "Iteration: \t442 / 1000\n",
      "Confirmed: \t79\n",
      "Tentative: \t31\n",
      "Rejected: \t4890\n"
     ]
    },
    {
     "name": "stderr",
     "output_type": "stream",
     "text": [
      "[Parallel(n_jobs=14)]: Using backend ThreadingBackend with 14 concurrent workers.\n",
      "[Parallel(n_jobs=14)]: Done  22 tasks      | elapsed:    0.0s\n",
      "[Parallel(n_jobs=14)]: Done 172 tasks      | elapsed:    0.2s\n",
      "[Parallel(n_jobs=14)]: Done 422 tasks      | elapsed:    0.6s\n",
      "[Parallel(n_jobs=14)]: Done 494 out of 494 | elapsed:    0.6s finished\n"
     ]
    },
    {
     "name": "stdout",
     "output_type": "stream",
     "text": [
      "Iteration: \t443 / 1000\n",
      "Confirmed: \t79\n",
      "Tentative: \t31\n",
      "Rejected: \t4890\n"
     ]
    },
    {
     "name": "stderr",
     "output_type": "stream",
     "text": [
      "[Parallel(n_jobs=14)]: Using backend ThreadingBackend with 14 concurrent workers.\n",
      "[Parallel(n_jobs=14)]: Done  22 tasks      | elapsed:    0.0s\n",
      "[Parallel(n_jobs=14)]: Done 172 tasks      | elapsed:    0.2s\n",
      "[Parallel(n_jobs=14)]: Done 422 tasks      | elapsed:    0.5s\n",
      "[Parallel(n_jobs=14)]: Done 494 out of 494 | elapsed:    0.6s finished\n"
     ]
    },
    {
     "name": "stdout",
     "output_type": "stream",
     "text": [
      "Iteration: \t444 / 1000\n",
      "Confirmed: \t79\n",
      "Tentative: \t31\n",
      "Rejected: \t4890\n"
     ]
    },
    {
     "name": "stderr",
     "output_type": "stream",
     "text": [
      "[Parallel(n_jobs=14)]: Using backend ThreadingBackend with 14 concurrent workers.\n",
      "[Parallel(n_jobs=14)]: Done  22 tasks      | elapsed:    0.0s\n",
      "[Parallel(n_jobs=14)]: Done 172 tasks      | elapsed:    0.2s\n",
      "[Parallel(n_jobs=14)]: Done 422 tasks      | elapsed:    0.6s\n",
      "[Parallel(n_jobs=14)]: Done 494 out of 494 | elapsed:    0.6s finished\n"
     ]
    },
    {
     "name": "stdout",
     "output_type": "stream",
     "text": [
      "Iteration: \t445 / 1000\n",
      "Confirmed: \t79\n",
      "Tentative: \t31\n",
      "Rejected: \t4890\n"
     ]
    },
    {
     "name": "stderr",
     "output_type": "stream",
     "text": [
      "[Parallel(n_jobs=14)]: Using backend ThreadingBackend with 14 concurrent workers.\n",
      "[Parallel(n_jobs=14)]: Done  22 tasks      | elapsed:    0.0s\n",
      "[Parallel(n_jobs=14)]: Done 172 tasks      | elapsed:    0.2s\n",
      "[Parallel(n_jobs=14)]: Done 422 tasks      | elapsed:    0.5s\n",
      "[Parallel(n_jobs=14)]: Done 494 out of 494 | elapsed:    0.6s finished\n"
     ]
    },
    {
     "name": "stdout",
     "output_type": "stream",
     "text": [
      "Iteration: \t446 / 1000\n",
      "Confirmed: \t79\n",
      "Tentative: \t31\n",
      "Rejected: \t4890\n"
     ]
    },
    {
     "name": "stderr",
     "output_type": "stream",
     "text": [
      "[Parallel(n_jobs=14)]: Using backend ThreadingBackend with 14 concurrent workers.\n",
      "[Parallel(n_jobs=14)]: Done  22 tasks      | elapsed:    0.0s\n",
      "[Parallel(n_jobs=14)]: Done 172 tasks      | elapsed:    0.2s\n",
      "[Parallel(n_jobs=14)]: Done 422 tasks      | elapsed:    0.5s\n",
      "[Parallel(n_jobs=14)]: Done 494 out of 494 | elapsed:    0.6s finished\n"
     ]
    },
    {
     "name": "stdout",
     "output_type": "stream",
     "text": [
      "Iteration: \t447 / 1000\n",
      "Confirmed: \t79\n",
      "Tentative: \t31\n",
      "Rejected: \t4890\n"
     ]
    },
    {
     "name": "stderr",
     "output_type": "stream",
     "text": [
      "[Parallel(n_jobs=14)]: Using backend ThreadingBackend with 14 concurrent workers.\n",
      "[Parallel(n_jobs=14)]: Done  22 tasks      | elapsed:    0.0s\n",
      "[Parallel(n_jobs=14)]: Done 172 tasks      | elapsed:    0.2s\n",
      "[Parallel(n_jobs=14)]: Done 422 tasks      | elapsed:    0.6s\n",
      "[Parallel(n_jobs=14)]: Done 494 out of 494 | elapsed:    0.6s finished\n"
     ]
    },
    {
     "name": "stdout",
     "output_type": "stream",
     "text": [
      "Iteration: \t448 / 1000\n",
      "Confirmed: \t79\n",
      "Tentative: \t31\n",
      "Rejected: \t4890\n"
     ]
    },
    {
     "name": "stderr",
     "output_type": "stream",
     "text": [
      "[Parallel(n_jobs=14)]: Using backend ThreadingBackend with 14 concurrent workers.\n",
      "[Parallel(n_jobs=14)]: Done  22 tasks      | elapsed:    0.0s\n",
      "[Parallel(n_jobs=14)]: Done 172 tasks      | elapsed:    0.2s\n",
      "[Parallel(n_jobs=14)]: Done 422 tasks      | elapsed:    0.5s\n",
      "[Parallel(n_jobs=14)]: Done 494 out of 494 | elapsed:    0.6s finished\n"
     ]
    },
    {
     "name": "stdout",
     "output_type": "stream",
     "text": [
      "Iteration: \t449 / 1000\n",
      "Confirmed: \t79\n",
      "Tentative: \t31\n",
      "Rejected: \t4890\n"
     ]
    },
    {
     "name": "stderr",
     "output_type": "stream",
     "text": [
      "[Parallel(n_jobs=14)]: Using backend ThreadingBackend with 14 concurrent workers.\n",
      "[Parallel(n_jobs=14)]: Done  22 tasks      | elapsed:    0.0s\n",
      "[Parallel(n_jobs=14)]: Done 172 tasks      | elapsed:    0.2s\n",
      "[Parallel(n_jobs=14)]: Done 422 tasks      | elapsed:    0.6s\n",
      "[Parallel(n_jobs=14)]: Done 494 out of 494 | elapsed:    0.6s finished\n"
     ]
    },
    {
     "name": "stdout",
     "output_type": "stream",
     "text": [
      "Iteration: \t450 / 1000\n",
      "Confirmed: \t79\n",
      "Tentative: \t31\n",
      "Rejected: \t4890\n"
     ]
    },
    {
     "name": "stderr",
     "output_type": "stream",
     "text": [
      "[Parallel(n_jobs=14)]: Using backend ThreadingBackend with 14 concurrent workers.\n",
      "[Parallel(n_jobs=14)]: Done  22 tasks      | elapsed:    0.0s\n",
      "[Parallel(n_jobs=14)]: Done 172 tasks      | elapsed:    0.2s\n",
      "[Parallel(n_jobs=14)]: Done 422 tasks      | elapsed:    0.6s\n",
      "[Parallel(n_jobs=14)]: Done 494 out of 494 | elapsed:    0.6s finished\n"
     ]
    },
    {
     "name": "stdout",
     "output_type": "stream",
     "text": [
      "Iteration: \t451 / 1000\n",
      "Confirmed: \t79\n",
      "Tentative: \t31\n",
      "Rejected: \t4890\n"
     ]
    },
    {
     "name": "stderr",
     "output_type": "stream",
     "text": [
      "[Parallel(n_jobs=14)]: Using backend ThreadingBackend with 14 concurrent workers.\n",
      "[Parallel(n_jobs=14)]: Done  22 tasks      | elapsed:    0.0s\n",
      "[Parallel(n_jobs=14)]: Done 172 tasks      | elapsed:    0.2s\n",
      "[Parallel(n_jobs=14)]: Done 422 tasks      | elapsed:    0.5s\n",
      "[Parallel(n_jobs=14)]: Done 494 out of 494 | elapsed:    0.6s finished\n"
     ]
    },
    {
     "name": "stdout",
     "output_type": "stream",
     "text": [
      "Iteration: \t452 / 1000\n",
      "Confirmed: \t79\n",
      "Tentative: \t31\n",
      "Rejected: \t4890\n"
     ]
    },
    {
     "name": "stderr",
     "output_type": "stream",
     "text": [
      "[Parallel(n_jobs=14)]: Using backend ThreadingBackend with 14 concurrent workers.\n",
      "[Parallel(n_jobs=14)]: Done  22 tasks      | elapsed:    0.0s\n",
      "[Parallel(n_jobs=14)]: Done 172 tasks      | elapsed:    0.2s\n",
      "[Parallel(n_jobs=14)]: Done 422 tasks      | elapsed:    0.6s\n",
      "[Parallel(n_jobs=14)]: Done 494 out of 494 | elapsed:    0.6s finished\n"
     ]
    },
    {
     "name": "stdout",
     "output_type": "stream",
     "text": [
      "Iteration: \t453 / 1000\n",
      "Confirmed: \t79\n",
      "Tentative: \t31\n",
      "Rejected: \t4890\n"
     ]
    },
    {
     "name": "stderr",
     "output_type": "stream",
     "text": [
      "[Parallel(n_jobs=14)]: Using backend ThreadingBackend with 14 concurrent workers.\n",
      "[Parallel(n_jobs=14)]: Done  22 tasks      | elapsed:    0.1s\n",
      "[Parallel(n_jobs=14)]: Done 172 tasks      | elapsed:    0.3s\n",
      "[Parallel(n_jobs=14)]: Done 422 tasks      | elapsed:    0.6s\n",
      "[Parallel(n_jobs=14)]: Done 494 out of 494 | elapsed:    0.7s finished\n"
     ]
    },
    {
     "name": "stdout",
     "output_type": "stream",
     "text": [
      "Iteration: \t454 / 1000\n",
      "Confirmed: \t79\n",
      "Tentative: \t31\n",
      "Rejected: \t4890\n"
     ]
    },
    {
     "name": "stderr",
     "output_type": "stream",
     "text": [
      "[Parallel(n_jobs=14)]: Using backend ThreadingBackend with 14 concurrent workers.\n",
      "[Parallel(n_jobs=14)]: Done  22 tasks      | elapsed:    0.0s\n",
      "[Parallel(n_jobs=14)]: Done 172 tasks      | elapsed:    0.2s\n",
      "[Parallel(n_jobs=14)]: Done 422 tasks      | elapsed:    0.5s\n",
      "[Parallel(n_jobs=14)]: Done 494 out of 494 | elapsed:    0.6s finished\n"
     ]
    },
    {
     "name": "stdout",
     "output_type": "stream",
     "text": [
      "Iteration: \t455 / 1000\n",
      "Confirmed: \t79\n",
      "Tentative: \t31\n",
      "Rejected: \t4890\n"
     ]
    },
    {
     "name": "stderr",
     "output_type": "stream",
     "text": [
      "[Parallel(n_jobs=14)]: Using backend ThreadingBackend with 14 concurrent workers.\n",
      "[Parallel(n_jobs=14)]: Done  22 tasks      | elapsed:    0.0s\n",
      "[Parallel(n_jobs=14)]: Done 172 tasks      | elapsed:    0.2s\n",
      "[Parallel(n_jobs=14)]: Done 422 tasks      | elapsed:    0.5s\n",
      "[Parallel(n_jobs=14)]: Done 494 out of 494 | elapsed:    0.6s finished\n"
     ]
    },
    {
     "name": "stdout",
     "output_type": "stream",
     "text": [
      "Iteration: \t456 / 1000\n",
      "Confirmed: \t79\n",
      "Tentative: \t31\n",
      "Rejected: \t4890\n"
     ]
    },
    {
     "name": "stderr",
     "output_type": "stream",
     "text": [
      "[Parallel(n_jobs=14)]: Using backend ThreadingBackend with 14 concurrent workers.\n",
      "[Parallel(n_jobs=14)]: Done  22 tasks      | elapsed:    0.0s\n",
      "[Parallel(n_jobs=14)]: Done 172 tasks      | elapsed:    0.2s\n",
      "[Parallel(n_jobs=14)]: Done 422 tasks      | elapsed:    0.6s\n",
      "[Parallel(n_jobs=14)]: Done 494 out of 494 | elapsed:    0.6s finished\n"
     ]
    },
    {
     "name": "stdout",
     "output_type": "stream",
     "text": [
      "Iteration: \t457 / 1000\n",
      "Confirmed: \t79\n",
      "Tentative: \t31\n",
      "Rejected: \t4890\n"
     ]
    },
    {
     "name": "stderr",
     "output_type": "stream",
     "text": [
      "[Parallel(n_jobs=14)]: Using backend ThreadingBackend with 14 concurrent workers.\n",
      "[Parallel(n_jobs=14)]: Done  22 tasks      | elapsed:    0.0s\n",
      "[Parallel(n_jobs=14)]: Done 172 tasks      | elapsed:    0.2s\n",
      "[Parallel(n_jobs=14)]: Done 422 tasks      | elapsed:    0.5s\n",
      "[Parallel(n_jobs=14)]: Done 494 out of 494 | elapsed:    0.6s finished\n"
     ]
    },
    {
     "name": "stdout",
     "output_type": "stream",
     "text": [
      "Iteration: \t458 / 1000\n",
      "Confirmed: \t80\n",
      "Tentative: \t30\n",
      "Rejected: \t4890\n"
     ]
    },
    {
     "name": "stderr",
     "output_type": "stream",
     "text": [
      "[Parallel(n_jobs=14)]: Using backend ThreadingBackend with 14 concurrent workers.\n",
      "[Parallel(n_jobs=14)]: Done  22 tasks      | elapsed:    0.0s\n",
      "[Parallel(n_jobs=14)]: Done 172 tasks      | elapsed:    0.2s\n",
      "[Parallel(n_jobs=14)]: Done 422 tasks      | elapsed:    0.5s\n",
      "[Parallel(n_jobs=14)]: Done 494 out of 494 | elapsed:    0.6s finished\n"
     ]
    },
    {
     "name": "stdout",
     "output_type": "stream",
     "text": [
      "Iteration: \t459 / 1000\n",
      "Confirmed: \t80\n",
      "Tentative: \t30\n",
      "Rejected: \t4890\n"
     ]
    },
    {
     "name": "stderr",
     "output_type": "stream",
     "text": [
      "[Parallel(n_jobs=14)]: Using backend ThreadingBackend with 14 concurrent workers.\n",
      "[Parallel(n_jobs=14)]: Done  22 tasks      | elapsed:    0.0s\n",
      "[Parallel(n_jobs=14)]: Done 172 tasks      | elapsed:    0.2s\n",
      "[Parallel(n_jobs=14)]: Done 422 tasks      | elapsed:    0.6s\n",
      "[Parallel(n_jobs=14)]: Done 494 out of 494 | elapsed:    0.6s finished\n"
     ]
    },
    {
     "name": "stdout",
     "output_type": "stream",
     "text": [
      "Iteration: \t460 / 1000\n",
      "Confirmed: \t80\n",
      "Tentative: \t30\n",
      "Rejected: \t4890\n"
     ]
    },
    {
     "name": "stderr",
     "output_type": "stream",
     "text": [
      "[Parallel(n_jobs=14)]: Using backend ThreadingBackend with 14 concurrent workers.\n",
      "[Parallel(n_jobs=14)]: Done  22 tasks      | elapsed:    0.0s\n",
      "[Parallel(n_jobs=14)]: Done 172 tasks      | elapsed:    0.2s\n",
      "[Parallel(n_jobs=14)]: Done 422 tasks      | elapsed:    0.6s\n",
      "[Parallel(n_jobs=14)]: Done 494 out of 494 | elapsed:    0.6s finished\n"
     ]
    },
    {
     "name": "stdout",
     "output_type": "stream",
     "text": [
      "Iteration: \t461 / 1000\n",
      "Confirmed: \t80\n",
      "Tentative: \t30\n",
      "Rejected: \t4890\n"
     ]
    },
    {
     "name": "stderr",
     "output_type": "stream",
     "text": [
      "[Parallel(n_jobs=14)]: Using backend ThreadingBackend with 14 concurrent workers.\n",
      "[Parallel(n_jobs=14)]: Done  22 tasks      | elapsed:    0.0s\n",
      "[Parallel(n_jobs=14)]: Done 172 tasks      | elapsed:    0.2s\n",
      "[Parallel(n_jobs=14)]: Done 422 tasks      | elapsed:    0.5s\n",
      "[Parallel(n_jobs=14)]: Done 494 out of 494 | elapsed:    0.6s finished\n"
     ]
    },
    {
     "name": "stdout",
     "output_type": "stream",
     "text": [
      "Iteration: \t462 / 1000\n",
      "Confirmed: \t80\n",
      "Tentative: \t30\n",
      "Rejected: \t4890\n"
     ]
    },
    {
     "name": "stderr",
     "output_type": "stream",
     "text": [
      "[Parallel(n_jobs=14)]: Using backend ThreadingBackend with 14 concurrent workers.\n",
      "[Parallel(n_jobs=14)]: Done  22 tasks      | elapsed:    0.0s\n",
      "[Parallel(n_jobs=14)]: Done 172 tasks      | elapsed:    0.2s\n",
      "[Parallel(n_jobs=14)]: Done 422 tasks      | elapsed:    0.5s\n",
      "[Parallel(n_jobs=14)]: Done 494 out of 494 | elapsed:    0.6s finished\n"
     ]
    },
    {
     "name": "stdout",
     "output_type": "stream",
     "text": [
      "Iteration: \t463 / 1000\n",
      "Confirmed: \t80\n",
      "Tentative: \t30\n",
      "Rejected: \t4890\n"
     ]
    },
    {
     "name": "stderr",
     "output_type": "stream",
     "text": [
      "[Parallel(n_jobs=14)]: Using backend ThreadingBackend with 14 concurrent workers.\n",
      "[Parallel(n_jobs=14)]: Done  22 tasks      | elapsed:    0.0s\n",
      "[Parallel(n_jobs=14)]: Done 172 tasks      | elapsed:    0.2s\n",
      "[Parallel(n_jobs=14)]: Done 422 tasks      | elapsed:    0.5s\n",
      "[Parallel(n_jobs=14)]: Done 494 out of 494 | elapsed:    0.6s finished\n"
     ]
    },
    {
     "name": "stdout",
     "output_type": "stream",
     "text": [
      "Iteration: \t464 / 1000\n",
      "Confirmed: \t80\n",
      "Tentative: \t30\n",
      "Rejected: \t4890\n"
     ]
    },
    {
     "name": "stderr",
     "output_type": "stream",
     "text": [
      "[Parallel(n_jobs=14)]: Using backend ThreadingBackend with 14 concurrent workers.\n",
      "[Parallel(n_jobs=14)]: Done  22 tasks      | elapsed:    0.0s\n",
      "[Parallel(n_jobs=14)]: Done 172 tasks      | elapsed:    0.2s\n",
      "[Parallel(n_jobs=14)]: Done 422 tasks      | elapsed:    0.5s\n",
      "[Parallel(n_jobs=14)]: Done 494 out of 494 | elapsed:    0.6s finished\n"
     ]
    },
    {
     "name": "stdout",
     "output_type": "stream",
     "text": [
      "Iteration: \t465 / 1000\n",
      "Confirmed: \t80\n",
      "Tentative: \t30\n",
      "Rejected: \t4890\n"
     ]
    },
    {
     "name": "stderr",
     "output_type": "stream",
     "text": [
      "[Parallel(n_jobs=14)]: Using backend ThreadingBackend with 14 concurrent workers.\n",
      "[Parallel(n_jobs=14)]: Done  22 tasks      | elapsed:    0.0s\n",
      "[Parallel(n_jobs=14)]: Done 172 tasks      | elapsed:    0.2s\n",
      "[Parallel(n_jobs=14)]: Done 422 tasks      | elapsed:    0.5s\n",
      "[Parallel(n_jobs=14)]: Done 494 out of 494 | elapsed:    0.6s finished\n"
     ]
    },
    {
     "name": "stdout",
     "output_type": "stream",
     "text": [
      "Iteration: \t466 / 1000\n",
      "Confirmed: \t80\n",
      "Tentative: \t30\n",
      "Rejected: \t4890\n"
     ]
    },
    {
     "name": "stderr",
     "output_type": "stream",
     "text": [
      "[Parallel(n_jobs=14)]: Using backend ThreadingBackend with 14 concurrent workers.\n",
      "[Parallel(n_jobs=14)]: Done  22 tasks      | elapsed:    0.0s\n",
      "[Parallel(n_jobs=14)]: Done 172 tasks      | elapsed:    0.2s\n",
      "[Parallel(n_jobs=14)]: Done 422 tasks      | elapsed:    0.5s\n",
      "[Parallel(n_jobs=14)]: Done 494 out of 494 | elapsed:    0.6s finished\n"
     ]
    },
    {
     "name": "stdout",
     "output_type": "stream",
     "text": [
      "Iteration: \t467 / 1000\n",
      "Confirmed: \t80\n",
      "Tentative: \t30\n",
      "Rejected: \t4890\n"
     ]
    },
    {
     "name": "stderr",
     "output_type": "stream",
     "text": [
      "[Parallel(n_jobs=14)]: Using backend ThreadingBackend with 14 concurrent workers.\n",
      "[Parallel(n_jobs=14)]: Done  22 tasks      | elapsed:    0.0s\n",
      "[Parallel(n_jobs=14)]: Done 172 tasks      | elapsed:    0.2s\n",
      "[Parallel(n_jobs=14)]: Done 422 tasks      | elapsed:    0.5s\n",
      "[Parallel(n_jobs=14)]: Done 494 out of 494 | elapsed:    0.6s finished\n"
     ]
    },
    {
     "name": "stdout",
     "output_type": "stream",
     "text": [
      "Iteration: \t468 / 1000\n",
      "Confirmed: \t80\n",
      "Tentative: \t30\n",
      "Rejected: \t4890\n"
     ]
    },
    {
     "name": "stderr",
     "output_type": "stream",
     "text": [
      "[Parallel(n_jobs=14)]: Using backend ThreadingBackend with 14 concurrent workers.\n",
      "[Parallel(n_jobs=14)]: Done  22 tasks      | elapsed:    0.0s\n",
      "[Parallel(n_jobs=14)]: Done 172 tasks      | elapsed:    0.2s\n",
      "[Parallel(n_jobs=14)]: Done 422 tasks      | elapsed:    0.5s\n",
      "[Parallel(n_jobs=14)]: Done 494 out of 494 | elapsed:    0.6s finished\n"
     ]
    },
    {
     "name": "stdout",
     "output_type": "stream",
     "text": [
      "Iteration: \t469 / 1000\n",
      "Confirmed: \t80\n",
      "Tentative: \t30\n",
      "Rejected: \t4890\n"
     ]
    },
    {
     "name": "stderr",
     "output_type": "stream",
     "text": [
      "[Parallel(n_jobs=14)]: Using backend ThreadingBackend with 14 concurrent workers.\n",
      "[Parallel(n_jobs=14)]: Done  22 tasks      | elapsed:    0.0s\n",
      "[Parallel(n_jobs=14)]: Done 172 tasks      | elapsed:    0.2s\n",
      "[Parallel(n_jobs=14)]: Done 422 tasks      | elapsed:    0.5s\n",
      "[Parallel(n_jobs=14)]: Done 494 out of 494 | elapsed:    0.6s finished\n"
     ]
    },
    {
     "name": "stdout",
     "output_type": "stream",
     "text": [
      "Iteration: \t470 / 1000\n",
      "Confirmed: \t80\n",
      "Tentative: \t30\n",
      "Rejected: \t4890\n"
     ]
    },
    {
     "name": "stderr",
     "output_type": "stream",
     "text": [
      "[Parallel(n_jobs=14)]: Using backend ThreadingBackend with 14 concurrent workers.\n",
      "[Parallel(n_jobs=14)]: Done  22 tasks      | elapsed:    0.0s\n",
      "[Parallel(n_jobs=14)]: Done 172 tasks      | elapsed:    0.2s\n",
      "[Parallel(n_jobs=14)]: Done 422 tasks      | elapsed:    0.5s\n",
      "[Parallel(n_jobs=14)]: Done 494 out of 494 | elapsed:    0.6s finished\n"
     ]
    },
    {
     "name": "stdout",
     "output_type": "stream",
     "text": [
      "Iteration: \t471 / 1000\n",
      "Confirmed: \t80\n",
      "Tentative: \t30\n",
      "Rejected: \t4890\n"
     ]
    },
    {
     "name": "stderr",
     "output_type": "stream",
     "text": [
      "[Parallel(n_jobs=14)]: Using backend ThreadingBackend with 14 concurrent workers.\n",
      "[Parallel(n_jobs=14)]: Done  22 tasks      | elapsed:    0.0s\n",
      "[Parallel(n_jobs=14)]: Done 172 tasks      | elapsed:    0.2s\n",
      "[Parallel(n_jobs=14)]: Done 422 tasks      | elapsed:    0.5s\n",
      "[Parallel(n_jobs=14)]: Done 494 out of 494 | elapsed:    0.6s finished\n"
     ]
    },
    {
     "name": "stdout",
     "output_type": "stream",
     "text": [
      "Iteration: \t472 / 1000\n",
      "Confirmed: \t80\n",
      "Tentative: \t30\n",
      "Rejected: \t4890\n"
     ]
    },
    {
     "name": "stderr",
     "output_type": "stream",
     "text": [
      "[Parallel(n_jobs=14)]: Using backend ThreadingBackend with 14 concurrent workers.\n",
      "[Parallel(n_jobs=14)]: Done  22 tasks      | elapsed:    0.0s\n",
      "[Parallel(n_jobs=14)]: Done 172 tasks      | elapsed:    0.2s\n",
      "[Parallel(n_jobs=14)]: Done 422 tasks      | elapsed:    0.5s\n",
      "[Parallel(n_jobs=14)]: Done 494 out of 494 | elapsed:    0.6s finished\n"
     ]
    },
    {
     "name": "stdout",
     "output_type": "stream",
     "text": [
      "Iteration: \t473 / 1000\n",
      "Confirmed: \t80\n",
      "Tentative: \t30\n",
      "Rejected: \t4890\n"
     ]
    },
    {
     "name": "stderr",
     "output_type": "stream",
     "text": [
      "[Parallel(n_jobs=14)]: Using backend ThreadingBackend with 14 concurrent workers.\n",
      "[Parallel(n_jobs=14)]: Done  22 tasks      | elapsed:    0.0s\n",
      "[Parallel(n_jobs=14)]: Done 172 tasks      | elapsed:    0.2s\n",
      "[Parallel(n_jobs=14)]: Done 422 tasks      | elapsed:    0.5s\n",
      "[Parallel(n_jobs=14)]: Done 494 out of 494 | elapsed:    0.6s finished\n"
     ]
    },
    {
     "name": "stdout",
     "output_type": "stream",
     "text": [
      "Iteration: \t474 / 1000\n",
      "Confirmed: \t80\n",
      "Tentative: \t30\n",
      "Rejected: \t4890\n"
     ]
    },
    {
     "name": "stderr",
     "output_type": "stream",
     "text": [
      "[Parallel(n_jobs=14)]: Using backend ThreadingBackend with 14 concurrent workers.\n",
      "[Parallel(n_jobs=14)]: Done  22 tasks      | elapsed:    0.0s\n",
      "[Parallel(n_jobs=14)]: Done 172 tasks      | elapsed:    0.2s\n",
      "[Parallel(n_jobs=14)]: Done 422 tasks      | elapsed:    0.5s\n",
      "[Parallel(n_jobs=14)]: Done 494 out of 494 | elapsed:    0.6s finished\n"
     ]
    },
    {
     "name": "stdout",
     "output_type": "stream",
     "text": [
      "Iteration: \t475 / 1000\n",
      "Confirmed: \t80\n",
      "Tentative: \t30\n",
      "Rejected: \t4890\n"
     ]
    },
    {
     "name": "stderr",
     "output_type": "stream",
     "text": [
      "[Parallel(n_jobs=14)]: Using backend ThreadingBackend with 14 concurrent workers.\n",
      "[Parallel(n_jobs=14)]: Done  22 tasks      | elapsed:    0.0s\n",
      "[Parallel(n_jobs=14)]: Done 172 tasks      | elapsed:    0.2s\n",
      "[Parallel(n_jobs=14)]: Done 422 tasks      | elapsed:    0.5s\n",
      "[Parallel(n_jobs=14)]: Done 494 out of 494 | elapsed:    0.6s finished\n"
     ]
    },
    {
     "name": "stdout",
     "output_type": "stream",
     "text": [
      "Iteration: \t476 / 1000\n",
      "Confirmed: \t80\n",
      "Tentative: \t30\n",
      "Rejected: \t4890\n"
     ]
    },
    {
     "name": "stderr",
     "output_type": "stream",
     "text": [
      "[Parallel(n_jobs=14)]: Using backend ThreadingBackend with 14 concurrent workers.\n",
      "[Parallel(n_jobs=14)]: Done  22 tasks      | elapsed:    0.0s\n",
      "[Parallel(n_jobs=14)]: Done 172 tasks      | elapsed:    0.2s\n",
      "[Parallel(n_jobs=14)]: Done 422 tasks      | elapsed:    0.5s\n",
      "[Parallel(n_jobs=14)]: Done 494 out of 494 | elapsed:    0.6s finished\n"
     ]
    },
    {
     "name": "stdout",
     "output_type": "stream",
     "text": [
      "Iteration: \t477 / 1000\n",
      "Confirmed: \t80\n",
      "Tentative: \t30\n",
      "Rejected: \t4890\n"
     ]
    },
    {
     "name": "stderr",
     "output_type": "stream",
     "text": [
      "[Parallel(n_jobs=14)]: Using backend ThreadingBackend with 14 concurrent workers.\n",
      "[Parallel(n_jobs=14)]: Done  22 tasks      | elapsed:    0.0s\n",
      "[Parallel(n_jobs=14)]: Done 172 tasks      | elapsed:    0.2s\n",
      "[Parallel(n_jobs=14)]: Done 422 tasks      | elapsed:    0.6s\n",
      "[Parallel(n_jobs=14)]: Done 494 out of 494 | elapsed:    0.6s finished\n"
     ]
    },
    {
     "name": "stdout",
     "output_type": "stream",
     "text": [
      "Iteration: \t478 / 1000\n",
      "Confirmed: \t80\n",
      "Tentative: \t30\n",
      "Rejected: \t4890\n"
     ]
    },
    {
     "name": "stderr",
     "output_type": "stream",
     "text": [
      "[Parallel(n_jobs=14)]: Using backend ThreadingBackend with 14 concurrent workers.\n",
      "[Parallel(n_jobs=14)]: Done  22 tasks      | elapsed:    0.0s\n",
      "[Parallel(n_jobs=14)]: Done 172 tasks      | elapsed:    0.2s\n",
      "[Parallel(n_jobs=14)]: Done 422 tasks      | elapsed:    0.5s\n",
      "[Parallel(n_jobs=14)]: Done 494 out of 494 | elapsed:    0.6s finished\n"
     ]
    },
    {
     "name": "stdout",
     "output_type": "stream",
     "text": [
      "Iteration: \t479 / 1000\n",
      "Confirmed: \t80\n",
      "Tentative: \t30\n",
      "Rejected: \t4890\n"
     ]
    },
    {
     "name": "stderr",
     "output_type": "stream",
     "text": [
      "[Parallel(n_jobs=14)]: Using backend ThreadingBackend with 14 concurrent workers.\n",
      "[Parallel(n_jobs=14)]: Done  22 tasks      | elapsed:    0.0s\n",
      "[Parallel(n_jobs=14)]: Done 172 tasks      | elapsed:    0.2s\n",
      "[Parallel(n_jobs=14)]: Done 422 tasks      | elapsed:    0.6s\n",
      "[Parallel(n_jobs=14)]: Done 494 out of 494 | elapsed:    0.6s finished\n"
     ]
    },
    {
     "name": "stdout",
     "output_type": "stream",
     "text": [
      "Iteration: \t480 / 1000\n",
      "Confirmed: \t80\n",
      "Tentative: \t30\n",
      "Rejected: \t4890\n"
     ]
    },
    {
     "name": "stderr",
     "output_type": "stream",
     "text": [
      "[Parallel(n_jobs=14)]: Using backend ThreadingBackend with 14 concurrent workers.\n",
      "[Parallel(n_jobs=14)]: Done  22 tasks      | elapsed:    0.0s\n",
      "[Parallel(n_jobs=14)]: Done 172 tasks      | elapsed:    0.2s\n",
      "[Parallel(n_jobs=14)]: Done 422 tasks      | elapsed:    0.6s\n",
      "[Parallel(n_jobs=14)]: Done 494 out of 494 | elapsed:    0.6s finished\n"
     ]
    },
    {
     "name": "stdout",
     "output_type": "stream",
     "text": [
      "Iteration: \t481 / 1000\n",
      "Confirmed: \t80\n",
      "Tentative: \t29\n",
      "Rejected: \t4891\n"
     ]
    },
    {
     "name": "stderr",
     "output_type": "stream",
     "text": [
      "[Parallel(n_jobs=14)]: Using backend ThreadingBackend with 14 concurrent workers.\n",
      "[Parallel(n_jobs=14)]: Done  22 tasks      | elapsed:    0.0s\n",
      "[Parallel(n_jobs=14)]: Done 172 tasks      | elapsed:    0.2s\n",
      "[Parallel(n_jobs=14)]: Done 422 tasks      | elapsed:    0.5s\n",
      "[Parallel(n_jobs=14)]: Done 492 out of 492 | elapsed:    0.6s finished\n"
     ]
    },
    {
     "name": "stdout",
     "output_type": "stream",
     "text": [
      "Iteration: \t482 / 1000\n",
      "Confirmed: \t80\n",
      "Tentative: \t29\n",
      "Rejected: \t4891\n"
     ]
    },
    {
     "name": "stderr",
     "output_type": "stream",
     "text": [
      "[Parallel(n_jobs=14)]: Using backend ThreadingBackend with 14 concurrent workers.\n",
      "[Parallel(n_jobs=14)]: Done  22 tasks      | elapsed:    0.0s\n",
      "[Parallel(n_jobs=14)]: Done 172 tasks      | elapsed:    0.2s\n",
      "[Parallel(n_jobs=14)]: Done 422 tasks      | elapsed:    0.5s\n",
      "[Parallel(n_jobs=14)]: Done 492 out of 492 | elapsed:    0.6s finished\n"
     ]
    },
    {
     "name": "stdout",
     "output_type": "stream",
     "text": [
      "Iteration: \t483 / 1000\n",
      "Confirmed: \t80\n",
      "Tentative: \t29\n",
      "Rejected: \t4891\n"
     ]
    },
    {
     "name": "stderr",
     "output_type": "stream",
     "text": [
      "[Parallel(n_jobs=14)]: Using backend ThreadingBackend with 14 concurrent workers.\n",
      "[Parallel(n_jobs=14)]: Done  22 tasks      | elapsed:    0.0s\n",
      "[Parallel(n_jobs=14)]: Done 172 tasks      | elapsed:    0.2s\n",
      "[Parallel(n_jobs=14)]: Done 422 tasks      | elapsed:    0.6s\n",
      "[Parallel(n_jobs=14)]: Done 492 out of 492 | elapsed:    0.6s finished\n"
     ]
    },
    {
     "name": "stdout",
     "output_type": "stream",
     "text": [
      "Iteration: \t484 / 1000\n",
      "Confirmed: \t80\n",
      "Tentative: \t29\n",
      "Rejected: \t4891\n"
     ]
    },
    {
     "name": "stderr",
     "output_type": "stream",
     "text": [
      "[Parallel(n_jobs=14)]: Using backend ThreadingBackend with 14 concurrent workers.\n",
      "[Parallel(n_jobs=14)]: Done  22 tasks      | elapsed:    0.0s\n",
      "[Parallel(n_jobs=14)]: Done 172 tasks      | elapsed:    0.2s\n",
      "[Parallel(n_jobs=14)]: Done 422 tasks      | elapsed:    0.5s\n",
      "[Parallel(n_jobs=14)]: Done 492 out of 492 | elapsed:    0.6s finished\n"
     ]
    },
    {
     "name": "stdout",
     "output_type": "stream",
     "text": [
      "Iteration: \t485 / 1000\n",
      "Confirmed: \t80\n",
      "Tentative: \t29\n",
      "Rejected: \t4891\n"
     ]
    },
    {
     "name": "stderr",
     "output_type": "stream",
     "text": [
      "[Parallel(n_jobs=14)]: Using backend ThreadingBackend with 14 concurrent workers.\n",
      "[Parallel(n_jobs=14)]: Done  22 tasks      | elapsed:    0.0s\n",
      "[Parallel(n_jobs=14)]: Done 172 tasks      | elapsed:    0.2s\n",
      "[Parallel(n_jobs=14)]: Done 422 tasks      | elapsed:    0.5s\n",
      "[Parallel(n_jobs=14)]: Done 492 out of 492 | elapsed:    0.6s finished\n"
     ]
    },
    {
     "name": "stdout",
     "output_type": "stream",
     "text": [
      "Iteration: \t486 / 1000\n",
      "Confirmed: \t80\n",
      "Tentative: \t29\n",
      "Rejected: \t4891\n"
     ]
    },
    {
     "name": "stderr",
     "output_type": "stream",
     "text": [
      "[Parallel(n_jobs=14)]: Using backend ThreadingBackend with 14 concurrent workers.\n",
      "[Parallel(n_jobs=14)]: Done  22 tasks      | elapsed:    0.0s\n",
      "[Parallel(n_jobs=14)]: Done 172 tasks      | elapsed:    0.2s\n",
      "[Parallel(n_jobs=14)]: Done 422 tasks      | elapsed:    0.6s\n",
      "[Parallel(n_jobs=14)]: Done 492 out of 492 | elapsed:    0.6s finished\n"
     ]
    },
    {
     "name": "stdout",
     "output_type": "stream",
     "text": [
      "Iteration: \t487 / 1000\n",
      "Confirmed: \t80\n",
      "Tentative: \t29\n",
      "Rejected: \t4891\n"
     ]
    },
    {
     "name": "stderr",
     "output_type": "stream",
     "text": [
      "[Parallel(n_jobs=14)]: Using backend ThreadingBackend with 14 concurrent workers.\n",
      "[Parallel(n_jobs=14)]: Done  22 tasks      | elapsed:    0.0s\n",
      "[Parallel(n_jobs=14)]: Done 172 tasks      | elapsed:    0.2s\n",
      "[Parallel(n_jobs=14)]: Done 422 tasks      | elapsed:    0.6s\n",
      "[Parallel(n_jobs=14)]: Done 492 out of 492 | elapsed:    0.6s finished\n"
     ]
    },
    {
     "name": "stdout",
     "output_type": "stream",
     "text": [
      "Iteration: \t488 / 1000\n",
      "Confirmed: \t80\n",
      "Tentative: \t29\n",
      "Rejected: \t4891\n"
     ]
    },
    {
     "name": "stderr",
     "output_type": "stream",
     "text": [
      "[Parallel(n_jobs=14)]: Using backend ThreadingBackend with 14 concurrent workers.\n",
      "[Parallel(n_jobs=14)]: Done  22 tasks      | elapsed:    0.0s\n",
      "[Parallel(n_jobs=14)]: Done 172 tasks      | elapsed:    0.2s\n",
      "[Parallel(n_jobs=14)]: Done 422 tasks      | elapsed:    0.5s\n",
      "[Parallel(n_jobs=14)]: Done 492 out of 492 | elapsed:    0.6s finished\n"
     ]
    },
    {
     "name": "stdout",
     "output_type": "stream",
     "text": [
      "Iteration: \t489 / 1000\n",
      "Confirmed: \t80\n",
      "Tentative: \t29\n",
      "Rejected: \t4891\n"
     ]
    },
    {
     "name": "stderr",
     "output_type": "stream",
     "text": [
      "[Parallel(n_jobs=14)]: Using backend ThreadingBackend with 14 concurrent workers.\n",
      "[Parallel(n_jobs=14)]: Done  22 tasks      | elapsed:    0.0s\n",
      "[Parallel(n_jobs=14)]: Done 172 tasks      | elapsed:    0.2s\n",
      "[Parallel(n_jobs=14)]: Done 422 tasks      | elapsed:    0.5s\n",
      "[Parallel(n_jobs=14)]: Done 492 out of 492 | elapsed:    0.6s finished\n"
     ]
    },
    {
     "name": "stdout",
     "output_type": "stream",
     "text": [
      "Iteration: \t490 / 1000\n",
      "Confirmed: \t80\n",
      "Tentative: \t29\n",
      "Rejected: \t4891\n"
     ]
    },
    {
     "name": "stderr",
     "output_type": "stream",
     "text": [
      "[Parallel(n_jobs=14)]: Using backend ThreadingBackend with 14 concurrent workers.\n",
      "[Parallel(n_jobs=14)]: Done  22 tasks      | elapsed:    0.0s\n",
      "[Parallel(n_jobs=14)]: Done 172 tasks      | elapsed:    0.2s\n",
      "[Parallel(n_jobs=14)]: Done 422 tasks      | elapsed:    0.5s\n",
      "[Parallel(n_jobs=14)]: Done 492 out of 492 | elapsed:    0.6s finished\n"
     ]
    },
    {
     "name": "stdout",
     "output_type": "stream",
     "text": [
      "Iteration: \t491 / 1000\n",
      "Confirmed: \t80\n",
      "Tentative: \t29\n",
      "Rejected: \t4891\n"
     ]
    },
    {
     "name": "stderr",
     "output_type": "stream",
     "text": [
      "[Parallel(n_jobs=14)]: Using backend ThreadingBackend with 14 concurrent workers.\n",
      "[Parallel(n_jobs=14)]: Done  22 tasks      | elapsed:    0.0s\n",
      "[Parallel(n_jobs=14)]: Done 172 tasks      | elapsed:    0.2s\n",
      "[Parallel(n_jobs=14)]: Done 422 tasks      | elapsed:    0.6s\n",
      "[Parallel(n_jobs=14)]: Done 492 out of 492 | elapsed:    0.6s finished\n"
     ]
    },
    {
     "name": "stdout",
     "output_type": "stream",
     "text": [
      "Iteration: \t492 / 1000\n",
      "Confirmed: \t80\n",
      "Tentative: \t29\n",
      "Rejected: \t4891\n"
     ]
    },
    {
     "name": "stderr",
     "output_type": "stream",
     "text": [
      "[Parallel(n_jobs=14)]: Using backend ThreadingBackend with 14 concurrent workers.\n",
      "[Parallel(n_jobs=14)]: Done  22 tasks      | elapsed:    0.0s\n",
      "[Parallel(n_jobs=14)]: Done 172 tasks      | elapsed:    0.2s\n",
      "[Parallel(n_jobs=14)]: Done 422 tasks      | elapsed:    0.5s\n",
      "[Parallel(n_jobs=14)]: Done 492 out of 492 | elapsed:    0.6s finished\n"
     ]
    },
    {
     "name": "stdout",
     "output_type": "stream",
     "text": [
      "Iteration: \t493 / 1000\n",
      "Confirmed: \t80\n",
      "Tentative: \t29\n",
      "Rejected: \t4891\n"
     ]
    },
    {
     "name": "stderr",
     "output_type": "stream",
     "text": [
      "[Parallel(n_jobs=14)]: Using backend ThreadingBackend with 14 concurrent workers.\n",
      "[Parallel(n_jobs=14)]: Done  22 tasks      | elapsed:    0.0s\n",
      "[Parallel(n_jobs=14)]: Done 172 tasks      | elapsed:    0.2s\n",
      "[Parallel(n_jobs=14)]: Done 422 tasks      | elapsed:    0.6s\n",
      "[Parallel(n_jobs=14)]: Done 492 out of 492 | elapsed:    0.6s finished\n"
     ]
    },
    {
     "name": "stdout",
     "output_type": "stream",
     "text": [
      "Iteration: \t494 / 1000\n",
      "Confirmed: \t80\n",
      "Tentative: \t28\n",
      "Rejected: \t4892\n"
     ]
    },
    {
     "name": "stderr",
     "output_type": "stream",
     "text": [
      "[Parallel(n_jobs=14)]: Using backend ThreadingBackend with 14 concurrent workers.\n",
      "[Parallel(n_jobs=14)]: Done  22 tasks      | elapsed:    0.0s\n",
      "[Parallel(n_jobs=14)]: Done 172 tasks      | elapsed:    0.2s\n",
      "[Parallel(n_jobs=14)]: Done 422 tasks      | elapsed:    0.6s\n",
      "[Parallel(n_jobs=14)]: Done 489 out of 489 | elapsed:    0.6s finished\n"
     ]
    },
    {
     "name": "stdout",
     "output_type": "stream",
     "text": [
      "Iteration: \t495 / 1000\n",
      "Confirmed: \t80\n",
      "Tentative: \t28\n",
      "Rejected: \t4892\n"
     ]
    },
    {
     "name": "stderr",
     "output_type": "stream",
     "text": [
      "[Parallel(n_jobs=14)]: Using backend ThreadingBackend with 14 concurrent workers.\n",
      "[Parallel(n_jobs=14)]: Done  22 tasks      | elapsed:    0.0s\n",
      "[Parallel(n_jobs=14)]: Done 172 tasks      | elapsed:    0.2s\n",
      "[Parallel(n_jobs=14)]: Done 422 tasks      | elapsed:    0.6s\n",
      "[Parallel(n_jobs=14)]: Done 489 out of 489 | elapsed:    0.6s finished\n"
     ]
    },
    {
     "name": "stdout",
     "output_type": "stream",
     "text": [
      "Iteration: \t496 / 1000\n",
      "Confirmed: \t80\n",
      "Tentative: \t28\n",
      "Rejected: \t4892\n"
     ]
    },
    {
     "name": "stderr",
     "output_type": "stream",
     "text": [
      "[Parallel(n_jobs=14)]: Using backend ThreadingBackend with 14 concurrent workers.\n",
      "[Parallel(n_jobs=14)]: Done  22 tasks      | elapsed:    0.0s\n",
      "[Parallel(n_jobs=14)]: Done 172 tasks      | elapsed:    0.2s\n",
      "[Parallel(n_jobs=14)]: Done 422 tasks      | elapsed:    0.6s\n",
      "[Parallel(n_jobs=14)]: Done 489 out of 489 | elapsed:    0.6s finished\n"
     ]
    },
    {
     "name": "stdout",
     "output_type": "stream",
     "text": [
      "Iteration: \t497 / 1000\n",
      "Confirmed: \t80\n",
      "Tentative: \t28\n",
      "Rejected: \t4892\n"
     ]
    },
    {
     "name": "stderr",
     "output_type": "stream",
     "text": [
      "[Parallel(n_jobs=14)]: Using backend ThreadingBackend with 14 concurrent workers.\n",
      "[Parallel(n_jobs=14)]: Done  22 tasks      | elapsed:    0.0s\n",
      "[Parallel(n_jobs=14)]: Done 172 tasks      | elapsed:    0.2s\n",
      "[Parallel(n_jobs=14)]: Done 422 tasks      | elapsed:    0.5s\n",
      "[Parallel(n_jobs=14)]: Done 489 out of 489 | elapsed:    0.6s finished\n"
     ]
    },
    {
     "name": "stdout",
     "output_type": "stream",
     "text": [
      "Iteration: \t498 / 1000\n",
      "Confirmed: \t80\n",
      "Tentative: \t28\n",
      "Rejected: \t4892\n"
     ]
    },
    {
     "name": "stderr",
     "output_type": "stream",
     "text": [
      "[Parallel(n_jobs=14)]: Using backend ThreadingBackend with 14 concurrent workers.\n",
      "[Parallel(n_jobs=14)]: Done  22 tasks      | elapsed:    0.0s\n",
      "[Parallel(n_jobs=14)]: Done 172 tasks      | elapsed:    0.2s\n",
      "[Parallel(n_jobs=14)]: Done 422 tasks      | elapsed:    0.6s\n",
      "[Parallel(n_jobs=14)]: Done 489 out of 489 | elapsed:    0.6s finished\n"
     ]
    },
    {
     "name": "stdout",
     "output_type": "stream",
     "text": [
      "Iteration: \t499 / 1000\n",
      "Confirmed: \t80\n",
      "Tentative: \t28\n",
      "Rejected: \t4892\n"
     ]
    },
    {
     "name": "stderr",
     "output_type": "stream",
     "text": [
      "[Parallel(n_jobs=14)]: Using backend ThreadingBackend with 14 concurrent workers.\n",
      "[Parallel(n_jobs=14)]: Done  22 tasks      | elapsed:    0.0s\n",
      "[Parallel(n_jobs=14)]: Done 172 tasks      | elapsed:    0.2s\n",
      "[Parallel(n_jobs=14)]: Done 422 tasks      | elapsed:    0.5s\n",
      "[Parallel(n_jobs=14)]: Done 489 out of 489 | elapsed:    0.6s finished\n"
     ]
    },
    {
     "name": "stdout",
     "output_type": "stream",
     "text": [
      "Iteration: \t500 / 1000\n",
      "Confirmed: \t80\n",
      "Tentative: \t28\n",
      "Rejected: \t4892\n"
     ]
    },
    {
     "name": "stderr",
     "output_type": "stream",
     "text": [
      "[Parallel(n_jobs=14)]: Using backend ThreadingBackend with 14 concurrent workers.\n",
      "[Parallel(n_jobs=14)]: Done  22 tasks      | elapsed:    0.0s\n",
      "[Parallel(n_jobs=14)]: Done 172 tasks      | elapsed:    0.2s\n",
      "[Parallel(n_jobs=14)]: Done 422 tasks      | elapsed:    0.5s\n",
      "[Parallel(n_jobs=14)]: Done 489 out of 489 | elapsed:    0.6s finished\n"
     ]
    },
    {
     "name": "stdout",
     "output_type": "stream",
     "text": [
      "Iteration: \t501 / 1000\n",
      "Confirmed: \t80\n",
      "Tentative: \t28\n",
      "Rejected: \t4892\n"
     ]
    },
    {
     "name": "stderr",
     "output_type": "stream",
     "text": [
      "[Parallel(n_jobs=14)]: Using backend ThreadingBackend with 14 concurrent workers.\n",
      "[Parallel(n_jobs=14)]: Done  22 tasks      | elapsed:    0.0s\n",
      "[Parallel(n_jobs=14)]: Done 172 tasks      | elapsed:    0.2s\n",
      "[Parallel(n_jobs=14)]: Done 422 tasks      | elapsed:    0.5s\n",
      "[Parallel(n_jobs=14)]: Done 489 out of 489 | elapsed:    0.6s finished\n"
     ]
    },
    {
     "name": "stdout",
     "output_type": "stream",
     "text": [
      "Iteration: \t502 / 1000\n",
      "Confirmed: \t80\n",
      "Tentative: \t28\n",
      "Rejected: \t4892\n"
     ]
    },
    {
     "name": "stderr",
     "output_type": "stream",
     "text": [
      "[Parallel(n_jobs=14)]: Using backend ThreadingBackend with 14 concurrent workers.\n",
      "[Parallel(n_jobs=14)]: Done  22 tasks      | elapsed:    0.0s\n",
      "[Parallel(n_jobs=14)]: Done 172 tasks      | elapsed:    0.2s\n",
      "[Parallel(n_jobs=14)]: Done 422 tasks      | elapsed:    0.5s\n",
      "[Parallel(n_jobs=14)]: Done 489 out of 489 | elapsed:    0.6s finished\n"
     ]
    },
    {
     "name": "stdout",
     "output_type": "stream",
     "text": [
      "Iteration: \t503 / 1000\n",
      "Confirmed: \t80\n",
      "Tentative: \t28\n",
      "Rejected: \t4892\n"
     ]
    },
    {
     "name": "stderr",
     "output_type": "stream",
     "text": [
      "[Parallel(n_jobs=14)]: Using backend ThreadingBackend with 14 concurrent workers.\n",
      "[Parallel(n_jobs=14)]: Done  22 tasks      | elapsed:    0.0s\n",
      "[Parallel(n_jobs=14)]: Done 172 tasks      | elapsed:    0.2s\n",
      "[Parallel(n_jobs=14)]: Done 422 tasks      | elapsed:    0.5s\n",
      "[Parallel(n_jobs=14)]: Done 489 out of 489 | elapsed:    0.6s finished\n"
     ]
    },
    {
     "name": "stdout",
     "output_type": "stream",
     "text": [
      "Iteration: \t504 / 1000\n",
      "Confirmed: \t80\n",
      "Tentative: \t28\n",
      "Rejected: \t4892\n"
     ]
    },
    {
     "name": "stderr",
     "output_type": "stream",
     "text": [
      "[Parallel(n_jobs=14)]: Using backend ThreadingBackend with 14 concurrent workers.\n",
      "[Parallel(n_jobs=14)]: Done  22 tasks      | elapsed:    0.0s\n",
      "[Parallel(n_jobs=14)]: Done 172 tasks      | elapsed:    0.2s\n",
      "[Parallel(n_jobs=14)]: Done 422 tasks      | elapsed:    0.6s\n",
      "[Parallel(n_jobs=14)]: Done 489 out of 489 | elapsed:    0.6s finished\n"
     ]
    },
    {
     "name": "stdout",
     "output_type": "stream",
     "text": [
      "Iteration: \t505 / 1000\n",
      "Confirmed: \t80\n",
      "Tentative: \t28\n",
      "Rejected: \t4892\n"
     ]
    },
    {
     "name": "stderr",
     "output_type": "stream",
     "text": [
      "[Parallel(n_jobs=14)]: Using backend ThreadingBackend with 14 concurrent workers.\n",
      "[Parallel(n_jobs=14)]: Done  22 tasks      | elapsed:    0.0s\n",
      "[Parallel(n_jobs=14)]: Done 172 tasks      | elapsed:    0.2s\n",
      "[Parallel(n_jobs=14)]: Done 422 tasks      | elapsed:    0.5s\n",
      "[Parallel(n_jobs=14)]: Done 489 out of 489 | elapsed:    0.6s finished\n"
     ]
    },
    {
     "name": "stdout",
     "output_type": "stream",
     "text": [
      "Iteration: \t506 / 1000\n",
      "Confirmed: \t80\n",
      "Tentative: \t28\n",
      "Rejected: \t4892\n"
     ]
    },
    {
     "name": "stderr",
     "output_type": "stream",
     "text": [
      "[Parallel(n_jobs=14)]: Using backend ThreadingBackend with 14 concurrent workers.\n",
      "[Parallel(n_jobs=14)]: Done  22 tasks      | elapsed:    0.0s\n",
      "[Parallel(n_jobs=14)]: Done 172 tasks      | elapsed:    0.2s\n",
      "[Parallel(n_jobs=14)]: Done 422 tasks      | elapsed:    0.6s\n",
      "[Parallel(n_jobs=14)]: Done 489 out of 489 | elapsed:    0.6s finished\n"
     ]
    },
    {
     "name": "stdout",
     "output_type": "stream",
     "text": [
      "Iteration: \t507 / 1000\n",
      "Confirmed: \t80\n",
      "Tentative: \t28\n",
      "Rejected: \t4892\n"
     ]
    },
    {
     "name": "stderr",
     "output_type": "stream",
     "text": [
      "[Parallel(n_jobs=14)]: Using backend ThreadingBackend with 14 concurrent workers.\n",
      "[Parallel(n_jobs=14)]: Done  22 tasks      | elapsed:    0.0s\n",
      "[Parallel(n_jobs=14)]: Done 172 tasks      | elapsed:    0.2s\n",
      "[Parallel(n_jobs=14)]: Done 422 tasks      | elapsed:    0.5s\n",
      "[Parallel(n_jobs=14)]: Done 489 out of 489 | elapsed:    0.6s finished\n"
     ]
    },
    {
     "name": "stdout",
     "output_type": "stream",
     "text": [
      "Iteration: \t508 / 1000\n",
      "Confirmed: \t80\n",
      "Tentative: \t28\n",
      "Rejected: \t4892\n"
     ]
    },
    {
     "name": "stderr",
     "output_type": "stream",
     "text": [
      "[Parallel(n_jobs=14)]: Using backend ThreadingBackend with 14 concurrent workers.\n",
      "[Parallel(n_jobs=14)]: Done  22 tasks      | elapsed:    0.0s\n",
      "[Parallel(n_jobs=14)]: Done 172 tasks      | elapsed:    0.2s\n",
      "[Parallel(n_jobs=14)]: Done 422 tasks      | elapsed:    0.5s\n",
      "[Parallel(n_jobs=14)]: Done 489 out of 489 | elapsed:    0.6s finished\n"
     ]
    },
    {
     "name": "stdout",
     "output_type": "stream",
     "text": [
      "Iteration: \t509 / 1000\n",
      "Confirmed: \t80\n",
      "Tentative: \t28\n",
      "Rejected: \t4892\n"
     ]
    },
    {
     "name": "stderr",
     "output_type": "stream",
     "text": [
      "[Parallel(n_jobs=14)]: Using backend ThreadingBackend with 14 concurrent workers.\n",
      "[Parallel(n_jobs=14)]: Done  22 tasks      | elapsed:    0.0s\n",
      "[Parallel(n_jobs=14)]: Done 172 tasks      | elapsed:    0.2s\n",
      "[Parallel(n_jobs=14)]: Done 422 tasks      | elapsed:    0.5s\n",
      "[Parallel(n_jobs=14)]: Done 489 out of 489 | elapsed:    0.6s finished\n"
     ]
    },
    {
     "name": "stdout",
     "output_type": "stream",
     "text": [
      "Iteration: \t510 / 1000\n",
      "Confirmed: \t80\n",
      "Tentative: \t28\n",
      "Rejected: \t4892\n"
     ]
    },
    {
     "name": "stderr",
     "output_type": "stream",
     "text": [
      "[Parallel(n_jobs=14)]: Using backend ThreadingBackend with 14 concurrent workers.\n",
      "[Parallel(n_jobs=14)]: Done  22 tasks      | elapsed:    0.0s\n",
      "[Parallel(n_jobs=14)]: Done 172 tasks      | elapsed:    0.2s\n",
      "[Parallel(n_jobs=14)]: Done 422 tasks      | elapsed:    0.6s\n",
      "[Parallel(n_jobs=14)]: Done 489 out of 489 | elapsed:    0.6s finished\n"
     ]
    },
    {
     "name": "stdout",
     "output_type": "stream",
     "text": [
      "Iteration: \t511 / 1000\n",
      "Confirmed: \t80\n",
      "Tentative: \t28\n",
      "Rejected: \t4892\n"
     ]
    },
    {
     "name": "stderr",
     "output_type": "stream",
     "text": [
      "[Parallel(n_jobs=14)]: Using backend ThreadingBackend with 14 concurrent workers.\n",
      "[Parallel(n_jobs=14)]: Done  22 tasks      | elapsed:    0.0s\n",
      "[Parallel(n_jobs=14)]: Done 172 tasks      | elapsed:    0.2s\n",
      "[Parallel(n_jobs=14)]: Done 422 tasks      | elapsed:    0.5s\n",
      "[Parallel(n_jobs=14)]: Done 489 out of 489 | elapsed:    0.6s finished\n"
     ]
    },
    {
     "name": "stdout",
     "output_type": "stream",
     "text": [
      "Iteration: \t512 / 1000\n",
      "Confirmed: \t80\n",
      "Tentative: \t28\n",
      "Rejected: \t4892\n"
     ]
    },
    {
     "name": "stderr",
     "output_type": "stream",
     "text": [
      "[Parallel(n_jobs=14)]: Using backend ThreadingBackend with 14 concurrent workers.\n",
      "[Parallel(n_jobs=14)]: Done  22 tasks      | elapsed:    0.0s\n",
      "[Parallel(n_jobs=14)]: Done 172 tasks      | elapsed:    0.2s\n",
      "[Parallel(n_jobs=14)]: Done 422 tasks      | elapsed:    0.5s\n",
      "[Parallel(n_jobs=14)]: Done 489 out of 489 | elapsed:    0.6s finished\n"
     ]
    },
    {
     "name": "stdout",
     "output_type": "stream",
     "text": [
      "Iteration: \t513 / 1000\n",
      "Confirmed: \t80\n",
      "Tentative: \t28\n",
      "Rejected: \t4892\n"
     ]
    },
    {
     "name": "stderr",
     "output_type": "stream",
     "text": [
      "[Parallel(n_jobs=14)]: Using backend ThreadingBackend with 14 concurrent workers.\n",
      "[Parallel(n_jobs=14)]: Done  22 tasks      | elapsed:    0.0s\n",
      "[Parallel(n_jobs=14)]: Done 172 tasks      | elapsed:    0.2s\n",
      "[Parallel(n_jobs=14)]: Done 422 tasks      | elapsed:    0.6s\n",
      "[Parallel(n_jobs=14)]: Done 489 out of 489 | elapsed:    0.6s finished\n"
     ]
    },
    {
     "name": "stdout",
     "output_type": "stream",
     "text": [
      "Iteration: \t514 / 1000\n",
      "Confirmed: \t80\n",
      "Tentative: \t28\n",
      "Rejected: \t4892\n"
     ]
    },
    {
     "name": "stderr",
     "output_type": "stream",
     "text": [
      "[Parallel(n_jobs=14)]: Using backend ThreadingBackend with 14 concurrent workers.\n",
      "[Parallel(n_jobs=14)]: Done  22 tasks      | elapsed:    0.0s\n",
      "[Parallel(n_jobs=14)]: Done 172 tasks      | elapsed:    0.2s\n",
      "[Parallel(n_jobs=14)]: Done 422 tasks      | elapsed:    0.5s\n",
      "[Parallel(n_jobs=14)]: Done 489 out of 489 | elapsed:    0.6s finished\n"
     ]
    },
    {
     "name": "stdout",
     "output_type": "stream",
     "text": [
      "Iteration: \t515 / 1000\n",
      "Confirmed: \t80\n",
      "Tentative: \t28\n",
      "Rejected: \t4892\n"
     ]
    },
    {
     "name": "stderr",
     "output_type": "stream",
     "text": [
      "[Parallel(n_jobs=14)]: Using backend ThreadingBackend with 14 concurrent workers.\n",
      "[Parallel(n_jobs=14)]: Done  22 tasks      | elapsed:    0.0s\n",
      "[Parallel(n_jobs=14)]: Done 172 tasks      | elapsed:    0.2s\n",
      "[Parallel(n_jobs=14)]: Done 422 tasks      | elapsed:    0.5s\n",
      "[Parallel(n_jobs=14)]: Done 489 out of 489 | elapsed:    0.6s finished\n"
     ]
    },
    {
     "name": "stdout",
     "output_type": "stream",
     "text": [
      "Iteration: \t516 / 1000\n",
      "Confirmed: \t80\n",
      "Tentative: \t28\n",
      "Rejected: \t4892\n"
     ]
    },
    {
     "name": "stderr",
     "output_type": "stream",
     "text": [
      "[Parallel(n_jobs=14)]: Using backend ThreadingBackend with 14 concurrent workers.\n",
      "[Parallel(n_jobs=14)]: Done  22 tasks      | elapsed:    0.0s\n",
      "[Parallel(n_jobs=14)]: Done 172 tasks      | elapsed:    0.2s\n",
      "[Parallel(n_jobs=14)]: Done 422 tasks      | elapsed:    0.5s\n",
      "[Parallel(n_jobs=14)]: Done 489 out of 489 | elapsed:    0.6s finished\n"
     ]
    },
    {
     "name": "stdout",
     "output_type": "stream",
     "text": [
      "Iteration: \t517 / 1000\n",
      "Confirmed: \t80\n",
      "Tentative: \t28\n",
      "Rejected: \t4892\n"
     ]
    },
    {
     "name": "stderr",
     "output_type": "stream",
     "text": [
      "[Parallel(n_jobs=14)]: Using backend ThreadingBackend with 14 concurrent workers.\n",
      "[Parallel(n_jobs=14)]: Done  22 tasks      | elapsed:    0.0s\n",
      "[Parallel(n_jobs=14)]: Done 172 tasks      | elapsed:    0.2s\n",
      "[Parallel(n_jobs=14)]: Done 422 tasks      | elapsed:    0.5s\n",
      "[Parallel(n_jobs=14)]: Done 489 out of 489 | elapsed:    0.6s finished\n"
     ]
    },
    {
     "name": "stdout",
     "output_type": "stream",
     "text": [
      "Iteration: \t518 / 1000\n",
      "Confirmed: \t80\n",
      "Tentative: \t28\n",
      "Rejected: \t4892\n"
     ]
    },
    {
     "name": "stderr",
     "output_type": "stream",
     "text": [
      "[Parallel(n_jobs=14)]: Using backend ThreadingBackend with 14 concurrent workers.\n",
      "[Parallel(n_jobs=14)]: Done  22 tasks      | elapsed:    0.0s\n",
      "[Parallel(n_jobs=14)]: Done 172 tasks      | elapsed:    0.2s\n",
      "[Parallel(n_jobs=14)]: Done 422 tasks      | elapsed:    0.6s\n",
      "[Parallel(n_jobs=14)]: Done 489 out of 489 | elapsed:    0.6s finished\n"
     ]
    },
    {
     "name": "stdout",
     "output_type": "stream",
     "text": [
      "Iteration: \t519 / 1000\n",
      "Confirmed: \t80\n",
      "Tentative: \t28\n",
      "Rejected: \t4892\n"
     ]
    },
    {
     "name": "stderr",
     "output_type": "stream",
     "text": [
      "[Parallel(n_jobs=14)]: Using backend ThreadingBackend with 14 concurrent workers.\n",
      "[Parallel(n_jobs=14)]: Done  22 tasks      | elapsed:    0.0s\n",
      "[Parallel(n_jobs=14)]: Done 172 tasks      | elapsed:    0.2s\n",
      "[Parallel(n_jobs=14)]: Done 422 tasks      | elapsed:    0.6s\n",
      "[Parallel(n_jobs=14)]: Done 489 out of 489 | elapsed:    0.6s finished\n"
     ]
    },
    {
     "name": "stdout",
     "output_type": "stream",
     "text": [
      "Iteration: \t520 / 1000\n",
      "Confirmed: \t81\n",
      "Tentative: \t27\n",
      "Rejected: \t4892\n"
     ]
    },
    {
     "name": "stderr",
     "output_type": "stream",
     "text": [
      "[Parallel(n_jobs=14)]: Using backend ThreadingBackend with 14 concurrent workers.\n",
      "[Parallel(n_jobs=14)]: Done  22 tasks      | elapsed:    0.0s\n",
      "[Parallel(n_jobs=14)]: Done 172 tasks      | elapsed:    0.2s\n",
      "[Parallel(n_jobs=14)]: Done 422 tasks      | elapsed:    0.5s\n",
      "[Parallel(n_jobs=14)]: Done 489 out of 489 | elapsed:    0.6s finished\n"
     ]
    },
    {
     "name": "stdout",
     "output_type": "stream",
     "text": [
      "Iteration: \t521 / 1000\n",
      "Confirmed: \t81\n",
      "Tentative: \t27\n",
      "Rejected: \t4892\n"
     ]
    },
    {
     "name": "stderr",
     "output_type": "stream",
     "text": [
      "[Parallel(n_jobs=14)]: Using backend ThreadingBackend with 14 concurrent workers.\n",
      "[Parallel(n_jobs=14)]: Done  22 tasks      | elapsed:    0.0s\n",
      "[Parallel(n_jobs=14)]: Done 172 tasks      | elapsed:    0.2s\n",
      "[Parallel(n_jobs=14)]: Done 422 tasks      | elapsed:    0.5s\n",
      "[Parallel(n_jobs=14)]: Done 489 out of 489 | elapsed:    0.6s finished\n"
     ]
    },
    {
     "name": "stdout",
     "output_type": "stream",
     "text": [
      "Iteration: \t522 / 1000\n",
      "Confirmed: \t81\n",
      "Tentative: \t27\n",
      "Rejected: \t4892\n"
     ]
    },
    {
     "name": "stderr",
     "output_type": "stream",
     "text": [
      "[Parallel(n_jobs=14)]: Using backend ThreadingBackend with 14 concurrent workers.\n",
      "[Parallel(n_jobs=14)]: Done  22 tasks      | elapsed:    0.0s\n",
      "[Parallel(n_jobs=14)]: Done 172 tasks      | elapsed:    0.2s\n",
      "[Parallel(n_jobs=14)]: Done 422 tasks      | elapsed:    0.6s\n",
      "[Parallel(n_jobs=14)]: Done 489 out of 489 | elapsed:    0.6s finished\n"
     ]
    },
    {
     "name": "stdout",
     "output_type": "stream",
     "text": [
      "Iteration: \t523 / 1000\n",
      "Confirmed: \t81\n",
      "Tentative: \t27\n",
      "Rejected: \t4892\n"
     ]
    },
    {
     "name": "stderr",
     "output_type": "stream",
     "text": [
      "[Parallel(n_jobs=14)]: Using backend ThreadingBackend with 14 concurrent workers.\n",
      "[Parallel(n_jobs=14)]: Done  22 tasks      | elapsed:    0.0s\n",
      "[Parallel(n_jobs=14)]: Done 172 tasks      | elapsed:    0.2s\n",
      "[Parallel(n_jobs=14)]: Done 422 tasks      | elapsed:    0.6s\n",
      "[Parallel(n_jobs=14)]: Done 489 out of 489 | elapsed:    0.6s finished\n"
     ]
    },
    {
     "name": "stdout",
     "output_type": "stream",
     "text": [
      "Iteration: \t524 / 1000\n",
      "Confirmed: \t81\n",
      "Tentative: \t27\n",
      "Rejected: \t4892\n"
     ]
    },
    {
     "name": "stderr",
     "output_type": "stream",
     "text": [
      "[Parallel(n_jobs=14)]: Using backend ThreadingBackend with 14 concurrent workers.\n",
      "[Parallel(n_jobs=14)]: Done  22 tasks      | elapsed:    0.0s\n",
      "[Parallel(n_jobs=14)]: Done 172 tasks      | elapsed:    0.2s\n",
      "[Parallel(n_jobs=14)]: Done 422 tasks      | elapsed:    0.6s\n",
      "[Parallel(n_jobs=14)]: Done 489 out of 489 | elapsed:    0.6s finished\n"
     ]
    },
    {
     "name": "stdout",
     "output_type": "stream",
     "text": [
      "Iteration: \t525 / 1000\n",
      "Confirmed: \t81\n",
      "Tentative: \t27\n",
      "Rejected: \t4892\n"
     ]
    },
    {
     "name": "stderr",
     "output_type": "stream",
     "text": [
      "[Parallel(n_jobs=14)]: Using backend ThreadingBackend with 14 concurrent workers.\n",
      "[Parallel(n_jobs=14)]: Done  22 tasks      | elapsed:    0.0s\n",
      "[Parallel(n_jobs=14)]: Done 172 tasks      | elapsed:    0.2s\n",
      "[Parallel(n_jobs=14)]: Done 422 tasks      | elapsed:    0.5s\n",
      "[Parallel(n_jobs=14)]: Done 489 out of 489 | elapsed:    0.6s finished\n"
     ]
    },
    {
     "name": "stdout",
     "output_type": "stream",
     "text": [
      "Iteration: \t526 / 1000\n",
      "Confirmed: \t81\n",
      "Tentative: \t27\n",
      "Rejected: \t4892\n"
     ]
    },
    {
     "name": "stderr",
     "output_type": "stream",
     "text": [
      "[Parallel(n_jobs=14)]: Using backend ThreadingBackend with 14 concurrent workers.\n",
      "[Parallel(n_jobs=14)]: Done  22 tasks      | elapsed:    0.0s\n",
      "[Parallel(n_jobs=14)]: Done 172 tasks      | elapsed:    0.2s\n",
      "[Parallel(n_jobs=14)]: Done 422 tasks      | elapsed:    0.6s\n",
      "[Parallel(n_jobs=14)]: Done 489 out of 489 | elapsed:    0.6s finished\n"
     ]
    },
    {
     "name": "stdout",
     "output_type": "stream",
     "text": [
      "Iteration: \t527 / 1000\n",
      "Confirmed: \t81\n",
      "Tentative: \t27\n",
      "Rejected: \t4892\n"
     ]
    },
    {
     "name": "stderr",
     "output_type": "stream",
     "text": [
      "[Parallel(n_jobs=14)]: Using backend ThreadingBackend with 14 concurrent workers.\n",
      "[Parallel(n_jobs=14)]: Done  22 tasks      | elapsed:    0.0s\n",
      "[Parallel(n_jobs=14)]: Done 172 tasks      | elapsed:    0.2s\n",
      "[Parallel(n_jobs=14)]: Done 422 tasks      | elapsed:    0.6s\n",
      "[Parallel(n_jobs=14)]: Done 489 out of 489 | elapsed:    0.6s finished\n"
     ]
    },
    {
     "name": "stdout",
     "output_type": "stream",
     "text": [
      "Iteration: \t528 / 1000\n",
      "Confirmed: \t81\n",
      "Tentative: \t27\n",
      "Rejected: \t4892\n"
     ]
    },
    {
     "name": "stderr",
     "output_type": "stream",
     "text": [
      "[Parallel(n_jobs=14)]: Using backend ThreadingBackend with 14 concurrent workers.\n",
      "[Parallel(n_jobs=14)]: Done  22 tasks      | elapsed:    0.0s\n",
      "[Parallel(n_jobs=14)]: Done 172 tasks      | elapsed:    0.2s\n",
      "[Parallel(n_jobs=14)]: Done 422 tasks      | elapsed:    0.6s\n",
      "[Parallel(n_jobs=14)]: Done 489 out of 489 | elapsed:    0.6s finished\n"
     ]
    },
    {
     "name": "stdout",
     "output_type": "stream",
     "text": [
      "Iteration: \t529 / 1000\n",
      "Confirmed: \t81\n",
      "Tentative: \t27\n",
      "Rejected: \t4892\n"
     ]
    },
    {
     "name": "stderr",
     "output_type": "stream",
     "text": [
      "[Parallel(n_jobs=14)]: Using backend ThreadingBackend with 14 concurrent workers.\n",
      "[Parallel(n_jobs=14)]: Done  22 tasks      | elapsed:    0.0s\n",
      "[Parallel(n_jobs=14)]: Done 172 tasks      | elapsed:    0.2s\n",
      "[Parallel(n_jobs=14)]: Done 422 tasks      | elapsed:    0.5s\n",
      "[Parallel(n_jobs=14)]: Done 489 out of 489 | elapsed:    0.6s finished\n"
     ]
    },
    {
     "name": "stdout",
     "output_type": "stream",
     "text": [
      "Iteration: \t530 / 1000\n",
      "Confirmed: \t81\n",
      "Tentative: \t27\n",
      "Rejected: \t4892\n"
     ]
    },
    {
     "name": "stderr",
     "output_type": "stream",
     "text": [
      "[Parallel(n_jobs=14)]: Using backend ThreadingBackend with 14 concurrent workers.\n",
      "[Parallel(n_jobs=14)]: Done  22 tasks      | elapsed:    0.0s\n",
      "[Parallel(n_jobs=14)]: Done 172 tasks      | elapsed:    0.2s\n",
      "[Parallel(n_jobs=14)]: Done 422 tasks      | elapsed:    0.6s\n",
      "[Parallel(n_jobs=14)]: Done 489 out of 489 | elapsed:    0.6s finished\n"
     ]
    },
    {
     "name": "stdout",
     "output_type": "stream",
     "text": [
      "Iteration: \t531 / 1000\n",
      "Confirmed: \t81\n",
      "Tentative: \t27\n",
      "Rejected: \t4892\n"
     ]
    },
    {
     "name": "stderr",
     "output_type": "stream",
     "text": [
      "[Parallel(n_jobs=14)]: Using backend ThreadingBackend with 14 concurrent workers.\n",
      "[Parallel(n_jobs=14)]: Done  22 tasks      | elapsed:    0.0s\n",
      "[Parallel(n_jobs=14)]: Done 172 tasks      | elapsed:    0.2s\n",
      "[Parallel(n_jobs=14)]: Done 422 tasks      | elapsed:    0.5s\n",
      "[Parallel(n_jobs=14)]: Done 489 out of 489 | elapsed:    0.6s finished\n"
     ]
    },
    {
     "name": "stdout",
     "output_type": "stream",
     "text": [
      "Iteration: \t532 / 1000\n",
      "Confirmed: \t81\n",
      "Tentative: \t27\n",
      "Rejected: \t4892\n"
     ]
    },
    {
     "name": "stderr",
     "output_type": "stream",
     "text": [
      "[Parallel(n_jobs=14)]: Using backend ThreadingBackend with 14 concurrent workers.\n",
      "[Parallel(n_jobs=14)]: Done  22 tasks      | elapsed:    0.0s\n",
      "[Parallel(n_jobs=14)]: Done 172 tasks      | elapsed:    0.2s\n",
      "[Parallel(n_jobs=14)]: Done 422 tasks      | elapsed:    0.6s\n",
      "[Parallel(n_jobs=14)]: Done 489 out of 489 | elapsed:    0.6s finished\n"
     ]
    },
    {
     "name": "stdout",
     "output_type": "stream",
     "text": [
      "Iteration: \t533 / 1000\n",
      "Confirmed: \t81\n",
      "Tentative: \t27\n",
      "Rejected: \t4892\n"
     ]
    },
    {
     "name": "stderr",
     "output_type": "stream",
     "text": [
      "[Parallel(n_jobs=14)]: Using backend ThreadingBackend with 14 concurrent workers.\n",
      "[Parallel(n_jobs=14)]: Done  22 tasks      | elapsed:    0.0s\n",
      "[Parallel(n_jobs=14)]: Done 172 tasks      | elapsed:    0.2s\n",
      "[Parallel(n_jobs=14)]: Done 422 tasks      | elapsed:    0.6s\n",
      "[Parallel(n_jobs=14)]: Done 489 out of 489 | elapsed:    0.6s finished\n"
     ]
    },
    {
     "name": "stdout",
     "output_type": "stream",
     "text": [
      "Iteration: \t534 / 1000\n",
      "Confirmed: \t81\n",
      "Tentative: \t27\n",
      "Rejected: \t4892\n"
     ]
    },
    {
     "name": "stderr",
     "output_type": "stream",
     "text": [
      "[Parallel(n_jobs=14)]: Using backend ThreadingBackend with 14 concurrent workers.\n",
      "[Parallel(n_jobs=14)]: Done  22 tasks      | elapsed:    0.0s\n",
      "[Parallel(n_jobs=14)]: Done 172 tasks      | elapsed:    0.2s\n",
      "[Parallel(n_jobs=14)]: Done 422 tasks      | elapsed:    0.6s\n",
      "[Parallel(n_jobs=14)]: Done 489 out of 489 | elapsed:    0.6s finished\n"
     ]
    },
    {
     "name": "stdout",
     "output_type": "stream",
     "text": [
      "Iteration: \t535 / 1000\n",
      "Confirmed: \t81\n",
      "Tentative: \t27\n",
      "Rejected: \t4892\n"
     ]
    },
    {
     "name": "stderr",
     "output_type": "stream",
     "text": [
      "[Parallel(n_jobs=14)]: Using backend ThreadingBackend with 14 concurrent workers.\n",
      "[Parallel(n_jobs=14)]: Done  22 tasks      | elapsed:    0.0s\n",
      "[Parallel(n_jobs=14)]: Done 172 tasks      | elapsed:    0.2s\n",
      "[Parallel(n_jobs=14)]: Done 422 tasks      | elapsed:    0.5s\n",
      "[Parallel(n_jobs=14)]: Done 489 out of 489 | elapsed:    0.6s finished\n"
     ]
    },
    {
     "name": "stdout",
     "output_type": "stream",
     "text": [
      "Iteration: \t536 / 1000\n",
      "Confirmed: \t81\n",
      "Tentative: \t27\n",
      "Rejected: \t4892\n"
     ]
    },
    {
     "name": "stderr",
     "output_type": "stream",
     "text": [
      "[Parallel(n_jobs=14)]: Using backend ThreadingBackend with 14 concurrent workers.\n",
      "[Parallel(n_jobs=14)]: Done  22 tasks      | elapsed:    0.0s\n",
      "[Parallel(n_jobs=14)]: Done 172 tasks      | elapsed:    0.2s\n",
      "[Parallel(n_jobs=14)]: Done 422 tasks      | elapsed:    0.5s\n",
      "[Parallel(n_jobs=14)]: Done 489 out of 489 | elapsed:    0.6s finished\n"
     ]
    },
    {
     "name": "stdout",
     "output_type": "stream",
     "text": [
      "Iteration: \t537 / 1000\n",
      "Confirmed: \t81\n",
      "Tentative: \t27\n",
      "Rejected: \t4892\n"
     ]
    },
    {
     "name": "stderr",
     "output_type": "stream",
     "text": [
      "[Parallel(n_jobs=14)]: Using backend ThreadingBackend with 14 concurrent workers.\n",
      "[Parallel(n_jobs=14)]: Done  22 tasks      | elapsed:    0.0s\n",
      "[Parallel(n_jobs=14)]: Done 172 tasks      | elapsed:    0.2s\n",
      "[Parallel(n_jobs=14)]: Done 422 tasks      | elapsed:    0.6s\n",
      "[Parallel(n_jobs=14)]: Done 489 out of 489 | elapsed:    0.6s finished\n"
     ]
    },
    {
     "name": "stdout",
     "output_type": "stream",
     "text": [
      "Iteration: \t538 / 1000\n",
      "Confirmed: \t81\n",
      "Tentative: \t27\n",
      "Rejected: \t4892\n"
     ]
    },
    {
     "name": "stderr",
     "output_type": "stream",
     "text": [
      "[Parallel(n_jobs=14)]: Using backend ThreadingBackend with 14 concurrent workers.\n",
      "[Parallel(n_jobs=14)]: Done  22 tasks      | elapsed:    0.0s\n",
      "[Parallel(n_jobs=14)]: Done 172 tasks      | elapsed:    0.2s\n",
      "[Parallel(n_jobs=14)]: Done 422 tasks      | elapsed:    0.6s\n",
      "[Parallel(n_jobs=14)]: Done 489 out of 489 | elapsed:    0.6s finished\n"
     ]
    },
    {
     "name": "stdout",
     "output_type": "stream",
     "text": [
      "Iteration: \t539 / 1000\n",
      "Confirmed: \t81\n",
      "Tentative: \t27\n",
      "Rejected: \t4892\n"
     ]
    },
    {
     "name": "stderr",
     "output_type": "stream",
     "text": [
      "[Parallel(n_jobs=14)]: Using backend ThreadingBackend with 14 concurrent workers.\n",
      "[Parallel(n_jobs=14)]: Done  22 tasks      | elapsed:    0.1s\n",
      "[Parallel(n_jobs=14)]: Done 172 tasks      | elapsed:    0.3s\n",
      "[Parallel(n_jobs=14)]: Done 422 tasks      | elapsed:    0.6s\n",
      "[Parallel(n_jobs=14)]: Done 489 out of 489 | elapsed:    0.7s finished\n"
     ]
    },
    {
     "name": "stdout",
     "output_type": "stream",
     "text": [
      "Iteration: \t540 / 1000\n",
      "Confirmed: \t81\n",
      "Tentative: \t27\n",
      "Rejected: \t4892\n"
     ]
    },
    {
     "name": "stderr",
     "output_type": "stream",
     "text": [
      "[Parallel(n_jobs=14)]: Using backend ThreadingBackend with 14 concurrent workers.\n",
      "[Parallel(n_jobs=14)]: Done  22 tasks      | elapsed:    0.0s\n",
      "[Parallel(n_jobs=14)]: Done 172 tasks      | elapsed:    0.2s\n",
      "[Parallel(n_jobs=14)]: Done 422 tasks      | elapsed:    0.6s\n",
      "[Parallel(n_jobs=14)]: Done 489 out of 489 | elapsed:    0.6s finished\n"
     ]
    },
    {
     "name": "stdout",
     "output_type": "stream",
     "text": [
      "Iteration: \t541 / 1000\n",
      "Confirmed: \t81\n",
      "Tentative: \t27\n",
      "Rejected: \t4892\n"
     ]
    },
    {
     "name": "stderr",
     "output_type": "stream",
     "text": [
      "[Parallel(n_jobs=14)]: Using backend ThreadingBackend with 14 concurrent workers.\n",
      "[Parallel(n_jobs=14)]: Done  22 tasks      | elapsed:    0.0s\n",
      "[Parallel(n_jobs=14)]: Done 172 tasks      | elapsed:    0.2s\n",
      "[Parallel(n_jobs=14)]: Done 422 tasks      | elapsed:    0.6s\n",
      "[Parallel(n_jobs=14)]: Done 489 out of 489 | elapsed:    0.6s finished\n"
     ]
    },
    {
     "name": "stdout",
     "output_type": "stream",
     "text": [
      "Iteration: \t542 / 1000\n",
      "Confirmed: \t81\n",
      "Tentative: \t27\n",
      "Rejected: \t4892\n"
     ]
    },
    {
     "name": "stderr",
     "output_type": "stream",
     "text": [
      "[Parallel(n_jobs=14)]: Using backend ThreadingBackend with 14 concurrent workers.\n",
      "[Parallel(n_jobs=14)]: Done  22 tasks      | elapsed:    0.0s\n",
      "[Parallel(n_jobs=14)]: Done 172 tasks      | elapsed:    0.2s\n",
      "[Parallel(n_jobs=14)]: Done 422 tasks      | elapsed:    0.5s\n",
      "[Parallel(n_jobs=14)]: Done 489 out of 489 | elapsed:    0.6s finished\n"
     ]
    },
    {
     "name": "stdout",
     "output_type": "stream",
     "text": [
      "Iteration: \t543 / 1000\n",
      "Confirmed: \t81\n",
      "Tentative: \t27\n",
      "Rejected: \t4892\n"
     ]
    },
    {
     "name": "stderr",
     "output_type": "stream",
     "text": [
      "[Parallel(n_jobs=14)]: Using backend ThreadingBackend with 14 concurrent workers.\n",
      "[Parallel(n_jobs=14)]: Done  22 tasks      | elapsed:    0.0s\n",
      "[Parallel(n_jobs=14)]: Done 172 tasks      | elapsed:    0.2s\n",
      "[Parallel(n_jobs=14)]: Done 422 tasks      | elapsed:    0.5s\n",
      "[Parallel(n_jobs=14)]: Done 489 out of 489 | elapsed:    0.6s finished\n"
     ]
    },
    {
     "name": "stdout",
     "output_type": "stream",
     "text": [
      "Iteration: \t544 / 1000\n",
      "Confirmed: \t81\n",
      "Tentative: \t27\n",
      "Rejected: \t4892\n"
     ]
    },
    {
     "name": "stderr",
     "output_type": "stream",
     "text": [
      "[Parallel(n_jobs=14)]: Using backend ThreadingBackend with 14 concurrent workers.\n",
      "[Parallel(n_jobs=14)]: Done  22 tasks      | elapsed:    0.0s\n",
      "[Parallel(n_jobs=14)]: Done 172 tasks      | elapsed:    0.2s\n",
      "[Parallel(n_jobs=14)]: Done 422 tasks      | elapsed:    0.5s\n",
      "[Parallel(n_jobs=14)]: Done 489 out of 489 | elapsed:    0.6s finished\n"
     ]
    },
    {
     "name": "stdout",
     "output_type": "stream",
     "text": [
      "Iteration: \t545 / 1000\n",
      "Confirmed: \t81\n",
      "Tentative: \t27\n",
      "Rejected: \t4892\n"
     ]
    },
    {
     "name": "stderr",
     "output_type": "stream",
     "text": [
      "[Parallel(n_jobs=14)]: Using backend ThreadingBackend with 14 concurrent workers.\n",
      "[Parallel(n_jobs=14)]: Done  22 tasks      | elapsed:    0.0s\n",
      "[Parallel(n_jobs=14)]: Done 172 tasks      | elapsed:    0.2s\n",
      "[Parallel(n_jobs=14)]: Done 422 tasks      | elapsed:    0.6s\n",
      "[Parallel(n_jobs=14)]: Done 489 out of 489 | elapsed:    0.6s finished\n"
     ]
    },
    {
     "name": "stdout",
     "output_type": "stream",
     "text": [
      "Iteration: \t546 / 1000\n",
      "Confirmed: \t81\n",
      "Tentative: \t27\n",
      "Rejected: \t4892\n"
     ]
    },
    {
     "name": "stderr",
     "output_type": "stream",
     "text": [
      "[Parallel(n_jobs=14)]: Using backend ThreadingBackend with 14 concurrent workers.\n",
      "[Parallel(n_jobs=14)]: Done  22 tasks      | elapsed:    0.0s\n",
      "[Parallel(n_jobs=14)]: Done 172 tasks      | elapsed:    0.2s\n",
      "[Parallel(n_jobs=14)]: Done 422 tasks      | elapsed:    0.5s\n",
      "[Parallel(n_jobs=14)]: Done 489 out of 489 | elapsed:    0.6s finished\n"
     ]
    },
    {
     "name": "stdout",
     "output_type": "stream",
     "text": [
      "Iteration: \t547 / 1000\n",
      "Confirmed: \t81\n",
      "Tentative: \t27\n",
      "Rejected: \t4892\n"
     ]
    },
    {
     "name": "stderr",
     "output_type": "stream",
     "text": [
      "[Parallel(n_jobs=14)]: Using backend ThreadingBackend with 14 concurrent workers.\n",
      "[Parallel(n_jobs=14)]: Done  22 tasks      | elapsed:    0.0s\n",
      "[Parallel(n_jobs=14)]: Done 172 tasks      | elapsed:    0.2s\n",
      "[Parallel(n_jobs=14)]: Done 422 tasks      | elapsed:    0.5s\n",
      "[Parallel(n_jobs=14)]: Done 489 out of 489 | elapsed:    0.6s finished\n"
     ]
    },
    {
     "name": "stdout",
     "output_type": "stream",
     "text": [
      "Iteration: \t548 / 1000\n",
      "Confirmed: \t81\n",
      "Tentative: \t27\n",
      "Rejected: \t4892\n"
     ]
    },
    {
     "name": "stderr",
     "output_type": "stream",
     "text": [
      "[Parallel(n_jobs=14)]: Using backend ThreadingBackend with 14 concurrent workers.\n",
      "[Parallel(n_jobs=14)]: Done  22 tasks      | elapsed:    0.0s\n",
      "[Parallel(n_jobs=14)]: Done 172 tasks      | elapsed:    0.2s\n",
      "[Parallel(n_jobs=14)]: Done 422 tasks      | elapsed:    0.5s\n",
      "[Parallel(n_jobs=14)]: Done 489 out of 489 | elapsed:    0.6s finished\n"
     ]
    },
    {
     "name": "stdout",
     "output_type": "stream",
     "text": [
      "Iteration: \t549 / 1000\n",
      "Confirmed: \t81\n",
      "Tentative: \t27\n",
      "Rejected: \t4892\n"
     ]
    },
    {
     "name": "stderr",
     "output_type": "stream",
     "text": [
      "[Parallel(n_jobs=14)]: Using backend ThreadingBackend with 14 concurrent workers.\n",
      "[Parallel(n_jobs=14)]: Done  22 tasks      | elapsed:    0.0s\n",
      "[Parallel(n_jobs=14)]: Done 172 tasks      | elapsed:    0.2s\n",
      "[Parallel(n_jobs=14)]: Done 422 tasks      | elapsed:    0.5s\n",
      "[Parallel(n_jobs=14)]: Done 489 out of 489 | elapsed:    0.6s finished\n"
     ]
    },
    {
     "name": "stdout",
     "output_type": "stream",
     "text": [
      "Iteration: \t550 / 1000\n",
      "Confirmed: \t81\n",
      "Tentative: \t27\n",
      "Rejected: \t4892\n"
     ]
    },
    {
     "name": "stderr",
     "output_type": "stream",
     "text": [
      "[Parallel(n_jobs=14)]: Using backend ThreadingBackend with 14 concurrent workers.\n",
      "[Parallel(n_jobs=14)]: Done  22 tasks      | elapsed:    0.0s\n",
      "[Parallel(n_jobs=14)]: Done 172 tasks      | elapsed:    0.2s\n",
      "[Parallel(n_jobs=14)]: Done 422 tasks      | elapsed:    0.6s\n",
      "[Parallel(n_jobs=14)]: Done 489 out of 489 | elapsed:    0.6s finished\n"
     ]
    },
    {
     "name": "stdout",
     "output_type": "stream",
     "text": [
      "Iteration: \t551 / 1000\n",
      "Confirmed: \t81\n",
      "Tentative: \t27\n",
      "Rejected: \t4892\n"
     ]
    },
    {
     "name": "stderr",
     "output_type": "stream",
     "text": [
      "[Parallel(n_jobs=14)]: Using backend ThreadingBackend with 14 concurrent workers.\n",
      "[Parallel(n_jobs=14)]: Done  22 tasks      | elapsed:    0.0s\n",
      "[Parallel(n_jobs=14)]: Done 172 tasks      | elapsed:    0.2s\n",
      "[Parallel(n_jobs=14)]: Done 422 tasks      | elapsed:    0.5s\n",
      "[Parallel(n_jobs=14)]: Done 489 out of 489 | elapsed:    0.6s finished\n"
     ]
    },
    {
     "name": "stdout",
     "output_type": "stream",
     "text": [
      "Iteration: \t552 / 1000\n",
      "Confirmed: \t81\n",
      "Tentative: \t27\n",
      "Rejected: \t4892\n"
     ]
    },
    {
     "name": "stderr",
     "output_type": "stream",
     "text": [
      "[Parallel(n_jobs=14)]: Using backend ThreadingBackend with 14 concurrent workers.\n",
      "[Parallel(n_jobs=14)]: Done  22 tasks      | elapsed:    0.0s\n",
      "[Parallel(n_jobs=14)]: Done 172 tasks      | elapsed:    0.2s\n",
      "[Parallel(n_jobs=14)]: Done 422 tasks      | elapsed:    0.5s\n",
      "[Parallel(n_jobs=14)]: Done 489 out of 489 | elapsed:    0.6s finished\n"
     ]
    },
    {
     "name": "stdout",
     "output_type": "stream",
     "text": [
      "Iteration: \t553 / 1000\n",
      "Confirmed: \t81\n",
      "Tentative: \t27\n",
      "Rejected: \t4892\n"
     ]
    },
    {
     "name": "stderr",
     "output_type": "stream",
     "text": [
      "[Parallel(n_jobs=14)]: Using backend ThreadingBackend with 14 concurrent workers.\n",
      "[Parallel(n_jobs=14)]: Done  22 tasks      | elapsed:    0.0s\n",
      "[Parallel(n_jobs=14)]: Done 172 tasks      | elapsed:    0.2s\n",
      "[Parallel(n_jobs=14)]: Done 422 tasks      | elapsed:    0.6s\n",
      "[Parallel(n_jobs=14)]: Done 489 out of 489 | elapsed:    0.6s finished\n"
     ]
    },
    {
     "name": "stdout",
     "output_type": "stream",
     "text": [
      "Iteration: \t554 / 1000\n",
      "Confirmed: \t81\n",
      "Tentative: \t27\n",
      "Rejected: \t4892\n"
     ]
    },
    {
     "name": "stderr",
     "output_type": "stream",
     "text": [
      "[Parallel(n_jobs=14)]: Using backend ThreadingBackend with 14 concurrent workers.\n",
      "[Parallel(n_jobs=14)]: Done  22 tasks      | elapsed:    0.0s\n",
      "[Parallel(n_jobs=14)]: Done 172 tasks      | elapsed:    0.2s\n",
      "[Parallel(n_jobs=14)]: Done 422 tasks      | elapsed:    0.6s\n",
      "[Parallel(n_jobs=14)]: Done 489 out of 489 | elapsed:    0.6s finished\n"
     ]
    },
    {
     "name": "stdout",
     "output_type": "stream",
     "text": [
      "Iteration: \t555 / 1000\n",
      "Confirmed: \t81\n",
      "Tentative: \t27\n",
      "Rejected: \t4892\n"
     ]
    },
    {
     "name": "stderr",
     "output_type": "stream",
     "text": [
      "[Parallel(n_jobs=14)]: Using backend ThreadingBackend with 14 concurrent workers.\n",
      "[Parallel(n_jobs=14)]: Done  22 tasks      | elapsed:    0.0s\n",
      "[Parallel(n_jobs=14)]: Done 172 tasks      | elapsed:    0.2s\n",
      "[Parallel(n_jobs=14)]: Done 422 tasks      | elapsed:    0.5s\n",
      "[Parallel(n_jobs=14)]: Done 489 out of 489 | elapsed:    0.6s finished\n"
     ]
    },
    {
     "name": "stdout",
     "output_type": "stream",
     "text": [
      "Iteration: \t556 / 1000\n",
      "Confirmed: \t81\n",
      "Tentative: \t27\n",
      "Rejected: \t4892\n"
     ]
    },
    {
     "name": "stderr",
     "output_type": "stream",
     "text": [
      "[Parallel(n_jobs=14)]: Using backend ThreadingBackend with 14 concurrent workers.\n",
      "[Parallel(n_jobs=14)]: Done  22 tasks      | elapsed:    0.0s\n",
      "[Parallel(n_jobs=14)]: Done 172 tasks      | elapsed:    0.2s\n",
      "[Parallel(n_jobs=14)]: Done 422 tasks      | elapsed:    0.6s\n",
      "[Parallel(n_jobs=14)]: Done 489 out of 489 | elapsed:    0.6s finished\n"
     ]
    },
    {
     "name": "stdout",
     "output_type": "stream",
     "text": [
      "Iteration: \t557 / 1000\n",
      "Confirmed: \t81\n",
      "Tentative: \t27\n",
      "Rejected: \t4892\n"
     ]
    },
    {
     "name": "stderr",
     "output_type": "stream",
     "text": [
      "[Parallel(n_jobs=14)]: Using backend ThreadingBackend with 14 concurrent workers.\n",
      "[Parallel(n_jobs=14)]: Done  22 tasks      | elapsed:    0.0s\n",
      "[Parallel(n_jobs=14)]: Done 172 tasks      | elapsed:    0.2s\n",
      "[Parallel(n_jobs=14)]: Done 422 tasks      | elapsed:    0.6s\n",
      "[Parallel(n_jobs=14)]: Done 489 out of 489 | elapsed:    0.6s finished\n"
     ]
    },
    {
     "name": "stdout",
     "output_type": "stream",
     "text": [
      "Iteration: \t558 / 1000\n",
      "Confirmed: \t81\n",
      "Tentative: \t27\n",
      "Rejected: \t4892\n"
     ]
    },
    {
     "name": "stderr",
     "output_type": "stream",
     "text": [
      "[Parallel(n_jobs=14)]: Using backend ThreadingBackend with 14 concurrent workers.\n",
      "[Parallel(n_jobs=14)]: Done  22 tasks      | elapsed:    0.0s\n",
      "[Parallel(n_jobs=14)]: Done 172 tasks      | elapsed:    0.2s\n",
      "[Parallel(n_jobs=14)]: Done 422 tasks      | elapsed:    0.6s\n",
      "[Parallel(n_jobs=14)]: Done 489 out of 489 | elapsed:    0.6s finished\n"
     ]
    },
    {
     "name": "stdout",
     "output_type": "stream",
     "text": [
      "Iteration: \t559 / 1000\n",
      "Confirmed: \t81\n",
      "Tentative: \t27\n",
      "Rejected: \t4892\n"
     ]
    },
    {
     "name": "stderr",
     "output_type": "stream",
     "text": [
      "[Parallel(n_jobs=14)]: Using backend ThreadingBackend with 14 concurrent workers.\n",
      "[Parallel(n_jobs=14)]: Done  22 tasks      | elapsed:    0.0s\n",
      "[Parallel(n_jobs=14)]: Done 172 tasks      | elapsed:    0.2s\n",
      "[Parallel(n_jobs=14)]: Done 422 tasks      | elapsed:    0.5s\n",
      "[Parallel(n_jobs=14)]: Done 489 out of 489 | elapsed:    0.6s finished\n"
     ]
    },
    {
     "name": "stdout",
     "output_type": "stream",
     "text": [
      "Iteration: \t560 / 1000\n",
      "Confirmed: \t81\n",
      "Tentative: \t27\n",
      "Rejected: \t4892\n"
     ]
    },
    {
     "name": "stderr",
     "output_type": "stream",
     "text": [
      "[Parallel(n_jobs=14)]: Using backend ThreadingBackend with 14 concurrent workers.\n",
      "[Parallel(n_jobs=14)]: Done  22 tasks      | elapsed:    0.0s\n",
      "[Parallel(n_jobs=14)]: Done 172 tasks      | elapsed:    0.2s\n",
      "[Parallel(n_jobs=14)]: Done 422 tasks      | elapsed:    0.5s\n",
      "[Parallel(n_jobs=14)]: Done 489 out of 489 | elapsed:    0.6s finished\n"
     ]
    },
    {
     "name": "stdout",
     "output_type": "stream",
     "text": [
      "Iteration: \t561 / 1000\n",
      "Confirmed: \t81\n",
      "Tentative: \t27\n",
      "Rejected: \t4892\n"
     ]
    },
    {
     "name": "stderr",
     "output_type": "stream",
     "text": [
      "[Parallel(n_jobs=14)]: Using backend ThreadingBackend with 14 concurrent workers.\n",
      "[Parallel(n_jobs=14)]: Done  22 tasks      | elapsed:    0.0s\n",
      "[Parallel(n_jobs=14)]: Done 172 tasks      | elapsed:    0.2s\n",
      "[Parallel(n_jobs=14)]: Done 422 tasks      | elapsed:    0.5s\n",
      "[Parallel(n_jobs=14)]: Done 489 out of 489 | elapsed:    0.6s finished\n"
     ]
    },
    {
     "name": "stdout",
     "output_type": "stream",
     "text": [
      "Iteration: \t562 / 1000\n",
      "Confirmed: \t81\n",
      "Tentative: \t27\n",
      "Rejected: \t4892\n"
     ]
    },
    {
     "name": "stderr",
     "output_type": "stream",
     "text": [
      "[Parallel(n_jobs=14)]: Using backend ThreadingBackend with 14 concurrent workers.\n",
      "[Parallel(n_jobs=14)]: Done  22 tasks      | elapsed:    0.0s\n",
      "[Parallel(n_jobs=14)]: Done 172 tasks      | elapsed:    0.2s\n",
      "[Parallel(n_jobs=14)]: Done 422 tasks      | elapsed:    0.6s\n",
      "[Parallel(n_jobs=14)]: Done 489 out of 489 | elapsed:    0.6s finished\n"
     ]
    },
    {
     "name": "stdout",
     "output_type": "stream",
     "text": [
      "Iteration: \t563 / 1000\n",
      "Confirmed: \t81\n",
      "Tentative: \t27\n",
      "Rejected: \t4892\n"
     ]
    },
    {
     "name": "stderr",
     "output_type": "stream",
     "text": [
      "[Parallel(n_jobs=14)]: Using backend ThreadingBackend with 14 concurrent workers.\n",
      "[Parallel(n_jobs=14)]: Done  22 tasks      | elapsed:    0.0s\n",
      "[Parallel(n_jobs=14)]: Done 172 tasks      | elapsed:    0.2s\n",
      "[Parallel(n_jobs=14)]: Done 422 tasks      | elapsed:    0.6s\n",
      "[Parallel(n_jobs=14)]: Done 489 out of 489 | elapsed:    0.6s finished\n"
     ]
    },
    {
     "name": "stdout",
     "output_type": "stream",
     "text": [
      "Iteration: \t564 / 1000\n",
      "Confirmed: \t81\n",
      "Tentative: \t27\n",
      "Rejected: \t4892\n"
     ]
    },
    {
     "name": "stderr",
     "output_type": "stream",
     "text": [
      "[Parallel(n_jobs=14)]: Using backend ThreadingBackend with 14 concurrent workers.\n",
      "[Parallel(n_jobs=14)]: Done  22 tasks      | elapsed:    0.0s\n",
      "[Parallel(n_jobs=14)]: Done 172 tasks      | elapsed:    0.2s\n",
      "[Parallel(n_jobs=14)]: Done 422 tasks      | elapsed:    0.5s\n",
      "[Parallel(n_jobs=14)]: Done 489 out of 489 | elapsed:    0.6s finished\n"
     ]
    },
    {
     "name": "stdout",
     "output_type": "stream",
     "text": [
      "Iteration: \t565 / 1000\n",
      "Confirmed: \t81\n",
      "Tentative: \t27\n",
      "Rejected: \t4892\n"
     ]
    },
    {
     "name": "stderr",
     "output_type": "stream",
     "text": [
      "[Parallel(n_jobs=14)]: Using backend ThreadingBackend with 14 concurrent workers.\n",
      "[Parallel(n_jobs=14)]: Done  22 tasks      | elapsed:    0.0s\n",
      "[Parallel(n_jobs=14)]: Done 172 tasks      | elapsed:    0.2s\n",
      "[Parallel(n_jobs=14)]: Done 422 tasks      | elapsed:    0.5s\n",
      "[Parallel(n_jobs=14)]: Done 489 out of 489 | elapsed:    0.6s finished\n"
     ]
    },
    {
     "name": "stdout",
     "output_type": "stream",
     "text": [
      "Iteration: \t566 / 1000\n",
      "Confirmed: \t81\n",
      "Tentative: \t27\n",
      "Rejected: \t4892\n"
     ]
    },
    {
     "name": "stderr",
     "output_type": "stream",
     "text": [
      "[Parallel(n_jobs=14)]: Using backend ThreadingBackend with 14 concurrent workers.\n",
      "[Parallel(n_jobs=14)]: Done  22 tasks      | elapsed:    0.0s\n",
      "[Parallel(n_jobs=14)]: Done 172 tasks      | elapsed:    0.2s\n",
      "[Parallel(n_jobs=14)]: Done 422 tasks      | elapsed:    0.5s\n",
      "[Parallel(n_jobs=14)]: Done 489 out of 489 | elapsed:    0.6s finished\n"
     ]
    },
    {
     "name": "stdout",
     "output_type": "stream",
     "text": [
      "Iteration: \t567 / 1000\n",
      "Confirmed: \t81\n",
      "Tentative: \t27\n",
      "Rejected: \t4892\n"
     ]
    },
    {
     "name": "stderr",
     "output_type": "stream",
     "text": [
      "[Parallel(n_jobs=14)]: Using backend ThreadingBackend with 14 concurrent workers.\n",
      "[Parallel(n_jobs=14)]: Done  22 tasks      | elapsed:    0.0s\n",
      "[Parallel(n_jobs=14)]: Done 172 tasks      | elapsed:    0.2s\n",
      "[Parallel(n_jobs=14)]: Done 422 tasks      | elapsed:    0.5s\n",
      "[Parallel(n_jobs=14)]: Done 489 out of 489 | elapsed:    0.6s finished\n"
     ]
    },
    {
     "name": "stdout",
     "output_type": "stream",
     "text": [
      "Iteration: \t568 / 1000\n",
      "Confirmed: \t81\n",
      "Tentative: \t27\n",
      "Rejected: \t4892\n"
     ]
    },
    {
     "name": "stderr",
     "output_type": "stream",
     "text": [
      "[Parallel(n_jobs=14)]: Using backend ThreadingBackend with 14 concurrent workers.\n",
      "[Parallel(n_jobs=14)]: Done  22 tasks      | elapsed:    0.0s\n",
      "[Parallel(n_jobs=14)]: Done 172 tasks      | elapsed:    0.2s\n",
      "[Parallel(n_jobs=14)]: Done 422 tasks      | elapsed:    0.5s\n",
      "[Parallel(n_jobs=14)]: Done 489 out of 489 | elapsed:    0.6s finished\n"
     ]
    },
    {
     "name": "stdout",
     "output_type": "stream",
     "text": [
      "Iteration: \t569 / 1000\n",
      "Confirmed: \t81\n",
      "Tentative: \t27\n",
      "Rejected: \t4892\n"
     ]
    },
    {
     "name": "stderr",
     "output_type": "stream",
     "text": [
      "[Parallel(n_jobs=14)]: Using backend ThreadingBackend with 14 concurrent workers.\n",
      "[Parallel(n_jobs=14)]: Done  22 tasks      | elapsed:    0.0s\n",
      "[Parallel(n_jobs=14)]: Done 172 tasks      | elapsed:    0.2s\n",
      "[Parallel(n_jobs=14)]: Done 422 tasks      | elapsed:    0.5s\n",
      "[Parallel(n_jobs=14)]: Done 489 out of 489 | elapsed:    0.6s finished\n"
     ]
    },
    {
     "name": "stdout",
     "output_type": "stream",
     "text": [
      "Iteration: \t570 / 1000\n",
      "Confirmed: \t81\n",
      "Tentative: \t27\n",
      "Rejected: \t4892\n"
     ]
    },
    {
     "name": "stderr",
     "output_type": "stream",
     "text": [
      "[Parallel(n_jobs=14)]: Using backend ThreadingBackend with 14 concurrent workers.\n",
      "[Parallel(n_jobs=14)]: Done  22 tasks      | elapsed:    0.0s\n",
      "[Parallel(n_jobs=14)]: Done 172 tasks      | elapsed:    0.2s\n",
      "[Parallel(n_jobs=14)]: Done 422 tasks      | elapsed:    0.6s\n",
      "[Parallel(n_jobs=14)]: Done 489 out of 489 | elapsed:    0.6s finished\n"
     ]
    },
    {
     "name": "stdout",
     "output_type": "stream",
     "text": [
      "Iteration: \t571 / 1000\n",
      "Confirmed: \t81\n",
      "Tentative: \t27\n",
      "Rejected: \t4892\n"
     ]
    },
    {
     "name": "stderr",
     "output_type": "stream",
     "text": [
      "[Parallel(n_jobs=14)]: Using backend ThreadingBackend with 14 concurrent workers.\n",
      "[Parallel(n_jobs=14)]: Done  22 tasks      | elapsed:    0.0s\n",
      "[Parallel(n_jobs=14)]: Done 172 tasks      | elapsed:    0.2s\n",
      "[Parallel(n_jobs=14)]: Done 422 tasks      | elapsed:    0.6s\n",
      "[Parallel(n_jobs=14)]: Done 489 out of 489 | elapsed:    0.6s finished\n"
     ]
    },
    {
     "name": "stdout",
     "output_type": "stream",
     "text": [
      "Iteration: \t572 / 1000\n",
      "Confirmed: \t81\n",
      "Tentative: \t27\n",
      "Rejected: \t4892\n"
     ]
    },
    {
     "name": "stderr",
     "output_type": "stream",
     "text": [
      "[Parallel(n_jobs=14)]: Using backend ThreadingBackend with 14 concurrent workers.\n",
      "[Parallel(n_jobs=14)]: Done  22 tasks      | elapsed:    0.0s\n",
      "[Parallel(n_jobs=14)]: Done 172 tasks      | elapsed:    0.2s\n",
      "[Parallel(n_jobs=14)]: Done 422 tasks      | elapsed:    0.6s\n",
      "[Parallel(n_jobs=14)]: Done 489 out of 489 | elapsed:    0.6s finished\n"
     ]
    },
    {
     "name": "stdout",
     "output_type": "stream",
     "text": [
      "Iteration: \t573 / 1000\n",
      "Confirmed: \t81\n",
      "Tentative: \t27\n",
      "Rejected: \t4892\n"
     ]
    },
    {
     "name": "stderr",
     "output_type": "stream",
     "text": [
      "[Parallel(n_jobs=14)]: Using backend ThreadingBackend with 14 concurrent workers.\n",
      "[Parallel(n_jobs=14)]: Done  22 tasks      | elapsed:    0.0s\n",
      "[Parallel(n_jobs=14)]: Done 172 tasks      | elapsed:    0.2s\n",
      "[Parallel(n_jobs=14)]: Done 422 tasks      | elapsed:    0.5s\n",
      "[Parallel(n_jobs=14)]: Done 489 out of 489 | elapsed:    0.6s finished\n"
     ]
    },
    {
     "name": "stdout",
     "output_type": "stream",
     "text": [
      "Iteration: \t574 / 1000\n",
      "Confirmed: \t81\n",
      "Tentative: \t27\n",
      "Rejected: \t4892\n"
     ]
    },
    {
     "name": "stderr",
     "output_type": "stream",
     "text": [
      "[Parallel(n_jobs=14)]: Using backend ThreadingBackend with 14 concurrent workers.\n",
      "[Parallel(n_jobs=14)]: Done  22 tasks      | elapsed:    0.0s\n",
      "[Parallel(n_jobs=14)]: Done 172 tasks      | elapsed:    0.2s\n",
      "[Parallel(n_jobs=14)]: Done 422 tasks      | elapsed:    0.5s\n",
      "[Parallel(n_jobs=14)]: Done 489 out of 489 | elapsed:    0.6s finished\n"
     ]
    },
    {
     "name": "stdout",
     "output_type": "stream",
     "text": [
      "Iteration: \t575 / 1000\n",
      "Confirmed: \t81\n",
      "Tentative: \t27\n",
      "Rejected: \t4892\n"
     ]
    },
    {
     "name": "stderr",
     "output_type": "stream",
     "text": [
      "[Parallel(n_jobs=14)]: Using backend ThreadingBackend with 14 concurrent workers.\n",
      "[Parallel(n_jobs=14)]: Done  22 tasks      | elapsed:    0.0s\n",
      "[Parallel(n_jobs=14)]: Done 172 tasks      | elapsed:    0.2s\n",
      "[Parallel(n_jobs=14)]: Done 422 tasks      | elapsed:    0.5s\n",
      "[Parallel(n_jobs=14)]: Done 489 out of 489 | elapsed:    0.6s finished\n"
     ]
    },
    {
     "name": "stdout",
     "output_type": "stream",
     "text": [
      "Iteration: \t576 / 1000\n",
      "Confirmed: \t81\n",
      "Tentative: \t27\n",
      "Rejected: \t4892\n"
     ]
    },
    {
     "name": "stderr",
     "output_type": "stream",
     "text": [
      "[Parallel(n_jobs=14)]: Using backend ThreadingBackend with 14 concurrent workers.\n",
      "[Parallel(n_jobs=14)]: Done  22 tasks      | elapsed:    0.0s\n",
      "[Parallel(n_jobs=14)]: Done 172 tasks      | elapsed:    0.2s\n",
      "[Parallel(n_jobs=14)]: Done 422 tasks      | elapsed:    0.6s\n",
      "[Parallel(n_jobs=14)]: Done 489 out of 489 | elapsed:    0.6s finished\n"
     ]
    },
    {
     "name": "stdout",
     "output_type": "stream",
     "text": [
      "Iteration: \t577 / 1000\n",
      "Confirmed: \t81\n",
      "Tentative: \t27\n",
      "Rejected: \t4892\n"
     ]
    },
    {
     "name": "stderr",
     "output_type": "stream",
     "text": [
      "[Parallel(n_jobs=14)]: Using backend ThreadingBackend with 14 concurrent workers.\n",
      "[Parallel(n_jobs=14)]: Done  22 tasks      | elapsed:    0.0s\n",
      "[Parallel(n_jobs=14)]: Done 172 tasks      | elapsed:    0.2s\n",
      "[Parallel(n_jobs=14)]: Done 422 tasks      | elapsed:    0.5s\n",
      "[Parallel(n_jobs=14)]: Done 489 out of 489 | elapsed:    0.6s finished\n"
     ]
    },
    {
     "name": "stdout",
     "output_type": "stream",
     "text": [
      "Iteration: \t578 / 1000\n",
      "Confirmed: \t81\n",
      "Tentative: \t27\n",
      "Rejected: \t4892\n"
     ]
    },
    {
     "name": "stderr",
     "output_type": "stream",
     "text": [
      "[Parallel(n_jobs=14)]: Using backend ThreadingBackend with 14 concurrent workers.\n",
      "[Parallel(n_jobs=14)]: Done  22 tasks      | elapsed:    0.0s\n",
      "[Parallel(n_jobs=14)]: Done 172 tasks      | elapsed:    0.2s\n",
      "[Parallel(n_jobs=14)]: Done 422 tasks      | elapsed:    0.6s\n",
      "[Parallel(n_jobs=14)]: Done 489 out of 489 | elapsed:    0.6s finished\n"
     ]
    },
    {
     "name": "stdout",
     "output_type": "stream",
     "text": [
      "Iteration: \t579 / 1000\n",
      "Confirmed: \t81\n",
      "Tentative: \t27\n",
      "Rejected: \t4892\n"
     ]
    },
    {
     "name": "stderr",
     "output_type": "stream",
     "text": [
      "[Parallel(n_jobs=14)]: Using backend ThreadingBackend with 14 concurrent workers.\n",
      "[Parallel(n_jobs=14)]: Done  22 tasks      | elapsed:    0.0s\n",
      "[Parallel(n_jobs=14)]: Done 172 tasks      | elapsed:    0.2s\n",
      "[Parallel(n_jobs=14)]: Done 422 tasks      | elapsed:    0.6s\n",
      "[Parallel(n_jobs=14)]: Done 489 out of 489 | elapsed:    0.6s finished\n"
     ]
    },
    {
     "name": "stdout",
     "output_type": "stream",
     "text": [
      "Iteration: \t580 / 1000\n",
      "Confirmed: \t81\n",
      "Tentative: \t27\n",
      "Rejected: \t4892\n"
     ]
    },
    {
     "name": "stderr",
     "output_type": "stream",
     "text": [
      "[Parallel(n_jobs=14)]: Using backend ThreadingBackend with 14 concurrent workers.\n",
      "[Parallel(n_jobs=14)]: Done  22 tasks      | elapsed:    0.0s\n",
      "[Parallel(n_jobs=14)]: Done 172 tasks      | elapsed:    0.2s\n",
      "[Parallel(n_jobs=14)]: Done 422 tasks      | elapsed:    0.6s\n",
      "[Parallel(n_jobs=14)]: Done 489 out of 489 | elapsed:    0.6s finished\n"
     ]
    },
    {
     "name": "stdout",
     "output_type": "stream",
     "text": [
      "Iteration: \t581 / 1000\n",
      "Confirmed: \t81\n",
      "Tentative: \t27\n",
      "Rejected: \t4892\n"
     ]
    },
    {
     "name": "stderr",
     "output_type": "stream",
     "text": [
      "[Parallel(n_jobs=14)]: Using backend ThreadingBackend with 14 concurrent workers.\n",
      "[Parallel(n_jobs=14)]: Done  22 tasks      | elapsed:    0.0s\n",
      "[Parallel(n_jobs=14)]: Done 172 tasks      | elapsed:    0.2s\n",
      "[Parallel(n_jobs=14)]: Done 422 tasks      | elapsed:    0.6s\n",
      "[Parallel(n_jobs=14)]: Done 489 out of 489 | elapsed:    0.6s finished\n"
     ]
    },
    {
     "name": "stdout",
     "output_type": "stream",
     "text": [
      "Iteration: \t582 / 1000\n",
      "Confirmed: \t81\n",
      "Tentative: \t27\n",
      "Rejected: \t4892\n"
     ]
    },
    {
     "name": "stderr",
     "output_type": "stream",
     "text": [
      "[Parallel(n_jobs=14)]: Using backend ThreadingBackend with 14 concurrent workers.\n",
      "[Parallel(n_jobs=14)]: Done  22 tasks      | elapsed:    0.0s\n",
      "[Parallel(n_jobs=14)]: Done 172 tasks      | elapsed:    0.2s\n",
      "[Parallel(n_jobs=14)]: Done 422 tasks      | elapsed:    0.6s\n",
      "[Parallel(n_jobs=14)]: Done 489 out of 489 | elapsed:    0.6s finished\n"
     ]
    },
    {
     "name": "stdout",
     "output_type": "stream",
     "text": [
      "Iteration: \t583 / 1000\n",
      "Confirmed: \t81\n",
      "Tentative: \t27\n",
      "Rejected: \t4892\n"
     ]
    },
    {
     "name": "stderr",
     "output_type": "stream",
     "text": [
      "[Parallel(n_jobs=14)]: Using backend ThreadingBackend with 14 concurrent workers.\n",
      "[Parallel(n_jobs=14)]: Done  22 tasks      | elapsed:    0.0s\n",
      "[Parallel(n_jobs=14)]: Done 172 tasks      | elapsed:    0.2s\n",
      "[Parallel(n_jobs=14)]: Done 422 tasks      | elapsed:    0.6s\n",
      "[Parallel(n_jobs=14)]: Done 489 out of 489 | elapsed:    0.6s finished\n"
     ]
    },
    {
     "name": "stdout",
     "output_type": "stream",
     "text": [
      "Iteration: \t584 / 1000\n",
      "Confirmed: \t81\n",
      "Tentative: \t27\n",
      "Rejected: \t4892\n"
     ]
    },
    {
     "name": "stderr",
     "output_type": "stream",
     "text": [
      "[Parallel(n_jobs=14)]: Using backend ThreadingBackend with 14 concurrent workers.\n",
      "[Parallel(n_jobs=14)]: Done  22 tasks      | elapsed:    0.0s\n",
      "[Parallel(n_jobs=14)]: Done 172 tasks      | elapsed:    0.2s\n",
      "[Parallel(n_jobs=14)]: Done 422 tasks      | elapsed:    0.5s\n",
      "[Parallel(n_jobs=14)]: Done 489 out of 489 | elapsed:    0.6s finished\n"
     ]
    },
    {
     "name": "stdout",
     "output_type": "stream",
     "text": [
      "Iteration: \t585 / 1000\n",
      "Confirmed: \t81\n",
      "Tentative: \t27\n",
      "Rejected: \t4892\n"
     ]
    },
    {
     "name": "stderr",
     "output_type": "stream",
     "text": [
      "[Parallel(n_jobs=14)]: Using backend ThreadingBackend with 14 concurrent workers.\n",
      "[Parallel(n_jobs=14)]: Done  22 tasks      | elapsed:    0.0s\n",
      "[Parallel(n_jobs=14)]: Done 172 tasks      | elapsed:    0.2s\n",
      "[Parallel(n_jobs=14)]: Done 422 tasks      | elapsed:    0.6s\n",
      "[Parallel(n_jobs=14)]: Done 489 out of 489 | elapsed:    0.6s finished\n"
     ]
    },
    {
     "name": "stdout",
     "output_type": "stream",
     "text": [
      "Iteration: \t586 / 1000\n",
      "Confirmed: \t81\n",
      "Tentative: \t27\n",
      "Rejected: \t4892\n"
     ]
    },
    {
     "name": "stderr",
     "output_type": "stream",
     "text": [
      "[Parallel(n_jobs=14)]: Using backend ThreadingBackend with 14 concurrent workers.\n",
      "[Parallel(n_jobs=14)]: Done  22 tasks      | elapsed:    0.0s\n",
      "[Parallel(n_jobs=14)]: Done 172 tasks      | elapsed:    0.2s\n",
      "[Parallel(n_jobs=14)]: Done 422 tasks      | elapsed:    0.5s\n",
      "[Parallel(n_jobs=14)]: Done 489 out of 489 | elapsed:    0.6s finished\n"
     ]
    },
    {
     "name": "stdout",
     "output_type": "stream",
     "text": [
      "Iteration: \t587 / 1000\n",
      "Confirmed: \t81\n",
      "Tentative: \t27\n",
      "Rejected: \t4892\n"
     ]
    },
    {
     "name": "stderr",
     "output_type": "stream",
     "text": [
      "[Parallel(n_jobs=14)]: Using backend ThreadingBackend with 14 concurrent workers.\n",
      "[Parallel(n_jobs=14)]: Done  22 tasks      | elapsed:    0.0s\n",
      "[Parallel(n_jobs=14)]: Done 172 tasks      | elapsed:    0.2s\n",
      "[Parallel(n_jobs=14)]: Done 422 tasks      | elapsed:    0.5s\n",
      "[Parallel(n_jobs=14)]: Done 489 out of 489 | elapsed:    0.6s finished\n"
     ]
    },
    {
     "name": "stdout",
     "output_type": "stream",
     "text": [
      "Iteration: \t588 / 1000\n",
      "Confirmed: \t81\n",
      "Tentative: \t27\n",
      "Rejected: \t4892\n"
     ]
    },
    {
     "name": "stderr",
     "output_type": "stream",
     "text": [
      "[Parallel(n_jobs=14)]: Using backend ThreadingBackend with 14 concurrent workers.\n",
      "[Parallel(n_jobs=14)]: Done  22 tasks      | elapsed:    0.0s\n",
      "[Parallel(n_jobs=14)]: Done 172 tasks      | elapsed:    0.2s\n",
      "[Parallel(n_jobs=14)]: Done 422 tasks      | elapsed:    0.6s\n",
      "[Parallel(n_jobs=14)]: Done 489 out of 489 | elapsed:    0.6s finished\n"
     ]
    },
    {
     "name": "stdout",
     "output_type": "stream",
     "text": [
      "Iteration: \t589 / 1000\n",
      "Confirmed: \t81\n",
      "Tentative: \t27\n",
      "Rejected: \t4892\n"
     ]
    },
    {
     "name": "stderr",
     "output_type": "stream",
     "text": [
      "[Parallel(n_jobs=14)]: Using backend ThreadingBackend with 14 concurrent workers.\n",
      "[Parallel(n_jobs=14)]: Done  22 tasks      | elapsed:    0.0s\n",
      "[Parallel(n_jobs=14)]: Done 172 tasks      | elapsed:    0.2s\n",
      "[Parallel(n_jobs=14)]: Done 422 tasks      | elapsed:    0.5s\n",
      "[Parallel(n_jobs=14)]: Done 489 out of 489 | elapsed:    0.6s finished\n"
     ]
    },
    {
     "name": "stdout",
     "output_type": "stream",
     "text": [
      "Iteration: \t590 / 1000\n",
      "Confirmed: \t81\n",
      "Tentative: \t27\n",
      "Rejected: \t4892\n"
     ]
    },
    {
     "name": "stderr",
     "output_type": "stream",
     "text": [
      "[Parallel(n_jobs=14)]: Using backend ThreadingBackend with 14 concurrent workers.\n",
      "[Parallel(n_jobs=14)]: Done  22 tasks      | elapsed:    0.0s\n",
      "[Parallel(n_jobs=14)]: Done 172 tasks      | elapsed:    0.2s\n",
      "[Parallel(n_jobs=14)]: Done 422 tasks      | elapsed:    0.6s\n",
      "[Parallel(n_jobs=14)]: Done 489 out of 489 | elapsed:    0.6s finished\n"
     ]
    },
    {
     "name": "stdout",
     "output_type": "stream",
     "text": [
      "Iteration: \t591 / 1000\n",
      "Confirmed: \t81\n",
      "Tentative: \t27\n",
      "Rejected: \t4892\n"
     ]
    },
    {
     "name": "stderr",
     "output_type": "stream",
     "text": [
      "[Parallel(n_jobs=14)]: Using backend ThreadingBackend with 14 concurrent workers.\n",
      "[Parallel(n_jobs=14)]: Done  22 tasks      | elapsed:    0.0s\n",
      "[Parallel(n_jobs=14)]: Done 172 tasks      | elapsed:    0.2s\n",
      "[Parallel(n_jobs=14)]: Done 422 tasks      | elapsed:    0.6s\n",
      "[Parallel(n_jobs=14)]: Done 489 out of 489 | elapsed:    0.6s finished\n"
     ]
    },
    {
     "name": "stdout",
     "output_type": "stream",
     "text": [
      "Iteration: \t592 / 1000\n",
      "Confirmed: \t81\n",
      "Tentative: \t27\n",
      "Rejected: \t4892\n"
     ]
    },
    {
     "name": "stderr",
     "output_type": "stream",
     "text": [
      "[Parallel(n_jobs=14)]: Using backend ThreadingBackend with 14 concurrent workers.\n",
      "[Parallel(n_jobs=14)]: Done  22 tasks      | elapsed:    0.0s\n",
      "[Parallel(n_jobs=14)]: Done 172 tasks      | elapsed:    0.2s\n",
      "[Parallel(n_jobs=14)]: Done 422 tasks      | elapsed:    0.6s\n",
      "[Parallel(n_jobs=14)]: Done 489 out of 489 | elapsed:    0.6s finished\n"
     ]
    },
    {
     "name": "stdout",
     "output_type": "stream",
     "text": [
      "Iteration: \t593 / 1000\n",
      "Confirmed: \t81\n",
      "Tentative: \t27\n",
      "Rejected: \t4892\n"
     ]
    },
    {
     "name": "stderr",
     "output_type": "stream",
     "text": [
      "[Parallel(n_jobs=14)]: Using backend ThreadingBackend with 14 concurrent workers.\n",
      "[Parallel(n_jobs=14)]: Done  22 tasks      | elapsed:    0.0s\n",
      "[Parallel(n_jobs=14)]: Done 172 tasks      | elapsed:    0.2s\n",
      "[Parallel(n_jobs=14)]: Done 422 tasks      | elapsed:    0.6s\n",
      "[Parallel(n_jobs=14)]: Done 489 out of 489 | elapsed:    0.6s finished\n"
     ]
    },
    {
     "name": "stdout",
     "output_type": "stream",
     "text": [
      "Iteration: \t594 / 1000\n",
      "Confirmed: \t81\n",
      "Tentative: \t27\n",
      "Rejected: \t4892\n"
     ]
    },
    {
     "name": "stderr",
     "output_type": "stream",
     "text": [
      "[Parallel(n_jobs=14)]: Using backend ThreadingBackend with 14 concurrent workers.\n",
      "[Parallel(n_jobs=14)]: Done  22 tasks      | elapsed:    0.0s\n",
      "[Parallel(n_jobs=14)]: Done 172 tasks      | elapsed:    0.2s\n",
      "[Parallel(n_jobs=14)]: Done 422 tasks      | elapsed:    0.6s\n",
      "[Parallel(n_jobs=14)]: Done 489 out of 489 | elapsed:    0.6s finished\n"
     ]
    },
    {
     "name": "stdout",
     "output_type": "stream",
     "text": [
      "Iteration: \t595 / 1000\n",
      "Confirmed: \t81\n",
      "Tentative: \t27\n",
      "Rejected: \t4892\n"
     ]
    },
    {
     "name": "stderr",
     "output_type": "stream",
     "text": [
      "[Parallel(n_jobs=14)]: Using backend ThreadingBackend with 14 concurrent workers.\n",
      "[Parallel(n_jobs=14)]: Done  22 tasks      | elapsed:    0.0s\n",
      "[Parallel(n_jobs=14)]: Done 172 tasks      | elapsed:    0.2s\n",
      "[Parallel(n_jobs=14)]: Done 422 tasks      | elapsed:    0.6s\n",
      "[Parallel(n_jobs=14)]: Done 489 out of 489 | elapsed:    0.6s finished\n"
     ]
    },
    {
     "name": "stdout",
     "output_type": "stream",
     "text": [
      "Iteration: \t596 / 1000\n",
      "Confirmed: \t81\n",
      "Tentative: \t27\n",
      "Rejected: \t4892\n"
     ]
    },
    {
     "name": "stderr",
     "output_type": "stream",
     "text": [
      "[Parallel(n_jobs=14)]: Using backend ThreadingBackend with 14 concurrent workers.\n",
      "[Parallel(n_jobs=14)]: Done  22 tasks      | elapsed:    0.0s\n",
      "[Parallel(n_jobs=14)]: Done 172 tasks      | elapsed:    0.2s\n",
      "[Parallel(n_jobs=14)]: Done 422 tasks      | elapsed:    0.6s\n",
      "[Parallel(n_jobs=14)]: Done 489 out of 489 | elapsed:    0.6s finished\n"
     ]
    },
    {
     "name": "stdout",
     "output_type": "stream",
     "text": [
      "Iteration: \t597 / 1000\n",
      "Confirmed: \t81\n",
      "Tentative: \t27\n",
      "Rejected: \t4892\n"
     ]
    },
    {
     "name": "stderr",
     "output_type": "stream",
     "text": [
      "[Parallel(n_jobs=14)]: Using backend ThreadingBackend with 14 concurrent workers.\n",
      "[Parallel(n_jobs=14)]: Done  22 tasks      | elapsed:    0.0s\n",
      "[Parallel(n_jobs=14)]: Done 172 tasks      | elapsed:    0.2s\n",
      "[Parallel(n_jobs=14)]: Done 422 tasks      | elapsed:    0.6s\n",
      "[Parallel(n_jobs=14)]: Done 489 out of 489 | elapsed:    0.6s finished\n"
     ]
    },
    {
     "name": "stdout",
     "output_type": "stream",
     "text": [
      "Iteration: \t598 / 1000\n",
      "Confirmed: \t81\n",
      "Tentative: \t27\n",
      "Rejected: \t4892\n"
     ]
    },
    {
     "name": "stderr",
     "output_type": "stream",
     "text": [
      "[Parallel(n_jobs=14)]: Using backend ThreadingBackend with 14 concurrent workers.\n",
      "[Parallel(n_jobs=14)]: Done  22 tasks      | elapsed:    0.0s\n",
      "[Parallel(n_jobs=14)]: Done 172 tasks      | elapsed:    0.2s\n",
      "[Parallel(n_jobs=14)]: Done 422 tasks      | elapsed:    0.6s\n",
      "[Parallel(n_jobs=14)]: Done 489 out of 489 | elapsed:    0.6s finished\n"
     ]
    },
    {
     "name": "stdout",
     "output_type": "stream",
     "text": [
      "Iteration: \t599 / 1000\n",
      "Confirmed: \t81\n",
      "Tentative: \t27\n",
      "Rejected: \t4892\n"
     ]
    },
    {
     "name": "stderr",
     "output_type": "stream",
     "text": [
      "[Parallel(n_jobs=14)]: Using backend ThreadingBackend with 14 concurrent workers.\n",
      "[Parallel(n_jobs=14)]: Done  22 tasks      | elapsed:    0.0s\n",
      "[Parallel(n_jobs=14)]: Done 172 tasks      | elapsed:    0.2s\n",
      "[Parallel(n_jobs=14)]: Done 422 tasks      | elapsed:    0.6s\n",
      "[Parallel(n_jobs=14)]: Done 489 out of 489 | elapsed:    0.6s finished\n"
     ]
    },
    {
     "name": "stdout",
     "output_type": "stream",
     "text": [
      "Iteration: \t600 / 1000\n",
      "Confirmed: \t81\n",
      "Tentative: \t27\n",
      "Rejected: \t4892\n"
     ]
    },
    {
     "name": "stderr",
     "output_type": "stream",
     "text": [
      "[Parallel(n_jobs=14)]: Using backend ThreadingBackend with 14 concurrent workers.\n",
      "[Parallel(n_jobs=14)]: Done  22 tasks      | elapsed:    0.0s\n",
      "[Parallel(n_jobs=14)]: Done 172 tasks      | elapsed:    0.2s\n",
      "[Parallel(n_jobs=14)]: Done 422 tasks      | elapsed:    0.5s\n",
      "[Parallel(n_jobs=14)]: Done 489 out of 489 | elapsed:    0.6s finished\n"
     ]
    },
    {
     "name": "stdout",
     "output_type": "stream",
     "text": [
      "Iteration: \t601 / 1000\n",
      "Confirmed: \t81\n",
      "Tentative: \t27\n",
      "Rejected: \t4892\n"
     ]
    },
    {
     "name": "stderr",
     "output_type": "stream",
     "text": [
      "[Parallel(n_jobs=14)]: Using backend ThreadingBackend with 14 concurrent workers.\n",
      "[Parallel(n_jobs=14)]: Done  22 tasks      | elapsed:    0.0s\n",
      "[Parallel(n_jobs=14)]: Done 172 tasks      | elapsed:    0.2s\n",
      "[Parallel(n_jobs=14)]: Done 422 tasks      | elapsed:    0.5s\n",
      "[Parallel(n_jobs=14)]: Done 489 out of 489 | elapsed:    0.6s finished\n"
     ]
    },
    {
     "name": "stdout",
     "output_type": "stream",
     "text": [
      "Iteration: \t602 / 1000\n",
      "Confirmed: \t81\n",
      "Tentative: \t27\n",
      "Rejected: \t4892\n"
     ]
    },
    {
     "name": "stderr",
     "output_type": "stream",
     "text": [
      "[Parallel(n_jobs=14)]: Using backend ThreadingBackend with 14 concurrent workers.\n",
      "[Parallel(n_jobs=14)]: Done  22 tasks      | elapsed:    0.0s\n",
      "[Parallel(n_jobs=14)]: Done 172 tasks      | elapsed:    0.2s\n",
      "[Parallel(n_jobs=14)]: Done 422 tasks      | elapsed:    0.6s\n",
      "[Parallel(n_jobs=14)]: Done 489 out of 489 | elapsed:    0.6s finished\n"
     ]
    },
    {
     "name": "stdout",
     "output_type": "stream",
     "text": [
      "Iteration: \t603 / 1000\n",
      "Confirmed: \t81\n",
      "Tentative: \t27\n",
      "Rejected: \t4892\n"
     ]
    },
    {
     "name": "stderr",
     "output_type": "stream",
     "text": [
      "[Parallel(n_jobs=14)]: Using backend ThreadingBackend with 14 concurrent workers.\n",
      "[Parallel(n_jobs=14)]: Done  22 tasks      | elapsed:    0.0s\n",
      "[Parallel(n_jobs=14)]: Done 172 tasks      | elapsed:    0.2s\n",
      "[Parallel(n_jobs=14)]: Done 422 tasks      | elapsed:    0.6s\n",
      "[Parallel(n_jobs=14)]: Done 489 out of 489 | elapsed:    0.6s finished\n"
     ]
    },
    {
     "name": "stdout",
     "output_type": "stream",
     "text": [
      "Iteration: \t604 / 1000\n",
      "Confirmed: \t81\n",
      "Tentative: \t27\n",
      "Rejected: \t4892\n"
     ]
    },
    {
     "name": "stderr",
     "output_type": "stream",
     "text": [
      "[Parallel(n_jobs=14)]: Using backend ThreadingBackend with 14 concurrent workers.\n",
      "[Parallel(n_jobs=14)]: Done  22 tasks      | elapsed:    0.0s\n",
      "[Parallel(n_jobs=14)]: Done 172 tasks      | elapsed:    0.2s\n",
      "[Parallel(n_jobs=14)]: Done 422 tasks      | elapsed:    0.5s\n",
      "[Parallel(n_jobs=14)]: Done 489 out of 489 | elapsed:    0.6s finished\n"
     ]
    },
    {
     "name": "stdout",
     "output_type": "stream",
     "text": [
      "Iteration: \t605 / 1000\n",
      "Confirmed: \t81\n",
      "Tentative: \t27\n",
      "Rejected: \t4892\n"
     ]
    },
    {
     "name": "stderr",
     "output_type": "stream",
     "text": [
      "[Parallel(n_jobs=14)]: Using backend ThreadingBackend with 14 concurrent workers.\n",
      "[Parallel(n_jobs=14)]: Done  22 tasks      | elapsed:    0.0s\n",
      "[Parallel(n_jobs=14)]: Done 172 tasks      | elapsed:    0.2s\n",
      "[Parallel(n_jobs=14)]: Done 422 tasks      | elapsed:    0.6s\n",
      "[Parallel(n_jobs=14)]: Done 489 out of 489 | elapsed:    0.6s finished\n"
     ]
    },
    {
     "name": "stdout",
     "output_type": "stream",
     "text": [
      "Iteration: \t606 / 1000\n",
      "Confirmed: \t81\n",
      "Tentative: \t27\n",
      "Rejected: \t4892\n"
     ]
    },
    {
     "name": "stderr",
     "output_type": "stream",
     "text": [
      "[Parallel(n_jobs=14)]: Using backend ThreadingBackend with 14 concurrent workers.\n",
      "[Parallel(n_jobs=14)]: Done  22 tasks      | elapsed:    0.0s\n",
      "[Parallel(n_jobs=14)]: Done 172 tasks      | elapsed:    0.2s\n",
      "[Parallel(n_jobs=14)]: Done 422 tasks      | elapsed:    0.6s\n",
      "[Parallel(n_jobs=14)]: Done 489 out of 489 | elapsed:    0.6s finished\n"
     ]
    },
    {
     "name": "stdout",
     "output_type": "stream",
     "text": [
      "Iteration: \t607 / 1000\n",
      "Confirmed: \t81\n",
      "Tentative: \t27\n",
      "Rejected: \t4892\n"
     ]
    },
    {
     "name": "stderr",
     "output_type": "stream",
     "text": [
      "[Parallel(n_jobs=14)]: Using backend ThreadingBackend with 14 concurrent workers.\n",
      "[Parallel(n_jobs=14)]: Done  22 tasks      | elapsed:    0.0s\n",
      "[Parallel(n_jobs=14)]: Done 172 tasks      | elapsed:    0.2s\n",
      "[Parallel(n_jobs=14)]: Done 422 tasks      | elapsed:    0.5s\n",
      "[Parallel(n_jobs=14)]: Done 489 out of 489 | elapsed:    0.6s finished\n"
     ]
    },
    {
     "name": "stdout",
     "output_type": "stream",
     "text": [
      "Iteration: \t608 / 1000\n",
      "Confirmed: \t81\n",
      "Tentative: \t27\n",
      "Rejected: \t4892\n"
     ]
    },
    {
     "name": "stderr",
     "output_type": "stream",
     "text": [
      "[Parallel(n_jobs=14)]: Using backend ThreadingBackend with 14 concurrent workers.\n",
      "[Parallel(n_jobs=14)]: Done  22 tasks      | elapsed:    0.0s\n",
      "[Parallel(n_jobs=14)]: Done 172 tasks      | elapsed:    0.2s\n",
      "[Parallel(n_jobs=14)]: Done 422 tasks      | elapsed:    0.5s\n",
      "[Parallel(n_jobs=14)]: Done 489 out of 489 | elapsed:    0.6s finished\n"
     ]
    },
    {
     "name": "stdout",
     "output_type": "stream",
     "text": [
      "Iteration: \t609 / 1000\n",
      "Confirmed: \t81\n",
      "Tentative: \t27\n",
      "Rejected: \t4892\n"
     ]
    },
    {
     "name": "stderr",
     "output_type": "stream",
     "text": [
      "[Parallel(n_jobs=14)]: Using backend ThreadingBackend with 14 concurrent workers.\n",
      "[Parallel(n_jobs=14)]: Done  22 tasks      | elapsed:    0.0s\n",
      "[Parallel(n_jobs=14)]: Done 172 tasks      | elapsed:    0.2s\n",
      "[Parallel(n_jobs=14)]: Done 422 tasks      | elapsed:    0.6s\n",
      "[Parallel(n_jobs=14)]: Done 489 out of 489 | elapsed:    0.6s finished\n"
     ]
    },
    {
     "name": "stdout",
     "output_type": "stream",
     "text": [
      "Iteration: \t610 / 1000\n",
      "Confirmed: \t81\n",
      "Tentative: \t27\n",
      "Rejected: \t4892\n"
     ]
    },
    {
     "name": "stderr",
     "output_type": "stream",
     "text": [
      "[Parallel(n_jobs=14)]: Using backend ThreadingBackend with 14 concurrent workers.\n",
      "[Parallel(n_jobs=14)]: Done  22 tasks      | elapsed:    0.0s\n",
      "[Parallel(n_jobs=14)]: Done 172 tasks      | elapsed:    0.2s\n",
      "[Parallel(n_jobs=14)]: Done 422 tasks      | elapsed:    0.5s\n",
      "[Parallel(n_jobs=14)]: Done 489 out of 489 | elapsed:    0.6s finished\n"
     ]
    },
    {
     "name": "stdout",
     "output_type": "stream",
     "text": [
      "Iteration: \t611 / 1000\n",
      "Confirmed: \t81\n",
      "Tentative: \t27\n",
      "Rejected: \t4892\n"
     ]
    },
    {
     "name": "stderr",
     "output_type": "stream",
     "text": [
      "[Parallel(n_jobs=14)]: Using backend ThreadingBackend with 14 concurrent workers.\n",
      "[Parallel(n_jobs=14)]: Done  22 tasks      | elapsed:    0.0s\n",
      "[Parallel(n_jobs=14)]: Done 172 tasks      | elapsed:    0.2s\n",
      "[Parallel(n_jobs=14)]: Done 422 tasks      | elapsed:    0.5s\n",
      "[Parallel(n_jobs=14)]: Done 489 out of 489 | elapsed:    0.6s finished\n"
     ]
    },
    {
     "name": "stdout",
     "output_type": "stream",
     "text": [
      "Iteration: \t612 / 1000\n",
      "Confirmed: \t81\n",
      "Tentative: \t27\n",
      "Rejected: \t4892\n"
     ]
    },
    {
     "name": "stderr",
     "output_type": "stream",
     "text": [
      "[Parallel(n_jobs=14)]: Using backend ThreadingBackend with 14 concurrent workers.\n",
      "[Parallel(n_jobs=14)]: Done  22 tasks      | elapsed:    0.0s\n",
      "[Parallel(n_jobs=14)]: Done 172 tasks      | elapsed:    0.2s\n",
      "[Parallel(n_jobs=14)]: Done 422 tasks      | elapsed:    0.5s\n",
      "[Parallel(n_jobs=14)]: Done 489 out of 489 | elapsed:    0.6s finished\n"
     ]
    },
    {
     "name": "stdout",
     "output_type": "stream",
     "text": [
      "Iteration: \t613 / 1000\n",
      "Confirmed: \t81\n",
      "Tentative: \t27\n",
      "Rejected: \t4892\n"
     ]
    },
    {
     "name": "stderr",
     "output_type": "stream",
     "text": [
      "[Parallel(n_jobs=14)]: Using backend ThreadingBackend with 14 concurrent workers.\n",
      "[Parallel(n_jobs=14)]: Done  22 tasks      | elapsed:    0.0s\n",
      "[Parallel(n_jobs=14)]: Done 172 tasks      | elapsed:    0.2s\n",
      "[Parallel(n_jobs=14)]: Done 422 tasks      | elapsed:    0.5s\n",
      "[Parallel(n_jobs=14)]: Done 489 out of 489 | elapsed:    0.6s finished\n"
     ]
    },
    {
     "name": "stdout",
     "output_type": "stream",
     "text": [
      "Iteration: \t614 / 1000\n",
      "Confirmed: \t81\n",
      "Tentative: \t27\n",
      "Rejected: \t4892\n"
     ]
    },
    {
     "name": "stderr",
     "output_type": "stream",
     "text": [
      "[Parallel(n_jobs=14)]: Using backend ThreadingBackend with 14 concurrent workers.\n",
      "[Parallel(n_jobs=14)]: Done  22 tasks      | elapsed:    0.0s\n",
      "[Parallel(n_jobs=14)]: Done 172 tasks      | elapsed:    0.2s\n",
      "[Parallel(n_jobs=14)]: Done 422 tasks      | elapsed:    0.5s\n",
      "[Parallel(n_jobs=14)]: Done 489 out of 489 | elapsed:    0.6s finished\n"
     ]
    },
    {
     "name": "stdout",
     "output_type": "stream",
     "text": [
      "Iteration: \t615 / 1000\n",
      "Confirmed: \t81\n",
      "Tentative: \t27\n",
      "Rejected: \t4892\n"
     ]
    },
    {
     "name": "stderr",
     "output_type": "stream",
     "text": [
      "[Parallel(n_jobs=14)]: Using backend ThreadingBackend with 14 concurrent workers.\n",
      "[Parallel(n_jobs=14)]: Done  22 tasks      | elapsed:    0.0s\n",
      "[Parallel(n_jobs=14)]: Done 172 tasks      | elapsed:    0.2s\n",
      "[Parallel(n_jobs=14)]: Done 422 tasks      | elapsed:    0.5s\n",
      "[Parallel(n_jobs=14)]: Done 489 out of 489 | elapsed:    0.6s finished\n"
     ]
    },
    {
     "name": "stdout",
     "output_type": "stream",
     "text": [
      "Iteration: \t616 / 1000\n",
      "Confirmed: \t81\n",
      "Tentative: \t27\n",
      "Rejected: \t4892\n"
     ]
    },
    {
     "name": "stderr",
     "output_type": "stream",
     "text": [
      "[Parallel(n_jobs=14)]: Using backend ThreadingBackend with 14 concurrent workers.\n",
      "[Parallel(n_jobs=14)]: Done  22 tasks      | elapsed:    0.0s\n",
      "[Parallel(n_jobs=14)]: Done 172 tasks      | elapsed:    0.2s\n",
      "[Parallel(n_jobs=14)]: Done 422 tasks      | elapsed:    0.6s\n",
      "[Parallel(n_jobs=14)]: Done 489 out of 489 | elapsed:    0.6s finished\n"
     ]
    },
    {
     "name": "stdout",
     "output_type": "stream",
     "text": [
      "Iteration: \t617 / 1000\n",
      "Confirmed: \t81\n",
      "Tentative: \t27\n",
      "Rejected: \t4892\n"
     ]
    },
    {
     "name": "stderr",
     "output_type": "stream",
     "text": [
      "[Parallel(n_jobs=14)]: Using backend ThreadingBackend with 14 concurrent workers.\n",
      "[Parallel(n_jobs=14)]: Done  22 tasks      | elapsed:    0.0s\n",
      "[Parallel(n_jobs=14)]: Done 172 tasks      | elapsed:    0.2s\n",
      "[Parallel(n_jobs=14)]: Done 422 tasks      | elapsed:    0.5s\n",
      "[Parallel(n_jobs=14)]: Done 489 out of 489 | elapsed:    0.6s finished\n"
     ]
    },
    {
     "name": "stdout",
     "output_type": "stream",
     "text": [
      "Iteration: \t618 / 1000\n",
      "Confirmed: \t81\n",
      "Tentative: \t27\n",
      "Rejected: \t4892\n"
     ]
    },
    {
     "name": "stderr",
     "output_type": "stream",
     "text": [
      "[Parallel(n_jobs=14)]: Using backend ThreadingBackend with 14 concurrent workers.\n",
      "[Parallel(n_jobs=14)]: Done  22 tasks      | elapsed:    0.0s\n",
      "[Parallel(n_jobs=14)]: Done 172 tasks      | elapsed:    0.2s\n",
      "[Parallel(n_jobs=14)]: Done 422 tasks      | elapsed:    0.6s\n",
      "[Parallel(n_jobs=14)]: Done 489 out of 489 | elapsed:    0.6s finished\n"
     ]
    },
    {
     "name": "stdout",
     "output_type": "stream",
     "text": [
      "Iteration: \t619 / 1000\n",
      "Confirmed: \t81\n",
      "Tentative: \t27\n",
      "Rejected: \t4892\n"
     ]
    },
    {
     "name": "stderr",
     "output_type": "stream",
     "text": [
      "[Parallel(n_jobs=14)]: Using backend ThreadingBackend with 14 concurrent workers.\n",
      "[Parallel(n_jobs=14)]: Done  22 tasks      | elapsed:    0.0s\n",
      "[Parallel(n_jobs=14)]: Done 172 tasks      | elapsed:    0.2s\n",
      "[Parallel(n_jobs=14)]: Done 422 tasks      | elapsed:    0.6s\n",
      "[Parallel(n_jobs=14)]: Done 489 out of 489 | elapsed:    0.6s finished\n"
     ]
    },
    {
     "name": "stdout",
     "output_type": "stream",
     "text": [
      "Iteration: \t620 / 1000\n",
      "Confirmed: \t81\n",
      "Tentative: \t27\n",
      "Rejected: \t4892\n"
     ]
    },
    {
     "name": "stderr",
     "output_type": "stream",
     "text": [
      "[Parallel(n_jobs=14)]: Using backend ThreadingBackend with 14 concurrent workers.\n",
      "[Parallel(n_jobs=14)]: Done  22 tasks      | elapsed:    0.0s\n",
      "[Parallel(n_jobs=14)]: Done 172 tasks      | elapsed:    0.2s\n",
      "[Parallel(n_jobs=14)]: Done 422 tasks      | elapsed:    0.6s\n",
      "[Parallel(n_jobs=14)]: Done 489 out of 489 | elapsed:    0.6s finished\n"
     ]
    },
    {
     "name": "stdout",
     "output_type": "stream",
     "text": [
      "Iteration: \t621 / 1000\n",
      "Confirmed: \t81\n",
      "Tentative: \t27\n",
      "Rejected: \t4892\n"
     ]
    },
    {
     "name": "stderr",
     "output_type": "stream",
     "text": [
      "[Parallel(n_jobs=14)]: Using backend ThreadingBackend with 14 concurrent workers.\n",
      "[Parallel(n_jobs=14)]: Done  22 tasks      | elapsed:    0.0s\n",
      "[Parallel(n_jobs=14)]: Done 172 tasks      | elapsed:    0.2s\n",
      "[Parallel(n_jobs=14)]: Done 422 tasks      | elapsed:    0.6s\n",
      "[Parallel(n_jobs=14)]: Done 489 out of 489 | elapsed:    0.6s finished\n"
     ]
    },
    {
     "name": "stdout",
     "output_type": "stream",
     "text": [
      "Iteration: \t622 / 1000\n",
      "Confirmed: \t81\n",
      "Tentative: \t27\n",
      "Rejected: \t4892\n"
     ]
    },
    {
     "name": "stderr",
     "output_type": "stream",
     "text": [
      "[Parallel(n_jobs=14)]: Using backend ThreadingBackend with 14 concurrent workers.\n",
      "[Parallel(n_jobs=14)]: Done  22 tasks      | elapsed:    0.0s\n",
      "[Parallel(n_jobs=14)]: Done 172 tasks      | elapsed:    0.2s\n",
      "[Parallel(n_jobs=14)]: Done 422 tasks      | elapsed:    0.6s\n",
      "[Parallel(n_jobs=14)]: Done 489 out of 489 | elapsed:    0.6s finished\n"
     ]
    },
    {
     "name": "stdout",
     "output_type": "stream",
     "text": [
      "Iteration: \t623 / 1000\n",
      "Confirmed: \t81\n",
      "Tentative: \t27\n",
      "Rejected: \t4892\n"
     ]
    },
    {
     "name": "stderr",
     "output_type": "stream",
     "text": [
      "[Parallel(n_jobs=14)]: Using backend ThreadingBackend with 14 concurrent workers.\n",
      "[Parallel(n_jobs=14)]: Done  22 tasks      | elapsed:    0.0s\n",
      "[Parallel(n_jobs=14)]: Done 172 tasks      | elapsed:    0.2s\n",
      "[Parallel(n_jobs=14)]: Done 422 tasks      | elapsed:    0.5s\n",
      "[Parallel(n_jobs=14)]: Done 489 out of 489 | elapsed:    0.6s finished\n"
     ]
    },
    {
     "name": "stdout",
     "output_type": "stream",
     "text": [
      "Iteration: \t624 / 1000\n",
      "Confirmed: \t81\n",
      "Tentative: \t27\n",
      "Rejected: \t4892\n"
     ]
    },
    {
     "name": "stderr",
     "output_type": "stream",
     "text": [
      "[Parallel(n_jobs=14)]: Using backend ThreadingBackend with 14 concurrent workers.\n",
      "[Parallel(n_jobs=14)]: Done  22 tasks      | elapsed:    0.0s\n",
      "[Parallel(n_jobs=14)]: Done 172 tasks      | elapsed:    0.2s\n",
      "[Parallel(n_jobs=14)]: Done 422 tasks      | elapsed:    0.5s\n",
      "[Parallel(n_jobs=14)]: Done 489 out of 489 | elapsed:    0.6s finished\n"
     ]
    },
    {
     "name": "stdout",
     "output_type": "stream",
     "text": [
      "Iteration: \t625 / 1000\n",
      "Confirmed: \t81\n",
      "Tentative: \t27\n",
      "Rejected: \t4892\n"
     ]
    },
    {
     "name": "stderr",
     "output_type": "stream",
     "text": [
      "[Parallel(n_jobs=14)]: Using backend ThreadingBackend with 14 concurrent workers.\n",
      "[Parallel(n_jobs=14)]: Done  22 tasks      | elapsed:    0.0s\n",
      "[Parallel(n_jobs=14)]: Done 172 tasks      | elapsed:    0.2s\n",
      "[Parallel(n_jobs=14)]: Done 422 tasks      | elapsed:    0.6s\n",
      "[Parallel(n_jobs=14)]: Done 489 out of 489 | elapsed:    0.6s finished\n"
     ]
    },
    {
     "name": "stdout",
     "output_type": "stream",
     "text": [
      "Iteration: \t626 / 1000\n",
      "Confirmed: \t81\n",
      "Tentative: \t27\n",
      "Rejected: \t4892\n"
     ]
    },
    {
     "name": "stderr",
     "output_type": "stream",
     "text": [
      "[Parallel(n_jobs=14)]: Using backend ThreadingBackend with 14 concurrent workers.\n",
      "[Parallel(n_jobs=14)]: Done  22 tasks      | elapsed:    0.0s\n",
      "[Parallel(n_jobs=14)]: Done 172 tasks      | elapsed:    0.2s\n",
      "[Parallel(n_jobs=14)]: Done 422 tasks      | elapsed:    0.5s\n",
      "[Parallel(n_jobs=14)]: Done 489 out of 489 | elapsed:    0.6s finished\n"
     ]
    },
    {
     "name": "stdout",
     "output_type": "stream",
     "text": [
      "Iteration: \t627 / 1000\n",
      "Confirmed: \t81\n",
      "Tentative: \t27\n",
      "Rejected: \t4892\n"
     ]
    },
    {
     "name": "stderr",
     "output_type": "stream",
     "text": [
      "[Parallel(n_jobs=14)]: Using backend ThreadingBackend with 14 concurrent workers.\n",
      "[Parallel(n_jobs=14)]: Done  22 tasks      | elapsed:    0.0s\n",
      "[Parallel(n_jobs=14)]: Done 172 tasks      | elapsed:    0.2s\n",
      "[Parallel(n_jobs=14)]: Done 422 tasks      | elapsed:    0.6s\n",
      "[Parallel(n_jobs=14)]: Done 489 out of 489 | elapsed:    0.6s finished\n"
     ]
    },
    {
     "name": "stdout",
     "output_type": "stream",
     "text": [
      "Iteration: \t628 / 1000\n",
      "Confirmed: \t81\n",
      "Tentative: \t27\n",
      "Rejected: \t4892\n"
     ]
    },
    {
     "name": "stderr",
     "output_type": "stream",
     "text": [
      "[Parallel(n_jobs=14)]: Using backend ThreadingBackend with 14 concurrent workers.\n",
      "[Parallel(n_jobs=14)]: Done  22 tasks      | elapsed:    0.0s\n",
      "[Parallel(n_jobs=14)]: Done 172 tasks      | elapsed:    0.2s\n",
      "[Parallel(n_jobs=14)]: Done 422 tasks      | elapsed:    0.5s\n",
      "[Parallel(n_jobs=14)]: Done 489 out of 489 | elapsed:    0.6s finished\n"
     ]
    },
    {
     "name": "stdout",
     "output_type": "stream",
     "text": [
      "Iteration: \t629 / 1000\n",
      "Confirmed: \t81\n",
      "Tentative: \t27\n",
      "Rejected: \t4892\n"
     ]
    },
    {
     "name": "stderr",
     "output_type": "stream",
     "text": [
      "[Parallel(n_jobs=14)]: Using backend ThreadingBackend with 14 concurrent workers.\n",
      "[Parallel(n_jobs=14)]: Done  22 tasks      | elapsed:    0.0s\n",
      "[Parallel(n_jobs=14)]: Done 172 tasks      | elapsed:    0.2s\n",
      "[Parallel(n_jobs=14)]: Done 422 tasks      | elapsed:    0.6s\n",
      "[Parallel(n_jobs=14)]: Done 489 out of 489 | elapsed:    0.6s finished\n"
     ]
    },
    {
     "name": "stdout",
     "output_type": "stream",
     "text": [
      "Iteration: \t630 / 1000\n",
      "Confirmed: \t81\n",
      "Tentative: \t27\n",
      "Rejected: \t4892\n"
     ]
    },
    {
     "name": "stderr",
     "output_type": "stream",
     "text": [
      "[Parallel(n_jobs=14)]: Using backend ThreadingBackend with 14 concurrent workers.\n",
      "[Parallel(n_jobs=14)]: Done  22 tasks      | elapsed:    0.0s\n",
      "[Parallel(n_jobs=14)]: Done 172 tasks      | elapsed:    0.2s\n",
      "[Parallel(n_jobs=14)]: Done 422 tasks      | elapsed:    0.5s\n",
      "[Parallel(n_jobs=14)]: Done 489 out of 489 | elapsed:    0.6s finished\n"
     ]
    },
    {
     "name": "stdout",
     "output_type": "stream",
     "text": [
      "Iteration: \t631 / 1000\n",
      "Confirmed: \t81\n",
      "Tentative: \t27\n",
      "Rejected: \t4892\n"
     ]
    },
    {
     "name": "stderr",
     "output_type": "stream",
     "text": [
      "[Parallel(n_jobs=14)]: Using backend ThreadingBackend with 14 concurrent workers.\n",
      "[Parallel(n_jobs=14)]: Done  22 tasks      | elapsed:    0.0s\n",
      "[Parallel(n_jobs=14)]: Done 172 tasks      | elapsed:    0.2s\n",
      "[Parallel(n_jobs=14)]: Done 422 tasks      | elapsed:    0.5s\n",
      "[Parallel(n_jobs=14)]: Done 489 out of 489 | elapsed:    0.6s finished\n"
     ]
    },
    {
     "name": "stdout",
     "output_type": "stream",
     "text": [
      "Iteration: \t632 / 1000\n",
      "Confirmed: \t81\n",
      "Tentative: \t27\n",
      "Rejected: \t4892\n"
     ]
    },
    {
     "name": "stderr",
     "output_type": "stream",
     "text": [
      "[Parallel(n_jobs=14)]: Using backend ThreadingBackend with 14 concurrent workers.\n",
      "[Parallel(n_jobs=14)]: Done  22 tasks      | elapsed:    0.0s\n",
      "[Parallel(n_jobs=14)]: Done 172 tasks      | elapsed:    0.2s\n",
      "[Parallel(n_jobs=14)]: Done 422 tasks      | elapsed:    0.5s\n",
      "[Parallel(n_jobs=14)]: Done 489 out of 489 | elapsed:    0.6s finished\n"
     ]
    },
    {
     "name": "stdout",
     "output_type": "stream",
     "text": [
      "Iteration: \t633 / 1000\n",
      "Confirmed: \t81\n",
      "Tentative: \t27\n",
      "Rejected: \t4892\n"
     ]
    },
    {
     "name": "stderr",
     "output_type": "stream",
     "text": [
      "[Parallel(n_jobs=14)]: Using backend ThreadingBackend with 14 concurrent workers.\n",
      "[Parallel(n_jobs=14)]: Done  22 tasks      | elapsed:    0.0s\n",
      "[Parallel(n_jobs=14)]: Done 172 tasks      | elapsed:    0.2s\n",
      "[Parallel(n_jobs=14)]: Done 422 tasks      | elapsed:    0.5s\n",
      "[Parallel(n_jobs=14)]: Done 489 out of 489 | elapsed:    0.6s finished\n"
     ]
    },
    {
     "name": "stdout",
     "output_type": "stream",
     "text": [
      "Iteration: \t634 / 1000\n",
      "Confirmed: \t83\n",
      "Tentative: \t25\n",
      "Rejected: \t4892\n"
     ]
    },
    {
     "name": "stderr",
     "output_type": "stream",
     "text": [
      "[Parallel(n_jobs=14)]: Using backend ThreadingBackend with 14 concurrent workers.\n",
      "[Parallel(n_jobs=14)]: Done  22 tasks      | elapsed:    0.0s\n",
      "[Parallel(n_jobs=14)]: Done 172 tasks      | elapsed:    0.2s\n",
      "[Parallel(n_jobs=14)]: Done 422 tasks      | elapsed:    0.5s\n",
      "[Parallel(n_jobs=14)]: Done 489 out of 489 | elapsed:    0.6s finished\n"
     ]
    },
    {
     "name": "stdout",
     "output_type": "stream",
     "text": [
      "Iteration: \t635 / 1000\n",
      "Confirmed: \t83\n",
      "Tentative: \t25\n",
      "Rejected: \t4892\n"
     ]
    },
    {
     "name": "stderr",
     "output_type": "stream",
     "text": [
      "[Parallel(n_jobs=14)]: Using backend ThreadingBackend with 14 concurrent workers.\n",
      "[Parallel(n_jobs=14)]: Done  22 tasks      | elapsed:    0.0s\n",
      "[Parallel(n_jobs=14)]: Done 172 tasks      | elapsed:    0.2s\n",
      "[Parallel(n_jobs=14)]: Done 422 tasks      | elapsed:    0.6s\n",
      "[Parallel(n_jobs=14)]: Done 489 out of 489 | elapsed:    0.6s finished\n"
     ]
    },
    {
     "name": "stdout",
     "output_type": "stream",
     "text": [
      "Iteration: \t636 / 1000\n",
      "Confirmed: \t83\n",
      "Tentative: \t25\n",
      "Rejected: \t4892\n"
     ]
    },
    {
     "name": "stderr",
     "output_type": "stream",
     "text": [
      "[Parallel(n_jobs=14)]: Using backend ThreadingBackend with 14 concurrent workers.\n",
      "[Parallel(n_jobs=14)]: Done  22 tasks      | elapsed:    0.0s\n",
      "[Parallel(n_jobs=14)]: Done 172 tasks      | elapsed:    0.2s\n",
      "[Parallel(n_jobs=14)]: Done 422 tasks      | elapsed:    0.5s\n",
      "[Parallel(n_jobs=14)]: Done 489 out of 489 | elapsed:    0.6s finished\n"
     ]
    },
    {
     "name": "stdout",
     "output_type": "stream",
     "text": [
      "Iteration: \t637 / 1000\n",
      "Confirmed: \t83\n",
      "Tentative: \t25\n",
      "Rejected: \t4892\n"
     ]
    },
    {
     "name": "stderr",
     "output_type": "stream",
     "text": [
      "[Parallel(n_jobs=14)]: Using backend ThreadingBackend with 14 concurrent workers.\n",
      "[Parallel(n_jobs=14)]: Done  22 tasks      | elapsed:    0.0s\n",
      "[Parallel(n_jobs=14)]: Done 172 tasks      | elapsed:    0.2s\n",
      "[Parallel(n_jobs=14)]: Done 422 tasks      | elapsed:    0.5s\n",
      "[Parallel(n_jobs=14)]: Done 489 out of 489 | elapsed:    0.6s finished\n"
     ]
    },
    {
     "name": "stdout",
     "output_type": "stream",
     "text": [
      "Iteration: \t638 / 1000\n",
      "Confirmed: \t83\n",
      "Tentative: \t25\n",
      "Rejected: \t4892\n"
     ]
    },
    {
     "name": "stderr",
     "output_type": "stream",
     "text": [
      "[Parallel(n_jobs=14)]: Using backend ThreadingBackend with 14 concurrent workers.\n",
      "[Parallel(n_jobs=14)]: Done  22 tasks      | elapsed:    0.0s\n",
      "[Parallel(n_jobs=14)]: Done 172 tasks      | elapsed:    0.2s\n",
      "[Parallel(n_jobs=14)]: Done 422 tasks      | elapsed:    0.5s\n",
      "[Parallel(n_jobs=14)]: Done 489 out of 489 | elapsed:    0.6s finished\n"
     ]
    },
    {
     "name": "stdout",
     "output_type": "stream",
     "text": [
      "Iteration: \t639 / 1000\n",
      "Confirmed: \t83\n",
      "Tentative: \t25\n",
      "Rejected: \t4892\n"
     ]
    },
    {
     "name": "stderr",
     "output_type": "stream",
     "text": [
      "[Parallel(n_jobs=14)]: Using backend ThreadingBackend with 14 concurrent workers.\n",
      "[Parallel(n_jobs=14)]: Done  22 tasks      | elapsed:    0.0s\n",
      "[Parallel(n_jobs=14)]: Done 172 tasks      | elapsed:    0.2s\n",
      "[Parallel(n_jobs=14)]: Done 422 tasks      | elapsed:    0.6s\n",
      "[Parallel(n_jobs=14)]: Done 489 out of 489 | elapsed:    0.6s finished\n"
     ]
    },
    {
     "name": "stdout",
     "output_type": "stream",
     "text": [
      "Iteration: \t640 / 1000\n",
      "Confirmed: \t83\n",
      "Tentative: \t25\n",
      "Rejected: \t4892\n"
     ]
    },
    {
     "name": "stderr",
     "output_type": "stream",
     "text": [
      "[Parallel(n_jobs=14)]: Using backend ThreadingBackend with 14 concurrent workers.\n",
      "[Parallel(n_jobs=14)]: Done  22 tasks      | elapsed:    0.0s\n",
      "[Parallel(n_jobs=14)]: Done 172 tasks      | elapsed:    0.2s\n",
      "[Parallel(n_jobs=14)]: Done 422 tasks      | elapsed:    0.6s\n",
      "[Parallel(n_jobs=14)]: Done 489 out of 489 | elapsed:    0.6s finished\n"
     ]
    },
    {
     "name": "stdout",
     "output_type": "stream",
     "text": [
      "Iteration: \t641 / 1000\n",
      "Confirmed: \t83\n",
      "Tentative: \t25\n",
      "Rejected: \t4892\n"
     ]
    },
    {
     "name": "stderr",
     "output_type": "stream",
     "text": [
      "[Parallel(n_jobs=14)]: Using backend ThreadingBackend with 14 concurrent workers.\n",
      "[Parallel(n_jobs=14)]: Done  22 tasks      | elapsed:    0.0s\n",
      "[Parallel(n_jobs=14)]: Done 172 tasks      | elapsed:    0.2s\n",
      "[Parallel(n_jobs=14)]: Done 422 tasks      | elapsed:    0.5s\n",
      "[Parallel(n_jobs=14)]: Done 489 out of 489 | elapsed:    0.6s finished\n"
     ]
    },
    {
     "name": "stdout",
     "output_type": "stream",
     "text": [
      "Iteration: \t642 / 1000\n",
      "Confirmed: \t83\n",
      "Tentative: \t25\n",
      "Rejected: \t4892\n"
     ]
    },
    {
     "name": "stderr",
     "output_type": "stream",
     "text": [
      "[Parallel(n_jobs=14)]: Using backend ThreadingBackend with 14 concurrent workers.\n",
      "[Parallel(n_jobs=14)]: Done  22 tasks      | elapsed:    0.0s\n",
      "[Parallel(n_jobs=14)]: Done 172 tasks      | elapsed:    0.2s\n",
      "[Parallel(n_jobs=14)]: Done 422 tasks      | elapsed:    0.5s\n",
      "[Parallel(n_jobs=14)]: Done 489 out of 489 | elapsed:    0.6s finished\n"
     ]
    },
    {
     "name": "stdout",
     "output_type": "stream",
     "text": [
      "Iteration: \t643 / 1000\n",
      "Confirmed: \t83\n",
      "Tentative: \t25\n",
      "Rejected: \t4892\n"
     ]
    },
    {
     "name": "stderr",
     "output_type": "stream",
     "text": [
      "[Parallel(n_jobs=14)]: Using backend ThreadingBackend with 14 concurrent workers.\n",
      "[Parallel(n_jobs=14)]: Done  22 tasks      | elapsed:    0.0s\n",
      "[Parallel(n_jobs=14)]: Done 172 tasks      | elapsed:    0.2s\n",
      "[Parallel(n_jobs=14)]: Done 422 tasks      | elapsed:    0.5s\n",
      "[Parallel(n_jobs=14)]: Done 489 out of 489 | elapsed:    0.6s finished\n"
     ]
    },
    {
     "name": "stdout",
     "output_type": "stream",
     "text": [
      "Iteration: \t644 / 1000\n",
      "Confirmed: \t83\n",
      "Tentative: \t25\n",
      "Rejected: \t4892\n"
     ]
    },
    {
     "name": "stderr",
     "output_type": "stream",
     "text": [
      "[Parallel(n_jobs=14)]: Using backend ThreadingBackend with 14 concurrent workers.\n",
      "[Parallel(n_jobs=14)]: Done  22 tasks      | elapsed:    0.0s\n",
      "[Parallel(n_jobs=14)]: Done 172 tasks      | elapsed:    0.2s\n",
      "[Parallel(n_jobs=14)]: Done 422 tasks      | elapsed:    0.6s\n",
      "[Parallel(n_jobs=14)]: Done 489 out of 489 | elapsed:    0.6s finished\n"
     ]
    },
    {
     "name": "stdout",
     "output_type": "stream",
     "text": [
      "Iteration: \t645 / 1000\n",
      "Confirmed: \t83\n",
      "Tentative: \t25\n",
      "Rejected: \t4892\n"
     ]
    },
    {
     "name": "stderr",
     "output_type": "stream",
     "text": [
      "[Parallel(n_jobs=14)]: Using backend ThreadingBackend with 14 concurrent workers.\n",
      "[Parallel(n_jobs=14)]: Done  22 tasks      | elapsed:    0.0s\n",
      "[Parallel(n_jobs=14)]: Done 172 tasks      | elapsed:    0.2s\n",
      "[Parallel(n_jobs=14)]: Done 422 tasks      | elapsed:    0.6s\n",
      "[Parallel(n_jobs=14)]: Done 489 out of 489 | elapsed:    0.6s finished\n"
     ]
    },
    {
     "name": "stdout",
     "output_type": "stream",
     "text": [
      "Iteration: \t646 / 1000\n",
      "Confirmed: \t83\n",
      "Tentative: \t25\n",
      "Rejected: \t4892\n"
     ]
    },
    {
     "name": "stderr",
     "output_type": "stream",
     "text": [
      "[Parallel(n_jobs=14)]: Using backend ThreadingBackend with 14 concurrent workers.\n",
      "[Parallel(n_jobs=14)]: Done  22 tasks      | elapsed:    0.0s\n",
      "[Parallel(n_jobs=14)]: Done 172 tasks      | elapsed:    0.2s\n",
      "[Parallel(n_jobs=14)]: Done 422 tasks      | elapsed:    0.5s\n",
      "[Parallel(n_jobs=14)]: Done 489 out of 489 | elapsed:    0.6s finished\n"
     ]
    },
    {
     "name": "stdout",
     "output_type": "stream",
     "text": [
      "Iteration: \t647 / 1000\n",
      "Confirmed: \t83\n",
      "Tentative: \t25\n",
      "Rejected: \t4892\n"
     ]
    },
    {
     "name": "stderr",
     "output_type": "stream",
     "text": [
      "[Parallel(n_jobs=14)]: Using backend ThreadingBackend with 14 concurrent workers.\n",
      "[Parallel(n_jobs=14)]: Done  22 tasks      | elapsed:    0.0s\n",
      "[Parallel(n_jobs=14)]: Done 172 tasks      | elapsed:    0.2s\n",
      "[Parallel(n_jobs=14)]: Done 422 tasks      | elapsed:    0.6s\n",
      "[Parallel(n_jobs=14)]: Done 489 out of 489 | elapsed:    0.6s finished\n"
     ]
    },
    {
     "name": "stdout",
     "output_type": "stream",
     "text": [
      "Iteration: \t648 / 1000\n",
      "Confirmed: \t83\n",
      "Tentative: \t25\n",
      "Rejected: \t4892\n"
     ]
    },
    {
     "name": "stderr",
     "output_type": "stream",
     "text": [
      "[Parallel(n_jobs=14)]: Using backend ThreadingBackend with 14 concurrent workers.\n",
      "[Parallel(n_jobs=14)]: Done  22 tasks      | elapsed:    0.0s\n",
      "[Parallel(n_jobs=14)]: Done 172 tasks      | elapsed:    0.2s\n",
      "[Parallel(n_jobs=14)]: Done 422 tasks      | elapsed:    0.5s\n",
      "[Parallel(n_jobs=14)]: Done 489 out of 489 | elapsed:    0.6s finished\n"
     ]
    },
    {
     "name": "stdout",
     "output_type": "stream",
     "text": [
      "Iteration: \t649 / 1000\n",
      "Confirmed: \t83\n",
      "Tentative: \t25\n",
      "Rejected: \t4892\n"
     ]
    },
    {
     "name": "stderr",
     "output_type": "stream",
     "text": [
      "[Parallel(n_jobs=14)]: Using backend ThreadingBackend with 14 concurrent workers.\n",
      "[Parallel(n_jobs=14)]: Done  22 tasks      | elapsed:    0.0s\n",
      "[Parallel(n_jobs=14)]: Done 172 tasks      | elapsed:    0.2s\n",
      "[Parallel(n_jobs=14)]: Done 422 tasks      | elapsed:    0.5s\n",
      "[Parallel(n_jobs=14)]: Done 489 out of 489 | elapsed:    0.6s finished\n"
     ]
    },
    {
     "name": "stdout",
     "output_type": "stream",
     "text": [
      "Iteration: \t650 / 1000\n",
      "Confirmed: \t83\n",
      "Tentative: \t25\n",
      "Rejected: \t4892\n"
     ]
    },
    {
     "name": "stderr",
     "output_type": "stream",
     "text": [
      "[Parallel(n_jobs=14)]: Using backend ThreadingBackend with 14 concurrent workers.\n",
      "[Parallel(n_jobs=14)]: Done  22 tasks      | elapsed:    0.0s\n",
      "[Parallel(n_jobs=14)]: Done 172 tasks      | elapsed:    0.2s\n",
      "[Parallel(n_jobs=14)]: Done 422 tasks      | elapsed:    0.5s\n",
      "[Parallel(n_jobs=14)]: Done 489 out of 489 | elapsed:    0.6s finished\n"
     ]
    },
    {
     "name": "stdout",
     "output_type": "stream",
     "text": [
      "Iteration: \t651 / 1000\n",
      "Confirmed: \t83\n",
      "Tentative: \t25\n",
      "Rejected: \t4892\n"
     ]
    },
    {
     "name": "stderr",
     "output_type": "stream",
     "text": [
      "[Parallel(n_jobs=14)]: Using backend ThreadingBackend with 14 concurrent workers.\n",
      "[Parallel(n_jobs=14)]: Done  22 tasks      | elapsed:    0.0s\n",
      "[Parallel(n_jobs=14)]: Done 172 tasks      | elapsed:    0.2s\n",
      "[Parallel(n_jobs=14)]: Done 422 tasks      | elapsed:    0.5s\n",
      "[Parallel(n_jobs=14)]: Done 489 out of 489 | elapsed:    0.6s finished\n"
     ]
    },
    {
     "name": "stdout",
     "output_type": "stream",
     "text": [
      "Iteration: \t652 / 1000\n",
      "Confirmed: \t83\n",
      "Tentative: \t25\n",
      "Rejected: \t4892\n"
     ]
    },
    {
     "name": "stderr",
     "output_type": "stream",
     "text": [
      "[Parallel(n_jobs=14)]: Using backend ThreadingBackend with 14 concurrent workers.\n",
      "[Parallel(n_jobs=14)]: Done  22 tasks      | elapsed:    0.0s\n",
      "[Parallel(n_jobs=14)]: Done 172 tasks      | elapsed:    0.2s\n",
      "[Parallel(n_jobs=14)]: Done 422 tasks      | elapsed:    0.5s\n",
      "[Parallel(n_jobs=14)]: Done 489 out of 489 | elapsed:    0.6s finished\n"
     ]
    },
    {
     "name": "stdout",
     "output_type": "stream",
     "text": [
      "Iteration: \t653 / 1000\n",
      "Confirmed: \t83\n",
      "Tentative: \t25\n",
      "Rejected: \t4892\n"
     ]
    },
    {
     "name": "stderr",
     "output_type": "stream",
     "text": [
      "[Parallel(n_jobs=14)]: Using backend ThreadingBackend with 14 concurrent workers.\n",
      "[Parallel(n_jobs=14)]: Done  22 tasks      | elapsed:    0.0s\n",
      "[Parallel(n_jobs=14)]: Done 172 tasks      | elapsed:    0.2s\n",
      "[Parallel(n_jobs=14)]: Done 422 tasks      | elapsed:    0.5s\n",
      "[Parallel(n_jobs=14)]: Done 489 out of 489 | elapsed:    0.6s finished\n"
     ]
    },
    {
     "name": "stdout",
     "output_type": "stream",
     "text": [
      "Iteration: \t654 / 1000\n",
      "Confirmed: \t83\n",
      "Tentative: \t25\n",
      "Rejected: \t4892\n"
     ]
    },
    {
     "name": "stderr",
     "output_type": "stream",
     "text": [
      "[Parallel(n_jobs=14)]: Using backend ThreadingBackend with 14 concurrent workers.\n",
      "[Parallel(n_jobs=14)]: Done  22 tasks      | elapsed:    0.0s\n",
      "[Parallel(n_jobs=14)]: Done 172 tasks      | elapsed:    0.2s\n",
      "[Parallel(n_jobs=14)]: Done 422 tasks      | elapsed:    0.6s\n",
      "[Parallel(n_jobs=14)]: Done 489 out of 489 | elapsed:    0.6s finished\n"
     ]
    },
    {
     "name": "stdout",
     "output_type": "stream",
     "text": [
      "Iteration: \t655 / 1000\n",
      "Confirmed: \t83\n",
      "Tentative: \t25\n",
      "Rejected: \t4892\n"
     ]
    },
    {
     "name": "stderr",
     "output_type": "stream",
     "text": [
      "[Parallel(n_jobs=14)]: Using backend ThreadingBackend with 14 concurrent workers.\n",
      "[Parallel(n_jobs=14)]: Done  22 tasks      | elapsed:    0.0s\n",
      "[Parallel(n_jobs=14)]: Done 172 tasks      | elapsed:    0.2s\n",
      "[Parallel(n_jobs=14)]: Done 422 tasks      | elapsed:    0.5s\n",
      "[Parallel(n_jobs=14)]: Done 489 out of 489 | elapsed:    0.6s finished\n"
     ]
    },
    {
     "name": "stdout",
     "output_type": "stream",
     "text": [
      "Iteration: \t656 / 1000\n",
      "Confirmed: \t83\n",
      "Tentative: \t25\n",
      "Rejected: \t4892\n"
     ]
    },
    {
     "name": "stderr",
     "output_type": "stream",
     "text": [
      "[Parallel(n_jobs=14)]: Using backend ThreadingBackend with 14 concurrent workers.\n",
      "[Parallel(n_jobs=14)]: Done  22 tasks      | elapsed:    0.0s\n",
      "[Parallel(n_jobs=14)]: Done 172 tasks      | elapsed:    0.2s\n",
      "[Parallel(n_jobs=14)]: Done 422 tasks      | elapsed:    0.5s\n",
      "[Parallel(n_jobs=14)]: Done 489 out of 489 | elapsed:    0.6s finished\n"
     ]
    },
    {
     "name": "stdout",
     "output_type": "stream",
     "text": [
      "Iteration: \t657 / 1000\n",
      "Confirmed: \t83\n",
      "Tentative: \t25\n",
      "Rejected: \t4892\n"
     ]
    },
    {
     "name": "stderr",
     "output_type": "stream",
     "text": [
      "[Parallel(n_jobs=14)]: Using backend ThreadingBackend with 14 concurrent workers.\n",
      "[Parallel(n_jobs=14)]: Done  22 tasks      | elapsed:    0.0s\n",
      "[Parallel(n_jobs=14)]: Done 172 tasks      | elapsed:    0.2s\n",
      "[Parallel(n_jobs=14)]: Done 422 tasks      | elapsed:    0.5s\n",
      "[Parallel(n_jobs=14)]: Done 489 out of 489 | elapsed:    0.6s finished\n"
     ]
    },
    {
     "name": "stdout",
     "output_type": "stream",
     "text": [
      "Iteration: \t658 / 1000\n",
      "Confirmed: \t83\n",
      "Tentative: \t25\n",
      "Rejected: \t4892\n"
     ]
    },
    {
     "name": "stderr",
     "output_type": "stream",
     "text": [
      "[Parallel(n_jobs=14)]: Using backend ThreadingBackend with 14 concurrent workers.\n",
      "[Parallel(n_jobs=14)]: Done  22 tasks      | elapsed:    0.0s\n",
      "[Parallel(n_jobs=14)]: Done 172 tasks      | elapsed:    0.2s\n",
      "[Parallel(n_jobs=14)]: Done 422 tasks      | elapsed:    0.6s\n",
      "[Parallel(n_jobs=14)]: Done 489 out of 489 | elapsed:    0.6s finished\n"
     ]
    },
    {
     "name": "stdout",
     "output_type": "stream",
     "text": [
      "Iteration: \t659 / 1000\n",
      "Confirmed: \t83\n",
      "Tentative: \t25\n",
      "Rejected: \t4892\n"
     ]
    },
    {
     "name": "stderr",
     "output_type": "stream",
     "text": [
      "[Parallel(n_jobs=14)]: Using backend ThreadingBackend with 14 concurrent workers.\n",
      "[Parallel(n_jobs=14)]: Done  22 tasks      | elapsed:    0.0s\n",
      "[Parallel(n_jobs=14)]: Done 172 tasks      | elapsed:    0.2s\n",
      "[Parallel(n_jobs=14)]: Done 422 tasks      | elapsed:    0.6s\n",
      "[Parallel(n_jobs=14)]: Done 489 out of 489 | elapsed:    0.6s finished\n"
     ]
    },
    {
     "name": "stdout",
     "output_type": "stream",
     "text": [
      "Iteration: \t660 / 1000\n",
      "Confirmed: \t83\n",
      "Tentative: \t25\n",
      "Rejected: \t4892\n"
     ]
    },
    {
     "name": "stderr",
     "output_type": "stream",
     "text": [
      "[Parallel(n_jobs=14)]: Using backend ThreadingBackend with 14 concurrent workers.\n",
      "[Parallel(n_jobs=14)]: Done  22 tasks      | elapsed:    0.0s\n",
      "[Parallel(n_jobs=14)]: Done 172 tasks      | elapsed:    0.2s\n",
      "[Parallel(n_jobs=14)]: Done 422 tasks      | elapsed:    0.6s\n",
      "[Parallel(n_jobs=14)]: Done 489 out of 489 | elapsed:    0.6s finished\n"
     ]
    },
    {
     "name": "stdout",
     "output_type": "stream",
     "text": [
      "Iteration: \t661 / 1000\n",
      "Confirmed: \t83\n",
      "Tentative: \t25\n",
      "Rejected: \t4892\n"
     ]
    },
    {
     "name": "stderr",
     "output_type": "stream",
     "text": [
      "[Parallel(n_jobs=14)]: Using backend ThreadingBackend with 14 concurrent workers.\n",
      "[Parallel(n_jobs=14)]: Done  22 tasks      | elapsed:    0.0s\n",
      "[Parallel(n_jobs=14)]: Done 172 tasks      | elapsed:    0.2s\n",
      "[Parallel(n_jobs=14)]: Done 422 tasks      | elapsed:    0.6s\n",
      "[Parallel(n_jobs=14)]: Done 489 out of 489 | elapsed:    0.6s finished\n"
     ]
    },
    {
     "name": "stdout",
     "output_type": "stream",
     "text": [
      "Iteration: \t662 / 1000\n",
      "Confirmed: \t83\n",
      "Tentative: \t25\n",
      "Rejected: \t4892\n"
     ]
    },
    {
     "name": "stderr",
     "output_type": "stream",
     "text": [
      "[Parallel(n_jobs=14)]: Using backend ThreadingBackend with 14 concurrent workers.\n",
      "[Parallel(n_jobs=14)]: Done  22 tasks      | elapsed:    0.0s\n",
      "[Parallel(n_jobs=14)]: Done 172 tasks      | elapsed:    0.2s\n",
      "[Parallel(n_jobs=14)]: Done 422 tasks      | elapsed:    0.6s\n",
      "[Parallel(n_jobs=14)]: Done 489 out of 489 | elapsed:    0.6s finished\n"
     ]
    },
    {
     "name": "stdout",
     "output_type": "stream",
     "text": [
      "Iteration: \t663 / 1000\n",
      "Confirmed: \t83\n",
      "Tentative: \t25\n",
      "Rejected: \t4892\n"
     ]
    },
    {
     "name": "stderr",
     "output_type": "stream",
     "text": [
      "[Parallel(n_jobs=14)]: Using backend ThreadingBackend with 14 concurrent workers.\n",
      "[Parallel(n_jobs=14)]: Done  22 tasks      | elapsed:    0.0s\n",
      "[Parallel(n_jobs=14)]: Done 172 tasks      | elapsed:    0.2s\n",
      "[Parallel(n_jobs=14)]: Done 422 tasks      | elapsed:    0.6s\n",
      "[Parallel(n_jobs=14)]: Done 489 out of 489 | elapsed:    0.6s finished\n"
     ]
    },
    {
     "name": "stdout",
     "output_type": "stream",
     "text": [
      "Iteration: \t664 / 1000\n",
      "Confirmed: \t83\n",
      "Tentative: \t25\n",
      "Rejected: \t4892\n"
     ]
    },
    {
     "name": "stderr",
     "output_type": "stream",
     "text": [
      "[Parallel(n_jobs=14)]: Using backend ThreadingBackend with 14 concurrent workers.\n",
      "[Parallel(n_jobs=14)]: Done  22 tasks      | elapsed:    0.0s\n",
      "[Parallel(n_jobs=14)]: Done 172 tasks      | elapsed:    0.2s\n",
      "[Parallel(n_jobs=14)]: Done 422 tasks      | elapsed:    0.5s\n",
      "[Parallel(n_jobs=14)]: Done 489 out of 489 | elapsed:    0.6s finished\n"
     ]
    },
    {
     "name": "stdout",
     "output_type": "stream",
     "text": [
      "Iteration: \t665 / 1000\n",
      "Confirmed: \t83\n",
      "Tentative: \t25\n",
      "Rejected: \t4892\n"
     ]
    },
    {
     "name": "stderr",
     "output_type": "stream",
     "text": [
      "[Parallel(n_jobs=14)]: Using backend ThreadingBackend with 14 concurrent workers.\n",
      "[Parallel(n_jobs=14)]: Done  22 tasks      | elapsed:    0.0s\n",
      "[Parallel(n_jobs=14)]: Done 172 tasks      | elapsed:    0.2s\n",
      "[Parallel(n_jobs=14)]: Done 422 tasks      | elapsed:    0.6s\n",
      "[Parallel(n_jobs=14)]: Done 489 out of 489 | elapsed:    0.6s finished\n"
     ]
    },
    {
     "name": "stdout",
     "output_type": "stream",
     "text": [
      "Iteration: \t666 / 1000\n",
      "Confirmed: \t83\n",
      "Tentative: \t25\n",
      "Rejected: \t4892\n"
     ]
    },
    {
     "name": "stderr",
     "output_type": "stream",
     "text": [
      "[Parallel(n_jobs=14)]: Using backend ThreadingBackend with 14 concurrent workers.\n",
      "[Parallel(n_jobs=14)]: Done  22 tasks      | elapsed:    0.0s\n",
      "[Parallel(n_jobs=14)]: Done 172 tasks      | elapsed:    0.2s\n",
      "[Parallel(n_jobs=14)]: Done 422 tasks      | elapsed:    0.6s\n",
      "[Parallel(n_jobs=14)]: Done 489 out of 489 | elapsed:    0.6s finished\n"
     ]
    },
    {
     "name": "stdout",
     "output_type": "stream",
     "text": [
      "Iteration: \t667 / 1000\n",
      "Confirmed: \t83\n",
      "Tentative: \t25\n",
      "Rejected: \t4892\n"
     ]
    },
    {
     "name": "stderr",
     "output_type": "stream",
     "text": [
      "[Parallel(n_jobs=14)]: Using backend ThreadingBackend with 14 concurrent workers.\n",
      "[Parallel(n_jobs=14)]: Done  22 tasks      | elapsed:    0.0s\n",
      "[Parallel(n_jobs=14)]: Done 172 tasks      | elapsed:    0.2s\n",
      "[Parallel(n_jobs=14)]: Done 422 tasks      | elapsed:    0.6s\n",
      "[Parallel(n_jobs=14)]: Done 489 out of 489 | elapsed:    0.6s finished\n"
     ]
    },
    {
     "name": "stdout",
     "output_type": "stream",
     "text": [
      "Iteration: \t668 / 1000\n",
      "Confirmed: \t83\n",
      "Tentative: \t25\n",
      "Rejected: \t4892\n"
     ]
    },
    {
     "name": "stderr",
     "output_type": "stream",
     "text": [
      "[Parallel(n_jobs=14)]: Using backend ThreadingBackend with 14 concurrent workers.\n",
      "[Parallel(n_jobs=14)]: Done  22 tasks      | elapsed:    0.0s\n",
      "[Parallel(n_jobs=14)]: Done 172 tasks      | elapsed:    0.2s\n",
      "[Parallel(n_jobs=14)]: Done 422 tasks      | elapsed:    0.5s\n",
      "[Parallel(n_jobs=14)]: Done 489 out of 489 | elapsed:    0.6s finished\n"
     ]
    },
    {
     "name": "stdout",
     "output_type": "stream",
     "text": [
      "Iteration: \t669 / 1000\n",
      "Confirmed: \t83\n",
      "Tentative: \t25\n",
      "Rejected: \t4892\n"
     ]
    },
    {
     "name": "stderr",
     "output_type": "stream",
     "text": [
      "[Parallel(n_jobs=14)]: Using backend ThreadingBackend with 14 concurrent workers.\n",
      "[Parallel(n_jobs=14)]: Done  22 tasks      | elapsed:    0.0s\n",
      "[Parallel(n_jobs=14)]: Done 172 tasks      | elapsed:    0.2s\n",
      "[Parallel(n_jobs=14)]: Done 422 tasks      | elapsed:    0.5s\n",
      "[Parallel(n_jobs=14)]: Done 489 out of 489 | elapsed:    0.6s finished\n"
     ]
    },
    {
     "name": "stdout",
     "output_type": "stream",
     "text": [
      "Iteration: \t670 / 1000\n",
      "Confirmed: \t83\n",
      "Tentative: \t25\n",
      "Rejected: \t4892\n"
     ]
    },
    {
     "name": "stderr",
     "output_type": "stream",
     "text": [
      "[Parallel(n_jobs=14)]: Using backend ThreadingBackend with 14 concurrent workers.\n",
      "[Parallel(n_jobs=14)]: Done  22 tasks      | elapsed:    0.0s\n",
      "[Parallel(n_jobs=14)]: Done 172 tasks      | elapsed:    0.2s\n",
      "[Parallel(n_jobs=14)]: Done 422 tasks      | elapsed:    0.5s\n",
      "[Parallel(n_jobs=14)]: Done 489 out of 489 | elapsed:    0.6s finished\n"
     ]
    },
    {
     "name": "stdout",
     "output_type": "stream",
     "text": [
      "Iteration: \t671 / 1000\n",
      "Confirmed: \t83\n",
      "Tentative: \t25\n",
      "Rejected: \t4892\n"
     ]
    },
    {
     "name": "stderr",
     "output_type": "stream",
     "text": [
      "[Parallel(n_jobs=14)]: Using backend ThreadingBackend with 14 concurrent workers.\n",
      "[Parallel(n_jobs=14)]: Done  22 tasks      | elapsed:    0.0s\n",
      "[Parallel(n_jobs=14)]: Done 172 tasks      | elapsed:    0.2s\n",
      "[Parallel(n_jobs=14)]: Done 422 tasks      | elapsed:    0.6s\n",
      "[Parallel(n_jobs=14)]: Done 489 out of 489 | elapsed:    0.6s finished\n"
     ]
    },
    {
     "name": "stdout",
     "output_type": "stream",
     "text": [
      "Iteration: \t672 / 1000\n",
      "Confirmed: \t83\n",
      "Tentative: \t25\n",
      "Rejected: \t4892\n"
     ]
    },
    {
     "name": "stderr",
     "output_type": "stream",
     "text": [
      "[Parallel(n_jobs=14)]: Using backend ThreadingBackend with 14 concurrent workers.\n",
      "[Parallel(n_jobs=14)]: Done  22 tasks      | elapsed:    0.0s\n",
      "[Parallel(n_jobs=14)]: Done 172 tasks      | elapsed:    0.2s\n",
      "[Parallel(n_jobs=14)]: Done 422 tasks      | elapsed:    0.5s\n",
      "[Parallel(n_jobs=14)]: Done 489 out of 489 | elapsed:    0.6s finished\n"
     ]
    },
    {
     "name": "stdout",
     "output_type": "stream",
     "text": [
      "Iteration: \t673 / 1000\n",
      "Confirmed: \t83\n",
      "Tentative: \t25\n",
      "Rejected: \t4892\n"
     ]
    },
    {
     "name": "stderr",
     "output_type": "stream",
     "text": [
      "[Parallel(n_jobs=14)]: Using backend ThreadingBackend with 14 concurrent workers.\n",
      "[Parallel(n_jobs=14)]: Done  22 tasks      | elapsed:    0.0s\n",
      "[Parallel(n_jobs=14)]: Done 172 tasks      | elapsed:    0.2s\n",
      "[Parallel(n_jobs=14)]: Done 422 tasks      | elapsed:    0.5s\n",
      "[Parallel(n_jobs=14)]: Done 489 out of 489 | elapsed:    0.6s finished\n"
     ]
    },
    {
     "name": "stdout",
     "output_type": "stream",
     "text": [
      "Iteration: \t674 / 1000\n",
      "Confirmed: \t83\n",
      "Tentative: \t25\n",
      "Rejected: \t4892\n"
     ]
    },
    {
     "name": "stderr",
     "output_type": "stream",
     "text": [
      "[Parallel(n_jobs=14)]: Using backend ThreadingBackend with 14 concurrent workers.\n",
      "[Parallel(n_jobs=14)]: Done  22 tasks      | elapsed:    0.0s\n",
      "[Parallel(n_jobs=14)]: Done 172 tasks      | elapsed:    0.2s\n",
      "[Parallel(n_jobs=14)]: Done 422 tasks      | elapsed:    0.6s\n",
      "[Parallel(n_jobs=14)]: Done 489 out of 489 | elapsed:    0.6s finished\n"
     ]
    },
    {
     "name": "stdout",
     "output_type": "stream",
     "text": [
      "Iteration: \t675 / 1000\n",
      "Confirmed: \t83\n",
      "Tentative: \t25\n",
      "Rejected: \t4892\n"
     ]
    },
    {
     "name": "stderr",
     "output_type": "stream",
     "text": [
      "[Parallel(n_jobs=14)]: Using backend ThreadingBackend with 14 concurrent workers.\n",
      "[Parallel(n_jobs=14)]: Done  22 tasks      | elapsed:    0.0s\n",
      "[Parallel(n_jobs=14)]: Done 172 tasks      | elapsed:    0.2s\n",
      "[Parallel(n_jobs=14)]: Done 422 tasks      | elapsed:    0.6s\n",
      "[Parallel(n_jobs=14)]: Done 489 out of 489 | elapsed:    0.6s finished\n"
     ]
    },
    {
     "name": "stdout",
     "output_type": "stream",
     "text": [
      "Iteration: \t676 / 1000\n",
      "Confirmed: \t84\n",
      "Tentative: \t24\n",
      "Rejected: \t4892\n"
     ]
    },
    {
     "name": "stderr",
     "output_type": "stream",
     "text": [
      "[Parallel(n_jobs=14)]: Using backend ThreadingBackend with 14 concurrent workers.\n",
      "[Parallel(n_jobs=14)]: Done  22 tasks      | elapsed:    0.0s\n",
      "[Parallel(n_jobs=14)]: Done 172 tasks      | elapsed:    0.2s\n",
      "[Parallel(n_jobs=14)]: Done 422 tasks      | elapsed:    0.5s\n",
      "[Parallel(n_jobs=14)]: Done 489 out of 489 | elapsed:    0.6s finished\n"
     ]
    },
    {
     "name": "stdout",
     "output_type": "stream",
     "text": [
      "Iteration: \t677 / 1000\n",
      "Confirmed: \t84\n",
      "Tentative: \t24\n",
      "Rejected: \t4892\n"
     ]
    },
    {
     "name": "stderr",
     "output_type": "stream",
     "text": [
      "[Parallel(n_jobs=14)]: Using backend ThreadingBackend with 14 concurrent workers.\n",
      "[Parallel(n_jobs=14)]: Done  22 tasks      | elapsed:    0.0s\n",
      "[Parallel(n_jobs=14)]: Done 172 tasks      | elapsed:    0.2s\n",
      "[Parallel(n_jobs=14)]: Done 422 tasks      | elapsed:    0.6s\n",
      "[Parallel(n_jobs=14)]: Done 489 out of 489 | elapsed:    0.6s finished\n"
     ]
    },
    {
     "name": "stdout",
     "output_type": "stream",
     "text": [
      "Iteration: \t678 / 1000\n",
      "Confirmed: \t84\n",
      "Tentative: \t24\n",
      "Rejected: \t4892\n"
     ]
    },
    {
     "name": "stderr",
     "output_type": "stream",
     "text": [
      "[Parallel(n_jobs=14)]: Using backend ThreadingBackend with 14 concurrent workers.\n",
      "[Parallel(n_jobs=14)]: Done  22 tasks      | elapsed:    0.0s\n",
      "[Parallel(n_jobs=14)]: Done 172 tasks      | elapsed:    0.2s\n",
      "[Parallel(n_jobs=14)]: Done 422 tasks      | elapsed:    0.5s\n",
      "[Parallel(n_jobs=14)]: Done 489 out of 489 | elapsed:    0.6s finished\n"
     ]
    },
    {
     "name": "stdout",
     "output_type": "stream",
     "text": [
      "Iteration: \t679 / 1000\n",
      "Confirmed: \t84\n",
      "Tentative: \t24\n",
      "Rejected: \t4892\n"
     ]
    },
    {
     "name": "stderr",
     "output_type": "stream",
     "text": [
      "[Parallel(n_jobs=14)]: Using backend ThreadingBackend with 14 concurrent workers.\n",
      "[Parallel(n_jobs=14)]: Done  22 tasks      | elapsed:    0.0s\n",
      "[Parallel(n_jobs=14)]: Done 172 tasks      | elapsed:    0.2s\n",
      "[Parallel(n_jobs=14)]: Done 422 tasks      | elapsed:    0.6s\n",
      "[Parallel(n_jobs=14)]: Done 489 out of 489 | elapsed:    0.6s finished\n"
     ]
    },
    {
     "name": "stdout",
     "output_type": "stream",
     "text": [
      "Iteration: \t680 / 1000\n",
      "Confirmed: \t84\n",
      "Tentative: \t24\n",
      "Rejected: \t4892\n"
     ]
    },
    {
     "name": "stderr",
     "output_type": "stream",
     "text": [
      "[Parallel(n_jobs=14)]: Using backend ThreadingBackend with 14 concurrent workers.\n",
      "[Parallel(n_jobs=14)]: Done  22 tasks      | elapsed:    0.0s\n",
      "[Parallel(n_jobs=14)]: Done 172 tasks      | elapsed:    0.2s\n",
      "[Parallel(n_jobs=14)]: Done 422 tasks      | elapsed:    0.6s\n",
      "[Parallel(n_jobs=14)]: Done 489 out of 489 | elapsed:    0.6s finished\n"
     ]
    },
    {
     "name": "stdout",
     "output_type": "stream",
     "text": [
      "Iteration: \t681 / 1000\n",
      "Confirmed: \t84\n",
      "Tentative: \t24\n",
      "Rejected: \t4892\n"
     ]
    },
    {
     "name": "stderr",
     "output_type": "stream",
     "text": [
      "[Parallel(n_jobs=14)]: Using backend ThreadingBackend with 14 concurrent workers.\n",
      "[Parallel(n_jobs=14)]: Done  22 tasks      | elapsed:    0.0s\n",
      "[Parallel(n_jobs=14)]: Done 172 tasks      | elapsed:    0.2s\n",
      "[Parallel(n_jobs=14)]: Done 422 tasks      | elapsed:    0.6s\n",
      "[Parallel(n_jobs=14)]: Done 489 out of 489 | elapsed:    0.6s finished\n"
     ]
    },
    {
     "name": "stdout",
     "output_type": "stream",
     "text": [
      "Iteration: \t682 / 1000\n",
      "Confirmed: \t84\n",
      "Tentative: \t24\n",
      "Rejected: \t4892\n"
     ]
    },
    {
     "name": "stderr",
     "output_type": "stream",
     "text": [
      "[Parallel(n_jobs=14)]: Using backend ThreadingBackend with 14 concurrent workers.\n",
      "[Parallel(n_jobs=14)]: Done  22 tasks      | elapsed:    0.0s\n",
      "[Parallel(n_jobs=14)]: Done 172 tasks      | elapsed:    0.2s\n",
      "[Parallel(n_jobs=14)]: Done 422 tasks      | elapsed:    0.5s\n",
      "[Parallel(n_jobs=14)]: Done 489 out of 489 | elapsed:    0.6s finished\n"
     ]
    },
    {
     "name": "stdout",
     "output_type": "stream",
     "text": [
      "Iteration: \t683 / 1000\n",
      "Confirmed: \t84\n",
      "Tentative: \t24\n",
      "Rejected: \t4892\n"
     ]
    },
    {
     "name": "stderr",
     "output_type": "stream",
     "text": [
      "[Parallel(n_jobs=14)]: Using backend ThreadingBackend with 14 concurrent workers.\n",
      "[Parallel(n_jobs=14)]: Done  22 tasks      | elapsed:    0.0s\n",
      "[Parallel(n_jobs=14)]: Done 172 tasks      | elapsed:    0.2s\n",
      "[Parallel(n_jobs=14)]: Done 422 tasks      | elapsed:    0.5s\n",
      "[Parallel(n_jobs=14)]: Done 489 out of 489 | elapsed:    0.6s finished\n"
     ]
    },
    {
     "name": "stdout",
     "output_type": "stream",
     "text": [
      "Iteration: \t684 / 1000\n",
      "Confirmed: \t84\n",
      "Tentative: \t24\n",
      "Rejected: \t4892\n"
     ]
    },
    {
     "name": "stderr",
     "output_type": "stream",
     "text": [
      "[Parallel(n_jobs=14)]: Using backend ThreadingBackend with 14 concurrent workers.\n",
      "[Parallel(n_jobs=14)]: Done  22 tasks      | elapsed:    0.0s\n",
      "[Parallel(n_jobs=14)]: Done 172 tasks      | elapsed:    0.2s\n",
      "[Parallel(n_jobs=14)]: Done 422 tasks      | elapsed:    0.6s\n",
      "[Parallel(n_jobs=14)]: Done 489 out of 489 | elapsed:    0.6s finished\n"
     ]
    },
    {
     "name": "stdout",
     "output_type": "stream",
     "text": [
      "Iteration: \t685 / 1000\n",
      "Confirmed: \t84\n",
      "Tentative: \t24\n",
      "Rejected: \t4892\n"
     ]
    },
    {
     "name": "stderr",
     "output_type": "stream",
     "text": [
      "[Parallel(n_jobs=14)]: Using backend ThreadingBackend with 14 concurrent workers.\n",
      "[Parallel(n_jobs=14)]: Done  22 tasks      | elapsed:    0.0s\n",
      "[Parallel(n_jobs=14)]: Done 172 tasks      | elapsed:    0.2s\n",
      "[Parallel(n_jobs=14)]: Done 422 tasks      | elapsed:    0.5s\n",
      "[Parallel(n_jobs=14)]: Done 489 out of 489 | elapsed:    0.6s finished\n"
     ]
    },
    {
     "name": "stdout",
     "output_type": "stream",
     "text": [
      "Iteration: \t686 / 1000\n",
      "Confirmed: \t84\n",
      "Tentative: \t24\n",
      "Rejected: \t4892\n"
     ]
    },
    {
     "name": "stderr",
     "output_type": "stream",
     "text": [
      "[Parallel(n_jobs=14)]: Using backend ThreadingBackend with 14 concurrent workers.\n",
      "[Parallel(n_jobs=14)]: Done  22 tasks      | elapsed:    0.0s\n",
      "[Parallel(n_jobs=14)]: Done 172 tasks      | elapsed:    0.2s\n",
      "[Parallel(n_jobs=14)]: Done 422 tasks      | elapsed:    0.6s\n",
      "[Parallel(n_jobs=14)]: Done 489 out of 489 | elapsed:    0.6s finished\n"
     ]
    },
    {
     "name": "stdout",
     "output_type": "stream",
     "text": [
      "Iteration: \t687 / 1000\n",
      "Confirmed: \t84\n",
      "Tentative: \t24\n",
      "Rejected: \t4892\n"
     ]
    },
    {
     "name": "stderr",
     "output_type": "stream",
     "text": [
      "[Parallel(n_jobs=14)]: Using backend ThreadingBackend with 14 concurrent workers.\n",
      "[Parallel(n_jobs=14)]: Done  22 tasks      | elapsed:    0.0s\n",
      "[Parallel(n_jobs=14)]: Done 172 tasks      | elapsed:    0.2s\n",
      "[Parallel(n_jobs=14)]: Done 422 tasks      | elapsed:    0.5s\n",
      "[Parallel(n_jobs=14)]: Done 489 out of 489 | elapsed:    0.6s finished\n"
     ]
    },
    {
     "name": "stdout",
     "output_type": "stream",
     "text": [
      "Iteration: \t688 / 1000\n",
      "Confirmed: \t84\n",
      "Tentative: \t24\n",
      "Rejected: \t4892\n"
     ]
    },
    {
     "name": "stderr",
     "output_type": "stream",
     "text": [
      "[Parallel(n_jobs=14)]: Using backend ThreadingBackend with 14 concurrent workers.\n",
      "[Parallel(n_jobs=14)]: Done  22 tasks      | elapsed:    0.0s\n",
      "[Parallel(n_jobs=14)]: Done 172 tasks      | elapsed:    0.2s\n",
      "[Parallel(n_jobs=14)]: Done 422 tasks      | elapsed:    0.6s\n",
      "[Parallel(n_jobs=14)]: Done 489 out of 489 | elapsed:    0.6s finished\n"
     ]
    },
    {
     "name": "stdout",
     "output_type": "stream",
     "text": [
      "Iteration: \t689 / 1000\n",
      "Confirmed: \t84\n",
      "Tentative: \t24\n",
      "Rejected: \t4892\n"
     ]
    },
    {
     "name": "stderr",
     "output_type": "stream",
     "text": [
      "[Parallel(n_jobs=14)]: Using backend ThreadingBackend with 14 concurrent workers.\n",
      "[Parallel(n_jobs=14)]: Done  22 tasks      | elapsed:    0.0s\n",
      "[Parallel(n_jobs=14)]: Done 172 tasks      | elapsed:    0.2s\n",
      "[Parallel(n_jobs=14)]: Done 422 tasks      | elapsed:    0.5s\n",
      "[Parallel(n_jobs=14)]: Done 489 out of 489 | elapsed:    0.6s finished\n"
     ]
    },
    {
     "name": "stdout",
     "output_type": "stream",
     "text": [
      "Iteration: \t690 / 1000\n",
      "Confirmed: \t84\n",
      "Tentative: \t24\n",
      "Rejected: \t4892\n"
     ]
    },
    {
     "name": "stderr",
     "output_type": "stream",
     "text": [
      "[Parallel(n_jobs=14)]: Using backend ThreadingBackend with 14 concurrent workers.\n",
      "[Parallel(n_jobs=14)]: Done  22 tasks      | elapsed:    0.0s\n",
      "[Parallel(n_jobs=14)]: Done 172 tasks      | elapsed:    0.2s\n",
      "[Parallel(n_jobs=14)]: Done 422 tasks      | elapsed:    0.6s\n",
      "[Parallel(n_jobs=14)]: Done 489 out of 489 | elapsed:    0.6s finished\n"
     ]
    },
    {
     "name": "stdout",
     "output_type": "stream",
     "text": [
      "Iteration: \t691 / 1000\n",
      "Confirmed: \t84\n",
      "Tentative: \t24\n",
      "Rejected: \t4892\n"
     ]
    },
    {
     "name": "stderr",
     "output_type": "stream",
     "text": [
      "[Parallel(n_jobs=14)]: Using backend ThreadingBackend with 14 concurrent workers.\n",
      "[Parallel(n_jobs=14)]: Done  22 tasks      | elapsed:    0.0s\n",
      "[Parallel(n_jobs=14)]: Done 172 tasks      | elapsed:    0.2s\n",
      "[Parallel(n_jobs=14)]: Done 422 tasks      | elapsed:    0.6s\n",
      "[Parallel(n_jobs=14)]: Done 489 out of 489 | elapsed:    0.6s finished\n"
     ]
    },
    {
     "name": "stdout",
     "output_type": "stream",
     "text": [
      "Iteration: \t692 / 1000\n",
      "Confirmed: \t84\n",
      "Tentative: \t24\n",
      "Rejected: \t4892\n"
     ]
    },
    {
     "name": "stderr",
     "output_type": "stream",
     "text": [
      "[Parallel(n_jobs=14)]: Using backend ThreadingBackend with 14 concurrent workers.\n",
      "[Parallel(n_jobs=14)]: Done  22 tasks      | elapsed:    0.0s\n",
      "[Parallel(n_jobs=14)]: Done 172 tasks      | elapsed:    0.2s\n",
      "[Parallel(n_jobs=14)]: Done 422 tasks      | elapsed:    0.5s\n",
      "[Parallel(n_jobs=14)]: Done 489 out of 489 | elapsed:    0.6s finished\n"
     ]
    },
    {
     "name": "stdout",
     "output_type": "stream",
     "text": [
      "Iteration: \t693 / 1000\n",
      "Confirmed: \t84\n",
      "Tentative: \t24\n",
      "Rejected: \t4892\n"
     ]
    },
    {
     "name": "stderr",
     "output_type": "stream",
     "text": [
      "[Parallel(n_jobs=14)]: Using backend ThreadingBackend with 14 concurrent workers.\n",
      "[Parallel(n_jobs=14)]: Done  22 tasks      | elapsed:    0.0s\n",
      "[Parallel(n_jobs=14)]: Done 172 tasks      | elapsed:    0.2s\n",
      "[Parallel(n_jobs=14)]: Done 422 tasks      | elapsed:    0.6s\n",
      "[Parallel(n_jobs=14)]: Done 489 out of 489 | elapsed:    0.6s finished\n"
     ]
    },
    {
     "name": "stdout",
     "output_type": "stream",
     "text": [
      "Iteration: \t694 / 1000\n",
      "Confirmed: \t84\n",
      "Tentative: \t24\n",
      "Rejected: \t4892\n"
     ]
    },
    {
     "name": "stderr",
     "output_type": "stream",
     "text": [
      "[Parallel(n_jobs=14)]: Using backend ThreadingBackend with 14 concurrent workers.\n",
      "[Parallel(n_jobs=14)]: Done  22 tasks      | elapsed:    0.0s\n",
      "[Parallel(n_jobs=14)]: Done 172 tasks      | elapsed:    0.2s\n",
      "[Parallel(n_jobs=14)]: Done 422 tasks      | elapsed:    0.6s\n",
      "[Parallel(n_jobs=14)]: Done 489 out of 489 | elapsed:    0.6s finished\n"
     ]
    },
    {
     "name": "stdout",
     "output_type": "stream",
     "text": [
      "Iteration: \t695 / 1000\n",
      "Confirmed: \t84\n",
      "Tentative: \t24\n",
      "Rejected: \t4892\n"
     ]
    },
    {
     "name": "stderr",
     "output_type": "stream",
     "text": [
      "[Parallel(n_jobs=14)]: Using backend ThreadingBackend with 14 concurrent workers.\n",
      "[Parallel(n_jobs=14)]: Done  22 tasks      | elapsed:    0.0s\n",
      "[Parallel(n_jobs=14)]: Done 172 tasks      | elapsed:    0.2s\n",
      "[Parallel(n_jobs=14)]: Done 422 tasks      | elapsed:    0.6s\n",
      "[Parallel(n_jobs=14)]: Done 489 out of 489 | elapsed:    0.6s finished\n"
     ]
    },
    {
     "name": "stdout",
     "output_type": "stream",
     "text": [
      "Iteration: \t696 / 1000\n",
      "Confirmed: \t84\n",
      "Tentative: \t24\n",
      "Rejected: \t4892\n"
     ]
    },
    {
     "name": "stderr",
     "output_type": "stream",
     "text": [
      "[Parallel(n_jobs=14)]: Using backend ThreadingBackend with 14 concurrent workers.\n",
      "[Parallel(n_jobs=14)]: Done  22 tasks      | elapsed:    0.0s\n",
      "[Parallel(n_jobs=14)]: Done 172 tasks      | elapsed:    0.2s\n",
      "[Parallel(n_jobs=14)]: Done 422 tasks      | elapsed:    0.6s\n",
      "[Parallel(n_jobs=14)]: Done 489 out of 489 | elapsed:    0.6s finished\n"
     ]
    },
    {
     "name": "stdout",
     "output_type": "stream",
     "text": [
      "Iteration: \t697 / 1000\n",
      "Confirmed: \t84\n",
      "Tentative: \t24\n",
      "Rejected: \t4892\n"
     ]
    },
    {
     "name": "stderr",
     "output_type": "stream",
     "text": [
      "[Parallel(n_jobs=14)]: Using backend ThreadingBackend with 14 concurrent workers.\n",
      "[Parallel(n_jobs=14)]: Done  22 tasks      | elapsed:    0.0s\n",
      "[Parallel(n_jobs=14)]: Done 172 tasks      | elapsed:    0.2s\n",
      "[Parallel(n_jobs=14)]: Done 422 tasks      | elapsed:    0.5s\n",
      "[Parallel(n_jobs=14)]: Done 489 out of 489 | elapsed:    0.6s finished\n"
     ]
    },
    {
     "name": "stdout",
     "output_type": "stream",
     "text": [
      "Iteration: \t698 / 1000\n",
      "Confirmed: \t84\n",
      "Tentative: \t24\n",
      "Rejected: \t4892\n"
     ]
    },
    {
     "name": "stderr",
     "output_type": "stream",
     "text": [
      "[Parallel(n_jobs=14)]: Using backend ThreadingBackend with 14 concurrent workers.\n",
      "[Parallel(n_jobs=14)]: Done  22 tasks      | elapsed:    0.0s\n",
      "[Parallel(n_jobs=14)]: Done 172 tasks      | elapsed:    0.2s\n",
      "[Parallel(n_jobs=14)]: Done 422 tasks      | elapsed:    0.5s\n",
      "[Parallel(n_jobs=14)]: Done 489 out of 489 | elapsed:    0.6s finished\n"
     ]
    },
    {
     "name": "stdout",
     "output_type": "stream",
     "text": [
      "Iteration: \t699 / 1000\n",
      "Confirmed: \t84\n",
      "Tentative: \t24\n",
      "Rejected: \t4892\n"
     ]
    },
    {
     "name": "stderr",
     "output_type": "stream",
     "text": [
      "[Parallel(n_jobs=14)]: Using backend ThreadingBackend with 14 concurrent workers.\n",
      "[Parallel(n_jobs=14)]: Done  22 tasks      | elapsed:    0.0s\n",
      "[Parallel(n_jobs=14)]: Done 172 tasks      | elapsed:    0.2s\n",
      "[Parallel(n_jobs=14)]: Done 422 tasks      | elapsed:    0.5s\n",
      "[Parallel(n_jobs=14)]: Done 489 out of 489 | elapsed:    0.6s finished\n"
     ]
    },
    {
     "name": "stdout",
     "output_type": "stream",
     "text": [
      "Iteration: \t700 / 1000\n",
      "Confirmed: \t84\n",
      "Tentative: \t24\n",
      "Rejected: \t4892\n"
     ]
    },
    {
     "name": "stderr",
     "output_type": "stream",
     "text": [
      "[Parallel(n_jobs=14)]: Using backend ThreadingBackend with 14 concurrent workers.\n",
      "[Parallel(n_jobs=14)]: Done  22 tasks      | elapsed:    0.0s\n",
      "[Parallel(n_jobs=14)]: Done 172 tasks      | elapsed:    0.2s\n",
      "[Parallel(n_jobs=14)]: Done 422 tasks      | elapsed:    0.5s\n",
      "[Parallel(n_jobs=14)]: Done 489 out of 489 | elapsed:    0.6s finished\n"
     ]
    },
    {
     "name": "stdout",
     "output_type": "stream",
     "text": [
      "Iteration: \t701 / 1000\n",
      "Confirmed: \t84\n",
      "Tentative: \t24\n",
      "Rejected: \t4892\n"
     ]
    },
    {
     "name": "stderr",
     "output_type": "stream",
     "text": [
      "[Parallel(n_jobs=14)]: Using backend ThreadingBackend with 14 concurrent workers.\n",
      "[Parallel(n_jobs=14)]: Done  22 tasks      | elapsed:    0.0s\n",
      "[Parallel(n_jobs=14)]: Done 172 tasks      | elapsed:    0.2s\n",
      "[Parallel(n_jobs=14)]: Done 422 tasks      | elapsed:    0.5s\n",
      "[Parallel(n_jobs=14)]: Done 489 out of 489 | elapsed:    0.6s finished\n"
     ]
    },
    {
     "name": "stdout",
     "output_type": "stream",
     "text": [
      "Iteration: \t702 / 1000\n",
      "Confirmed: \t84\n",
      "Tentative: \t24\n",
      "Rejected: \t4892\n"
     ]
    },
    {
     "name": "stderr",
     "output_type": "stream",
     "text": [
      "[Parallel(n_jobs=14)]: Using backend ThreadingBackend with 14 concurrent workers.\n",
      "[Parallel(n_jobs=14)]: Done  22 tasks      | elapsed:    0.0s\n",
      "[Parallel(n_jobs=14)]: Done 172 tasks      | elapsed:    0.2s\n",
      "[Parallel(n_jobs=14)]: Done 422 tasks      | elapsed:    0.5s\n",
      "[Parallel(n_jobs=14)]: Done 489 out of 489 | elapsed:    0.6s finished\n"
     ]
    },
    {
     "name": "stdout",
     "output_type": "stream",
     "text": [
      "Iteration: \t703 / 1000\n",
      "Confirmed: \t84\n",
      "Tentative: \t24\n",
      "Rejected: \t4892\n"
     ]
    },
    {
     "name": "stderr",
     "output_type": "stream",
     "text": [
      "[Parallel(n_jobs=14)]: Using backend ThreadingBackend with 14 concurrent workers.\n",
      "[Parallel(n_jobs=14)]: Done  22 tasks      | elapsed:    0.0s\n",
      "[Parallel(n_jobs=14)]: Done 172 tasks      | elapsed:    0.2s\n",
      "[Parallel(n_jobs=14)]: Done 422 tasks      | elapsed:    0.5s\n",
      "[Parallel(n_jobs=14)]: Done 489 out of 489 | elapsed:    0.6s finished\n"
     ]
    },
    {
     "name": "stdout",
     "output_type": "stream",
     "text": [
      "Iteration: \t704 / 1000\n",
      "Confirmed: \t84\n",
      "Tentative: \t24\n",
      "Rejected: \t4892\n"
     ]
    },
    {
     "name": "stderr",
     "output_type": "stream",
     "text": [
      "[Parallel(n_jobs=14)]: Using backend ThreadingBackend with 14 concurrent workers.\n",
      "[Parallel(n_jobs=14)]: Done  22 tasks      | elapsed:    0.0s\n",
      "[Parallel(n_jobs=14)]: Done 172 tasks      | elapsed:    0.2s\n",
      "[Parallel(n_jobs=14)]: Done 422 tasks      | elapsed:    0.5s\n",
      "[Parallel(n_jobs=14)]: Done 489 out of 489 | elapsed:    0.6s finished\n"
     ]
    },
    {
     "name": "stdout",
     "output_type": "stream",
     "text": [
      "Iteration: \t705 / 1000\n",
      "Confirmed: \t84\n",
      "Tentative: \t24\n",
      "Rejected: \t4892\n"
     ]
    },
    {
     "name": "stderr",
     "output_type": "stream",
     "text": [
      "[Parallel(n_jobs=14)]: Using backend ThreadingBackend with 14 concurrent workers.\n",
      "[Parallel(n_jobs=14)]: Done  22 tasks      | elapsed:    0.0s\n",
      "[Parallel(n_jobs=14)]: Done 172 tasks      | elapsed:    0.2s\n",
      "[Parallel(n_jobs=14)]: Done 422 tasks      | elapsed:    0.6s\n",
      "[Parallel(n_jobs=14)]: Done 489 out of 489 | elapsed:    0.6s finished\n"
     ]
    },
    {
     "name": "stdout",
     "output_type": "stream",
     "text": [
      "Iteration: \t706 / 1000\n",
      "Confirmed: \t84\n",
      "Tentative: \t24\n",
      "Rejected: \t4892\n"
     ]
    },
    {
     "name": "stderr",
     "output_type": "stream",
     "text": [
      "[Parallel(n_jobs=14)]: Using backend ThreadingBackend with 14 concurrent workers.\n",
      "[Parallel(n_jobs=14)]: Done  22 tasks      | elapsed:    0.0s\n",
      "[Parallel(n_jobs=14)]: Done 172 tasks      | elapsed:    0.2s\n",
      "[Parallel(n_jobs=14)]: Done 422 tasks      | elapsed:    0.6s\n",
      "[Parallel(n_jobs=14)]: Done 489 out of 489 | elapsed:    0.6s finished\n"
     ]
    },
    {
     "name": "stdout",
     "output_type": "stream",
     "text": [
      "Iteration: \t707 / 1000\n",
      "Confirmed: \t84\n",
      "Tentative: \t24\n",
      "Rejected: \t4892\n"
     ]
    },
    {
     "name": "stderr",
     "output_type": "stream",
     "text": [
      "[Parallel(n_jobs=14)]: Using backend ThreadingBackend with 14 concurrent workers.\n",
      "[Parallel(n_jobs=14)]: Done  22 tasks      | elapsed:    0.0s\n",
      "[Parallel(n_jobs=14)]: Done 172 tasks      | elapsed:    0.2s\n",
      "[Parallel(n_jobs=14)]: Done 422 tasks      | elapsed:    0.5s\n",
      "[Parallel(n_jobs=14)]: Done 489 out of 489 | elapsed:    0.6s finished\n"
     ]
    },
    {
     "name": "stdout",
     "output_type": "stream",
     "text": [
      "Iteration: \t708 / 1000\n",
      "Confirmed: \t84\n",
      "Tentative: \t24\n",
      "Rejected: \t4892\n"
     ]
    },
    {
     "name": "stderr",
     "output_type": "stream",
     "text": [
      "[Parallel(n_jobs=14)]: Using backend ThreadingBackend with 14 concurrent workers.\n",
      "[Parallel(n_jobs=14)]: Done  22 tasks      | elapsed:    0.0s\n",
      "[Parallel(n_jobs=14)]: Done 172 tasks      | elapsed:    0.2s\n",
      "[Parallel(n_jobs=14)]: Done 422 tasks      | elapsed:    0.6s\n",
      "[Parallel(n_jobs=14)]: Done 489 out of 489 | elapsed:    0.6s finished\n"
     ]
    },
    {
     "name": "stdout",
     "output_type": "stream",
     "text": [
      "Iteration: \t709 / 1000\n",
      "Confirmed: \t84\n",
      "Tentative: \t24\n",
      "Rejected: \t4892\n"
     ]
    },
    {
     "name": "stderr",
     "output_type": "stream",
     "text": [
      "[Parallel(n_jobs=14)]: Using backend ThreadingBackend with 14 concurrent workers.\n",
      "[Parallel(n_jobs=14)]: Done  22 tasks      | elapsed:    0.0s\n",
      "[Parallel(n_jobs=14)]: Done 172 tasks      | elapsed:    0.2s\n",
      "[Parallel(n_jobs=14)]: Done 422 tasks      | elapsed:    0.6s\n",
      "[Parallel(n_jobs=14)]: Done 489 out of 489 | elapsed:    0.6s finished\n"
     ]
    },
    {
     "name": "stdout",
     "output_type": "stream",
     "text": [
      "Iteration: \t710 / 1000\n",
      "Confirmed: \t84\n",
      "Tentative: \t24\n",
      "Rejected: \t4892\n"
     ]
    },
    {
     "name": "stderr",
     "output_type": "stream",
     "text": [
      "[Parallel(n_jobs=14)]: Using backend ThreadingBackend with 14 concurrent workers.\n",
      "[Parallel(n_jobs=14)]: Done  22 tasks      | elapsed:    0.0s\n",
      "[Parallel(n_jobs=14)]: Done 172 tasks      | elapsed:    0.2s\n",
      "[Parallel(n_jobs=14)]: Done 422 tasks      | elapsed:    0.5s\n",
      "[Parallel(n_jobs=14)]: Done 489 out of 489 | elapsed:    0.6s finished\n"
     ]
    },
    {
     "name": "stdout",
     "output_type": "stream",
     "text": [
      "Iteration: \t711 / 1000\n",
      "Confirmed: \t84\n",
      "Tentative: \t24\n",
      "Rejected: \t4892\n"
     ]
    },
    {
     "name": "stderr",
     "output_type": "stream",
     "text": [
      "[Parallel(n_jobs=14)]: Using backend ThreadingBackend with 14 concurrent workers.\n",
      "[Parallel(n_jobs=14)]: Done  22 tasks      | elapsed:    0.0s\n",
      "[Parallel(n_jobs=14)]: Done 172 tasks      | elapsed:    0.2s\n",
      "[Parallel(n_jobs=14)]: Done 422 tasks      | elapsed:    0.6s\n",
      "[Parallel(n_jobs=14)]: Done 489 out of 489 | elapsed:    0.6s finished\n"
     ]
    },
    {
     "name": "stdout",
     "output_type": "stream",
     "text": [
      "Iteration: \t712 / 1000\n",
      "Confirmed: \t84\n",
      "Tentative: \t24\n",
      "Rejected: \t4892\n"
     ]
    },
    {
     "name": "stderr",
     "output_type": "stream",
     "text": [
      "[Parallel(n_jobs=14)]: Using backend ThreadingBackend with 14 concurrent workers.\n",
      "[Parallel(n_jobs=14)]: Done  22 tasks      | elapsed:    0.0s\n",
      "[Parallel(n_jobs=14)]: Done 172 tasks      | elapsed:    0.2s\n",
      "[Parallel(n_jobs=14)]: Done 422 tasks      | elapsed:    0.5s\n",
      "[Parallel(n_jobs=14)]: Done 489 out of 489 | elapsed:    0.6s finished\n"
     ]
    },
    {
     "name": "stdout",
     "output_type": "stream",
     "text": [
      "Iteration: \t713 / 1000\n",
      "Confirmed: \t84\n",
      "Tentative: \t24\n",
      "Rejected: \t4892\n"
     ]
    },
    {
     "name": "stderr",
     "output_type": "stream",
     "text": [
      "[Parallel(n_jobs=14)]: Using backend ThreadingBackend with 14 concurrent workers.\n",
      "[Parallel(n_jobs=14)]: Done  22 tasks      | elapsed:    0.0s\n",
      "[Parallel(n_jobs=14)]: Done 172 tasks      | elapsed:    0.2s\n",
      "[Parallel(n_jobs=14)]: Done 422 tasks      | elapsed:    0.5s\n",
      "[Parallel(n_jobs=14)]: Done 489 out of 489 | elapsed:    0.6s finished\n"
     ]
    },
    {
     "name": "stdout",
     "output_type": "stream",
     "text": [
      "Iteration: \t714 / 1000\n",
      "Confirmed: \t84\n",
      "Tentative: \t24\n",
      "Rejected: \t4892\n"
     ]
    },
    {
     "name": "stderr",
     "output_type": "stream",
     "text": [
      "[Parallel(n_jobs=14)]: Using backend ThreadingBackend with 14 concurrent workers.\n",
      "[Parallel(n_jobs=14)]: Done  22 tasks      | elapsed:    0.0s\n",
      "[Parallel(n_jobs=14)]: Done 172 tasks      | elapsed:    0.2s\n",
      "[Parallel(n_jobs=14)]: Done 422 tasks      | elapsed:    0.5s\n",
      "[Parallel(n_jobs=14)]: Done 489 out of 489 | elapsed:    0.6s finished\n"
     ]
    },
    {
     "name": "stdout",
     "output_type": "stream",
     "text": [
      "Iteration: \t715 / 1000\n",
      "Confirmed: \t84\n",
      "Tentative: \t24\n",
      "Rejected: \t4892\n"
     ]
    },
    {
     "name": "stderr",
     "output_type": "stream",
     "text": [
      "[Parallel(n_jobs=14)]: Using backend ThreadingBackend with 14 concurrent workers.\n",
      "[Parallel(n_jobs=14)]: Done  22 tasks      | elapsed:    0.0s\n",
      "[Parallel(n_jobs=14)]: Done 172 tasks      | elapsed:    0.2s\n",
      "[Parallel(n_jobs=14)]: Done 422 tasks      | elapsed:    0.6s\n",
      "[Parallel(n_jobs=14)]: Done 489 out of 489 | elapsed:    0.6s finished\n"
     ]
    },
    {
     "name": "stdout",
     "output_type": "stream",
     "text": [
      "Iteration: \t716 / 1000\n",
      "Confirmed: \t84\n",
      "Tentative: \t24\n",
      "Rejected: \t4892\n"
     ]
    },
    {
     "name": "stderr",
     "output_type": "stream",
     "text": [
      "[Parallel(n_jobs=14)]: Using backend ThreadingBackend with 14 concurrent workers.\n",
      "[Parallel(n_jobs=14)]: Done  22 tasks      | elapsed:    0.0s\n",
      "[Parallel(n_jobs=14)]: Done 172 tasks      | elapsed:    0.2s\n",
      "[Parallel(n_jobs=14)]: Done 422 tasks      | elapsed:    0.5s\n",
      "[Parallel(n_jobs=14)]: Done 489 out of 489 | elapsed:    0.6s finished\n"
     ]
    },
    {
     "name": "stdout",
     "output_type": "stream",
     "text": [
      "Iteration: \t717 / 1000\n",
      "Confirmed: \t84\n",
      "Tentative: \t24\n",
      "Rejected: \t4892\n"
     ]
    },
    {
     "name": "stderr",
     "output_type": "stream",
     "text": [
      "[Parallel(n_jobs=14)]: Using backend ThreadingBackend with 14 concurrent workers.\n",
      "[Parallel(n_jobs=14)]: Done  22 tasks      | elapsed:    0.0s\n",
      "[Parallel(n_jobs=14)]: Done 172 tasks      | elapsed:    0.2s\n",
      "[Parallel(n_jobs=14)]: Done 422 tasks      | elapsed:    0.6s\n",
      "[Parallel(n_jobs=14)]: Done 489 out of 489 | elapsed:    0.6s finished\n"
     ]
    },
    {
     "name": "stdout",
     "output_type": "stream",
     "text": [
      "Iteration: \t718 / 1000\n",
      "Confirmed: \t84\n",
      "Tentative: \t24\n",
      "Rejected: \t4892\n"
     ]
    },
    {
     "name": "stderr",
     "output_type": "stream",
     "text": [
      "[Parallel(n_jobs=14)]: Using backend ThreadingBackend with 14 concurrent workers.\n",
      "[Parallel(n_jobs=14)]: Done  22 tasks      | elapsed:    0.0s\n",
      "[Parallel(n_jobs=14)]: Done 172 tasks      | elapsed:    0.2s\n",
      "[Parallel(n_jobs=14)]: Done 422 tasks      | elapsed:    0.5s\n",
      "[Parallel(n_jobs=14)]: Done 489 out of 489 | elapsed:    0.6s finished\n"
     ]
    },
    {
     "name": "stdout",
     "output_type": "stream",
     "text": [
      "Iteration: \t719 / 1000\n",
      "Confirmed: \t84\n",
      "Tentative: \t24\n",
      "Rejected: \t4892\n"
     ]
    },
    {
     "name": "stderr",
     "output_type": "stream",
     "text": [
      "[Parallel(n_jobs=14)]: Using backend ThreadingBackend with 14 concurrent workers.\n",
      "[Parallel(n_jobs=14)]: Done  22 tasks      | elapsed:    0.0s\n",
      "[Parallel(n_jobs=14)]: Done 172 tasks      | elapsed:    0.2s\n",
      "[Parallel(n_jobs=14)]: Done 422 tasks      | elapsed:    0.5s\n",
      "[Parallel(n_jobs=14)]: Done 489 out of 489 | elapsed:    0.6s finished\n"
     ]
    },
    {
     "name": "stdout",
     "output_type": "stream",
     "text": [
      "Iteration: \t720 / 1000\n",
      "Confirmed: \t84\n",
      "Tentative: \t24\n",
      "Rejected: \t4892\n"
     ]
    },
    {
     "name": "stderr",
     "output_type": "stream",
     "text": [
      "[Parallel(n_jobs=14)]: Using backend ThreadingBackend with 14 concurrent workers.\n",
      "[Parallel(n_jobs=14)]: Done  22 tasks      | elapsed:    0.0s\n",
      "[Parallel(n_jobs=14)]: Done 172 tasks      | elapsed:    0.2s\n",
      "[Parallel(n_jobs=14)]: Done 422 tasks      | elapsed:    0.5s\n",
      "[Parallel(n_jobs=14)]: Done 489 out of 489 | elapsed:    0.6s finished\n"
     ]
    },
    {
     "name": "stdout",
     "output_type": "stream",
     "text": [
      "Iteration: \t721 / 1000\n",
      "Confirmed: \t84\n",
      "Tentative: \t24\n",
      "Rejected: \t4892\n"
     ]
    },
    {
     "name": "stderr",
     "output_type": "stream",
     "text": [
      "[Parallel(n_jobs=14)]: Using backend ThreadingBackend with 14 concurrent workers.\n",
      "[Parallel(n_jobs=14)]: Done  22 tasks      | elapsed:    0.0s\n",
      "[Parallel(n_jobs=14)]: Done 172 tasks      | elapsed:    0.2s\n",
      "[Parallel(n_jobs=14)]: Done 422 tasks      | elapsed:    0.6s\n",
      "[Parallel(n_jobs=14)]: Done 489 out of 489 | elapsed:    0.6s finished\n"
     ]
    },
    {
     "name": "stdout",
     "output_type": "stream",
     "text": [
      "Iteration: \t722 / 1000\n",
      "Confirmed: \t84\n",
      "Tentative: \t24\n",
      "Rejected: \t4892\n"
     ]
    },
    {
     "name": "stderr",
     "output_type": "stream",
     "text": [
      "[Parallel(n_jobs=14)]: Using backend ThreadingBackend with 14 concurrent workers.\n",
      "[Parallel(n_jobs=14)]: Done  22 tasks      | elapsed:    0.0s\n",
      "[Parallel(n_jobs=14)]: Done 172 tasks      | elapsed:    0.2s\n",
      "[Parallel(n_jobs=14)]: Done 422 tasks      | elapsed:    0.6s\n",
      "[Parallel(n_jobs=14)]: Done 489 out of 489 | elapsed:    0.6s finished\n"
     ]
    },
    {
     "name": "stdout",
     "output_type": "stream",
     "text": [
      "Iteration: \t723 / 1000\n",
      "Confirmed: \t84\n",
      "Tentative: \t24\n",
      "Rejected: \t4892\n"
     ]
    },
    {
     "name": "stderr",
     "output_type": "stream",
     "text": [
      "[Parallel(n_jobs=14)]: Using backend ThreadingBackend with 14 concurrent workers.\n",
      "[Parallel(n_jobs=14)]: Done  22 tasks      | elapsed:    0.0s\n",
      "[Parallel(n_jobs=14)]: Done 172 tasks      | elapsed:    0.2s\n",
      "[Parallel(n_jobs=14)]: Done 422 tasks      | elapsed:    0.5s\n",
      "[Parallel(n_jobs=14)]: Done 489 out of 489 | elapsed:    0.6s finished\n"
     ]
    },
    {
     "name": "stdout",
     "output_type": "stream",
     "text": [
      "Iteration: \t724 / 1000\n",
      "Confirmed: \t84\n",
      "Tentative: \t24\n",
      "Rejected: \t4892\n"
     ]
    },
    {
     "name": "stderr",
     "output_type": "stream",
     "text": [
      "[Parallel(n_jobs=14)]: Using backend ThreadingBackend with 14 concurrent workers.\n",
      "[Parallel(n_jobs=14)]: Done  22 tasks      | elapsed:    0.0s\n",
      "[Parallel(n_jobs=14)]: Done 172 tasks      | elapsed:    0.2s\n",
      "[Parallel(n_jobs=14)]: Done 422 tasks      | elapsed:    0.5s\n",
      "[Parallel(n_jobs=14)]: Done 489 out of 489 | elapsed:    0.6s finished\n"
     ]
    },
    {
     "name": "stdout",
     "output_type": "stream",
     "text": [
      "Iteration: \t725 / 1000\n",
      "Confirmed: \t84\n",
      "Tentative: \t24\n",
      "Rejected: \t4892\n"
     ]
    },
    {
     "name": "stderr",
     "output_type": "stream",
     "text": [
      "[Parallel(n_jobs=14)]: Using backend ThreadingBackend with 14 concurrent workers.\n",
      "[Parallel(n_jobs=14)]: Done  22 tasks      | elapsed:    0.0s\n",
      "[Parallel(n_jobs=14)]: Done 172 tasks      | elapsed:    0.2s\n",
      "[Parallel(n_jobs=14)]: Done 422 tasks      | elapsed:    0.5s\n",
      "[Parallel(n_jobs=14)]: Done 489 out of 489 | elapsed:    0.6s finished\n"
     ]
    },
    {
     "name": "stdout",
     "output_type": "stream",
     "text": [
      "Iteration: \t726 / 1000\n",
      "Confirmed: \t84\n",
      "Tentative: \t24\n",
      "Rejected: \t4892\n"
     ]
    },
    {
     "name": "stderr",
     "output_type": "stream",
     "text": [
      "[Parallel(n_jobs=14)]: Using backend ThreadingBackend with 14 concurrent workers.\n",
      "[Parallel(n_jobs=14)]: Done  22 tasks      | elapsed:    0.0s\n",
      "[Parallel(n_jobs=14)]: Done 172 tasks      | elapsed:    0.2s\n",
      "[Parallel(n_jobs=14)]: Done 422 tasks      | elapsed:    0.6s\n",
      "[Parallel(n_jobs=14)]: Done 489 out of 489 | elapsed:    0.6s finished\n"
     ]
    },
    {
     "name": "stdout",
     "output_type": "stream",
     "text": [
      "Iteration: \t727 / 1000\n",
      "Confirmed: \t84\n",
      "Tentative: \t24\n",
      "Rejected: \t4892\n"
     ]
    },
    {
     "name": "stderr",
     "output_type": "stream",
     "text": [
      "[Parallel(n_jobs=14)]: Using backend ThreadingBackend with 14 concurrent workers.\n",
      "[Parallel(n_jobs=14)]: Done  22 tasks      | elapsed:    0.0s\n",
      "[Parallel(n_jobs=14)]: Done 172 tasks      | elapsed:    0.2s\n",
      "[Parallel(n_jobs=14)]: Done 422 tasks      | elapsed:    0.6s\n",
      "[Parallel(n_jobs=14)]: Done 489 out of 489 | elapsed:    0.6s finished\n"
     ]
    },
    {
     "name": "stdout",
     "output_type": "stream",
     "text": [
      "Iteration: \t728 / 1000\n",
      "Confirmed: \t84\n",
      "Tentative: \t24\n",
      "Rejected: \t4892\n"
     ]
    },
    {
     "name": "stderr",
     "output_type": "stream",
     "text": [
      "[Parallel(n_jobs=14)]: Using backend ThreadingBackend with 14 concurrent workers.\n",
      "[Parallel(n_jobs=14)]: Done  22 tasks      | elapsed:    0.0s\n",
      "[Parallel(n_jobs=14)]: Done 172 tasks      | elapsed:    0.2s\n",
      "[Parallel(n_jobs=14)]: Done 422 tasks      | elapsed:    0.5s\n",
      "[Parallel(n_jobs=14)]: Done 489 out of 489 | elapsed:    0.6s finished\n"
     ]
    },
    {
     "name": "stdout",
     "output_type": "stream",
     "text": [
      "Iteration: \t729 / 1000\n",
      "Confirmed: \t84\n",
      "Tentative: \t24\n",
      "Rejected: \t4892\n"
     ]
    },
    {
     "name": "stderr",
     "output_type": "stream",
     "text": [
      "[Parallel(n_jobs=14)]: Using backend ThreadingBackend with 14 concurrent workers.\n",
      "[Parallel(n_jobs=14)]: Done  22 tasks      | elapsed:    0.0s\n",
      "[Parallel(n_jobs=14)]: Done 172 tasks      | elapsed:    0.2s\n",
      "[Parallel(n_jobs=14)]: Done 422 tasks      | elapsed:    0.5s\n",
      "[Parallel(n_jobs=14)]: Done 489 out of 489 | elapsed:    0.6s finished\n"
     ]
    },
    {
     "name": "stdout",
     "output_type": "stream",
     "text": [
      "Iteration: \t730 / 1000\n",
      "Confirmed: \t84\n",
      "Tentative: \t24\n",
      "Rejected: \t4892\n"
     ]
    },
    {
     "name": "stderr",
     "output_type": "stream",
     "text": [
      "[Parallel(n_jobs=14)]: Using backend ThreadingBackend with 14 concurrent workers.\n",
      "[Parallel(n_jobs=14)]: Done  22 tasks      | elapsed:    0.0s\n",
      "[Parallel(n_jobs=14)]: Done 172 tasks      | elapsed:    0.2s\n",
      "[Parallel(n_jobs=14)]: Done 422 tasks      | elapsed:    0.5s\n",
      "[Parallel(n_jobs=14)]: Done 489 out of 489 | elapsed:    0.6s finished\n"
     ]
    },
    {
     "name": "stdout",
     "output_type": "stream",
     "text": [
      "Iteration: \t731 / 1000\n",
      "Confirmed: \t84\n",
      "Tentative: \t24\n",
      "Rejected: \t4892\n"
     ]
    },
    {
     "name": "stderr",
     "output_type": "stream",
     "text": [
      "[Parallel(n_jobs=14)]: Using backend ThreadingBackend with 14 concurrent workers.\n",
      "[Parallel(n_jobs=14)]: Done  22 tasks      | elapsed:    0.0s\n",
      "[Parallel(n_jobs=14)]: Done 172 tasks      | elapsed:    0.2s\n",
      "[Parallel(n_jobs=14)]: Done 422 tasks      | elapsed:    0.6s\n",
      "[Parallel(n_jobs=14)]: Done 489 out of 489 | elapsed:    0.6s finished\n"
     ]
    },
    {
     "name": "stdout",
     "output_type": "stream",
     "text": [
      "Iteration: \t732 / 1000\n",
      "Confirmed: \t84\n",
      "Tentative: \t24\n",
      "Rejected: \t4892\n"
     ]
    },
    {
     "name": "stderr",
     "output_type": "stream",
     "text": [
      "[Parallel(n_jobs=14)]: Using backend ThreadingBackend with 14 concurrent workers.\n",
      "[Parallel(n_jobs=14)]: Done  22 tasks      | elapsed:    0.0s\n",
      "[Parallel(n_jobs=14)]: Done 172 tasks      | elapsed:    0.2s\n",
      "[Parallel(n_jobs=14)]: Done 422 tasks      | elapsed:    0.5s\n",
      "[Parallel(n_jobs=14)]: Done 489 out of 489 | elapsed:    0.6s finished\n"
     ]
    },
    {
     "name": "stdout",
     "output_type": "stream",
     "text": [
      "Iteration: \t733 / 1000\n",
      "Confirmed: \t84\n",
      "Tentative: \t24\n",
      "Rejected: \t4892\n"
     ]
    },
    {
     "name": "stderr",
     "output_type": "stream",
     "text": [
      "[Parallel(n_jobs=14)]: Using backend ThreadingBackend with 14 concurrent workers.\n",
      "[Parallel(n_jobs=14)]: Done  22 tasks      | elapsed:    0.0s\n",
      "[Parallel(n_jobs=14)]: Done 172 tasks      | elapsed:    0.2s\n",
      "[Parallel(n_jobs=14)]: Done 422 tasks      | elapsed:    0.5s\n",
      "[Parallel(n_jobs=14)]: Done 489 out of 489 | elapsed:    0.6s finished\n"
     ]
    },
    {
     "name": "stdout",
     "output_type": "stream",
     "text": [
      "Iteration: \t734 / 1000\n",
      "Confirmed: \t84\n",
      "Tentative: \t24\n",
      "Rejected: \t4892\n"
     ]
    },
    {
     "name": "stderr",
     "output_type": "stream",
     "text": [
      "[Parallel(n_jobs=14)]: Using backend ThreadingBackend with 14 concurrent workers.\n",
      "[Parallel(n_jobs=14)]: Done  22 tasks      | elapsed:    0.0s\n",
      "[Parallel(n_jobs=14)]: Done 172 tasks      | elapsed:    0.2s\n",
      "[Parallel(n_jobs=14)]: Done 422 tasks      | elapsed:    0.5s\n",
      "[Parallel(n_jobs=14)]: Done 489 out of 489 | elapsed:    0.6s finished\n"
     ]
    },
    {
     "name": "stdout",
     "output_type": "stream",
     "text": [
      "Iteration: \t735 / 1000\n",
      "Confirmed: \t84\n",
      "Tentative: \t24\n",
      "Rejected: \t4892\n"
     ]
    },
    {
     "name": "stderr",
     "output_type": "stream",
     "text": [
      "[Parallel(n_jobs=14)]: Using backend ThreadingBackend with 14 concurrent workers.\n",
      "[Parallel(n_jobs=14)]: Done  22 tasks      | elapsed:    0.0s\n",
      "[Parallel(n_jobs=14)]: Done 172 tasks      | elapsed:    0.2s\n",
      "[Parallel(n_jobs=14)]: Done 422 tasks      | elapsed:    0.5s\n",
      "[Parallel(n_jobs=14)]: Done 489 out of 489 | elapsed:    0.6s finished\n"
     ]
    },
    {
     "name": "stdout",
     "output_type": "stream",
     "text": [
      "Iteration: \t736 / 1000\n",
      "Confirmed: \t84\n",
      "Tentative: \t24\n",
      "Rejected: \t4892\n"
     ]
    },
    {
     "name": "stderr",
     "output_type": "stream",
     "text": [
      "[Parallel(n_jobs=14)]: Using backend ThreadingBackend with 14 concurrent workers.\n",
      "[Parallel(n_jobs=14)]: Done  22 tasks      | elapsed:    0.0s\n",
      "[Parallel(n_jobs=14)]: Done 172 tasks      | elapsed:    0.2s\n",
      "[Parallel(n_jobs=14)]: Done 422 tasks      | elapsed:    0.6s\n",
      "[Parallel(n_jobs=14)]: Done 489 out of 489 | elapsed:    0.6s finished\n"
     ]
    },
    {
     "name": "stdout",
     "output_type": "stream",
     "text": [
      "Iteration: \t737 / 1000\n",
      "Confirmed: \t84\n",
      "Tentative: \t24\n",
      "Rejected: \t4892\n"
     ]
    },
    {
     "name": "stderr",
     "output_type": "stream",
     "text": [
      "[Parallel(n_jobs=14)]: Using backend ThreadingBackend with 14 concurrent workers.\n",
      "[Parallel(n_jobs=14)]: Done  22 tasks      | elapsed:    0.0s\n",
      "[Parallel(n_jobs=14)]: Done 172 tasks      | elapsed:    0.2s\n",
      "[Parallel(n_jobs=14)]: Done 422 tasks      | elapsed:    0.6s\n",
      "[Parallel(n_jobs=14)]: Done 489 out of 489 | elapsed:    0.6s finished\n"
     ]
    },
    {
     "name": "stdout",
     "output_type": "stream",
     "text": [
      "Iteration: \t738 / 1000\n",
      "Confirmed: \t84\n",
      "Tentative: \t24\n",
      "Rejected: \t4892\n"
     ]
    },
    {
     "name": "stderr",
     "output_type": "stream",
     "text": [
      "[Parallel(n_jobs=14)]: Using backend ThreadingBackend with 14 concurrent workers.\n",
      "[Parallel(n_jobs=14)]: Done  22 tasks      | elapsed:    0.0s\n",
      "[Parallel(n_jobs=14)]: Done 172 tasks      | elapsed:    0.2s\n",
      "[Parallel(n_jobs=14)]: Done 422 tasks      | elapsed:    0.5s\n",
      "[Parallel(n_jobs=14)]: Done 489 out of 489 | elapsed:    0.6s finished\n"
     ]
    },
    {
     "name": "stdout",
     "output_type": "stream",
     "text": [
      "Iteration: \t739 / 1000\n",
      "Confirmed: \t84\n",
      "Tentative: \t24\n",
      "Rejected: \t4892\n"
     ]
    },
    {
     "name": "stderr",
     "output_type": "stream",
     "text": [
      "[Parallel(n_jobs=14)]: Using backend ThreadingBackend with 14 concurrent workers.\n",
      "[Parallel(n_jobs=14)]: Done  22 tasks      | elapsed:    0.0s\n",
      "[Parallel(n_jobs=14)]: Done 172 tasks      | elapsed:    0.2s\n",
      "[Parallel(n_jobs=14)]: Done 422 tasks      | elapsed:    0.5s\n",
      "[Parallel(n_jobs=14)]: Done 489 out of 489 | elapsed:    0.6s finished\n"
     ]
    },
    {
     "name": "stdout",
     "output_type": "stream",
     "text": [
      "Iteration: \t740 / 1000\n",
      "Confirmed: \t84\n",
      "Tentative: \t24\n",
      "Rejected: \t4892\n"
     ]
    },
    {
     "name": "stderr",
     "output_type": "stream",
     "text": [
      "[Parallel(n_jobs=14)]: Using backend ThreadingBackend with 14 concurrent workers.\n",
      "[Parallel(n_jobs=14)]: Done  22 tasks      | elapsed:    0.0s\n",
      "[Parallel(n_jobs=14)]: Done 172 tasks      | elapsed:    0.2s\n",
      "[Parallel(n_jobs=14)]: Done 422 tasks      | elapsed:    0.6s\n",
      "[Parallel(n_jobs=14)]: Done 489 out of 489 | elapsed:    0.6s finished\n"
     ]
    },
    {
     "name": "stdout",
     "output_type": "stream",
     "text": [
      "Iteration: \t741 / 1000\n",
      "Confirmed: \t84\n",
      "Tentative: \t24\n",
      "Rejected: \t4892\n"
     ]
    },
    {
     "name": "stderr",
     "output_type": "stream",
     "text": [
      "[Parallel(n_jobs=14)]: Using backend ThreadingBackend with 14 concurrent workers.\n",
      "[Parallel(n_jobs=14)]: Done  22 tasks      | elapsed:    0.0s\n",
      "[Parallel(n_jobs=14)]: Done 172 tasks      | elapsed:    0.2s\n",
      "[Parallel(n_jobs=14)]: Done 422 tasks      | elapsed:    0.5s\n",
      "[Parallel(n_jobs=14)]: Done 489 out of 489 | elapsed:    0.6s finished\n"
     ]
    },
    {
     "name": "stdout",
     "output_type": "stream",
     "text": [
      "Iteration: \t742 / 1000\n",
      "Confirmed: \t84\n",
      "Tentative: \t24\n",
      "Rejected: \t4892\n"
     ]
    },
    {
     "name": "stderr",
     "output_type": "stream",
     "text": [
      "[Parallel(n_jobs=14)]: Using backend ThreadingBackend with 14 concurrent workers.\n",
      "[Parallel(n_jobs=14)]: Done  22 tasks      | elapsed:    0.0s\n",
      "[Parallel(n_jobs=14)]: Done 172 tasks      | elapsed:    0.2s\n",
      "[Parallel(n_jobs=14)]: Done 422 tasks      | elapsed:    0.5s\n",
      "[Parallel(n_jobs=14)]: Done 489 out of 489 | elapsed:    0.6s finished\n"
     ]
    },
    {
     "name": "stdout",
     "output_type": "stream",
     "text": [
      "Iteration: \t743 / 1000\n",
      "Confirmed: \t84\n",
      "Tentative: \t24\n",
      "Rejected: \t4892\n"
     ]
    },
    {
     "name": "stderr",
     "output_type": "stream",
     "text": [
      "[Parallel(n_jobs=14)]: Using backend ThreadingBackend with 14 concurrent workers.\n",
      "[Parallel(n_jobs=14)]: Done  22 tasks      | elapsed:    0.0s\n",
      "[Parallel(n_jobs=14)]: Done 172 tasks      | elapsed:    0.2s\n",
      "[Parallel(n_jobs=14)]: Done 422 tasks      | elapsed:    0.5s\n",
      "[Parallel(n_jobs=14)]: Done 489 out of 489 | elapsed:    0.6s finished\n"
     ]
    },
    {
     "name": "stdout",
     "output_type": "stream",
     "text": [
      "Iteration: \t744 / 1000\n",
      "Confirmed: \t84\n",
      "Tentative: \t24\n",
      "Rejected: \t4892\n"
     ]
    },
    {
     "name": "stderr",
     "output_type": "stream",
     "text": [
      "[Parallel(n_jobs=14)]: Using backend ThreadingBackend with 14 concurrent workers.\n",
      "[Parallel(n_jobs=14)]: Done  22 tasks      | elapsed:    0.0s\n",
      "[Parallel(n_jobs=14)]: Done 172 tasks      | elapsed:    0.2s\n",
      "[Parallel(n_jobs=14)]: Done 422 tasks      | elapsed:    0.5s\n",
      "[Parallel(n_jobs=14)]: Done 489 out of 489 | elapsed:    0.6s finished\n"
     ]
    },
    {
     "name": "stdout",
     "output_type": "stream",
     "text": [
      "Iteration: \t745 / 1000\n",
      "Confirmed: \t84\n",
      "Tentative: \t24\n",
      "Rejected: \t4892\n"
     ]
    },
    {
     "name": "stderr",
     "output_type": "stream",
     "text": [
      "[Parallel(n_jobs=14)]: Using backend ThreadingBackend with 14 concurrent workers.\n",
      "[Parallel(n_jobs=14)]: Done  22 tasks      | elapsed:    0.0s\n",
      "[Parallel(n_jobs=14)]: Done 172 tasks      | elapsed:    0.2s\n",
      "[Parallel(n_jobs=14)]: Done 422 tasks      | elapsed:    0.6s\n",
      "[Parallel(n_jobs=14)]: Done 489 out of 489 | elapsed:    0.6s finished\n"
     ]
    },
    {
     "name": "stdout",
     "output_type": "stream",
     "text": [
      "Iteration: \t746 / 1000\n",
      "Confirmed: \t84\n",
      "Tentative: \t24\n",
      "Rejected: \t4892\n"
     ]
    },
    {
     "name": "stderr",
     "output_type": "stream",
     "text": [
      "[Parallel(n_jobs=14)]: Using backend ThreadingBackend with 14 concurrent workers.\n",
      "[Parallel(n_jobs=14)]: Done  22 tasks      | elapsed:    0.0s\n",
      "[Parallel(n_jobs=14)]: Done 172 tasks      | elapsed:    0.2s\n",
      "[Parallel(n_jobs=14)]: Done 422 tasks      | elapsed:    0.6s\n",
      "[Parallel(n_jobs=14)]: Done 489 out of 489 | elapsed:    0.6s finished\n"
     ]
    },
    {
     "name": "stdout",
     "output_type": "stream",
     "text": [
      "Iteration: \t747 / 1000\n",
      "Confirmed: \t84\n",
      "Tentative: \t24\n",
      "Rejected: \t4892\n"
     ]
    },
    {
     "name": "stderr",
     "output_type": "stream",
     "text": [
      "[Parallel(n_jobs=14)]: Using backend ThreadingBackend with 14 concurrent workers.\n",
      "[Parallel(n_jobs=14)]: Done  22 tasks      | elapsed:    0.0s\n",
      "[Parallel(n_jobs=14)]: Done 172 tasks      | elapsed:    0.2s\n",
      "[Parallel(n_jobs=14)]: Done 422 tasks      | elapsed:    0.5s\n",
      "[Parallel(n_jobs=14)]: Done 489 out of 489 | elapsed:    0.6s finished\n"
     ]
    },
    {
     "name": "stdout",
     "output_type": "stream",
     "text": [
      "Iteration: \t748 / 1000\n",
      "Confirmed: \t84\n",
      "Tentative: \t24\n",
      "Rejected: \t4892\n"
     ]
    },
    {
     "name": "stderr",
     "output_type": "stream",
     "text": [
      "[Parallel(n_jobs=14)]: Using backend ThreadingBackend with 14 concurrent workers.\n",
      "[Parallel(n_jobs=14)]: Done  22 tasks      | elapsed:    0.0s\n",
      "[Parallel(n_jobs=14)]: Done 172 tasks      | elapsed:    0.2s\n",
      "[Parallel(n_jobs=14)]: Done 422 tasks      | elapsed:    0.6s\n",
      "[Parallel(n_jobs=14)]: Done 489 out of 489 | elapsed:    0.6s finished\n"
     ]
    },
    {
     "name": "stdout",
     "output_type": "stream",
     "text": [
      "Iteration: \t749 / 1000\n",
      "Confirmed: \t84\n",
      "Tentative: \t24\n",
      "Rejected: \t4892\n"
     ]
    },
    {
     "name": "stderr",
     "output_type": "stream",
     "text": [
      "[Parallel(n_jobs=14)]: Using backend ThreadingBackend with 14 concurrent workers.\n",
      "[Parallel(n_jobs=14)]: Done  22 tasks      | elapsed:    0.0s\n",
      "[Parallel(n_jobs=14)]: Done 172 tasks      | elapsed:    0.2s\n",
      "[Parallel(n_jobs=14)]: Done 422 tasks      | elapsed:    0.5s\n",
      "[Parallel(n_jobs=14)]: Done 489 out of 489 | elapsed:    0.6s finished\n"
     ]
    },
    {
     "name": "stdout",
     "output_type": "stream",
     "text": [
      "Iteration: \t750 / 1000\n",
      "Confirmed: \t84\n",
      "Tentative: \t24\n",
      "Rejected: \t4892\n"
     ]
    },
    {
     "name": "stderr",
     "output_type": "stream",
     "text": [
      "[Parallel(n_jobs=14)]: Using backend ThreadingBackend with 14 concurrent workers.\n",
      "[Parallel(n_jobs=14)]: Done  22 tasks      | elapsed:    0.0s\n",
      "[Parallel(n_jobs=14)]: Done 172 tasks      | elapsed:    0.2s\n",
      "[Parallel(n_jobs=14)]: Done 422 tasks      | elapsed:    0.5s\n",
      "[Parallel(n_jobs=14)]: Done 489 out of 489 | elapsed:    0.6s finished\n"
     ]
    },
    {
     "name": "stdout",
     "output_type": "stream",
     "text": [
      "Iteration: \t751 / 1000\n",
      "Confirmed: \t84\n",
      "Tentative: \t24\n",
      "Rejected: \t4892\n"
     ]
    },
    {
     "name": "stderr",
     "output_type": "stream",
     "text": [
      "[Parallel(n_jobs=14)]: Using backend ThreadingBackend with 14 concurrent workers.\n",
      "[Parallel(n_jobs=14)]: Done  22 tasks      | elapsed:    0.0s\n",
      "[Parallel(n_jobs=14)]: Done 172 tasks      | elapsed:    0.2s\n",
      "[Parallel(n_jobs=14)]: Done 422 tasks      | elapsed:    0.5s\n",
      "[Parallel(n_jobs=14)]: Done 489 out of 489 | elapsed:    0.6s finished\n"
     ]
    },
    {
     "name": "stdout",
     "output_type": "stream",
     "text": [
      "Iteration: \t752 / 1000\n",
      "Confirmed: \t84\n",
      "Tentative: \t24\n",
      "Rejected: \t4892\n"
     ]
    },
    {
     "name": "stderr",
     "output_type": "stream",
     "text": [
      "[Parallel(n_jobs=14)]: Using backend ThreadingBackend with 14 concurrent workers.\n",
      "[Parallel(n_jobs=14)]: Done  22 tasks      | elapsed:    0.0s\n",
      "[Parallel(n_jobs=14)]: Done 172 tasks      | elapsed:    0.2s\n",
      "[Parallel(n_jobs=14)]: Done 422 tasks      | elapsed:    0.5s\n",
      "[Parallel(n_jobs=14)]: Done 489 out of 489 | elapsed:    0.6s finished\n"
     ]
    },
    {
     "name": "stdout",
     "output_type": "stream",
     "text": [
      "Iteration: \t753 / 1000\n",
      "Confirmed: \t84\n",
      "Tentative: \t24\n",
      "Rejected: \t4892\n"
     ]
    },
    {
     "name": "stderr",
     "output_type": "stream",
     "text": [
      "[Parallel(n_jobs=14)]: Using backend ThreadingBackend with 14 concurrent workers.\n",
      "[Parallel(n_jobs=14)]: Done  22 tasks      | elapsed:    0.0s\n",
      "[Parallel(n_jobs=14)]: Done 172 tasks      | elapsed:    0.2s\n",
      "[Parallel(n_jobs=14)]: Done 422 tasks      | elapsed:    0.6s\n",
      "[Parallel(n_jobs=14)]: Done 489 out of 489 | elapsed:    0.6s finished\n"
     ]
    },
    {
     "name": "stdout",
     "output_type": "stream",
     "text": [
      "Iteration: \t754 / 1000\n",
      "Confirmed: \t84\n",
      "Tentative: \t24\n",
      "Rejected: \t4892\n"
     ]
    },
    {
     "name": "stderr",
     "output_type": "stream",
     "text": [
      "[Parallel(n_jobs=14)]: Using backend ThreadingBackend with 14 concurrent workers.\n",
      "[Parallel(n_jobs=14)]: Done  22 tasks      | elapsed:    0.0s\n",
      "[Parallel(n_jobs=14)]: Done 172 tasks      | elapsed:    0.2s\n",
      "[Parallel(n_jobs=14)]: Done 422 tasks      | elapsed:    0.6s\n",
      "[Parallel(n_jobs=14)]: Done 489 out of 489 | elapsed:    0.6s finished\n"
     ]
    },
    {
     "name": "stdout",
     "output_type": "stream",
     "text": [
      "Iteration: \t755 / 1000\n",
      "Confirmed: \t84\n",
      "Tentative: \t24\n",
      "Rejected: \t4892\n"
     ]
    },
    {
     "name": "stderr",
     "output_type": "stream",
     "text": [
      "[Parallel(n_jobs=14)]: Using backend ThreadingBackend with 14 concurrent workers.\n",
      "[Parallel(n_jobs=14)]: Done  22 tasks      | elapsed:    0.0s\n",
      "[Parallel(n_jobs=14)]: Done 172 tasks      | elapsed:    0.2s\n",
      "[Parallel(n_jobs=14)]: Done 422 tasks      | elapsed:    0.6s\n",
      "[Parallel(n_jobs=14)]: Done 489 out of 489 | elapsed:    0.6s finished\n"
     ]
    },
    {
     "name": "stdout",
     "output_type": "stream",
     "text": [
      "Iteration: \t756 / 1000\n",
      "Confirmed: \t84\n",
      "Tentative: \t24\n",
      "Rejected: \t4892\n"
     ]
    },
    {
     "name": "stderr",
     "output_type": "stream",
     "text": [
      "[Parallel(n_jobs=14)]: Using backend ThreadingBackend with 14 concurrent workers.\n",
      "[Parallel(n_jobs=14)]: Done  22 tasks      | elapsed:    0.0s\n",
      "[Parallel(n_jobs=14)]: Done 172 tasks      | elapsed:    0.2s\n",
      "[Parallel(n_jobs=14)]: Done 422 tasks      | elapsed:    0.5s\n",
      "[Parallel(n_jobs=14)]: Done 489 out of 489 | elapsed:    0.6s finished\n"
     ]
    },
    {
     "name": "stdout",
     "output_type": "stream",
     "text": [
      "Iteration: \t757 / 1000\n",
      "Confirmed: \t84\n",
      "Tentative: \t24\n",
      "Rejected: \t4892\n"
     ]
    },
    {
     "name": "stderr",
     "output_type": "stream",
     "text": [
      "[Parallel(n_jobs=14)]: Using backend ThreadingBackend with 14 concurrent workers.\n",
      "[Parallel(n_jobs=14)]: Done  22 tasks      | elapsed:    0.0s\n",
      "[Parallel(n_jobs=14)]: Done 172 tasks      | elapsed:    0.2s\n",
      "[Parallel(n_jobs=14)]: Done 422 tasks      | elapsed:    0.6s\n",
      "[Parallel(n_jobs=14)]: Done 489 out of 489 | elapsed:    0.6s finished\n"
     ]
    },
    {
     "name": "stdout",
     "output_type": "stream",
     "text": [
      "Iteration: \t758 / 1000\n",
      "Confirmed: \t84\n",
      "Tentative: \t24\n",
      "Rejected: \t4892\n"
     ]
    },
    {
     "name": "stderr",
     "output_type": "stream",
     "text": [
      "[Parallel(n_jobs=14)]: Using backend ThreadingBackend with 14 concurrent workers.\n",
      "[Parallel(n_jobs=14)]: Done  22 tasks      | elapsed:    0.0s\n",
      "[Parallel(n_jobs=14)]: Done 172 tasks      | elapsed:    0.2s\n",
      "[Parallel(n_jobs=14)]: Done 422 tasks      | elapsed:    0.5s\n",
      "[Parallel(n_jobs=14)]: Done 489 out of 489 | elapsed:    0.6s finished\n"
     ]
    },
    {
     "name": "stdout",
     "output_type": "stream",
     "text": [
      "Iteration: \t759 / 1000\n",
      "Confirmed: \t84\n",
      "Tentative: \t24\n",
      "Rejected: \t4892\n"
     ]
    },
    {
     "name": "stderr",
     "output_type": "stream",
     "text": [
      "[Parallel(n_jobs=14)]: Using backend ThreadingBackend with 14 concurrent workers.\n",
      "[Parallel(n_jobs=14)]: Done  22 tasks      | elapsed:    0.0s\n",
      "[Parallel(n_jobs=14)]: Done 172 tasks      | elapsed:    0.2s\n",
      "[Parallel(n_jobs=14)]: Done 422 tasks      | elapsed:    0.6s\n",
      "[Parallel(n_jobs=14)]: Done 489 out of 489 | elapsed:    0.6s finished\n"
     ]
    },
    {
     "name": "stdout",
     "output_type": "stream",
     "text": [
      "Iteration: \t760 / 1000\n",
      "Confirmed: \t84\n",
      "Tentative: \t24\n",
      "Rejected: \t4892\n"
     ]
    },
    {
     "name": "stderr",
     "output_type": "stream",
     "text": [
      "[Parallel(n_jobs=14)]: Using backend ThreadingBackend with 14 concurrent workers.\n",
      "[Parallel(n_jobs=14)]: Done  22 tasks      | elapsed:    0.0s\n",
      "[Parallel(n_jobs=14)]: Done 172 tasks      | elapsed:    0.2s\n",
      "[Parallel(n_jobs=14)]: Done 422 tasks      | elapsed:    0.5s\n",
      "[Parallel(n_jobs=14)]: Done 489 out of 489 | elapsed:    0.6s finished\n"
     ]
    },
    {
     "name": "stdout",
     "output_type": "stream",
     "text": [
      "Iteration: \t761 / 1000\n",
      "Confirmed: \t84\n",
      "Tentative: \t24\n",
      "Rejected: \t4892\n"
     ]
    },
    {
     "name": "stderr",
     "output_type": "stream",
     "text": [
      "[Parallel(n_jobs=14)]: Using backend ThreadingBackend with 14 concurrent workers.\n",
      "[Parallel(n_jobs=14)]: Done  22 tasks      | elapsed:    0.0s\n",
      "[Parallel(n_jobs=14)]: Done 172 tasks      | elapsed:    0.2s\n",
      "[Parallel(n_jobs=14)]: Done 422 tasks      | elapsed:    0.5s\n",
      "[Parallel(n_jobs=14)]: Done 489 out of 489 | elapsed:    0.6s finished\n"
     ]
    },
    {
     "name": "stdout",
     "output_type": "stream",
     "text": [
      "Iteration: \t762 / 1000\n",
      "Confirmed: \t84\n",
      "Tentative: \t24\n",
      "Rejected: \t4892\n"
     ]
    },
    {
     "name": "stderr",
     "output_type": "stream",
     "text": [
      "[Parallel(n_jobs=14)]: Using backend ThreadingBackend with 14 concurrent workers.\n",
      "[Parallel(n_jobs=14)]: Done  22 tasks      | elapsed:    0.0s\n",
      "[Parallel(n_jobs=14)]: Done 172 tasks      | elapsed:    0.2s\n",
      "[Parallel(n_jobs=14)]: Done 422 tasks      | elapsed:    0.5s\n",
      "[Parallel(n_jobs=14)]: Done 489 out of 489 | elapsed:    0.6s finished\n"
     ]
    },
    {
     "name": "stdout",
     "output_type": "stream",
     "text": [
      "Iteration: \t763 / 1000\n",
      "Confirmed: \t84\n",
      "Tentative: \t24\n",
      "Rejected: \t4892\n"
     ]
    },
    {
     "name": "stderr",
     "output_type": "stream",
     "text": [
      "[Parallel(n_jobs=14)]: Using backend ThreadingBackend with 14 concurrent workers.\n",
      "[Parallel(n_jobs=14)]: Done  22 tasks      | elapsed:    0.0s\n",
      "[Parallel(n_jobs=14)]: Done 172 tasks      | elapsed:    0.2s\n",
      "[Parallel(n_jobs=14)]: Done 422 tasks      | elapsed:    0.6s\n",
      "[Parallel(n_jobs=14)]: Done 489 out of 489 | elapsed:    0.6s finished\n"
     ]
    },
    {
     "name": "stdout",
     "output_type": "stream",
     "text": [
      "Iteration: \t764 / 1000\n",
      "Confirmed: \t84\n",
      "Tentative: \t24\n",
      "Rejected: \t4892\n"
     ]
    },
    {
     "name": "stderr",
     "output_type": "stream",
     "text": [
      "[Parallel(n_jobs=14)]: Using backend ThreadingBackend with 14 concurrent workers.\n",
      "[Parallel(n_jobs=14)]: Done  22 tasks      | elapsed:    0.0s\n",
      "[Parallel(n_jobs=14)]: Done 172 tasks      | elapsed:    0.2s\n",
      "[Parallel(n_jobs=14)]: Done 422 tasks      | elapsed:    0.6s\n",
      "[Parallel(n_jobs=14)]: Done 489 out of 489 | elapsed:    0.6s finished\n"
     ]
    },
    {
     "name": "stdout",
     "output_type": "stream",
     "text": [
      "Iteration: \t765 / 1000\n",
      "Confirmed: \t84\n",
      "Tentative: \t24\n",
      "Rejected: \t4892\n"
     ]
    },
    {
     "name": "stderr",
     "output_type": "stream",
     "text": [
      "[Parallel(n_jobs=14)]: Using backend ThreadingBackend with 14 concurrent workers.\n",
      "[Parallel(n_jobs=14)]: Done  22 tasks      | elapsed:    0.0s\n",
      "[Parallel(n_jobs=14)]: Done 172 tasks      | elapsed:    0.2s\n",
      "[Parallel(n_jobs=14)]: Done 422 tasks      | elapsed:    0.5s\n",
      "[Parallel(n_jobs=14)]: Done 489 out of 489 | elapsed:    0.6s finished\n"
     ]
    },
    {
     "name": "stdout",
     "output_type": "stream",
     "text": [
      "Iteration: \t766 / 1000\n",
      "Confirmed: \t84\n",
      "Tentative: \t24\n",
      "Rejected: \t4892\n"
     ]
    },
    {
     "name": "stderr",
     "output_type": "stream",
     "text": [
      "[Parallel(n_jobs=14)]: Using backend ThreadingBackend with 14 concurrent workers.\n",
      "[Parallel(n_jobs=14)]: Done  22 tasks      | elapsed:    0.0s\n",
      "[Parallel(n_jobs=14)]: Done 172 tasks      | elapsed:    0.2s\n",
      "[Parallel(n_jobs=14)]: Done 422 tasks      | elapsed:    0.5s\n",
      "[Parallel(n_jobs=14)]: Done 489 out of 489 | elapsed:    0.6s finished\n"
     ]
    },
    {
     "name": "stdout",
     "output_type": "stream",
     "text": [
      "Iteration: \t767 / 1000\n",
      "Confirmed: \t84\n",
      "Tentative: \t24\n",
      "Rejected: \t4892\n"
     ]
    },
    {
     "name": "stderr",
     "output_type": "stream",
     "text": [
      "[Parallel(n_jobs=14)]: Using backend ThreadingBackend with 14 concurrent workers.\n",
      "[Parallel(n_jobs=14)]: Done  22 tasks      | elapsed:    0.0s\n",
      "[Parallel(n_jobs=14)]: Done 172 tasks      | elapsed:    0.2s\n",
      "[Parallel(n_jobs=14)]: Done 422 tasks      | elapsed:    0.5s\n",
      "[Parallel(n_jobs=14)]: Done 489 out of 489 | elapsed:    0.6s finished\n"
     ]
    },
    {
     "name": "stdout",
     "output_type": "stream",
     "text": [
      "Iteration: \t768 / 1000\n",
      "Confirmed: \t84\n",
      "Tentative: \t24\n",
      "Rejected: \t4892\n"
     ]
    },
    {
     "name": "stderr",
     "output_type": "stream",
     "text": [
      "[Parallel(n_jobs=14)]: Using backend ThreadingBackend with 14 concurrent workers.\n",
      "[Parallel(n_jobs=14)]: Done  22 tasks      | elapsed:    0.0s\n",
      "[Parallel(n_jobs=14)]: Done 172 tasks      | elapsed:    0.2s\n",
      "[Parallel(n_jobs=14)]: Done 422 tasks      | elapsed:    0.5s\n",
      "[Parallel(n_jobs=14)]: Done 489 out of 489 | elapsed:    0.6s finished\n"
     ]
    },
    {
     "name": "stdout",
     "output_type": "stream",
     "text": [
      "Iteration: \t769 / 1000\n",
      "Confirmed: \t84\n",
      "Tentative: \t24\n",
      "Rejected: \t4892\n"
     ]
    },
    {
     "name": "stderr",
     "output_type": "stream",
     "text": [
      "[Parallel(n_jobs=14)]: Using backend ThreadingBackend with 14 concurrent workers.\n",
      "[Parallel(n_jobs=14)]: Done  22 tasks      | elapsed:    0.0s\n",
      "[Parallel(n_jobs=14)]: Done 172 tasks      | elapsed:    0.2s\n",
      "[Parallel(n_jobs=14)]: Done 422 tasks      | elapsed:    0.6s\n",
      "[Parallel(n_jobs=14)]: Done 489 out of 489 | elapsed:    0.6s finished\n"
     ]
    },
    {
     "name": "stdout",
     "output_type": "stream",
     "text": [
      "Iteration: \t770 / 1000\n",
      "Confirmed: \t84\n",
      "Tentative: \t24\n",
      "Rejected: \t4892\n"
     ]
    },
    {
     "name": "stderr",
     "output_type": "stream",
     "text": [
      "[Parallel(n_jobs=14)]: Using backend ThreadingBackend with 14 concurrent workers.\n",
      "[Parallel(n_jobs=14)]: Done  22 tasks      | elapsed:    0.0s\n",
      "[Parallel(n_jobs=14)]: Done 172 tasks      | elapsed:    0.2s\n",
      "[Parallel(n_jobs=14)]: Done 422 tasks      | elapsed:    0.6s\n",
      "[Parallel(n_jobs=14)]: Done 489 out of 489 | elapsed:    0.6s finished\n"
     ]
    },
    {
     "name": "stdout",
     "output_type": "stream",
     "text": [
      "Iteration: \t771 / 1000\n",
      "Confirmed: \t84\n",
      "Tentative: \t24\n",
      "Rejected: \t4892\n"
     ]
    },
    {
     "name": "stderr",
     "output_type": "stream",
     "text": [
      "[Parallel(n_jobs=14)]: Using backend ThreadingBackend with 14 concurrent workers.\n",
      "[Parallel(n_jobs=14)]: Done  22 tasks      | elapsed:    0.0s\n",
      "[Parallel(n_jobs=14)]: Done 172 tasks      | elapsed:    0.2s\n",
      "[Parallel(n_jobs=14)]: Done 422 tasks      | elapsed:    0.5s\n",
      "[Parallel(n_jobs=14)]: Done 489 out of 489 | elapsed:    0.6s finished\n"
     ]
    },
    {
     "name": "stdout",
     "output_type": "stream",
     "text": [
      "Iteration: \t772 / 1000\n",
      "Confirmed: \t84\n",
      "Tentative: \t24\n",
      "Rejected: \t4892\n"
     ]
    },
    {
     "name": "stderr",
     "output_type": "stream",
     "text": [
      "[Parallel(n_jobs=14)]: Using backend ThreadingBackend with 14 concurrent workers.\n",
      "[Parallel(n_jobs=14)]: Done  22 tasks      | elapsed:    0.0s\n",
      "[Parallel(n_jobs=14)]: Done 172 tasks      | elapsed:    0.2s\n",
      "[Parallel(n_jobs=14)]: Done 422 tasks      | elapsed:    0.6s\n",
      "[Parallel(n_jobs=14)]: Done 489 out of 489 | elapsed:    0.6s finished\n"
     ]
    },
    {
     "name": "stdout",
     "output_type": "stream",
     "text": [
      "Iteration: \t773 / 1000\n",
      "Confirmed: \t84\n",
      "Tentative: \t24\n",
      "Rejected: \t4892\n"
     ]
    },
    {
     "name": "stderr",
     "output_type": "stream",
     "text": [
      "[Parallel(n_jobs=14)]: Using backend ThreadingBackend with 14 concurrent workers.\n",
      "[Parallel(n_jobs=14)]: Done  22 tasks      | elapsed:    0.0s\n",
      "[Parallel(n_jobs=14)]: Done 172 tasks      | elapsed:    0.2s\n",
      "[Parallel(n_jobs=14)]: Done 422 tasks      | elapsed:    0.5s\n",
      "[Parallel(n_jobs=14)]: Done 489 out of 489 | elapsed:    0.6s finished\n"
     ]
    },
    {
     "name": "stdout",
     "output_type": "stream",
     "text": [
      "Iteration: \t774 / 1000\n",
      "Confirmed: \t84\n",
      "Tentative: \t24\n",
      "Rejected: \t4892\n"
     ]
    },
    {
     "name": "stderr",
     "output_type": "stream",
     "text": [
      "[Parallel(n_jobs=14)]: Using backend ThreadingBackend with 14 concurrent workers.\n",
      "[Parallel(n_jobs=14)]: Done  22 tasks      | elapsed:    0.0s\n",
      "[Parallel(n_jobs=14)]: Done 172 tasks      | elapsed:    0.2s\n",
      "[Parallel(n_jobs=14)]: Done 422 tasks      | elapsed:    0.5s\n",
      "[Parallel(n_jobs=14)]: Done 489 out of 489 | elapsed:    0.6s finished\n"
     ]
    },
    {
     "name": "stdout",
     "output_type": "stream",
     "text": [
      "Iteration: \t775 / 1000\n",
      "Confirmed: \t84\n",
      "Tentative: \t24\n",
      "Rejected: \t4892\n"
     ]
    },
    {
     "name": "stderr",
     "output_type": "stream",
     "text": [
      "[Parallel(n_jobs=14)]: Using backend ThreadingBackend with 14 concurrent workers.\n",
      "[Parallel(n_jobs=14)]: Done  22 tasks      | elapsed:    0.0s\n",
      "[Parallel(n_jobs=14)]: Done 172 tasks      | elapsed:    0.2s\n",
      "[Parallel(n_jobs=14)]: Done 422 tasks      | elapsed:    0.5s\n",
      "[Parallel(n_jobs=14)]: Done 489 out of 489 | elapsed:    0.6s finished\n"
     ]
    },
    {
     "name": "stdout",
     "output_type": "stream",
     "text": [
      "Iteration: \t776 / 1000\n",
      "Confirmed: \t84\n",
      "Tentative: \t24\n",
      "Rejected: \t4892\n"
     ]
    },
    {
     "name": "stderr",
     "output_type": "stream",
     "text": [
      "[Parallel(n_jobs=14)]: Using backend ThreadingBackend with 14 concurrent workers.\n",
      "[Parallel(n_jobs=14)]: Done  22 tasks      | elapsed:    0.0s\n",
      "[Parallel(n_jobs=14)]: Done 172 tasks      | elapsed:    0.2s\n",
      "[Parallel(n_jobs=14)]: Done 422 tasks      | elapsed:    0.5s\n",
      "[Parallel(n_jobs=14)]: Done 489 out of 489 | elapsed:    0.6s finished\n"
     ]
    },
    {
     "name": "stdout",
     "output_type": "stream",
     "text": [
      "Iteration: \t777 / 1000\n",
      "Confirmed: \t84\n",
      "Tentative: \t24\n",
      "Rejected: \t4892\n"
     ]
    },
    {
     "name": "stderr",
     "output_type": "stream",
     "text": [
      "[Parallel(n_jobs=14)]: Using backend ThreadingBackend with 14 concurrent workers.\n",
      "[Parallel(n_jobs=14)]: Done  22 tasks      | elapsed:    0.0s\n",
      "[Parallel(n_jobs=14)]: Done 172 tasks      | elapsed:    0.2s\n",
      "[Parallel(n_jobs=14)]: Done 422 tasks      | elapsed:    0.5s\n",
      "[Parallel(n_jobs=14)]: Done 489 out of 489 | elapsed:    0.6s finished\n"
     ]
    },
    {
     "name": "stdout",
     "output_type": "stream",
     "text": [
      "Iteration: \t778 / 1000\n",
      "Confirmed: \t85\n",
      "Tentative: \t23\n",
      "Rejected: \t4892\n"
     ]
    },
    {
     "name": "stderr",
     "output_type": "stream",
     "text": [
      "[Parallel(n_jobs=14)]: Using backend ThreadingBackend with 14 concurrent workers.\n",
      "[Parallel(n_jobs=14)]: Done  22 tasks      | elapsed:    0.0s\n",
      "[Parallel(n_jobs=14)]: Done 172 tasks      | elapsed:    0.2s\n",
      "[Parallel(n_jobs=14)]: Done 422 tasks      | elapsed:    0.5s\n",
      "[Parallel(n_jobs=14)]: Done 489 out of 489 | elapsed:    0.6s finished\n"
     ]
    },
    {
     "name": "stdout",
     "output_type": "stream",
     "text": [
      "Iteration: \t779 / 1000\n",
      "Confirmed: \t85\n",
      "Tentative: \t23\n",
      "Rejected: \t4892\n"
     ]
    },
    {
     "name": "stderr",
     "output_type": "stream",
     "text": [
      "[Parallel(n_jobs=14)]: Using backend ThreadingBackend with 14 concurrent workers.\n",
      "[Parallel(n_jobs=14)]: Done  22 tasks      | elapsed:    0.0s\n",
      "[Parallel(n_jobs=14)]: Done 172 tasks      | elapsed:    0.2s\n",
      "[Parallel(n_jobs=14)]: Done 422 tasks      | elapsed:    0.5s\n",
      "[Parallel(n_jobs=14)]: Done 489 out of 489 | elapsed:    0.6s finished\n"
     ]
    },
    {
     "name": "stdout",
     "output_type": "stream",
     "text": [
      "Iteration: \t780 / 1000\n",
      "Confirmed: \t85\n",
      "Tentative: \t23\n",
      "Rejected: \t4892\n"
     ]
    },
    {
     "name": "stderr",
     "output_type": "stream",
     "text": [
      "[Parallel(n_jobs=14)]: Using backend ThreadingBackend with 14 concurrent workers.\n",
      "[Parallel(n_jobs=14)]: Done  22 tasks      | elapsed:    0.0s\n",
      "[Parallel(n_jobs=14)]: Done 172 tasks      | elapsed:    0.2s\n",
      "[Parallel(n_jobs=14)]: Done 422 tasks      | elapsed:    0.6s\n",
      "[Parallel(n_jobs=14)]: Done 489 out of 489 | elapsed:    0.6s finished\n"
     ]
    },
    {
     "name": "stdout",
     "output_type": "stream",
     "text": [
      "Iteration: \t781 / 1000\n",
      "Confirmed: \t85\n",
      "Tentative: \t23\n",
      "Rejected: \t4892\n"
     ]
    },
    {
     "name": "stderr",
     "output_type": "stream",
     "text": [
      "[Parallel(n_jobs=14)]: Using backend ThreadingBackend with 14 concurrent workers.\n",
      "[Parallel(n_jobs=14)]: Done  22 tasks      | elapsed:    0.0s\n",
      "[Parallel(n_jobs=14)]: Done 172 tasks      | elapsed:    0.2s\n",
      "[Parallel(n_jobs=14)]: Done 422 tasks      | elapsed:    0.5s\n",
      "[Parallel(n_jobs=14)]: Done 489 out of 489 | elapsed:    0.6s finished\n"
     ]
    },
    {
     "name": "stdout",
     "output_type": "stream",
     "text": [
      "Iteration: \t782 / 1000\n",
      "Confirmed: \t85\n",
      "Tentative: \t23\n",
      "Rejected: \t4892\n"
     ]
    },
    {
     "name": "stderr",
     "output_type": "stream",
     "text": [
      "[Parallel(n_jobs=14)]: Using backend ThreadingBackend with 14 concurrent workers.\n",
      "[Parallel(n_jobs=14)]: Done  22 tasks      | elapsed:    0.0s\n",
      "[Parallel(n_jobs=14)]: Done 172 tasks      | elapsed:    0.2s\n",
      "[Parallel(n_jobs=14)]: Done 422 tasks      | elapsed:    0.5s\n",
      "[Parallel(n_jobs=14)]: Done 489 out of 489 | elapsed:    0.6s finished\n"
     ]
    },
    {
     "name": "stdout",
     "output_type": "stream",
     "text": [
      "Iteration: \t783 / 1000\n",
      "Confirmed: \t85\n",
      "Tentative: \t23\n",
      "Rejected: \t4892\n"
     ]
    },
    {
     "name": "stderr",
     "output_type": "stream",
     "text": [
      "[Parallel(n_jobs=14)]: Using backend ThreadingBackend with 14 concurrent workers.\n",
      "[Parallel(n_jobs=14)]: Done  22 tasks      | elapsed:    0.0s\n",
      "[Parallel(n_jobs=14)]: Done 172 tasks      | elapsed:    0.2s\n",
      "[Parallel(n_jobs=14)]: Done 422 tasks      | elapsed:    0.5s\n",
      "[Parallel(n_jobs=14)]: Done 489 out of 489 | elapsed:    0.6s finished\n"
     ]
    },
    {
     "name": "stdout",
     "output_type": "stream",
     "text": [
      "Iteration: \t784 / 1000\n",
      "Confirmed: \t85\n",
      "Tentative: \t23\n",
      "Rejected: \t4892\n"
     ]
    },
    {
     "name": "stderr",
     "output_type": "stream",
     "text": [
      "[Parallel(n_jobs=14)]: Using backend ThreadingBackend with 14 concurrent workers.\n",
      "[Parallel(n_jobs=14)]: Done  22 tasks      | elapsed:    0.0s\n",
      "[Parallel(n_jobs=14)]: Done 172 tasks      | elapsed:    0.2s\n",
      "[Parallel(n_jobs=14)]: Done 422 tasks      | elapsed:    0.5s\n",
      "[Parallel(n_jobs=14)]: Done 489 out of 489 | elapsed:    0.6s finished\n"
     ]
    },
    {
     "name": "stdout",
     "output_type": "stream",
     "text": [
      "Iteration: \t785 / 1000\n",
      "Confirmed: \t85\n",
      "Tentative: \t23\n",
      "Rejected: \t4892\n"
     ]
    },
    {
     "name": "stderr",
     "output_type": "stream",
     "text": [
      "[Parallel(n_jobs=14)]: Using backend ThreadingBackend with 14 concurrent workers.\n",
      "[Parallel(n_jobs=14)]: Done  22 tasks      | elapsed:    0.0s\n",
      "[Parallel(n_jobs=14)]: Done 172 tasks      | elapsed:    0.2s\n",
      "[Parallel(n_jobs=14)]: Done 422 tasks      | elapsed:    0.5s\n",
      "[Parallel(n_jobs=14)]: Done 489 out of 489 | elapsed:    0.6s finished\n"
     ]
    },
    {
     "name": "stdout",
     "output_type": "stream",
     "text": [
      "Iteration: \t786 / 1000\n",
      "Confirmed: \t85\n",
      "Tentative: \t23\n",
      "Rejected: \t4892\n"
     ]
    },
    {
     "name": "stderr",
     "output_type": "stream",
     "text": [
      "[Parallel(n_jobs=14)]: Using backend ThreadingBackend with 14 concurrent workers.\n",
      "[Parallel(n_jobs=14)]: Done  22 tasks      | elapsed:    0.0s\n",
      "[Parallel(n_jobs=14)]: Done 172 tasks      | elapsed:    0.2s\n",
      "[Parallel(n_jobs=14)]: Done 422 tasks      | elapsed:    0.5s\n",
      "[Parallel(n_jobs=14)]: Done 489 out of 489 | elapsed:    0.6s finished\n"
     ]
    },
    {
     "name": "stdout",
     "output_type": "stream",
     "text": [
      "Iteration: \t787 / 1000\n",
      "Confirmed: \t85\n",
      "Tentative: \t23\n",
      "Rejected: \t4892\n"
     ]
    },
    {
     "name": "stderr",
     "output_type": "stream",
     "text": [
      "[Parallel(n_jobs=14)]: Using backend ThreadingBackend with 14 concurrent workers.\n",
      "[Parallel(n_jobs=14)]: Done  22 tasks      | elapsed:    0.0s\n",
      "[Parallel(n_jobs=14)]: Done 172 tasks      | elapsed:    0.2s\n",
      "[Parallel(n_jobs=14)]: Done 422 tasks      | elapsed:    0.5s\n",
      "[Parallel(n_jobs=14)]: Done 489 out of 489 | elapsed:    0.6s finished\n"
     ]
    },
    {
     "name": "stdout",
     "output_type": "stream",
     "text": [
      "Iteration: \t788 / 1000\n",
      "Confirmed: \t85\n",
      "Tentative: \t23\n",
      "Rejected: \t4892\n"
     ]
    },
    {
     "name": "stderr",
     "output_type": "stream",
     "text": [
      "[Parallel(n_jobs=14)]: Using backend ThreadingBackend with 14 concurrent workers.\n",
      "[Parallel(n_jobs=14)]: Done  22 tasks      | elapsed:    0.0s\n",
      "[Parallel(n_jobs=14)]: Done 172 tasks      | elapsed:    0.2s\n",
      "[Parallel(n_jobs=14)]: Done 422 tasks      | elapsed:    0.5s\n",
      "[Parallel(n_jobs=14)]: Done 489 out of 489 | elapsed:    0.6s finished\n"
     ]
    },
    {
     "name": "stdout",
     "output_type": "stream",
     "text": [
      "Iteration: \t789 / 1000\n",
      "Confirmed: \t85\n",
      "Tentative: \t23\n",
      "Rejected: \t4892\n"
     ]
    },
    {
     "name": "stderr",
     "output_type": "stream",
     "text": [
      "[Parallel(n_jobs=14)]: Using backend ThreadingBackend with 14 concurrent workers.\n",
      "[Parallel(n_jobs=14)]: Done  22 tasks      | elapsed:    0.0s\n",
      "[Parallel(n_jobs=14)]: Done 172 tasks      | elapsed:    0.2s\n",
      "[Parallel(n_jobs=14)]: Done 422 tasks      | elapsed:    0.6s\n",
      "[Parallel(n_jobs=14)]: Done 489 out of 489 | elapsed:    0.6s finished\n"
     ]
    },
    {
     "name": "stdout",
     "output_type": "stream",
     "text": [
      "Iteration: \t790 / 1000\n",
      "Confirmed: \t85\n",
      "Tentative: \t23\n",
      "Rejected: \t4892\n"
     ]
    },
    {
     "name": "stderr",
     "output_type": "stream",
     "text": [
      "[Parallel(n_jobs=14)]: Using backend ThreadingBackend with 14 concurrent workers.\n",
      "[Parallel(n_jobs=14)]: Done  22 tasks      | elapsed:    0.0s\n",
      "[Parallel(n_jobs=14)]: Done 172 tasks      | elapsed:    0.2s\n",
      "[Parallel(n_jobs=14)]: Done 422 tasks      | elapsed:    0.6s\n",
      "[Parallel(n_jobs=14)]: Done 489 out of 489 | elapsed:    0.6s finished\n"
     ]
    },
    {
     "name": "stdout",
     "output_type": "stream",
     "text": [
      "Iteration: \t791 / 1000\n",
      "Confirmed: \t85\n",
      "Tentative: \t23\n",
      "Rejected: \t4892\n"
     ]
    },
    {
     "name": "stderr",
     "output_type": "stream",
     "text": [
      "[Parallel(n_jobs=14)]: Using backend ThreadingBackend with 14 concurrent workers.\n",
      "[Parallel(n_jobs=14)]: Done  22 tasks      | elapsed:    0.0s\n",
      "[Parallel(n_jobs=14)]: Done 172 tasks      | elapsed:    0.2s\n",
      "[Parallel(n_jobs=14)]: Done 422 tasks      | elapsed:    0.5s\n",
      "[Parallel(n_jobs=14)]: Done 489 out of 489 | elapsed:    0.6s finished\n"
     ]
    },
    {
     "name": "stdout",
     "output_type": "stream",
     "text": [
      "Iteration: \t792 / 1000\n",
      "Confirmed: \t85\n",
      "Tentative: \t23\n",
      "Rejected: \t4892\n"
     ]
    },
    {
     "name": "stderr",
     "output_type": "stream",
     "text": [
      "[Parallel(n_jobs=14)]: Using backend ThreadingBackend with 14 concurrent workers.\n",
      "[Parallel(n_jobs=14)]: Done  22 tasks      | elapsed:    0.0s\n",
      "[Parallel(n_jobs=14)]: Done 172 tasks      | elapsed:    0.2s\n",
      "[Parallel(n_jobs=14)]: Done 422 tasks      | elapsed:    0.6s\n",
      "[Parallel(n_jobs=14)]: Done 489 out of 489 | elapsed:    0.6s finished\n"
     ]
    },
    {
     "name": "stdout",
     "output_type": "stream",
     "text": [
      "Iteration: \t793 / 1000\n",
      "Confirmed: \t85\n",
      "Tentative: \t23\n",
      "Rejected: \t4892\n"
     ]
    },
    {
     "name": "stderr",
     "output_type": "stream",
     "text": [
      "[Parallel(n_jobs=14)]: Using backend ThreadingBackend with 14 concurrent workers.\n",
      "[Parallel(n_jobs=14)]: Done  22 tasks      | elapsed:    0.0s\n",
      "[Parallel(n_jobs=14)]: Done 172 tasks      | elapsed:    0.2s\n",
      "[Parallel(n_jobs=14)]: Done 422 tasks      | elapsed:    0.6s\n",
      "[Parallel(n_jobs=14)]: Done 489 out of 489 | elapsed:    0.6s finished\n"
     ]
    },
    {
     "name": "stdout",
     "output_type": "stream",
     "text": [
      "Iteration: \t794 / 1000\n",
      "Confirmed: \t85\n",
      "Tentative: \t23\n",
      "Rejected: \t4892\n"
     ]
    },
    {
     "name": "stderr",
     "output_type": "stream",
     "text": [
      "[Parallel(n_jobs=14)]: Using backend ThreadingBackend with 14 concurrent workers.\n",
      "[Parallel(n_jobs=14)]: Done  22 tasks      | elapsed:    0.0s\n",
      "[Parallel(n_jobs=14)]: Done 172 tasks      | elapsed:    0.2s\n",
      "[Parallel(n_jobs=14)]: Done 422 tasks      | elapsed:    0.5s\n",
      "[Parallel(n_jobs=14)]: Done 489 out of 489 | elapsed:    0.6s finished\n"
     ]
    },
    {
     "name": "stdout",
     "output_type": "stream",
     "text": [
      "Iteration: \t795 / 1000\n",
      "Confirmed: \t85\n",
      "Tentative: \t23\n",
      "Rejected: \t4892\n"
     ]
    },
    {
     "name": "stderr",
     "output_type": "stream",
     "text": [
      "[Parallel(n_jobs=14)]: Using backend ThreadingBackend with 14 concurrent workers.\n",
      "[Parallel(n_jobs=14)]: Done  22 tasks      | elapsed:    0.0s\n",
      "[Parallel(n_jobs=14)]: Done 172 tasks      | elapsed:    0.2s\n",
      "[Parallel(n_jobs=14)]: Done 422 tasks      | elapsed:    0.5s\n",
      "[Parallel(n_jobs=14)]: Done 489 out of 489 | elapsed:    0.6s finished\n"
     ]
    },
    {
     "name": "stdout",
     "output_type": "stream",
     "text": [
      "Iteration: \t796 / 1000\n",
      "Confirmed: \t85\n",
      "Tentative: \t23\n",
      "Rejected: \t4892\n"
     ]
    },
    {
     "name": "stderr",
     "output_type": "stream",
     "text": [
      "[Parallel(n_jobs=14)]: Using backend ThreadingBackend with 14 concurrent workers.\n",
      "[Parallel(n_jobs=14)]: Done  22 tasks      | elapsed:    0.0s\n",
      "[Parallel(n_jobs=14)]: Done 172 tasks      | elapsed:    0.2s\n",
      "[Parallel(n_jobs=14)]: Done 422 tasks      | elapsed:    0.6s\n",
      "[Parallel(n_jobs=14)]: Done 489 out of 489 | elapsed:    0.6s finished\n"
     ]
    },
    {
     "name": "stdout",
     "output_type": "stream",
     "text": [
      "Iteration: \t797 / 1000\n",
      "Confirmed: \t85\n",
      "Tentative: \t23\n",
      "Rejected: \t4892\n"
     ]
    },
    {
     "name": "stderr",
     "output_type": "stream",
     "text": [
      "[Parallel(n_jobs=14)]: Using backend ThreadingBackend with 14 concurrent workers.\n",
      "[Parallel(n_jobs=14)]: Done  22 tasks      | elapsed:    0.0s\n",
      "[Parallel(n_jobs=14)]: Done 172 tasks      | elapsed:    0.2s\n",
      "[Parallel(n_jobs=14)]: Done 422 tasks      | elapsed:    0.5s\n",
      "[Parallel(n_jobs=14)]: Done 489 out of 489 | elapsed:    0.6s finished\n"
     ]
    },
    {
     "name": "stdout",
     "output_type": "stream",
     "text": [
      "Iteration: \t798 / 1000\n",
      "Confirmed: \t85\n",
      "Tentative: \t23\n",
      "Rejected: \t4892\n"
     ]
    },
    {
     "name": "stderr",
     "output_type": "stream",
     "text": [
      "[Parallel(n_jobs=14)]: Using backend ThreadingBackend with 14 concurrent workers.\n",
      "[Parallel(n_jobs=14)]: Done  22 tasks      | elapsed:    0.0s\n",
      "[Parallel(n_jobs=14)]: Done 172 tasks      | elapsed:    0.2s\n",
      "[Parallel(n_jobs=14)]: Done 422 tasks      | elapsed:    0.5s\n",
      "[Parallel(n_jobs=14)]: Done 489 out of 489 | elapsed:    0.6s finished\n"
     ]
    },
    {
     "name": "stdout",
     "output_type": "stream",
     "text": [
      "Iteration: \t799 / 1000\n",
      "Confirmed: \t85\n",
      "Tentative: \t23\n",
      "Rejected: \t4892\n"
     ]
    },
    {
     "name": "stderr",
     "output_type": "stream",
     "text": [
      "[Parallel(n_jobs=14)]: Using backend ThreadingBackend with 14 concurrent workers.\n",
      "[Parallel(n_jobs=14)]: Done  22 tasks      | elapsed:    0.0s\n",
      "[Parallel(n_jobs=14)]: Done 172 tasks      | elapsed:    0.2s\n",
      "[Parallel(n_jobs=14)]: Done 422 tasks      | elapsed:    0.6s\n",
      "[Parallel(n_jobs=14)]: Done 489 out of 489 | elapsed:    0.6s finished\n"
     ]
    },
    {
     "name": "stdout",
     "output_type": "stream",
     "text": [
      "Iteration: \t800 / 1000\n",
      "Confirmed: \t85\n",
      "Tentative: \t23\n",
      "Rejected: \t4892\n"
     ]
    },
    {
     "name": "stderr",
     "output_type": "stream",
     "text": [
      "[Parallel(n_jobs=14)]: Using backend ThreadingBackend with 14 concurrent workers.\n",
      "[Parallel(n_jobs=14)]: Done  22 tasks      | elapsed:    0.0s\n",
      "[Parallel(n_jobs=14)]: Done 172 tasks      | elapsed:    0.2s\n",
      "[Parallel(n_jobs=14)]: Done 422 tasks      | elapsed:    0.5s\n",
      "[Parallel(n_jobs=14)]: Done 489 out of 489 | elapsed:    0.6s finished\n"
     ]
    },
    {
     "name": "stdout",
     "output_type": "stream",
     "text": [
      "Iteration: \t801 / 1000\n",
      "Confirmed: \t85\n",
      "Tentative: \t23\n",
      "Rejected: \t4892\n"
     ]
    },
    {
     "name": "stderr",
     "output_type": "stream",
     "text": [
      "[Parallel(n_jobs=14)]: Using backend ThreadingBackend with 14 concurrent workers.\n",
      "[Parallel(n_jobs=14)]: Done  22 tasks      | elapsed:    0.0s\n",
      "[Parallel(n_jobs=14)]: Done 172 tasks      | elapsed:    0.2s\n",
      "[Parallel(n_jobs=14)]: Done 422 tasks      | elapsed:    0.6s\n",
      "[Parallel(n_jobs=14)]: Done 489 out of 489 | elapsed:    0.6s finished\n"
     ]
    },
    {
     "name": "stdout",
     "output_type": "stream",
     "text": [
      "Iteration: \t802 / 1000\n",
      "Confirmed: \t85\n",
      "Tentative: \t23\n",
      "Rejected: \t4892\n"
     ]
    },
    {
     "name": "stderr",
     "output_type": "stream",
     "text": [
      "[Parallel(n_jobs=14)]: Using backend ThreadingBackend with 14 concurrent workers.\n",
      "[Parallel(n_jobs=14)]: Done  22 tasks      | elapsed:    0.0s\n",
      "[Parallel(n_jobs=14)]: Done 172 tasks      | elapsed:    0.2s\n",
      "[Parallel(n_jobs=14)]: Done 422 tasks      | elapsed:    0.5s\n",
      "[Parallel(n_jobs=14)]: Done 489 out of 489 | elapsed:    0.6s finished\n"
     ]
    },
    {
     "name": "stdout",
     "output_type": "stream",
     "text": [
      "Iteration: \t803 / 1000\n",
      "Confirmed: \t85\n",
      "Tentative: \t23\n",
      "Rejected: \t4892\n"
     ]
    },
    {
     "name": "stderr",
     "output_type": "stream",
     "text": [
      "[Parallel(n_jobs=14)]: Using backend ThreadingBackend with 14 concurrent workers.\n",
      "[Parallel(n_jobs=14)]: Done  22 tasks      | elapsed:    0.0s\n",
      "[Parallel(n_jobs=14)]: Done 172 tasks      | elapsed:    0.2s\n",
      "[Parallel(n_jobs=14)]: Done 422 tasks      | elapsed:    0.5s\n",
      "[Parallel(n_jobs=14)]: Done 489 out of 489 | elapsed:    0.6s finished\n"
     ]
    },
    {
     "name": "stdout",
     "output_type": "stream",
     "text": [
      "Iteration: \t804 / 1000\n",
      "Confirmed: \t85\n",
      "Tentative: \t23\n",
      "Rejected: \t4892\n"
     ]
    },
    {
     "name": "stderr",
     "output_type": "stream",
     "text": [
      "[Parallel(n_jobs=14)]: Using backend ThreadingBackend with 14 concurrent workers.\n",
      "[Parallel(n_jobs=14)]: Done  22 tasks      | elapsed:    0.0s\n",
      "[Parallel(n_jobs=14)]: Done 172 tasks      | elapsed:    0.2s\n",
      "[Parallel(n_jobs=14)]: Done 422 tasks      | elapsed:    0.5s\n",
      "[Parallel(n_jobs=14)]: Done 489 out of 489 | elapsed:    0.6s finished\n"
     ]
    },
    {
     "name": "stdout",
     "output_type": "stream",
     "text": [
      "Iteration: \t805 / 1000\n",
      "Confirmed: \t85\n",
      "Tentative: \t23\n",
      "Rejected: \t4892\n"
     ]
    },
    {
     "name": "stderr",
     "output_type": "stream",
     "text": [
      "[Parallel(n_jobs=14)]: Using backend ThreadingBackend with 14 concurrent workers.\n",
      "[Parallel(n_jobs=14)]: Done  22 tasks      | elapsed:    0.0s\n",
      "[Parallel(n_jobs=14)]: Done 172 tasks      | elapsed:    0.2s\n",
      "[Parallel(n_jobs=14)]: Done 422 tasks      | elapsed:    0.6s\n",
      "[Parallel(n_jobs=14)]: Done 489 out of 489 | elapsed:    0.6s finished\n"
     ]
    },
    {
     "name": "stdout",
     "output_type": "stream",
     "text": [
      "Iteration: \t806 / 1000\n",
      "Confirmed: \t85\n",
      "Tentative: \t23\n",
      "Rejected: \t4892\n"
     ]
    },
    {
     "name": "stderr",
     "output_type": "stream",
     "text": [
      "[Parallel(n_jobs=14)]: Using backend ThreadingBackend with 14 concurrent workers.\n",
      "[Parallel(n_jobs=14)]: Done  22 tasks      | elapsed:    0.0s\n",
      "[Parallel(n_jobs=14)]: Done 172 tasks      | elapsed:    0.2s\n",
      "[Parallel(n_jobs=14)]: Done 422 tasks      | elapsed:    0.5s\n",
      "[Parallel(n_jobs=14)]: Done 489 out of 489 | elapsed:    0.6s finished\n"
     ]
    },
    {
     "name": "stdout",
     "output_type": "stream",
     "text": [
      "Iteration: \t807 / 1000\n",
      "Confirmed: \t85\n",
      "Tentative: \t23\n",
      "Rejected: \t4892\n"
     ]
    },
    {
     "name": "stderr",
     "output_type": "stream",
     "text": [
      "[Parallel(n_jobs=14)]: Using backend ThreadingBackend with 14 concurrent workers.\n",
      "[Parallel(n_jobs=14)]: Done  22 tasks      | elapsed:    0.0s\n",
      "[Parallel(n_jobs=14)]: Done 172 tasks      | elapsed:    0.2s\n",
      "[Parallel(n_jobs=14)]: Done 422 tasks      | elapsed:    0.5s\n",
      "[Parallel(n_jobs=14)]: Done 489 out of 489 | elapsed:    0.6s finished\n"
     ]
    },
    {
     "name": "stdout",
     "output_type": "stream",
     "text": [
      "Iteration: \t808 / 1000\n",
      "Confirmed: \t85\n",
      "Tentative: \t23\n",
      "Rejected: \t4892\n"
     ]
    },
    {
     "name": "stderr",
     "output_type": "stream",
     "text": [
      "[Parallel(n_jobs=14)]: Using backend ThreadingBackend with 14 concurrent workers.\n",
      "[Parallel(n_jobs=14)]: Done  22 tasks      | elapsed:    0.0s\n",
      "[Parallel(n_jobs=14)]: Done 172 tasks      | elapsed:    0.2s\n",
      "[Parallel(n_jobs=14)]: Done 422 tasks      | elapsed:    0.5s\n",
      "[Parallel(n_jobs=14)]: Done 489 out of 489 | elapsed:    0.6s finished\n"
     ]
    },
    {
     "name": "stdout",
     "output_type": "stream",
     "text": [
      "Iteration: \t809 / 1000\n",
      "Confirmed: \t85\n",
      "Tentative: \t23\n",
      "Rejected: \t4892\n"
     ]
    },
    {
     "name": "stderr",
     "output_type": "stream",
     "text": [
      "[Parallel(n_jobs=14)]: Using backend ThreadingBackend with 14 concurrent workers.\n",
      "[Parallel(n_jobs=14)]: Done  22 tasks      | elapsed:    0.0s\n",
      "[Parallel(n_jobs=14)]: Done 172 tasks      | elapsed:    0.2s\n",
      "[Parallel(n_jobs=14)]: Done 422 tasks      | elapsed:    0.5s\n",
      "[Parallel(n_jobs=14)]: Done 489 out of 489 | elapsed:    0.6s finished\n"
     ]
    },
    {
     "name": "stdout",
     "output_type": "stream",
     "text": [
      "Iteration: \t810 / 1000\n",
      "Confirmed: \t85\n",
      "Tentative: \t23\n",
      "Rejected: \t4892\n"
     ]
    },
    {
     "name": "stderr",
     "output_type": "stream",
     "text": [
      "[Parallel(n_jobs=14)]: Using backend ThreadingBackend with 14 concurrent workers.\n",
      "[Parallel(n_jobs=14)]: Done  22 tasks      | elapsed:    0.0s\n",
      "[Parallel(n_jobs=14)]: Done 172 tasks      | elapsed:    0.2s\n",
      "[Parallel(n_jobs=14)]: Done 422 tasks      | elapsed:    0.5s\n",
      "[Parallel(n_jobs=14)]: Done 489 out of 489 | elapsed:    0.6s finished\n"
     ]
    },
    {
     "name": "stdout",
     "output_type": "stream",
     "text": [
      "Iteration: \t811 / 1000\n",
      "Confirmed: \t85\n",
      "Tentative: \t23\n",
      "Rejected: \t4892\n"
     ]
    },
    {
     "name": "stderr",
     "output_type": "stream",
     "text": [
      "[Parallel(n_jobs=14)]: Using backend ThreadingBackend with 14 concurrent workers.\n",
      "[Parallel(n_jobs=14)]: Done  22 tasks      | elapsed:    0.0s\n",
      "[Parallel(n_jobs=14)]: Done 172 tasks      | elapsed:    0.2s\n",
      "[Parallel(n_jobs=14)]: Done 422 tasks      | elapsed:    0.6s\n",
      "[Parallel(n_jobs=14)]: Done 489 out of 489 | elapsed:    0.6s finished\n"
     ]
    },
    {
     "name": "stdout",
     "output_type": "stream",
     "text": [
      "Iteration: \t812 / 1000\n",
      "Confirmed: \t85\n",
      "Tentative: \t23\n",
      "Rejected: \t4892\n"
     ]
    },
    {
     "name": "stderr",
     "output_type": "stream",
     "text": [
      "[Parallel(n_jobs=14)]: Using backend ThreadingBackend with 14 concurrent workers.\n",
      "[Parallel(n_jobs=14)]: Done  22 tasks      | elapsed:    0.0s\n",
      "[Parallel(n_jobs=14)]: Done 172 tasks      | elapsed:    0.2s\n",
      "[Parallel(n_jobs=14)]: Done 422 tasks      | elapsed:    0.5s\n",
      "[Parallel(n_jobs=14)]: Done 489 out of 489 | elapsed:    0.6s finished\n"
     ]
    },
    {
     "name": "stdout",
     "output_type": "stream",
     "text": [
      "Iteration: \t813 / 1000\n",
      "Confirmed: \t85\n",
      "Tentative: \t23\n",
      "Rejected: \t4892\n"
     ]
    },
    {
     "name": "stderr",
     "output_type": "stream",
     "text": [
      "[Parallel(n_jobs=14)]: Using backend ThreadingBackend with 14 concurrent workers.\n",
      "[Parallel(n_jobs=14)]: Done  22 tasks      | elapsed:    0.0s\n",
      "[Parallel(n_jobs=14)]: Done 172 tasks      | elapsed:    0.2s\n",
      "[Parallel(n_jobs=14)]: Done 422 tasks      | elapsed:    0.6s\n",
      "[Parallel(n_jobs=14)]: Done 489 out of 489 | elapsed:    0.6s finished\n"
     ]
    },
    {
     "name": "stdout",
     "output_type": "stream",
     "text": [
      "Iteration: \t814 / 1000\n",
      "Confirmed: \t85\n",
      "Tentative: \t23\n",
      "Rejected: \t4892\n"
     ]
    },
    {
     "name": "stderr",
     "output_type": "stream",
     "text": [
      "[Parallel(n_jobs=14)]: Using backend ThreadingBackend with 14 concurrent workers.\n",
      "[Parallel(n_jobs=14)]: Done  22 tasks      | elapsed:    0.0s\n",
      "[Parallel(n_jobs=14)]: Done 172 tasks      | elapsed:    0.2s\n",
      "[Parallel(n_jobs=14)]: Done 422 tasks      | elapsed:    0.6s\n",
      "[Parallel(n_jobs=14)]: Done 489 out of 489 | elapsed:    0.6s finished\n"
     ]
    },
    {
     "name": "stdout",
     "output_type": "stream",
     "text": [
      "Iteration: \t815 / 1000\n",
      "Confirmed: \t85\n",
      "Tentative: \t23\n",
      "Rejected: \t4892\n"
     ]
    },
    {
     "name": "stderr",
     "output_type": "stream",
     "text": [
      "[Parallel(n_jobs=14)]: Using backend ThreadingBackend with 14 concurrent workers.\n",
      "[Parallel(n_jobs=14)]: Done  22 tasks      | elapsed:    0.0s\n",
      "[Parallel(n_jobs=14)]: Done 172 tasks      | elapsed:    0.2s\n",
      "[Parallel(n_jobs=14)]: Done 422 tasks      | elapsed:    0.6s\n",
      "[Parallel(n_jobs=14)]: Done 489 out of 489 | elapsed:    0.6s finished\n"
     ]
    },
    {
     "name": "stdout",
     "output_type": "stream",
     "text": [
      "Iteration: \t816 / 1000\n",
      "Confirmed: \t85\n",
      "Tentative: \t23\n",
      "Rejected: \t4892\n"
     ]
    },
    {
     "name": "stderr",
     "output_type": "stream",
     "text": [
      "[Parallel(n_jobs=14)]: Using backend ThreadingBackend with 14 concurrent workers.\n",
      "[Parallel(n_jobs=14)]: Done  22 tasks      | elapsed:    0.0s\n",
      "[Parallel(n_jobs=14)]: Done 172 tasks      | elapsed:    0.2s\n",
      "[Parallel(n_jobs=14)]: Done 422 tasks      | elapsed:    0.6s\n",
      "[Parallel(n_jobs=14)]: Done 489 out of 489 | elapsed:    0.6s finished\n"
     ]
    },
    {
     "name": "stdout",
     "output_type": "stream",
     "text": [
      "Iteration: \t817 / 1000\n",
      "Confirmed: \t85\n",
      "Tentative: \t23\n",
      "Rejected: \t4892\n"
     ]
    },
    {
     "name": "stderr",
     "output_type": "stream",
     "text": [
      "[Parallel(n_jobs=14)]: Using backend ThreadingBackend with 14 concurrent workers.\n",
      "[Parallel(n_jobs=14)]: Done  22 tasks      | elapsed:    0.0s\n",
      "[Parallel(n_jobs=14)]: Done 172 tasks      | elapsed:    0.2s\n",
      "[Parallel(n_jobs=14)]: Done 422 tasks      | elapsed:    0.6s\n",
      "[Parallel(n_jobs=14)]: Done 489 out of 489 | elapsed:    0.6s finished\n"
     ]
    },
    {
     "name": "stdout",
     "output_type": "stream",
     "text": [
      "Iteration: \t818 / 1000\n",
      "Confirmed: \t85\n",
      "Tentative: \t23\n",
      "Rejected: \t4892\n"
     ]
    },
    {
     "name": "stderr",
     "output_type": "stream",
     "text": [
      "[Parallel(n_jobs=14)]: Using backend ThreadingBackend with 14 concurrent workers.\n",
      "[Parallel(n_jobs=14)]: Done  22 tasks      | elapsed:    0.0s\n",
      "[Parallel(n_jobs=14)]: Done 172 tasks      | elapsed:    0.2s\n",
      "[Parallel(n_jobs=14)]: Done 422 tasks      | elapsed:    0.6s\n",
      "[Parallel(n_jobs=14)]: Done 489 out of 489 | elapsed:    0.6s finished\n"
     ]
    },
    {
     "name": "stdout",
     "output_type": "stream",
     "text": [
      "Iteration: \t819 / 1000\n",
      "Confirmed: \t85\n",
      "Tentative: \t23\n",
      "Rejected: \t4892\n"
     ]
    },
    {
     "name": "stderr",
     "output_type": "stream",
     "text": [
      "[Parallel(n_jobs=14)]: Using backend ThreadingBackend with 14 concurrent workers.\n",
      "[Parallel(n_jobs=14)]: Done  22 tasks      | elapsed:    0.0s\n",
      "[Parallel(n_jobs=14)]: Done 172 tasks      | elapsed:    0.2s\n",
      "[Parallel(n_jobs=14)]: Done 422 tasks      | elapsed:    0.5s\n",
      "[Parallel(n_jobs=14)]: Done 489 out of 489 | elapsed:    0.6s finished\n"
     ]
    },
    {
     "name": "stdout",
     "output_type": "stream",
     "text": [
      "Iteration: \t820 / 1000\n",
      "Confirmed: \t85\n",
      "Tentative: \t23\n",
      "Rejected: \t4892\n"
     ]
    },
    {
     "name": "stderr",
     "output_type": "stream",
     "text": [
      "[Parallel(n_jobs=14)]: Using backend ThreadingBackend with 14 concurrent workers.\n",
      "[Parallel(n_jobs=14)]: Done  22 tasks      | elapsed:    0.0s\n",
      "[Parallel(n_jobs=14)]: Done 172 tasks      | elapsed:    0.2s\n",
      "[Parallel(n_jobs=14)]: Done 422 tasks      | elapsed:    0.5s\n",
      "[Parallel(n_jobs=14)]: Done 489 out of 489 | elapsed:    0.6s finished\n"
     ]
    },
    {
     "name": "stdout",
     "output_type": "stream",
     "text": [
      "Iteration: \t821 / 1000\n",
      "Confirmed: \t85\n",
      "Tentative: \t23\n",
      "Rejected: \t4892\n"
     ]
    },
    {
     "name": "stderr",
     "output_type": "stream",
     "text": [
      "[Parallel(n_jobs=14)]: Using backend ThreadingBackend with 14 concurrent workers.\n",
      "[Parallel(n_jobs=14)]: Done  22 tasks      | elapsed:    0.0s\n",
      "[Parallel(n_jobs=14)]: Done 172 tasks      | elapsed:    0.2s\n",
      "[Parallel(n_jobs=14)]: Done 422 tasks      | elapsed:    0.5s\n",
      "[Parallel(n_jobs=14)]: Done 489 out of 489 | elapsed:    0.6s finished\n"
     ]
    },
    {
     "name": "stdout",
     "output_type": "stream",
     "text": [
      "Iteration: \t822 / 1000\n",
      "Confirmed: \t85\n",
      "Tentative: \t23\n",
      "Rejected: \t4892\n"
     ]
    },
    {
     "name": "stderr",
     "output_type": "stream",
     "text": [
      "[Parallel(n_jobs=14)]: Using backend ThreadingBackend with 14 concurrent workers.\n",
      "[Parallel(n_jobs=14)]: Done  22 tasks      | elapsed:    0.0s\n",
      "[Parallel(n_jobs=14)]: Done 172 tasks      | elapsed:    0.2s\n",
      "[Parallel(n_jobs=14)]: Done 422 tasks      | elapsed:    0.5s\n",
      "[Parallel(n_jobs=14)]: Done 489 out of 489 | elapsed:    0.6s finished\n"
     ]
    },
    {
     "name": "stdout",
     "output_type": "stream",
     "text": [
      "Iteration: \t823 / 1000\n",
      "Confirmed: \t85\n",
      "Tentative: \t23\n",
      "Rejected: \t4892\n"
     ]
    },
    {
     "name": "stderr",
     "output_type": "stream",
     "text": [
      "[Parallel(n_jobs=14)]: Using backend ThreadingBackend with 14 concurrent workers.\n",
      "[Parallel(n_jobs=14)]: Done  22 tasks      | elapsed:    0.0s\n",
      "[Parallel(n_jobs=14)]: Done 172 tasks      | elapsed:    0.2s\n",
      "[Parallel(n_jobs=14)]: Done 422 tasks      | elapsed:    0.5s\n",
      "[Parallel(n_jobs=14)]: Done 489 out of 489 | elapsed:    0.6s finished\n"
     ]
    },
    {
     "name": "stdout",
     "output_type": "stream",
     "text": [
      "Iteration: \t824 / 1000\n",
      "Confirmed: \t85\n",
      "Tentative: \t23\n",
      "Rejected: \t4892\n"
     ]
    },
    {
     "name": "stderr",
     "output_type": "stream",
     "text": [
      "[Parallel(n_jobs=14)]: Using backend ThreadingBackend with 14 concurrent workers.\n",
      "[Parallel(n_jobs=14)]: Done  22 tasks      | elapsed:    0.0s\n",
      "[Parallel(n_jobs=14)]: Done 172 tasks      | elapsed:    0.2s\n",
      "[Parallel(n_jobs=14)]: Done 422 tasks      | elapsed:    0.5s\n",
      "[Parallel(n_jobs=14)]: Done 489 out of 489 | elapsed:    0.6s finished\n"
     ]
    },
    {
     "name": "stdout",
     "output_type": "stream",
     "text": [
      "Iteration: \t825 / 1000\n",
      "Confirmed: \t85\n",
      "Tentative: \t23\n",
      "Rejected: \t4892\n"
     ]
    },
    {
     "name": "stderr",
     "output_type": "stream",
     "text": [
      "[Parallel(n_jobs=14)]: Using backend ThreadingBackend with 14 concurrent workers.\n",
      "[Parallel(n_jobs=14)]: Done  22 tasks      | elapsed:    0.0s\n",
      "[Parallel(n_jobs=14)]: Done 172 tasks      | elapsed:    0.2s\n",
      "[Parallel(n_jobs=14)]: Done 422 tasks      | elapsed:    0.5s\n",
      "[Parallel(n_jobs=14)]: Done 489 out of 489 | elapsed:    0.6s finished\n"
     ]
    },
    {
     "name": "stdout",
     "output_type": "stream",
     "text": [
      "Iteration: \t826 / 1000\n",
      "Confirmed: \t85\n",
      "Tentative: \t23\n",
      "Rejected: \t4892\n"
     ]
    },
    {
     "name": "stderr",
     "output_type": "stream",
     "text": [
      "[Parallel(n_jobs=14)]: Using backend ThreadingBackend with 14 concurrent workers.\n",
      "[Parallel(n_jobs=14)]: Done  22 tasks      | elapsed:    0.0s\n",
      "[Parallel(n_jobs=14)]: Done 172 tasks      | elapsed:    0.2s\n",
      "[Parallel(n_jobs=14)]: Done 422 tasks      | elapsed:    0.5s\n",
      "[Parallel(n_jobs=14)]: Done 489 out of 489 | elapsed:    0.6s finished\n"
     ]
    },
    {
     "name": "stdout",
     "output_type": "stream",
     "text": [
      "Iteration: \t827 / 1000\n",
      "Confirmed: \t85\n",
      "Tentative: \t23\n",
      "Rejected: \t4892\n"
     ]
    },
    {
     "name": "stderr",
     "output_type": "stream",
     "text": [
      "[Parallel(n_jobs=14)]: Using backend ThreadingBackend with 14 concurrent workers.\n",
      "[Parallel(n_jobs=14)]: Done  22 tasks      | elapsed:    0.0s\n",
      "[Parallel(n_jobs=14)]: Done 172 tasks      | elapsed:    0.2s\n",
      "[Parallel(n_jobs=14)]: Done 422 tasks      | elapsed:    0.5s\n",
      "[Parallel(n_jobs=14)]: Done 489 out of 489 | elapsed:    0.6s finished\n"
     ]
    },
    {
     "name": "stdout",
     "output_type": "stream",
     "text": [
      "Iteration: \t828 / 1000\n",
      "Confirmed: \t85\n",
      "Tentative: \t23\n",
      "Rejected: \t4892\n"
     ]
    },
    {
     "name": "stderr",
     "output_type": "stream",
     "text": [
      "[Parallel(n_jobs=14)]: Using backend ThreadingBackend with 14 concurrent workers.\n",
      "[Parallel(n_jobs=14)]: Done  22 tasks      | elapsed:    0.0s\n",
      "[Parallel(n_jobs=14)]: Done 172 tasks      | elapsed:    0.2s\n",
      "[Parallel(n_jobs=14)]: Done 422 tasks      | elapsed:    0.6s\n",
      "[Parallel(n_jobs=14)]: Done 489 out of 489 | elapsed:    0.6s finished\n"
     ]
    },
    {
     "name": "stdout",
     "output_type": "stream",
     "text": [
      "Iteration: \t829 / 1000\n",
      "Confirmed: \t85\n",
      "Tentative: \t23\n",
      "Rejected: \t4892\n"
     ]
    },
    {
     "name": "stderr",
     "output_type": "stream",
     "text": [
      "[Parallel(n_jobs=14)]: Using backend ThreadingBackend with 14 concurrent workers.\n",
      "[Parallel(n_jobs=14)]: Done  22 tasks      | elapsed:    0.0s\n",
      "[Parallel(n_jobs=14)]: Done 172 tasks      | elapsed:    0.2s\n",
      "[Parallel(n_jobs=14)]: Done 422 tasks      | elapsed:    0.5s\n",
      "[Parallel(n_jobs=14)]: Done 489 out of 489 | elapsed:    0.6s finished\n"
     ]
    },
    {
     "name": "stdout",
     "output_type": "stream",
     "text": [
      "Iteration: \t830 / 1000\n",
      "Confirmed: \t85\n",
      "Tentative: \t23\n",
      "Rejected: \t4892\n"
     ]
    },
    {
     "name": "stderr",
     "output_type": "stream",
     "text": [
      "[Parallel(n_jobs=14)]: Using backend ThreadingBackend with 14 concurrent workers.\n",
      "[Parallel(n_jobs=14)]: Done  22 tasks      | elapsed:    0.0s\n",
      "[Parallel(n_jobs=14)]: Done 172 tasks      | elapsed:    0.2s\n",
      "[Parallel(n_jobs=14)]: Done 422 tasks      | elapsed:    0.6s\n",
      "[Parallel(n_jobs=14)]: Done 489 out of 489 | elapsed:    0.6s finished\n"
     ]
    },
    {
     "name": "stdout",
     "output_type": "stream",
     "text": [
      "Iteration: \t831 / 1000\n",
      "Confirmed: \t85\n",
      "Tentative: \t23\n",
      "Rejected: \t4892\n"
     ]
    },
    {
     "name": "stderr",
     "output_type": "stream",
     "text": [
      "[Parallel(n_jobs=14)]: Using backend ThreadingBackend with 14 concurrent workers.\n",
      "[Parallel(n_jobs=14)]: Done  22 tasks      | elapsed:    0.0s\n",
      "[Parallel(n_jobs=14)]: Done 172 tasks      | elapsed:    0.2s\n",
      "[Parallel(n_jobs=14)]: Done 422 tasks      | elapsed:    0.5s\n",
      "[Parallel(n_jobs=14)]: Done 489 out of 489 | elapsed:    0.6s finished\n"
     ]
    },
    {
     "name": "stdout",
     "output_type": "stream",
     "text": [
      "Iteration: \t832 / 1000\n",
      "Confirmed: \t85\n",
      "Tentative: \t23\n",
      "Rejected: \t4892\n"
     ]
    },
    {
     "name": "stderr",
     "output_type": "stream",
     "text": [
      "[Parallel(n_jobs=14)]: Using backend ThreadingBackend with 14 concurrent workers.\n",
      "[Parallel(n_jobs=14)]: Done  22 tasks      | elapsed:    0.0s\n",
      "[Parallel(n_jobs=14)]: Done 172 tasks      | elapsed:    0.2s\n",
      "[Parallel(n_jobs=14)]: Done 422 tasks      | elapsed:    0.6s\n",
      "[Parallel(n_jobs=14)]: Done 489 out of 489 | elapsed:    0.6s finished\n"
     ]
    },
    {
     "name": "stdout",
     "output_type": "stream",
     "text": [
      "Iteration: \t833 / 1000\n",
      "Confirmed: \t85\n",
      "Tentative: \t23\n",
      "Rejected: \t4892\n"
     ]
    },
    {
     "name": "stderr",
     "output_type": "stream",
     "text": [
      "[Parallel(n_jobs=14)]: Using backend ThreadingBackend with 14 concurrent workers.\n",
      "[Parallel(n_jobs=14)]: Done  22 tasks      | elapsed:    0.0s\n",
      "[Parallel(n_jobs=14)]: Done 172 tasks      | elapsed:    0.2s\n",
      "[Parallel(n_jobs=14)]: Done 422 tasks      | elapsed:    0.6s\n",
      "[Parallel(n_jobs=14)]: Done 489 out of 489 | elapsed:    0.6s finished\n"
     ]
    },
    {
     "name": "stdout",
     "output_type": "stream",
     "text": [
      "Iteration: \t834 / 1000\n",
      "Confirmed: \t85\n",
      "Tentative: \t23\n",
      "Rejected: \t4892\n"
     ]
    },
    {
     "name": "stderr",
     "output_type": "stream",
     "text": [
      "[Parallel(n_jobs=14)]: Using backend ThreadingBackend with 14 concurrent workers.\n",
      "[Parallel(n_jobs=14)]: Done  22 tasks      | elapsed:    0.0s\n",
      "[Parallel(n_jobs=14)]: Done 172 tasks      | elapsed:    0.2s\n",
      "[Parallel(n_jobs=14)]: Done 422 tasks      | elapsed:    0.6s\n",
      "[Parallel(n_jobs=14)]: Done 489 out of 489 | elapsed:    0.6s finished\n"
     ]
    },
    {
     "name": "stdout",
     "output_type": "stream",
     "text": [
      "Iteration: \t835 / 1000\n",
      "Confirmed: \t85\n",
      "Tentative: \t23\n",
      "Rejected: \t4892\n"
     ]
    },
    {
     "name": "stderr",
     "output_type": "stream",
     "text": [
      "[Parallel(n_jobs=14)]: Using backend ThreadingBackend with 14 concurrent workers.\n",
      "[Parallel(n_jobs=14)]: Done  22 tasks      | elapsed:    0.0s\n",
      "[Parallel(n_jobs=14)]: Done 172 tasks      | elapsed:    0.2s\n",
      "[Parallel(n_jobs=14)]: Done 422 tasks      | elapsed:    0.6s\n",
      "[Parallel(n_jobs=14)]: Done 489 out of 489 | elapsed:    0.6s finished\n"
     ]
    },
    {
     "name": "stdout",
     "output_type": "stream",
     "text": [
      "Iteration: \t836 / 1000\n",
      "Confirmed: \t85\n",
      "Tentative: \t23\n",
      "Rejected: \t4892\n"
     ]
    },
    {
     "name": "stderr",
     "output_type": "stream",
     "text": [
      "[Parallel(n_jobs=14)]: Using backend ThreadingBackend with 14 concurrent workers.\n",
      "[Parallel(n_jobs=14)]: Done  22 tasks      | elapsed:    0.0s\n",
      "[Parallel(n_jobs=14)]: Done 172 tasks      | elapsed:    0.2s\n",
      "[Parallel(n_jobs=14)]: Done 422 tasks      | elapsed:    0.6s\n",
      "[Parallel(n_jobs=14)]: Done 489 out of 489 | elapsed:    0.6s finished\n"
     ]
    },
    {
     "name": "stdout",
     "output_type": "stream",
     "text": [
      "Iteration: \t837 / 1000\n",
      "Confirmed: \t85\n",
      "Tentative: \t23\n",
      "Rejected: \t4892\n"
     ]
    },
    {
     "name": "stderr",
     "output_type": "stream",
     "text": [
      "[Parallel(n_jobs=14)]: Using backend ThreadingBackend with 14 concurrent workers.\n",
      "[Parallel(n_jobs=14)]: Done  22 tasks      | elapsed:    0.0s\n",
      "[Parallel(n_jobs=14)]: Done 172 tasks      | elapsed:    0.2s\n",
      "[Parallel(n_jobs=14)]: Done 422 tasks      | elapsed:    0.5s\n",
      "[Parallel(n_jobs=14)]: Done 489 out of 489 | elapsed:    0.6s finished\n"
     ]
    },
    {
     "name": "stdout",
     "output_type": "stream",
     "text": [
      "Iteration: \t838 / 1000\n",
      "Confirmed: \t85\n",
      "Tentative: \t23\n",
      "Rejected: \t4892\n"
     ]
    },
    {
     "name": "stderr",
     "output_type": "stream",
     "text": [
      "[Parallel(n_jobs=14)]: Using backend ThreadingBackend with 14 concurrent workers.\n",
      "[Parallel(n_jobs=14)]: Done  22 tasks      | elapsed:    0.0s\n",
      "[Parallel(n_jobs=14)]: Done 172 tasks      | elapsed:    0.2s\n",
      "[Parallel(n_jobs=14)]: Done 422 tasks      | elapsed:    0.5s\n",
      "[Parallel(n_jobs=14)]: Done 489 out of 489 | elapsed:    0.6s finished\n"
     ]
    },
    {
     "name": "stdout",
     "output_type": "stream",
     "text": [
      "Iteration: \t839 / 1000\n",
      "Confirmed: \t85\n",
      "Tentative: \t23\n",
      "Rejected: \t4892\n"
     ]
    },
    {
     "name": "stderr",
     "output_type": "stream",
     "text": [
      "[Parallel(n_jobs=14)]: Using backend ThreadingBackend with 14 concurrent workers.\n",
      "[Parallel(n_jobs=14)]: Done  22 tasks      | elapsed:    0.0s\n",
      "[Parallel(n_jobs=14)]: Done 172 tasks      | elapsed:    0.2s\n",
      "[Parallel(n_jobs=14)]: Done 422 tasks      | elapsed:    0.6s\n",
      "[Parallel(n_jobs=14)]: Done 489 out of 489 | elapsed:    0.6s finished\n"
     ]
    },
    {
     "name": "stdout",
     "output_type": "stream",
     "text": [
      "Iteration: \t840 / 1000\n",
      "Confirmed: \t85\n",
      "Tentative: \t23\n",
      "Rejected: \t4892\n"
     ]
    },
    {
     "name": "stderr",
     "output_type": "stream",
     "text": [
      "[Parallel(n_jobs=14)]: Using backend ThreadingBackend with 14 concurrent workers.\n",
      "[Parallel(n_jobs=14)]: Done  22 tasks      | elapsed:    0.0s\n",
      "[Parallel(n_jobs=14)]: Done 172 tasks      | elapsed:    0.2s\n",
      "[Parallel(n_jobs=14)]: Done 422 tasks      | elapsed:    0.5s\n",
      "[Parallel(n_jobs=14)]: Done 489 out of 489 | elapsed:    0.6s finished\n"
     ]
    },
    {
     "name": "stdout",
     "output_type": "stream",
     "text": [
      "Iteration: \t841 / 1000\n",
      "Confirmed: \t85\n",
      "Tentative: \t23\n",
      "Rejected: \t4892\n"
     ]
    },
    {
     "name": "stderr",
     "output_type": "stream",
     "text": [
      "[Parallel(n_jobs=14)]: Using backend ThreadingBackend with 14 concurrent workers.\n",
      "[Parallel(n_jobs=14)]: Done  22 tasks      | elapsed:    0.0s\n",
      "[Parallel(n_jobs=14)]: Done 172 tasks      | elapsed:    0.2s\n",
      "[Parallel(n_jobs=14)]: Done 422 tasks      | elapsed:    0.5s\n",
      "[Parallel(n_jobs=14)]: Done 489 out of 489 | elapsed:    0.6s finished\n"
     ]
    },
    {
     "name": "stdout",
     "output_type": "stream",
     "text": [
      "Iteration: \t842 / 1000\n",
      "Confirmed: \t85\n",
      "Tentative: \t23\n",
      "Rejected: \t4892\n"
     ]
    },
    {
     "name": "stderr",
     "output_type": "stream",
     "text": [
      "[Parallel(n_jobs=14)]: Using backend ThreadingBackend with 14 concurrent workers.\n",
      "[Parallel(n_jobs=14)]: Done  22 tasks      | elapsed:    0.0s\n",
      "[Parallel(n_jobs=14)]: Done 172 tasks      | elapsed:    0.2s\n",
      "[Parallel(n_jobs=14)]: Done 422 tasks      | elapsed:    0.5s\n",
      "[Parallel(n_jobs=14)]: Done 489 out of 489 | elapsed:    0.6s finished\n"
     ]
    },
    {
     "name": "stdout",
     "output_type": "stream",
     "text": [
      "Iteration: \t843 / 1000\n",
      "Confirmed: \t85\n",
      "Tentative: \t23\n",
      "Rejected: \t4892\n"
     ]
    },
    {
     "name": "stderr",
     "output_type": "stream",
     "text": [
      "[Parallel(n_jobs=14)]: Using backend ThreadingBackend with 14 concurrent workers.\n",
      "[Parallel(n_jobs=14)]: Done  22 tasks      | elapsed:    0.0s\n",
      "[Parallel(n_jobs=14)]: Done 172 tasks      | elapsed:    0.2s\n",
      "[Parallel(n_jobs=14)]: Done 422 tasks      | elapsed:    0.6s\n",
      "[Parallel(n_jobs=14)]: Done 489 out of 489 | elapsed:    0.6s finished\n"
     ]
    },
    {
     "name": "stdout",
     "output_type": "stream",
     "text": [
      "Iteration: \t844 / 1000\n",
      "Confirmed: \t85\n",
      "Tentative: \t23\n",
      "Rejected: \t4892\n"
     ]
    },
    {
     "name": "stderr",
     "output_type": "stream",
     "text": [
      "[Parallel(n_jobs=14)]: Using backend ThreadingBackend with 14 concurrent workers.\n",
      "[Parallel(n_jobs=14)]: Done  22 tasks      | elapsed:    0.0s\n",
      "[Parallel(n_jobs=14)]: Done 172 tasks      | elapsed:    0.2s\n",
      "[Parallel(n_jobs=14)]: Done 422 tasks      | elapsed:    0.6s\n",
      "[Parallel(n_jobs=14)]: Done 489 out of 489 | elapsed:    0.6s finished\n"
     ]
    },
    {
     "name": "stdout",
     "output_type": "stream",
     "text": [
      "Iteration: \t845 / 1000\n",
      "Confirmed: \t85\n",
      "Tentative: \t23\n",
      "Rejected: \t4892\n"
     ]
    },
    {
     "name": "stderr",
     "output_type": "stream",
     "text": [
      "[Parallel(n_jobs=14)]: Using backend ThreadingBackend with 14 concurrent workers.\n",
      "[Parallel(n_jobs=14)]: Done  22 tasks      | elapsed:    0.0s\n",
      "[Parallel(n_jobs=14)]: Done 172 tasks      | elapsed:    0.2s\n",
      "[Parallel(n_jobs=14)]: Done 422 tasks      | elapsed:    0.5s\n",
      "[Parallel(n_jobs=14)]: Done 489 out of 489 | elapsed:    0.6s finished\n"
     ]
    },
    {
     "name": "stdout",
     "output_type": "stream",
     "text": [
      "Iteration: \t846 / 1000\n",
      "Confirmed: \t85\n",
      "Tentative: \t23\n",
      "Rejected: \t4892\n"
     ]
    },
    {
     "name": "stderr",
     "output_type": "stream",
     "text": [
      "[Parallel(n_jobs=14)]: Using backend ThreadingBackend with 14 concurrent workers.\n",
      "[Parallel(n_jobs=14)]: Done  22 tasks      | elapsed:    0.0s\n",
      "[Parallel(n_jobs=14)]: Done 172 tasks      | elapsed:    0.2s\n",
      "[Parallel(n_jobs=14)]: Done 422 tasks      | elapsed:    0.5s\n",
      "[Parallel(n_jobs=14)]: Done 489 out of 489 | elapsed:    0.6s finished\n"
     ]
    },
    {
     "name": "stdout",
     "output_type": "stream",
     "text": [
      "Iteration: \t847 / 1000\n",
      "Confirmed: \t85\n",
      "Tentative: \t23\n",
      "Rejected: \t4892\n"
     ]
    },
    {
     "name": "stderr",
     "output_type": "stream",
     "text": [
      "[Parallel(n_jobs=14)]: Using backend ThreadingBackend with 14 concurrent workers.\n",
      "[Parallel(n_jobs=14)]: Done  22 tasks      | elapsed:    0.0s\n",
      "[Parallel(n_jobs=14)]: Done 172 tasks      | elapsed:    0.2s\n",
      "[Parallel(n_jobs=14)]: Done 422 tasks      | elapsed:    0.5s\n",
      "[Parallel(n_jobs=14)]: Done 489 out of 489 | elapsed:    0.6s finished\n"
     ]
    },
    {
     "name": "stdout",
     "output_type": "stream",
     "text": [
      "Iteration: \t848 / 1000\n",
      "Confirmed: \t85\n",
      "Tentative: \t23\n",
      "Rejected: \t4892\n"
     ]
    },
    {
     "name": "stderr",
     "output_type": "stream",
     "text": [
      "[Parallel(n_jobs=14)]: Using backend ThreadingBackend with 14 concurrent workers.\n",
      "[Parallel(n_jobs=14)]: Done  22 tasks      | elapsed:    0.0s\n",
      "[Parallel(n_jobs=14)]: Done 172 tasks      | elapsed:    0.2s\n",
      "[Parallel(n_jobs=14)]: Done 422 tasks      | elapsed:    0.5s\n",
      "[Parallel(n_jobs=14)]: Done 489 out of 489 | elapsed:    0.6s finished\n"
     ]
    },
    {
     "name": "stdout",
     "output_type": "stream",
     "text": [
      "Iteration: \t849 / 1000\n",
      "Confirmed: \t85\n",
      "Tentative: \t23\n",
      "Rejected: \t4892\n"
     ]
    },
    {
     "name": "stderr",
     "output_type": "stream",
     "text": [
      "[Parallel(n_jobs=14)]: Using backend ThreadingBackend with 14 concurrent workers.\n",
      "[Parallel(n_jobs=14)]: Done  22 tasks      | elapsed:    0.0s\n",
      "[Parallel(n_jobs=14)]: Done 172 tasks      | elapsed:    0.2s\n",
      "[Parallel(n_jobs=14)]: Done 422 tasks      | elapsed:    0.5s\n",
      "[Parallel(n_jobs=14)]: Done 489 out of 489 | elapsed:    0.6s finished\n"
     ]
    },
    {
     "name": "stdout",
     "output_type": "stream",
     "text": [
      "Iteration: \t850 / 1000\n",
      "Confirmed: \t85\n",
      "Tentative: \t23\n",
      "Rejected: \t4892\n"
     ]
    },
    {
     "name": "stderr",
     "output_type": "stream",
     "text": [
      "[Parallel(n_jobs=14)]: Using backend ThreadingBackend with 14 concurrent workers.\n",
      "[Parallel(n_jobs=14)]: Done  22 tasks      | elapsed:    0.0s\n",
      "[Parallel(n_jobs=14)]: Done 172 tasks      | elapsed:    0.2s\n",
      "[Parallel(n_jobs=14)]: Done 422 tasks      | elapsed:    0.5s\n",
      "[Parallel(n_jobs=14)]: Done 489 out of 489 | elapsed:    0.6s finished\n"
     ]
    },
    {
     "name": "stdout",
     "output_type": "stream",
     "text": [
      "Iteration: \t851 / 1000\n",
      "Confirmed: \t85\n",
      "Tentative: \t23\n",
      "Rejected: \t4892\n"
     ]
    },
    {
     "name": "stderr",
     "output_type": "stream",
     "text": [
      "[Parallel(n_jobs=14)]: Using backend ThreadingBackend with 14 concurrent workers.\n",
      "[Parallel(n_jobs=14)]: Done  22 tasks      | elapsed:    0.0s\n",
      "[Parallel(n_jobs=14)]: Done 172 tasks      | elapsed:    0.2s\n",
      "[Parallel(n_jobs=14)]: Done 422 tasks      | elapsed:    0.5s\n",
      "[Parallel(n_jobs=14)]: Done 489 out of 489 | elapsed:    0.6s finished\n"
     ]
    },
    {
     "name": "stdout",
     "output_type": "stream",
     "text": [
      "Iteration: \t852 / 1000\n",
      "Confirmed: \t85\n",
      "Tentative: \t23\n",
      "Rejected: \t4892\n"
     ]
    },
    {
     "name": "stderr",
     "output_type": "stream",
     "text": [
      "[Parallel(n_jobs=14)]: Using backend ThreadingBackend with 14 concurrent workers.\n",
      "[Parallel(n_jobs=14)]: Done  22 tasks      | elapsed:    0.0s\n",
      "[Parallel(n_jobs=14)]: Done 172 tasks      | elapsed:    0.2s\n",
      "[Parallel(n_jobs=14)]: Done 422 tasks      | elapsed:    0.5s\n",
      "[Parallel(n_jobs=14)]: Done 489 out of 489 | elapsed:    0.6s finished\n"
     ]
    },
    {
     "name": "stdout",
     "output_type": "stream",
     "text": [
      "Iteration: \t853 / 1000\n",
      "Confirmed: \t85\n",
      "Tentative: \t23\n",
      "Rejected: \t4892\n"
     ]
    },
    {
     "name": "stderr",
     "output_type": "stream",
     "text": [
      "[Parallel(n_jobs=14)]: Using backend ThreadingBackend with 14 concurrent workers.\n",
      "[Parallel(n_jobs=14)]: Done  22 tasks      | elapsed:    0.0s\n",
      "[Parallel(n_jobs=14)]: Done 172 tasks      | elapsed:    0.2s\n",
      "[Parallel(n_jobs=14)]: Done 422 tasks      | elapsed:    0.6s\n",
      "[Parallel(n_jobs=14)]: Done 489 out of 489 | elapsed:    0.6s finished\n"
     ]
    },
    {
     "name": "stdout",
     "output_type": "stream",
     "text": [
      "Iteration: \t854 / 1000\n",
      "Confirmed: \t85\n",
      "Tentative: \t23\n",
      "Rejected: \t4892\n"
     ]
    },
    {
     "name": "stderr",
     "output_type": "stream",
     "text": [
      "[Parallel(n_jobs=14)]: Using backend ThreadingBackend with 14 concurrent workers.\n",
      "[Parallel(n_jobs=14)]: Done  22 tasks      | elapsed:    0.0s\n",
      "[Parallel(n_jobs=14)]: Done 172 tasks      | elapsed:    0.2s\n",
      "[Parallel(n_jobs=14)]: Done 422 tasks      | elapsed:    0.5s\n",
      "[Parallel(n_jobs=14)]: Done 489 out of 489 | elapsed:    0.6s finished\n"
     ]
    },
    {
     "name": "stdout",
     "output_type": "stream",
     "text": [
      "Iteration: \t855 / 1000\n",
      "Confirmed: \t85\n",
      "Tentative: \t23\n",
      "Rejected: \t4892\n"
     ]
    },
    {
     "name": "stderr",
     "output_type": "stream",
     "text": [
      "[Parallel(n_jobs=14)]: Using backend ThreadingBackend with 14 concurrent workers.\n",
      "[Parallel(n_jobs=14)]: Done  22 tasks      | elapsed:    0.0s\n",
      "[Parallel(n_jobs=14)]: Done 172 tasks      | elapsed:    0.2s\n",
      "[Parallel(n_jobs=14)]: Done 422 tasks      | elapsed:    0.5s\n",
      "[Parallel(n_jobs=14)]: Done 489 out of 489 | elapsed:    0.6s finished\n"
     ]
    },
    {
     "name": "stdout",
     "output_type": "stream",
     "text": [
      "Iteration: \t856 / 1000\n",
      "Confirmed: \t85\n",
      "Tentative: \t23\n",
      "Rejected: \t4892\n"
     ]
    },
    {
     "name": "stderr",
     "output_type": "stream",
     "text": [
      "[Parallel(n_jobs=14)]: Using backend ThreadingBackend with 14 concurrent workers.\n",
      "[Parallel(n_jobs=14)]: Done  22 tasks      | elapsed:    0.0s\n",
      "[Parallel(n_jobs=14)]: Done 172 tasks      | elapsed:    0.2s\n",
      "[Parallel(n_jobs=14)]: Done 422 tasks      | elapsed:    0.5s\n",
      "[Parallel(n_jobs=14)]: Done 489 out of 489 | elapsed:    0.6s finished\n"
     ]
    },
    {
     "name": "stdout",
     "output_type": "stream",
     "text": [
      "Iteration: \t857 / 1000\n",
      "Confirmed: \t85\n",
      "Tentative: \t23\n",
      "Rejected: \t4892\n"
     ]
    },
    {
     "name": "stderr",
     "output_type": "stream",
     "text": [
      "[Parallel(n_jobs=14)]: Using backend ThreadingBackend with 14 concurrent workers.\n",
      "[Parallel(n_jobs=14)]: Done  22 tasks      | elapsed:    0.0s\n",
      "[Parallel(n_jobs=14)]: Done 172 tasks      | elapsed:    0.2s\n",
      "[Parallel(n_jobs=14)]: Done 422 tasks      | elapsed:    0.6s\n",
      "[Parallel(n_jobs=14)]: Done 489 out of 489 | elapsed:    0.6s finished\n"
     ]
    },
    {
     "name": "stdout",
     "output_type": "stream",
     "text": [
      "Iteration: \t858 / 1000\n",
      "Confirmed: \t85\n",
      "Tentative: \t23\n",
      "Rejected: \t4892\n"
     ]
    },
    {
     "name": "stderr",
     "output_type": "stream",
     "text": [
      "[Parallel(n_jobs=14)]: Using backend ThreadingBackend with 14 concurrent workers.\n",
      "[Parallel(n_jobs=14)]: Done  22 tasks      | elapsed:    0.0s\n",
      "[Parallel(n_jobs=14)]: Done 172 tasks      | elapsed:    0.2s\n",
      "[Parallel(n_jobs=14)]: Done 422 tasks      | elapsed:    0.5s\n",
      "[Parallel(n_jobs=14)]: Done 489 out of 489 | elapsed:    0.6s finished\n"
     ]
    },
    {
     "name": "stdout",
     "output_type": "stream",
     "text": [
      "Iteration: \t859 / 1000\n",
      "Confirmed: \t85\n",
      "Tentative: \t23\n",
      "Rejected: \t4892\n"
     ]
    },
    {
     "name": "stderr",
     "output_type": "stream",
     "text": [
      "[Parallel(n_jobs=14)]: Using backend ThreadingBackend with 14 concurrent workers.\n",
      "[Parallel(n_jobs=14)]: Done  22 tasks      | elapsed:    0.0s\n",
      "[Parallel(n_jobs=14)]: Done 172 tasks      | elapsed:    0.2s\n",
      "[Parallel(n_jobs=14)]: Done 422 tasks      | elapsed:    0.5s\n",
      "[Parallel(n_jobs=14)]: Done 489 out of 489 | elapsed:    0.6s finished\n"
     ]
    },
    {
     "name": "stdout",
     "output_type": "stream",
     "text": [
      "Iteration: \t860 / 1000\n",
      "Confirmed: \t85\n",
      "Tentative: \t23\n",
      "Rejected: \t4892\n"
     ]
    },
    {
     "name": "stderr",
     "output_type": "stream",
     "text": [
      "[Parallel(n_jobs=14)]: Using backend ThreadingBackend with 14 concurrent workers.\n",
      "[Parallel(n_jobs=14)]: Done  22 tasks      | elapsed:    0.0s\n",
      "[Parallel(n_jobs=14)]: Done 172 tasks      | elapsed:    0.2s\n",
      "[Parallel(n_jobs=14)]: Done 422 tasks      | elapsed:    0.5s\n",
      "[Parallel(n_jobs=14)]: Done 489 out of 489 | elapsed:    0.6s finished\n"
     ]
    },
    {
     "name": "stdout",
     "output_type": "stream",
     "text": [
      "Iteration: \t861 / 1000\n",
      "Confirmed: \t85\n",
      "Tentative: \t23\n",
      "Rejected: \t4892\n"
     ]
    },
    {
     "name": "stderr",
     "output_type": "stream",
     "text": [
      "[Parallel(n_jobs=14)]: Using backend ThreadingBackend with 14 concurrent workers.\n",
      "[Parallel(n_jobs=14)]: Done  22 tasks      | elapsed:    0.0s\n",
      "[Parallel(n_jobs=14)]: Done 172 tasks      | elapsed:    0.2s\n",
      "[Parallel(n_jobs=14)]: Done 422 tasks      | elapsed:    0.5s\n",
      "[Parallel(n_jobs=14)]: Done 489 out of 489 | elapsed:    0.6s finished\n"
     ]
    },
    {
     "name": "stdout",
     "output_type": "stream",
     "text": [
      "Iteration: \t862 / 1000\n",
      "Confirmed: \t85\n",
      "Tentative: \t23\n",
      "Rejected: \t4892\n"
     ]
    },
    {
     "name": "stderr",
     "output_type": "stream",
     "text": [
      "[Parallel(n_jobs=14)]: Using backend ThreadingBackend with 14 concurrent workers.\n",
      "[Parallel(n_jobs=14)]: Done  22 tasks      | elapsed:    0.0s\n",
      "[Parallel(n_jobs=14)]: Done 172 tasks      | elapsed:    0.2s\n",
      "[Parallel(n_jobs=14)]: Done 422 tasks      | elapsed:    0.5s\n",
      "[Parallel(n_jobs=14)]: Done 489 out of 489 | elapsed:    0.6s finished\n"
     ]
    },
    {
     "name": "stdout",
     "output_type": "stream",
     "text": [
      "Iteration: \t863 / 1000\n",
      "Confirmed: \t85\n",
      "Tentative: \t23\n",
      "Rejected: \t4892\n"
     ]
    },
    {
     "name": "stderr",
     "output_type": "stream",
     "text": [
      "[Parallel(n_jobs=14)]: Using backend ThreadingBackend with 14 concurrent workers.\n",
      "[Parallel(n_jobs=14)]: Done  22 tasks      | elapsed:    0.0s\n",
      "[Parallel(n_jobs=14)]: Done 172 tasks      | elapsed:    0.2s\n",
      "[Parallel(n_jobs=14)]: Done 422 tasks      | elapsed:    0.5s\n",
      "[Parallel(n_jobs=14)]: Done 489 out of 489 | elapsed:    0.6s finished\n"
     ]
    },
    {
     "name": "stdout",
     "output_type": "stream",
     "text": [
      "Iteration: \t864 / 1000\n",
      "Confirmed: \t85\n",
      "Tentative: \t23\n",
      "Rejected: \t4892\n"
     ]
    },
    {
     "name": "stderr",
     "output_type": "stream",
     "text": [
      "[Parallel(n_jobs=14)]: Using backend ThreadingBackend with 14 concurrent workers.\n",
      "[Parallel(n_jobs=14)]: Done  22 tasks      | elapsed:    0.0s\n",
      "[Parallel(n_jobs=14)]: Done 172 tasks      | elapsed:    0.2s\n",
      "[Parallel(n_jobs=14)]: Done 422 tasks      | elapsed:    0.5s\n",
      "[Parallel(n_jobs=14)]: Done 489 out of 489 | elapsed:    0.6s finished\n"
     ]
    },
    {
     "name": "stdout",
     "output_type": "stream",
     "text": [
      "Iteration: \t865 / 1000\n",
      "Confirmed: \t85\n",
      "Tentative: \t23\n",
      "Rejected: \t4892\n"
     ]
    },
    {
     "name": "stderr",
     "output_type": "stream",
     "text": [
      "[Parallel(n_jobs=14)]: Using backend ThreadingBackend with 14 concurrent workers.\n",
      "[Parallel(n_jobs=14)]: Done  22 tasks      | elapsed:    0.0s\n",
      "[Parallel(n_jobs=14)]: Done 172 tasks      | elapsed:    0.2s\n",
      "[Parallel(n_jobs=14)]: Done 422 tasks      | elapsed:    0.5s\n",
      "[Parallel(n_jobs=14)]: Done 489 out of 489 | elapsed:    0.6s finished\n"
     ]
    },
    {
     "name": "stdout",
     "output_type": "stream",
     "text": [
      "Iteration: \t866 / 1000\n",
      "Confirmed: \t85\n",
      "Tentative: \t23\n",
      "Rejected: \t4892\n"
     ]
    },
    {
     "name": "stderr",
     "output_type": "stream",
     "text": [
      "[Parallel(n_jobs=14)]: Using backend ThreadingBackend with 14 concurrent workers.\n",
      "[Parallel(n_jobs=14)]: Done  22 tasks      | elapsed:    0.0s\n",
      "[Parallel(n_jobs=14)]: Done 172 tasks      | elapsed:    0.2s\n",
      "[Parallel(n_jobs=14)]: Done 422 tasks      | elapsed:    0.6s\n",
      "[Parallel(n_jobs=14)]: Done 489 out of 489 | elapsed:    0.6s finished\n"
     ]
    },
    {
     "name": "stdout",
     "output_type": "stream",
     "text": [
      "Iteration: \t867 / 1000\n",
      "Confirmed: \t85\n",
      "Tentative: \t23\n",
      "Rejected: \t4892\n"
     ]
    },
    {
     "name": "stderr",
     "output_type": "stream",
     "text": [
      "[Parallel(n_jobs=14)]: Using backend ThreadingBackend with 14 concurrent workers.\n",
      "[Parallel(n_jobs=14)]: Done  22 tasks      | elapsed:    0.0s\n",
      "[Parallel(n_jobs=14)]: Done 172 tasks      | elapsed:    0.2s\n",
      "[Parallel(n_jobs=14)]: Done 422 tasks      | elapsed:    0.5s\n",
      "[Parallel(n_jobs=14)]: Done 489 out of 489 | elapsed:    0.6s finished\n"
     ]
    },
    {
     "name": "stdout",
     "output_type": "stream",
     "text": [
      "Iteration: \t868 / 1000\n",
      "Confirmed: \t85\n",
      "Tentative: \t23\n",
      "Rejected: \t4892\n"
     ]
    },
    {
     "name": "stderr",
     "output_type": "stream",
     "text": [
      "[Parallel(n_jobs=14)]: Using backend ThreadingBackend with 14 concurrent workers.\n",
      "[Parallel(n_jobs=14)]: Done  22 tasks      | elapsed:    0.0s\n",
      "[Parallel(n_jobs=14)]: Done 172 tasks      | elapsed:    0.2s\n",
      "[Parallel(n_jobs=14)]: Done 422 tasks      | elapsed:    0.5s\n",
      "[Parallel(n_jobs=14)]: Done 489 out of 489 | elapsed:    0.6s finished\n"
     ]
    },
    {
     "name": "stdout",
     "output_type": "stream",
     "text": [
      "Iteration: \t869 / 1000\n",
      "Confirmed: \t85\n",
      "Tentative: \t23\n",
      "Rejected: \t4892\n"
     ]
    },
    {
     "name": "stderr",
     "output_type": "stream",
     "text": [
      "[Parallel(n_jobs=14)]: Using backend ThreadingBackend with 14 concurrent workers.\n",
      "[Parallel(n_jobs=14)]: Done  22 tasks      | elapsed:    0.0s\n",
      "[Parallel(n_jobs=14)]: Done 172 tasks      | elapsed:    0.2s\n",
      "[Parallel(n_jobs=14)]: Done 422 tasks      | elapsed:    0.6s\n",
      "[Parallel(n_jobs=14)]: Done 489 out of 489 | elapsed:    0.6s finished\n"
     ]
    },
    {
     "name": "stdout",
     "output_type": "stream",
     "text": [
      "Iteration: \t870 / 1000\n",
      "Confirmed: \t85\n",
      "Tentative: \t23\n",
      "Rejected: \t4892\n"
     ]
    },
    {
     "name": "stderr",
     "output_type": "stream",
     "text": [
      "[Parallel(n_jobs=14)]: Using backend ThreadingBackend with 14 concurrent workers.\n",
      "[Parallel(n_jobs=14)]: Done  22 tasks      | elapsed:    0.0s\n",
      "[Parallel(n_jobs=14)]: Done 172 tasks      | elapsed:    0.2s\n",
      "[Parallel(n_jobs=14)]: Done 422 tasks      | elapsed:    0.6s\n",
      "[Parallel(n_jobs=14)]: Done 489 out of 489 | elapsed:    0.6s finished\n"
     ]
    },
    {
     "name": "stdout",
     "output_type": "stream",
     "text": [
      "Iteration: \t871 / 1000\n",
      "Confirmed: \t85\n",
      "Tentative: \t23\n",
      "Rejected: \t4892\n"
     ]
    },
    {
     "name": "stderr",
     "output_type": "stream",
     "text": [
      "[Parallel(n_jobs=14)]: Using backend ThreadingBackend with 14 concurrent workers.\n",
      "[Parallel(n_jobs=14)]: Done  22 tasks      | elapsed:    0.0s\n",
      "[Parallel(n_jobs=14)]: Done 172 tasks      | elapsed:    0.2s\n",
      "[Parallel(n_jobs=14)]: Done 422 tasks      | elapsed:    0.6s\n",
      "[Parallel(n_jobs=14)]: Done 489 out of 489 | elapsed:    0.6s finished\n"
     ]
    },
    {
     "name": "stdout",
     "output_type": "stream",
     "text": [
      "Iteration: \t872 / 1000\n",
      "Confirmed: \t85\n",
      "Tentative: \t23\n",
      "Rejected: \t4892\n"
     ]
    },
    {
     "name": "stderr",
     "output_type": "stream",
     "text": [
      "[Parallel(n_jobs=14)]: Using backend ThreadingBackend with 14 concurrent workers.\n",
      "[Parallel(n_jobs=14)]: Done  22 tasks      | elapsed:    0.0s\n",
      "[Parallel(n_jobs=14)]: Done 172 tasks      | elapsed:    0.2s\n",
      "[Parallel(n_jobs=14)]: Done 422 tasks      | elapsed:    0.5s\n",
      "[Parallel(n_jobs=14)]: Done 489 out of 489 | elapsed:    0.6s finished\n"
     ]
    },
    {
     "name": "stdout",
     "output_type": "stream",
     "text": [
      "Iteration: \t873 / 1000\n",
      "Confirmed: \t85\n",
      "Tentative: \t23\n",
      "Rejected: \t4892\n"
     ]
    },
    {
     "name": "stderr",
     "output_type": "stream",
     "text": [
      "[Parallel(n_jobs=14)]: Using backend ThreadingBackend with 14 concurrent workers.\n",
      "[Parallel(n_jobs=14)]: Done  22 tasks      | elapsed:    0.0s\n",
      "[Parallel(n_jobs=14)]: Done 172 tasks      | elapsed:    0.2s\n",
      "[Parallel(n_jobs=14)]: Done 422 tasks      | elapsed:    0.5s\n",
      "[Parallel(n_jobs=14)]: Done 489 out of 489 | elapsed:    0.6s finished\n"
     ]
    },
    {
     "name": "stdout",
     "output_type": "stream",
     "text": [
      "Iteration: \t874 / 1000\n",
      "Confirmed: \t85\n",
      "Tentative: \t23\n",
      "Rejected: \t4892\n"
     ]
    },
    {
     "name": "stderr",
     "output_type": "stream",
     "text": [
      "[Parallel(n_jobs=14)]: Using backend ThreadingBackend with 14 concurrent workers.\n",
      "[Parallel(n_jobs=14)]: Done  22 tasks      | elapsed:    0.0s\n",
      "[Parallel(n_jobs=14)]: Done 172 tasks      | elapsed:    0.2s\n",
      "[Parallel(n_jobs=14)]: Done 422 tasks      | elapsed:    0.6s\n",
      "[Parallel(n_jobs=14)]: Done 489 out of 489 | elapsed:    0.6s finished\n"
     ]
    },
    {
     "name": "stdout",
     "output_type": "stream",
     "text": [
      "Iteration: \t875 / 1000\n",
      "Confirmed: \t85\n",
      "Tentative: \t23\n",
      "Rejected: \t4892\n"
     ]
    },
    {
     "name": "stderr",
     "output_type": "stream",
     "text": [
      "[Parallel(n_jobs=14)]: Using backend ThreadingBackend with 14 concurrent workers.\n",
      "[Parallel(n_jobs=14)]: Done  22 tasks      | elapsed:    0.0s\n",
      "[Parallel(n_jobs=14)]: Done 172 tasks      | elapsed:    0.2s\n",
      "[Parallel(n_jobs=14)]: Done 422 tasks      | elapsed:    0.6s\n",
      "[Parallel(n_jobs=14)]: Done 489 out of 489 | elapsed:    0.6s finished\n"
     ]
    },
    {
     "name": "stdout",
     "output_type": "stream",
     "text": [
      "Iteration: \t876 / 1000\n",
      "Confirmed: \t85\n",
      "Tentative: \t23\n",
      "Rejected: \t4892\n"
     ]
    },
    {
     "name": "stderr",
     "output_type": "stream",
     "text": [
      "[Parallel(n_jobs=14)]: Using backend ThreadingBackend with 14 concurrent workers.\n",
      "[Parallel(n_jobs=14)]: Done  22 tasks      | elapsed:    0.0s\n",
      "[Parallel(n_jobs=14)]: Done 172 tasks      | elapsed:    0.2s\n",
      "[Parallel(n_jobs=14)]: Done 422 tasks      | elapsed:    0.6s\n",
      "[Parallel(n_jobs=14)]: Done 489 out of 489 | elapsed:    0.6s finished\n"
     ]
    },
    {
     "name": "stdout",
     "output_type": "stream",
     "text": [
      "Iteration: \t877 / 1000\n",
      "Confirmed: \t85\n",
      "Tentative: \t23\n",
      "Rejected: \t4892\n"
     ]
    },
    {
     "name": "stderr",
     "output_type": "stream",
     "text": [
      "[Parallel(n_jobs=14)]: Using backend ThreadingBackend with 14 concurrent workers.\n",
      "[Parallel(n_jobs=14)]: Done  22 tasks      | elapsed:    0.0s\n",
      "[Parallel(n_jobs=14)]: Done 172 tasks      | elapsed:    0.2s\n",
      "[Parallel(n_jobs=14)]: Done 422 tasks      | elapsed:    0.5s\n",
      "[Parallel(n_jobs=14)]: Done 489 out of 489 | elapsed:    0.6s finished\n"
     ]
    },
    {
     "name": "stdout",
     "output_type": "stream",
     "text": [
      "Iteration: \t878 / 1000\n",
      "Confirmed: \t85\n",
      "Tentative: \t23\n",
      "Rejected: \t4892\n"
     ]
    },
    {
     "name": "stderr",
     "output_type": "stream",
     "text": [
      "[Parallel(n_jobs=14)]: Using backend ThreadingBackend with 14 concurrent workers.\n",
      "[Parallel(n_jobs=14)]: Done  22 tasks      | elapsed:    0.0s\n",
      "[Parallel(n_jobs=14)]: Done 172 tasks      | elapsed:    0.2s\n",
      "[Parallel(n_jobs=14)]: Done 422 tasks      | elapsed:    0.6s\n",
      "[Parallel(n_jobs=14)]: Done 489 out of 489 | elapsed:    0.6s finished\n"
     ]
    },
    {
     "name": "stdout",
     "output_type": "stream",
     "text": [
      "Iteration: \t879 / 1000\n",
      "Confirmed: \t85\n",
      "Tentative: \t23\n",
      "Rejected: \t4892\n"
     ]
    },
    {
     "name": "stderr",
     "output_type": "stream",
     "text": [
      "[Parallel(n_jobs=14)]: Using backend ThreadingBackend with 14 concurrent workers.\n",
      "[Parallel(n_jobs=14)]: Done  22 tasks      | elapsed:    0.0s\n",
      "[Parallel(n_jobs=14)]: Done 172 tasks      | elapsed:    0.2s\n",
      "[Parallel(n_jobs=14)]: Done 422 tasks      | elapsed:    0.5s\n",
      "[Parallel(n_jobs=14)]: Done 489 out of 489 | elapsed:    0.6s finished\n"
     ]
    },
    {
     "name": "stdout",
     "output_type": "stream",
     "text": [
      "Iteration: \t880 / 1000\n",
      "Confirmed: \t85\n",
      "Tentative: \t23\n",
      "Rejected: \t4892\n"
     ]
    },
    {
     "name": "stderr",
     "output_type": "stream",
     "text": [
      "[Parallel(n_jobs=14)]: Using backend ThreadingBackend with 14 concurrent workers.\n",
      "[Parallel(n_jobs=14)]: Done  22 tasks      | elapsed:    0.0s\n",
      "[Parallel(n_jobs=14)]: Done 172 tasks      | elapsed:    0.2s\n",
      "[Parallel(n_jobs=14)]: Done 422 tasks      | elapsed:    0.5s\n",
      "[Parallel(n_jobs=14)]: Done 489 out of 489 | elapsed:    0.6s finished\n"
     ]
    },
    {
     "name": "stdout",
     "output_type": "stream",
     "text": [
      "Iteration: \t881 / 1000\n",
      "Confirmed: \t85\n",
      "Tentative: \t23\n",
      "Rejected: \t4892\n"
     ]
    },
    {
     "name": "stderr",
     "output_type": "stream",
     "text": [
      "[Parallel(n_jobs=14)]: Using backend ThreadingBackend with 14 concurrent workers.\n",
      "[Parallel(n_jobs=14)]: Done  22 tasks      | elapsed:    0.0s\n",
      "[Parallel(n_jobs=14)]: Done 172 tasks      | elapsed:    0.2s\n",
      "[Parallel(n_jobs=14)]: Done 422 tasks      | elapsed:    0.6s\n",
      "[Parallel(n_jobs=14)]: Done 489 out of 489 | elapsed:    0.6s finished\n"
     ]
    },
    {
     "name": "stdout",
     "output_type": "stream",
     "text": [
      "Iteration: \t882 / 1000\n",
      "Confirmed: \t85\n",
      "Tentative: \t23\n",
      "Rejected: \t4892\n"
     ]
    },
    {
     "name": "stderr",
     "output_type": "stream",
     "text": [
      "[Parallel(n_jobs=14)]: Using backend ThreadingBackend with 14 concurrent workers.\n",
      "[Parallel(n_jobs=14)]: Done  22 tasks      | elapsed:    0.0s\n",
      "[Parallel(n_jobs=14)]: Done 172 tasks      | elapsed:    0.2s\n",
      "[Parallel(n_jobs=14)]: Done 422 tasks      | elapsed:    0.5s\n",
      "[Parallel(n_jobs=14)]: Done 489 out of 489 | elapsed:    0.6s finished\n"
     ]
    },
    {
     "name": "stdout",
     "output_type": "stream",
     "text": [
      "Iteration: \t883 / 1000\n",
      "Confirmed: \t85\n",
      "Tentative: \t23\n",
      "Rejected: \t4892\n"
     ]
    },
    {
     "name": "stderr",
     "output_type": "stream",
     "text": [
      "[Parallel(n_jobs=14)]: Using backend ThreadingBackend with 14 concurrent workers.\n",
      "[Parallel(n_jobs=14)]: Done  22 tasks      | elapsed:    0.0s\n",
      "[Parallel(n_jobs=14)]: Done 172 tasks      | elapsed:    0.2s\n",
      "[Parallel(n_jobs=14)]: Done 422 tasks      | elapsed:    0.6s\n",
      "[Parallel(n_jobs=14)]: Done 489 out of 489 | elapsed:    0.6s finished\n"
     ]
    },
    {
     "name": "stdout",
     "output_type": "stream",
     "text": [
      "Iteration: \t884 / 1000\n",
      "Confirmed: \t85\n",
      "Tentative: \t23\n",
      "Rejected: \t4892\n"
     ]
    },
    {
     "name": "stderr",
     "output_type": "stream",
     "text": [
      "[Parallel(n_jobs=14)]: Using backend ThreadingBackend with 14 concurrent workers.\n",
      "[Parallel(n_jobs=14)]: Done  22 tasks      | elapsed:    0.0s\n",
      "[Parallel(n_jobs=14)]: Done 172 tasks      | elapsed:    0.2s\n",
      "[Parallel(n_jobs=14)]: Done 422 tasks      | elapsed:    0.6s\n",
      "[Parallel(n_jobs=14)]: Done 489 out of 489 | elapsed:    0.6s finished\n"
     ]
    },
    {
     "name": "stdout",
     "output_type": "stream",
     "text": [
      "Iteration: \t885 / 1000\n",
      "Confirmed: \t85\n",
      "Tentative: \t23\n",
      "Rejected: \t4892\n"
     ]
    },
    {
     "name": "stderr",
     "output_type": "stream",
     "text": [
      "[Parallel(n_jobs=14)]: Using backend ThreadingBackend with 14 concurrent workers.\n",
      "[Parallel(n_jobs=14)]: Done  22 tasks      | elapsed:    0.0s\n",
      "[Parallel(n_jobs=14)]: Done 172 tasks      | elapsed:    0.2s\n",
      "[Parallel(n_jobs=14)]: Done 422 tasks      | elapsed:    0.5s\n",
      "[Parallel(n_jobs=14)]: Done 489 out of 489 | elapsed:    0.6s finished\n"
     ]
    },
    {
     "name": "stdout",
     "output_type": "stream",
     "text": [
      "Iteration: \t886 / 1000\n",
      "Confirmed: \t85\n",
      "Tentative: \t23\n",
      "Rejected: \t4892\n"
     ]
    },
    {
     "name": "stderr",
     "output_type": "stream",
     "text": [
      "[Parallel(n_jobs=14)]: Using backend ThreadingBackend with 14 concurrent workers.\n",
      "[Parallel(n_jobs=14)]: Done  22 tasks      | elapsed:    0.0s\n",
      "[Parallel(n_jobs=14)]: Done 172 tasks      | elapsed:    0.2s\n",
      "[Parallel(n_jobs=14)]: Done 422 tasks      | elapsed:    0.5s\n",
      "[Parallel(n_jobs=14)]: Done 489 out of 489 | elapsed:    0.6s finished\n"
     ]
    },
    {
     "name": "stdout",
     "output_type": "stream",
     "text": [
      "Iteration: \t887 / 1000\n",
      "Confirmed: \t85\n",
      "Tentative: \t23\n",
      "Rejected: \t4892\n"
     ]
    },
    {
     "name": "stderr",
     "output_type": "stream",
     "text": [
      "[Parallel(n_jobs=14)]: Using backend ThreadingBackend with 14 concurrent workers.\n",
      "[Parallel(n_jobs=14)]: Done  22 tasks      | elapsed:    0.0s\n",
      "[Parallel(n_jobs=14)]: Done 172 tasks      | elapsed:    0.2s\n",
      "[Parallel(n_jobs=14)]: Done 422 tasks      | elapsed:    0.6s\n",
      "[Parallel(n_jobs=14)]: Done 489 out of 489 | elapsed:    0.6s finished\n"
     ]
    },
    {
     "name": "stdout",
     "output_type": "stream",
     "text": [
      "Iteration: \t888 / 1000\n",
      "Confirmed: \t85\n",
      "Tentative: \t23\n",
      "Rejected: \t4892\n"
     ]
    },
    {
     "name": "stderr",
     "output_type": "stream",
     "text": [
      "[Parallel(n_jobs=14)]: Using backend ThreadingBackend with 14 concurrent workers.\n",
      "[Parallel(n_jobs=14)]: Done  22 tasks      | elapsed:    0.0s\n",
      "[Parallel(n_jobs=14)]: Done 172 tasks      | elapsed:    0.2s\n",
      "[Parallel(n_jobs=14)]: Done 422 tasks      | elapsed:    0.6s\n",
      "[Parallel(n_jobs=14)]: Done 489 out of 489 | elapsed:    0.6s finished\n"
     ]
    },
    {
     "name": "stdout",
     "output_type": "stream",
     "text": [
      "Iteration: \t889 / 1000\n",
      "Confirmed: \t85\n",
      "Tentative: \t23\n",
      "Rejected: \t4892\n"
     ]
    },
    {
     "name": "stderr",
     "output_type": "stream",
     "text": [
      "[Parallel(n_jobs=14)]: Using backend ThreadingBackend with 14 concurrent workers.\n",
      "[Parallel(n_jobs=14)]: Done  22 tasks      | elapsed:    0.0s\n",
      "[Parallel(n_jobs=14)]: Done 172 tasks      | elapsed:    0.2s\n",
      "[Parallel(n_jobs=14)]: Done 422 tasks      | elapsed:    0.6s\n",
      "[Parallel(n_jobs=14)]: Done 489 out of 489 | elapsed:    0.6s finished\n"
     ]
    },
    {
     "name": "stdout",
     "output_type": "stream",
     "text": [
      "Iteration: \t890 / 1000\n",
      "Confirmed: \t85\n",
      "Tentative: \t23\n",
      "Rejected: \t4892\n"
     ]
    },
    {
     "name": "stderr",
     "output_type": "stream",
     "text": [
      "[Parallel(n_jobs=14)]: Using backend ThreadingBackend with 14 concurrent workers.\n",
      "[Parallel(n_jobs=14)]: Done  22 tasks      | elapsed:    0.0s\n",
      "[Parallel(n_jobs=14)]: Done 172 tasks      | elapsed:    0.2s\n",
      "[Parallel(n_jobs=14)]: Done 422 tasks      | elapsed:    0.6s\n",
      "[Parallel(n_jobs=14)]: Done 489 out of 489 | elapsed:    0.6s finished\n"
     ]
    },
    {
     "name": "stdout",
     "output_type": "stream",
     "text": [
      "Iteration: \t891 / 1000\n",
      "Confirmed: \t85\n",
      "Tentative: \t23\n",
      "Rejected: \t4892\n"
     ]
    },
    {
     "name": "stderr",
     "output_type": "stream",
     "text": [
      "[Parallel(n_jobs=14)]: Using backend ThreadingBackend with 14 concurrent workers.\n",
      "[Parallel(n_jobs=14)]: Done  22 tasks      | elapsed:    0.0s\n",
      "[Parallel(n_jobs=14)]: Done 172 tasks      | elapsed:    0.2s\n",
      "[Parallel(n_jobs=14)]: Done 422 tasks      | elapsed:    0.6s\n",
      "[Parallel(n_jobs=14)]: Done 489 out of 489 | elapsed:    0.6s finished\n"
     ]
    },
    {
     "name": "stdout",
     "output_type": "stream",
     "text": [
      "Iteration: \t892 / 1000\n",
      "Confirmed: \t85\n",
      "Tentative: \t23\n",
      "Rejected: \t4892\n"
     ]
    },
    {
     "name": "stderr",
     "output_type": "stream",
     "text": [
      "[Parallel(n_jobs=14)]: Using backend ThreadingBackend with 14 concurrent workers.\n",
      "[Parallel(n_jobs=14)]: Done  22 tasks      | elapsed:    0.0s\n",
      "[Parallel(n_jobs=14)]: Done 172 tasks      | elapsed:    0.2s\n",
      "[Parallel(n_jobs=14)]: Done 422 tasks      | elapsed:    0.5s\n",
      "[Parallel(n_jobs=14)]: Done 489 out of 489 | elapsed:    0.6s finished\n"
     ]
    },
    {
     "name": "stdout",
     "output_type": "stream",
     "text": [
      "Iteration: \t893 / 1000\n",
      "Confirmed: \t85\n",
      "Tentative: \t23\n",
      "Rejected: \t4892\n"
     ]
    },
    {
     "name": "stderr",
     "output_type": "stream",
     "text": [
      "[Parallel(n_jobs=14)]: Using backend ThreadingBackend with 14 concurrent workers.\n",
      "[Parallel(n_jobs=14)]: Done  22 tasks      | elapsed:    0.0s\n",
      "[Parallel(n_jobs=14)]: Done 172 tasks      | elapsed:    0.2s\n",
      "[Parallel(n_jobs=14)]: Done 422 tasks      | elapsed:    0.5s\n",
      "[Parallel(n_jobs=14)]: Done 489 out of 489 | elapsed:    0.6s finished\n"
     ]
    },
    {
     "name": "stdout",
     "output_type": "stream",
     "text": [
      "Iteration: \t894 / 1000\n",
      "Confirmed: \t85\n",
      "Tentative: \t23\n",
      "Rejected: \t4892\n"
     ]
    },
    {
     "name": "stderr",
     "output_type": "stream",
     "text": [
      "[Parallel(n_jobs=14)]: Using backend ThreadingBackend with 14 concurrent workers.\n",
      "[Parallel(n_jobs=14)]: Done  22 tasks      | elapsed:    0.0s\n",
      "[Parallel(n_jobs=14)]: Done 172 tasks      | elapsed:    0.2s\n",
      "[Parallel(n_jobs=14)]: Done 422 tasks      | elapsed:    0.6s\n",
      "[Parallel(n_jobs=14)]: Done 489 out of 489 | elapsed:    0.6s finished\n"
     ]
    },
    {
     "name": "stdout",
     "output_type": "stream",
     "text": [
      "Iteration: \t895 / 1000\n",
      "Confirmed: \t85\n",
      "Tentative: \t23\n",
      "Rejected: \t4892\n"
     ]
    },
    {
     "name": "stderr",
     "output_type": "stream",
     "text": [
      "[Parallel(n_jobs=14)]: Using backend ThreadingBackend with 14 concurrent workers.\n",
      "[Parallel(n_jobs=14)]: Done  22 tasks      | elapsed:    0.0s\n",
      "[Parallel(n_jobs=14)]: Done 172 tasks      | elapsed:    0.2s\n",
      "[Parallel(n_jobs=14)]: Done 422 tasks      | elapsed:    0.5s\n",
      "[Parallel(n_jobs=14)]: Done 489 out of 489 | elapsed:    0.6s finished\n"
     ]
    },
    {
     "name": "stdout",
     "output_type": "stream",
     "text": [
      "Iteration: \t896 / 1000\n",
      "Confirmed: \t85\n",
      "Tentative: \t23\n",
      "Rejected: \t4892\n"
     ]
    },
    {
     "name": "stderr",
     "output_type": "stream",
     "text": [
      "[Parallel(n_jobs=14)]: Using backend ThreadingBackend with 14 concurrent workers.\n",
      "[Parallel(n_jobs=14)]: Done  22 tasks      | elapsed:    0.0s\n",
      "[Parallel(n_jobs=14)]: Done 172 tasks      | elapsed:    0.2s\n",
      "[Parallel(n_jobs=14)]: Done 422 tasks      | elapsed:    0.6s\n",
      "[Parallel(n_jobs=14)]: Done 489 out of 489 | elapsed:    0.6s finished\n"
     ]
    },
    {
     "name": "stdout",
     "output_type": "stream",
     "text": [
      "Iteration: \t897 / 1000\n",
      "Confirmed: \t85\n",
      "Tentative: \t23\n",
      "Rejected: \t4892\n"
     ]
    },
    {
     "name": "stderr",
     "output_type": "stream",
     "text": [
      "[Parallel(n_jobs=14)]: Using backend ThreadingBackend with 14 concurrent workers.\n",
      "[Parallel(n_jobs=14)]: Done  22 tasks      | elapsed:    0.0s\n",
      "[Parallel(n_jobs=14)]: Done 172 tasks      | elapsed:    0.2s\n",
      "[Parallel(n_jobs=14)]: Done 422 tasks      | elapsed:    0.6s\n",
      "[Parallel(n_jobs=14)]: Done 489 out of 489 | elapsed:    0.6s finished\n"
     ]
    },
    {
     "name": "stdout",
     "output_type": "stream",
     "text": [
      "Iteration: \t898 / 1000\n",
      "Confirmed: \t85\n",
      "Tentative: \t23\n",
      "Rejected: \t4892\n"
     ]
    },
    {
     "name": "stderr",
     "output_type": "stream",
     "text": [
      "[Parallel(n_jobs=14)]: Using backend ThreadingBackend with 14 concurrent workers.\n",
      "[Parallel(n_jobs=14)]: Done  22 tasks      | elapsed:    0.0s\n",
      "[Parallel(n_jobs=14)]: Done 172 tasks      | elapsed:    0.2s\n",
      "[Parallel(n_jobs=14)]: Done 422 tasks      | elapsed:    0.6s\n",
      "[Parallel(n_jobs=14)]: Done 489 out of 489 | elapsed:    0.6s finished\n"
     ]
    },
    {
     "name": "stdout",
     "output_type": "stream",
     "text": [
      "Iteration: \t899 / 1000\n",
      "Confirmed: \t85\n",
      "Tentative: \t23\n",
      "Rejected: \t4892\n"
     ]
    },
    {
     "name": "stderr",
     "output_type": "stream",
     "text": [
      "[Parallel(n_jobs=14)]: Using backend ThreadingBackend with 14 concurrent workers.\n",
      "[Parallel(n_jobs=14)]: Done  22 tasks      | elapsed:    0.0s\n",
      "[Parallel(n_jobs=14)]: Done 172 tasks      | elapsed:    0.2s\n",
      "[Parallel(n_jobs=14)]: Done 422 tasks      | elapsed:    0.6s\n",
      "[Parallel(n_jobs=14)]: Done 489 out of 489 | elapsed:    0.6s finished\n"
     ]
    },
    {
     "name": "stdout",
     "output_type": "stream",
     "text": [
      "Iteration: \t900 / 1000\n",
      "Confirmed: \t85\n",
      "Tentative: \t23\n",
      "Rejected: \t4892\n"
     ]
    },
    {
     "name": "stderr",
     "output_type": "stream",
     "text": [
      "[Parallel(n_jobs=14)]: Using backend ThreadingBackend with 14 concurrent workers.\n",
      "[Parallel(n_jobs=14)]: Done  22 tasks      | elapsed:    0.0s\n",
      "[Parallel(n_jobs=14)]: Done 172 tasks      | elapsed:    0.2s\n",
      "[Parallel(n_jobs=14)]: Done 422 tasks      | elapsed:    0.6s\n",
      "[Parallel(n_jobs=14)]: Done 489 out of 489 | elapsed:    0.6s finished\n"
     ]
    },
    {
     "name": "stdout",
     "output_type": "stream",
     "text": [
      "Iteration: \t901 / 1000\n",
      "Confirmed: \t86\n",
      "Tentative: \t22\n",
      "Rejected: \t4892\n"
     ]
    },
    {
     "name": "stderr",
     "output_type": "stream",
     "text": [
      "[Parallel(n_jobs=14)]: Using backend ThreadingBackend with 14 concurrent workers.\n",
      "[Parallel(n_jobs=14)]: Done  22 tasks      | elapsed:    0.0s\n",
      "[Parallel(n_jobs=14)]: Done 172 tasks      | elapsed:    0.2s\n",
      "[Parallel(n_jobs=14)]: Done 422 tasks      | elapsed:    0.5s\n",
      "[Parallel(n_jobs=14)]: Done 489 out of 489 | elapsed:    0.6s finished\n"
     ]
    },
    {
     "name": "stdout",
     "output_type": "stream",
     "text": [
      "Iteration: \t902 / 1000\n",
      "Confirmed: \t86\n",
      "Tentative: \t22\n",
      "Rejected: \t4892\n"
     ]
    },
    {
     "name": "stderr",
     "output_type": "stream",
     "text": [
      "[Parallel(n_jobs=14)]: Using backend ThreadingBackend with 14 concurrent workers.\n",
      "[Parallel(n_jobs=14)]: Done  22 tasks      | elapsed:    0.0s\n",
      "[Parallel(n_jobs=14)]: Done 172 tasks      | elapsed:    0.2s\n",
      "[Parallel(n_jobs=14)]: Done 422 tasks      | elapsed:    0.6s\n",
      "[Parallel(n_jobs=14)]: Done 489 out of 489 | elapsed:    0.6s finished\n"
     ]
    },
    {
     "name": "stdout",
     "output_type": "stream",
     "text": [
      "Iteration: \t903 / 1000\n",
      "Confirmed: \t86\n",
      "Tentative: \t22\n",
      "Rejected: \t4892\n"
     ]
    },
    {
     "name": "stderr",
     "output_type": "stream",
     "text": [
      "[Parallel(n_jobs=14)]: Using backend ThreadingBackend with 14 concurrent workers.\n",
      "[Parallel(n_jobs=14)]: Done  22 tasks      | elapsed:    0.0s\n",
      "[Parallel(n_jobs=14)]: Done 172 tasks      | elapsed:    0.2s\n",
      "[Parallel(n_jobs=14)]: Done 422 tasks      | elapsed:    0.5s\n",
      "[Parallel(n_jobs=14)]: Done 489 out of 489 | elapsed:    0.6s finished\n"
     ]
    },
    {
     "name": "stdout",
     "output_type": "stream",
     "text": [
      "Iteration: \t904 / 1000\n",
      "Confirmed: \t86\n",
      "Tentative: \t22\n",
      "Rejected: \t4892\n"
     ]
    },
    {
     "name": "stderr",
     "output_type": "stream",
     "text": [
      "[Parallel(n_jobs=14)]: Using backend ThreadingBackend with 14 concurrent workers.\n",
      "[Parallel(n_jobs=14)]: Done  22 tasks      | elapsed:    0.0s\n",
      "[Parallel(n_jobs=14)]: Done 172 tasks      | elapsed:    0.2s\n",
      "[Parallel(n_jobs=14)]: Done 422 tasks      | elapsed:    0.6s\n",
      "[Parallel(n_jobs=14)]: Done 489 out of 489 | elapsed:    0.6s finished\n"
     ]
    },
    {
     "name": "stdout",
     "output_type": "stream",
     "text": [
      "Iteration: \t905 / 1000\n",
      "Confirmed: \t86\n",
      "Tentative: \t22\n",
      "Rejected: \t4892\n"
     ]
    },
    {
     "name": "stderr",
     "output_type": "stream",
     "text": [
      "[Parallel(n_jobs=14)]: Using backend ThreadingBackend with 14 concurrent workers.\n",
      "[Parallel(n_jobs=14)]: Done  22 tasks      | elapsed:    0.0s\n",
      "[Parallel(n_jobs=14)]: Done 172 tasks      | elapsed:    0.2s\n",
      "[Parallel(n_jobs=14)]: Done 422 tasks      | elapsed:    0.6s\n",
      "[Parallel(n_jobs=14)]: Done 489 out of 489 | elapsed:    0.6s finished\n"
     ]
    },
    {
     "name": "stdout",
     "output_type": "stream",
     "text": [
      "Iteration: \t906 / 1000\n",
      "Confirmed: \t86\n",
      "Tentative: \t22\n",
      "Rejected: \t4892\n"
     ]
    },
    {
     "name": "stderr",
     "output_type": "stream",
     "text": [
      "[Parallel(n_jobs=14)]: Using backend ThreadingBackend with 14 concurrent workers.\n",
      "[Parallel(n_jobs=14)]: Done  22 tasks      | elapsed:    0.0s\n",
      "[Parallel(n_jobs=14)]: Done 172 tasks      | elapsed:    0.2s\n",
      "[Parallel(n_jobs=14)]: Done 422 tasks      | elapsed:    0.5s\n",
      "[Parallel(n_jobs=14)]: Done 489 out of 489 | elapsed:    0.6s finished\n"
     ]
    },
    {
     "name": "stdout",
     "output_type": "stream",
     "text": [
      "Iteration: \t907 / 1000\n",
      "Confirmed: \t86\n",
      "Tentative: \t22\n",
      "Rejected: \t4892\n"
     ]
    },
    {
     "name": "stderr",
     "output_type": "stream",
     "text": [
      "[Parallel(n_jobs=14)]: Using backend ThreadingBackend with 14 concurrent workers.\n",
      "[Parallel(n_jobs=14)]: Done  22 tasks      | elapsed:    0.0s\n",
      "[Parallel(n_jobs=14)]: Done 172 tasks      | elapsed:    0.2s\n",
      "[Parallel(n_jobs=14)]: Done 422 tasks      | elapsed:    0.5s\n",
      "[Parallel(n_jobs=14)]: Done 489 out of 489 | elapsed:    0.6s finished\n"
     ]
    },
    {
     "name": "stdout",
     "output_type": "stream",
     "text": [
      "Iteration: \t908 / 1000\n",
      "Confirmed: \t86\n",
      "Tentative: \t22\n",
      "Rejected: \t4892\n"
     ]
    },
    {
     "name": "stderr",
     "output_type": "stream",
     "text": [
      "[Parallel(n_jobs=14)]: Using backend ThreadingBackend with 14 concurrent workers.\n",
      "[Parallel(n_jobs=14)]: Done  22 tasks      | elapsed:    0.0s\n",
      "[Parallel(n_jobs=14)]: Done 172 tasks      | elapsed:    0.2s\n",
      "[Parallel(n_jobs=14)]: Done 422 tasks      | elapsed:    0.5s\n",
      "[Parallel(n_jobs=14)]: Done 489 out of 489 | elapsed:    0.6s finished\n"
     ]
    },
    {
     "name": "stdout",
     "output_type": "stream",
     "text": [
      "Iteration: \t909 / 1000\n",
      "Confirmed: \t86\n",
      "Tentative: \t22\n",
      "Rejected: \t4892\n"
     ]
    },
    {
     "name": "stderr",
     "output_type": "stream",
     "text": [
      "[Parallel(n_jobs=14)]: Using backend ThreadingBackend with 14 concurrent workers.\n",
      "[Parallel(n_jobs=14)]: Done  22 tasks      | elapsed:    0.0s\n",
      "[Parallel(n_jobs=14)]: Done 172 tasks      | elapsed:    0.2s\n",
      "[Parallel(n_jobs=14)]: Done 422 tasks      | elapsed:    0.5s\n",
      "[Parallel(n_jobs=14)]: Done 489 out of 489 | elapsed:    0.6s finished\n"
     ]
    },
    {
     "name": "stdout",
     "output_type": "stream",
     "text": [
      "Iteration: \t910 / 1000\n",
      "Confirmed: \t86\n",
      "Tentative: \t22\n",
      "Rejected: \t4892\n"
     ]
    },
    {
     "name": "stderr",
     "output_type": "stream",
     "text": [
      "[Parallel(n_jobs=14)]: Using backend ThreadingBackend with 14 concurrent workers.\n",
      "[Parallel(n_jobs=14)]: Done  22 tasks      | elapsed:    0.0s\n",
      "[Parallel(n_jobs=14)]: Done 172 tasks      | elapsed:    0.2s\n",
      "[Parallel(n_jobs=14)]: Done 422 tasks      | elapsed:    0.6s\n",
      "[Parallel(n_jobs=14)]: Done 489 out of 489 | elapsed:    0.6s finished\n"
     ]
    },
    {
     "name": "stdout",
     "output_type": "stream",
     "text": [
      "Iteration: \t911 / 1000\n",
      "Confirmed: \t86\n",
      "Tentative: \t22\n",
      "Rejected: \t4892\n"
     ]
    },
    {
     "name": "stderr",
     "output_type": "stream",
     "text": [
      "[Parallel(n_jobs=14)]: Using backend ThreadingBackend with 14 concurrent workers.\n",
      "[Parallel(n_jobs=14)]: Done  22 tasks      | elapsed:    0.0s\n",
      "[Parallel(n_jobs=14)]: Done 172 tasks      | elapsed:    0.2s\n",
      "[Parallel(n_jobs=14)]: Done 422 tasks      | elapsed:    0.5s\n",
      "[Parallel(n_jobs=14)]: Done 489 out of 489 | elapsed:    0.6s finished\n"
     ]
    },
    {
     "name": "stdout",
     "output_type": "stream",
     "text": [
      "Iteration: \t912 / 1000\n",
      "Confirmed: \t86\n",
      "Tentative: \t22\n",
      "Rejected: \t4892\n"
     ]
    },
    {
     "name": "stderr",
     "output_type": "stream",
     "text": [
      "[Parallel(n_jobs=14)]: Using backend ThreadingBackend with 14 concurrent workers.\n",
      "[Parallel(n_jobs=14)]: Done  22 tasks      | elapsed:    0.0s\n",
      "[Parallel(n_jobs=14)]: Done 172 tasks      | elapsed:    0.2s\n",
      "[Parallel(n_jobs=14)]: Done 422 tasks      | elapsed:    0.5s\n",
      "[Parallel(n_jobs=14)]: Done 489 out of 489 | elapsed:    0.6s finished\n"
     ]
    },
    {
     "name": "stdout",
     "output_type": "stream",
     "text": [
      "Iteration: \t913 / 1000\n",
      "Confirmed: \t86\n",
      "Tentative: \t22\n",
      "Rejected: \t4892\n"
     ]
    },
    {
     "name": "stderr",
     "output_type": "stream",
     "text": [
      "[Parallel(n_jobs=14)]: Using backend ThreadingBackend with 14 concurrent workers.\n",
      "[Parallel(n_jobs=14)]: Done  22 tasks      | elapsed:    0.0s\n",
      "[Parallel(n_jobs=14)]: Done 172 tasks      | elapsed:    0.2s\n",
      "[Parallel(n_jobs=14)]: Done 422 tasks      | elapsed:    0.6s\n",
      "[Parallel(n_jobs=14)]: Done 489 out of 489 | elapsed:    0.6s finished\n"
     ]
    },
    {
     "name": "stdout",
     "output_type": "stream",
     "text": [
      "Iteration: \t914 / 1000\n",
      "Confirmed: \t86\n",
      "Tentative: \t22\n",
      "Rejected: \t4892\n"
     ]
    },
    {
     "name": "stderr",
     "output_type": "stream",
     "text": [
      "[Parallel(n_jobs=14)]: Using backend ThreadingBackend with 14 concurrent workers.\n",
      "[Parallel(n_jobs=14)]: Done  22 tasks      | elapsed:    0.0s\n",
      "[Parallel(n_jobs=14)]: Done 172 tasks      | elapsed:    0.2s\n",
      "[Parallel(n_jobs=14)]: Done 422 tasks      | elapsed:    0.5s\n",
      "[Parallel(n_jobs=14)]: Done 489 out of 489 | elapsed:    0.6s finished\n"
     ]
    },
    {
     "name": "stdout",
     "output_type": "stream",
     "text": [
      "Iteration: \t915 / 1000\n",
      "Confirmed: \t86\n",
      "Tentative: \t22\n",
      "Rejected: \t4892\n"
     ]
    },
    {
     "name": "stderr",
     "output_type": "stream",
     "text": [
      "[Parallel(n_jobs=14)]: Using backend ThreadingBackend with 14 concurrent workers.\n",
      "[Parallel(n_jobs=14)]: Done  22 tasks      | elapsed:    0.0s\n",
      "[Parallel(n_jobs=14)]: Done 172 tasks      | elapsed:    0.2s\n",
      "[Parallel(n_jobs=14)]: Done 422 tasks      | elapsed:    0.5s\n",
      "[Parallel(n_jobs=14)]: Done 489 out of 489 | elapsed:    0.6s finished\n"
     ]
    },
    {
     "name": "stdout",
     "output_type": "stream",
     "text": [
      "Iteration: \t916 / 1000\n",
      "Confirmed: \t86\n",
      "Tentative: \t22\n",
      "Rejected: \t4892\n"
     ]
    },
    {
     "name": "stderr",
     "output_type": "stream",
     "text": [
      "[Parallel(n_jobs=14)]: Using backend ThreadingBackend with 14 concurrent workers.\n",
      "[Parallel(n_jobs=14)]: Done  22 tasks      | elapsed:    0.0s\n",
      "[Parallel(n_jobs=14)]: Done 172 tasks      | elapsed:    0.2s\n",
      "[Parallel(n_jobs=14)]: Done 422 tasks      | elapsed:    0.6s\n",
      "[Parallel(n_jobs=14)]: Done 489 out of 489 | elapsed:    0.6s finished\n"
     ]
    },
    {
     "name": "stdout",
     "output_type": "stream",
     "text": [
      "Iteration: \t917 / 1000\n",
      "Confirmed: \t86\n",
      "Tentative: \t22\n",
      "Rejected: \t4892\n"
     ]
    },
    {
     "name": "stderr",
     "output_type": "stream",
     "text": [
      "[Parallel(n_jobs=14)]: Using backend ThreadingBackend with 14 concurrent workers.\n",
      "[Parallel(n_jobs=14)]: Done  22 tasks      | elapsed:    0.0s\n",
      "[Parallel(n_jobs=14)]: Done 172 tasks      | elapsed:    0.2s\n",
      "[Parallel(n_jobs=14)]: Done 422 tasks      | elapsed:    0.5s\n",
      "[Parallel(n_jobs=14)]: Done 489 out of 489 | elapsed:    0.6s finished\n"
     ]
    },
    {
     "name": "stdout",
     "output_type": "stream",
     "text": [
      "Iteration: \t918 / 1000\n",
      "Confirmed: \t86\n",
      "Tentative: \t22\n",
      "Rejected: \t4892\n"
     ]
    },
    {
     "name": "stderr",
     "output_type": "stream",
     "text": [
      "[Parallel(n_jobs=14)]: Using backend ThreadingBackend with 14 concurrent workers.\n",
      "[Parallel(n_jobs=14)]: Done  22 tasks      | elapsed:    0.0s\n",
      "[Parallel(n_jobs=14)]: Done 172 tasks      | elapsed:    0.2s\n",
      "[Parallel(n_jobs=14)]: Done 422 tasks      | elapsed:    0.6s\n",
      "[Parallel(n_jobs=14)]: Done 489 out of 489 | elapsed:    0.6s finished\n"
     ]
    },
    {
     "name": "stdout",
     "output_type": "stream",
     "text": [
      "Iteration: \t919 / 1000\n",
      "Confirmed: \t86\n",
      "Tentative: \t22\n",
      "Rejected: \t4892\n"
     ]
    },
    {
     "name": "stderr",
     "output_type": "stream",
     "text": [
      "[Parallel(n_jobs=14)]: Using backend ThreadingBackend with 14 concurrent workers.\n",
      "[Parallel(n_jobs=14)]: Done  22 tasks      | elapsed:    0.0s\n",
      "[Parallel(n_jobs=14)]: Done 172 tasks      | elapsed:    0.2s\n",
      "[Parallel(n_jobs=14)]: Done 422 tasks      | elapsed:    0.5s\n",
      "[Parallel(n_jobs=14)]: Done 489 out of 489 | elapsed:    0.6s finished\n"
     ]
    },
    {
     "name": "stdout",
     "output_type": "stream",
     "text": [
      "Iteration: \t920 / 1000\n",
      "Confirmed: \t86\n",
      "Tentative: \t22\n",
      "Rejected: \t4892\n"
     ]
    },
    {
     "name": "stderr",
     "output_type": "stream",
     "text": [
      "[Parallel(n_jobs=14)]: Using backend ThreadingBackend with 14 concurrent workers.\n",
      "[Parallel(n_jobs=14)]: Done  22 tasks      | elapsed:    0.0s\n",
      "[Parallel(n_jobs=14)]: Done 172 tasks      | elapsed:    0.2s\n",
      "[Parallel(n_jobs=14)]: Done 422 tasks      | elapsed:    0.6s\n",
      "[Parallel(n_jobs=14)]: Done 489 out of 489 | elapsed:    0.6s finished\n"
     ]
    },
    {
     "name": "stdout",
     "output_type": "stream",
     "text": [
      "Iteration: \t921 / 1000\n",
      "Confirmed: \t86\n",
      "Tentative: \t22\n",
      "Rejected: \t4892\n"
     ]
    },
    {
     "name": "stderr",
     "output_type": "stream",
     "text": [
      "[Parallel(n_jobs=14)]: Using backend ThreadingBackend with 14 concurrent workers.\n",
      "[Parallel(n_jobs=14)]: Done  22 tasks      | elapsed:    0.0s\n",
      "[Parallel(n_jobs=14)]: Done 172 tasks      | elapsed:    0.2s\n",
      "[Parallel(n_jobs=14)]: Done 422 tasks      | elapsed:    0.6s\n",
      "[Parallel(n_jobs=14)]: Done 489 out of 489 | elapsed:    0.6s finished\n"
     ]
    },
    {
     "name": "stdout",
     "output_type": "stream",
     "text": [
      "Iteration: \t922 / 1000\n",
      "Confirmed: \t86\n",
      "Tentative: \t22\n",
      "Rejected: \t4892\n"
     ]
    },
    {
     "name": "stderr",
     "output_type": "stream",
     "text": [
      "[Parallel(n_jobs=14)]: Using backend ThreadingBackend with 14 concurrent workers.\n",
      "[Parallel(n_jobs=14)]: Done  22 tasks      | elapsed:    0.0s\n",
      "[Parallel(n_jobs=14)]: Done 172 tasks      | elapsed:    0.2s\n",
      "[Parallel(n_jobs=14)]: Done 422 tasks      | elapsed:    0.6s\n",
      "[Parallel(n_jobs=14)]: Done 489 out of 489 | elapsed:    0.6s finished\n"
     ]
    },
    {
     "name": "stdout",
     "output_type": "stream",
     "text": [
      "Iteration: \t923 / 1000\n",
      "Confirmed: \t86\n",
      "Tentative: \t22\n",
      "Rejected: \t4892\n"
     ]
    },
    {
     "name": "stderr",
     "output_type": "stream",
     "text": [
      "[Parallel(n_jobs=14)]: Using backend ThreadingBackend with 14 concurrent workers.\n",
      "[Parallel(n_jobs=14)]: Done  22 tasks      | elapsed:    0.0s\n",
      "[Parallel(n_jobs=14)]: Done 172 tasks      | elapsed:    0.2s\n",
      "[Parallel(n_jobs=14)]: Done 422 tasks      | elapsed:    0.5s\n",
      "[Parallel(n_jobs=14)]: Done 489 out of 489 | elapsed:    0.6s finished\n"
     ]
    },
    {
     "name": "stdout",
     "output_type": "stream",
     "text": [
      "Iteration: \t924 / 1000\n",
      "Confirmed: \t86\n",
      "Tentative: \t22\n",
      "Rejected: \t4892\n"
     ]
    },
    {
     "name": "stderr",
     "output_type": "stream",
     "text": [
      "[Parallel(n_jobs=14)]: Using backend ThreadingBackend with 14 concurrent workers.\n",
      "[Parallel(n_jobs=14)]: Done  22 tasks      | elapsed:    0.0s\n",
      "[Parallel(n_jobs=14)]: Done 172 tasks      | elapsed:    0.2s\n",
      "[Parallel(n_jobs=14)]: Done 422 tasks      | elapsed:    0.5s\n",
      "[Parallel(n_jobs=14)]: Done 489 out of 489 | elapsed:    0.6s finished\n"
     ]
    },
    {
     "name": "stdout",
     "output_type": "stream",
     "text": [
      "Iteration: \t925 / 1000\n",
      "Confirmed: \t86\n",
      "Tentative: \t22\n",
      "Rejected: \t4892\n"
     ]
    },
    {
     "name": "stderr",
     "output_type": "stream",
     "text": [
      "[Parallel(n_jobs=14)]: Using backend ThreadingBackend with 14 concurrent workers.\n",
      "[Parallel(n_jobs=14)]: Done  22 tasks      | elapsed:    0.0s\n",
      "[Parallel(n_jobs=14)]: Done 172 tasks      | elapsed:    0.2s\n",
      "[Parallel(n_jobs=14)]: Done 422 tasks      | elapsed:    0.6s\n",
      "[Parallel(n_jobs=14)]: Done 489 out of 489 | elapsed:    0.6s finished\n"
     ]
    },
    {
     "name": "stdout",
     "output_type": "stream",
     "text": [
      "Iteration: \t926 / 1000\n",
      "Confirmed: \t86\n",
      "Tentative: \t22\n",
      "Rejected: \t4892\n"
     ]
    },
    {
     "name": "stderr",
     "output_type": "stream",
     "text": [
      "[Parallel(n_jobs=14)]: Using backend ThreadingBackend with 14 concurrent workers.\n",
      "[Parallel(n_jobs=14)]: Done  22 tasks      | elapsed:    0.0s\n",
      "[Parallel(n_jobs=14)]: Done 172 tasks      | elapsed:    0.2s\n",
      "[Parallel(n_jobs=14)]: Done 422 tasks      | elapsed:    0.6s\n",
      "[Parallel(n_jobs=14)]: Done 489 out of 489 | elapsed:    0.6s finished\n"
     ]
    },
    {
     "name": "stdout",
     "output_type": "stream",
     "text": [
      "Iteration: \t927 / 1000\n",
      "Confirmed: \t86\n",
      "Tentative: \t22\n",
      "Rejected: \t4892\n"
     ]
    },
    {
     "name": "stderr",
     "output_type": "stream",
     "text": [
      "[Parallel(n_jobs=14)]: Using backend ThreadingBackend with 14 concurrent workers.\n",
      "[Parallel(n_jobs=14)]: Done  22 tasks      | elapsed:    0.0s\n",
      "[Parallel(n_jobs=14)]: Done 172 tasks      | elapsed:    0.2s\n",
      "[Parallel(n_jobs=14)]: Done 422 tasks      | elapsed:    0.6s\n",
      "[Parallel(n_jobs=14)]: Done 489 out of 489 | elapsed:    0.6s finished\n"
     ]
    },
    {
     "name": "stdout",
     "output_type": "stream",
     "text": [
      "Iteration: \t928 / 1000\n",
      "Confirmed: \t86\n",
      "Tentative: \t22\n",
      "Rejected: \t4892\n"
     ]
    },
    {
     "name": "stderr",
     "output_type": "stream",
     "text": [
      "[Parallel(n_jobs=14)]: Using backend ThreadingBackend with 14 concurrent workers.\n",
      "[Parallel(n_jobs=14)]: Done  22 tasks      | elapsed:    0.0s\n",
      "[Parallel(n_jobs=14)]: Done 172 tasks      | elapsed:    0.2s\n",
      "[Parallel(n_jobs=14)]: Done 422 tasks      | elapsed:    0.5s\n",
      "[Parallel(n_jobs=14)]: Done 489 out of 489 | elapsed:    0.6s finished\n"
     ]
    },
    {
     "name": "stdout",
     "output_type": "stream",
     "text": [
      "Iteration: \t929 / 1000\n",
      "Confirmed: \t86\n",
      "Tentative: \t22\n",
      "Rejected: \t4892\n"
     ]
    },
    {
     "name": "stderr",
     "output_type": "stream",
     "text": [
      "[Parallel(n_jobs=14)]: Using backend ThreadingBackend with 14 concurrent workers.\n",
      "[Parallel(n_jobs=14)]: Done  22 tasks      | elapsed:    0.0s\n",
      "[Parallel(n_jobs=14)]: Done 172 tasks      | elapsed:    0.2s\n",
      "[Parallel(n_jobs=14)]: Done 422 tasks      | elapsed:    0.6s\n",
      "[Parallel(n_jobs=14)]: Done 489 out of 489 | elapsed:    0.6s finished\n"
     ]
    },
    {
     "name": "stdout",
     "output_type": "stream",
     "text": [
      "Iteration: \t930 / 1000\n",
      "Confirmed: \t86\n",
      "Tentative: \t22\n",
      "Rejected: \t4892\n"
     ]
    },
    {
     "name": "stderr",
     "output_type": "stream",
     "text": [
      "[Parallel(n_jobs=14)]: Using backend ThreadingBackend with 14 concurrent workers.\n",
      "[Parallel(n_jobs=14)]: Done  22 tasks      | elapsed:    0.0s\n",
      "[Parallel(n_jobs=14)]: Done 172 tasks      | elapsed:    0.2s\n",
      "[Parallel(n_jobs=14)]: Done 422 tasks      | elapsed:    0.5s\n",
      "[Parallel(n_jobs=14)]: Done 489 out of 489 | elapsed:    0.6s finished\n"
     ]
    },
    {
     "name": "stdout",
     "output_type": "stream",
     "text": [
      "Iteration: \t931 / 1000\n",
      "Confirmed: \t86\n",
      "Tentative: \t22\n",
      "Rejected: \t4892\n"
     ]
    },
    {
     "name": "stderr",
     "output_type": "stream",
     "text": [
      "[Parallel(n_jobs=14)]: Using backend ThreadingBackend with 14 concurrent workers.\n",
      "[Parallel(n_jobs=14)]: Done  22 tasks      | elapsed:    0.0s\n",
      "[Parallel(n_jobs=14)]: Done 172 tasks      | elapsed:    0.2s\n",
      "[Parallel(n_jobs=14)]: Done 422 tasks      | elapsed:    0.5s\n",
      "[Parallel(n_jobs=14)]: Done 489 out of 489 | elapsed:    0.6s finished\n"
     ]
    },
    {
     "name": "stdout",
     "output_type": "stream",
     "text": [
      "Iteration: \t932 / 1000\n",
      "Confirmed: \t86\n",
      "Tentative: \t22\n",
      "Rejected: \t4892\n"
     ]
    },
    {
     "name": "stderr",
     "output_type": "stream",
     "text": [
      "[Parallel(n_jobs=14)]: Using backend ThreadingBackend with 14 concurrent workers.\n",
      "[Parallel(n_jobs=14)]: Done  22 tasks      | elapsed:    0.0s\n",
      "[Parallel(n_jobs=14)]: Done 172 tasks      | elapsed:    0.2s\n",
      "[Parallel(n_jobs=14)]: Done 422 tasks      | elapsed:    0.6s\n",
      "[Parallel(n_jobs=14)]: Done 489 out of 489 | elapsed:    0.6s finished\n"
     ]
    },
    {
     "name": "stdout",
     "output_type": "stream",
     "text": [
      "Iteration: \t933 / 1000\n",
      "Confirmed: \t86\n",
      "Tentative: \t22\n",
      "Rejected: \t4892\n"
     ]
    },
    {
     "name": "stderr",
     "output_type": "stream",
     "text": [
      "[Parallel(n_jobs=14)]: Using backend ThreadingBackend with 14 concurrent workers.\n",
      "[Parallel(n_jobs=14)]: Done  22 tasks      | elapsed:    0.0s\n",
      "[Parallel(n_jobs=14)]: Done 172 tasks      | elapsed:    0.2s\n",
      "[Parallel(n_jobs=14)]: Done 422 tasks      | elapsed:    0.5s\n",
      "[Parallel(n_jobs=14)]: Done 489 out of 489 | elapsed:    0.6s finished\n"
     ]
    },
    {
     "name": "stdout",
     "output_type": "stream",
     "text": [
      "Iteration: \t934 / 1000\n",
      "Confirmed: \t86\n",
      "Tentative: \t22\n",
      "Rejected: \t4892\n"
     ]
    },
    {
     "name": "stderr",
     "output_type": "stream",
     "text": [
      "[Parallel(n_jobs=14)]: Using backend ThreadingBackend with 14 concurrent workers.\n",
      "[Parallel(n_jobs=14)]: Done  22 tasks      | elapsed:    0.0s\n",
      "[Parallel(n_jobs=14)]: Done 172 tasks      | elapsed:    0.2s\n",
      "[Parallel(n_jobs=14)]: Done 422 tasks      | elapsed:    0.6s\n",
      "[Parallel(n_jobs=14)]: Done 489 out of 489 | elapsed:    0.6s finished\n"
     ]
    },
    {
     "name": "stdout",
     "output_type": "stream",
     "text": [
      "Iteration: \t935 / 1000\n",
      "Confirmed: \t86\n",
      "Tentative: \t22\n",
      "Rejected: \t4892\n"
     ]
    },
    {
     "name": "stderr",
     "output_type": "stream",
     "text": [
      "[Parallel(n_jobs=14)]: Using backend ThreadingBackend with 14 concurrent workers.\n",
      "[Parallel(n_jobs=14)]: Done  22 tasks      | elapsed:    0.0s\n",
      "[Parallel(n_jobs=14)]: Done 172 tasks      | elapsed:    0.2s\n",
      "[Parallel(n_jobs=14)]: Done 422 tasks      | elapsed:    0.6s\n",
      "[Parallel(n_jobs=14)]: Done 489 out of 489 | elapsed:    0.6s finished\n"
     ]
    },
    {
     "name": "stdout",
     "output_type": "stream",
     "text": [
      "Iteration: \t936 / 1000\n",
      "Confirmed: \t86\n",
      "Tentative: \t22\n",
      "Rejected: \t4892\n"
     ]
    },
    {
     "name": "stderr",
     "output_type": "stream",
     "text": [
      "[Parallel(n_jobs=14)]: Using backend ThreadingBackend with 14 concurrent workers.\n",
      "[Parallel(n_jobs=14)]: Done  22 tasks      | elapsed:    0.0s\n",
      "[Parallel(n_jobs=14)]: Done 172 tasks      | elapsed:    0.2s\n",
      "[Parallel(n_jobs=14)]: Done 422 tasks      | elapsed:    0.5s\n",
      "[Parallel(n_jobs=14)]: Done 489 out of 489 | elapsed:    0.6s finished\n"
     ]
    },
    {
     "name": "stdout",
     "output_type": "stream",
     "text": [
      "Iteration: \t937 / 1000\n",
      "Confirmed: \t86\n",
      "Tentative: \t22\n",
      "Rejected: \t4892\n"
     ]
    },
    {
     "name": "stderr",
     "output_type": "stream",
     "text": [
      "[Parallel(n_jobs=14)]: Using backend ThreadingBackend with 14 concurrent workers.\n",
      "[Parallel(n_jobs=14)]: Done  22 tasks      | elapsed:    0.0s\n",
      "[Parallel(n_jobs=14)]: Done 172 tasks      | elapsed:    0.2s\n",
      "[Parallel(n_jobs=14)]: Done 422 tasks      | elapsed:    0.6s\n",
      "[Parallel(n_jobs=14)]: Done 489 out of 489 | elapsed:    0.6s finished\n"
     ]
    },
    {
     "name": "stdout",
     "output_type": "stream",
     "text": [
      "Iteration: \t938 / 1000\n",
      "Confirmed: \t86\n",
      "Tentative: \t22\n",
      "Rejected: \t4892\n"
     ]
    },
    {
     "name": "stderr",
     "output_type": "stream",
     "text": [
      "[Parallel(n_jobs=14)]: Using backend ThreadingBackend with 14 concurrent workers.\n",
      "[Parallel(n_jobs=14)]: Done  22 tasks      | elapsed:    0.0s\n",
      "[Parallel(n_jobs=14)]: Done 172 tasks      | elapsed:    0.2s\n",
      "[Parallel(n_jobs=14)]: Done 422 tasks      | elapsed:    0.6s\n",
      "[Parallel(n_jobs=14)]: Done 489 out of 489 | elapsed:    0.6s finished\n"
     ]
    },
    {
     "name": "stdout",
     "output_type": "stream",
     "text": [
      "Iteration: \t939 / 1000\n",
      "Confirmed: \t86\n",
      "Tentative: \t22\n",
      "Rejected: \t4892\n"
     ]
    },
    {
     "name": "stderr",
     "output_type": "stream",
     "text": [
      "[Parallel(n_jobs=14)]: Using backend ThreadingBackend with 14 concurrent workers.\n",
      "[Parallel(n_jobs=14)]: Done  22 tasks      | elapsed:    0.0s\n",
      "[Parallel(n_jobs=14)]: Done 172 tasks      | elapsed:    0.2s\n",
      "[Parallel(n_jobs=14)]: Done 422 tasks      | elapsed:    0.5s\n",
      "[Parallel(n_jobs=14)]: Done 489 out of 489 | elapsed:    0.6s finished\n"
     ]
    },
    {
     "name": "stdout",
     "output_type": "stream",
     "text": [
      "Iteration: \t940 / 1000\n",
      "Confirmed: \t86\n",
      "Tentative: \t22\n",
      "Rejected: \t4892\n"
     ]
    },
    {
     "name": "stderr",
     "output_type": "stream",
     "text": [
      "[Parallel(n_jobs=14)]: Using backend ThreadingBackend with 14 concurrent workers.\n",
      "[Parallel(n_jobs=14)]: Done  22 tasks      | elapsed:    0.0s\n",
      "[Parallel(n_jobs=14)]: Done 172 tasks      | elapsed:    0.2s\n",
      "[Parallel(n_jobs=14)]: Done 422 tasks      | elapsed:    0.6s\n",
      "[Parallel(n_jobs=14)]: Done 489 out of 489 | elapsed:    0.6s finished\n"
     ]
    },
    {
     "name": "stdout",
     "output_type": "stream",
     "text": [
      "Iteration: \t941 / 1000\n",
      "Confirmed: \t86\n",
      "Tentative: \t22\n",
      "Rejected: \t4892\n"
     ]
    },
    {
     "name": "stderr",
     "output_type": "stream",
     "text": [
      "[Parallel(n_jobs=14)]: Using backend ThreadingBackend with 14 concurrent workers.\n",
      "[Parallel(n_jobs=14)]: Done  22 tasks      | elapsed:    0.0s\n",
      "[Parallel(n_jobs=14)]: Done 172 tasks      | elapsed:    0.2s\n",
      "[Parallel(n_jobs=14)]: Done 422 tasks      | elapsed:    0.5s\n",
      "[Parallel(n_jobs=14)]: Done 489 out of 489 | elapsed:    0.6s finished\n"
     ]
    },
    {
     "name": "stdout",
     "output_type": "stream",
     "text": [
      "Iteration: \t942 / 1000\n",
      "Confirmed: \t86\n",
      "Tentative: \t22\n",
      "Rejected: \t4892\n"
     ]
    },
    {
     "name": "stderr",
     "output_type": "stream",
     "text": [
      "[Parallel(n_jobs=14)]: Using backend ThreadingBackend with 14 concurrent workers.\n",
      "[Parallel(n_jobs=14)]: Done  22 tasks      | elapsed:    0.0s\n",
      "[Parallel(n_jobs=14)]: Done 172 tasks      | elapsed:    0.2s\n",
      "[Parallel(n_jobs=14)]: Done 422 tasks      | elapsed:    0.5s\n",
      "[Parallel(n_jobs=14)]: Done 489 out of 489 | elapsed:    0.6s finished\n"
     ]
    },
    {
     "name": "stdout",
     "output_type": "stream",
     "text": [
      "Iteration: \t943 / 1000\n",
      "Confirmed: \t86\n",
      "Tentative: \t22\n",
      "Rejected: \t4892\n"
     ]
    },
    {
     "name": "stderr",
     "output_type": "stream",
     "text": [
      "[Parallel(n_jobs=14)]: Using backend ThreadingBackend with 14 concurrent workers.\n",
      "[Parallel(n_jobs=14)]: Done  22 tasks      | elapsed:    0.0s\n",
      "[Parallel(n_jobs=14)]: Done 172 tasks      | elapsed:    0.2s\n",
      "[Parallel(n_jobs=14)]: Done 422 tasks      | elapsed:    0.5s\n",
      "[Parallel(n_jobs=14)]: Done 489 out of 489 | elapsed:    0.6s finished\n"
     ]
    },
    {
     "name": "stdout",
     "output_type": "stream",
     "text": [
      "Iteration: \t944 / 1000\n",
      "Confirmed: \t86\n",
      "Tentative: \t22\n",
      "Rejected: \t4892\n"
     ]
    },
    {
     "name": "stderr",
     "output_type": "stream",
     "text": [
      "[Parallel(n_jobs=14)]: Using backend ThreadingBackend with 14 concurrent workers.\n",
      "[Parallel(n_jobs=14)]: Done  22 tasks      | elapsed:    0.0s\n",
      "[Parallel(n_jobs=14)]: Done 172 tasks      | elapsed:    0.2s\n",
      "[Parallel(n_jobs=14)]: Done 422 tasks      | elapsed:    0.6s\n",
      "[Parallel(n_jobs=14)]: Done 489 out of 489 | elapsed:    0.6s finished\n"
     ]
    },
    {
     "name": "stdout",
     "output_type": "stream",
     "text": [
      "Iteration: \t945 / 1000\n",
      "Confirmed: \t86\n",
      "Tentative: \t22\n",
      "Rejected: \t4892\n"
     ]
    },
    {
     "name": "stderr",
     "output_type": "stream",
     "text": [
      "[Parallel(n_jobs=14)]: Using backend ThreadingBackend with 14 concurrent workers.\n",
      "[Parallel(n_jobs=14)]: Done  22 tasks      | elapsed:    0.0s\n",
      "[Parallel(n_jobs=14)]: Done 172 tasks      | elapsed:    0.2s\n",
      "[Parallel(n_jobs=14)]: Done 422 tasks      | elapsed:    0.5s\n",
      "[Parallel(n_jobs=14)]: Done 489 out of 489 | elapsed:    0.6s finished\n"
     ]
    },
    {
     "name": "stdout",
     "output_type": "stream",
     "text": [
      "Iteration: \t946 / 1000\n",
      "Confirmed: \t86\n",
      "Tentative: \t22\n",
      "Rejected: \t4892\n"
     ]
    },
    {
     "name": "stderr",
     "output_type": "stream",
     "text": [
      "[Parallel(n_jobs=14)]: Using backend ThreadingBackend with 14 concurrent workers.\n",
      "[Parallel(n_jobs=14)]: Done  22 tasks      | elapsed:    0.0s\n",
      "[Parallel(n_jobs=14)]: Done 172 tasks      | elapsed:    0.2s\n",
      "[Parallel(n_jobs=14)]: Done 422 tasks      | elapsed:    0.5s\n",
      "[Parallel(n_jobs=14)]: Done 489 out of 489 | elapsed:    0.6s finished\n"
     ]
    },
    {
     "name": "stdout",
     "output_type": "stream",
     "text": [
      "Iteration: \t947 / 1000\n",
      "Confirmed: \t86\n",
      "Tentative: \t22\n",
      "Rejected: \t4892\n"
     ]
    },
    {
     "name": "stderr",
     "output_type": "stream",
     "text": [
      "[Parallel(n_jobs=14)]: Using backend ThreadingBackend with 14 concurrent workers.\n",
      "[Parallel(n_jobs=14)]: Done  22 tasks      | elapsed:    0.0s\n",
      "[Parallel(n_jobs=14)]: Done 172 tasks      | elapsed:    0.2s\n",
      "[Parallel(n_jobs=14)]: Done 422 tasks      | elapsed:    0.6s\n",
      "[Parallel(n_jobs=14)]: Done 489 out of 489 | elapsed:    0.6s finished\n"
     ]
    },
    {
     "name": "stdout",
     "output_type": "stream",
     "text": [
      "Iteration: \t948 / 1000\n",
      "Confirmed: \t86\n",
      "Tentative: \t22\n",
      "Rejected: \t4892\n"
     ]
    },
    {
     "name": "stderr",
     "output_type": "stream",
     "text": [
      "[Parallel(n_jobs=14)]: Using backend ThreadingBackend with 14 concurrent workers.\n",
      "[Parallel(n_jobs=14)]: Done  22 tasks      | elapsed:    0.0s\n",
      "[Parallel(n_jobs=14)]: Done 172 tasks      | elapsed:    0.2s\n",
      "[Parallel(n_jobs=14)]: Done 422 tasks      | elapsed:    0.6s\n",
      "[Parallel(n_jobs=14)]: Done 489 out of 489 | elapsed:    0.6s finished\n"
     ]
    },
    {
     "name": "stdout",
     "output_type": "stream",
     "text": [
      "Iteration: \t949 / 1000\n",
      "Confirmed: \t86\n",
      "Tentative: \t22\n",
      "Rejected: \t4892\n"
     ]
    },
    {
     "name": "stderr",
     "output_type": "stream",
     "text": [
      "[Parallel(n_jobs=14)]: Using backend ThreadingBackend with 14 concurrent workers.\n",
      "[Parallel(n_jobs=14)]: Done  22 tasks      | elapsed:    0.0s\n",
      "[Parallel(n_jobs=14)]: Done 172 tasks      | elapsed:    0.2s\n",
      "[Parallel(n_jobs=14)]: Done 422 tasks      | elapsed:    0.6s\n",
      "[Parallel(n_jobs=14)]: Done 489 out of 489 | elapsed:    0.6s finished\n"
     ]
    },
    {
     "name": "stdout",
     "output_type": "stream",
     "text": [
      "Iteration: \t950 / 1000\n",
      "Confirmed: \t86\n",
      "Tentative: \t22\n",
      "Rejected: \t4892\n"
     ]
    },
    {
     "name": "stderr",
     "output_type": "stream",
     "text": [
      "[Parallel(n_jobs=14)]: Using backend ThreadingBackend with 14 concurrent workers.\n",
      "[Parallel(n_jobs=14)]: Done  22 tasks      | elapsed:    0.0s\n",
      "[Parallel(n_jobs=14)]: Done 172 tasks      | elapsed:    0.2s\n",
      "[Parallel(n_jobs=14)]: Done 422 tasks      | elapsed:    0.5s\n",
      "[Parallel(n_jobs=14)]: Done 489 out of 489 | elapsed:    0.6s finished\n"
     ]
    },
    {
     "name": "stdout",
     "output_type": "stream",
     "text": [
      "Iteration: \t951 / 1000\n",
      "Confirmed: \t86\n",
      "Tentative: \t22\n",
      "Rejected: \t4892\n"
     ]
    },
    {
     "name": "stderr",
     "output_type": "stream",
     "text": [
      "[Parallel(n_jobs=14)]: Using backend ThreadingBackend with 14 concurrent workers.\n",
      "[Parallel(n_jobs=14)]: Done  22 tasks      | elapsed:    0.0s\n",
      "[Parallel(n_jobs=14)]: Done 172 tasks      | elapsed:    0.2s\n",
      "[Parallel(n_jobs=14)]: Done 422 tasks      | elapsed:    0.6s\n",
      "[Parallel(n_jobs=14)]: Done 489 out of 489 | elapsed:    0.6s finished\n"
     ]
    },
    {
     "name": "stdout",
     "output_type": "stream",
     "text": [
      "Iteration: \t952 / 1000\n",
      "Confirmed: \t86\n",
      "Tentative: \t22\n",
      "Rejected: \t4892\n"
     ]
    },
    {
     "name": "stderr",
     "output_type": "stream",
     "text": [
      "[Parallel(n_jobs=14)]: Using backend ThreadingBackend with 14 concurrent workers.\n",
      "[Parallel(n_jobs=14)]: Done  22 tasks      | elapsed:    0.0s\n",
      "[Parallel(n_jobs=14)]: Done 172 tasks      | elapsed:    0.2s\n",
      "[Parallel(n_jobs=14)]: Done 422 tasks      | elapsed:    0.5s\n",
      "[Parallel(n_jobs=14)]: Done 489 out of 489 | elapsed:    0.6s finished\n"
     ]
    },
    {
     "name": "stdout",
     "output_type": "stream",
     "text": [
      "Iteration: \t953 / 1000\n",
      "Confirmed: \t86\n",
      "Tentative: \t22\n",
      "Rejected: \t4892\n"
     ]
    },
    {
     "name": "stderr",
     "output_type": "stream",
     "text": [
      "[Parallel(n_jobs=14)]: Using backend ThreadingBackend with 14 concurrent workers.\n",
      "[Parallel(n_jobs=14)]: Done  22 tasks      | elapsed:    0.0s\n",
      "[Parallel(n_jobs=14)]: Done 172 tasks      | elapsed:    0.2s\n",
      "[Parallel(n_jobs=14)]: Done 422 tasks      | elapsed:    0.5s\n",
      "[Parallel(n_jobs=14)]: Done 489 out of 489 | elapsed:    0.6s finished\n"
     ]
    },
    {
     "name": "stdout",
     "output_type": "stream",
     "text": [
      "Iteration: \t954 / 1000\n",
      "Confirmed: \t86\n",
      "Tentative: \t22\n",
      "Rejected: \t4892\n"
     ]
    },
    {
     "name": "stderr",
     "output_type": "stream",
     "text": [
      "[Parallel(n_jobs=14)]: Using backend ThreadingBackend with 14 concurrent workers.\n",
      "[Parallel(n_jobs=14)]: Done  22 tasks      | elapsed:    0.0s\n",
      "[Parallel(n_jobs=14)]: Done 172 tasks      | elapsed:    0.2s\n",
      "[Parallel(n_jobs=14)]: Done 422 tasks      | elapsed:    0.6s\n",
      "[Parallel(n_jobs=14)]: Done 489 out of 489 | elapsed:    0.6s finished\n"
     ]
    },
    {
     "name": "stdout",
     "output_type": "stream",
     "text": [
      "Iteration: \t955 / 1000\n",
      "Confirmed: \t86\n",
      "Tentative: \t22\n",
      "Rejected: \t4892\n"
     ]
    },
    {
     "name": "stderr",
     "output_type": "stream",
     "text": [
      "[Parallel(n_jobs=14)]: Using backend ThreadingBackend with 14 concurrent workers.\n",
      "[Parallel(n_jobs=14)]: Done  22 tasks      | elapsed:    0.0s\n",
      "[Parallel(n_jobs=14)]: Done 172 tasks      | elapsed:    0.2s\n",
      "[Parallel(n_jobs=14)]: Done 422 tasks      | elapsed:    0.5s\n",
      "[Parallel(n_jobs=14)]: Done 489 out of 489 | elapsed:    0.6s finished\n"
     ]
    },
    {
     "name": "stdout",
     "output_type": "stream",
     "text": [
      "Iteration: \t956 / 1000\n",
      "Confirmed: \t86\n",
      "Tentative: \t22\n",
      "Rejected: \t4892\n"
     ]
    },
    {
     "name": "stderr",
     "output_type": "stream",
     "text": [
      "[Parallel(n_jobs=14)]: Using backend ThreadingBackend with 14 concurrent workers.\n",
      "[Parallel(n_jobs=14)]: Done  22 tasks      | elapsed:    0.0s\n",
      "[Parallel(n_jobs=14)]: Done 172 tasks      | elapsed:    0.2s\n",
      "[Parallel(n_jobs=14)]: Done 422 tasks      | elapsed:    0.5s\n",
      "[Parallel(n_jobs=14)]: Done 489 out of 489 | elapsed:    0.6s finished\n"
     ]
    },
    {
     "name": "stdout",
     "output_type": "stream",
     "text": [
      "Iteration: \t957 / 1000\n",
      "Confirmed: \t86\n",
      "Tentative: \t22\n",
      "Rejected: \t4892\n"
     ]
    },
    {
     "name": "stderr",
     "output_type": "stream",
     "text": [
      "[Parallel(n_jobs=14)]: Using backend ThreadingBackend with 14 concurrent workers.\n",
      "[Parallel(n_jobs=14)]: Done  22 tasks      | elapsed:    0.0s\n",
      "[Parallel(n_jobs=14)]: Done 172 tasks      | elapsed:    0.2s\n",
      "[Parallel(n_jobs=14)]: Done 422 tasks      | elapsed:    0.5s\n",
      "[Parallel(n_jobs=14)]: Done 489 out of 489 | elapsed:    0.6s finished\n"
     ]
    },
    {
     "name": "stdout",
     "output_type": "stream",
     "text": [
      "Iteration: \t958 / 1000\n",
      "Confirmed: \t86\n",
      "Tentative: \t22\n",
      "Rejected: \t4892\n"
     ]
    },
    {
     "name": "stderr",
     "output_type": "stream",
     "text": [
      "[Parallel(n_jobs=14)]: Using backend ThreadingBackend with 14 concurrent workers.\n",
      "[Parallel(n_jobs=14)]: Done  22 tasks      | elapsed:    0.0s\n",
      "[Parallel(n_jobs=14)]: Done 172 tasks      | elapsed:    0.2s\n",
      "[Parallel(n_jobs=14)]: Done 422 tasks      | elapsed:    0.6s\n",
      "[Parallel(n_jobs=14)]: Done 489 out of 489 | elapsed:    0.6s finished\n"
     ]
    },
    {
     "name": "stdout",
     "output_type": "stream",
     "text": [
      "Iteration: \t959 / 1000\n",
      "Confirmed: \t86\n",
      "Tentative: \t22\n",
      "Rejected: \t4892\n"
     ]
    },
    {
     "name": "stderr",
     "output_type": "stream",
     "text": [
      "[Parallel(n_jobs=14)]: Using backend ThreadingBackend with 14 concurrent workers.\n",
      "[Parallel(n_jobs=14)]: Done  22 tasks      | elapsed:    0.1s\n",
      "[Parallel(n_jobs=14)]: Done 172 tasks      | elapsed:    0.3s\n",
      "[Parallel(n_jobs=14)]: Done 422 tasks      | elapsed:    0.6s\n",
      "[Parallel(n_jobs=14)]: Done 489 out of 489 | elapsed:    0.7s finished\n"
     ]
    },
    {
     "name": "stdout",
     "output_type": "stream",
     "text": [
      "Iteration: \t960 / 1000\n",
      "Confirmed: \t86\n",
      "Tentative: \t22\n",
      "Rejected: \t4892\n"
     ]
    },
    {
     "name": "stderr",
     "output_type": "stream",
     "text": [
      "[Parallel(n_jobs=14)]: Using backend ThreadingBackend with 14 concurrent workers.\n",
      "[Parallel(n_jobs=14)]: Done  22 tasks      | elapsed:    0.0s\n",
      "[Parallel(n_jobs=14)]: Done 172 tasks      | elapsed:    0.2s\n",
      "[Parallel(n_jobs=14)]: Done 422 tasks      | elapsed:    0.5s\n",
      "[Parallel(n_jobs=14)]: Done 489 out of 489 | elapsed:    0.6s finished\n"
     ]
    },
    {
     "name": "stdout",
     "output_type": "stream",
     "text": [
      "Iteration: \t961 / 1000\n",
      "Confirmed: \t86\n",
      "Tentative: \t22\n",
      "Rejected: \t4892\n"
     ]
    },
    {
     "name": "stderr",
     "output_type": "stream",
     "text": [
      "[Parallel(n_jobs=14)]: Using backend ThreadingBackend with 14 concurrent workers.\n",
      "[Parallel(n_jobs=14)]: Done  22 tasks      | elapsed:    0.0s\n",
      "[Parallel(n_jobs=14)]: Done 172 tasks      | elapsed:    0.2s\n",
      "[Parallel(n_jobs=14)]: Done 422 tasks      | elapsed:    0.5s\n",
      "[Parallel(n_jobs=14)]: Done 489 out of 489 | elapsed:    0.6s finished\n"
     ]
    },
    {
     "name": "stdout",
     "output_type": "stream",
     "text": [
      "Iteration: \t962 / 1000\n",
      "Confirmed: \t86\n",
      "Tentative: \t22\n",
      "Rejected: \t4892\n"
     ]
    },
    {
     "name": "stderr",
     "output_type": "stream",
     "text": [
      "[Parallel(n_jobs=14)]: Using backend ThreadingBackend with 14 concurrent workers.\n",
      "[Parallel(n_jobs=14)]: Done  22 tasks      | elapsed:    0.0s\n",
      "[Parallel(n_jobs=14)]: Done 172 tasks      | elapsed:    0.2s\n",
      "[Parallel(n_jobs=14)]: Done 422 tasks      | elapsed:    0.5s\n",
      "[Parallel(n_jobs=14)]: Done 489 out of 489 | elapsed:    0.6s finished\n"
     ]
    },
    {
     "name": "stdout",
     "output_type": "stream",
     "text": [
      "Iteration: \t963 / 1000\n",
      "Confirmed: \t86\n",
      "Tentative: \t22\n",
      "Rejected: \t4892\n"
     ]
    },
    {
     "name": "stderr",
     "output_type": "stream",
     "text": [
      "[Parallel(n_jobs=14)]: Using backend ThreadingBackend with 14 concurrent workers.\n",
      "[Parallel(n_jobs=14)]: Done  22 tasks      | elapsed:    0.0s\n",
      "[Parallel(n_jobs=14)]: Done 172 tasks      | elapsed:    0.2s\n",
      "[Parallel(n_jobs=14)]: Done 422 tasks      | elapsed:    0.5s\n",
      "[Parallel(n_jobs=14)]: Done 489 out of 489 | elapsed:    0.6s finished\n"
     ]
    },
    {
     "name": "stdout",
     "output_type": "stream",
     "text": [
      "Iteration: \t964 / 1000\n",
      "Confirmed: \t86\n",
      "Tentative: \t22\n",
      "Rejected: \t4892\n"
     ]
    },
    {
     "name": "stderr",
     "output_type": "stream",
     "text": [
      "[Parallel(n_jobs=14)]: Using backend ThreadingBackend with 14 concurrent workers.\n",
      "[Parallel(n_jobs=14)]: Done  22 tasks      | elapsed:    0.0s\n",
      "[Parallel(n_jobs=14)]: Done 172 tasks      | elapsed:    0.2s\n",
      "[Parallel(n_jobs=14)]: Done 422 tasks      | elapsed:    0.6s\n",
      "[Parallel(n_jobs=14)]: Done 489 out of 489 | elapsed:    0.6s finished\n"
     ]
    },
    {
     "name": "stdout",
     "output_type": "stream",
     "text": [
      "Iteration: \t965 / 1000\n",
      "Confirmed: \t86\n",
      "Tentative: \t22\n",
      "Rejected: \t4892\n"
     ]
    },
    {
     "name": "stderr",
     "output_type": "stream",
     "text": [
      "[Parallel(n_jobs=14)]: Using backend ThreadingBackend with 14 concurrent workers.\n",
      "[Parallel(n_jobs=14)]: Done  22 tasks      | elapsed:    0.0s\n",
      "[Parallel(n_jobs=14)]: Done 172 tasks      | elapsed:    0.2s\n",
      "[Parallel(n_jobs=14)]: Done 422 tasks      | elapsed:    0.5s\n",
      "[Parallel(n_jobs=14)]: Done 489 out of 489 | elapsed:    0.6s finished\n"
     ]
    },
    {
     "name": "stdout",
     "output_type": "stream",
     "text": [
      "Iteration: \t966 / 1000\n",
      "Confirmed: \t86\n",
      "Tentative: \t22\n",
      "Rejected: \t4892\n"
     ]
    },
    {
     "name": "stderr",
     "output_type": "stream",
     "text": [
      "[Parallel(n_jobs=14)]: Using backend ThreadingBackend with 14 concurrent workers.\n",
      "[Parallel(n_jobs=14)]: Done  22 tasks      | elapsed:    0.0s\n",
      "[Parallel(n_jobs=14)]: Done 172 tasks      | elapsed:    0.2s\n",
      "[Parallel(n_jobs=14)]: Done 422 tasks      | elapsed:    0.5s\n",
      "[Parallel(n_jobs=14)]: Done 489 out of 489 | elapsed:    0.6s finished\n"
     ]
    },
    {
     "name": "stdout",
     "output_type": "stream",
     "text": [
      "Iteration: \t967 / 1000\n",
      "Confirmed: \t86\n",
      "Tentative: \t22\n",
      "Rejected: \t4892\n"
     ]
    },
    {
     "name": "stderr",
     "output_type": "stream",
     "text": [
      "[Parallel(n_jobs=14)]: Using backend ThreadingBackend with 14 concurrent workers.\n",
      "[Parallel(n_jobs=14)]: Done  22 tasks      | elapsed:    0.0s\n",
      "[Parallel(n_jobs=14)]: Done 172 tasks      | elapsed:    0.2s\n",
      "[Parallel(n_jobs=14)]: Done 422 tasks      | elapsed:    0.5s\n",
      "[Parallel(n_jobs=14)]: Done 489 out of 489 | elapsed:    0.6s finished\n"
     ]
    },
    {
     "name": "stdout",
     "output_type": "stream",
     "text": [
      "Iteration: \t968 / 1000\n",
      "Confirmed: \t86\n",
      "Tentative: \t22\n",
      "Rejected: \t4892\n"
     ]
    },
    {
     "name": "stderr",
     "output_type": "stream",
     "text": [
      "[Parallel(n_jobs=14)]: Using backend ThreadingBackend with 14 concurrent workers.\n",
      "[Parallel(n_jobs=14)]: Done  22 tasks      | elapsed:    0.0s\n",
      "[Parallel(n_jobs=14)]: Done 172 tasks      | elapsed:    0.2s\n",
      "[Parallel(n_jobs=14)]: Done 422 tasks      | elapsed:    0.6s\n",
      "[Parallel(n_jobs=14)]: Done 489 out of 489 | elapsed:    0.6s finished\n"
     ]
    },
    {
     "name": "stdout",
     "output_type": "stream",
     "text": [
      "Iteration: \t969 / 1000\n",
      "Confirmed: \t86\n",
      "Tentative: \t22\n",
      "Rejected: \t4892\n"
     ]
    },
    {
     "name": "stderr",
     "output_type": "stream",
     "text": [
      "[Parallel(n_jobs=14)]: Using backend ThreadingBackend with 14 concurrent workers.\n",
      "[Parallel(n_jobs=14)]: Done  22 tasks      | elapsed:    0.0s\n",
      "[Parallel(n_jobs=14)]: Done 172 tasks      | elapsed:    0.2s\n",
      "[Parallel(n_jobs=14)]: Done 422 tasks      | elapsed:    0.5s\n",
      "[Parallel(n_jobs=14)]: Done 489 out of 489 | elapsed:    0.6s finished\n"
     ]
    },
    {
     "name": "stdout",
     "output_type": "stream",
     "text": [
      "Iteration: \t970 / 1000\n",
      "Confirmed: \t86\n",
      "Tentative: \t22\n",
      "Rejected: \t4892\n"
     ]
    },
    {
     "name": "stderr",
     "output_type": "stream",
     "text": [
      "[Parallel(n_jobs=14)]: Using backend ThreadingBackend with 14 concurrent workers.\n",
      "[Parallel(n_jobs=14)]: Done  22 tasks      | elapsed:    0.0s\n",
      "[Parallel(n_jobs=14)]: Done 172 tasks      | elapsed:    0.2s\n",
      "[Parallel(n_jobs=14)]: Done 422 tasks      | elapsed:    0.5s\n",
      "[Parallel(n_jobs=14)]: Done 489 out of 489 | elapsed:    0.6s finished\n"
     ]
    },
    {
     "name": "stdout",
     "output_type": "stream",
     "text": [
      "Iteration: \t971 / 1000\n",
      "Confirmed: \t86\n",
      "Tentative: \t22\n",
      "Rejected: \t4892\n"
     ]
    },
    {
     "name": "stderr",
     "output_type": "stream",
     "text": [
      "[Parallel(n_jobs=14)]: Using backend ThreadingBackend with 14 concurrent workers.\n",
      "[Parallel(n_jobs=14)]: Done  22 tasks      | elapsed:    0.0s\n",
      "[Parallel(n_jobs=14)]: Done 172 tasks      | elapsed:    0.2s\n",
      "[Parallel(n_jobs=14)]: Done 422 tasks      | elapsed:    0.6s\n",
      "[Parallel(n_jobs=14)]: Done 489 out of 489 | elapsed:    0.6s finished\n"
     ]
    },
    {
     "name": "stdout",
     "output_type": "stream",
     "text": [
      "Iteration: \t972 / 1000\n",
      "Confirmed: \t86\n",
      "Tentative: \t22\n",
      "Rejected: \t4892\n"
     ]
    },
    {
     "name": "stderr",
     "output_type": "stream",
     "text": [
      "[Parallel(n_jobs=14)]: Using backend ThreadingBackend with 14 concurrent workers.\n",
      "[Parallel(n_jobs=14)]: Done  22 tasks      | elapsed:    0.0s\n",
      "[Parallel(n_jobs=14)]: Done 172 tasks      | elapsed:    0.2s\n",
      "[Parallel(n_jobs=14)]: Done 422 tasks      | elapsed:    0.5s\n",
      "[Parallel(n_jobs=14)]: Done 489 out of 489 | elapsed:    0.6s finished\n"
     ]
    },
    {
     "name": "stdout",
     "output_type": "stream",
     "text": [
      "Iteration: \t973 / 1000\n",
      "Confirmed: \t86\n",
      "Tentative: \t22\n",
      "Rejected: \t4892\n"
     ]
    },
    {
     "name": "stderr",
     "output_type": "stream",
     "text": [
      "[Parallel(n_jobs=14)]: Using backend ThreadingBackend with 14 concurrent workers.\n",
      "[Parallel(n_jobs=14)]: Done  22 tasks      | elapsed:    0.0s\n",
      "[Parallel(n_jobs=14)]: Done 172 tasks      | elapsed:    0.2s\n",
      "[Parallel(n_jobs=14)]: Done 422 tasks      | elapsed:    0.6s\n",
      "[Parallel(n_jobs=14)]: Done 489 out of 489 | elapsed:    0.6s finished\n"
     ]
    },
    {
     "name": "stdout",
     "output_type": "stream",
     "text": [
      "Iteration: \t974 / 1000\n",
      "Confirmed: \t86\n",
      "Tentative: \t22\n",
      "Rejected: \t4892\n"
     ]
    },
    {
     "name": "stderr",
     "output_type": "stream",
     "text": [
      "[Parallel(n_jobs=14)]: Using backend ThreadingBackend with 14 concurrent workers.\n",
      "[Parallel(n_jobs=14)]: Done  22 tasks      | elapsed:    0.0s\n",
      "[Parallel(n_jobs=14)]: Done 172 tasks      | elapsed:    0.2s\n",
      "[Parallel(n_jobs=14)]: Done 422 tasks      | elapsed:    0.5s\n",
      "[Parallel(n_jobs=14)]: Done 489 out of 489 | elapsed:    0.6s finished\n"
     ]
    },
    {
     "name": "stdout",
     "output_type": "stream",
     "text": [
      "Iteration: \t975 / 1000\n",
      "Confirmed: \t86\n",
      "Tentative: \t22\n",
      "Rejected: \t4892\n"
     ]
    },
    {
     "name": "stderr",
     "output_type": "stream",
     "text": [
      "[Parallel(n_jobs=14)]: Using backend ThreadingBackend with 14 concurrent workers.\n",
      "[Parallel(n_jobs=14)]: Done  22 tasks      | elapsed:    0.0s\n",
      "[Parallel(n_jobs=14)]: Done 172 tasks      | elapsed:    0.2s\n",
      "[Parallel(n_jobs=14)]: Done 422 tasks      | elapsed:    0.5s\n",
      "[Parallel(n_jobs=14)]: Done 489 out of 489 | elapsed:    0.6s finished\n"
     ]
    },
    {
     "name": "stdout",
     "output_type": "stream",
     "text": [
      "Iteration: \t976 / 1000\n",
      "Confirmed: \t86\n",
      "Tentative: \t22\n",
      "Rejected: \t4892\n"
     ]
    },
    {
     "name": "stderr",
     "output_type": "stream",
     "text": [
      "[Parallel(n_jobs=14)]: Using backend ThreadingBackend with 14 concurrent workers.\n",
      "[Parallel(n_jobs=14)]: Done  22 tasks      | elapsed:    0.0s\n",
      "[Parallel(n_jobs=14)]: Done 172 tasks      | elapsed:    0.2s\n",
      "[Parallel(n_jobs=14)]: Done 422 tasks      | elapsed:    0.5s\n",
      "[Parallel(n_jobs=14)]: Done 489 out of 489 | elapsed:    0.6s finished\n"
     ]
    },
    {
     "name": "stdout",
     "output_type": "stream",
     "text": [
      "Iteration: \t977 / 1000\n",
      "Confirmed: \t86\n",
      "Tentative: \t22\n",
      "Rejected: \t4892\n"
     ]
    },
    {
     "name": "stderr",
     "output_type": "stream",
     "text": [
      "[Parallel(n_jobs=14)]: Using backend ThreadingBackend with 14 concurrent workers.\n",
      "[Parallel(n_jobs=14)]: Done  22 tasks      | elapsed:    0.0s\n",
      "[Parallel(n_jobs=14)]: Done 172 tasks      | elapsed:    0.2s\n",
      "[Parallel(n_jobs=14)]: Done 422 tasks      | elapsed:    0.5s\n",
      "[Parallel(n_jobs=14)]: Done 489 out of 489 | elapsed:    0.6s finished\n"
     ]
    },
    {
     "name": "stdout",
     "output_type": "stream",
     "text": [
      "Iteration: \t978 / 1000\n",
      "Confirmed: \t86\n",
      "Tentative: \t22\n",
      "Rejected: \t4892\n"
     ]
    },
    {
     "name": "stderr",
     "output_type": "stream",
     "text": [
      "[Parallel(n_jobs=14)]: Using backend ThreadingBackend with 14 concurrent workers.\n",
      "[Parallel(n_jobs=14)]: Done  22 tasks      | elapsed:    0.0s\n",
      "[Parallel(n_jobs=14)]: Done 172 tasks      | elapsed:    0.2s\n",
      "[Parallel(n_jobs=14)]: Done 422 tasks      | elapsed:    0.5s\n",
      "[Parallel(n_jobs=14)]: Done 489 out of 489 | elapsed:    0.6s finished\n"
     ]
    },
    {
     "name": "stdout",
     "output_type": "stream",
     "text": [
      "Iteration: \t979 / 1000\n",
      "Confirmed: \t86\n",
      "Tentative: \t22\n",
      "Rejected: \t4892\n"
     ]
    },
    {
     "name": "stderr",
     "output_type": "stream",
     "text": [
      "[Parallel(n_jobs=14)]: Using backend ThreadingBackend with 14 concurrent workers.\n",
      "[Parallel(n_jobs=14)]: Done  22 tasks      | elapsed:    0.0s\n",
      "[Parallel(n_jobs=14)]: Done 172 tasks      | elapsed:    0.2s\n",
      "[Parallel(n_jobs=14)]: Done 422 tasks      | elapsed:    0.5s\n",
      "[Parallel(n_jobs=14)]: Done 489 out of 489 | elapsed:    0.6s finished\n"
     ]
    },
    {
     "name": "stdout",
     "output_type": "stream",
     "text": [
      "Iteration: \t980 / 1000\n",
      "Confirmed: \t86\n",
      "Tentative: \t22\n",
      "Rejected: \t4892\n"
     ]
    },
    {
     "name": "stderr",
     "output_type": "stream",
     "text": [
      "[Parallel(n_jobs=14)]: Using backend ThreadingBackend with 14 concurrent workers.\n",
      "[Parallel(n_jobs=14)]: Done  22 tasks      | elapsed:    0.0s\n",
      "[Parallel(n_jobs=14)]: Done 172 tasks      | elapsed:    0.2s\n",
      "[Parallel(n_jobs=14)]: Done 422 tasks      | elapsed:    0.6s\n",
      "[Parallel(n_jobs=14)]: Done 489 out of 489 | elapsed:    0.6s finished\n"
     ]
    },
    {
     "name": "stdout",
     "output_type": "stream",
     "text": [
      "Iteration: \t981 / 1000\n",
      "Confirmed: \t86\n",
      "Tentative: \t22\n",
      "Rejected: \t4892\n"
     ]
    },
    {
     "name": "stderr",
     "output_type": "stream",
     "text": [
      "[Parallel(n_jobs=14)]: Using backend ThreadingBackend with 14 concurrent workers.\n",
      "[Parallel(n_jobs=14)]: Done  22 tasks      | elapsed:    0.0s\n",
      "[Parallel(n_jobs=14)]: Done 172 tasks      | elapsed:    0.2s\n",
      "[Parallel(n_jobs=14)]: Done 422 tasks      | elapsed:    0.5s\n",
      "[Parallel(n_jobs=14)]: Done 489 out of 489 | elapsed:    0.6s finished\n"
     ]
    },
    {
     "name": "stdout",
     "output_type": "stream",
     "text": [
      "Iteration: \t982 / 1000\n",
      "Confirmed: \t86\n",
      "Tentative: \t22\n",
      "Rejected: \t4892\n"
     ]
    },
    {
     "name": "stderr",
     "output_type": "stream",
     "text": [
      "[Parallel(n_jobs=14)]: Using backend ThreadingBackend with 14 concurrent workers.\n",
      "[Parallel(n_jobs=14)]: Done  22 tasks      | elapsed:    0.0s\n",
      "[Parallel(n_jobs=14)]: Done 172 tasks      | elapsed:    0.2s\n",
      "[Parallel(n_jobs=14)]: Done 422 tasks      | elapsed:    0.5s\n",
      "[Parallel(n_jobs=14)]: Done 489 out of 489 | elapsed:    0.6s finished\n"
     ]
    },
    {
     "name": "stdout",
     "output_type": "stream",
     "text": [
      "Iteration: \t983 / 1000\n",
      "Confirmed: \t86\n",
      "Tentative: \t22\n",
      "Rejected: \t4892\n"
     ]
    },
    {
     "name": "stderr",
     "output_type": "stream",
     "text": [
      "[Parallel(n_jobs=14)]: Using backend ThreadingBackend with 14 concurrent workers.\n",
      "[Parallel(n_jobs=14)]: Done  22 tasks      | elapsed:    0.0s\n",
      "[Parallel(n_jobs=14)]: Done 172 tasks      | elapsed:    0.2s\n",
      "[Parallel(n_jobs=14)]: Done 422 tasks      | elapsed:    0.5s\n",
      "[Parallel(n_jobs=14)]: Done 489 out of 489 | elapsed:    0.6s finished\n"
     ]
    },
    {
     "name": "stdout",
     "output_type": "stream",
     "text": [
      "Iteration: \t984 / 1000\n",
      "Confirmed: \t86\n",
      "Tentative: \t22\n",
      "Rejected: \t4892\n"
     ]
    },
    {
     "name": "stderr",
     "output_type": "stream",
     "text": [
      "[Parallel(n_jobs=14)]: Using backend ThreadingBackend with 14 concurrent workers.\n",
      "[Parallel(n_jobs=14)]: Done  22 tasks      | elapsed:    0.0s\n",
      "[Parallel(n_jobs=14)]: Done 172 tasks      | elapsed:    0.2s\n",
      "[Parallel(n_jobs=14)]: Done 422 tasks      | elapsed:    0.6s\n",
      "[Parallel(n_jobs=14)]: Done 489 out of 489 | elapsed:    0.6s finished\n"
     ]
    },
    {
     "name": "stdout",
     "output_type": "stream",
     "text": [
      "Iteration: \t985 / 1000\n",
      "Confirmed: \t86\n",
      "Tentative: \t22\n",
      "Rejected: \t4892\n"
     ]
    },
    {
     "name": "stderr",
     "output_type": "stream",
     "text": [
      "[Parallel(n_jobs=14)]: Using backend ThreadingBackend with 14 concurrent workers.\n",
      "[Parallel(n_jobs=14)]: Done  22 tasks      | elapsed:    0.0s\n",
      "[Parallel(n_jobs=14)]: Done 172 tasks      | elapsed:    0.2s\n",
      "[Parallel(n_jobs=14)]: Done 422 tasks      | elapsed:    0.6s\n",
      "[Parallel(n_jobs=14)]: Done 489 out of 489 | elapsed:    0.6s finished\n"
     ]
    },
    {
     "name": "stdout",
     "output_type": "stream",
     "text": [
      "Iteration: \t986 / 1000\n",
      "Confirmed: \t86\n",
      "Tentative: \t22\n",
      "Rejected: \t4892\n"
     ]
    },
    {
     "name": "stderr",
     "output_type": "stream",
     "text": [
      "[Parallel(n_jobs=14)]: Using backend ThreadingBackend with 14 concurrent workers.\n",
      "[Parallel(n_jobs=14)]: Done  22 tasks      | elapsed:    0.0s\n",
      "[Parallel(n_jobs=14)]: Done 172 tasks      | elapsed:    0.2s\n",
      "[Parallel(n_jobs=14)]: Done 422 tasks      | elapsed:    0.6s\n",
      "[Parallel(n_jobs=14)]: Done 489 out of 489 | elapsed:    0.6s finished\n"
     ]
    },
    {
     "name": "stdout",
     "output_type": "stream",
     "text": [
      "Iteration: \t987 / 1000\n",
      "Confirmed: \t86\n",
      "Tentative: \t22\n",
      "Rejected: \t4892\n"
     ]
    },
    {
     "name": "stderr",
     "output_type": "stream",
     "text": [
      "[Parallel(n_jobs=14)]: Using backend ThreadingBackend with 14 concurrent workers.\n",
      "[Parallel(n_jobs=14)]: Done  22 tasks      | elapsed:    0.0s\n",
      "[Parallel(n_jobs=14)]: Done 172 tasks      | elapsed:    0.2s\n",
      "[Parallel(n_jobs=14)]: Done 422 tasks      | elapsed:    0.6s\n",
      "[Parallel(n_jobs=14)]: Done 489 out of 489 | elapsed:    0.6s finished\n"
     ]
    },
    {
     "name": "stdout",
     "output_type": "stream",
     "text": [
      "Iteration: \t988 / 1000\n",
      "Confirmed: \t86\n",
      "Tentative: \t22\n",
      "Rejected: \t4892\n"
     ]
    },
    {
     "name": "stderr",
     "output_type": "stream",
     "text": [
      "[Parallel(n_jobs=14)]: Using backend ThreadingBackend with 14 concurrent workers.\n",
      "[Parallel(n_jobs=14)]: Done  22 tasks      | elapsed:    0.0s\n",
      "[Parallel(n_jobs=14)]: Done 172 tasks      | elapsed:    0.2s\n",
      "[Parallel(n_jobs=14)]: Done 422 tasks      | elapsed:    0.6s\n",
      "[Parallel(n_jobs=14)]: Done 489 out of 489 | elapsed:    0.6s finished\n"
     ]
    },
    {
     "name": "stdout",
     "output_type": "stream",
     "text": [
      "Iteration: \t989 / 1000\n",
      "Confirmed: \t86\n",
      "Tentative: \t22\n",
      "Rejected: \t4892\n"
     ]
    },
    {
     "name": "stderr",
     "output_type": "stream",
     "text": [
      "[Parallel(n_jobs=14)]: Using backend ThreadingBackend with 14 concurrent workers.\n",
      "[Parallel(n_jobs=14)]: Done  22 tasks      | elapsed:    0.0s\n",
      "[Parallel(n_jobs=14)]: Done 172 tasks      | elapsed:    0.2s\n",
      "[Parallel(n_jobs=14)]: Done 422 tasks      | elapsed:    0.6s\n",
      "[Parallel(n_jobs=14)]: Done 489 out of 489 | elapsed:    0.6s finished\n"
     ]
    },
    {
     "name": "stdout",
     "output_type": "stream",
     "text": [
      "Iteration: \t990 / 1000\n",
      "Confirmed: \t86\n",
      "Tentative: \t22\n",
      "Rejected: \t4892\n"
     ]
    },
    {
     "name": "stderr",
     "output_type": "stream",
     "text": [
      "[Parallel(n_jobs=14)]: Using backend ThreadingBackend with 14 concurrent workers.\n",
      "[Parallel(n_jobs=14)]: Done  22 tasks      | elapsed:    0.0s\n",
      "[Parallel(n_jobs=14)]: Done 172 tasks      | elapsed:    0.2s\n",
      "[Parallel(n_jobs=14)]: Done 422 tasks      | elapsed:    0.6s\n",
      "[Parallel(n_jobs=14)]: Done 489 out of 489 | elapsed:    0.6s finished\n"
     ]
    },
    {
     "name": "stdout",
     "output_type": "stream",
     "text": [
      "Iteration: \t991 / 1000\n",
      "Confirmed: \t86\n",
      "Tentative: \t22\n",
      "Rejected: \t4892\n"
     ]
    },
    {
     "name": "stderr",
     "output_type": "stream",
     "text": [
      "[Parallel(n_jobs=14)]: Using backend ThreadingBackend with 14 concurrent workers.\n",
      "[Parallel(n_jobs=14)]: Done  22 tasks      | elapsed:    0.0s\n",
      "[Parallel(n_jobs=14)]: Done 172 tasks      | elapsed:    0.2s\n",
      "[Parallel(n_jobs=14)]: Done 422 tasks      | elapsed:    0.6s\n",
      "[Parallel(n_jobs=14)]: Done 489 out of 489 | elapsed:    0.6s finished\n"
     ]
    },
    {
     "name": "stdout",
     "output_type": "stream",
     "text": [
      "Iteration: \t992 / 1000\n",
      "Confirmed: \t86\n",
      "Tentative: \t22\n",
      "Rejected: \t4892\n"
     ]
    },
    {
     "name": "stderr",
     "output_type": "stream",
     "text": [
      "[Parallel(n_jobs=14)]: Using backend ThreadingBackend with 14 concurrent workers.\n",
      "[Parallel(n_jobs=14)]: Done  22 tasks      | elapsed:    0.0s\n",
      "[Parallel(n_jobs=14)]: Done 172 tasks      | elapsed:    0.2s\n",
      "[Parallel(n_jobs=14)]: Done 422 tasks      | elapsed:    0.5s\n",
      "[Parallel(n_jobs=14)]: Done 489 out of 489 | elapsed:    0.6s finished\n"
     ]
    },
    {
     "name": "stdout",
     "output_type": "stream",
     "text": [
      "Iteration: \t993 / 1000\n",
      "Confirmed: \t86\n",
      "Tentative: \t22\n",
      "Rejected: \t4892\n"
     ]
    },
    {
     "name": "stderr",
     "output_type": "stream",
     "text": [
      "[Parallel(n_jobs=14)]: Using backend ThreadingBackend with 14 concurrent workers.\n",
      "[Parallel(n_jobs=14)]: Done  22 tasks      | elapsed:    0.0s\n",
      "[Parallel(n_jobs=14)]: Done 172 tasks      | elapsed:    0.2s\n",
      "[Parallel(n_jobs=14)]: Done 422 tasks      | elapsed:    0.6s\n",
      "[Parallel(n_jobs=14)]: Done 489 out of 489 | elapsed:    0.6s finished\n"
     ]
    },
    {
     "name": "stdout",
     "output_type": "stream",
     "text": [
      "Iteration: \t994 / 1000\n",
      "Confirmed: \t86\n",
      "Tentative: \t22\n",
      "Rejected: \t4892\n"
     ]
    },
    {
     "name": "stderr",
     "output_type": "stream",
     "text": [
      "[Parallel(n_jobs=14)]: Using backend ThreadingBackend with 14 concurrent workers.\n",
      "[Parallel(n_jobs=14)]: Done  22 tasks      | elapsed:    0.0s\n",
      "[Parallel(n_jobs=14)]: Done 172 tasks      | elapsed:    0.2s\n",
      "[Parallel(n_jobs=14)]: Done 422 tasks      | elapsed:    0.5s\n",
      "[Parallel(n_jobs=14)]: Done 489 out of 489 | elapsed:    0.6s finished\n"
     ]
    },
    {
     "name": "stdout",
     "output_type": "stream",
     "text": [
      "Iteration: \t995 / 1000\n",
      "Confirmed: \t86\n",
      "Tentative: \t22\n",
      "Rejected: \t4892\n"
     ]
    },
    {
     "name": "stderr",
     "output_type": "stream",
     "text": [
      "[Parallel(n_jobs=14)]: Using backend ThreadingBackend with 14 concurrent workers.\n",
      "[Parallel(n_jobs=14)]: Done  22 tasks      | elapsed:    0.0s\n",
      "[Parallel(n_jobs=14)]: Done 172 tasks      | elapsed:    0.2s\n",
      "[Parallel(n_jobs=14)]: Done 422 tasks      | elapsed:    0.6s\n",
      "[Parallel(n_jobs=14)]: Done 489 out of 489 | elapsed:    0.6s finished\n"
     ]
    },
    {
     "name": "stdout",
     "output_type": "stream",
     "text": [
      "Iteration: \t996 / 1000\n",
      "Confirmed: \t86\n",
      "Tentative: \t22\n",
      "Rejected: \t4892\n"
     ]
    },
    {
     "name": "stderr",
     "output_type": "stream",
     "text": [
      "[Parallel(n_jobs=14)]: Using backend ThreadingBackend with 14 concurrent workers.\n",
      "[Parallel(n_jobs=14)]: Done  22 tasks      | elapsed:    0.0s\n",
      "[Parallel(n_jobs=14)]: Done 172 tasks      | elapsed:    0.2s\n",
      "[Parallel(n_jobs=14)]: Done 422 tasks      | elapsed:    0.6s\n",
      "[Parallel(n_jobs=14)]: Done 489 out of 489 | elapsed:    0.6s finished\n"
     ]
    },
    {
     "name": "stdout",
     "output_type": "stream",
     "text": [
      "Iteration: \t997 / 1000\n",
      "Confirmed: \t86\n",
      "Tentative: \t22\n",
      "Rejected: \t4892\n"
     ]
    },
    {
     "name": "stderr",
     "output_type": "stream",
     "text": [
      "[Parallel(n_jobs=14)]: Using backend ThreadingBackend with 14 concurrent workers.\n",
      "[Parallel(n_jobs=14)]: Done  22 tasks      | elapsed:    0.0s\n",
      "[Parallel(n_jobs=14)]: Done 172 tasks      | elapsed:    0.2s\n",
      "[Parallel(n_jobs=14)]: Done 422 tasks      | elapsed:    0.5s\n",
      "[Parallel(n_jobs=14)]: Done 489 out of 489 | elapsed:    0.6s finished\n"
     ]
    },
    {
     "name": "stdout",
     "output_type": "stream",
     "text": [
      "Iteration: \t998 / 1000\n",
      "Confirmed: \t86\n",
      "Tentative: \t22\n",
      "Rejected: \t4892\n"
     ]
    },
    {
     "name": "stderr",
     "output_type": "stream",
     "text": [
      "[Parallel(n_jobs=14)]: Using backend ThreadingBackend with 14 concurrent workers.\n",
      "[Parallel(n_jobs=14)]: Done  22 tasks      | elapsed:    0.0s\n",
      "[Parallel(n_jobs=14)]: Done 172 tasks      | elapsed:    0.2s\n",
      "[Parallel(n_jobs=14)]: Done 422 tasks      | elapsed:    0.6s\n",
      "[Parallel(n_jobs=14)]: Done 489 out of 489 | elapsed:    0.6s finished\n"
     ]
    },
    {
     "name": "stdout",
     "output_type": "stream",
     "text": [
      "Iteration: \t999 / 1000\n",
      "Confirmed: \t86\n",
      "Tentative: \t22\n",
      "Rejected: \t4892\n",
      "\n",
      "\n",
      "BorutaPy finished running.\n",
      "\n",
      "Iteration: \t1000 / 1000\n",
      "Confirmed: \t86\n",
      "Tentative: \t14\n",
      "Rejected: \t4892\n"
     ]
    },
    {
     "data": {
      "text/plain": [
       "BorutaPy(estimator=RandomForestClassifier(class_weight='balanced', max_depth=3,\n",
       "                                          n_estimators=489, n_jobs=14,\n",
       "                                          random_state=RandomState(MT19937) at 0x7F605CFE2240,\n",
       "                                          verbose=1),\n",
       "         max_iter=1000, n_estimators='auto', perc=95,\n",
       "         random_state=RandomState(MT19937) at 0x7F605CFE2240, verbose=2)"
      ]
     },
     "execution_count": 48,
     "metadata": {},
     "output_type": "execute_result"
    }
   ],
   "source": [
    "feat_selector.fit(np.array(X), np.array(y))"
   ]
  },
  {
   "cell_type": "markdown",
   "id": "minute-eclipse",
   "metadata": {},
   "source": [
    "### Check results"
   ]
  },
  {
   "cell_type": "code",
   "execution_count": 49,
   "id": "victorian-extreme",
   "metadata": {},
   "outputs": [
    {
     "data": {
      "text/plain": [
       "array([False, False, False, ...,  True, False, False])"
      ]
     },
     "execution_count": 49,
     "metadata": {},
     "output_type": "execute_result"
    }
   ],
   "source": [
    "# check selected features\n",
    "feat_selector.support_"
   ]
  },
  {
   "cell_type": "code",
   "execution_count": 50,
   "id": "provincial-madonna",
   "metadata": {},
   "outputs": [
    {
     "data": {
      "text/plain": [
       "array([1436,   62, 4167, ...,    1, 1002,  765])"
      ]
     },
     "execution_count": 50,
     "metadata": {},
     "output_type": "execute_result"
    }
   ],
   "source": [
    "# check ranking of features\n",
    "feat_selector.ranking_"
   ]
  },
  {
   "cell_type": "code",
   "execution_count": 51,
   "id": "linear-lease",
   "metadata": {},
   "outputs": [
    {
     "name": "stdout",
     "output_type": "stream",
     "text": [
      "Selected features: ['no_annotation.770', 'UBXN2B', 'BCR.1', 'RNPS1.1', 'LETM1', 'MTIF2', 'no_annotation.382', 'LAIR2.1', 'SON.2', 'C16orf88.2', 'RWDD1', 'KLRF1.3', 'TEAD2.2', 'CFHR3', 'USP47.3', 'OR5F1', 'BET1', 'TRIM4', 'DNAJB4.2', 'KLRC3.2', 'FAM175B.1', 'RNF6', 'C1GALT1', 'INTS6.3', 'no_annotation.213', 'NCAPG2.4', 'DFFB.3', 'EED', 'CMPK1.1', 'KPNA6.2', 'AGRN', 'IL1RN.1', 'IGLV8.61', 'SCLT1', 'no_annotation.30', 'C6orf203', 'ATP2A2.1', 'ZNF266', 'TMEM41B.2', 'CSNK1A1.2', 'CYP4F3', 'NUCB2', 'GRK5.1', 'PPP2R2B.1', 'FRYL.1', 'TPCN2.1', 'NSMCE4A.3', 'HBS1L.3', 'TPST2', 'STYXL1.6', 'AGK', 'FAM136A', 'KREMEN1.1', 'SRSF6.1', 'GBP5.1', 'DNAJB12.3', 'PDE6D', 'ZNF28.1', 'CASC4.2', 'DFFB.2', 'PTP4A1.1', 'CCDC65', 'TCERG1', 'ZNF559', 'OR10G7', 'EMR2.2', 'EIF2AK1.2', 'DDX51', 'WBP4', 'TOMM22.1', 'PPIP5K2.1', 'G2E3.4', 'SKI', 'MRPL20.1', 'EMR2', 'PGPEP1', 'CDA.1', 'CD160', 'RP11.65G9.1', 'C11orf74.2', 'CCPG1', 'FAM204A.2', 'HYOU1.1', 'PLAT.2', 'PDPR', 'CACNA2D4.2']\n",
      "Potentially irrelevant features: ['TMEM231', 'RAD23A', 'NUDT19', 'PURA.1', 'no_annotation.995', 'SUGP1', 'BPTF.2', 'RAB3GAP1.2', 'CLEC5A.2', 'NAF1.1', 'AHSA2', 'RNF8', 'GNPAT.1', 'MPP1']\n"
     ]
    }
   ],
   "source": [
    "strong = X.columns[feat_selector.support_].to_list()\n",
    "weak = X.columns[feat_selector.support_weak_].to_list()\n",
    "print('Selected features:', strong)\n",
    "print('Potentially irrelevant features:', weak)"
   ]
  },
  {
   "cell_type": "markdown",
   "id": "lesser-intensity",
   "metadata": {},
   "source": [
    "### Transform X to selected features X"
   ]
  },
  {
   "cell_type": "code",
   "execution_count": 52,
   "id": "comic-pantyhose",
   "metadata": {},
   "outputs": [],
   "source": [
    "# only keep confirmed features, discard tentative features \n",
    "X_filtered = X.loc[:,feat_selector.support_]"
   ]
  },
  {
   "cell_type": "code",
   "execution_count": 53,
   "id": "finished-dealing",
   "metadata": {},
   "outputs": [
    {
     "data": {
      "text/plain": [
       "(536, 86)"
      ]
     },
     "execution_count": 53,
     "metadata": {},
     "output_type": "execute_result"
    }
   ],
   "source": [
    "X_filtered.shape"
   ]
  },
  {
   "cell_type": "markdown",
   "id": "unsigned-thesaurus",
   "metadata": {},
   "source": [
    "### Combine into new dataframe with labels and write to file"
   ]
  },
  {
   "cell_type": "markdown",
   "id": "interstate-professional",
   "metadata": {},
   "source": [
    "#### Train set"
   ]
  },
  {
   "cell_type": "code",
   "execution_count": 54,
   "id": "challenging-meter",
   "metadata": {},
   "outputs": [],
   "source": [
    "# participant IDs of train set\n",
    "pid_train = expr_train['pident']"
   ]
  },
  {
   "cell_type": "code",
   "execution_count": 55,
   "id": "young-paris",
   "metadata": {},
   "outputs": [],
   "source": [
    "# concatenate into 1 df\n",
    "selected_set_TRAIN = pd.concat([pid_train, y, X_filtered], axis=1)"
   ]
  },
  {
   "cell_type": "code",
   "execution_count": 56,
   "id": "exact-meeting",
   "metadata": {},
   "outputs": [],
   "source": [
    "# transform labels back to characters, not_remitted = 0, remitted = 1\n",
    "selected_set_TRAIN['Remitted_depression'] = selected_set_TRAIN['Remitted_depression'].transform(lambda x: 'not_remitted' if x == 0 else 'remitted')"
   ]
  },
  {
   "cell_type": "code",
   "execution_count": 57,
   "id": "monetary-playlist",
   "metadata": {},
   "outputs": [],
   "source": [
    "# save to file\n",
    "selected_set_TRAIN.to_csv(\"scripts/VM/Python/output/transcriptomics_TopVariance_boruta_selection_{}%_TRAIN_maxdepth{}.csv\".format(percentage, max_depth))"
   ]
  },
  {
   "cell_type": "markdown",
   "id": "forty-temple",
   "metadata": {},
   "source": [
    "#### Test set"
   ]
  },
  {
   "cell_type": "code",
   "execution_count": 58,
   "id": "decent-treasury",
   "metadata": {},
   "outputs": [],
   "source": [
    "# participaexpr_testof test set\n",
    "pid_test = expr_test['pident'] \n",
    "\n",
    "# labels of test set\n",
    "y_test = expr_test['Remitted_depression']\n",
    "\n",
    "# features of test set\n",
    "X_test = expr_test.drop(['pident', 'Remitted_depression'], inplace=False, axis=1) "
   ]
  },
  {
   "cell_type": "code",
   "execution_count": 59,
   "id": "czech-hospital",
   "metadata": {},
   "outputs": [],
   "source": [
    "# filtered features of test set\n",
    "X_test_filtered = X_test.loc[:,feat_selector.support_] "
   ]
  },
  {
   "cell_type": "code",
   "execution_count": 60,
   "id": "systematic-sensitivity",
   "metadata": {},
   "outputs": [],
   "source": [
    "# concatenate into 1 df\n",
    "selected_set_TEST = pd.concat([pid_test, y_test, X_test_filtered], axis=1) "
   ]
  },
  {
   "cell_type": "code",
   "execution_count": 61,
   "id": "honey-parts",
   "metadata": {},
   "outputs": [],
   "source": [
    "# save to file\n",
    "selected_set_TEST.to_csv(\"scripts/VM/Python/output/transcriptomics_TopVariance_boruta_selection_{}%_TEST_maxdepth{}.csv\".format(percentage, max_depth))"
   ]
  },
  {
   "cell_type": "code",
   "execution_count": 62,
   "id": "unusual-orbit",
   "metadata": {},
   "outputs": [
    {
     "name": "stdout",
     "output_type": "stream",
     "text": [
      "done\n"
     ]
    }
   ],
   "source": [
    "print(\"done\")"
   ]
  },
  {
   "cell_type": "code",
   "execution_count": null,
   "id": "robust-concord",
   "metadata": {},
   "outputs": [],
   "source": []
  }
 ],
 "metadata": {
  "kernelspec": {
   "display_name": "Python 3",
   "language": "python",
   "name": "python3"
  },
  "language_info": {
   "codemirror_mode": {
    "name": "ipython",
    "version": 3
   },
   "file_extension": ".py",
   "mimetype": "text/x-python",
   "name": "python",
   "nbconvert_exporter": "python",
   "pygments_lexer": "ipython3",
   "version": "3.8.8"
  }
 },
 "nbformat": 4,
 "nbformat_minor": 5
}
