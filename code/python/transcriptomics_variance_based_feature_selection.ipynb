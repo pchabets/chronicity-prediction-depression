{
 "cells": [
  {
   "cell_type": "code",
   "execution_count": 1,
   "id": "false-disclaimer",
   "metadata": {},
   "outputs": [],
   "source": [
    "import os\n",
    "import pandas as pd\n",
    "import numpy as np\n",
    "import seaborn as sns\n",
    "import matplotlib.pyplot as plt\n"
   ]
  },
  {
   "cell_type": "code",
   "execution_count": 2,
   "id": "naked-segment",
   "metadata": {},
   "outputs": [],
   "source": [
    "os.chdir(\"/home/pchabets/Dropbox/STRESS_INDEX/\")"
   ]
  },
  {
   "cell_type": "markdown",
   "id": "intermediate-premium",
   "metadata": {},
   "source": [
    "### Load in transcriptomics data"
   ]
  },
  {
   "cell_type": "code",
   "execution_count": 3,
   "id": "endangered-notion",
   "metadata": {},
   "outputs": [],
   "source": [
    "expr_train = pd.read_csv(\"data/blood_and_saliva_variables/W1/transcriptomics/transcriptomics_2ychronicity_TRAIN.csv\")\n",
    "expr_test = pd.read_csv(\"data/blood_and_saliva_variables/W1/transcriptomics/transcriptomics_2ychronicity_TEST.csv\")"
   ]
  },
  {
   "cell_type": "markdown",
   "id": "hundred-optimum",
   "metadata": {},
   "source": [
    "### Check for highest variance in train data"
   ]
  },
  {
   "cell_type": "code",
   "execution_count": 4,
   "id": "numeric-security",
   "metadata": {},
   "outputs": [
    {
     "data": {
      "text/plain": [
       "XIST.3             11.033642\n",
       "XIST.1             10.722610\n",
       "TXLNG2P.7           6.707330\n",
       "EIF1AY              6.628190\n",
       "HLA.C               5.777277\n",
       "                     ...    \n",
       "NETO1.1             0.013865\n",
       "AC005754.1          0.013729\n",
       "HBB                 0.012588\n",
       "HBB.1               0.011486\n",
       "no_annotation.1     0.010325\n",
       "Length: 44241, dtype: float64"
      ]
     },
     "execution_count": 4,
     "metadata": {},
     "output_type": "execute_result"
    }
   ],
   "source": [
    "probe_variance = expr_train.iloc[:,2:].apply(lambda x: x.var(), axis=0)\n",
    "probe_variance.sort_values(ascending=False)"
   ]
  },
  {
   "cell_type": "code",
   "execution_count": 34,
   "id": "equivalent-notion",
   "metadata": {},
   "outputs": [
    {
     "data": {
      "text/plain": [
       "<AxesSubplot:ylabel='Count'>"
      ]
     },
     "execution_count": 34,
     "metadata": {},
     "output_type": "execute_result"
    },
    {
     "data": {
      "image/png": "[encoded data removed]",
      "text/plain": [
       "<Figure size 1152x576 with 1 Axes>"
      ]
     },
     "metadata": {
      "needs_background": "light"
     },
     "output_type": "display_data"
    }
   ],
   "source": [
    "# plot distribution of variances\n",
    "plt.figure(figsize=(16,8))\n",
    "sns.histplot(probe_variance, bins=1000)"
   ]
  },
  {
   "cell_type": "markdown",
   "id": "preliminary-holiday",
   "metadata": {},
   "source": [
    "### Select only top variance probes "
   ]
  },
  {
   "cell_type": "code",
   "execution_count": 39,
   "id": "smaller-phone",
   "metadata": {},
   "outputs": [],
   "source": [
    "# set top n probes with highest variance\n",
    "top = 5000"
   ]
  },
  {
   "cell_type": "code",
   "execution_count": 40,
   "id": "white-recipe",
   "metadata": {},
   "outputs": [],
   "source": [
    "# select top highest variance probes\n",
    "selected_probes = probe_variance.sort_values(ascending=False)[0:top]"
   ]
  },
  {
   "cell_type": "code",
   "execution_count": 41,
   "id": "prostate-contributor",
   "metadata": {},
   "outputs": [
    {
     "data": {
      "text/plain": [
       "<AxesSubplot:ylabel='Count'>"
      ]
     },
     "execution_count": 41,
     "metadata": {},
     "output_type": "execute_result"
    },
    {
     "data": {
      "image/png": "[encoded data removed]",
      "text/plain": [
       "<Figure size 1152x576 with 1 Axes>"
      ]
     },
     "metadata": {
      "needs_background": "light"
     },
     "output_type": "display_data"
    }
   ],
   "source": [
    "# plot distribution of top variances\n",
    "plt.figure(figsize=(16,8))\n",
    "sns.histplot(probe_variance, bins=1000)\n",
    "sns.histplot(selected_probes, bins=1000, color='red')"
   ]
  },
  {
   "cell_type": "markdown",
   "id": "close-newspaper",
   "metadata": {},
   "source": [
    "### Transform train and test set to only include top variance probes (from train data)"
   ]
  },
  {
   "cell_type": "code",
   "execution_count": 42,
   "id": "forward-miracle",
   "metadata": {},
   "outputs": [],
   "source": [
    "selected_train = expr_train[expr_train.columns[0:2].append(selected_probes.index)]"
   ]
  },
  {
   "cell_type": "code",
   "execution_count": 43,
   "id": "effective-forty",
   "metadata": {},
   "outputs": [],
   "source": [
    "selected_test = expr_test[expr_test.columns[0:2].append(selected_probes.index)]"
   ]
  },
  {
   "cell_type": "markdown",
   "id": "fallen-saturday",
   "metadata": {},
   "source": [
    "### Write to file"
   ]
  },
  {
   "cell_type": "code",
   "execution_count": 44,
   "id": "green-request",
   "metadata": {},
   "outputs": [],
   "source": [
    "# Train \n",
    "selected_train.to_csv(\"scripts/VM/Python/output/transcriptomics_variance_selection_top_{}_TRAIN.csv\".format(top))"
   ]
  },
  {
   "cell_type": "code",
   "execution_count": 45,
   "id": "cross-bosnia",
   "metadata": {},
   "outputs": [],
   "source": [
    "# Test\n",
    "selected_test.to_csv(\"scripts/VM/Python/output/transcriptomics_variance_selection_top_{}_TEST.csv\".format(top))"
   ]
  },
  {
   "cell_type": "code",
   "execution_count": null,
   "id": "promising-julian",
   "metadata": {},
   "outputs": [],
   "source": []
  }
 ],
 "metadata": {
  "kernelspec": {
   "display_name": "Python 3",
   "language": "python",
   "name": "python3"
  },
  "language_info": {
   "codemirror_mode": {
    "name": "ipython",
    "version": 3
   },
   "file_extension": ".py",
   "mimetype": "text/x-python",
   "name": "python",
   "nbconvert_exporter": "python",
   "pygments_lexer": "ipython3",
   "version": "3.8.5"
  }
 },
 "nbformat": 4,
 "nbformat_minor": 5
}
