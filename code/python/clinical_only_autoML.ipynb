{
 "cells": [
  {
   "cell_type": "code",
   "execution_count": 1,
   "id": "yellow-nitrogen",
   "metadata": {},
   "outputs": [],
   "source": [
    "import os\n",
    "import pandas as pd\n",
    "import numpy as np\n",
    "import matplotlib.pyplot as plt \n",
    "import tensorflow as tf\n",
    "\n",
    "import autokeras as ak\n",
    "\n",
    "os.chdir(\"/home/pchabets/Dropbox/STRESS_INDEX/\")"
   ]
  },
  {
   "cell_type": "markdown",
   "id": "selected-member",
   "metadata": {},
   "source": [
    "### Import clinical data \n",
    "#### (exact same split as in R scripts for tree-based models and elastic net)"
   ]
  },
  {
   "cell_type": "code",
   "execution_count": 2,
   "id": "figured-universal",
   "metadata": {},
   "outputs": [],
   "source": [
    "train = pd.read_csv(\"scripts/VM/data/clinical_train_imputed.csv\")\n",
    "test = pd.read_csv(\"scripts/VM/data/clinical_test_imputed.csv\")"
   ]
  },
  {
   "cell_type": "markdown",
   "id": "employed-terminology",
   "metadata": {},
   "source": [
    "#### Turn labels into 0's and 1's for train data only, as Boruta feature selection will based on train set only\n",
    "non-remitted = 0, remitted = 1"
   ]
  },
  {
   "cell_type": "code",
   "execution_count": 3,
   "id": "excited-equipment",
   "metadata": {},
   "outputs": [
    {
     "data": {
      "text/plain": [
       "LabelEncoder()"
      ]
     },
     "execution_count": 3,
     "metadata": {},
     "output_type": "execute_result"
    }
   ],
   "source": [
    "#not_remitted = 0, remitted = 1\n",
    "\n",
    "from sklearn.preprocessing import LabelEncoder\n",
    "lbl = LabelEncoder() \n",
    "lbl.fit(train['Remitted_depression'])"
   ]
  },
  {
   "cell_type": "code",
   "execution_count": 4,
   "id": "accessory-source",
   "metadata": {},
   "outputs": [],
   "source": [
    "train['Remitted_depression'] = lbl.transform(train['Remitted_depression'])\n",
    "test['Remitted_depression'] = lbl.transform(test['Remitted_depression'])"
   ]
  },
  {
   "cell_type": "code",
   "execution_count": 5,
   "id": "innocent-superior",
   "metadata": {},
   "outputs": [],
   "source": [
    "X_train = train.drop(['Remitted_depression'], inplace=False, axis=1)\n",
    "y_train = train['Remitted_depression']"
   ]
  },
  {
   "cell_type": "code",
   "execution_count": 6,
   "id": "moved-italy",
   "metadata": {},
   "outputs": [],
   "source": [
    "X_test = test.drop(['Remitted_depression'], inplace=False, axis=1)\n",
    "y_test = test['Remitted_depression']"
   ]
  },
  {
   "cell_type": "code",
   "execution_count": 7,
   "id": "sophisticated-malawi",
   "metadata": {},
   "outputs": [],
   "source": [
    "# store names for later\n",
    "X_names = X_train.columns"
   ]
  },
  {
   "cell_type": "markdown",
   "id": "expressed-crime",
   "metadata": {},
   "source": [
    "#### Scale non-binary data with MinMax scaling"
   ]
  },
  {
   "cell_type": "code",
   "execution_count": 8,
   "id": "macro-incident",
   "metadata": {},
   "outputs": [
    {
     "data": {
      "text/plain": [
       "MinMaxScaler()"
      ]
     },
     "execution_count": 8,
     "metadata": {},
     "output_type": "execute_result"
    }
   ],
   "source": [
    "from sklearn.preprocessing import MinMaxScaler\n",
    "\n",
    "scaler = MinMaxScaler()\n",
    "scaler.fit(X_train.iloc[:,1:10]) #exclude binary predictor (sex)"
   ]
  },
  {
   "cell_type": "code",
   "execution_count": 9,
   "id": "current-queen",
   "metadata": {},
   "outputs": [],
   "source": [
    "#exclude binary predictor (sex)\n",
    "X_train.iloc[:,1:10] = scaler.transform(X_train.iloc[:,1:10])\n",
    "X_test.iloc[:,1:10] = scaler.transform(X_test.iloc[:,1:10])"
   ]
  },
  {
   "cell_type": "code",
   "execution_count": 10,
   "id": "driving-grain",
   "metadata": {},
   "outputs": [],
   "source": [
    "# Convert back to dataframe\n",
    "X_train = pd.DataFrame(data=X_train,columns=X_names) \n",
    "X_test = pd.DataFrame(data=X_test, columns=X_names)"
   ]
  },
  {
   "cell_type": "markdown",
   "id": "automotive-baking",
   "metadata": {},
   "source": [
    "### Creating the model"
   ]
  },
  {
   "cell_type": "code",
   "execution_count": null,
   "id": "included-archives",
   "metadata": {},
   "outputs": [],
   "source": [
    "# clf = ak.StructuredDataClassifier(overwrite=False, \n",
    "#                                   max_trials=100, \n",
    "#                                   objective='val_accuracy',\n",
    "#                                   directory=\"scripts/VM/Python/output/autokeras\"\n",
    "#                                  )"
   ]
  },
  {
   "cell_type": "code",
   "execution_count": null,
   "id": "raising-samba",
   "metadata": {},
   "outputs": [],
   "source": [
    "# # Feed the structured data classifier with training data.\n",
    "# clf.fit(X_train, y_train, \n",
    "# #         epochs=10, \n",
    "#         validation_split=0.1)"
   ]
  },
  {
   "cell_type": "code",
   "execution_count": 15,
   "id": "electrical-sheet",
   "metadata": {},
   "outputs": [
    {
     "name": "stdout",
     "output_type": "stream",
     "text": [
      "5/5 [==============================] - 0s 9ms/step - loss: 0.6738 - accuracy: 0.6250\n"
     ]
    },
    {
     "data": {
      "text/plain": [
       "[0.6737502813339233, 0.625]"
      ]
     },
     "execution_count": 15,
     "metadata": {},
     "output_type": "execute_result"
    }
   ],
   "source": [
    "# # Evaluate the best model with testing data.\n",
    "# clf.evaluate(X_test, y_test) # these are the same results"
   ]
  },
  {
   "cell_type": "code",
   "execution_count": 17,
   "id": "inclusive-apparel",
   "metadata": {},
   "outputs": [
    {
     "name": "stdout",
     "output_type": "stream",
     "text": [
      "              precision    recall  f1-score   support\n",
      "\n",
      "           0       0.60      0.71      0.65        79\n",
      "           1       0.66      0.54      0.59        81\n",
      "\n",
      "    accuracy                           0.62       160\n",
      "   macro avg       0.63      0.63      0.62       160\n",
      "weighted avg       0.63      0.62      0.62       160\n",
      "\n",
      "[[0.60215054 0.34328358]\n",
      " [0.39784946 0.65671642]]\n"
     ]
    }
   ],
   "source": [
    "# from sklearn.metrics import classification_report,confusion_matrix\n",
    "# print(classification_report(y_test,y_pred=predicted_y))\n",
    "# print(confusion_matrix(y_test,predicted_y, normalize=\"pred\"))"
   ]
  },
  {
   "cell_type": "code",
   "execution_count": null,
   "id": "excessive-program",
   "metadata": {},
   "outputs": [],
   "source": [
    "# # Export as Keras model\n",
    "# model = clf.export_model()"
   ]
  },
  {
   "cell_type": "code",
   "execution_count": 24,
   "id": "historical-macintosh",
   "metadata": {},
   "outputs": [
    {
     "name": "stdout",
     "output_type": "stream",
     "text": [
      "Model: \"model\"\n",
      "_________________________________________________________________\n",
      "Layer (type)                 Output Shape              Param #   \n",
      "=================================================================\n",
      "input_1 (InputLayer)         [(None, 10)]              0         \n",
      "_________________________________________________________________\n",
      "multi_category_encoding (Mul (None, 10)                0         \n",
      "_________________________________________________________________\n",
      "normalization (Normalization (None, 10)                21        \n",
      "_________________________________________________________________\n",
      "dense (Dense)                (None, 32)                352       \n",
      "_________________________________________________________________\n",
      "re_lu (ReLU)                 (None, 32)                0         \n",
      "_________________________________________________________________\n",
      "dense_1 (Dense)              (None, 1)                 33        \n",
      "_________________________________________________________________\n",
      "classification_head_1 (Activ (None, 1)                 0         \n",
      "=================================================================\n",
      "Total params: 406\n",
      "Trainable params: 385\n",
      "Non-trainable params: 21\n",
      "_________________________________________________________________\n"
     ]
    }
   ],
   "source": [
    "# model.summary()"
   ]
  },
  {
   "cell_type": "markdown",
   "id": "micro-builder",
   "metadata": {},
   "source": [
    "### Save model "
   ]
  },
  {
   "cell_type": "code",
   "execution_count": null,
   "id": "activated-bedroom",
   "metadata": {},
   "outputs": [],
   "source": [
    "# try:\n",
    "#     model.save(\"scripts/VM/Python/output/autokeras/model_autokeras_clinical\", save_format=\"tf\")\n",
    "# except Exception:\n",
    "#     model.save(\"scripts/VM/Python/output/autokeras/model_autokeras_clinical.h5\")"
   ]
  },
  {
   "cell_type": "markdown",
   "id": "enabling-reunion",
   "metadata": {},
   "source": [
    "### Load model for further plotting/analysis"
   ]
  },
  {
   "cell_type": "code",
   "execution_count": 11,
   "id": "precise-plenty",
   "metadata": {},
   "outputs": [
    {
     "name": "stdout",
     "output_type": "stream",
     "text": [
      "WARNING:tensorflow:AutoGraph could not transform <bound method MultiCategoryEncoding.call of <autokeras.keras_layers.MultiCategoryEncoding object at 0x7f43a80884c0>> and will run it as-is.\n",
      "Please report this to the TensorFlow team. When filing the bug, set the verbosity to 10 (on Linux, `export AUTOGRAPH_VERBOSITY=10`) and attach the full output.\n",
      "Cause: module 'gast' has no attribute 'Index'\n",
      "To silence this warning, decorate the function with @tf.autograph.experimental.do_not_convert\n",
      "WARNING: AutoGraph could not transform <bound method MultiCategoryEncoding.call of <autokeras.keras_layers.MultiCategoryEncoding object at 0x7f43a80884c0>> and will run it as-is.\n",
      "Please report this to the TensorFlow team. When filing the bug, set the verbosity to 10 (on Linux, `export AUTOGRAPH_VERBOSITY=10`) and attach the full output.\n",
      "Cause: module 'gast' has no attribute 'Index'\n",
      "To silence this warning, decorate the function with @tf.autograph.experimental.do_not_convert\n"
     ]
    }
   ],
   "source": [
    "loaded_model = tf.keras.models.load_model(\"scripts/VM/Python/output/autokeras/model_autokeras_clinical\", \n",
    "                                          custom_objects=ak.CUSTOM_OBJECTS\n",
    "                                         )"
   ]
  },
  {
   "cell_type": "code",
   "execution_count": 12,
   "id": "stock-speaker",
   "metadata": {},
   "outputs": [
    {
     "name": "stdout",
     "output_type": "stream",
     "text": [
      "5/5 [==============================] - 0s 6ms/step - loss: 0.6738 - accuracy: 0.6250\n",
      "accuracy: 62.50%\n"
     ]
    }
   ],
   "source": [
    "# should have the same accuracy as clf -> check.\n",
    "score = loaded_model.evaluate(X_test, y_test)\n",
    "print(\"%s: %.2f%%\" % (loaded_model.metrics_names[1], score[1]*100))"
   ]
  },
  {
   "cell_type": "markdown",
   "id": "understanding-pottery",
   "metadata": {},
   "source": [
    "### Model evaluation"
   ]
  },
  {
   "cell_type": "code",
   "execution_count": 13,
   "id": "entitled-blond",
   "metadata": {},
   "outputs": [],
   "source": [
    "# Predict with the best model.\n",
    "predicted_y = loaded_model.predict(X_test)"
   ]
  },
  {
   "cell_type": "code",
   "execution_count": 14,
   "id": "cognitive-village",
   "metadata": {},
   "outputs": [],
   "source": [
    "# Turn predicted probabilities (between 0 and 1) to binary values (either 0 or 1)\n",
    "predicted_y = [int(i > .5) for i in predicted_y]"
   ]
  },
  {
   "cell_type": "markdown",
   "id": "diverse-trademark",
   "metadata": {},
   "source": [
    "### Plot ROC curve and calculate AUC"
   ]
  },
  {
   "cell_type": "code",
   "execution_count": 15,
   "id": "addressed-mentor",
   "metadata": {},
   "outputs": [],
   "source": [
    "from sklearn.metrics import plot_roc_curve, roc_curve, auc, plot_confusion_matrix, confusion_matrix"
   ]
  },
  {
   "cell_type": "code",
   "execution_count": 16,
   "id": "senior-color",
   "metadata": {},
   "outputs": [],
   "source": [
    "y_pred_keras = loaded_model.predict(X_test).ravel()\n",
    "fpr_keras, tpr_keras, thresholds_keras = roc_curve(y_test, y_pred_keras)\n",
    "auc_keras = auc(fpr_keras, tpr_keras)"
   ]
  },
  {
   "cell_type": "code",
   "execution_count": 17,
   "id": "future-cabinet",
   "metadata": {},
   "outputs": [
    {
     "data": {
      "image/png": "[encoded data removed]",
      "text/plain": [
       "<Figure size 432x432 with 1 Axes>"
      ]
     },
     "metadata": {
      "needs_background": "light"
     },
     "output_type": "display_data"
    }
   ],
   "source": [
    "plt.figure(figsize=(6,6))\n",
    "plt.plot([0, 1], [0, 1], 'k--')\n",
    "plt.plot(fpr_keras, tpr_keras, label='AK-model (AUC = {:.3f})'.format(auc_keras))\n",
    "plt.xlabel('False positive rate')\n",
    "plt.ylabel('True positive rate')\n",
    "plt.title('ROC curve')\n",
    "plt.legend(loc='best')\n",
    "plt.show()"
   ]
  },
  {
   "cell_type": "markdown",
   "id": "differential-surge",
   "metadata": {},
   "source": [
    "### Plot confusion matrix"
   ]
  },
  {
   "cell_type": "code",
   "execution_count": 18,
   "id": "comic-class",
   "metadata": {},
   "outputs": [],
   "source": [
    "cm = confusion_matrix(y_test, predicted_y, normalize=\"pred\", labels=[0, 1])"
   ]
  },
  {
   "cell_type": "code",
   "execution_count": 19,
   "id": "introductory-illustration",
   "metadata": {},
   "outputs": [
    {
     "data": {
      "text/html": [
       "<div>\n",
       "<style scoped>\n",
       "    .dataframe tbody tr th:only-of-type {\n",
       "        vertical-align: middle;\n",
       "    }\n",
       "\n",
       "    .dataframe tbody tr th {\n",
       "        vertical-align: top;\n",
       "    }\n",
       "\n",
       "    .dataframe thead th {\n",
       "        text-align: right;\n",
       "    }\n",
       "</style>\n",
       "<table border=\"1\" class=\"dataframe\">\n",
       "  <thead>\n",
       "    <tr style=\"text-align: right;\">\n",
       "      <th></th>\n",
       "      <th>0</th>\n",
       "      <th>1</th>\n",
       "    </tr>\n",
       "  </thead>\n",
       "  <tbody>\n",
       "    <tr>\n",
       "      <th>0</th>\n",
       "      <td>0.602151</td>\n",
       "      <td>0.343284</td>\n",
       "    </tr>\n",
       "    <tr>\n",
       "      <th>1</th>\n",
       "      <td>0.397849</td>\n",
       "      <td>0.656716</td>\n",
       "    </tr>\n",
       "  </tbody>\n",
       "</table>\n",
       "</div>"
      ],
      "text/plain": [
       "          0         1\n",
       "0  0.602151  0.343284\n",
       "1  0.397849  0.656716"
      ]
     },
     "execution_count": 19,
     "metadata": {},
     "output_type": "execute_result"
    }
   ],
   "source": [
    "#non-remitted = 0, remitted = 1\n",
    "pd.DataFrame(cm)"
   ]
  },
  {
   "cell_type": "code",
   "execution_count": 20,
   "id": "functional-mechanism",
   "metadata": {},
   "outputs": [
    {
     "data": {
      "image/png": "[encoded data removed]",
      "text/plain": [
       "<Figure size 720x504 with 2 Axes>"
      ]
     },
     "metadata": {
      "needs_background": "light"
     },
     "output_type": "display_data"
    }
   ],
   "source": [
    "#Plot confusion matrix\n",
    "import seaborn as sns\n",
    "plt.figure(figsize = (10,7))\n",
    "ax = plt.axes()\n",
    "sns.heatmap(cm, \n",
    "            annot=True,\n",
    "            vmin=0,\n",
    "            vmax=1,\n",
    "            cmap='coolwarm',\n",
    "            xticklabels=['non-remitted', 'remitted'], \n",
    "            yticklabels=['non-remitted', 'remitted'])\n",
    "ax.set(xlabel='PREDICTED', ylabel = 'ACTUAL')\n",
    "sns.set(font_scale=1.8)"
   ]
  },
  {
   "cell_type": "code",
   "execution_count": 21,
   "id": "standard-think",
   "metadata": {},
   "outputs": [
    {
     "name": "stdout",
     "output_type": "stream",
     "text": [
      "Precision: 0.66\n",
      "Recall: 0.54\n",
      "F1 Score: 0.59\n",
      "Accuracy: 0.625\n",
      "Balanced accuracy: 0.63\n"
     ]
    }
   ],
   "source": [
    "from sklearn.metrics import f1_score, accuracy_score, balanced_accuracy_score, recall_score, precision_score\n",
    "\n",
    "print(\"Precision: {}\".format(precision_score(y_test,predicted_y).round(2)))\n",
    "print(\"Recall: {}\".format(recall_score(y_test,predicted_y).round(2)))\n",
    "print(\"F1 Score: {}\".format(f1_score(y_test,predicted_y).round(2)))\n",
    "print(\"Accuracy: {}\".format(accuracy_score(y_test,predicted_y).round(3)))\n",
    "print(\"Balanced accuracy: {}\".format(balanced_accuracy_score(y_test,predicted_y).round(2)))"
   ]
  },
  {
   "cell_type": "markdown",
   "id": "diagnostic-generator",
   "metadata": {},
   "source": [
    "### Create confidence interval for AUC using DeLong's method\n",
    "Original Code found in:\n",
    "https://github.com/yandexdataschool/roc_comparison\n"
   ]
  },
  {
   "cell_type": "code",
   "execution_count": 22,
   "id": "laden-burton",
   "metadata": {},
   "outputs": [],
   "source": [
    "import numpy as np\n",
    "import scipy.stats\n",
    "from scipy import stats\n",
    "\n",
    "# AUC comparison adapted from\n",
    "# https://github.com/Netflix/vmaf/\n",
    "def compute_midrank(x):\n",
    "    \"\"\"Computes midranks.\n",
    "    Args:\n",
    "       x - a 1D numpy array\n",
    "    Returns:\n",
    "       array of midranks\n",
    "    \"\"\"\n",
    "    J = np.argsort(x)\n",
    "    Z = x[J]\n",
    "    N = len(x)\n",
    "    T = np.zeros(N, dtype=np.float)\n",
    "    i = 0\n",
    "    while i < N:\n",
    "        j = i\n",
    "        while j < N and Z[j] == Z[i]:\n",
    "            j += 1\n",
    "        T[i:j] = 0.5*(i + j - 1)\n",
    "        i = j\n",
    "    T2 = np.empty(N, dtype=np.float)\n",
    "    # Note(kazeevn) +1 is due to Python using 0-based indexing\n",
    "    # instead of 1-based in the AUC formula in the paper\n",
    "    T2[J] = T + 1\n",
    "    return T2\n",
    "\n",
    "\n",
    "def compute_midrank_weight(x, sample_weight):\n",
    "    \"\"\"Computes midranks.\n",
    "    Args:\n",
    "       x - a 1D numpy array\n",
    "    Returns:\n",
    "       array of midranks\n",
    "    \"\"\"\n",
    "    J = np.argsort(x)\n",
    "    Z = x[J]\n",
    "    cumulative_weight = np.cumsum(sample_weight[J])\n",
    "    N = len(x)\n",
    "    T = np.zeros(N, dtype=np.float)\n",
    "    i = 0\n",
    "    while i < N:\n",
    "        j = i\n",
    "        while j < N and Z[j] == Z[i]:\n",
    "            j += 1\n",
    "        T[i:j] = cumulative_weight[i:j].mean()\n",
    "        i = j\n",
    "    T2 = np.empty(N, dtype=np.float)\n",
    "    T2[J] = T\n",
    "    return T2\n",
    "\n",
    "\n",
    "def fastDeLong(predictions_sorted_transposed, label_1_count, sample_weight):\n",
    "    if sample_weight is None:\n",
    "        return fastDeLong_no_weights(predictions_sorted_transposed, label_1_count)\n",
    "    else:\n",
    "        return fastDeLong_weights(predictions_sorted_transposed, label_1_count, sample_weight)\n",
    "\n",
    "\n",
    "def fastDeLong_weights(predictions_sorted_transposed, label_1_count, sample_weight):\n",
    "    \"\"\"\n",
    "    The fast version of DeLong's method for computing the covariance of\n",
    "    unadjusted AUC.\n",
    "    Args:\n",
    "       predictions_sorted_transposed: a 2D numpy.array[n_classifiers, n_examples]\n",
    "          sorted such as the examples with label \"1\" are first\n",
    "    Returns:\n",
    "       (AUC value, DeLong covariance)\n",
    "    Reference:\n",
    "     @article{sun2014fast,\n",
    "       title={Fast Implementation of DeLong's Algorithm for\n",
    "              Comparing the Areas Under Correlated Receiver Oerating Characteristic Curves},\n",
    "       author={Xu Sun and Weichao Xu},\n",
    "       journal={IEEE Signal Processing Letters},\n",
    "       volume={21},\n",
    "       number={11},\n",
    "       pages={1389--1393},\n",
    "       year={2014},\n",
    "       publisher={IEEE}\n",
    "     }\n",
    "    \"\"\"\n",
    "    # Short variables are named as they are in the paper\n",
    "    m = label_1_count\n",
    "    n = predictions_sorted_transposed.shape[1] - m\n",
    "    positive_examples = predictions_sorted_transposed[:, :m]\n",
    "    negative_examples = predictions_sorted_transposed[:, m:]\n",
    "    k = predictions_sorted_transposed.shape[0]\n",
    "\n",
    "    tx = np.empty([k, m], dtype=np.float)\n",
    "    ty = np.empty([k, n], dtype=np.float)\n",
    "    tz = np.empty([k, m + n], dtype=np.float)\n",
    "    for r in range(k):\n",
    "        tx[r, :] = compute_midrank_weight(positive_examples[r, :], sample_weight[:m])\n",
    "        ty[r, :] = compute_midrank_weight(negative_examples[r, :], sample_weight[m:])\n",
    "        tz[r, :] = compute_midrank_weight(predictions_sorted_transposed[r, :], sample_weight)\n",
    "    total_positive_weights = sample_weight[:m].sum()\n",
    "    total_negative_weights = sample_weight[m:].sum()\n",
    "    pair_weights = np.dot(sample_weight[:m, np.newaxis], sample_weight[np.newaxis, m:])\n",
    "    total_pair_weights = pair_weights.sum()\n",
    "    aucs = (sample_weight[:m]*(tz[:, :m] - tx)).sum(axis=1) / total_pair_weights\n",
    "    v01 = (tz[:, :m] - tx[:, :]) / total_negative_weights\n",
    "    v10 = 1. - (tz[:, m:] - ty[:, :]) / total_positive_weights\n",
    "    sx = np.cov(v01)\n",
    "    sy = np.cov(v10)\n",
    "    delongcov = sx / m + sy / n\n",
    "    return aucs, delongcov\n",
    "\n",
    "\n",
    "def fastDeLong_no_weights(predictions_sorted_transposed, label_1_count):\n",
    "    \"\"\"\n",
    "    The fast version of DeLong's method for computing the covariance of\n",
    "    unadjusted AUC.\n",
    "    Args:\n",
    "       predictions_sorted_transposed: a 2D numpy.array[n_classifiers, n_examples]\n",
    "          sorted such as the examples with label \"1\" are first\n",
    "    Returns:\n",
    "       (AUC value, DeLong covariance)\n",
    "    Reference:\n",
    "     @article{sun2014fast,\n",
    "       title={Fast Implementation of DeLong's Algorithm for\n",
    "              Comparing the Areas Under Correlated Receiver Oerating\n",
    "              Characteristic Curves},\n",
    "       author={Xu Sun and Weichao Xu},\n",
    "       journal={IEEE Signal Processing Letters},\n",
    "       volume={21},\n",
    "       number={11},\n",
    "       pages={1389--1393},\n",
    "       year={2014},\n",
    "       publisher={IEEE}\n",
    "     }\n",
    "    \"\"\"\n",
    "    # Short variables are named as they are in the paper\n",
    "    m = label_1_count\n",
    "    n = predictions_sorted_transposed.shape[1] - m\n",
    "    positive_examples = predictions_sorted_transposed[:, :m]\n",
    "    negative_examples = predictions_sorted_transposed[:, m:]\n",
    "    k = predictions_sorted_transposed.shape[0]\n",
    "\n",
    "    tx = np.empty([k, m], dtype=np.float)\n",
    "    ty = np.empty([k, n], dtype=np.float)\n",
    "    tz = np.empty([k, m + n], dtype=np.float)\n",
    "    for r in range(k):\n",
    "        tx[r, :] = compute_midrank(positive_examples[r, :])\n",
    "        ty[r, :] = compute_midrank(negative_examples[r, :])\n",
    "        tz[r, :] = compute_midrank(predictions_sorted_transposed[r, :])\n",
    "    aucs = tz[:, :m].sum(axis=1) / m / n - float(m + 1.0) / 2.0 / n\n",
    "    v01 = (tz[:, :m] - tx[:, :]) / n\n",
    "    v10 = 1.0 - (tz[:, m:] - ty[:, :]) / m\n",
    "    sx = np.cov(v01)\n",
    "    sy = np.cov(v10)\n",
    "    delongcov = sx / m + sy / n\n",
    "    return aucs, delongcov\n",
    "\n",
    "\n",
    "def calc_pvalue(aucs, sigma):\n",
    "    \"\"\"Computes log(10) of p-values.\n",
    "    Args:\n",
    "       aucs: 1D array of AUCs\n",
    "       sigma: AUC DeLong covariances\n",
    "    Returns:\n",
    "       log10(pvalue)\n",
    "    \"\"\"\n",
    "    l = np.array([[1, -1]])\n",
    "    z = np.abs(np.diff(aucs)) / np.sqrt(np.dot(np.dot(l, sigma), l.T))\n",
    "    return np.log10(2) + scipy.stats.norm.logsf(z, loc=0, scale=1) / np.log(10)\n",
    "\n",
    "\n",
    "def compute_ground_truth_statistics(ground_truth, sample_weight):\n",
    "    assert np.array_equal(np.unique(ground_truth), [0, 1])\n",
    "    order = (-ground_truth).argsort()\n",
    "    label_1_count = int(ground_truth.sum())\n",
    "    if sample_weight is None:\n",
    "        ordered_sample_weight = None\n",
    "    else:\n",
    "        ordered_sample_weight = sample_weight[order]\n",
    "\n",
    "    return order, label_1_count, ordered_sample_weight\n",
    "\n",
    "\n",
    "def delong_roc_variance(ground_truth, predictions, sample_weight=None):\n",
    "    \"\"\"\n",
    "    Computes ROC AUC variance for a single set of predictions\n",
    "    Args:\n",
    "       ground_truth: np.array of 0 and 1\n",
    "       predictions: np.array of floats of the probability of being class 1\n",
    "    \"\"\"\n",
    "    order, label_1_count, ordered_sample_weight = compute_ground_truth_statistics(\n",
    "        ground_truth, sample_weight)\n",
    "    predictions_sorted_transposed = predictions[np.newaxis, order]\n",
    "    aucs, delongcov = fastDeLong(predictions_sorted_transposed, label_1_count, ordered_sample_weight)\n",
    "    assert len(aucs) == 1, \"There is a bug in the code, please forward this to the developers\"\n",
    "    return aucs[0], delongcov"
   ]
  },
  {
   "cell_type": "code",
   "execution_count": 23,
   "id": "known-economy",
   "metadata": {},
   "outputs": [
    {
     "name": "stdout",
     "output_type": "stream",
     "text": [
      "AUC: 0.6250976715111737\n",
      "AUC COV: 0.0019742624291418723\n",
      "95% AUC CI: [0.53801123 0.71218411]\n"
     ]
    }
   ],
   "source": [
    "alpha = .95\n",
    "y_pred = y_pred_keras\n",
    "y_true = y_test.values.flatten()\n",
    "\n",
    "auc, auc_cov = delong_roc_variance(\n",
    "    y_true,\n",
    "    y_pred)\n",
    "\n",
    "auc_std = np.sqrt(auc_cov)\n",
    "lower_upper_q = np.abs(np.array([0, 1]) - (1 - alpha) / 2)\n",
    "\n",
    "ci = stats.norm.ppf(\n",
    "    lower_upper_q,\n",
    "    loc=auc,\n",
    "    scale=auc_std)\n",
    "\n",
    "ci[ci > 1] = 1\n",
    "\n",
    "print('AUC:', auc)\n",
    "print('AUC COV:', auc_cov)\n",
    "print('95% AUC CI:', ci)\n"
   ]
  },
  {
   "cell_type": "code",
   "execution_count": null,
   "id": "breathing-married",
   "metadata": {},
   "outputs": [],
   "source": []
  },
  {
   "cell_type": "code",
   "execution_count": null,
   "id": "tracked-broadcasting",
   "metadata": {},
   "outputs": [],
   "source": []
  },
  {
   "cell_type": "code",
   "execution_count": null,
   "id": "similar-boating",
   "metadata": {},
   "outputs": [],
   "source": []
  }
 ],
 "metadata": {
  "kernelspec": {
   "display_name": "Python 3",
   "language": "python",
   "name": "python3"
  },
  "language_info": {
   "codemirror_mode": {
    "name": "ipython",
    "version": 3
   },
   "file_extension": ".py",
   "mimetype": "text/x-python",
   "name": "python",
   "nbconvert_exporter": "python",
   "pygments_lexer": "ipython3",
   "version": "3.8.8"
  }
 },
 "nbformat": 4,
 "nbformat_minor": 5
}
